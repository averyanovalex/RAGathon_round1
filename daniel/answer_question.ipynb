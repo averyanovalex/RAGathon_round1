{
 "cells": [
  {
   "metadata": {
    "ExecuteTime": {
     "end_time": "2024-09-04T08:36:11.915722Z",
     "start_time": "2024-09-04T08:36:11.899895Z"
    }
   },
   "cell_type": "code",
   "source": [
    "from dotenv import load_dotenv\n",
    "\n",
    "load_dotenv()"
   ],
   "id": "c5f623ee1b3f9766",
   "outputs": [
    {
     "data": {
      "text/plain": [
       "True"
      ]
     },
     "execution_count": 1,
     "metadata": {},
     "output_type": "execute_result"
    }
   ],
   "execution_count": 1
  },
  {
   "metadata": {
    "ExecuteTime": {
     "end_time": "2024-09-04T08:36:12.000535Z",
     "start_time": "2024-09-04T08:36:11.997220Z"
    }
   },
   "cell_type": "code",
   "source": "OPENAI_MODEL=\"gpt-4o-2024-08-06\"",
   "id": "a65d11edbb8a3f6d",
   "outputs": [],
   "execution_count": 2
  },
  {
   "metadata": {
    "ExecuteTime": {
     "end_time": "2024-09-04T08:36:12.605222Z",
     "start_time": "2024-09-04T08:36:12.122222Z"
    }
   },
   "cell_type": "code",
   "source": [
    "import tiktoken\n",
    "\n",
    "def merge_usage_report_items(items):\n",
    "    return {\n",
    "        \"my_tokens\": sum([i[\"my_tokens\"] for i in items]),\n",
    "        \"prompt_tokens\": sum([i[\"prompt_tokens\"] for i in items]),\n",
    "        \"completion_tokens\": sum([i[\"completion_tokens\"] for i in items]),\n",
    "        \"total_tokens\": sum([i[\"total_tokens\"] for i in items]),\n",
    "        \"total_cost_usd\": sum([i[\"total_cost_usd\"] for i in items]),\n",
    "    }\n",
    "\n",
    "enc = tiktoken.encoding_for_model(OPENAI_MODEL)\n",
    "input_token_cost_usd_per_1m_tokens = 2.5\n",
    "output_token_cost_usd_per_1m_tokens = 10\n",
    "_1m = 1000000\n",
    "\n",
    "def get_usage_report(messages, response):\n",
    "    content = \" \".join([m[\"content\"] for m in messages])\n",
    "    my_tokens = len(enc.encode(content))\n",
    "    print(f\"My Tokens: {my_tokens}\")\n",
    "\n",
    "    prompt_tokens = response.usage.prompt_tokens\n",
    "    print(f\"Prompt Tokens: {prompt_tokens}\")\n",
    "\n",
    "    completion_tokens = response.usage.completion_tokens\n",
    "    print(f\"Completion Tokens: {completion_tokens}\")\n",
    "\n",
    "    prompt_cost_in_usd = (prompt_tokens / _1m) * input_token_cost_usd_per_1m_tokens\n",
    "    completion_cost_in_usd = (completion_tokens / _1m) * output_token_cost_usd_per_1m_tokens\n",
    "    total_cost_usd = prompt_cost_in_usd + completion_cost_in_usd\n",
    "    print(f\"Cost: ${total_cost_usd}\")\n",
    "    \n",
    "    total_tokens = response.usage.total_tokens\n",
    "    \n",
    "    if total_tokens != prompt_tokens + completion_tokens:\n",
    "        print(\"WARN: token counts don't match\")\n",
    "        print(total_tokens)\n",
    "        print(prompt_tokens)\n",
    "        print(completion_tokens)\n",
    "        print(prompt_tokens+completion_tokens)\n",
    "    \n",
    "    return {\n",
    "        \"my_tokens\": my_tokens,\n",
    "        \"prompt_tokens\": prompt_tokens,\n",
    "        \"completion_tokens\": completion_tokens,\n",
    "        \"total_tokens\": total_tokens,\n",
    "        \"total_cost_usd\": total_cost_usd,        \n",
    "    }"
   ],
   "id": "485a0507c1d224a5",
   "outputs": [],
   "execution_count": 3
  },
  {
   "cell_type": "code",
   "id": "initial_id",
   "metadata": {
    "collapsed": true,
    "ExecuteTime": {
     "end_time": "2024-09-04T08:36:12.616162Z",
     "start_time": "2024-09-04T08:36:12.611630Z"
    }
   },
   "source": [
    "import os\n",
    "import json\n",
    "\n",
    "# Define the directory containing the JSON files\n",
    "directory = 'output'\n",
    "\n",
    "# Initialize an empty list to store the dictionaries\n",
    "json_list = []\n",
    "\n",
    "# Iterate over each file in the directory\n",
    "for filename in os.listdir(directory):\n",
    "    if filename.endswith('.json'):  # Check if the file is a JSON file\n",
    "        filepath = os.path.join(directory, filename)\n",
    "        with open(filepath, 'r') as json_file:\n",
    "            data = json.load(json_file)  # Load the JSON file into a dict\n",
    "            json_list.append(data)  # Append the dict to the list\n",
    "\n",
    "# Now json_list contains all the JSON files as dicts\n"
   ],
   "outputs": [],
   "execution_count": 4
  },
  {
   "metadata": {
    "ExecuteTime": {
     "end_time": "2024-09-04T08:36:12.657017Z",
     "start_time": "2024-09-04T08:36:12.654221Z"
    }
   },
   "cell_type": "code",
   "source": [
    "database = [\n",
    "    {\n",
    "        \"company_name\": x[\"company_name\"],\n",
    "        \"data_points\": x[\"data_points\"],\n",
    "#        \"company_role_assignments\": x[\"company_role_assignments\"] if \"company_role_assignments\" in x else None\n",
    "    }\n",
    "    for x in json_list\n",
    "]"
   ],
   "id": "20b9ce6e995c3179",
   "outputs": [],
   "execution_count": 5
  },
  {
   "metadata": {
    "ExecuteTime": {
     "end_time": "2024-09-04T08:36:12.809406Z",
     "start_time": "2024-09-04T08:36:12.702624Z"
    }
   },
   "cell_type": "code",
   "source": [
    "from pydantic import BaseModel\n",
    "from typing import Optional\n",
    "\n",
    "class NumberResponse(BaseModel):\n",
    "    answer: Optional[float]\n",
    "\n",
    "\n",
    "class NameResponse(BaseModel):\n",
    "    person_name: Optional[str]\n",
    "\n",
    "\n",
    "class BooleanResponse(BaseModel):\n",
    "    answer: Optional[bool]\n",
    "\n",
    "def ask_question(question, schema):\n",
    "    system_prompt = (\"You are an assistant with the task of answering QUESTIONS based on a KNOWLEDGE DATABASE. \"\n",
    "                     \"If you cannot answer the question, indicate this with a `null` response.\")\n",
    "\n",
    "             \n",
    "    prompt = (\"QUESTION\\n\\n\"\n",
    "              f\"{question}\\n\\n\"\n",
    "              \"KNOWLEDGE DATABASE\\n\\n\"\n",
    "              f\"{json.dumps(database)}\")\n",
    "    \n",
    "    \n",
    "    from openai import OpenAI\n",
    "    client = OpenAI()\n",
    "    \n",
    "    messages = [\n",
    "        {\"role\": \"system\", \"content\": system_prompt},\n",
    "        {\"role\": \"user\", \"content\": prompt},\n",
    "      ]\n",
    "    \n",
    "    match schema:\n",
    "        case \"number\": \n",
    "            response_format = NumberResponse\n",
    "            value_extractor = lambda x: x.answer\n",
    "        case \"name\": \n",
    "            response_format = NameResponse\n",
    "            value_extractor = lambda x: x.person_name\n",
    "        case \"boolean\": \n",
    "            response_format = BooleanResponse\n",
    "            value_extractor = lambda x: x.answer\n",
    "        case _: raise f\"unknown schema {schema}\"\n",
    "    \n",
    "    response = client.beta.chat.completions.parse(\n",
    "      model=OPENAI_MODEL,\n",
    "      messages=messages,\n",
    "      response_format=response_format\n",
    "    )\n",
    "    \n",
    "    usage_report = get_usage_report(messages, response)\n",
    "    \n",
    "    return value_extractor(response.choices[0].message.parsed), usage_report"
   ],
   "id": "396849557275dcdd",
   "outputs": [],
   "execution_count": 6
  },
  {
   "metadata": {
    "jupyter": {
     "is_executing": true
    },
    "ExecuteTime": {
     "start_time": "2024-09-04T08:36:12.816513Z"
    }
   },
   "cell_type": "code",
   "source": [
    "results = []\n",
    "usage_reports = []\n",
    "\n",
    "with open('samples/questions.json', 'r') as json_file:\n",
    "    items = json.load(json_file)\n",
    "    for item in items:\n",
    "        question = item[\"question\"]\n",
    "        print(question)\n",
    "        answer, usage_report = ask_question(question, item[\"schema\"])\n",
    "        print(answer)\n",
    "        results.append({\n",
    "            \"question\": question,\n",
    "            \"schema\": item[\"schema\"],\n",
    "            \"answer\": \"n/a\" if answer is None else answer\n",
    "        })\n",
    "        usage_reports.append(usage_report)\n",
    "\n",
    "with open('results.json', 'w') as json_file:\n",
    "    json.dump(results, json_file, indent=4)\n",
    "\n",
    "usage_report = {\n",
    "    \"summary\": merge_usage_report_items(usage_reports),\n",
    "    \"details\": usage_reports\n",
    "}\n",
    "\n",
    "with open('usage_report_answer_question.json', 'w') as json_file:\n",
    "    json.dump(usage_report, json_file, indent=4)"
   ],
   "id": "cd1bdfc55a38bac5",
   "outputs": [
    {
     "name": "stdout",
     "output_type": "stream",
     "text": [
      "What was the Net Profit Margin of \"Oesterreichische Kontrollbank\" in June 30, 2023?\n",
      "My Tokens: 24333\n",
      "Prompt Tokens: 24388\n",
      "Completion Tokens: 5\n",
      "Cost: $0.06102\n",
      "None\n",
      "What was the total liabilities of \"CrossFirst Bank\" in the fiscal year 2023?\n",
      "My Tokens: 24328\n",
      "Prompt Tokens: 24383\n",
      "Completion Tokens: 10\n",
      "Cost: $0.0610575\n",
      "5070761400.0\n",
      "How much more did \"Astral Resources NL\" spend on marketing compared to \"TSX_Y\" in June 30, 2021?\n",
      "My Tokens: 24338\n",
      "Prompt Tokens: 24393\n",
      "Completion Tokens: 5\n",
      "Cost: $0.0610325\n",
      "None\n",
      "Which company had a higher free cash flow: \"TSX_ACQ\", \"QUIDELORTHO CORPORATION\" or \"PowerFleet, Inc.\", in the fiscal year 2022?\n",
      "My Tokens: 24348\n",
      "Prompt Tokens: 24405\n",
      "Completion Tokens: 6\n",
      "Cost: $0.061072499999999995\n",
      "None\n",
      "What was the earnings per share (EPS) of \"Holley Inc.\" in June 30, 2023?\n",
      "My Tokens: 24333\n",
      "Prompt Tokens: 24388\n",
      "Completion Tokens: 5\n",
      "Cost: $0.06102\n",
      "None\n",
      "What was the accounts receivable of \"Petra Diamonds\" in the fiscal year 2023?\n",
      "My Tokens: 24329\n",
      "Prompt Tokens: 24384\n",
      "Completion Tokens: 5\n",
      "Cost: $0.06101\n",
      "None\n",
      "How much more did \"Creative Media & Community Trust Corporation\" spend on sustainability initiatives compared to \"BAKER STEEL RESOURCES TRUST LIMITED\" in June 30, 2021?\n"
     ]
    }
   ],
   "execution_count": null
  }
 ],
 "metadata": {
  "kernelspec": {
   "display_name": "Python 3",
   "language": "python",
   "name": "python3"
  },
  "language_info": {
   "codemirror_mode": {
    "name": "ipython",
    "version": 2
   },
   "file_extension": ".py",
   "mimetype": "text/x-python",
   "name": "python",
   "nbconvert_exporter": "python",
   "pygments_lexer": "ipython2",
   "version": "2.7.6"
  }
 },
 "nbformat": 4,
 "nbformat_minor": 5
}
