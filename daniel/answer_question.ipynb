{
 "cells": [
  {
   "metadata": {
    "ExecuteTime": {
     "end_time": "2024-08-29T14:13:18.704938Z",
     "start_time": "2024-08-29T14:13:18.677769Z"
    }
   },
   "cell_type": "code",
   "source": [
    "from dotenv import load_dotenv\n",
    "\n",
    "load_dotenv()"
   ],
   "id": "c5f623ee1b3f9766",
   "outputs": [
    {
     "data": {
      "text/plain": [
       "True"
      ]
     },
     "execution_count": 1,
     "metadata": {},
     "output_type": "execute_result"
    }
   ],
   "execution_count": 1
  },
  {
   "metadata": {
    "ExecuteTime": {
     "end_time": "2024-08-29T14:13:18.729713Z",
     "start_time": "2024-08-29T14:13:18.726440Z"
    }
   },
   "cell_type": "code",
   "source": "OPENAI_MODEL=\"gpt-4o-2024-08-06\"",
   "id": "a65d11edbb8a3f6d",
   "outputs": [],
   "execution_count": 2
  },
  {
   "cell_type": "code",
   "id": "initial_id",
   "metadata": {
    "collapsed": true,
    "ExecuteTime": {
     "end_time": "2024-08-29T14:13:18.878311Z",
     "start_time": "2024-08-29T14:13:18.873922Z"
    }
   },
   "source": [
    "import os\n",
    "import json\n",
    "\n",
    "# Define the directory containing the JSON files\n",
    "directory = 'output'\n",
    "\n",
    "# Initialize an empty list to store the dictionaries\n",
    "json_list = []\n",
    "\n",
    "# Iterate over each file in the directory\n",
    "for filename in os.listdir(directory):\n",
    "    if filename.endswith('.json'):  # Check if the file is a JSON file\n",
    "        filepath = os.path.join(directory, filename)\n",
    "        with open(filepath, 'r') as json_file:\n",
    "            data = json.load(json_file)  # Load the JSON file into a dict\n",
    "            json_list.append(data)  # Append the dict to the list\n",
    "\n",
    "# Now json_list contains all the JSON files as dicts\n"
   ],
   "outputs": [],
   "execution_count": 3
  },
  {
   "metadata": {
    "ExecuteTime": {
     "end_time": "2024-08-29T14:13:18.976638Z",
     "start_time": "2024-08-29T14:13:18.963512Z"
    }
   },
   "cell_type": "code",
   "source": [
    "database = [\n",
    "    {\n",
    "        \"company_name\": x[\"company_name\"],\n",
    "        \"data_points\": x[\"data_points\"],\n",
    "        \"company_role_assignments\": x[\"company_role_assignments\"] if \"company_role_assignments\" in x else None\n",
    "    }\n",
    "    for x in json_list\n",
    "]"
   ],
   "id": "20b9ce6e995c3179",
   "outputs": [],
   "execution_count": 4
  },
  {
   "metadata": {
    "ExecuteTime": {
     "end_time": "2024-08-29T14:13:19.102213Z",
     "start_time": "2024-08-29T14:13:18.991050Z"
    }
   },
   "cell_type": "code",
   "source": [
    "from pydantic import BaseModel\n",
    "\n",
    "class NumberResponse(BaseModel):\n",
    "    answer: float\n",
    "\n",
    "class NameResponse(BaseModel):\n",
    "    person_name: str\n",
    "\n",
    "class BooleanResponse(BaseModel):\n",
    "    answer: bool\n",
    "\n",
    "def ask_question(question, schema):\n",
    "    system_prompt = (\"You are an assistant with the task of answering QUESTIONS based on a KNOWLEDGE DATABASE.\")                     \n",
    "    prompt = (\"QUESTION\\n\\n\"\n",
    "              f\"{question}\\n\\n\"\n",
    "              \"KNOWLEDGE DATABASE\\n\\n\"\n",
    "              f\"{json.dumps(database)}\")\n",
    "    \n",
    "    \n",
    "    from openai import OpenAI\n",
    "    client = OpenAI()\n",
    "    \n",
    "    messages = [\n",
    "        {\"role\": \"system\", \"content\": system_prompt},\n",
    "        {\"role\": \"user\", \"content\": prompt},\n",
    "      ]\n",
    "    \n",
    "    match schema:\n",
    "        case \"number\": \n",
    "            response_format = NumberResponse\n",
    "            value_extractor = lambda x: x.answer\n",
    "        case \"name\": \n",
    "            response_format = NameResponse\n",
    "            value_extractor = lambda x: x.person_name\n",
    "        case \"boolean\": \n",
    "            response_format = BooleanResponse\n",
    "            value_extractor = lambda x: x.answer\n",
    "        case _: raise f\"unknown schema {schema}\"\n",
    "    \n",
    "    response = client.beta.chat.completions.parse(\n",
    "      model=OPENAI_MODEL,\n",
    "      messages=messages,\n",
    "      response_format=response_format\n",
    "    )\n",
    "    \n",
    "    return value_extractor(response.choices[0].message.parsed)"
   ],
   "id": "396849557275dcdd",
   "outputs": [],
   "execution_count": 5
  },
  {
   "metadata": {
    "ExecuteTime": {
     "end_time": "2024-08-29T14:13:59.458673Z",
     "start_time": "2024-08-29T14:13:19.112322Z"
    }
   },
   "cell_type": "code",
   "source": [
    "results = []\n",
    "\n",
    "with open('samples/questions.json', 'r') as json_file:\n",
    "    items = json.load(json_file)\n",
    "    for item in items:\n",
    "        question = item[\"question\"]\n",
    "        print(question)\n",
    "        answer = ask_question(question, item[\"schema\"])\n",
    "        print(answer)\n",
    "        results.append({\n",
    "            \"question\": question,\n",
    "            \"schema\": item[\"schema\"],\n",
    "            \"answer\": answer\n",
    "        })\n",
    "\n",
    "with open('results.json', 'w') as json_file:\n",
    "    json.dump(results, json_file, indent=4)"
   ],
   "id": "cd1bdfc55a38bac5",
   "outputs": [],
   "execution_count": 6
  }
 ],
 "metadata": {
  "kernelspec": {
   "display_name": "Python 3",
   "language": "python",
   "name": "python3"
  },
  "language_info": {
   "codemirror_mode": {
    "name": "ipython",
    "version": 2
   },
   "file_extension": ".py",
   "mimetype": "text/x-python",
   "name": "python",
   "nbconvert_exporter": "python",
   "pygments_lexer": "ipython2",
   "version": "2.7.6"
  }
 },
 "nbformat": 4,
 "nbformat_minor": 5
}
