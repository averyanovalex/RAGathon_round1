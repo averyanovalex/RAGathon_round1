{
 "cells": [
  {
   "metadata": {
    "ExecuteTime": {
     "end_time": "2024-09-03T07:23:03.035601Z",
     "start_time": "2024-09-03T07:23:03.025087Z"
    }
   },
   "cell_type": "code",
   "source": [
    "from dotenv import load_dotenv\n",
    "\n",
    "load_dotenv()"
   ],
   "id": "c5f623ee1b3f9766",
   "outputs": [
    {
     "data": {
      "text/plain": [
       "True"
      ]
     },
     "execution_count": 19,
     "metadata": {},
     "output_type": "execute_result"
    }
   ],
   "execution_count": 19
  },
  {
   "metadata": {
    "ExecuteTime": {
     "end_time": "2024-09-03T07:23:03.085696Z",
     "start_time": "2024-09-03T07:23:03.083035Z"
    }
   },
   "cell_type": "code",
   "source": "OPENAI_MODEL=\"gpt-4o-2024-08-06\"",
   "id": "a65d11edbb8a3f6d",
   "outputs": [],
   "execution_count": 20
  },
  {
   "cell_type": "code",
   "id": "initial_id",
   "metadata": {
    "collapsed": true,
    "ExecuteTime": {
     "end_time": "2024-09-03T07:23:03.139587Z",
     "start_time": "2024-09-03T07:23:03.134657Z"
    }
   },
   "source": [
    "import os\n",
    "import json\n",
    "\n",
    "# Define the directory containing the JSON files\n",
    "directory = 'output'\n",
    "\n",
    "# Initialize an empty list to store the dictionaries\n",
    "json_list = []\n",
    "\n",
    "# Iterate over each file in the directory\n",
    "for filename in os.listdir(directory):\n",
    "    if filename.endswith('.json'):  # Check if the file is a JSON file\n",
    "        filepath = os.path.join(directory, filename)\n",
    "        with open(filepath, 'r') as json_file:\n",
    "            data = json.load(json_file)  # Load the JSON file into a dict\n",
    "            json_list.append(data)  # Append the dict to the list\n",
    "\n",
    "# Now json_list contains all the JSON files as dicts\n"
   ],
   "outputs": [],
   "execution_count": 21
  },
  {
   "metadata": {
    "ExecuteTime": {
     "end_time": "2024-09-03T07:23:03.213696Z",
     "start_time": "2024-09-03T07:23:03.199128Z"
    }
   },
   "cell_type": "code",
   "source": [
    "database = [\n",
    "    {\n",
    "        \"company_name\": x[\"company_name\"],\n",
    "        \"data_points\": x[\"data_points\"],\n",
    "#        \"company_role_assignments\": x[\"company_role_assignments\"] if \"company_role_assignments\" in x else None\n",
    "    }\n",
    "    for x in json_list\n",
    "]"
   ],
   "id": "20b9ce6e995c3179",
   "outputs": [],
   "execution_count": 22
  },
  {
   "metadata": {
    "ExecuteTime": {
     "end_time": "2024-09-03T07:23:03.332295Z",
     "start_time": "2024-09-03T07:23:03.312993Z"
    }
   },
   "cell_type": "code",
   "source": [
    "from pydantic import BaseModel\n",
    "from typing import Optional\n",
    "\n",
    "class NumberResponse(BaseModel):\n",
    "    answer: Optional[float]\n",
    "\n",
    "\n",
    "class NameResponse(BaseModel):\n",
    "    person_name: Optional[str]\n",
    "\n",
    "\n",
    "class BooleanResponse(BaseModel):\n",
    "    answer: Optional[bool]\n",
    "\n",
    "def ask_question(question, schema):\n",
    "    system_prompt = (\"You are an assistant with the task of answering QUESTIONS based on a KNOWLEDGE DATABASE. \"\n",
    "                     \"If you cannot answer the question, indicate this with a `null` response.\")\n",
    "\n",
    "             \n",
    "    prompt = (\"QUESTION\\n\\n\"\n",
    "              f\"{question}\\n\\n\"\n",
    "              \"KNOWLEDGE DATABASE\\n\\n\"\n",
    "              f\"{json.dumps(database)}\")\n",
    "    \n",
    "    \n",
    "    from openai import OpenAI\n",
    "    client = OpenAI()\n",
    "    \n",
    "    messages = [\n",
    "        {\"role\": \"system\", \"content\": system_prompt},\n",
    "        {\"role\": \"user\", \"content\": prompt},\n",
    "      ]\n",
    "    \n",
    "    match schema:\n",
    "        case \"number\": \n",
    "            response_format = NumberResponse\n",
    "            value_extractor = lambda x: x.answer\n",
    "        case \"name\": \n",
    "            response_format = NameResponse\n",
    "            value_extractor = lambda x: x.person_name\n",
    "        case \"boolean\": \n",
    "            response_format = BooleanResponse\n",
    "            value_extractor = lambda x: x.answer\n",
    "        case _: raise f\"unknown schema {schema}\"\n",
    "    \n",
    "    response = client.beta.chat.completions.parse(\n",
    "      model=OPENAI_MODEL,\n",
    "      messages=messages,\n",
    "      response_format=response_format\n",
    "    )\n",
    "    \n",
    "    return value_extractor(response.choices[0].message.parsed)"
   ],
   "id": "396849557275dcdd",
   "outputs": [],
   "execution_count": 23
  },
  {
   "metadata": {
    "ExecuteTime": {
     "end_time": "2024-09-03T07:24:20.379739Z",
     "start_time": "2024-09-03T07:23:03.341015Z"
    }
   },
   "cell_type": "code",
   "source": [
    "results = []\n",
    "\n",
    "with open('samples/questions.json', 'r') as json_file:\n",
    "    items = json.load(json_file)\n",
    "    for item in items:\n",
    "        question = item[\"question\"]\n",
    "        print(question)\n",
    "        answer = ask_question(question, item[\"schema\"])\n",
    "        print(answer)\n",
    "        results.append({\n",
    "            \"question\": question,\n",
    "            \"schema\": item[\"schema\"],\n",
    "            \"answer\": \"n/a\" if answer is None else answer\n",
    "        })\n",
    "\n",
    "with open('results.json', 'w') as json_file:\n",
    "    json.dump(results, json_file, indent=4)"
   ],
   "id": "cd1bdfc55a38bac5",
   "outputs": [
    {
     "name": "stdout",
     "output_type": "stream",
     "text": [
      "What was the Net Profit Margin of \"Oesterreichische Kontrollbank\" in June 30, 2023?\n",
      "None\n",
      "What was the total liabilities of \"CrossFirst Bank\" in the fiscal year 2023?\n",
      "None\n",
      "How much more did \"Astral Resources NL\" spend on marketing compared to \"TSX_Y\" in June 30, 2021?\n",
      "None\n",
      "Which company had a higher free cash flow: \"TSX_ACQ\", \"QUIDELORTHO CORPORATION\" or \"PowerFleet, Inc.\", in the fiscal year 2022?\n",
      "None\n",
      "What was the earnings per share (EPS) of \"Holley Inc.\" in June 30, 2023?\n",
      "None\n",
      "What was the accounts receivable of \"Petra Diamonds\" in the fiscal year 2023?\n",
      "None\n",
      "How much more did \"Creative Media & Community Trust Corporation\" spend on sustainability initiatives compared to \"BAKER STEEL RESOURCES TRUST LIMITED\" in June 30, 2021?\n",
      "None\n",
      "Which company had a higher total liabilities: \"Creative Media & Community Trust Corporation\", \"Sleep Country Canada Holdings Inc.\" or \"Tradition\", in the fiscal year 2023?\n",
      "None\n",
      "What was the Net Profit Margin of \"QUIDELORTHO CORPORATION\" in June 30, 2023?\n",
      "None\n",
      "What was the acquisition costs of \"Safe & Green Holdings Corp.\" in the fiscal year 2021?\n",
      "None\n",
      "How much more did \"Astral Resources NL\" spend on marketing compared to \"TSX_ACQ\" in June 30, 2023?\n",
      "None\n",
      "Which company had a higher shareholders' equity: \"MITSUI O.S.K. LINES\", \"TSX_Y\" or \"Tradition\", in the fiscal year 2022?\n",
      "MITSUI O.S.K. LINES\n",
      "What was the Gross Profit Margin of \"JOURNEY MEDICAL CORPORATION\" in June 30, 2022?\n",
      "None\n",
      "What was the operating cash flow of \"JOURNEY MEDICAL CORPORATION\" in the fiscal year 2023?\n",
      "None\n",
      "How much more did \"Astral Resources NL\" spend on risk management compared to \"Caixa Geral de Depósitos, S.A.\" in June 30, 2023?\n",
      "None\n",
      "Which company had a higher acquisition costs: \"PowerFleet, Inc.\", \"Oesterreichische Kontrollbank\" or \"Astral Resources NL\", in the fiscal year 2023?\n",
      "None\n",
      "What was the Quick Ratio of \"IMUNON, INC.\" in June 30, 2021?\n",
      "None\n",
      "What was the net income of \"Petra Diamonds\" in the fiscal year 2022?\n",
      "100000000.0\n",
      "How much more did \"Sensata\" spend on customer acquisition compared to \"Laserbond\" in June 30, 2022?\n",
      "None\n",
      "Which company had a higher free cash flow: \"Sensata\", \"TransUnion\" or \"First Mid Bancshares, Inc.\", in the fiscal year 2021?\n",
      "Sensata\n",
      "What was the market capitalization of \"Holley Inc.\" in June 30, 2023?\n",
      "560000000.0\n",
      "What was the total assets of \"TransUnion\" in the fiscal year 2023?\n",
      "None\n",
      "How much more did \"BAKER STEEL RESOURCES TRUST LIMITED\" spend on customer acquisition compared to \"Sleep Country Canada Holdings Inc.\" in June 30, 2021?\n",
      "None\n",
      "Which company had a higher research and development expenses: \"MITSUI O.S.K. LINES\", \"Holley Inc.\" or \"First Mid Bancshares, Inc.\", in the fiscal year 2021?\n",
      "Holley Inc.\n",
      "What was the Operating Margin of \"Sleep Country Canada Holdings Inc.\" in June 30, 2022?\n",
      "None\n",
      "What was the intangible assets of \"TransUnion\" in the fiscal year 2021?\n",
      "None\n",
      "How much more did \"PowerFleet, Inc.\" spend on R&D compared to \"JOURNEY MEDICAL CORPORATION\" in June 30, 2022?\n",
      "None\n",
      "Which company had a higher inventories: \"TSX_Y\", \"Mercia Asset Management PLC\" or \"Tradition\", in the fiscal year 2022?\n",
      "None\n",
      "What was the Gross Profit Margin of \"Safe & Green Holdings Corp.\" in June 30, 2022?\n",
      "None\n",
      "What was the total revenue of \"Mercia Asset Management PLC\" in the fiscal year 2021?\n",
      "23410000.0\n",
      "How much more did \"First Mid Bancshares, Inc.\" spend on risk management compared to \"QUIDELORTHO CORPORATION\" in June 30, 2022?\n",
      "None\n",
      "Which company had a higher total liabilities: \"DouYu International Holdings Limited\", \"CrossFirst Bank\" or \"First Mid Bancshares, Inc.\", in the fiscal year 2023?\n",
      "None\n",
      "What was the Return on Assets (ROA) of \"ENRG ELEMENTS LIMITED\" in June 30, 2022?\n",
      "7.9\n",
      "What was the free cash flow of \"Oesterreichische Kontrollbank\" in the fiscal year 2023?\n",
      "None\n",
      "How much more did \"Sensata\" spend on risk management compared to \"Holley Inc.\" in June 30, 2022?\n",
      "None\n",
      "Which company had a higher free cash flow: \"BAKER STEEL RESOURCES TRUST LIMITED\", \"Safe & Green Holdings Corp.\" or \"PowerFleet, Inc.\", in the fiscal year 2021?\n",
      "None\n",
      "What was the Operating Margin of \"Mercia Asset Management PLC\" in June 30, 2021?\n",
      "None\n",
      "What was the free cash flow of \"JOURNEY MEDICAL CORPORATION\" in the fiscal year 2023?\n",
      "None\n",
      "How much more did \"Laserbond\" spend on R&D compared to \"PowerFleet, Inc.\" in June 30, 2021?\n",
      "None\n",
      "Which company had a higher total assets: \"MITSUI O.S.K. LINES\", \"ENRG ELEMENTS LIMITED\" or \"First Mid Bancshares, Inc.\", in the fiscal year 2021?\n",
      "MITSUI O.S.K. LINES\n"
     ]
    }
   ],
   "execution_count": 24
  }
 ],
 "metadata": {
  "kernelspec": {
   "display_name": "Python 3",
   "language": "python",
   "name": "python3"
  },
  "language_info": {
   "codemirror_mode": {
    "name": "ipython",
    "version": 2
   },
   "file_extension": ".py",
   "mimetype": "text/x-python",
   "name": "python",
   "nbconvert_exporter": "python",
   "pygments_lexer": "ipython2",
   "version": "2.7.6"
  }
 },
 "nbformat": 4,
 "nbformat_minor": 5
}
