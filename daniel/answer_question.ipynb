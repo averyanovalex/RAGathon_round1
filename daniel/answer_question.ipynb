{
 "cells": [
  {
   "metadata": {
    "ExecuteTime": {
     "end_time": "2024-08-30T08:37:52.472667Z",
     "start_time": "2024-08-30T08:37:52.442459Z"
    }
   },
   "cell_type": "code",
   "source": [
    "from dotenv import load_dotenv\n",
    "\n",
    "load_dotenv()"
   ],
   "id": "c5f623ee1b3f9766",
   "outputs": [
    {
     "data": {
      "text/plain": [
       "True"
      ]
     },
     "execution_count": 1,
     "metadata": {},
     "output_type": "execute_result"
    }
   ],
   "execution_count": 1
  },
  {
   "metadata": {
    "ExecuteTime": {
     "end_time": "2024-08-30T08:37:52.496682Z",
     "start_time": "2024-08-30T08:37:52.492796Z"
    }
   },
   "cell_type": "code",
   "source": "OPENAI_MODEL=\"gpt-4o-2024-08-06\"",
   "id": "a65d11edbb8a3f6d",
   "outputs": [],
   "execution_count": 2
  },
  {
   "cell_type": "code",
   "id": "initial_id",
   "metadata": {
    "collapsed": true,
    "ExecuteTime": {
     "end_time": "2024-08-30T08:37:52.624180Z",
     "start_time": "2024-08-30T08:37:52.620228Z"
    }
   },
   "source": [
    "import os\n",
    "import json\n",
    "\n",
    "# Define the directory containing the JSON files\n",
    "directory = 'output'\n",
    "\n",
    "# Initialize an empty list to store the dictionaries\n",
    "json_list = []\n",
    "\n",
    "# Iterate over each file in the directory\n",
    "for filename in os.listdir(directory):\n",
    "    if filename.endswith('.json'):  # Check if the file is a JSON file\n",
    "        filepath = os.path.join(directory, filename)\n",
    "        with open(filepath, 'r') as json_file:\n",
    "            data = json.load(json_file)  # Load the JSON file into a dict\n",
    "            json_list.append(data)  # Append the dict to the list\n",
    "\n",
    "# Now json_list contains all the JSON files as dicts\n"
   ],
   "outputs": [],
   "execution_count": 3
  },
  {
   "metadata": {
    "ExecuteTime": {
     "end_time": "2024-08-30T08:37:52.668804Z",
     "start_time": "2024-08-30T08:37:52.666102Z"
    }
   },
   "cell_type": "code",
   "source": [
    "database = [\n",
    "    {\n",
    "        \"company_name\": x[\"company_name\"],\n",
    "        \"data_points\": x[\"data_points\"],\n",
    "        \"company_role_assignments\": x[\"company_role_assignments\"] if \"company_role_assignments\" in x else None\n",
    "    }\n",
    "    for x in json_list\n",
    "]"
   ],
   "id": "20b9ce6e995c3179",
   "outputs": [],
   "execution_count": 4
  },
  {
   "metadata": {
    "ExecuteTime": {
     "end_time": "2024-08-30T08:37:52.788107Z",
     "start_time": "2024-08-30T08:37:52.717759Z"
    }
   },
   "cell_type": "code",
   "source": [
    "from pydantic import BaseModel\n",
    "from typing import Optional\n",
    "\n",
    "class NumberResponse(BaseModel):\n",
    "    answer: Optional[float]\n",
    "\n",
    "\n",
    "class NameResponse(BaseModel):\n",
    "    person_name: Optional[str]\n",
    "\n",
    "\n",
    "class BooleanResponse(BaseModel):\n",
    "    answer: Optional[bool]\n",
    "\n",
    "def ask_question(question, schema):\n",
    "    system_prompt = (\"You are an assistant with the task of answering QUESTIONS based on a KNOWLEDGE DATABASE. \"\n",
    "                     \"If you cannot answer the question, indicate this with a `null` response.\")\n",
    "\n",
    "             \n",
    "    prompt = (\"QUESTION\\n\\n\"\n",
    "              f\"{question}\\n\\n\"\n",
    "              \"KNOWLEDGE DATABASE\\n\\n\"\n",
    "              f\"{json.dumps(database)}\")\n",
    "    \n",
    "    \n",
    "    from openai import OpenAI\n",
    "    client = OpenAI()\n",
    "    \n",
    "    messages = [\n",
    "        {\"role\": \"system\", \"content\": system_prompt},\n",
    "        {\"role\": \"user\", \"content\": prompt},\n",
    "      ]\n",
    "    \n",
    "    match schema:\n",
    "        case \"number\": \n",
    "            response_format = NumberResponse\n",
    "            value_extractor = lambda x: x.answer\n",
    "        case \"name\": \n",
    "            response_format = NameResponse\n",
    "            value_extractor = lambda x: x.person_name\n",
    "        case \"boolean\": \n",
    "            response_format = BooleanResponse\n",
    "            value_extractor = lambda x: x.answer\n",
    "        case _: raise f\"unknown schema {schema}\"\n",
    "    \n",
    "    response = client.beta.chat.completions.parse(\n",
    "      model=OPENAI_MODEL,\n",
    "      messages=messages,\n",
    "      response_format=response_format\n",
    "    )\n",
    "    \n",
    "    return value_extractor(response.choices[0].message.parsed)"
   ],
   "id": "396849557275dcdd",
   "outputs": [],
   "execution_count": 5
  },
  {
   "metadata": {
    "jupyter": {
     "is_executing": true
    },
    "ExecuteTime": {
     "start_time": "2024-08-30T08:37:52.795303Z"
    }
   },
   "cell_type": "code",
   "source": [
    "results = []\n",
    "\n",
    "with open('samples/questions.json', 'r') as json_file:\n",
    "    items = json.load(json_file)\n",
    "    for item in items:\n",
    "        question = item[\"question\"]\n",
    "        print(question)\n",
    "        answer = ask_question(question, item[\"schema\"])\n",
    "        print(answer)\n",
    "        results.append({\n",
    "            \"question\": question,\n",
    "            \"schema\": item[\"schema\"],\n",
    "            \"answer\": answer\n",
    "        })\n",
    "\n",
    "with open('results.json', 'w') as json_file:\n",
    "    json.dump(results, json_file, indent=4)"
   ],
   "id": "cd1bdfc55a38bac5",
   "outputs": [
    {
     "name": "stdout",
     "output_type": "stream",
     "text": [
      "How much did \"Accuray Incorporated\" spend on risk management in Q2 2022?\n",
      "None\n",
      "Who is the CEO in the company \"Zegona Communications plc\"?\n",
      "None\n",
      "Did \"Global Medical REIT Inc.\" have a greater Debt-to-Equity ratio than \"Zegona Communications plc\" in Q2 2021?\n",
      "None\n",
      "How many stores did \"Accuray Incorporated\" have in the end of fiscal year 2021?\n",
      "None\n",
      "How much did \"Sandwell Aquatics Centre\" spend on R&D in Q2 2023?\n",
      "None\n",
      "Who is the CFO in the company \"EMT\"?\n",
      "None\n",
      "Did \"Calyxt, Inc.\" have a greater Return on Assets (ROA) than \"Global Medical REIT Inc.\" in Q2 2023?\n",
      "None\n",
      "How many stores did \"OTC_UNCIF\" have in the end of fiscal year 2022?\n",
      "None\n",
      "How much did \"Accuray Incorporated\" spend on customer acquisition in Q2 2021?\n",
      "None\n",
      "Who is the CEO in the company \"Accuray Incorporated\"?\n",
      "None\n",
      "Did \"Comet Holding AG\" have a greater Operating Margin than \"Ethernity Networks Ltd\" in Q2 2022?\n",
      "None\n",
      "How many stores did \"VENUS METALS CORPORATION LIMITED\" have in the end of fiscal year 2022?\n",
      "None\n",
      "How much did \"Ethernity Networks Ltd\" spend on R&D in Q2 2023?\n",
      "None\n",
      "Who is the COO in the company \"Sandwell Aquatics Centre\"?\n",
      "None\n",
      "Did \"Calyxt, Inc.\" have a greater market capitalization than \"NICE\" in Q2 2022?\n",
      "False\n",
      "How many stores did \"Renishaw plc\" have in the end of fiscal year 2023?\n",
      "None\n",
      "How much did \"TD SYNNEX\" spend on R&D in Q2 2022?\n",
      "None\n",
      "Who is the CFO in the company \"TD SYNNEX\"?\n",
      "None\n",
      "Did \"Eurocell PLC\" have a greater Return on Equity (ROE) than \"Strike Energy Limited\" in Q2 2022?\n"
     ]
    }
   ],
   "execution_count": null
  }
 ],
 "metadata": {
  "kernelspec": {
   "display_name": "Python 3",
   "language": "python",
   "name": "python3"
  },
  "language_info": {
   "codemirror_mode": {
    "name": "ipython",
    "version": 2
   },
   "file_extension": ".py",
   "mimetype": "text/x-python",
   "name": "python",
   "nbconvert_exporter": "python",
   "pygments_lexer": "ipython2",
   "version": "2.7.6"
  }
 },
 "nbformat": 4,
 "nbformat_minor": 5
}
