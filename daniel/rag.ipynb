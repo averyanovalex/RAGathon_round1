{
 "cells": [
  {
   "cell_type": "code",
   "id": "initial_id",
   "metadata": {
    "collapsed": true,
    "ExecuteTime": {
     "end_time": "2024-08-29T11:34:50.109218Z",
     "start_time": "2024-08-29T11:34:50.095736Z"
    }
   },
   "source": [
    "from dotenv import load_dotenv\n",
    "\n",
    "load_dotenv()"
   ],
   "outputs": [
    {
     "data": {
      "text/plain": [
       "True"
      ]
     },
     "execution_count": 32,
     "metadata": {},
     "output_type": "execute_result"
    }
   ],
   "execution_count": 32
  },
  {
   "metadata": {
    "ExecuteTime": {
     "end_time": "2024-08-29T11:34:52.365556Z",
     "start_time": "2024-08-29T11:34:52.360837Z"
    }
   },
   "cell_type": "code",
   "source": "file_path=\"samples/053b7cb83115789346e2a9efc7e2e640851653ff.pdf\"",
   "id": "300cc7a5ad245bae",
   "outputs": [],
   "execution_count": 33
  },
  {
   "metadata": {
    "ExecuteTime": {
     "end_time": "2024-08-29T11:35:05.609532Z",
     "start_time": "2024-08-29T11:34:53.416037Z"
    }
   },
   "cell_type": "code",
   "source": [
    "import PyPDF2\n",
    "\n",
    "text = \"\"\n",
    "with open(file_path, 'rb') as f:\n",
    "    reader = PyPDF2.PdfReader(f, strict=False)\n",
    "    for page in reader.pages:\n",
    "        text += page.extract_text() + \"\\n\""
   ],
   "id": "73aa1ff879683fbb",
   "outputs": [],
   "execution_count": 34
  },
  {
   "metadata": {
    "ExecuteTime": {
     "end_time": "2024-08-29T11:37:55.756937Z",
     "start_time": "2024-08-29T11:37:55.751331Z"
    }
   },
   "cell_type": "code",
   "source": "OPENAI_MODEL=\"gpt-4o-2024-08-06\"",
   "id": "da8cea1c74a874e0",
   "outputs": [],
   "execution_count": 41
  },
  {
   "metadata": {
    "ExecuteTime": {
     "end_time": "2024-08-29T11:35:12.356944Z",
     "start_time": "2024-08-29T11:35:12.339253Z"
    }
   },
   "cell_type": "code",
   "source": [
    "import tiktoken\n",
    "\n",
    "enc = tiktoken.encoding_for_model(OPENAI_MODEL)\n",
    "def prompt_info(messages):\n",
    "    content = \" \".join([m[\"content\"] for m in messages])\n",
    "    tokens = len(enc.encode(content))\n",
    "    print(f\"Tokens: {tokens}\")\n",
    "    cost_in_eur = (tokens / 1000000)*5 \n",
    "    print(f\"Cost: {cost_in_eur}€\")"
   ],
   "id": "a7a2ffc328682dd5",
   "outputs": [],
   "execution_count": 36
  },
  {
   "metadata": {
    "ExecuteTime": {
     "end_time": "2024-08-29T11:36:08.953620Z",
     "start_time": "2024-08-29T11:36:08.944083Z"
    }
   },
   "cell_type": "code",
   "source": [
    "# FIRST ATTEMPT\n",
    "\n",
    "# system_prompt = (\"You are an assistant with the task of extracting precise information from long documents. \"\n",
    "#                  \"You will be prompted with a USER QUESTION and a DOCUMENT. Your task is to answer the USER QUESTION \"\n",
    "#                  \"precisely and concisely, using only information from the DOCUMENT. If the document does not contain \"\n",
    "#                  \"enough information to answer the question, answer only with the text 'N/A'.\")\n",
    "# \n",
    "# \n",
    "# question = \"What was the total revenue in 2022?\"\n",
    "# \n",
    "# prompt = (\"USER QUESTION\\n\\n\"\n",
    "#           f\"{question}\\n\\n\"\n",
    "#           \"DOCUMENT\\n\\n\"\n",
    "#           f\"{text}\")\n",
    "# \n",
    "# from openai import OpenAI\n",
    "# client = OpenAI()\n",
    "# \n",
    "# messages = [\n",
    "#     {\"role\": \"system\", \"content\": system_prompt},\n",
    "#     {\"role\": \"user\", \"content\": prompt},\n",
    "#   ]\n",
    "# \n",
    "# prompt_info(messages)"
   ],
   "id": "e4d92c8b9fa4ec84",
   "outputs": [],
   "execution_count": 37
  },
  {
   "metadata": {
    "ExecuteTime": {
     "end_time": "2024-08-29T11:43:45.464277Z",
     "start_time": "2024-08-29T11:43:45.438368Z"
    }
   },
   "cell_type": "code",
   "source": [
    "from pydantic import BaseModel\n",
    "from typing import Optional\n",
    "from enum import Enum\n",
    "\n",
    "class FinMetric(str, Enum):\n",
    "    total_revenue = \"total revenue\"\n",
    "    net_income = \"net income\"\n",
    "    total_assets = \"total assets\"\n",
    "    total_liabilities = \"total liabilities\"\n",
    "    shareholders_equity = \"shareholders' equity\"\n",
    "    intangible_assets = \"intangible assets\"\n",
    "    inventories = \"inventories\"\n",
    "    accounts_receivable = \"accounts receivable\"\n",
    "    accounts_payable = \"accounts payable\"\n",
    "    operating_cash_flow = \"operating cash flow\"\n",
    "    free_cash_flow = \"free cash flow\"\n",
    "    capital_expenditures = \"capital expenditures\"\n",
    "    rad_expenses = \"research and development expenses\"\n",
    "    marketing_expenses = \"marketing expenses\"\n",
    "    acquisition_costs = \"acquisition costs\"\n",
    "\n",
    "class Currency(str, Enum):\n",
    "    euro = \"EUR\"\n",
    "    us_dollar = \"USD\"\n",
    "    other = \"OTHER\"\n",
    "\n",
    "class DocumentDataPoint(BaseModel):\n",
    "    metric_type: FinMetric\n",
    "    value: float\n",
    "    currency: Optional[Currency]\n",
    "    point_in_time_as_iso_date: str\n",
    "\n",
    "class DocumentContent(BaseModel):\n",
    "    data_points: list[DocumentDataPoint]"
   ],
   "id": "3754c275b4be0d9b",
   "outputs": [
    {
     "ename": "ImportError",
     "evalue": "cannot import name 'StrEnum' from 'enum' (/usr/lib/python3.10/enum.py)",
     "output_type": "error",
     "traceback": [
      "\u001B[0;31m---------------------------------------------------------------------------\u001B[0m",
      "\u001B[0;31mImportError\u001B[0m                               Traceback (most recent call last)",
      "Cell \u001B[0;32mIn[48], line 3\u001B[0m\n\u001B[1;32m      1\u001B[0m \u001B[38;5;28;01mfrom\u001B[39;00m \u001B[38;5;21;01mpydantic\u001B[39;00m \u001B[38;5;28;01mimport\u001B[39;00m BaseModel\n\u001B[1;32m      2\u001B[0m \u001B[38;5;28;01mfrom\u001B[39;00m \u001B[38;5;21;01mtyping\u001B[39;00m \u001B[38;5;28;01mimport\u001B[39;00m Optional\n\u001B[0;32m----> 3\u001B[0m \u001B[38;5;28;01mfrom\u001B[39;00m \u001B[38;5;21;01menum\u001B[39;00m \u001B[38;5;28;01mimport\u001B[39;00m Enum, StrEnum\n\u001B[1;32m      5\u001B[0m \u001B[38;5;28;01mclass\u001B[39;00m \u001B[38;5;21;01mFinMetric\u001B[39;00m(StrEnum):\n\u001B[1;32m      6\u001B[0m     total_revenue \u001B[38;5;241m=\u001B[39m \u001B[38;5;124m\"\u001B[39m\u001B[38;5;124mtotal revenue\u001B[39m\u001B[38;5;124m\"\u001B[39m\n",
      "\u001B[0;31mImportError\u001B[0m: cannot import name 'StrEnum' from 'enum' (/usr/lib/python3.10/enum.py)"
     ]
    }
   ],
   "execution_count": 48
  },
  {
   "metadata": {
    "ExecuteTime": {
     "end_time": "2024-08-29T11:39:35.723555Z",
     "start_time": "2024-08-29T11:39:35.581742Z"
    }
   },
   "cell_type": "code",
   "source": [
    "system_prompt = (\"You are an assistant with the task of extracting precise information from long documents. \"\n",
    "                 \"You will be prompted with the contents of a document. Your task is to extract financial metrics \"\n",
    "                 \"from this document. With each metric, supply the point in time when the metric was measured according\"\n",
    "                 \"to the document, as well as the currency (if applicable).\")\n",
    "\n",
    "from openai import OpenAI\n",
    "client = OpenAI()\n",
    "\n",
    "messages = [\n",
    "    {\"role\": \"system\", \"content\": system_prompt},\n",
    "    {\"role\": \"user\", \"content\": text},\n",
    "  ]\n",
    "\n",
    "prompt_info(messages)"
   ],
   "id": "6a634b01c9d7840a",
   "outputs": [
    {
     "name": "stdout",
     "output_type": "stream",
     "text": [
      "Tokens: 79633\n",
      "Cost: 0.398165€\n"
     ]
    }
   ],
   "execution_count": 45
  },
  {
   "metadata": {
    "ExecuteTime": {
     "end_time": "2024-08-29T11:40:00.026656Z",
     "start_time": "2024-08-29T11:39:37.436849Z"
    }
   },
   "cell_type": "code",
   "source": [
    "response = client.beta.chat.completions.parse(\n",
    "  model=OPENAI_MODEL,\n",
    "  messages=messages,\n",
    "  response_format=DocumentContent\n",
    ")\n",
    "\n",
    "print(response.choices[0].message.parsed)"
   ],
   "id": "4c4bca8ac294162d",
   "outputs": [
    {
     "name": "stdout",
     "output_type": "stream",
     "text": [
      "data_points=[DocumentDataPoint(metric_type=<FinMetric.total_revenue: 'total revenue'>, value=137283000.0, currency=<Currency.us_dollar: 'USD'>, point_in_time_as_iso_date='2022-12-31'), DocumentDataPoint(metric_type=<FinMetric.net_income: 'net income'>, value=19996000.0, currency=<Currency.us_dollar: 'USD'>, point_in_time_as_iso_date='2022-12-31'), DocumentDataPoint(metric_type=<FinMetric.total_assets: 'total assets'>, value=1393261000.0, currency=<Currency.us_dollar: 'USD'>, point_in_time_as_iso_date='2022-12-31'), DocumentDataPoint(metric_type=<FinMetric.total_liabilities: 'total liabilities'>, value=744196000.0, currency=<Currency.us_dollar: 'USD'>, point_in_time_as_iso_date='2022-12-31'), DocumentDataPoint(metric_type=<FinMetric.shareholders_equity: \"shareholders' equity\">, value=649065000.0, currency=<Currency.us_dollar: 'USD'>, point_in_time_as_iso_date='2022-12-31'), DocumentDataPoint(metric_type=<FinMetric.operating_cash_flow: 'operating cash flow'>, value=76541000.0, currency=<Currency.us_dollar: 'USD'>, point_in_time_as_iso_date='2022-12-31'), DocumentDataPoint(metric_type=<FinMetric.capital_expenditures: 'capital expenditures'>, value=185201000.0, currency=<Currency.us_dollar: 'USD'>, point_in_time_as_iso_date='2022-12-31'), DocumentDataPoint(metric_type=<FinMetric.total_revenue: 'total revenue'>, value=115936000.0, currency=<Currency.us_dollar: 'USD'>, point_in_time_as_iso_date='2021-12-31'), DocumentDataPoint(metric_type=<FinMetric.net_income: 'net income'>, value=18342000.0, currency=<Currency.us_dollar: 'USD'>, point_in_time_as_iso_date='2021-12-31'), DocumentDataPoint(metric_type=<FinMetric.total_assets: 'total assets'>, value=1263485000.0, currency=<Currency.us_dollar: 'USD'>, point_in_time_as_iso_date='2021-12-31'), DocumentDataPoint(metric_type=<FinMetric.total_liabilities: 'total liabilities'>, value=625908000.0, currency=<Currency.us_dollar: 'USD'>, point_in_time_as_iso_date='2021-12-31'), DocumentDataPoint(metric_type=<FinMetric.shareholders_equity: \"shareholders' equity\">, value=637577000.0, currency=<Currency.us_dollar: 'USD'>, point_in_time_as_iso_date='2021-12-31'), DocumentDataPoint(metric_type=<FinMetric.operating_cash_flow: 'operating cash flow'>, value=68967000.0, currency=<Currency.us_dollar: 'USD'>, point_in_time_as_iso_date='2021-12-31'), DocumentDataPoint(metric_type=<FinMetric.capital_expenditures: 'capital expenditures'>, value=209971000.0, currency=<Currency.us_dollar: 'USD'>, point_in_time_as_iso_date='2021-12-31')]\n"
     ]
    }
   ],
   "execution_count": 46
  },
  {
   "metadata": {
    "ExecuteTime": {
     "end_time": "2024-08-29T11:55:28.996624Z",
     "start_time": "2024-08-29T11:55:28.992430Z"
    }
   },
   "cell_type": "code",
   "source": [
    "formatted = {\n",
    "    \"data_points\": [\n",
    "        {\n",
    "            \"metric_type\": x.metric_type.value,\n",
    "            \"value\": x.value,\n",
    "            \"currency\": x.currency.value,\n",
    "            \"point_in_time\": x.point_in_time_as_iso_date\n",
    "        }\n",
    "        for x in response.choices[0].message.parsed.data_points\n",
    "    ]\n",
    "} \n",
    "\n",
    "print(formatted)"
   ],
   "id": "8d88095e2f693e1c",
   "outputs": [
    {
     "name": "stdout",
     "output_type": "stream",
     "text": [
      "{'data_points': [{'metric_type': 'total revenue', 'value': 137283000.0, 'currency': 'USD', 'point_in_time': '2022-12-31'}, {'metric_type': 'net income', 'value': 19996000.0, 'currency': 'USD', 'point_in_time': '2022-12-31'}, {'metric_type': 'total assets', 'value': 1393261000.0, 'currency': 'USD', 'point_in_time': '2022-12-31'}, {'metric_type': 'total liabilities', 'value': 744196000.0, 'currency': 'USD', 'point_in_time': '2022-12-31'}, {'metric_type': \"shareholders' equity\", 'value': 649065000.0, 'currency': 'USD', 'point_in_time': '2022-12-31'}, {'metric_type': 'operating cash flow', 'value': 76541000.0, 'currency': 'USD', 'point_in_time': '2022-12-31'}, {'metric_type': 'capital expenditures', 'value': 185201000.0, 'currency': 'USD', 'point_in_time': '2022-12-31'}, {'metric_type': 'total revenue', 'value': 115936000.0, 'currency': 'USD', 'point_in_time': '2021-12-31'}, {'metric_type': 'net income', 'value': 18342000.0, 'currency': 'USD', 'point_in_time': '2021-12-31'}, {'metric_type': 'total assets', 'value': 1263485000.0, 'currency': 'USD', 'point_in_time': '2021-12-31'}, {'metric_type': 'total liabilities', 'value': 625908000.0, 'currency': 'USD', 'point_in_time': '2021-12-31'}, {'metric_type': \"shareholders' equity\", 'value': 637577000.0, 'currency': 'USD', 'point_in_time': '2021-12-31'}, {'metric_type': 'operating cash flow', 'value': 68967000.0, 'currency': 'USD', 'point_in_time': '2021-12-31'}, {'metric_type': 'capital expenditures', 'value': 209971000.0, 'currency': 'USD', 'point_in_time': '2021-12-31'}]}\n"
     ]
    }
   ],
   "execution_count": 60
  },
  {
   "metadata": {
    "ExecuteTime": {
     "end_time": "2024-08-29T11:50:45.651338Z",
     "start_time": "2024-08-29T11:50:45.648206Z"
    }
   },
   "cell_type": "code",
   "source": "print(FinMetric.accounts_payable.value)",
   "id": "10fc35bb6244e79c",
   "outputs": [
    {
     "name": "stdout",
     "output_type": "stream",
     "text": [
      "accounts payable\n"
     ]
    }
   ],
   "execution_count": 55
  }
 ],
 "metadata": {
  "kernelspec": {
   "display_name": "Python 3",
   "language": "python",
   "name": "python3"
  },
  "language_info": {
   "codemirror_mode": {
    "name": "ipython",
    "version": 2
   },
   "file_extension": ".py",
   "mimetype": "text/x-python",
   "name": "python",
   "nbconvert_exporter": "python",
   "pygments_lexer": "ipython2",
   "version": "2.7.6"
  }
 },
 "nbformat": 4,
 "nbformat_minor": 5
}
