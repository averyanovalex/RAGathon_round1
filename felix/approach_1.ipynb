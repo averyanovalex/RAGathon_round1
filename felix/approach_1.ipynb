{
 "cells": [
  {
   "cell_type": "code",
   "id": "initial_id",
   "metadata": {
    "collapsed": true,
    "ExecuteTime": {
     "end_time": "2024-09-02T11:50:45.943170Z",
     "start_time": "2024-09-02T11:50:41.444994Z"
    }
   },
   "source": [
    "import os\n",
    "import PyPDF2\n",
    "import markdown2\n",
    "import json\n",
    "import pickle\n",
    "import pandas as pd\n",
    "\n",
    "from docx import Document as DocxDocument\n",
    "from pptx import Presentation\n",
    "\n",
    "from langchain_core.documents import Document\n",
    "from langchain.text_splitter import RecursiveCharacterTextSplitter\n",
    "from langchain_community.vectorstores import FAISS\n",
    "from langchain_openai.embeddings.base import OpenAIEmbeddings\n",
    "\n",
    "from langchain.chains import create_retrieval_chain\n",
    "from langchain.chains.combine_documents import create_stuff_documents_chain\n",
    "from langchain_core.prompts import ChatPromptTemplate\n",
    "from langchain_openai import ChatOpenAI\n",
    "\n",
    "# Rinats well documented sample project\n",
    "# https://github.com/trustbit/private-poc-fmw-content-generator/tree/main/backend-and-kb/src/fmw\n",
    "\n",
    "from dotenv import load_dotenv\n",
    "\n",
    "load_dotenv()"
   ],
   "outputs": [
    {
     "data": {
      "text/plain": [
       "True"
      ]
     },
     "execution_count": 1,
     "metadata": {},
     "output_type": "execute_result"
    }
   ],
   "execution_count": 1
  },
  {
   "metadata": {},
   "cell_type": "markdown",
   "source": "## Get Companies",
   "id": "26b7a2f7be3b6375"
  },
  {
   "metadata": {
    "ExecuteTime": {
     "end_time": "2024-09-02T11:50:45.963782Z",
     "start_time": "2024-09-02T11:50:45.945879Z"
    }
   },
   "cell_type": "code",
   "source": "SAMPLES_PATH = r\"C:\\Users\\felix.krause\\code\\trustbit\\enterprise-rag-challenge\\samples\"",
   "id": "91e93d8a358bfc66",
   "outputs": [],
   "execution_count": 2
  },
  {
   "metadata": {
    "ExecuteTime": {
     "end_time": "2024-09-02T11:50:46.008375Z",
     "start_time": "2024-09-02T11:50:45.963782Z"
    }
   },
   "cell_type": "code",
   "source": [
    "df = pd.read_csv(\"data/dataset.csv\") \n",
    "df"
   ],
   "id": "187267224fd86013",
   "outputs": [
    {
     "data": {
      "text/plain": [
       "                                          sha1        date  \\\n",
       "0     ce9e5024041b2ece2bafa2a9d9516bb174ee8949  2022-10-31   \n",
       "1     f71415f9ca0cff70e5fa193616b6197f361130ed  2023-02-21   \n",
       "2     4a9d2b853e05970776121a810460f0962a18c5a1     2022-XX   \n",
       "3     f973dd219c534accb0d4e72d8e12f51284d48d10  2023-01-01   \n",
       "4     4e27f4c3402c657d548760cb3a164b036cefaabb  2022-12-31   \n",
       "...                                        ...         ...   \n",
       "7490  a2afcd8165a6dbd0058682680b65d3638a5800eb  2023-02-02   \n",
       "7491  215df84494756bd4feebc973657835ef7f14ee16  2022-12-31   \n",
       "7492  20fb970d8705289e835b408c575351295ac16f5f  2022-09-30   \n",
       "7493  c7f3a8c0a38c756438950ce3085076adb4241a32  2022-01-01   \n",
       "7494  e26bd02b24e45a09c4b860c4763b542deba6f14a  2022-12-31   \n",
       "\n",
       "                                     name      size  \n",
       "0                 Anixa Biosciences, Inc.   3996701  \n",
       "1     Maravai LifeSciences Holdings, Inc.   4033642  \n",
       "2                         KLA Corporation   1181894  \n",
       "3                          Ameresco, Inc.  10648267  \n",
       "4                Battery Minerals Limited   3650701  \n",
       "...                                   ...       ...  \n",
       "7490               Arrow Electronics, Inc    922750  \n",
       "7491                             Synertec  10474497  \n",
       "7492                      TE Connectivity   5753097  \n",
       "7493                            OTC_ADDDF  12603054  \n",
       "7494                    Taylor Wimpey plc   7845106  \n",
       "\n",
       "[7495 rows x 4 columns]"
      ],
      "text/html": [
       "<div>\n",
       "<style scoped>\n",
       "    .dataframe tbody tr th:only-of-type {\n",
       "        vertical-align: middle;\n",
       "    }\n",
       "\n",
       "    .dataframe tbody tr th {\n",
       "        vertical-align: top;\n",
       "    }\n",
       "\n",
       "    .dataframe thead th {\n",
       "        text-align: right;\n",
       "    }\n",
       "</style>\n",
       "<table border=\"1\" class=\"dataframe\">\n",
       "  <thead>\n",
       "    <tr style=\"text-align: right;\">\n",
       "      <th></th>\n",
       "      <th>sha1</th>\n",
       "      <th>date</th>\n",
       "      <th>name</th>\n",
       "      <th>size</th>\n",
       "    </tr>\n",
       "  </thead>\n",
       "  <tbody>\n",
       "    <tr>\n",
       "      <th>0</th>\n",
       "      <td>ce9e5024041b2ece2bafa2a9d9516bb174ee8949</td>\n",
       "      <td>2022-10-31</td>\n",
       "      <td>Anixa Biosciences, Inc.</td>\n",
       "      <td>3996701</td>\n",
       "    </tr>\n",
       "    <tr>\n",
       "      <th>1</th>\n",
       "      <td>f71415f9ca0cff70e5fa193616b6197f361130ed</td>\n",
       "      <td>2023-02-21</td>\n",
       "      <td>Maravai LifeSciences Holdings, Inc.</td>\n",
       "      <td>4033642</td>\n",
       "    </tr>\n",
       "    <tr>\n",
       "      <th>2</th>\n",
       "      <td>4a9d2b853e05970776121a810460f0962a18c5a1</td>\n",
       "      <td>2022-XX</td>\n",
       "      <td>KLA Corporation</td>\n",
       "      <td>1181894</td>\n",
       "    </tr>\n",
       "    <tr>\n",
       "      <th>3</th>\n",
       "      <td>f973dd219c534accb0d4e72d8e12f51284d48d10</td>\n",
       "      <td>2023-01-01</td>\n",
       "      <td>Ameresco, Inc.</td>\n",
       "      <td>10648267</td>\n",
       "    </tr>\n",
       "    <tr>\n",
       "      <th>4</th>\n",
       "      <td>4e27f4c3402c657d548760cb3a164b036cefaabb</td>\n",
       "      <td>2022-12-31</td>\n",
       "      <td>Battery Minerals Limited</td>\n",
       "      <td>3650701</td>\n",
       "    </tr>\n",
       "    <tr>\n",
       "      <th>...</th>\n",
       "      <td>...</td>\n",
       "      <td>...</td>\n",
       "      <td>...</td>\n",
       "      <td>...</td>\n",
       "    </tr>\n",
       "    <tr>\n",
       "      <th>7490</th>\n",
       "      <td>a2afcd8165a6dbd0058682680b65d3638a5800eb</td>\n",
       "      <td>2023-02-02</td>\n",
       "      <td>Arrow Electronics, Inc</td>\n",
       "      <td>922750</td>\n",
       "    </tr>\n",
       "    <tr>\n",
       "      <th>7491</th>\n",
       "      <td>215df84494756bd4feebc973657835ef7f14ee16</td>\n",
       "      <td>2022-12-31</td>\n",
       "      <td>Synertec</td>\n",
       "      <td>10474497</td>\n",
       "    </tr>\n",
       "    <tr>\n",
       "      <th>7492</th>\n",
       "      <td>20fb970d8705289e835b408c575351295ac16f5f</td>\n",
       "      <td>2022-09-30</td>\n",
       "      <td>TE Connectivity</td>\n",
       "      <td>5753097</td>\n",
       "    </tr>\n",
       "    <tr>\n",
       "      <th>7493</th>\n",
       "      <td>c7f3a8c0a38c756438950ce3085076adb4241a32</td>\n",
       "      <td>2022-01-01</td>\n",
       "      <td>OTC_ADDDF</td>\n",
       "      <td>12603054</td>\n",
       "    </tr>\n",
       "    <tr>\n",
       "      <th>7494</th>\n",
       "      <td>e26bd02b24e45a09c4b860c4763b542deba6f14a</td>\n",
       "      <td>2022-12-31</td>\n",
       "      <td>Taylor Wimpey plc</td>\n",
       "      <td>7845106</td>\n",
       "    </tr>\n",
       "  </tbody>\n",
       "</table>\n",
       "<p>7495 rows × 4 columns</p>\n",
       "</div>"
      ]
     },
     "execution_count": 3,
     "metadata": {},
     "output_type": "execute_result"
    }
   ],
   "execution_count": 3
  },
  {
   "metadata": {
    "ExecuteTime": {
     "end_time": "2024-09-02T11:50:46.030606Z",
     "start_time": "2024-09-02T11:50:46.008375Z"
    }
   },
   "cell_type": "code",
   "source": [
    "# load all file names in the folder\n",
    "sha1_dict_full = df.set_index(\"sha1\").to_dict()[\"name\"]\n",
    "\n",
    "included_companies = []\n",
    "\n",
    "for file in os.listdir(SAMPLES_PATH):\n",
    "    file = file[:-4]\n",
    "    try:\n",
    "        included_companies.append(sha1_dict_full[file])\n",
    "    except KeyError:\n",
    "        print(file)"
   ],
   "id": "2d83133d4cc076ae",
   "outputs": [
    {
     "name": "stdout",
     "output_type": "stream",
     "text": [
      "questions.\n"
     ]
    }
   ],
   "execution_count": 4
  },
  {
   "metadata": {
    "ExecuteTime": {
     "end_time": "2024-09-02T11:50:46.045864Z",
     "start_time": "2024-09-02T11:50:46.032885Z"
    }
   },
   "cell_type": "code",
   "source": "included_companies",
   "id": "eed227e797331902",
   "outputs": [
    {
     "data": {
      "text/plain": [
       "['Global Medical REIT Inc.',\n",
       " 'Zegona Communications plc',\n",
       " 'Calyxt, Inc.',\n",
       " 'TD SYNNEX',\n",
       " 'Eurocell PLC',\n",
       " 'Sandwell Aquatics Centre',\n",
       " 'Mercurity Fintech Holding Inc.',\n",
       " 'Motus GI Holdings, Inc.',\n",
       " 'Limbach Holdings, Inc.',\n",
       " 'Strike Energy Limited',\n",
       " 'Platform Technology',\n",
       " 'VENUS METALS CORPORATION LIMITED',\n",
       " 'NICE',\n",
       " 'Nykredit',\n",
       " 'Air Products',\n",
       " 'Accuray Incorporated',\n",
       " 'Kooth Plc',\n",
       " 'Ethernity Networks Ltd',\n",
       " 'Canadian Banc Corp.',\n",
       " 'EMT']"
      ]
     },
     "execution_count": 5,
     "metadata": {},
     "output_type": "execute_result"
    }
   ],
   "execution_count": 5
  },
  {
   "metadata": {
    "ExecuteTime": {
     "end_time": "2024-09-02T11:50:47.496572Z",
     "start_time": "2024-09-02T11:50:47.479898Z"
    }
   },
   "cell_type": "code",
   "source": [
    "# Create sample for development\n",
    "# COMPANIES = [\"Ethernity Networks Ltd\", \"Limbach Holdings, Inc.\", \"Accuray Incorporated\"]\n",
    "COMPANIES = included_companies\n",
    "\n",
    "if COMPANIES:\n",
    "    df_sample = df[df.name.isin(COMPANIES)]\n",
    "else:\n",
    "    df_sample = df.copy()\n",
    "    \n",
    "sha1_dict = df_sample.set_index(\"name\").to_dict()[\"sha1\"]"
   ],
   "id": "8f6e3574239a7eba",
   "outputs": [],
   "execution_count": 6
  },
  {
   "metadata": {
    "ExecuteTime": {
     "end_time": "2024-09-02T11:50:49.327816Z",
     "start_time": "2024-09-02T11:50:49.312987Z"
    }
   },
   "cell_type": "code",
   "source": "df_sample",
   "id": "c5950769dc2ca5d1",
   "outputs": [
    {
     "data": {
      "text/plain": [
       "                                          sha1        date  \\\n",
       "267   d81bbc64a4160b9946fea7a895f80e6201f52f27  2022-11-23   \n",
       "981   608c5097dfc6e83505fd2259ad862dcec11a3f96  2022-12-31   \n",
       "1075  3696c1b29566acc1eafc704ee5737fb3ae6f3d1d  2023-01-01   \n",
       "1183  99be213e4e689294ebae809bfa6a1b5024076286  2022-01-01   \n",
       "1324  71b04e0248ecf758990a0ab77bd69344be63bcf4  2023-03-27   \n",
       "1500  6b79f1c1de9d0e39a4576dcd4585849b9465b402  2023-04-05   \n",
       "2633  40b5cfe0d7bbf59e186492bfbe1b5002d44af332  2023-03-01   \n",
       "2838  faf8d7d79152d61279eda1cfb58b8236ce2f82fa  2022-06-30   \n",
       "3270  4b525836a5d7cb75489f6d93a3b1cf2b8f039bf2  2022-10-01   \n",
       "4263  ea0757d27fa67cd347d9f046b939a911f5c9a08d  2022-01-01   \n",
       "5223  9e703e719d94af786af5511c823ff86e9f04c070  2022-01-01   \n",
       "5507  dfb1e552b18e116105d9125d9becafa443950e97  2022-01-01   \n",
       "5801  e51b7204b91cbe7709bd3218e7d2d0c2b8dbb438  2023-01-01   \n",
       "6005  bd5041c3e6909d92a7a88e4fb10dd8651df33228  2022-12-31   \n",
       "6442  58a5f9f5c83159e63602b0b1dd27c27fb945c0e9  2022-01-01   \n",
       "6729  9ff4e041732c9841d5423e6ea0bbd6a0320df9ff  2022-01-01   \n",
       "6859  dd78f748262b8ffa62de6484143ff55b38af24c7  2022-06-30   \n",
       "6915  d734bac4a4815e616d84083ad4d3844655321215  2022-12-31   \n",
       "7245  9ae3bb21564a5098c4b4d6450655c22eff85deae  2022-06-30   \n",
       "7472  053b7cb83115789346e2a9efc7e2e640851653ff  2023-02-24   \n",
       "\n",
       "                                  name      size  \n",
       "267                       Air Products   4889969  \n",
       "981           Sandwell Aquatics Centre   2661906  \n",
       "1075         Zegona Communications plc   1481844  \n",
       "1183            Limbach Holdings, Inc.   2023552  \n",
       "1324           Motus GI Holdings, Inc.   7725729  \n",
       "1500    Mercurity Fintech Holding Inc.   1767320  \n",
       "2633                      Calyxt, Inc.    694201  \n",
       "2838                               EMT   1360293  \n",
       "3270                         TD SYNNEX   1902884  \n",
       "4263               Canadian Banc Corp.    498408  \n",
       "5223               Platform Technology   5538800  \n",
       "5507                         Kooth Plc   7290070  \n",
       "5801            Ethernity Networks Ltd   1180978  \n",
       "6005                              NICE   2327149  \n",
       "6442                      Eurocell PLC   6725760  \n",
       "6729  VENUS METALS CORPORATION LIMITED  10424234  \n",
       "6859              Accuray Incorporated   3317389  \n",
       "6915                          Nykredit   7217011  \n",
       "7245             Strike Energy Limited  21906556  \n",
       "7472          Global Medical REIT Inc.   7559733  "
      ],
      "text/html": [
       "<div>\n",
       "<style scoped>\n",
       "    .dataframe tbody tr th:only-of-type {\n",
       "        vertical-align: middle;\n",
       "    }\n",
       "\n",
       "    .dataframe tbody tr th {\n",
       "        vertical-align: top;\n",
       "    }\n",
       "\n",
       "    .dataframe thead th {\n",
       "        text-align: right;\n",
       "    }\n",
       "</style>\n",
       "<table border=\"1\" class=\"dataframe\">\n",
       "  <thead>\n",
       "    <tr style=\"text-align: right;\">\n",
       "      <th></th>\n",
       "      <th>sha1</th>\n",
       "      <th>date</th>\n",
       "      <th>name</th>\n",
       "      <th>size</th>\n",
       "    </tr>\n",
       "  </thead>\n",
       "  <tbody>\n",
       "    <tr>\n",
       "      <th>267</th>\n",
       "      <td>d81bbc64a4160b9946fea7a895f80e6201f52f27</td>\n",
       "      <td>2022-11-23</td>\n",
       "      <td>Air Products</td>\n",
       "      <td>4889969</td>\n",
       "    </tr>\n",
       "    <tr>\n",
       "      <th>981</th>\n",
       "      <td>608c5097dfc6e83505fd2259ad862dcec11a3f96</td>\n",
       "      <td>2022-12-31</td>\n",
       "      <td>Sandwell Aquatics Centre</td>\n",
       "      <td>2661906</td>\n",
       "    </tr>\n",
       "    <tr>\n",
       "      <th>1075</th>\n",
       "      <td>3696c1b29566acc1eafc704ee5737fb3ae6f3d1d</td>\n",
       "      <td>2023-01-01</td>\n",
       "      <td>Zegona Communications plc</td>\n",
       "      <td>1481844</td>\n",
       "    </tr>\n",
       "    <tr>\n",
       "      <th>1183</th>\n",
       "      <td>99be213e4e689294ebae809bfa6a1b5024076286</td>\n",
       "      <td>2022-01-01</td>\n",
       "      <td>Limbach Holdings, Inc.</td>\n",
       "      <td>2023552</td>\n",
       "    </tr>\n",
       "    <tr>\n",
       "      <th>1324</th>\n",
       "      <td>71b04e0248ecf758990a0ab77bd69344be63bcf4</td>\n",
       "      <td>2023-03-27</td>\n",
       "      <td>Motus GI Holdings, Inc.</td>\n",
       "      <td>7725729</td>\n",
       "    </tr>\n",
       "    <tr>\n",
       "      <th>1500</th>\n",
       "      <td>6b79f1c1de9d0e39a4576dcd4585849b9465b402</td>\n",
       "      <td>2023-04-05</td>\n",
       "      <td>Mercurity Fintech Holding Inc.</td>\n",
       "      <td>1767320</td>\n",
       "    </tr>\n",
       "    <tr>\n",
       "      <th>2633</th>\n",
       "      <td>40b5cfe0d7bbf59e186492bfbe1b5002d44af332</td>\n",
       "      <td>2023-03-01</td>\n",
       "      <td>Calyxt, Inc.</td>\n",
       "      <td>694201</td>\n",
       "    </tr>\n",
       "    <tr>\n",
       "      <th>2838</th>\n",
       "      <td>faf8d7d79152d61279eda1cfb58b8236ce2f82fa</td>\n",
       "      <td>2022-06-30</td>\n",
       "      <td>EMT</td>\n",
       "      <td>1360293</td>\n",
       "    </tr>\n",
       "    <tr>\n",
       "      <th>3270</th>\n",
       "      <td>4b525836a5d7cb75489f6d93a3b1cf2b8f039bf2</td>\n",
       "      <td>2022-10-01</td>\n",
       "      <td>TD SYNNEX</td>\n",
       "      <td>1902884</td>\n",
       "    </tr>\n",
       "    <tr>\n",
       "      <th>4263</th>\n",
       "      <td>ea0757d27fa67cd347d9f046b939a911f5c9a08d</td>\n",
       "      <td>2022-01-01</td>\n",
       "      <td>Canadian Banc Corp.</td>\n",
       "      <td>498408</td>\n",
       "    </tr>\n",
       "    <tr>\n",
       "      <th>5223</th>\n",
       "      <td>9e703e719d94af786af5511c823ff86e9f04c070</td>\n",
       "      <td>2022-01-01</td>\n",
       "      <td>Platform Technology</td>\n",
       "      <td>5538800</td>\n",
       "    </tr>\n",
       "    <tr>\n",
       "      <th>5507</th>\n",
       "      <td>dfb1e552b18e116105d9125d9becafa443950e97</td>\n",
       "      <td>2022-01-01</td>\n",
       "      <td>Kooth Plc</td>\n",
       "      <td>7290070</td>\n",
       "    </tr>\n",
       "    <tr>\n",
       "      <th>5801</th>\n",
       "      <td>e51b7204b91cbe7709bd3218e7d2d0c2b8dbb438</td>\n",
       "      <td>2023-01-01</td>\n",
       "      <td>Ethernity Networks Ltd</td>\n",
       "      <td>1180978</td>\n",
       "    </tr>\n",
       "    <tr>\n",
       "      <th>6005</th>\n",
       "      <td>bd5041c3e6909d92a7a88e4fb10dd8651df33228</td>\n",
       "      <td>2022-12-31</td>\n",
       "      <td>NICE</td>\n",
       "      <td>2327149</td>\n",
       "    </tr>\n",
       "    <tr>\n",
       "      <th>6442</th>\n",
       "      <td>58a5f9f5c83159e63602b0b1dd27c27fb945c0e9</td>\n",
       "      <td>2022-01-01</td>\n",
       "      <td>Eurocell PLC</td>\n",
       "      <td>6725760</td>\n",
       "    </tr>\n",
       "    <tr>\n",
       "      <th>6729</th>\n",
       "      <td>9ff4e041732c9841d5423e6ea0bbd6a0320df9ff</td>\n",
       "      <td>2022-01-01</td>\n",
       "      <td>VENUS METALS CORPORATION LIMITED</td>\n",
       "      <td>10424234</td>\n",
       "    </tr>\n",
       "    <tr>\n",
       "      <th>6859</th>\n",
       "      <td>dd78f748262b8ffa62de6484143ff55b38af24c7</td>\n",
       "      <td>2022-06-30</td>\n",
       "      <td>Accuray Incorporated</td>\n",
       "      <td>3317389</td>\n",
       "    </tr>\n",
       "    <tr>\n",
       "      <th>6915</th>\n",
       "      <td>d734bac4a4815e616d84083ad4d3844655321215</td>\n",
       "      <td>2022-12-31</td>\n",
       "      <td>Nykredit</td>\n",
       "      <td>7217011</td>\n",
       "    </tr>\n",
       "    <tr>\n",
       "      <th>7245</th>\n",
       "      <td>9ae3bb21564a5098c4b4d6450655c22eff85deae</td>\n",
       "      <td>2022-06-30</td>\n",
       "      <td>Strike Energy Limited</td>\n",
       "      <td>21906556</td>\n",
       "    </tr>\n",
       "    <tr>\n",
       "      <th>7472</th>\n",
       "      <td>053b7cb83115789346e2a9efc7e2e640851653ff</td>\n",
       "      <td>2023-02-24</td>\n",
       "      <td>Global Medical REIT Inc.</td>\n",
       "      <td>7559733</td>\n",
       "    </tr>\n",
       "  </tbody>\n",
       "</table>\n",
       "</div>"
      ]
     },
     "execution_count": 7,
     "metadata": {},
     "output_type": "execute_result"
    }
   ],
   "execution_count": 7
  },
  {
   "metadata": {},
   "cell_type": "markdown",
   "source": [
    "## Get company name from user query\n",
    "\n",
    "TODO could be more sophisticated"
   ],
   "id": "ca2440fc5b817345"
  },
  {
   "metadata": {
    "ExecuteTime": {
     "end_time": "2024-08-29T16:25:29.086264Z",
     "start_time": "2024-08-29T16:25:29.070200Z"
    }
   },
   "cell_type": "code",
   "source": [
    "import re\n",
    "from fuzzywuzzy import fuzz\n",
    "\n",
    "def normalize_name(name):\n",
    "    # Normalize by removing extra spaces and converting to lowercase\n",
    "    return re.sub(r'\\s+', ' ', name.strip().lower())\n",
    "\n",
    "def fuzzy_match(companies, input_string, threshold=85):\n",
    "    matched_companies = []\n",
    "    norm_input = normalize_name(input_string)\n",
    "    \n",
    "    for company in companies:\n",
    "        norm_company = normalize_name(company)\n",
    "        prev_token = \"\"\n",
    "        \n",
    "        # Fuzzy match each token\n",
    "        for curr_token in norm_input.split():\n",
    "            token = prev_token + \" \" + curr_token\n",
    "            \n",
    "            match_score = fuzz.ratio(norm_company, token)\n",
    "            prev_token = curr_token\n",
    "            \n",
    "            if match_score >= threshold:\n",
    "                matched_companies.append(company)\n",
    "                break  # Stop once a match is found for this company\n",
    "            \n",
    "    return matched_companies\n",
    "\n",
    "\n",
    "def find_exact_matches(companies, input_string):\n",
    "    # normalized_input = normalize_name(input_string)\n",
    "    \n",
    "    matched_companies = []\n",
    "    \n",
    "    for company in companies:\n",
    "        if company in input_string:\n",
    "            matched_companies.append(company)\n",
    "    \n",
    "    return matched_companies\n",
    "\n",
    "\n",
    "def find_companies(input_string):\n",
    "    # Wrapper to use later and allow easy function change\n",
    "    return find_exact_matches(df.name, input_string)\n",
    "\n",
    "\n",
    "input_string = (\"limbach holding inc and ethernity networks buys the accuracy incorporated, ESEA, Five9, Inc.\")\n",
    "\n",
    "matches = find_exact_matches(df.name, input_string)\n",
    "print(matches)"
   ],
   "id": "99709072b0e51f37",
   "outputs": [
    {
     "name": "stdout",
     "output_type": "stream",
     "text": [
      "['EA', 'ESEA', 'Five9, Inc.']\n"
     ]
    },
    {
     "name": "stderr",
     "output_type": "stream",
     "text": [
      "C:\\Users\\felix.krause\\code\\trustbit\\llm_experiments\\venv\\lib\\site-packages\\fuzzywuzzy\\fuzz.py:11: UserWarning: Using slow pure-python SequenceMatcher. Install python-Levenshtein to remove this warning\n",
      "  warnings.warn('Using slow pure-python SequenceMatcher. Install python-Levenshtein to remove this warning')\n"
     ]
    }
   ],
   "execution_count": 10
  },
  {
   "metadata": {},
   "cell_type": "markdown",
   "source": "## Load LLM data",
   "id": "bf301d66795e2b42"
  },
  {
   "cell_type": "code",
   "source": [
    "from llama_parse import LlamaParse\n",
    "\n",
    "parser = LlamaParse(\n",
    "    result_type=\"markdown\",  # \"markdown\" and \"text\" are available\n",
    "    verbose=True\n",
    ")\n",
    "\n",
    "# Function to load text from different file types\n",
    "def load_text_from_file(file_path):\n",
    "    _, file_extension = os.path.splitext(file_path)\n",
    "    text = \"\"\n",
    "    \n",
    "    if file_extension == \".pdf\":\n",
    "        # TODO https://www.reddit.com/r/LangChain/comments/18yxacm/extracting_data_from_pdf_containing_complex_tables/\n",
    "        with open(file_path, 'rb') as f:\n",
    "            reader = PyPDF2.PdfReader(f, strict=False)\n",
    "            for page in reader.pages:\n",
    "                text += page.extract_text() + \"\\n\"\n",
    "    else:\n",
    "        pass\n",
    "    \n",
    "    return text\n",
    "\n",
    "\n",
    "# Function to load documents from a folder\n",
    "def load_documents_from_folder(folder_path, companies=[]):\n",
    "    documents = []\n",
    "    for root, _, files in os.walk(folder_path):\n",
    "        for file in files:\n",
    "            if file[:-4] in companies: #or len(companies) == 0:\n",
    "                print(\"Loading\", file)\n",
    "                file_path = os.path.join(root, file)\n",
    "\n",
    "                text = load_text_from_file(file_path)\n",
    "                if text:\n",
    "                    documents.append(Document(page_content=text, metadata={\"source\": file_path}))\n",
    "    return documents"
   ],
   "metadata": {
    "collapsed": false,
    "ExecuteTime": {
     "end_time": "2024-09-02T11:51:14.704559Z",
     "start_time": "2024-09-02T11:51:09.112787Z"
    }
   },
   "id": "a78b2e35a4794cc2",
   "outputs": [],
   "execution_count": 10
  },
  {
   "metadata": {
    "ExecuteTime": {
     "end_time": "2024-08-29T16:25:32.831444Z",
     "start_time": "2024-08-29T16:25:32.815894Z"
    }
   },
   "cell_type": "code",
   "source": [
    "# Could try LLama approach\n",
    "# TODO https://medium.com/the-ai-forum/rag-on-complex-pdf-using-llamaparse-langchain-and-groq-5b132bd1f9f3\n",
    "# doc = parser.load_data(os.path.join(FOLDER_PATH, \"e51b7204b91cbe7709bd3218e7d2d0c2b8dbb438.pdf\"))\n",
    "# index = VectorStoreIndex.from_documents(doc)"
   ],
   "id": "9cb153b0cfd5cbee",
   "outputs": [],
   "execution_count": 12
  },
  {
   "metadata": {},
   "cell_type": "markdown",
   "source": "## Try to detect tables from pdf",
   "id": "f51ab4663aeeda70"
  },
  {
   "metadata": {
    "ExecuteTime": {
     "end_time": "2024-08-29T13:37:18.895314Z",
     "start_time": "2024-08-29T13:35:57.735226Z"
    }
   },
   "cell_type": "code",
   "source": [
    "\"\"\"\n",
    "import camelot\n",
    "\n",
    "# Extract tables from a PDF file\n",
    "tables = camelot.read_pdf(os.path.join(FOLDER_PATH, \"e51b7204b91cbe7709bd3218e7d2d0c2b8dbb438.pdf\"), pages=\"all\")\n",
    "\n",
    "# Convert the first table to a DataFrame\n",
    "df = tables[0].df\n",
    "\n",
    "# Save the DataFrame as a CSV file\n",
    "tables[0]\n",
    "\"\"\""
   ],
   "id": "f1456a9650d4528f",
   "outputs": [
    {
     "name": "stderr",
     "output_type": "stream",
     "text": [
      "C:\\Users\\felix.krause\\code\\trustbit\\llm_experiments\\venv\\lib\\site-packages\\camelot\\parsers\\lattice.py:397: UserWarning: No tables found on page-2\n",
      "  warnings.warn(\n",
      "C:\\Users\\felix.krause\\code\\trustbit\\llm_experiments\\venv\\lib\\site-packages\\camelot\\parsers\\lattice.py:397: UserWarning: No tables found on page-79\n",
      "  warnings.warn(\n"
     ]
    },
    {
     "data": {
      "text/plain": [
       "<Table shape=(1, 1)>"
      ]
     },
     "execution_count": 8,
     "metadata": {},
     "output_type": "execute_result"
    }
   ],
   "execution_count": 8
  },
  {
   "metadata": {
    "ExecuteTime": {
     "end_time": "2024-08-29T14:00:53.324190Z",
     "start_time": "2024-08-29T14:00:53.316417Z"
    }
   },
   "cell_type": "code",
   "source": "# tables[40].df",
   "id": "12bdfc9101258f90",
   "outputs": [
    {
     "data": {
      "text/plain": [
       "                                        0 1  \\\n",
       "0  STRATEGIC REPORT\\nCORPORATE GOVERNANCE     \n",
       "\n",
       "                                            2       3  \n",
       "0  FINANCIAL STATEMENTS\\nFINANCIAL STATEMENTS  73\\n73  "
      ],
      "text/html": [
       "<div>\n",
       "<style scoped>\n",
       "    .dataframe tbody tr th:only-of-type {\n",
       "        vertical-align: middle;\n",
       "    }\n",
       "\n",
       "    .dataframe tbody tr th {\n",
       "        vertical-align: top;\n",
       "    }\n",
       "\n",
       "    .dataframe thead th {\n",
       "        text-align: right;\n",
       "    }\n",
       "</style>\n",
       "<table border=\"1\" class=\"dataframe\">\n",
       "  <thead>\n",
       "    <tr style=\"text-align: right;\">\n",
       "      <th></th>\n",
       "      <th>0</th>\n",
       "      <th>1</th>\n",
       "      <th>2</th>\n",
       "      <th>3</th>\n",
       "    </tr>\n",
       "  </thead>\n",
       "  <tbody>\n",
       "    <tr>\n",
       "      <th>0</th>\n",
       "      <td>STRATEGIC REPORT\\nCORPORATE GOVERNANCE</td>\n",
       "      <td></td>\n",
       "      <td>FINANCIAL STATEMENTS\\nFINANCIAL STATEMENTS</td>\n",
       "      <td>73\\n73</td>\n",
       "    </tr>\n",
       "  </tbody>\n",
       "</table>\n",
       "</div>"
      ]
     },
     "execution_count": 47,
     "metadata": {},
     "output_type": "execute_result"
    }
   ],
   "execution_count": 47
  },
  {
   "metadata": {},
   "cell_type": "markdown",
   "source": "## Build retriever per company",
   "id": "695aebfba71c14c4"
  },
  {
   "metadata": {
    "ExecuteTime": {
     "end_time": "2024-09-02T11:51:17.177025Z",
     "start_time": "2024-09-02T11:51:17.164494Z"
    }
   },
   "cell_type": "code",
   "source": [
    "def get_store_name(string):\n",
    "    string = string.lower()\n",
    "    return string.replace(\" \", \"_\").replace(\",\", \"\").replace(\".\", \"\").replace(\"'\", \"\")"
   ],
   "id": "f52dd0fd4a43609b",
   "outputs": [],
   "execution_count": 11
  },
  {
   "metadata": {
    "ExecuteTime": {
     "end_time": "2024-09-02T11:55:23.964088Z",
     "start_time": "2024-09-02T11:51:17.344513Z"
    }
   },
   "cell_type": "code",
   "source": [
    "# WARNING: This will build all retrievers for all companies in the sample\n",
    "text_splitter = RecursiveCharacterTextSplitter(chunk_size=3000, chunk_overlap=300, separators=[\"\\n\\n\", \"\\n\"]) # TODO more sophisticated\n",
    "\n",
    "for company in df_sample.name.to_list():\n",
    "    # check if file already exists\n",
    "    if os.path.exists(f\"dbs/{get_store_name(company)}.db\"):\n",
    "        print(\"Skipping\", company)\n",
    "        continue\n",
    "    \n",
    "    try:\n",
    "        company_docs = load_documents_from_folder(SAMPLES_PATH, [sha1_dict[company]])\n",
    "        \n",
    "        if not company_docs:\n",
    "            raise ValueError(f\"No documents found for company: {company}\")\n",
    "        \n",
    "        texts = text_splitter.split_documents(company_docs)\n",
    "        embeddings = OpenAIEmbeddings()\n",
    "        db = FAISS.from_documents(texts, embeddings)\n",
    "        \n",
    "        with open(f\"dbs/{get_store_name(company)}.db\", \"wb\") as f:\n",
    "            pickle.dump(db.serialize_to_bytes(), f)\n",
    "    except Exception as e:\n",
    "        print(f\"Error for company {company}: {e}\")\n",
    "        # raise e"
   ],
   "id": "6e7385617622991b",
   "outputs": [
    {
     "name": "stdout",
     "output_type": "stream",
     "text": [
      "Loading d81bbc64a4160b9946fea7a895f80e6201f52f27.pdf\n",
      "Loading 608c5097dfc6e83505fd2259ad862dcec11a3f96.pdf\n",
      "Loading 3696c1b29566acc1eafc704ee5737fb3ae6f3d1d.pdf\n"
     ]
    },
    {
     "name": "stderr",
     "output_type": "stream",
     "text": [
      "FloatObject (b'0.00-40') invalid; use 0.0 instead\n",
      "FloatObject (b'0.00-40') invalid; use 0.0 instead\n",
      "FloatObject (b'0.00-40') invalid; use 0.0 instead\n",
      "FloatObject (b'0.00-40') invalid; use 0.0 instead\n",
      "FloatObject (b'0.00-40') invalid; use 0.0 instead\n",
      "FloatObject (b'0.00-40') invalid; use 0.0 instead\n",
      "FloatObject (b'0.00-40') invalid; use 0.0 instead\n",
      "FloatObject (b'0.00-40') invalid; use 0.0 instead\n",
      "FloatObject (b'0.00-40') invalid; use 0.0 instead\n",
      "FloatObject (b'0.00-40') invalid; use 0.0 instead\n",
      "FloatObject (b'0.00-40') invalid; use 0.0 instead\n",
      "FloatObject (b'0.00-40') invalid; use 0.0 instead\n"
     ]
    },
    {
     "name": "stdout",
     "output_type": "stream",
     "text": [
      "Loading 99be213e4e689294ebae809bfa6a1b5024076286.pdf\n"
     ]
    },
    {
     "name": "stderr",
     "output_type": "stream",
     "text": [
      "FloatObject (b'0.00-40') invalid; use 0.0 instead\n",
      "FloatObject (b'0.00-40') invalid; use 0.0 instead\n",
      "FloatObject (b'0.00-40') invalid; use 0.0 instead\n",
      "FloatObject (b'0.00-40') invalid; use 0.0 instead\n",
      "FloatObject (b'0.00-40') invalid; use 0.0 instead\n",
      "FloatObject (b'0.00-40') invalid; use 0.0 instead\n",
      "FloatObject (b'0.00-40') invalid; use 0.0 instead\n",
      "FloatObject (b'0.00-40') invalid; use 0.0 instead\n"
     ]
    },
    {
     "name": "stdout",
     "output_type": "stream",
     "text": [
      "Loading 71b04e0248ecf758990a0ab77bd69344be63bcf4.pdf\n",
      "Loading 6b79f1c1de9d0e39a4576dcd4585849b9465b402.pdf\n",
      "Loading 40b5cfe0d7bbf59e186492bfbe1b5002d44af332.pdf\n",
      "Loading faf8d7d79152d61279eda1cfb58b8236ce2f82fa.pdf\n",
      "Loading 4b525836a5d7cb75489f6d93a3b1cf2b8f039bf2.pdf\n",
      "Loading ea0757d27fa67cd347d9f046b939a911f5c9a08d.pdf\n",
      "Loading 9e703e719d94af786af5511c823ff86e9f04c070.pdf\n",
      "Loading dfb1e552b18e116105d9125d9becafa443950e97.pdf\n",
      "Loading e51b7204b91cbe7709bd3218e7d2d0c2b8dbb438.pdf\n",
      "Loading bd5041c3e6909d92a7a88e4fb10dd8651df33228.pdf\n",
      "Loading 58a5f9f5c83159e63602b0b1dd27c27fb945c0e9.pdf\n",
      "Loading 9ff4e041732c9841d5423e6ea0bbd6a0320df9ff.pdf\n",
      "Loading dd78f748262b8ffa62de6484143ff55b38af24c7.pdf\n",
      "Loading d734bac4a4815e616d84083ad4d3844655321215.pdf\n",
      "Loading 9ae3bb21564a5098c4b4d6450655c22eff85deae.pdf\n",
      "Loading 053b7cb83115789346e2a9efc7e2e640851653ff.pdf\n"
     ]
    }
   ],
   "execution_count": 12
  },
  {
   "metadata": {
    "ExecuteTime": {
     "end_time": "2024-09-02T12:06:41.348728Z",
     "start_time": "2024-09-02T12:06:41.340184Z"
    }
   },
   "cell_type": "code",
   "source": [
    "def get_retriever_dict(companies):\n",
    "    retriever_dict = {}\n",
    "    \n",
    "    for company in companies:\n",
    "        with open(f\"dbs/{get_store_name(company)}.db\", \"rb\") as f:\n",
    "            db_bytes = pickle.load(f)\n",
    "        \n",
    "        db_temp = FAISS.deserialize_from_bytes(db_bytes, OpenAIEmbeddings(),\n",
    "                                      allow_dangerous_deserialization=True)\n",
    "        \n",
    "        retriever_dict[company] = db_temp.as_retriever()\n",
    "    \n",
    "    return retriever_dict"
   ],
   "id": "2eea77c787b966e6",
   "outputs": [],
   "execution_count": 23
  },
  {
   "metadata": {
    "ExecuteTime": {
     "end_time": "2024-09-02T12:06:42.179859Z",
     "start_time": "2024-09-02T12:06:41.643669Z"
    }
   },
   "cell_type": "code",
   "source": "retriever_dict = get_retriever_dict(df_sample.name.to_list())",
   "id": "4fcc78bbd52d9ac8",
   "outputs": [],
   "execution_count": 24
  },
  {
   "metadata": {
    "ExecuteTime": {
     "end_time": "2024-09-02T12:06:42.360664Z",
     "start_time": "2024-09-02T12:06:42.356148Z"
    }
   },
   "cell_type": "code",
   "source": [
    "def get_context(query, company):\n",
    "    # TODO add sophisticated retriever for tables?\n",
    "    return retriever_dict[company].get_relevant_documents(query)"
   ],
   "id": "c12759f74d642592",
   "outputs": [],
   "execution_count": 25
  },
  {
   "metadata": {},
   "cell_type": "markdown",
   "source": "## Structured inference",
   "id": "3d6da0d2a417ed12"
  },
  {
   "cell_type": "code",
   "source": [
    "# MODEL = \"gpt-4o-mini-2024-07-18\"\n",
    "MODEL = \"gpt-4o-2024-08-06\"\n",
    "\n",
    "# load system prompt from .md\n",
    "with open(\"instructions/answer_guidelines.md\") as f:\n",
    "    ANSWER_GUIDELINES = f.read()\n",
    "    \n",
    "with open(\"instructions/fin_info.md\") as f:\n",
    "    FIN_INFO = f.read()\n",
    "\n",
    "\n",
    "\n",
    "# FIXME: remove handling of temporal data if not wanted!\n",
    "system_prompt = f\"\"\"\n",
    "You are an intelligent assistant tasked with retrieving and analyzing company data to answer specific questions based on the provided CONTEXT.\n",
    "\n",
    "Your Objectives:\n",
    "    - Chain of Thought: Document your reasoning process in 'chain_of_thought', including all intermediary steps. If your analysis involves calculations (e.g., ratios), explicitly state the numerator and denominator.\n",
    "    - Handling Temporal Data: If the temporal scope of the data isn't an exact match (e.g., end-of-year data instead of Q4), use the most relevant available data to guide your reasoning, ensuring the CONTEXT contains sufficient information.\n",
    "    - Final Answer: Based on your reasoning, provide a final answer in 'answer' that strictly adheres to the guidelines outlined in. Accuracy and format compliance are crucial: \\n {ANSWER_GUIDELINES} \\n\n",
    "\n",
    "Format:\n",
    "    - chain_of_thought: Your reasoning process, including intermediary steps\n",
    "    - answer: Your final answer following the answer guidelines\n",
    "\n",
    "CONTEXT: \n",
    "<CONTEXT>\n",
    "\"\"\"\n",
    "   \n",
    "# f\"Your primary task is to accurately identify and extract specific financial metrics, ratios, and counts, even when synonymous \"\n",
    "# f\"or contextually similar terms are used. Here is some useful information about these: \\n {FIN_INFO}\""
   ],
   "metadata": {
    "collapsed": false,
    "ExecuteTime": {
     "end_time": "2024-09-02T13:00:02.621716Z",
     "start_time": "2024-09-02T13:00:02.614669Z"
    }
   },
   "id": "5839c1c42cf2a1cd",
   "outputs": [],
   "execution_count": 100
  },
  {
   "metadata": {
    "ExecuteTime": {
     "end_time": "2024-09-02T13:01:29.063534Z",
     "start_time": "2024-09-02T13:01:29.047475Z"
    }
   },
   "cell_type": "code",
   "source": [
    "from pydantic import BaseModel\n",
    "from openai import OpenAI\n",
    "\n",
    "client = OpenAI()\n",
    "\n",
    "class AnswerEvent(BaseModel):\n",
    "    chain_of_thought: str\n",
    "    answer: int | float | str\n",
    "\n",
    "\n",
    "def ask_company_expert(query, company):\n",
    "    print(\"### ASKING COMPANY EXPERT:\", company)\n",
    "    context = get_context(query, company)\n",
    "    completion = client.beta.chat.completions.parse(\n",
    "        model=MODEL,\n",
    "        messages=[\n",
    "            {\"role\": \"system\", \"content\": system_prompt.replace(\"<CONTEXT>\", str(context))},\n",
    "            {\"role\": \"user\", \"content\": query},\n",
    "        ],\n",
    "        response_format=AnswerEvent,\n",
    "    )\n",
    "    \n",
    "    return completion.choices[0].message.parsed"
   ],
   "id": "f37aecc08c73bdb1",
   "outputs": [],
   "execution_count": 106
  },
  {
   "metadata": {
    "ExecuteTime": {
     "end_time": "2024-09-02T13:00:24.698576Z",
     "start_time": "2024-09-02T13:00:21.244397Z"
    }
   },
   "cell_type": "code",
   "source": "ask_company_expert(\"How many assets does 'Accuray Incorporated' have in 2022 in dollars?\", \"Accuray Incorporated\")  # 472849000",
   "id": "103c61fa8d8d5013",
   "outputs": [
    {
     "name": "stdout",
     "output_type": "stream",
     "text": [
      "### ASKING COMPANY EXPERT: Accuray Incorporated\n"
     ]
    },
    {
     "data": {
      "text/plain": [
       "AnswerEvent(chain_of_thought=\"The document provides summarized balance sheet data for a joint venture (JV) as of March 31, 2022, and March 31, 2021. However, this data is specific to the JV and not Accuray Incorporated itself. The document lists 'Total liabilities and stockholders’ equity' as $472,849 for Accuray as of June 30, 2022. Typically, this total includes both total liabilities and total stockholders' equity, which together reflect the total assets of a company. Therefore, the total assets for Accuray Incorporated in 2022 should be the same as the total liabilities and stockholders’ equity, which is $472,849,000.\", answer=472849000)"
      ]
     },
     "execution_count": 104,
     "metadata": {},
     "output_type": "execute_result"
    }
   ],
   "execution_count": 104
  },
  {
   "metadata": {
    "ExecuteTime": {
     "end_time": "2024-08-29T12:55:36.485954Z",
     "start_time": "2024-08-29T12:55:33.459475Z"
    }
   },
   "cell_type": "code",
   "source": "ask_company_expert(\"How many assets does 'Ethernity Networks Ltd' have in 2022 in dollars?\", \"Ethernity Networks Ltd\")",
   "id": "907a2e8870981b26",
   "outputs": [
    {
     "name": "stdout",
     "output_type": "stream",
     "text": [
      "['Ethernity Networks Ltd']\n"
     ]
    },
    {
     "data": {
      "text/plain": [
       "AnswerEvent(chain_of_thought='The provided context does not contain specific information regarding the total assets of Ethernity Networks Ltd for the year 2022. Therefore, I cannot provide an answer as the necessary data is absent.', answer='n/a')"
      ]
     },
     "execution_count": 96,
     "metadata": {},
     "output_type": "execute_result"
    }
   ],
   "execution_count": 96
  },
  {
   "metadata": {
    "ExecuteTime": {
     "end_time": "2024-09-02T13:00:37.621900Z",
     "start_time": "2024-09-02T13:00:34.948569Z"
    }
   },
   "cell_type": "code",
   "source": "ask_company_expert(\"What are the total R&D expenses of 'Ethernity Networks Ltd' in 2021?\", \"Ethernity Networks Ltd\")",
   "id": "537e14d8c3d459b6",
   "outputs": [
    {
     "name": "stdout",
     "output_type": "stream",
     "text": [
      "### ASKING COMPANY EXPERT: Ethernity Networks Ltd\n"
     ]
    },
    {
     "data": {
      "text/plain": [
       "AnswerEvent(chain_of_thought='The provided context does not contain specific figures or data detailing the research and development (R&D) expenses for Ethernity Networks Ltd for the year 2021. Without this information, I cannot accurately determine the R&D expenses for 2021.', answer='n/a')"
      ]
     },
     "execution_count": 105,
     "metadata": {},
     "output_type": "execute_result"
    }
   ],
   "execution_count": 105
  },
  {
   "metadata": {},
   "cell_type": "markdown",
   "source": "## Multiple agents",
   "id": "f0ee597ead17d621"
  },
  {
   "metadata": {
    "ExecuteTime": {
     "end_time": "2024-09-02T13:01:30.912214Z",
     "start_time": "2024-09-02T13:01:30.899153Z"
    }
   },
   "cell_type": "code",
   "source": [
    "# DELEGATION MANAGER\n",
    "\n",
    "INVOLVED_COMPANIES = df_sample.name.to_list()\n",
    "\n",
    "system_prompt_delegation = f\"\"\"\n",
    "You will receive queries related to one or more companies. You have access to specialized agents capable of retrieving data for each specific company. To delegate tasks to these agents, follow these guidelines:\n",
    "\n",
    "    1. Identify Companies: Extract the exact company names from the query and list them under 'companies'. Ensure that the company names match exactly with those provided in {INVOLVED_COMPANIES}. If the query mentions companies that are not in this list, enter 'SKIP' for both 'companies' and 'queries', and note this in the 'chain_of_thought'. If the company name in the query is incomplete (e.g., missing 'Inc.', 'Ltd.'), attempt to match it with the correct company name from the list.\n",
    "\n",
    "    2. Formulate Queries: \n",
    "        - For each company identified, create a precise query that the specialized agents can use to retrieve the required information. \n",
    "        - List these queries under 'queries'. \n",
    "        - Add some information on where in annual company reports the specialized agents can usually find the information. \n",
    "        - If the query involves ratios, comparisons, or requires multiple metrics, suggest how the specialized agents should approach the problem to ensure accurate results. For instance, if calculating a ratio, indicate which metrics to retrieve and compare.\n",
    "        - If using abbreviations (e.g., 'R&D'), ensure that the specialized agents understand these abbreviations and can retrieve the correct information.\n",
    "    \n",
    "    4. Chain of Thought: Provide a 'chain_of_thought' explaining how you identified the companies, formulated the queries, and any assumptions or steps taken to reach your final output. If you marked any queries as 'SKIP', explain why.\n",
    "\"\"\"\n",
    "\n",
    "\n",
    "class DelegationRequest(BaseModel):\n",
    "    chain_of_thought: str\n",
    "    companies: list[str]\n",
    "    queries: list[str]\n",
    "\n",
    "\n",
    "def ask_delegation_manager(query):    \n",
    "    print(\"### ASKING DELEGATION MANAGER: \")\n",
    "    completion = client.beta.chat.completions.parse(\n",
    "        model=MODEL,\n",
    "        messages=[\n",
    "            {\"role\": \"system\", \"content\": system_prompt_delegation},\n",
    "            {\"role\": \"user\", \"content\": query},\n",
    "        ],\n",
    "        response_format=DelegationRequest,\n",
    "    )\n",
    "    \n",
    "    return completion.choices[0].message.parsed"
   ],
   "id": "556851a9b2e0d530",
   "outputs": [],
   "execution_count": 107
  },
  {
   "metadata": {
    "ExecuteTime": {
     "end_time": "2024-09-02T12:28:19.038772Z",
     "start_time": "2024-09-02T12:28:17.048121Z"
    }
   },
   "cell_type": "code",
   "source": "ask_delegation_manager(\"Has 'Ethernity Networks Ltd' more liabilities than 'Accuray Incorporated' in 2022?\")",
   "id": "f0066ed0c2eead25",
   "outputs": [
    {
     "name": "stdout",
     "output_type": "stream",
     "text": [
      "### ASKING DELEGATION MANAGER: \n"
     ]
    },
    {
     "data": {
      "text/plain": [
       "DelegationRequest(chain_of_thought=\"In this query, I identified two companies: 'Ethernity Networks Ltd' and 'Accuray Incorporated'. Both of these companies are part of the provided list, allowing me to formulate specific queries for retrieving the necessary financial data. The query asks for a comparison of liabilities for the year 2022, which requires extracting total liabilities from the annual reports for both companies. I will retrieve the total liabilities for both companies from their 2022 reports to facilitate this comparison.\", companies=['Ethernity Networks Ltd', 'Accuray Incorporated'], queries=['Retrieve total liabilities for Ethernity Networks Ltd from the 2022 annual report, typically found in the balance sheet section.', 'Retrieve total liabilities for Accuray Incorporated from the 2022 annual report, typically found in the balance sheet section.'])"
      ]
     },
     "execution_count": 62,
     "metadata": {},
     "output_type": "execute_result"
    }
   ],
   "execution_count": 62
  },
  {
   "metadata": {
    "ExecuteTime": {
     "end_time": "2024-09-02T12:12:32.695404Z",
     "start_time": "2024-09-02T12:12:31.061579Z"
    }
   },
   "cell_type": "code",
   "source": "ask_delegation_manager(\"How many assets does 'Ethernity Networks Ltd' have in 2022 in dollars?\")",
   "id": "450954825ad2cc7b",
   "outputs": [
    {
     "name": "stdout",
     "output_type": "stream",
     "text": [
      "### ASKING DELEGATION MANAGER: \n"
     ]
    },
    {
     "data": {
      "text/plain": [
       "DelegationRequest(chain_of_thought=\"The query explicitly mentions 'Ethernity Networks Ltd', which is included in the list of companies I have access to. I formulated the query to retrieve the specific information about the assets of 'Ethernity Networks Ltd' for the year 2022, specifying the currency as dollars so the specialized agents can provide a precise answer. There are no other companies mentioned in the query, so this is straightforward.\", companies=['Ethernity Networks Ltd'], queries=['How many assets does Ethernity Networks Ltd have in 2022 in dollars? This information can usually be found in the balance sheet.'])"
      ]
     },
     "execution_count": 34,
     "metadata": {},
     "output_type": "execute_result"
    }
   ],
   "execution_count": 34
  },
  {
   "metadata": {
    "ExecuteTime": {
     "end_time": "2024-09-02T12:52:20.101095Z",
     "start_time": "2024-09-02T12:52:15.718067Z"
    }
   },
   "cell_type": "code",
   "source": "ask_delegation_manager(\"Did Global Medical REIT Inc. have a greater Debt-to-Equity ratio than Zegona Communications plc in Q2 2021?\")",
   "id": "67b32adb4ff93a38",
   "outputs": [
    {
     "name": "stdout",
     "output_type": "stream",
     "text": [
      "### ASKING DELEGATION MANAGER: \n"
     ]
    },
    {
     "data": {
      "text/plain": [
       "DelegationRequest(chain_of_thought=\"The query mentions two companies: Global Medical REIT Inc. and Zegona Communications plc. Both are present in the provided list, so they are captured correctly. The query is asking for a comparison of the Debt-to-Equity ratio between these two companies for Q2 2021. To address this, the specialized agents should retrieve the Debt-to-Equity ratio for each company from their respective Q2 2021 financial reports. This is typically found in the financial statements section, specifically the balance sheet and notes on financial metrics. The agents should ensure that the data is from Q2 2021 to make a precise comparison. Hence, queries are formulated to retrieve this specific data from each company's financial reports for that period.\", companies=['Global Medical REIT Inc.', 'Zegona Communications plc'], queries=['Retrieve the Debt-to-Equity ratio for Global Medical REIT Inc. from Q2 2021 financial reports.', 'Retrieve the Debt-to-Equity ratio for Zegona Communications plc from Q2 2021 financial reports.'])"
      ]
     },
     "execution_count": 90,
     "metadata": {},
     "output_type": "execute_result"
    }
   ],
   "execution_count": 90
  },
  {
   "metadata": {
    "ExecuteTime": {
     "end_time": "2024-09-02T13:01:53.955904Z",
     "start_time": "2024-09-02T13:01:53.938814Z"
    }
   },
   "cell_type": "code",
   "source": [
    "# EXECUTION MANAGER\n",
    "\n",
    "# FIXME: remove handling of temporal data if not wanted!\n",
    "system_prompt_execution = f\"\"\"\n",
    "You are an intelligent assistant tasked with synthesizing a final answer to the USER_QUERY using specific company data provided in the CONTEXT. The CONTEXT includes information generated by expert systems along with their reasoning process.\n",
    "\n",
    "Your Objectives:\n",
    "    - Final Answer Construction: Your primary task is to deliver a final, accurate response to the USER_QUERY based on the provided CONTEXT.\n",
    "    - Handling Temporal Data: If the temporal scope of the available data is not an exact match (e.g., end-of-year data instead of Q4), use the best available data to formulate your answer, provided that the CONTEXT contains sufficient relevant information.\n",
    "    - Chain of Thought: Document your reasoning process in 'chain_of_thought', including intermediary steps and considerations that led to your final answer.\n",
    "    - Strict Adherence: The final answer must be compliant with the specific guidelines. Accuracy, clarity, and adherence to these guidelines are critical: \\n {ANSWER_GUIDELINES} \\n \n",
    "\n",
    "Format:\n",
    "    - chain_of_thought: Your reasoning process, including intermediary steps\n",
    "    - answer: Your final answer following the answer guidelines\n",
    "\n",
    "Provided Inputs:\n",
    "\n",
    "USER_QUERY: \\n <QUERY> \\n\n",
    "CONTEXT: \\n <CONTEXT>\n",
    "\"\"\"\n",
    "\n",
    "class ExecutionRequest(BaseModel):\n",
    "    chain_of_thought: str\n",
    "    answer: int | str\n",
    "\n",
    "def ask_execution_manager(query, context):\n",
    "    system_prompt_execution_full = system_prompt_execution.replace(\"<QUERY>\", query).replace(\"<CONTEXT>\", context)\n",
    "    \n",
    "    print(\"### ASKING EXECUTION MANAGER: \")\n",
    "\n",
    "    print(\"Context:\", context)\n",
    "    \n",
    "    completion = client.beta.chat.completions.parse(\n",
    "        model=MODEL,\n",
    "        messages=[\n",
    "            {\"role\": \"system\", \"content\": system_prompt_execution_full},\n",
    "            {\"role\": \"user\", \"content\": query},\n",
    "        ],\n",
    "        response_format=ExecutionRequest,\n",
    "    )\n",
    "    \n",
    "    return completion.choices[0].message.parsed"
   ],
   "id": "ae5badfdd80719b5",
   "outputs": [],
   "execution_count": 110
  },
  {
   "metadata": {
    "ExecuteTime": {
     "end_time": "2024-09-02T13:01:55.059388Z",
     "start_time": "2024-09-02T13:01:55.051359Z"
    }
   },
   "cell_type": "code",
   "source": [
    "# FINAL PIPELINE\n",
    "\n",
    "def ask_question(query):\n",
    "    print(\"## Query:\", query)\n",
    "    delegations = ask_delegation_manager(query)\n",
    "    print(\"Delegations: \\n\", delegations)\n",
    "    \n",
    "    expert_context = {}\n",
    "    for company, company_query in zip(delegations.companies, delegations.queries):\n",
    "        if company.lower() == \"skip\" or company_query.lower() == \"skip\":\n",
    "            expert_context[company] = \"No data available\"\n",
    "        else:\n",
    "            expert_context[company] = ask_company_expert(company_query, company)\n",
    "    \n",
    "    final_answer = ask_execution_manager(query, str(expert_context))\n",
    "    \n",
    "    return final_answer"
   ],
   "id": "1c4c03aa88b9f80b",
   "outputs": [],
   "execution_count": 111
  },
  {
   "metadata": {
    "ExecuteTime": {
     "end_time": "2024-09-02T13:02:04.533967Z",
     "start_time": "2024-09-02T13:01:56.986120Z"
    }
   },
   "cell_type": "code",
   "source": "ask_question(\"Who is the CEO of Tesla Inc.?\") # n/a",
   "id": "c5c790aa6cfca5bd",
   "outputs": [
    {
     "name": "stdout",
     "output_type": "stream",
     "text": [
      "## Query: Who is the CEO of Tesla Inc.?\n",
      "### ASKING DELEGATION MANAGER: \n",
      "Delegations: \n",
      " chain_of_thought=\"Tesla Inc. is not in the list of companies that we are equipped to handle. Hence, according to the guidelines, the appropriate action is to mark both 'companies' and 'queries' as 'SKIP'.\" companies=['SKIP'] queries=['SKIP']\n",
      "### ASKING EXECUTION MANAGER: \n",
      "Context: {'SKIP': 'No data available'}\n"
     ]
    },
    {
     "data": {
      "text/plain": [
       "ExecutionRequest(chain_of_thought='The context indicates there\\'s no specific data available from the expert system about the CEO of Tesla Inc. As per the guidelines, if the needed information isn\\'t available in the provided context, I must respond with \"n/a\".', answer='n/a')"
      ]
     },
     "execution_count": 112,
     "metadata": {},
     "output_type": "execute_result"
    }
   ],
   "execution_count": 112
  },
  {
   "metadata": {
    "ExecuteTime": {
     "end_time": "2024-09-02T13:02:10.591216Z",
     "start_time": "2024-09-02T13:02:04.533967Z"
    }
   },
   "cell_type": "code",
   "source": "ask_question(\"Who is the CEO of Ethernity Networks?\") # David Levi",
   "id": "db938ef5d289790",
   "outputs": [
    {
     "name": "stdout",
     "output_type": "stream",
     "text": [
      "## Query: Who is the CEO of Ethernity Networks?\n",
      "### ASKING DELEGATION MANAGER: \n",
      "Delegations: \n",
      " chain_of_thought=\"The query mentions the company 'Ethernity Networks' which matches exactly with the company 'Ethernity Networks Ltd' from the provided list. Therefore, the relevant company is identified, and I can proceed to form a query for this specific company to retrieve information about the CEO.\" companies=['Ethernity Networks Ltd'] queries=[\"Retrieve the name of the current CEO of Ethernity Networks Ltd. This information is typically found in the Management section of the company's annual report or on the company's official website under leadership or management team information.\"]\n",
      "### ASKING COMPANY EXPERT: Ethernity Networks Ltd\n",
      "### ASKING EXECUTION MANAGER: \n",
      "Context: {'Ethernity Networks Ltd': AnswerEvent(chain_of_thought='To find the name of the current CEO of Ethernity Networks Ltd., I will search the provided CONTEXT for any mention of executive roles, particularly looking for \"CEO\" or \"Chief Executive Officer\". In the given text, the section \"Directors\" lists various personnel and their roles. It explicitly mentions \"David Levi\" as the \"Chief Executive Officer.\" Thus, based on the information provided in the CONTEXT, the name of the current CEO can be determined.', answer='David Levi')}\n"
     ]
    },
    {
     "data": {
      "text/plain": [
       "ExecutionRequest(chain_of_thought='The CONTEXT provides the name of the current CEO of Ethernity Networks. By examining the company\\'s executive roles, specifically searching for titles like \"CEO\" or \"Chief Executive Officer,\" it identifies \"David Levi\" as the CEO.', answer='David Levi')"
      ]
     },
     "execution_count": 113,
     "metadata": {},
     "output_type": "execute_result"
    }
   ],
   "execution_count": 113
  },
  {
   "metadata": {
    "ExecuteTime": {
     "end_time": "2024-09-02T13:02:26.339887Z",
     "start_time": "2024-09-02T13:02:10.592725Z"
    }
   },
   "cell_type": "code",
   "source": "ask_question(\"Has 'Ethernity Networks Ltd' more liabilities than 'Accuray Incorporated' in 2022?\") # Accuray: 419,660,000$, Ethernity: 12,257,291$ -> no is correct answer",
   "id": "62f09a4e0ed9d6e3",
   "outputs": [
    {
     "name": "stdout",
     "output_type": "stream",
     "text": [
      "## Query: Has 'Ethernity Networks Ltd' more liabilities than 'Accuray Incorporated' in 2022?\n",
      "### ASKING DELEGATION MANAGER: \n",
      "Delegations: \n",
      " chain_of_thought=\"First, I identified the companies mentioned in the query, which are 'Ethernity Networks Ltd' and 'Accuray Incorporated'. Both of these companies exist in the provided list. The query requests a comparison of liabilities between the two companies for the year 2022.\\n\\nTo address this query, I need to formulate precise questions for each company's specialized agent, asking them to retrieve the total liabilities from their respective 2022 financial statements, such as the balance sheet.\\n\\nFinally, I ensure that the agents understand to compare the total liabilities of each company for 2022, so that the initial query can be answered accurately.\" companies=['Ethernity Networks Ltd', 'Accuray Incorporated'] queries=['Retrieve the total liabilities for Ethernity Networks Ltd from the 2022 balance sheet.', 'Retrieve the total liabilities for Accuray Incorporated from the 2022 balance sheet.']\n",
      "### ASKING COMPANY EXPERT: Ethernity Networks Ltd\n",
      "### ASKING COMPANY EXPERT: Accuray Incorporated\n",
      "### ASKING EXECUTION MANAGER: \n",
      "Context: {'Ethernity Networks Ltd': AnswerEvent(chain_of_thought='The provided CONTEXT contains financial information for Ethernity Networks Ltd for the year 2022, including specific notes and figures. However, it does not include a complete balance sheet or a summary of total liabilities. The excerpts cover information about short-term borrowings, liabilities from specific notes, and obligations, but do not present an aggregated total liabilities figure for 2022.', answer='n/a'), 'Accuray Incorporated': AnswerEvent(chain_of_thought=\"To find the total liabilities for Accuray Incorporated in 2022, I need to refer to the consolidated balance sheet data provided in the context. The context mentions 'Total liabilities and stockholders’ equity' for June 30, 2022, as $472,849. In the balance sheet, 'Total liabilities and stockholders’ equity' is usually the sum of total liabilities and total stockholders' equity. I also have the 'Total stockholders' equity' value given as $53,189 for June 30, 2022. Therefore, I can calculate total liabilities by subtracting total stockholders' equity from 'Total liabilities and stockholders’ equity'. This calculation would be: $472,849 - $53,189 = $419,660. Thus, the total liabilities for Accuray Incorporated on June 30, 2022, are $419,660.\", answer=419660)}\n"
     ]
    },
    {
     "data": {
      "text/plain": [
       "ExecutionRequest(chain_of_thought='The context provides liability data for Accuray Incorporated for June 30, 2022, computed to be $419,660. However, for Ethernity Networks Ltd, there is no complete liability figure given for 2022. The context mentions that the financial information for Ethernity Networks is not aggregated into a total liabilities figure for the year 2022. \\n\\nThus, without a total liabilities figure for Ethernity Networks Ltd, I cannot compare the liabilities of Ethernity Networks Ltd to Accuray Incorporated.', answer='n/a')"
      ]
     },
     "execution_count": 114,
     "metadata": {},
     "output_type": "execute_result"
    }
   ],
   "execution_count": 114
  },
  {
   "metadata": {
    "ExecuteTime": {
     "end_time": "2024-09-02T13:02:39.749115Z",
     "start_time": "2024-09-02T13:02:26.339887Z"
    }
   },
   "cell_type": "code",
   "source": "ask_question('Did \"Global Medical REIT Inc.\" have a greater Debt-to-Equity ratio than \"Zegona Communications plc\" in Q2 2021?')",
   "id": "5b32f3cc4f2e18f9",
   "outputs": [
    {
     "name": "stdout",
     "output_type": "stream",
     "text": [
      "## Query: Did \"Global Medical REIT Inc.\" have a greater Debt-to-Equity ratio than \"Zegona Communications plc\" in Q2 2021?\n",
      "### ASKING DELEGATION MANAGER: \n",
      "Delegations: \n",
      " chain_of_thought='I identified the companies by matching their names from the provided list. The query mentions \"Global Medical REIT Inc.\" and \"Zegona Communications plc\", both of which are exact matches. Thus, they are included in the \\'companies\\' list.\\n\\nAs the query involves a comparison of the Debt-to-Equity ratio between these two companies for Q2 2021, I will formulate queries to retrieve the Debt-to-Equity ratio from their financial statements for the specified period. This ratio is typically found in the financial section of the companies\\' quarterly reports, under the balance sheet or in the notes accompanying financial statements, where details of debt and equity are specifically outlined.\\n\\nThe agents need to locate the total liabilities and total equity amounts to calculate the Debt-to-Equity ratio for each company for Q2 2021, then compare these ratios to answer the query.' companies=['Global Medical REIT Inc.', 'Zegona Communications plc'] queries=['Retrieve the Debt-to-Equity ratio for Global Medical REIT Inc. for Q2 2021 from their financial statements. This can usually be found in the balance sheet part of the quarterly report.', 'Retrieve the Debt-to-Equity ratio for Zegona Communications plc for Q2 2021 from their financial statements. This can usually be found in the balance sheet part of the quarterly report.', 'Compare the Debt-to-Equity ratios for Global Medical REIT Inc. and Zegona Communications plc for Q2 2021 to determine which company had a greater ratio.']\n",
      "### ASKING COMPANY EXPERT: Global Medical REIT Inc.\n",
      "### ASKING COMPANY EXPERT: Zegona Communications plc\n",
      "### ASKING EXECUTION MANAGER: \n",
      "Context: {'Global Medical REIT Inc.': AnswerEvent(chain_of_thought='To determine the Debt-to-Equity ratio, we typically divide the total liabilities by the total equity. The context provided includes financial information for the years ended December 31, 2022, and 2021, but does not specify quarterly data for Q2 2021. The total liabilities for December 31, 2021, were $625,908, and the total equity was $637,577. However, since this information is year-end and not for Q2, and no specific data for that quarter is provided in the context, I cannot calculate the specific Debt-to-Equity ratio for Q2 2021.', answer='n/a'), 'Zegona Communications plc': AnswerEvent(chain_of_thought='To find the Debt-to-Equity ratio for Zegona Communications plc for Q2 2021, I need to determine both the total liabilities and the total equity as of the end of June 2021. However, the provided CONTEXT does not have specific data labeled as Q2 2021. It only provides information for year-end data for 2021 and 2022. The data shown includes total liabilities and equity at year-end 2021, which are €726,000 and €14,454,000, respectively.\\n\\nGiven that the request is specifically for Q2 2021 data and the CONTEXT provides only year-end data, there is insufficient data in the provided CONTEXT to calculate the Debt-to-Equity ratio for Q2 2021.', answer='n/a')}\n"
     ]
    },
    {
     "data": {
      "text/plain": [
       "ExecutionRequest(chain_of_thought='To compare the Debt-to-Equity ratios of Global Medical REIT Inc. and Zegona Communications plc for Q2 2021, I need the Debt-to-Equity ratio values specifically for that quarter. The CONTEXT provided lacks any specific data for Q2 2021 for both companies. Global Medical REIT Inc. has year-end 2021 data, the liabilities of $625,908,000, and equity of $637,577,000. Zegona Communications plc has year-end 2021 liabilities of €726,000 and equity of €14,454,000. Since no quarterly data for Q2 2021 is present, I cannot determine or compare the respective Debt-to-Equity ratios for the second quarter of 2021.', answer='n/a')"
      ]
     },
     "execution_count": 115,
     "metadata": {},
     "output_type": "execute_result"
    }
   ],
   "execution_count": 115
  },
  {
   "metadata": {},
   "cell_type": "markdown",
   "source": "## Obtain final results ",
   "id": "6eff4555c6c481a2"
  },
  {
   "metadata": {
    "ExecuteTime": {
     "end_time": "2024-09-02T13:09:46.745083Z",
     "start_time": "2024-09-02T13:03:43.902774Z"
    }
   },
   "cell_type": "code",
   "source": [
    "results = []\n",
    "\n",
    "with open('data/questions.json', 'r') as json_file:\n",
    "    items = json.load(json_file)\n",
    "    for item in items:\n",
    "        # if item[\"schema\"] == \"number\":\n",
    "        if True:\n",
    "            question = item[\"question\"]\n",
    "            response = ask_question(question) # TODO could introduce schema as Daniel with arg=item[\"schema\"] and classes/pydantic\n",
    "            print(response)\n",
    "            results.append({\n",
    "                \"question\": question,\n",
    "                \"schema\": item[\"schema\"],\n",
    "                \"answer\": response.answer\n",
    "            })\n",
    "        else:\n",
    "            print(\"skipping as not number\")\n",
    "        \n",
    "\n",
    "with open('results/results_v3.json', 'w') as json_file:\n",
    "    json.dump(results, json_file, indent=4)"
   ],
   "id": "52e4cdaaa2db4667",
   "outputs": [
    {
     "name": "stdout",
     "output_type": "stream",
     "text": [
      "How much did \"Accuray Incorporated\" spend on risk management in Q2 2022?\n",
      "\n",
      "## Query: How much did \"Accuray Incorporated\" spend on risk management in Q2 2022?\n",
      "### ASKING DELEGATION MANAGER: \n",
      "Delegations: \n",
      " chain_of_thought='The query specifically mentions \"Accuray Incorporated\" which matches exactly with one of the companies from the provided list. Therefore, I proceed with extracting information related to this company. The query asks about expenditure on risk management for this company in Q2 2022. This type of information would typically be found in the \"Operating Expenses\" section of Accuray\\'s quarterly financial reports or potentially in a dedicated section discussing risk management costs. The query is directly related to financial statement data, so a numerical or specific spending detail is expected.' companies=['Accuray Incorporated'] queries=[\"Retrieve the expenditure on risk management for Accuray Incorporated for Q2 2022 from the company's quarterly financial report. Look for specific allocations under 'Operating Expenses' or sections discussing risk management costs.\"]\n",
      "### ASKING COMPANY EXPERT: Accuray Incorporated\n",
      "### ASKING EXECUTION MANAGER: \n",
      "Context: {'Accuray Incorporated': AnswerEvent(chain_of_thought=\"The context provided does not include any specific mention or detailed breakdown of expenditures, let alone specific allocations towards 'risk management' for Q2 2022. The documents provided are focused more on broad financials, risks due to COVID-19, and general financial conditions rather than specific quarterly financial breakdowns.\", answer='n/a')}\n",
      "chain_of_thought=\"The context does not provide a specific mention or breakdown of 'Accuray Incorporated's' expenditures on 'risk management' for Q2 2022. The available data focuses on general financials and risks, but no specific amounts for risk management expenditures are included.\" answer='n/a'\n",
      "Who is the CEO in the company \"Zegona Communications plc\"?\n",
      "\n",
      "## Query: Who is the CEO in the company \"Zegona Communications plc\"?\n",
      "### ASKING DELEGATION MANAGER: \n",
      "Delegations: \n",
      " chain_of_thought=\"The query directly mentioned 'Zegona Communications plc', which matches exactly with one of the companies listed. This allows me to create a specific query regarding the CEO of this company. To gather information about the CEO, I'm instructing the specialized agent to look in sections of the company's annual report that typically discuss corporate governance or leadership, such as the 'Leadership' or 'Board of Directors' section.\" companies=['Zegona Communications plc'] queries=[\"Find the name of the CEO in the company 'Zegona Communications plc'. The information is likely to be found in the 'Leadership' or 'Board of Directors' section of their latest annual report.\"]\n",
      "### ASKING COMPANY EXPERT: Zegona Communications plc\n",
      "### ASKING EXECUTION MANAGER: \n",
      "Context: {'Zegona Communications plc': AnswerEvent(chain_of_thought='The provided CONTEXT includes a section that profiles the directors of Zegona Communications plc. Specifically, it states: \"Eamonn O’Hare, Chairman and CEO (appointed 19 January 2015)\". Therefore, Eamonn O’Hare is identified as both the Chairman and CEO of the company.', answer='Eamonn O’Hare')}\n",
      "chain_of_thought='The CONTEXT provides information about the CEO of Zegona Communications plc. It specifically notes: \"Eamonn O’Hare, Chairman and CEO (appointed 19 January 2015)\". Therefore, based on the provided information, Eamonn O’Hare is the CEO of the company.' answer='Eamonn O’Hare'\n",
      "Did \"Global Medical REIT Inc.\" have a greater Debt-to-Equity ratio than \"Zegona Communications plc\" in Q2 2021?\n",
      "\n",
      "## Query: Did \"Global Medical REIT Inc.\" have a greater Debt-to-Equity ratio than \"Zegona Communications plc\" in Q2 2021?\n",
      "### ASKING DELEGATION MANAGER: \n",
      "Delegations: \n",
      " chain_of_thought='I identified two companies from the query: \"Global Medical REIT Inc.\" and \"Zegona Communications plc\". Both names correctly match the provided list of available companies. The query involves a financial comparison of the Debt-to-Equity ratio for both companies in Q2 2021, so I need to retrieve this specific ratio for each company.\\n\\nTo form the queries, I\\'ll instruct the agents to refer to the Q2 2021 financial statements of both companies. Typically, the Debt-to-Equity ratio can be found in the financial statements, either in the balance sheet or under a section that summarises key financial ratios. The agents should gather the total liabilities and shareholder\\'s equity from each company\\'s Q2 2021 reports if the ratio is not directly provided.\\n\\nI will now proceed to list these queries accordingly.' companies=['Global Medical REIT Inc.', 'Zegona Communications plc'] queries=[\"Retrieve the Debt-to-Equity ratio for Global Medical REIT Inc. for Q2 2021. If not directly available, calculate it using total liabilities and total shareholder's equity from the financial statements.\", \"Retrieve the Debt-to-Equity ratio for Zegona Communications plc for Q2 2021. If not directly available, calculate it using total liabilities and total shareholder's equity from the financial statements.\"]\n",
      "### ASKING COMPANY EXPERT: Global Medical REIT Inc.\n",
      "### ASKING COMPANY EXPERT: Zegona Communications plc\n",
      "### ASKING EXECUTION MANAGER: \n",
      "Context: {'Global Medical REIT Inc.': AnswerEvent(chain_of_thought=\"1. To find the Debt-to-Equity ratio, we need Total Liabilities and Total Shareholder's Equity.\\n2. The context provides Total Liabilities and Total Shareholder's Equity for December 31, 2021, but not for Q2 2021 specifically.\\n3. Therefore, we will use the December 31, 2021 values for an approximate calculation.\\n4. From the context, at year-end 2021, Total Liabilities are $625,908,000 and Total Shareholder’s Equity is $637,577,000.\\n5. Debt-to-Equity Ratio is calculated as Total Liabilities / Total Shareholder's Equity.\\n   - Numerator (Total Liabilities) = 625908.\\n   - Denominator (Total Shareholder's Equity) = 637577.\\n6. Calculate the Debt-to-Equity Ratio: 625908 / 637577 = 0.9816.\", answer=0.9816), 'Zegona Communications plc': AnswerEvent(chain_of_thought=\"To calculate the Debt-to-Equity ratio, the formula is Total Liabilities / Total Shareholder's Equity.\\n\\nFrom the available data, the Q2 2021 information is not directly available. However, I will use the closest data, which is the end-of-year data for 2021.\\n\\nFrom the context, we have:\\n- Total liabilities at 31 December 2021: €1.5 million\\n- Total equity attributable to shareholders at 31 December 2021: €14,454,000\\n\\nNow, we calculate the Debt-to-Equity ratio:\\n- Numerator (Total Liabilities): 1,500,000\\n- Denominator (Total Shareholder's Equity): 14,454,000\\n\\nDebt-to-Equity ratio = 1,500,000 / 14,454,000 = 0.1038\", answer=0.1038)}\n",
      "chain_of_thought=\"1. We're tasked to compare Debt-to-Equity ratios of two companies in Q2 2021.\\n2. The context does not provide exact Q2 2021 data, but offers end-of-year data for 2021 instead, which we will use as the closest approximation.\\n3. For Global Medical REIT Inc., the end-of-year Debt-to-Equity ratio is calculated as 0.9816.\\n4. For Zegona Communications plc, the end-of-year Debt-to-Equity ratio is calculated as 0.1038.\\n5. Compare these two ratios: 0.9816 for Global Medical REIT Inc. and 0.1038 for Zegona Communications plc.\\n6. 0.9816 is greater than 0.1038.\\n7. Thus, Global Medical REIT Inc. had a greater Debt-to-Equity ratio than Zegona Communications plc based on the available closest data.\" answer='yes'\n",
      "How many stores did \"Accuray Incorporated\" have in the end of fiscal year 2021?\n",
      "\n",
      "## Query: How many stores did \"Accuray Incorporated\" have in the end of fiscal year 2021?\n",
      "### ASKING DELEGATION MANAGER: \n",
      "Delegations: \n",
      " chain_of_thought=\"The query asks for the number of stores that 'Accuray Incorporated' had at the end of fiscal year 2021. I searched for the company name in the provided list of companies, and identified 'Accuray Incorporated' as an exact match. Accuray Incorporated is a company which specializes in radiation therapy and as such, does not have physical 'stores' akin to retail businesses. Therefore, the term 'stores' does not apply, and the query might be meant to ask for facilities, offices, or similar. However, I will assume the query asks for traditional retail locations, and since Accuray does not have these, the query should reflect so.\" companies=['Accuray Incorporated'] queries=['Retrieve the number of facilities or offices Accuray Incorporated had at the end of fiscal year 2021, if applicable. Check the annual report sections detailing company facilities or office locations, typically found in the business overview or property sections.']\n",
      "### ASKING COMPANY EXPERT: Accuray Incorporated\n",
      "### ASKING EXECUTION MANAGER: \n",
      "Context: {'Accuray Incorporated': AnswerEvent(chain_of_thought=\"To determine the number of facilities or offices Accuray Incorporated had at the end of fiscal year 2021, the context provides details about the company's facilities worldwide. It lists specific leases for office buildings and manufacturing facilities in Madison, Wisconsin; Morges, Switzerland; and Chengdu, China. Additionally, the company maintains offices in various locations including Pennsylvania; Durham, North Carolina; Solon, Ohio; China; Hong Kong; Japan; Spain; India; Russia; Germany; Brazil; and the United Arab Emirates. To count the number of facilities, I'll sum up each individual location and significant leases mentioned:\\n\\n1. Madison, Wisconsin:\\n   - Office building (1)\\n   - Manufacturing facility (1)\\n   - Warehouse and office space in two buildings (2 buildings)\\n\\n2. Morges, Switzerland:\\n   - One office building (1)\\n\\n3. Chengdu, China:\\n   - One manufacturing facility (1)\\n\\n4. Other countries (considering each country as one location regardless of the number of offices):\\n   - Pennsylvania (1)\\n   - Durham, North Carolina (1)\\n   - Solon, Ohio (1)\\n   - China (1)\\n   - Hong Kong (1)\\n   - Japan (1)\\n   - Spain (1)\\n   - India (1)\\n   - Russia (1)\\n   - Germany (1)\\n   - Brazil (1)\\n   - United Arab Emirates (1)\\n\\nAdding these together gives a total of 17 distinct facilities or offices.\", answer=17)}\n",
      "chain_of_thought=\"The context provides information about the facilities and offices of Accuray Incorporated at the end of fiscal year 2021. It details specific leases and locations worldwide, including Madison, Wisconsin; Morges, Switzerland; Chengdu, China; and various countries where they maintain offices. Each major location is counted, and a total of 17 distinct facilities or offices are determined from this information. Although the query asks about 'stores,' no stores are mentioned in the context, but 17 facilities and offices can be considered a proxy to answer to the best available data.\" answer=17\n",
      "How much did \"Sandwell Aquatics Centre\" spend on R&D in Q2 2023?\n",
      "\n",
      "## Query: How much did \"Sandwell Aquatics Centre\" spend on R&D in Q2 2023?\n",
      "### ASKING DELEGATION MANAGER: \n",
      "Delegations: \n",
      " chain_of_thought='The query specifically mentions \"Sandwell Aquatics Centre,\" which is listed as one of the companies I can retrieve data for. I will focus on this company. The query is about R&D expenditure in Q2 2023. To formulate the query, I should instruct the agent to look at the company\\'s financial or quarterly reports, specifically at sections detailing expenses or financial statements where R&D costs are usually reported. Since R&D is a specific expenditure, it would typically be found under the operating expenses or a similar section in the financial statements for the specified period.' companies=['Sandwell Aquatics Centre'] queries=['Retrieve the R&D expenditure of Sandwell Aquatics Centre for Q2 2023 from the financial or quarterly reports, focusing on sections like operating expenses or specific notes on R&D costs.']\n",
      "### ASKING COMPANY EXPERT: Sandwell Aquatics Centre\n",
      "### ASKING EXECUTION MANAGER: \n",
      "Context: {'Sandwell Aquatics Centre': AnswerEvent(chain_of_thought='The provided CONTEXT consists of information from the annual report and financial statements for the year ending 31 December 2022. However, there is no mention of any R&D expenditure or specific financial details pertaining to Sandwell Aquatics Centre for Q2 2023. The report primarily focuses on performance metrics, revenue, profits, and balance sheet items for the year 2022, without breakdowns for R&D expenditures or quarterly data for 2023.', answer='n/a')}\n",
      "chain_of_thought='The CONTEXT does not provide any specific financial details for Sandwell Aquatics Centre concerning their R&D expenditure for Q2 2023. The available information is from an annual report for the year ending December 2022, which lacks details on R&D expenses or quarterly breakdowns for 2023. Therefore, I cannot determine the R&D spending for Q2 2023.' answer='n/a'\n",
      "Who is the CFO in the company \"EMT\"?\n",
      "\n",
      "## Query: Who is the CFO in the company \"EMT\"?\n",
      "### ASKING DELEGATION MANAGER: \n",
      "Delegations: \n",
      " chain_of_thought=\"The query specifically asks for the CFO of the company 'EMT'. 'EMT' is present in the list of companies provided, so it qualifies under the assigned guidelines. The task involves direct identification of the CFO, which is usually found in the 'Leadership' or 'Executive Management' section of a company's annual report or on their official website's executive team page. Therefore, I will create a query directed at retrieving this key personnel data.\" companies=['EMT'] queries=[\"Retrieve the current CFO information for EMT from their executive leadership page or the latest annual report's leadership section.\"]\n",
      "### ASKING COMPANY EXPERT: EMT\n",
      "### ASKING EXECUTION MANAGER: \n",
      "Context: {'EMT': AnswerEvent(chain_of_thought='The provided context contains details on the executives and directors of eMetals Limited. However, it specifically mentions the Executive Director, Non-executive Chairman, and Non-executive Director names but does not provide information on the CFO or any other executive roles beyond these. Since the CFO information is not included in the given context, it is considered unavailable.', answer='n/a')}\n",
      "chain_of_thought='The provided context contains details on the executives and directors of eMetals Limited. However, it specifically mentions the Executive Director, Non-executive Chairman, and Non-executive Director names but does not provide information on the CFO or any other executive roles beyond these. Since the CFO information is not included in the given context, it is considered unavailable.' answer='n/a'\n",
      "Did \"Calyxt, Inc.\" have a greater Return on Assets (ROA) than \"Global Medical REIT Inc.\" in Q2 2023?\n",
      "\n",
      "## Query: Did \"Calyxt, Inc.\" have a greater Return on Assets (ROA) than \"Global Medical REIT Inc.\" in Q2 2023?\n",
      "### ASKING DELEGATION MANAGER: \n",
      "Delegations: \n",
      " chain_of_thought='The query explicitly mentions two companies, \"Calyxt, Inc.\" and \"Global Medical REIT Inc.\". Both of these are present in the given list, so I proceed to identify the required information. The query asks for a comparison of \"Return on Assets (ROA)\" between the two companies for Q2 2023.\\n\\nROA is calculated as Net Income divided by Total Assets. To formulate precise queries for the agents:\\n\\n1. For \"Calyxt, Inc.\", the agent should retrieve Net Income and Total Assets from the Q2 2023 financial statements in the company\\'s report. These figures are usually found in the income statement and balance sheet sections, respectively.\\n\\n2. For \"Global Medical REIT Inc.\", the agent should do the same: obtain the Net Income and Total Assets from the Q2 2023 financial statements, which are also typically available in the income statement and balance sheet sections.\\n\\nFinally, instruct the agents to calculate ROA by dividing the Net Income by Total Assets for each company and compare the two results.\\n\\nHence, no \\'SKIP\\' is applied here as both companies are identifiable and the query is executable.' companies=['Calyxt, Inc.', 'Global Medical REIT Inc.'] queries=['Retrieve the Net Income and Total Assets for Calyxt, Inc. for Q2 2023 from their income statement and balance sheet, respectively, and calculate the ROA by dividing Net Income by Total Assets.', 'Retrieve the Net Income and Total Assets for Global Medical REIT Inc. for Q2 2023 from their income statement and balance sheet, respectively, and calculate the ROA by dividing Net Income by Total Assets.', 'Compare the ROA for Calyxt, Inc. and Global Medical REIT Inc. for Q2 2023 to determine which company has a greater ROA.']\n",
      "### ASKING COMPANY EXPERT: Calyxt, Inc.\n",
      "### ASKING COMPANY EXPERT: Global Medical REIT Inc.\n",
      "### ASKING EXECUTION MANAGER: \n",
      "Context: {'Calyxt, Inc.': AnswerEvent(chain_of_thought='To calculate the Return on Assets (ROA) for Calyxt, Inc. for Q2 2023, we need to find the Net Income and Total Assets for that period.\\n\\nHowever, the provided CONTEXT includes income statements and balance sheets up to December 31, 2022. The information contained is as follows:\\n1. Net loss for the year ended December 31, 2022: $(16,891)\\n2. Total assets as of December 31, 2022: $22,421\\n\\nThe CONTEXT does not provide data specific to Q2 2023. Since we have only the annual data for the end of 2022, we cannot calculate the ROA for Q2 2023 using the data available in the CONTEXT.', answer='n/a'), 'Global Medical REIT Inc.': AnswerEvent(chain_of_thought='1. The context provides financial data, including consolidated statements of operations and comprehensive income, up to December 31, 2022. There is no specific information for Q2 2023 provided.\\n2. To calculate ROA (Return on Assets), we need Net Income and Total Assets for the specific period of interest, which is Q2 2023 in this case.\\n3. The context does not contain any information for Q2 2023, so calculating ROA for Q2 2023 is not possible with the given data.', answer='n/a')}\n",
      "chain_of_thought=\"To determine if Calyxt, Inc. had a greater Return on Assets (ROA) than Global Medical REIT Inc. in Q2 2023, we need the ROA for both companies for that specific quarter.\\n\\n1. For Calyxt, Inc., the CONTEXT only provides net income and total assets as of December 31, 2022, with no details specific to Q2 2023.\\n2. Similarly, for Global Medical REIT Inc., the CONTEXT provides financial data only up to December 31, 2022, with no specific information for Q2 2023.\\n\\nSince neither company's ROA can be calculated for Q2 2023 based on the available CONTEXT, we cannot make a comparison.\" answer='n/a'\n",
      "How many stores did \"OTC_UNCIF\" have in the end of fiscal year 2022?\n",
      "\n",
      "## Query: How many stores did \"OTC_UNCIF\" have in the end of fiscal year 2022?\n",
      "### ASKING DELEGATION MANAGER: \n",
      "Delegations: \n",
      " chain_of_thought='The query refers to a company ticker \"OTC_UNCIF\", which does not match any company in the provided list. The company name should exactly match one of the provided names or be adjusted to match an incomplete reference, such as those missing suffixes like \\'Inc.\\' or \\'Ltd.\\'. Since \"OTC_UNCIF\" does not match any of the given company names, there are no valid companies or specific queries to formulate.\\nThus, this query should be marked as \\'SKIP\\'.' companies=['SKIP'] queries=['SKIP']\n",
      "### ASKING EXECUTION MANAGER: \n",
      "Context: {'SKIP': 'No data available'}\n",
      "chain_of_thought='The context provides no data about the number of stores for \"OTC_UNCIF\" at the end of fiscal year 2022. Hence, there is insufficient information to determine the number of stores.' answer='n/a'\n",
      "How much did \"Accuray Incorporated\" spend on customer acquisition in Q2 2021?\n",
      "\n",
      "## Query: How much did \"Accuray Incorporated\" spend on customer acquisition in Q2 2021?\n",
      "### ASKING DELEGATION MANAGER: \n",
      "Delegations: \n",
      " chain_of_thought='The query mentions \"Accuray Incorporated,\" which is listed as one of the available companies to retrieve data for. As it\\'s mentioned correctly, I will extract this company name for the task. The next step involves formulating a query to find the customer acquisition costs for Q2 2021. Typically, information on customer acquisition costs can be found in the Sales and Marketing section of quarterly or annual reports. It\\'s essential to look for terms like \\'Customer Acquisition Cost (CAC)\\' or equivalent marketing costs reported by the company. Given this information, the query will be directed at retrieving customer acquisition cost for Q2 2021 from Accuray Incorporated\\'s relevant financial disclosures or reports.' companies=['Accuray Incorporated'] queries=[\"What was the customer acquisition cost for Accuray Incorporated in Q2 2021? Check the quarterly report for Q2 2021, within the Sales and Marketing section, and look for mentions of 'Customer Acquisition Cost' or similar expenses.\"]\n",
      "### ASKING COMPANY EXPERT: Accuray Incorporated\n",
      "### ASKING EXECUTION MANAGER: \n",
      "Context: {'Accuray Incorporated': AnswerEvent(chain_of_thought='The provided context includes information about Accuray Incorporated, including general business activities, accounting principles, and some financial figures. However, the context does not contain specific details about the Customer Acquisition Cost (CAC) for Q2 2021 or any specific quarterly report insights related to Sales and Marketing expenses, such as CAC or similar terms.', answer='n/a')}\n",
      "chain_of_thought='The context provided mentions that there is no specific information on Customer Acquisition Cost (CAC) for Q2 2021, nor any specific quarterly report insights related to Sales and Marketing expenses for Accuray Incorporated. As such, the available data does not include the details necessary to answer the query.' answer='n/a'\n",
      "Who is the CEO in the company \"Accuray Incorporated\"?\n",
      "\n",
      "## Query: Who is the CEO in the company \"Accuray Incorporated\"?\n",
      "### ASKING DELEGATION MANAGER: \n",
      "Delegations: \n",
      " chain_of_thought=\"The query specifically mentions 'Accuray Incorporated', which matches exactly with one of the companies from the provided list. Therefore, I will generate a specific query to find the CEO of Accuray Incorporated. Generally, the information about the CEO can be found in the 'Leadership' or 'Executive Team' section of the company's annual reports or on the company's official website.\" companies=['Accuray Incorporated'] queries=[\"Retrieve the name of the CEO of Accuray Incorporated from the latest annual report. Check the 'Leadership' or 'Executive Team' section of the report.\"]\n",
      "### ASKING COMPANY EXPERT: Accuray Incorporated\n",
      "### ASKING EXECUTION MANAGER: \n",
      "Context: {'Accuray Incorporated': AnswerEvent(chain_of_thought='The CONTEXT contains information from the annual report of Accuray Incorporated, specifically mentioning a statement on page 149 that is signed by the CEO. The signature section lists the name Suzanne Winter along with her title as President and Chief Executive Officer. This indicates that Suzanne Winter is the CEO.', answer='Suzanne Winter')}\n",
      "chain_of_thought='The CONTEXT provides specific data from an annual report of Accuray Incorporated, mentioning a signature by the CEO on page 149. The signature section lists Suzanne Winter with her title as President and Chief Executive Officer. This confirms that Suzanne Winter is the CEO.' answer='Suzanne Winter'\n",
      "Did \"Comet Holding AG\" have a greater Operating Margin than \"Ethernity Networks Ltd\" in Q2 2022?\n",
      "\n",
      "## Query: Did \"Comet Holding AG\" have a greater Operating Margin than \"Ethernity Networks Ltd\" in Q2 2022?\n",
      "### ASKING DELEGATION MANAGER: \n",
      "Delegations: \n",
      " chain_of_thought='The query mentions two companies: \"Comet Holding AG\" and \"Ethernity Networks Ltd\". \"Ethernity Networks Ltd\" is a company present in the provided list. However, \"Comet Holding AG\" is not present in the list. Since the list only provides specific companies that the specialized agents can access, and we have one company that is not on the list, the only course of action is to mark this as \\'SKIP\\' for both \\'companies\\' and \\'queries\\'. Thus, the system will not be able to handle this request due to the unavailability of \"Comet Holding AG\" in the list of specified companies, leading me to decide on skipping this query entirely.' companies=['SKIP'] queries=['SKIP']\n",
      "### ASKING EXECUTION MANAGER: \n",
      "Context: {'SKIP': 'No data available'}\n",
      "chain_of_thought='The context states \\'SKIP\\': \\'No data available\\', which indicates that there is no data provided on the operating margin for either \"Comet Holding AG\" or \"Ethernity Networks Ltd\" for Q2 2022. Without specific data, I cannot compare their operating margins.' answer='n/a'\n",
      "How many stores did \"VENUS METALS CORPORATION LIMITED\" have in the end of fiscal year 2022?\n",
      "\n",
      "## Query: How many stores did \"VENUS METALS CORPORATION LIMITED\" have in the end of fiscal year 2022?\n",
      "### ASKING DELEGATION MANAGER: \n",
      "Delegations: \n",
      " chain_of_thought=\"The query requests information about the number of stores VENUS METALS CORPORATION LIMITED had at the end of fiscal year 2022. Upon analyzing the list of available companies, VENUS METALS CORPORATION LIMITED is included. Although the name suggests it is unlikely to have physical stores since it is a metals corporation, the task is to extract relevant information based on the given query. The most relevant data would typically be found in the company's annual report under sections detailing business operations or physical assets.\" companies=['VENUS METALS CORPORATION LIMITED'] queries=[\"Retrieve information on the number of retail or operational sites listed in VENUS METALS CORPORATION LIMITED's annual report for the fiscal year 2022. Check sections detailing business operations or properties owned.\"]\n",
      "### ASKING COMPANY EXPERT: VENUS METALS CORPORATION LIMITED\n",
      "### ASKING EXECUTION MANAGER: \n",
      "Context: {'VENUS METALS CORPORATION LIMITED': AnswerEvent(chain_of_thought=\"To locate information about the number of retail or operational sites, I would examine sections of the annual report related to business operations or the properties owned by Venus Metals Corporation Limited. However, the context provided contains only metadata and repeated title information about Venus Metals Corporation Limited's annual report for 2022 without specific details from any such sections. There is no information available in the context describing retail or operational sites.\", answer='n/a')}\n",
      "chain_of_thought=\"The context provided indicates that the answer retrieval system searched for information regarding the number of stores or operational sites in Venus Metals Corporation Limited's annual report for 2022. However, the context lacks specific details and only contains metadata. There is no available data on the number of stores operated by the company. Therefore, the information is not available.\" answer='n/a'\n",
      "How much did \"Ethernity Networks Ltd\" spend on R&D in Q2 2023?\n",
      "\n",
      "## Query: How much did \"Ethernity Networks Ltd\" spend on R&D in Q2 2023?\n",
      "### ASKING DELEGATION MANAGER: \n",
      "Delegations: \n",
      " chain_of_thought=\"The company mentioned in the query is 'Ethernity Networks Ltd'. This name matches exactly with one of the companies listed as 'Ethernity Networks Ltd'. The query specifically asks about the R&D expenditure for Q2 2023, which is a typical item that can be found in a company's quarterly financial report, often under the 'Income Statement' section. However, it might also be discussed in management's discussion and analysis section where they elaborate on operational expenses. Therefore, proceed to create a query for retrieving this specific detail from potential quarterly reports or financial highlights provided on Ethernity Networks Ltd's investor relations page or financial filings.\" companies=['Ethernity Networks Ltd'] queries=[\"Retrieve the R&D expenditure for Ethernity Networks Ltd for Q2 2023, typically reported under the 'Income Statement' in the quarterly financial reports. Check the management's discussion section for any additional insights on R&D spending.\"]\n",
      "### ASKING COMPANY EXPERT: Ethernity Networks Ltd\n",
      "### ASKING EXECUTION MANAGER: \n",
      "Context: {'Ethernity Networks Ltd': AnswerEvent(chain_of_thought=\"The context provided consists of the annual report and financial statements for Ethernity Networks Ltd for the year ended 31 December 2022. There is no specific information available regarding the R&D expenditure for Q2 2023.\\n\\nTypically, R&D expenditure would be found in the Income Statement or discussed under the management's discussion section for quarterly reports. However, the provided document only includes annual financials up to the end of 2022, with mentions of R&D being focused on organisational and risk management strategies.\\n\\nDue to the lack of specific quarterly (Q2 2023) data in the provided context, it is impossible to determine the R&D expenditure for that period.\", answer='n/a')}\n",
      "chain_of_thought='The provided context includes financial data for Ethernity Networks Ltd up to the end of 2022. There is no mention of any R&D expenditure data for Q2 2023. The information focuses on annual reports only, which lack quarterly breakdowns or specific details about the R&D spending for Q2 2023. Therefore, based on the absence of relevant data for the requested time period, it is concluded that it is not possible to determine the R&D expenditure for Q2 2023 using the provided context.' answer='n/a'\n",
      "Who is the COO in the company \"Sandwell Aquatics Centre\"?\n",
      "\n",
      "## Query: Who is the COO in the company \"Sandwell Aquatics Centre\"?\n",
      "### ASKING DELEGATION MANAGER: \n",
      "Delegations: \n",
      " chain_of_thought='The query asks for information about \"Sandwell Aquatics Centre\", which is included exactly in the provided list of companies. Therefore, the query can be processed. The task is to find out who is the Chief Operating Officer (COO) at Sandwell Aquatics Centre. To formulate the query, I consider that the specialized agents should look into the company\\'s senior management or executive team section of their organizational structure or leadership team in company reports.' companies=['Sandwell Aquatics Centre'] queries=[\"Retrieve details of the COO at Sandwell Aquatics Centre from the senior management or leadership team section in the company's report or official website.\"]\n",
      "### ASKING COMPANY EXPERT: Sandwell Aquatics Centre\n",
      "### ASKING EXECUTION MANAGER: \n",
      "Context: {'Sandwell Aquatics Centre': AnswerEvent(chain_of_thought='The provided CONTEXT does not contain any specific mention of the COO or the senior management structure for Sandwell Aquatics Centre. The documents included are related to the annual report of a company, possibly named Billington, but there is no association between Sandwell Aquatics Centre and a COO in the text. Also, there is no section specifically labeled as the senior management or leadership team details.', answer='n/a')}\n",
      "chain_of_thought=\"The CONTEXT provided does not include any information regarding the COO or the senior management structure of Sandwell Aquatics Centre. The focus of the CONTEXT is on Billington's annual report, which is unrelated to the query about Sandwell Aquatics Centre. As there is no specific mention of a COO for Sandwell Aquatics Centre in the given data, and no leadership details available in the provided CONTEXT, we cannot provide an answer.\" answer='n/a'\n",
      "Did \"Calyxt, Inc.\" have a greater market capitalization than \"NICE\" in Q2 2022?\n",
      "\n",
      "## Query: Did \"Calyxt, Inc.\" have a greater market capitalization than \"NICE\" in Q2 2022?\n",
      "### ASKING DELEGATION MANAGER: \n",
      "Delegations: \n",
      " chain_of_thought=\"I identified the companies mentioned in the query as 'Calyxt, Inc.' and 'NICE' from the provided list. Since both companies are on the list, I can proceed to formulate the queries. The query requires a comparison of market capitalization between the two companies in Q2 2022, which means the specialized agents need to retrieve the market capitalization data at the end of Q2 2022 for both 'Calyxt, Inc.' and 'NICE'. This data is usually found in the investor relations section of the companies' quarterly financial reports or in the summary sections of Q2 financial statements. The agents should then compare these values to determine which was greater. I have not marked this as 'SKIP' because both companies are identifiable and the necessary financial metric is clear.\" companies=['Calyxt, Inc.', 'NICE'] queries=['Retrieve the market capitalization of Calyxt, Inc. as of the end of Q2 2022 from their quarterly financial reports or investor relations announcements.', 'Retrieve the market capitalization of NICE as of the end of Q2 2022 from their quarterly financial reports or investor relations announcements.']\n",
      "### ASKING COMPANY EXPERT: Calyxt, Inc.\n",
      "### ASKING COMPANY EXPERT: NICE\n",
      "### ASKING EXECUTION MANAGER: \n",
      "Context: {'Calyxt, Inc.': AnswerEvent(chain_of_thought='The CONTEXT does not contain any specific numeric data or information regarding the market capitalization of Calyxt, Inc. at the end of Q2 2022. The provided documents primarily include details about employment numbers, risk factors, equity compensation plans, company background, and business operations without mentioning their market capitalization for any specific period.', answer='n/a'), 'NICE': AnswerEvent(chain_of_thought=\"The provided context does not contain any information pertaining to the market capitalization of NICE as of the end of Q2 2022. The documents primarily discuss NICE's business operations, its financial growth in 2022, significant achievements, and other corporate details, but do not provide specific numeric data about market capitalization for any quarter or specific date.\\n\\nSince the context lacks the specific data on market capitalization, I conclude that the information is unavailable.\", answer='n/a')}\n",
      "chain_of_thought='The provided CONTEXT does not include any specific numeric data regarding the market capitalization of either Calyxt, Inc. or NICE for Q2 2022. The CONTEXT indicates that no information on market capitalization for this period is available for both companies. Since the necessary data to compare their market capitalization in Q2 2022 is not provided, it is impossible to determine which company had a greater market capitalization.\\n\\nGiven the lack of specific data pertinent to the QUERY within the CONTEXT provided, the appropriate conclusion is that the information is unavailable.' answer='n/a'\n",
      "How many stores did \"Renishaw plc\" have in the end of fiscal year 2023?\n",
      "\n",
      "## Query: How many stores did \"Renishaw plc\" have in the end of fiscal year 2023?\n",
      "### ASKING DELEGATION MANAGER: \n",
      "Delegations: \n",
      " chain_of_thought=\"The query requests information about 'Renishaw plc,' however, 'Renishaw plc' is not listed among the companies ['Air Products', 'Sandwell Aquatics Centre', 'Zegona Communications plc', 'Limbach Holdings, Inc.', 'Motus GI Holdings, Inc.', 'Mercurity Fintech Holding Inc.', 'Calyxt, Inc.', 'EMT', 'TD SYNNEX', 'Canadian Banc Corp.', 'Platform Technology', 'Kooth Plc', 'Ethernity Networks Ltd', 'NICE', 'Eurocell PLC', 'VENUS METALS CORPORATION LIMITED', 'Accuray Incorporated', 'Nykredit', 'Strike Energy Limited', 'Global Medical REIT Inc.']. Since 'Renishaw plc' is not in this list, I must mark both 'companies' and 'queries' with 'SKIP'.\" companies=['SKIP'] queries=['SKIP']\n",
      "### ASKING EXECUTION MANAGER: \n",
      "Context: {'SKIP': 'No data available'}\n",
      "chain_of_thought=\"The context indicates 'No data available' regarding the number of stores for Renishaw plc. Since there is no specific data provided in the context window about the number of stores, I must conclude that there is insufficient information to answer the query.\" answer='n/a'\n",
      "How much did \"TD SYNNEX\" spend on R&D in Q2 2022?\n",
      "\n",
      "## Query: How much did \"TD SYNNEX\" spend on R&D in Q2 2022?\n",
      "### ASKING DELEGATION MANAGER: \n",
      "Delegations: \n",
      " chain_of_thought='The query specifically mentions \"TD SYNNEX,\" which is correctly identified as one of the companies I can delegate queries to. Therefore, the company list will include \"TD SYNNEX.\" The query asks for R&D expenditure in a specific quarter, Q2 2022, which is information usually found in the income statement or the notes to financial statements within the quarterly report provided by the company.' companies=['TD SYNNEX'] queries=[\"Retrieve the R&D expenditure for TD SYNNEX in Q2 2022. Look for this information in TD SYNNEX's Q2 2022 financial report, typically located within the income statement or notes section which details specific expense categories.\"]\n",
      "### ASKING COMPANY EXPERT: TD SYNNEX\n",
      "### ASKING EXECUTION MANAGER: \n",
      "Context: {'TD SYNNEX': AnswerEvent(chain_of_thought=\"The available CONTEXT does not provide specific details on TD SYNNEX's R&D expenditure for any period, nor does it include an income statement or detailed financial information broken down by expense categories for Q2 2022. It mainly discusses share repurchase programs, acquisition and restructuring costs, and other general financial metrics for the fiscal year ended November 30, 2022.\", answer='n/a')}\n",
      "chain_of_thought=\"The CONTEXT clearly states that it lacks specific information regarding TD SYNNEX's R&D expenditure for any period, including Q2 2022. The data provided focuses on other financial aspects such as share repurchases, acquisition costs, and general financial metrics for the fiscal year ended November 30, 2022. Without specific details on R&D expenses, we cannot provide an accurate answer to the user's query.\" answer='n/a'\n",
      "Who is the CFO in the company \"TD SYNNEX\"?\n",
      "\n",
      "## Query: Who is the CFO in the company \"TD SYNNEX\"?\n",
      "### ASKING DELEGATION MANAGER: \n",
      "Delegations: \n",
      " chain_of_thought='The query directly mentions the company \"TD SYNNEX,\" which matches exactly with one of the company names in the provided list. Therefore, I can proceed with extracting the company and formulating the query. The query seeks information about the CFO, which is typically found in the company\\'s annual report under the \\'Leadership\\' or \\'Management\\' section. In some cases, it might also be available in investor relations presentations or press releases on the company\\'s website.' companies=['TD SYNNEX'] queries=[\"Retrieve the name of the CFO of TD SYNNEX from the latest annual report, leadership section, or company's official announcements.\"]\n",
      "### ASKING COMPANY EXPERT: TD SYNNEX\n",
      "### ASKING EXECUTION MANAGER: \n",
      "Context: {'TD SYNNEX': AnswerEvent(chain_of_thought='The provided CONTEXT does not include the name of the CFO of TD SYNNEX. It provides information about directors, their roles, and qualifications, but does not specify who the CFO is. There is mention of the CEO, but no direct mention of any CFO or similar role. Therefore, based on the given CONTEXT, it is not possible to determine the name of the CFO.', answer='n/a')}\n",
      "chain_of_thought='The context indicates that the provided CONTEXT does not include the name of the CFO of TD SYNNEX. While it provides information about directors, roles, and qualifications, it lacks specific details regarding the CFO. Therefore, I cannot determine the name of the CFO based on the available CONTEXT.' answer='n/a'\n",
      "Did \"Eurocell PLC\" have a greater Return on Equity (ROE) than \"Strike Energy Limited\" in Q2 2022?\n",
      "\n",
      "## Query: Did \"Eurocell PLC\" have a greater Return on Equity (ROE) than \"Strike Energy Limited\" in Q2 2022?\n",
      "### ASKING DELEGATION MANAGER: \n",
      "Delegations: \n",
      " chain_of_thought='The query mentions two companies: \"Eurocell PLC\" and \"Strike Energy Limited\". I verified these exact names in the provided list, confirming that both are included. The query requests a comparison of Return on Equity (ROE) for these companies in Q2 2022.\\n\\nFor ROE comparison, it is essential to retrieve each company\\'s net income and shareholder\\'s equity figures. These values are typically found in the quarterly financial statements, specifically in the income statement for net income and the balance sheet for shareholder\\'s equity.\\n\\nThus, I will create individual queries for each company to find their Q2 2022 ROE and then compare them to determine which is greater. The queries are formulated to target these specific financial metrics in the company\\'s report.' companies=['Eurocell PLC', 'Strike Energy Limited'] queries=[\"Retrieve Eurocell PLC's net income and shareholder's equity from their Q2 2022 financial statements to calculate ROE.\", \"Retrieve Strike Energy Limited's net income and shareholder's equity from their Q2 2022 financial statements to calculate ROE.\"]\n",
      "### ASKING COMPANY EXPERT: Eurocell PLC\n",
      "### ASKING COMPANY EXPERT: Strike Energy Limited\n",
      "### ASKING EXECUTION MANAGER: \n",
      "Context: {'Eurocell PLC': AnswerEvent(chain_of_thought=\"To calculate Return on Equity (ROE), the formula used is:\\n\\nROE = Net Income / Shareholder's Equity\\n\\nWe need the net income and the shareholder's equity for Q2 2022.\\n\\nFrom the CONTEXT provided, we only have annual financial statements data. The 'Profit for the year' for 2022 is £19.7 million shown in comprehensive income for the year, and shareholder's equity at 31 December 2022 is £114.9 million. \\nSince the data is not segmented by quarters, we do not have Q2-specific numbers to accurately calculate ROE for Q2 2022.\", answer='n/a'), 'Strike Energy Limited': AnswerEvent(chain_of_thought=\"1. Identify relevant financial period: Q2 2022 corresponds to April - June 2022.\\n2. Locate net income data: The document provides the financial data for the year ended June 30, 2022. The net profit (loss) for this period is (15,733), which can be considered for Q2 ending June.\\n3. Locate shareholders' equity data: The data as of June 30, 2022, shows the total equity as 116,874.\\n4. Calculate ROE: ROE = Net Income / Shareholders' Equity = (-15,733) / 116,874.\", answer=-0.1347)}\n",
      "chain_of_thought=\"1. Determine availability of data: We need ROE for both companies in Q2 2022.\\n2. Analyze Eurocell PLC data: The information provided does not include specific Q2 2022 financials, so we cannot calculate ROE for that period. Therefore, Eurocell PLC's ROE for Q2 2022 is not available.\\n3. Analyze Strike Energy Limited data: The relevant period data shows a net loss for the year ended June 30, 2022, and total equity data as of June 30, 2022. Using these figures, ROE is calculated as -0.1347.\\n4. Conclusion: Since Eurocell PLC's Q2 2022 ROE is not available, we cannot determine if Eurocell PLC had a greater ROE compared to Strike Energy Limited in Q2 2022.\" answer='n/a'\n",
      "How many stores did \"OTC_UNCIF\" have in the end of fiscal year 2023?\n",
      "\n",
      "## Query: How many stores did \"OTC_UNCIF\" have in the end of fiscal year 2023?\n",
      "### ASKING DELEGATION MANAGER: \n",
      "Delegations: \n",
      " chain_of_thought='The company mentioned, \"OTC_UNCIF\", does not match any company name in the list provided. Upon trying to match, none of the companies in the provided list resemble \"OTC_UNCIF\" directly or through known stock ticker symbols. Therefore, since this company is not in the given dataset, I will mark this query as \\'SKIP\\'.' companies=['SKIP'] queries=['SKIP']\n",
      "### ASKING EXECUTION MANAGER: \n",
      "Context: {'SKIP': 'No data available'}\n",
      "chain_of_thought='The context provided states \"No data available\" for the query related to the number of stores at the end of fiscal year 2023 for \"OTC_UNCIF\". Since there is no specific data present in the CONTEXT about the store count for \"OTC_UNCIF\" by the end of fiscal year 2023, I must conclude that the information is insufficient.' answer='n/a'\n",
      "How much did \"EMT\" spend on customer acquisition in Q2 2023?\n",
      "\n",
      "## Query: How much did \"EMT\" spend on customer acquisition in Q2 2023?\n",
      "### ASKING DELEGATION MANAGER: \n",
      "Delegations: \n",
      " chain_of_thought=\"The query mentions 'EMT', which matches exactly with 'EMT' from the provided company list. Therefore, I identified 'EMT' as the company to focus on. The question seeks information on customer acquisition costs, which are typically found in the marketing or sales expense section of a company's quarterly report. I will formulate a query for the specialized agent to locate this cost for Q2 2023 in the financial statements of EMT.\" companies=['EMT'] queries=[\"Retrieve the customer acquisition costs from EMT's financial statements for Q2 2023. Check the sections on marketing or sales expenses for this information, as these sections typically include costs associated with acquiring new customers.\"]\n",
      "### ASKING COMPANY EXPERT: EMT\n",
      "### ASKING EXECUTION MANAGER: \n",
      "Context: {'EMT': AnswerEvent(chain_of_thought=\"The provided context includes financial data from eMetals Limited (EMT) but only up to the year ended 30 June 2022. The context details various accounting policies, exploration and evaluation costs, and financial statements for the year ended 2022. However, there is no information available about customer acquisition costs or any detailed breakdown of marketing or sales expenses for Q2 2023 or any period within 2023. Furthermore, the request specifies Q2 2023 data, but the context does not include any data beyond the year 2022. Given these limitations, there isn't enough information available in the context to determine EMT's customer acquisition costs for Q2 2023.\", answer='n/a')}\n",
      "chain_of_thought=\"The context only provides financial data up to the year ended 30 June 2022 for eMetals Limited (EMT). It includes various accounting policies and financial statements for 2022, but there is no data available for 2023, and specifically no information on customer acquisition costs for Q2 2023. Since the request is for information specifically from Q2 2023, and such data is not present in the context, we cannot determine EMT's customer acquisition expenses for that period.\" answer='n/a'\n",
      "Who is the Board Chairman in the company \"Motus GI Holdings, Inc.\"?\n",
      "\n",
      "## Query: Who is the Board Chairman in the company \"Motus GI Holdings, Inc.\"?\n",
      "### ASKING DELEGATION MANAGER: \n",
      "Delegations: \n",
      " chain_of_thought='The query specifically mentions \"Motus GI Holdings, Inc.\" which exactly matches one of the companies in the provided list. Therefore, I will focus solely on this company and retrieve information related to its Board Chairman.\\n\\nTo find the Chairman of the Board, specialized agents should look for this information in the \\'Leadership\\' or \\'Corporate Governance\\' section of the most recent annual report or on the company\\'s website under \\'Investor Relations\\' or \\'About Us\\'.' companies=['Motus GI Holdings, Inc.'] queries=[\"Retrieve the name of the Board Chairman for Motus GI Holdings, Inc. from the latest annual report or company website, typically found in the 'Leadership' or 'Corporate Governance' section.\"]\n",
      "### ASKING COMPANY EXPERT: Motus GI Holdings, Inc.\n",
      "### ASKING EXECUTION MANAGER: \n",
      "Context: {'Motus GI Holdings, Inc.': AnswerEvent(chain_of_thought=\"The document provided is the Annual Report on Form 10-K for Motus GI Holdings, Inc. for the year ended December 31, 2022. I have scanned the contents of this document, including sections that typically mention the company's leadership, such as executive officers or directors. However, the provided document pages do not contain specific information regarding the Board Chairman or a section expressly labeled as 'Leadership' or 'Corporate Governance'. Therefore, the data required to determine the name of the Board Chairman is insufficient within the context given.\", answer='n/a')}\n",
      "chain_of_thought='The CONTEXT provided includes an Annual Report on Form 10-K for Motus GI Holdings, Inc. for the year ended December 31, 2022. The scan of the document did not reveal any specific information about the Board Chairman or a section dedicated to leadership or corporate governance. Consequently, there is insufficient data within the provided context to determine the name of the Board Chairman for Motus GI Holdings, Inc.' answer='n/a'\n",
      "Did \"Calyxt, Inc.\" have a greater Operating Margin than \"Banque Cantonale Vaudoise\" in Q2 2023?\n",
      "\n",
      "## Query: Did \"Calyxt, Inc.\" have a greater Operating Margin than \"Banque Cantonale Vaudoise\" in Q2 2023?\n",
      "### ASKING DELEGATION MANAGER: \n",
      "Delegations: \n",
      " chain_of_thought='The query mentions two companies: \"Calyxt, Inc.\" and \"Banque Cantonale Vaudoise\". I recognize \"Calyxt, Inc.\" as a company in the provided list. However, \"Banque Cantonale Vaudoise\" is not in the list. According to the guidelines, if any company is not in the list or is invalid, I must mark the entire query as \\'SKIP\\'. Therefore, both \\'companies\\' and \\'queries\\' are marked \\'SKIP\\' due to the presence of \"Banque Cantonale Vaudoise\".' companies=['SKIP'] queries=['SKIP']\n",
      "### ASKING EXECUTION MANAGER: \n",
      "Context: {'SKIP': 'No data available'}\n",
      "chain_of_thought='The USER_QUERY asks for a comparison of the Operating Margin between \"Calyxt, Inc.\" and \"Banque Cantonale Vaudoise\" for Q2 2023. The context provided states \\'No data available,\\' indicating there is no financial data for either company\\'s Operating Margin for the specified period in the context window. Based on the guidelines, if sufficient data is not available, the correct response should be \"n/a\" as we cannot calculate or infer the margins without the necessary data.' answer='n/a'\n",
      "How many stores did \"EMT\" have in the end of fiscal year 2023?\n",
      "\n",
      "## Query: How many stores did \"EMT\" have in the end of fiscal year 2023?\n",
      "### ASKING DELEGATION MANAGER: \n",
      "Delegations: \n",
      " chain_of_thought='The query specifically asks about the number of stores \"EMT\" had at the end of fiscal year 2023. \"EMT\" is listed as one of the exact names in the provided company list. Thus, EMT is identified as the company for which the data needs to be retrieved. The task requires finding a quantifiable metric, which is generally available in the annual reports under sections like \"Business Overview\", \"Operational Highlights\", or \"Financial Performance\" where companies report the number of retail locations or geographic footprint at the close of the fiscal year.' companies=['EMT'] queries=[\"Retrieve the number of stores EMT had at the end of fiscal year 2023. This information can typically be found in the company's annual report under sections such as 'Business Overview', 'Operational Highlights', or 'Financial Performance'.\"]\n",
      "### ASKING COMPANY EXPERT: EMT\n",
      "### ASKING EXECUTION MANAGER: \n",
      "Context: {'EMT': AnswerEvent(chain_of_thought=\"The provided document pages contain no explicit mention of the number of stores that eMetals Limited (EMT) operated at the end of the fiscal year 2023. The specified sections ('Business Overview', 'Operational Highlights', or 'Financial Performance') are also missing from the information given. Without these details or equivalent data in the available context, I cannot determine the number of stores.\", answer='n/a')}\n",
      "chain_of_thought=\"The context provided includes a reasoning process that explicitly states that there is no mention of the number of stores operated by eMetals Limited (EMT) at the end of fiscal year 2023. Additionally, it specifies that relevant sections that might contain this information, such as 'Business Overview', 'Operational Highlights', or 'Financial Performance', are missing from the available data. Therefore, without these details or any equivalent data, it is impossible to determine the number of stores.\" answer='n/a'\n",
      "How much did \"Ethernity Networks Ltd\" spend on customer acquisition in Q2 2023?\n",
      "\n",
      "## Query: How much did \"Ethernity Networks Ltd\" spend on customer acquisition in Q2 2023?\n",
      "### ASKING DELEGATION MANAGER: \n",
      "Delegations: \n",
      " chain_of_thought='The query asks about \"Ethernity Networks Ltd\", which matches exactly with the provided list of companies. Therefore, I will proceed with creating a query for this company.\\n\\nFor the query, I will need to extract information related to customer acquisition costs or expenses for the specified period. Such information is typically found under sales and marketing expenses within the financial section of a company\\'s quarterly report. Since the query is specific to Q2 2023, I will guide the agent to refer to the relevant section in the company\\'s filings or report for that quarter.' companies=['Ethernity Networks Ltd'] queries=['Retrieve the customer acquisition costs or related marketing expenses for Ethernity Networks Ltd in Q2 2023. This is usually reported under sales and marketing expenses in the quarterly financial report.']\n",
      "### ASKING COMPANY EXPERT: Ethernity Networks Ltd\n",
      "### ASKING EXECUTION MANAGER: \n",
      "Context: {'Ethernity Networks Ltd': AnswerEvent(chain_of_thought='The provided documents include annual reports and financial statements for the years ended 2021 and 2022, specifically related to Ethernity Networks Ltd. However, these documents do not cover financial data for the year 2023, and there is no specific mention of quarterly financial data or details about sales and marketing expenses in 2023. As such, there is insufficient data in the provided context to retrieve the customer acquisition costs or related marketing expenses for Ethernity Networks Ltd in Q2 2023.', answer='n/a')}\n",
      "chain_of_thought='The documents provided only include annual financial data for the years 2021 and 2022, and there is no specific information available for Q2 2023. Without quarterly data or a breakdown of expenses related to customer acquisition for 2023 in the provided context, there is insufficient data to answer the query about the customer acquisition cost for Ethernity Networks Ltd in Q2 2023.' answer='n/a'\n",
      "Who is the CFO in the company \"Ethernity Networks Ltd\"?\n",
      "\n",
      "## Query: Who is the CFO in the company \"Ethernity Networks Ltd\"?\n",
      "### ASKING DELEGATION MANAGER: \n",
      "Delegations: \n",
      " chain_of_thought='The query is looking for information about the CFO of \"Ethernity Networks Ltd\". I checked the company names from the provided list and found \"Ethernity Networks Ltd\" is a perfect match. Therefore, I will proceed with this company and formulate a query to retrieve the CFO\\'s name. Usually, such information can be found in the company\\'s annual report, specifically in the corporate governance section or within the executive profiles section.' companies=['Ethernity Networks Ltd'] queries=[\"Retrieve the name of the CFO of Ethernity Networks Ltd. Look in the company's latest annual report, especially in the sections on corporate governance or executive profiles.\"]\n",
      "### ASKING COMPANY EXPERT: Ethernity Networks Ltd\n",
      "### ASKING EXECUTION MANAGER: \n",
      "Context: {'Ethernity Networks Ltd': AnswerEvent(chain_of_thought=\"To retrieve the CFO's name, I searched within the annual report document for sections related to directors or corporate governance. These sections typically list the key executive roles and their current occupants. On page 2 of the annual report, a list of directors and their roles is given, where the current Chief Financial Officer (CFO) is identified.\", answer='Mark Reichenberg')}\n",
      "chain_of_thought=\"To determine the CFO of Ethernity Networks Ltd, I referred to the context provided which includes information from the annual report. The relevant section of the document details the key executive roles. According to the context, Mark Reichenberg is listed as the Chief Financial Officer (CFO). This aligns with the extracted information from the annual report, specifically mentioned on page 2 under the directors' section.\" answer='Mark Reichenberg'\n",
      "Did \"Canadian Banc Corp.\" have a greater Return on Assets (ROA) than \"VENUS METALS CORPORATION LIMITED\" in Q2 2021?\n",
      "\n",
      "## Query: Did \"Canadian Banc Corp.\" have a greater Return on Assets (ROA) than \"VENUS METALS CORPORATION LIMITED\" in Q2 2021?\n",
      "### ASKING DELEGATION MANAGER: \n",
      "Delegations: \n",
      " chain_of_thought=\"The query mentions two specific companies: 'Canadian Banc Corp.' and 'VENUS METALS CORPORATION LIMITED', which are both present in the provided list. Therefore, there is no need to skip this query. Given that the task involves comparing the Return on Assets (ROA) of both companies for Q2 2021, I need to instruct the agents to retrieve the necessary financial metrics from the quarterly reports of Q2 2021 for these companies. In particular, they should look for the net income and average total assets for each company, which will help in calculating the ROA.\\n\\nThe typical locations in financial reports for this data include the income statement (for net income) and balance sheet (for total assets). Additionally, if ROA is directly reported, it's often found in the performance summary or financial highlights sections.\" companies=['Canadian Banc Corp.', 'VENUS METALS CORPORATION LIMITED'] queries=['Retrieve the net income and average total assets for Canadian Banc Corp. for Q2 2021 to calculate the ROA. These can usually be found in the income statement and balance sheet sections of the quarterly report.', 'Retrieve the net income and average total assets for VENUS METALS CORPORATION LIMITED for Q2 2021 to calculate the ROA. These can usually be found in the income statement and balance sheet sections of the quarterly report.']\n",
      "### ASKING COMPANY EXPERT: Canadian Banc Corp.\n",
      "### ASKING COMPANY EXPERT: VENUS METALS CORPORATION LIMITED\n",
      "### ASKING EXECUTION MANAGER: \n",
      "Context: {'Canadian Banc Corp.': AnswerEvent(chain_of_thought='To calculate the Return on Assets (ROA), we need the net income and the average total assets for Q2 2021. \\n\\n1. **Net Income**: The net income can typically be found in the income statement. However, in the provided context, there is information for the years ended November 30, 2022, and November 30, 2021, but not specifically for Q2 2021.\\n\\n2. **Average Total Assets**: The balance sheet data as of November 30, 2021, and November 30, 2022, does not provide figures specific to Q2 2021, nor any quarterly breakdown like average total assets for Q2.\\n\\nSince the specific data for Q2 2021 (both net income and average total assets) is not available in the context provided, it is not possible to calculate the ROA for that period.', answer='n/a'), 'VENUS METALS CORPORATION LIMITED': AnswerEvent(chain_of_thought=\"To calculate the Return on Assets (ROA), we need the net income for Q2 2021 and the average total assets for the same period. The CONTEXT provides data as of 30 June 2022 and the previous year, all ending on June 30, which does not correspond to quarterly data but rather yearly data.\\n1. **Net Income**: The context only provides the annual loss for the year ending 30 June 2022 and 30 June 2021, not specifically for Q2 2021.\\n2. **Total Assets**: It provides total assets at the end of June 2022 and the end of June 2021, but not by quarter. The average can be attempted by taking the sum of these two dates and dividing by 2, however, this assumes linear asset changes which is a significant assumption without quarterly data.\\n3. **Insufficient Quarterly Data**: Without specific quarterly data for both the balance sheet and income statement, we cannot accurately calculate the ROA for Q2 2021.\\n\\nBased on this, we don't have sufficient data to calculate the exact ROA for Q2 2021.\", answer='n/a')}\n",
      "chain_of_thought=\"To determine if 'Canadian Banc Corp.' had a greater ROA than 'VENUS METALS CORPORATION LIMITED' in Q2 2021, we need specific net income and average total assets data for that quarter for both companies. \\n\\n1. For 'Canadian Banc Corp.', the context indicates that both the net income and average total assets specifically for Q2 2021 are not available, preventing the calculation of their ROA for that period.\\n\\n2. For 'VENUS METALS CORPORATION LIMITED', the context also lacks specific quarterly data for net income and total assets for Q2 2021, making it impossible to calculate their ROA for that quarter.\\n\\nSince neither company has the necessary quarterly data available within the context to compute their respective ROAs, it is impossible to compare them accurately for Q2 2021.\" answer='n/a'\n",
      "How many stores did \"VENUS METALS CORPORATION LIMITED\" have in the end of fiscal year 2023?\n",
      "\n",
      "## Query: How many stores did \"VENUS METALS CORPORATION LIMITED\" have in the end of fiscal year 2023?\n",
      "### ASKING DELEGATION MANAGER: \n",
      "Delegations: \n",
      " chain_of_thought='The query mentions \"VENUS METALS CORPORATION LIMITED,\" which perfectly matches one of the companies on the list. Therefore, I will process this query. As for the question regarding the number of stores, VENUS METALS CORPORATION LIMITED is a corporation focused on metals, not retailing, so it wouldn\\'t typically own any stores. The agent should confirm details from the annual report\\'s general company overview or business operations section, if available, to ensure there are no subsidiary retail operations.' companies=['VENUS METALS CORPORATION LIMITED'] queries=[\"Check the general company overview or business operations section of VENUS METALS CORPORATION LIMITED's annual report for the fiscal year 2023 to confirm whether the company has any stores or similar retail operations, notwithstanding its primary focus on metals mining and exploration, as it's not typical for such companies to operate stores.\"]\n",
      "### ASKING COMPANY EXPERT: VENUS METALS CORPORATION LIMITED\n",
      "### ASKING EXECUTION MANAGER: \n",
      "Context: {'VENUS METALS CORPORATION LIMITED': AnswerEvent(chain_of_thought=\"The provided CONTEXT consists of documents from the VENUS METALS CORPORATION LIMITED annual report for 2022. These documents primarily mention the company's exploration activities and focus on various metals such as Gold, Lithium, Rare Earths, Base Metals, and Vanadium. There is no mention of any retail operations or stores in the given pages of the CONTEXT. Additionally, there is no information available for the fiscal year 2023, and no further details in the CONTEXT where the company overview or business operations section might provide such details about retail operations.\", answer='n/a')}\n",
      "chain_of_thought='The CONTEXT provided from VENUS METALS CORPORATION LIMITED focuses exclusively on their exploration activities in various metals and does not mention any detail about retail operations or stores. Furthermore, there is no information available regarding the fiscal year 2023, nor any indication that the company operates stores at all based on the excerpt. Thus, I conclude that there is insufficient data to answer the question about the number of stores at the end of fiscal year 2023.' answer='n/a'\n",
      "How much did \"Motus GI Holdings, Inc.\" spend on sustainability initiatives in Q2 2023?\n",
      "\n",
      "## Query: How much did \"Motus GI Holdings, Inc.\" spend on sustainability initiatives in Q2 2023?\n",
      "### ASKING DELEGATION MANAGER: \n",
      "Delegations: \n",
      " chain_of_thought='The query mentioned \"Motus GI Holdings\" so I verified it against the provided list of companies and identified the exact match as \"Motus GI Holdings, Inc.\". The request is to retrieve specific financial information about their spending on sustainability initiatives in Q2 2023.\\n\\nTo formulate the query, I need to consider that details about sustainability spending might typically be found in sections of an annual or quarterly report focused on Corporate Social Responsibility (CSR) or environmental initiatives. It might also be mentioned in the management discussion and analysis section if linked to broader strategic initiatives.\\n\\nSince the query asks for specific figures, if the information is not explicitly listed, the agents should check notes or appendices that break down expenses in detail. If sustainability initiatives are part of broader budgets like R&D or operational costs, additional clarification might be necessary.' companies=['Motus GI Holdings, Inc.'] queries=['Retrieve the amount spent by Motus GI Holdings, Inc. on sustainability initiatives in Q2 2023. Check sections related to Corporate Social Responsibility (CSR) or environmental initiatives in the quarterly report.']\n",
      "### ASKING COMPANY EXPERT: Motus GI Holdings, Inc.\n",
      "### ASKING EXECUTION MANAGER: \n",
      "Context: {'Motus GI Holdings, Inc.': AnswerEvent(chain_of_thought='To determine the amount spent by Motus GI Holdings, Inc. on sustainability initiatives in the second quarter of 2023, I need to look for specific sections that may detail Corporate Social Responsibility (CSR) expenses or environmental initiatives, typically found in sections related to financial disclosures or management discussions. However, the provided context from the document does not include detailed financial statements or specific sections that mention CSR or environmental initiatives. Without such specific information being listed in the context, I am unable to find the requested amount for sustainability initiatives in Q2 2023.', answer='n/a')}\n",
      "chain_of_thought='The query requires the specific amount spent by Motus GI Holdings, Inc. on sustainability initiatives for Q2 2023. To find this information, I would need details on expenses related to Corporate Social Responsibility (CSR) or environmental initiatives from financial disclosures or management reports. The provided context does not include such detailed financial data or mentions of sustainability initiatives expenses in Q2 2023. Therefore, I cannot determine the requested amount.' answer='n/a'\n",
      "Who is the Board Chairman in the company \"Renishaw plc\"?\n",
      "\n",
      "## Query: Who is the Board Chairman in the company \"Renishaw plc\"?\n",
      "### ASKING DELEGATION MANAGER: \n",
      "Delegations: \n",
      " chain_of_thought='The query is asking for the Board Chairman of \"Renishaw plc\". However, \"Renishaw plc\" is not present in the list of companies I have access to. The list includes companies like \\'Air Products\\', \\'NICE\\', \\'Eurocell PLC\\', and others, but not \"Renishaw plc\". Therefore, I cannot delegate this request to any specialized agent and must mark this query as \\'SKIP\\'.' companies=['SKIP'] queries=['SKIP']\n",
      "### ASKING EXECUTION MANAGER: \n",
      "Context: {'SKIP': 'No data available'}\n",
      "chain_of_thought='The context provided indicates \\'No data available\\', which means there is no specific information about the Board Chairman of \"Renishaw plc\" provided in the context.' answer='n/a'\n",
      "Did \"Canadian Banc Corp.\" have a greater Gross Profit Margin than \"Motus GI Holdings, Inc.\" in Q2 2022?\n",
      "\n",
      "## Query: Did \"Canadian Banc Corp.\" have a greater Gross Profit Margin than \"Motus GI Holdings, Inc.\" in Q2 2022?\n",
      "### ASKING DELEGATION MANAGER: \n",
      "Delegations: \n",
      " chain_of_thought=\"The query asks for a comparison of the Gross Profit Margin between 'Canadian Banc Corp.' and 'Motus GI Holdings, Inc.' in Q2 2022. Recognizing both companies from the provided list, they are eligible for query formulation. Specifically, Gross Profit Margin is typically found in financial statements under sections such as 'Income Statement' or 'Financial Performance Overview' in quarterly reports. Calculating this metric involves dividing gross profit by total revenue, both sourced from the respective financial statements.\" companies=['Canadian Banc Corp.', 'Motus GI Holdings, Inc.'] queries=['Retrieve the Q2 2022 gross profit and total revenue from the financial statements of Canadian Banc Corp. to calculate the Gross Profit Margin.', 'Retrieve the Q2 2022 gross profit and total revenue from the financial statements of Motus GI Holdings, Inc. to calculate the Gross Profit Margin.']\n",
      "### ASKING COMPANY EXPERT: Canadian Banc Corp.\n",
      "### ASKING COMPANY EXPERT: Motus GI Holdings, Inc.\n",
      "### ASKING EXECUTION MANAGER: \n",
      "Context: {'Canadian Banc Corp.': AnswerEvent(chain_of_thought='To calculate the Gross Profit Margin, we need to find the gross profit and the total revenue for Q2 2022. The provided CONTEXT only includes some high-level financial information and performance figures but does not provide specific details about the total revenue or gross profit for any quarter, including Q2 2022. Therefore, based on this context, I cannot locate or calculate the gross profit margin for Q2 2022.', answer='n/a'), 'Motus GI Holdings, Inc.': AnswerEvent(chain_of_thought='To calculate the Gross Profit Margin for Motus GI Holdings, Inc. for Q2 2022, I need the gross profit and the total revenue figures from Q2 2022.\\n\\n- Gross Profit Margin is calculated as Gross Profit divided by Total Revenue.\\n\\n- Search the provided context for financial data relating to Q2 2022.\\n\\nUpon reviewing the context, it includes details such as the market value of common stock and shares outstanding but does not provide specific figures for gross profit or revenue for Q2 2022, or any quarterly financial statements.\\n\\nBased on this absence of explicit data in the context, I must conclude there is insufficient information to calculate the Gross Profit Margin for Q2 2022.', answer='n/a')}\n",
      "chain_of_thought='To determine which company had a greater Gross Profit Margin in Q2 2022, we need to know the Gross Profit Margin for both \"Canadian Banc Corp.\" and \"Motus GI Holdings, Inc.\" for that specific period. The Gross Profit Margin is calculated as Gross Profit divided by Total Revenue. However, according to the CONTEXT, there is insufficient data available for both companies, as the necessary financial figures like gross profit and total revenue for Q2 2022 are not provided for either company. Without this information, determining and comparing their Gross Profit Margins is not possible. Therefore, based on the available data, it is not possible to answer the question.' answer='n/a'\n",
      "How many stores did \"VENUS METALS CORPORATION LIMITED\" have in the end of fiscal year 2021?\n",
      "\n",
      "## Query: How many stores did \"VENUS METALS CORPORATION LIMITED\" have in the end of fiscal year 2021?\n",
      "### ASKING DELEGATION MANAGER: \n",
      "Delegations: \n",
      " chain_of_thought='I began by identifying the company mentioned in the query. The name \"VENUS METALS CORPORATION LIMITED\" matches exactly with one of the companies on the provided list, so I included it in the \\'companies\\' field. The query is asking for the number of stores at the end of the fiscal year 2021, which is information typically found in the company\\'s annual report under sections discussing operations, physical locations, or similar areas. By formulating the query precisely, I focus on retrieving data from sections where physical assets or locations might be detailed. No calculations or comparisons are needed for this request.' companies=['VENUS METALS CORPORATION LIMITED'] queries=['Retrieve the number of stores VENUS METALS CORPORATION LIMITED had at the end of fiscal year 2021 from their annual report. Focus on sections detailing operations or physical locations.']\n",
      "### ASKING COMPANY EXPERT: VENUS METALS CORPORATION LIMITED\n",
      "### ASKING EXECUTION MANAGER: \n",
      "Context: {'VENUS METALS CORPORATION LIMITED': AnswerEvent(chain_of_thought='I will search through the provided document to find information about the operational aspects or physical locations of VENUS METALS CORPORATION LIMITED, with a specific focus on the number of stores they had at the end of the fiscal year 2021. However, based on the CONTEXT provided, which comprises excerpts from the annual report of 2022, there appears to be no specific mention or section detailing the number of stores or physical locations for VENUS METALS for the end of fiscal year 2021.', answer='n/a')}\n",
      "chain_of_thought='The task is to find the number of stores VENUS METALS CORPORATION LIMITED had at the end of fiscal year 2021. The CONTEXT provided is from an expert system, which searched their 2022 annual report. This search focused on operational details such as store counts for the fiscal year 2021. However, the provided expert analysis concluded that there was no specific mention or detail regarding the number of stores at the end of 2021 in the available document excerpts.' answer='n/a'\n",
      "How much did \"Renishaw plc\" spend on risk management in Q2 2022?\n",
      "\n",
      "## Query: How much did \"Renishaw plc\" spend on risk management in Q2 2022?\n",
      "### ASKING DELEGATION MANAGER: \n",
      "Delegations: \n",
      " chain_of_thought='The query refers to \"Renishaw plc,\" which is not in the provided list of companies. Therefore, I am instructed to mark both \\'companies\\' and \\'queries\\' as \\'SKIP\\', as the company queried is not among those I can delegate to specialized agents.' companies=['SKIP'] queries=['SKIP']\n",
      "### ASKING EXECUTION MANAGER: \n",
      "Context: {'SKIP': 'No data available'}\n",
      "chain_of_thought=\"The user query asks for the amount spent by Renishaw plc on risk management in Q2 2022. I need to check the provided context for specific data regarding Renishaw plc's spending on risk management during this period. However, the context only includes the note 'No data available'. Consequently, I do not have the required information to answer the user query as there is no direct or related data provided on Renishaw plc's Q2 2022 risk management spending.\" answer='n/a'\n",
      "Who is the Board Chairman in the company \"TD SYNNEX\"?\n",
      "\n",
      "## Query: Who is the Board Chairman in the company \"TD SYNNEX\"?\n",
      "### ASKING DELEGATION MANAGER: \n",
      "Delegations: \n",
      " chain_of_thought='The query mentions the company name \"TD SYNNEX\". I verified that this name matches exactly with one of the companies in the given list. Therefore, the company identified is \"TD SYNNEX\". For this query, I need to retrieve information about the Board Chairman of this company.\\n\\nTo obtain the information about the Board Chairman of \"TD SYNNEX\", the specialized agent should look into the company\\'s annual report, particularly the section on corporate governance or the Board of Directors. This section typically lists all board members and their respective positions, including the chairman.' companies=['TD SYNNEX'] queries=[\"Retrieve the name of the Board Chairman of TD SYNNEX from the corporate governance or Board of Directors section in the company's annual report.\"]\n",
      "### ASKING COMPANY EXPERT: TD SYNNEX\n",
      "### ASKING EXECUTION MANAGER: \n",
      "Context: {'TD SYNNEX': AnswerEvent(chain_of_thought=\"The CONTEXT provides information about the Board and the directors of TD SYNNEX Corporation, specifically mentioning their roles and occupations. Dennis Polk is mentioned as the Executive Chair in the provided document, which is equivalent to the Board Chairman's position in corporate governance terminology. Therefore, the name of the Board Chairman of TD SYNNEX is Dennis Polk.\", answer='Dennis Polk')}\n",
      "chain_of_thought=\"The CONTEXT provides information about the Board and the directors of TD SYNNEX Corporation, specifically mentioning their roles and occupations. Dennis Polk is mentioned as the Executive Chair in the provided document, which is equivalent to the Board Chairman's position in corporate governance terminology. Therefore, the name of the Board Chairman of TD SYNNEX is Dennis Polk.\" answer='Dennis Polk'\n",
      "Did \"Banque Cantonale Vaudoise\" have a greater Operating Margin than \"Zegona Communications plc\" in Q2 2021?\n",
      "\n",
      "## Query: Did \"Banque Cantonale Vaudoise\" have a greater Operating Margin than \"Zegona Communications plc\" in Q2 2021?\n",
      "### ASKING DELEGATION MANAGER: \n",
      "Delegations: \n",
      " chain_of_thought='The query involves comparing the Operating Margin between \"Banque Cantonale Vaudoise\" and \"Zegona Communications plc\" for Q2 2021. I first extracted the mentioned companies: \"Banque Cantonale Vaudoise\" and \"Zegona Communications plc\" from the query. Checking the available list, \"Zegona Communications plc\" is present, but \"Banque Cantonale Vaudoise\" is not. Since all companies mentioned must be in the provided list for information retrieval, and one of them is not, I must mark this as \\'SKIP\\'.' companies=['SKIP'] queries=['SKIP']\n",
      "### ASKING EXECUTION MANAGER: \n",
      "Context: {'SKIP': 'No data available'}\n",
      "chain_of_thought='The context indicates that there is no data available for the operating margins of \"Banque Cantonale Vaudoise\" and \"Zegona Communications plc\" for Q2 2021. Therefore, I cannot compare their operating margins for that period.' answer='n/a'\n",
      "How many stores did \"Strike Energy Limited\" have in the end of fiscal year 2021?\n",
      "\n",
      "## Query: How many stores did \"Strike Energy Limited\" have in the end of fiscal year 2021?\n",
      "### ASKING DELEGATION MANAGER: \n",
      "Delegations: \n",
      " chain_of_thought=\"First, I need to identify the company from the provided list. 'Strike Energy Limited' is exactly listed, so it is one of our target companies. The query asks for the number of stores at the end of the fiscal year 2021. To retrieve this, the specialized agent should look into the company's annual report for 2021, particularly within sections detailing operations or business locations. However, it's worth noting that 'Strike Energy Limited' is primarily an energy company, and typically, energy companies do not operate stores. Therefore, the question might reflect a misunderstanding unless 'stores' refers to energy sites or similar facilities. Still, the query should involve searching for any potential mention of 'stores' or analogous structures in these sections.\" companies=['Strike Energy Limited'] queries=[\"Retrieve the number of stores or analogous facilities that Strike Energy Limited had at the end of the fiscal year 2021 from the company's annual report, focusing particularly on sections related to operations or business locations.\"]\n",
      "### ASKING COMPANY EXPERT: Strike Energy Limited\n",
      "### ASKING EXECUTION MANAGER: \n",
      "Context: {'Strike Energy Limited': AnswerEvent(chain_of_thought=\"The provided CONTEXT includes portions of the Strike Energy Limited annual report for the year ending June 30, 2022. The report consists of information about directors, company contact details, auditor information, but does not explicitly list the number of stores or analogous facilities such as operations sites or business locations. Without a specific reference to stores or operational facilities, it is not possible to determine the exact number of such facilities from the available data. The sections more likely to contain such information, like 'Permits and Activities' or 'Operating and Financial Review', are mentioned in the table of contents but the details from those sections are not provided in the excerpts.\", answer='n/a')}\n",
      "chain_of_thought=\"The provided CONTEXT includes portions of the Strike Energy Limited annual report for the year ending June 30, 2022. However, it does not explicitly list the number of stores or analogous facilities for Strike Energy Limited. Important sections that might contain relevant information, such as 'Permits and Activities' or 'Operating and Financial Review', are mentioned in the table of contents but the details from those sections are not included in the provided excerpts. Consequently, due to the absence of direct information on the number of stores or operational facilities, it's not possible to determine this number accurately.\" answer='n/a'\n",
      "How much did \"Ethernity Networks Ltd\" spend on customer acquisition in Q2 2023?\n",
      "\n",
      "## Query: How much did \"Ethernity Networks Ltd\" spend on customer acquisition in Q2 2023?\n",
      "### ASKING DELEGATION MANAGER: \n",
      "Delegations: \n",
      " chain_of_thought='The query specifically mentions \"Ethernity Networks Ltd\", which is an exact match from the provided list of companies. Therefore, I proceed with formulating a precise query for this company to retrieve the required information about their customer acquisition expenditures. Customer acquisition costs can typically be found in financial statements or management discussion and analysis sections of quarterly reports, often under marketing or sales expenses.' companies=['Ethernity Networks Ltd'] queries=['Retrieve the Q2 2023 financial statements of Ethernity Networks Ltd and check for any mention of customer acquisition costs in the marketing or sales expense sections. If not explicitly listed, look for detailed breakdowns in the management discussion and analysis that could indicate these expenditures.']\n",
      "### ASKING COMPANY EXPERT: Ethernity Networks Ltd\n",
      "### ASKING EXECUTION MANAGER: \n",
      "Context: {'Ethernity Networks Ltd': AnswerEvent(chain_of_thought=\"The provided context only contains information from the year-end financial statements and audit opinion for the year ended 31 December 2022, as well as some details regarding the company's operations, board of directors, etc. However, there are no specific details or financial statements from Q2 2023 included in the documents. Additionally, there is no mention of customer acquisition costs or detailed breakdowns of marketing or sales expenses within the provided context.\", answer='n/a')}\n",
      "chain_of_thought='The available context provides year-end financial details from 2022 and general operational information, but it lacks specific data for Q2 2023 and does not include detailed breakdowns of expenditures on customer acquisition. Therefore, there is not enough information to determine the customer acquisition costs for Ethernity Networks Ltd in Q2 2023.' answer='n/a'\n",
      "Who is the Chief Legal Officer in the company \"Nykredit\"?\n",
      "\n",
      "## Query: Who is the Chief Legal Officer in the company \"Nykredit\"?\n",
      "### ASKING DELEGATION MANAGER: \n",
      "Delegations: \n",
      " chain_of_thought=\"The query specifically mentions the company name 'Nykredit', which matches exactly with one of the companies in the provided list. Therefore, I identify 'Nykredit' as the target company.\\n\\nTo answer the question about the Chief Legal Officer, the specialized agent should look for recent organizational charts, leadership announcements, or sections of the company's annual report that list executive management. This information is typically found in the 'Management' or 'Corporate Governance' sections of these documents.\" companies=['Nykredit'] queries=[\"Retrieve the name of the Chief Legal Officer at Nykredit. Look for recent leadership announcements or check the 'Management' or 'Corporate Governance' sections in the company's annual reports.\"]\n",
      "### ASKING COMPANY EXPERT: Nykredit\n",
      "### ASKING EXECUTION MANAGER: \n",
      "Context: {'Nykredit': AnswerEvent(chain_of_thought='The CONTEXT provides details about the Board of Directors and various positions, but does not mention a Chief Legal Officer. It provides information on various other positions and expertise within the management structure but lacks information on the Chief Legal Officer specifically.', answer='n/a')}\n",
      "chain_of_thought='The CONTEXT indicates that the available information does not mention a Chief Legal Officer for Nykredit. Despite listing other positions within the company, the information regarding the Chief Legal Officer is absent. Therefore, the information required to answer the question is not available in the provided CONTEXT.' answer='n/a'\n",
      "Did \"Comet Holding AG\" have a greater Operating Margin than \"Calyxt, Inc.\" in Q2 2021?\n",
      "\n",
      "## Query: Did \"Comet Holding AG\" have a greater Operating Margin than \"Calyxt, Inc.\" in Q2 2021?\n",
      "### ASKING DELEGATION MANAGER: \n",
      "Delegations: \n",
      " chain_of_thought=\"In the query, two companies are mentioned: 'Comet Holding AG' and 'Calyxt, Inc.'. I checked the given list of companies and found that only 'Calyxt, Inc.' is present in the list. 'Comet Holding AG' is not found in the list of available companies. Therefore, in accordance with the guidelines, when a company is mentioned that does not match an item in the list, both the 'companies' and 'queries' must be marked as 'SKIP'.\" companies=['SKIP'] queries=['SKIP']\n",
      "### ASKING EXECUTION MANAGER: \n",
      "Context: {'SKIP': 'No data available'}\n",
      "chain_of_thought=\"The context does not provide any information regarding the Operating Margin for either Comet Holding AG or Calyxt, Inc. for Q2 2021. The context explicitly states 'No data available' which indicates that there is no relevant data provided to answer the query about Operating Margins for these companies in the specified period.\" answer='n/a'\n",
      "How many stores did \"EMT\" have in the end of fiscal year 2022?\n",
      "\n",
      "## Query: How many stores did \"EMT\" have in the end of fiscal year 2022?\n",
      "### ASKING DELEGATION MANAGER: \n",
      "Delegations: \n",
      " chain_of_thought=\"The query asks for the number of stores that 'EMT' had at the end of fiscal year 2022. EMT is mentioned as a company name that is exactly the same as one in our provided list, so we can proceed with that. The query is specific to the company's operational data as of a certain date, which is usually published in the annual report. Therefore, I will formulate a query for EMT to retrieve this data.\" companies=['EMT'] queries=[\"Retrieve the total number of stores EMT had at the end of fiscal year 2022. This information is typically found in the 'Management Discussion and Analysis' or 'Financial Statements' section of the annual report, often under company operations or business overview.\"]\n",
      "### ASKING COMPANY EXPERT: EMT\n",
      "### ASKING EXECUTION MANAGER: \n",
      "Context: {'EMT': AnswerEvent(chain_of_thought=\"The given context includes excerpts from various sections of an annual report for eMetals Limited (EMT). The following sections are mentioned: Corporate Information, Directors’ Report, Auditor’s Independence Declaration, Consolidated Financial Statements, and Notes to the Consolidated Financial Statements. However, there is no explicit mention of the 'Management Discussion and Analysis' section, nor any specific data detailing the number of stores EMT had at the end of the fiscal year 2022. Since the context does not contain any reference to the number of stores or similar operational details for EMT, I cannot determine the total number of stores they had based on the supplied document.\", answer='n/a')}\n",
      "chain_of_thought='The context provided includes excerpts from an annual report for eMetals Limited (EMT) but does not contain specific operational details, such as the number of stores EMT had at the end of fiscal year 2022. The mentioned sections do not provide this specific data, thus I cannot determine the total number of stores EMT had at that time based on the provided information.' answer='n/a'\n"
     ]
    }
   ],
   "execution_count": 117
  },
  {
   "metadata": {
    "ExecuteTime": {
     "end_time": "2024-09-02T13:11:20.211187Z",
     "start_time": "2024-09-02T13:11:20.195553Z"
    }
   },
   "cell_type": "code",
   "source": "results",
   "id": "6807326cbe327128",
   "outputs": [
    {
     "data": {
      "text/plain": [
       "[{'question': 'How much did \"Accuray Incorporated\" spend on risk management in Q2 2022?',\n",
       "  'schema': 'number',\n",
       "  'answer': 'n/a'},\n",
       " {'question': 'Who is the CEO in the company \"Zegona Communications plc\"?',\n",
       "  'schema': 'name',\n",
       "  'answer': 'Eamonn O’Hare'},\n",
       " {'question': 'Did \"Global Medical REIT Inc.\" have a greater Debt-to-Equity ratio than \"Zegona Communications plc\" in Q2 2021?',\n",
       "  'schema': 'boolean',\n",
       "  'answer': 'yes'},\n",
       " {'question': 'How many stores did \"Accuray Incorporated\" have in the end of fiscal year 2021?',\n",
       "  'schema': 'number',\n",
       "  'answer': 17},\n",
       " {'question': 'How much did \"Sandwell Aquatics Centre\" spend on R&D in Q2 2023?',\n",
       "  'schema': 'number',\n",
       "  'answer': 'n/a'},\n",
       " {'question': 'Who is the CFO in the company \"EMT\"?',\n",
       "  'schema': 'name',\n",
       "  'answer': 'n/a'},\n",
       " {'question': 'Did \"Calyxt, Inc.\" have a greater Return on Assets (ROA) than \"Global Medical REIT Inc.\" in Q2 2023?',\n",
       "  'schema': 'boolean',\n",
       "  'answer': 'n/a'},\n",
       " {'question': 'How many stores did \"OTC_UNCIF\" have in the end of fiscal year 2022?',\n",
       "  'schema': 'number',\n",
       "  'answer': 'n/a'},\n",
       " {'question': 'How much did \"Accuray Incorporated\" spend on customer acquisition in Q2 2021?',\n",
       "  'schema': 'number',\n",
       "  'answer': 'n/a'},\n",
       " {'question': 'Who is the CEO in the company \"Accuray Incorporated\"?',\n",
       "  'schema': 'name',\n",
       "  'answer': 'Suzanne Winter'},\n",
       " {'question': 'Did \"Comet Holding AG\" have a greater Operating Margin than \"Ethernity Networks Ltd\" in Q2 2022?',\n",
       "  'schema': 'boolean',\n",
       "  'answer': 'n/a'},\n",
       " {'question': 'How many stores did \"VENUS METALS CORPORATION LIMITED\" have in the end of fiscal year 2022?',\n",
       "  'schema': 'number',\n",
       "  'answer': 'n/a'},\n",
       " {'question': 'How much did \"Ethernity Networks Ltd\" spend on R&D in Q2 2023?',\n",
       "  'schema': 'number',\n",
       "  'answer': 'n/a'},\n",
       " {'question': 'Who is the COO in the company \"Sandwell Aquatics Centre\"?',\n",
       "  'schema': 'name',\n",
       "  'answer': 'n/a'},\n",
       " {'question': 'Did \"Calyxt, Inc.\" have a greater market capitalization than \"NICE\" in Q2 2022?',\n",
       "  'schema': 'boolean',\n",
       "  'answer': 'n/a'},\n",
       " {'question': 'How many stores did \"Renishaw plc\" have in the end of fiscal year 2023?',\n",
       "  'schema': 'number',\n",
       "  'answer': 'n/a'},\n",
       " {'question': 'How much did \"TD SYNNEX\" spend on R&D in Q2 2022?',\n",
       "  'schema': 'number',\n",
       "  'answer': 'n/a'},\n",
       " {'question': 'Who is the CFO in the company \"TD SYNNEX\"?',\n",
       "  'schema': 'name',\n",
       "  'answer': 'n/a'},\n",
       " {'question': 'Did \"Eurocell PLC\" have a greater Return on Equity (ROE) than \"Strike Energy Limited\" in Q2 2022?',\n",
       "  'schema': 'boolean',\n",
       "  'answer': 'n/a'},\n",
       " {'question': 'How many stores did \"OTC_UNCIF\" have in the end of fiscal year 2023?',\n",
       "  'schema': 'number',\n",
       "  'answer': 'n/a'},\n",
       " {'question': 'How much did \"EMT\" spend on customer acquisition in Q2 2023?',\n",
       "  'schema': 'number',\n",
       "  'answer': 'n/a'},\n",
       " {'question': 'Who is the Board Chairman in the company \"Motus GI Holdings, Inc.\"?',\n",
       "  'schema': 'name',\n",
       "  'answer': 'n/a'},\n",
       " {'question': 'Did \"Calyxt, Inc.\" have a greater Operating Margin than \"Banque Cantonale Vaudoise\" in Q2 2023?',\n",
       "  'schema': 'boolean',\n",
       "  'answer': 'n/a'},\n",
       " {'question': 'How many stores did \"EMT\" have in the end of fiscal year 2023?',\n",
       "  'schema': 'number',\n",
       "  'answer': 'n/a'},\n",
       " {'question': 'How much did \"Ethernity Networks Ltd\" spend on customer acquisition in Q2 2023?',\n",
       "  'schema': 'number',\n",
       "  'answer': 'n/a'},\n",
       " {'question': 'Who is the CFO in the company \"Ethernity Networks Ltd\"?',\n",
       "  'schema': 'name',\n",
       "  'answer': 'Mark Reichenberg'},\n",
       " {'question': 'Did \"Canadian Banc Corp.\" have a greater Return on Assets (ROA) than \"VENUS METALS CORPORATION LIMITED\" in Q2 2021?',\n",
       "  'schema': 'boolean',\n",
       "  'answer': 'n/a'},\n",
       " {'question': 'How many stores did \"VENUS METALS CORPORATION LIMITED\" have in the end of fiscal year 2023?',\n",
       "  'schema': 'number',\n",
       "  'answer': 'n/a'},\n",
       " {'question': 'How much did \"Motus GI Holdings, Inc.\" spend on sustainability initiatives in Q2 2023?',\n",
       "  'schema': 'number',\n",
       "  'answer': 'n/a'},\n",
       " {'question': 'Who is the Board Chairman in the company \"Renishaw plc\"?',\n",
       "  'schema': 'name',\n",
       "  'answer': 'n/a'},\n",
       " {'question': 'Did \"Canadian Banc Corp.\" have a greater Gross Profit Margin than \"Motus GI Holdings, Inc.\" in Q2 2022?',\n",
       "  'schema': 'boolean',\n",
       "  'answer': 'n/a'},\n",
       " {'question': 'How many stores did \"VENUS METALS CORPORATION LIMITED\" have in the end of fiscal year 2021?',\n",
       "  'schema': 'number',\n",
       "  'answer': 'n/a'},\n",
       " {'question': 'How much did \"Renishaw plc\" spend on risk management in Q2 2022?',\n",
       "  'schema': 'number',\n",
       "  'answer': 'n/a'},\n",
       " {'question': 'Who is the Board Chairman in the company \"TD SYNNEX\"?',\n",
       "  'schema': 'name',\n",
       "  'answer': 'Dennis Polk'},\n",
       " {'question': 'Did \"Banque Cantonale Vaudoise\" have a greater Operating Margin than \"Zegona Communications plc\" in Q2 2021?',\n",
       "  'schema': 'boolean',\n",
       "  'answer': 'n/a'},\n",
       " {'question': 'How many stores did \"Strike Energy Limited\" have in the end of fiscal year 2021?',\n",
       "  'schema': 'number',\n",
       "  'answer': 'n/a'},\n",
       " {'question': 'How much did \"Ethernity Networks Ltd\" spend on customer acquisition in Q2 2023?',\n",
       "  'schema': 'number',\n",
       "  'answer': 'n/a'},\n",
       " {'question': 'Who is the Chief Legal Officer in the company \"Nykredit\"?',\n",
       "  'schema': 'name',\n",
       "  'answer': 'n/a'},\n",
       " {'question': 'Did \"Comet Holding AG\" have a greater Operating Margin than \"Calyxt, Inc.\" in Q2 2021?',\n",
       "  'schema': 'boolean',\n",
       "  'answer': 'n/a'},\n",
       " {'question': 'How many stores did \"EMT\" have in the end of fiscal year 2022?',\n",
       "  'schema': 'number',\n",
       "  'answer': 'n/a'}]"
      ]
     },
     "execution_count": 118,
     "metadata": {},
     "output_type": "execute_result"
    }
   ],
   "execution_count": 118
  },
  {
   "metadata": {},
   "cell_type": "markdown",
   "source": "## OLD Inference with chain OLD",
   "id": "a72c0743a280a392"
  },
  {
   "metadata": {},
   "cell_type": "code",
   "outputs": [],
   "execution_count": 7,
   "source": [
    "# Create vector store\n",
    "# https://python.langchain.com/v0.1/docs/modules/data_connection/retrievers/vectorstore/\n",
    "# Load documents from the specified folder\n",
    "documents = load_documents_from_folder(SAMPLES_PATH, df_sample.sha1.to_list())\n",
    "\n",
    "text_splitter = RecursiveCharacterTextSplitter(chunk_size=1000, chunk_overlap=100) # TODO more sophisticated\n",
    "texts = text_splitter.split_documents(documents)\n",
    "\n",
    "if len(texts) == 0:\n",
    "    raise ValueError(\"No text found in the specified folder\")"
   ],
   "id": "81ae7475c4724d33"
  },
  {
   "metadata": {},
   "cell_type": "code",
   "outputs": [],
   "execution_count": 8,
   "source": [
    "embeddings = OpenAIEmbeddings() # deprecated?\n",
    "db = FAISS.from_documents(texts, embeddings)\n",
    "retriever = db.as_retriever()"
   ],
   "id": "17ed60cef6f0728b"
  },
  {
   "metadata": {},
   "cell_type": "code",
   "outputs": [],
   "execution_count": 54,
   "source": [
    "# Store vector database\n",
    "# with open(\"data/first_sample_db_3\", \"wb\") as f:\n",
    "#     pickle.dump(db.serialize_to_bytes(), f)"
   ],
   "id": "679bcdd960449594"
  },
  {
   "metadata": {},
   "cell_type": "code",
   "outputs": [],
   "execution_count": 8,
   "source": [
    "# Load vector database\n",
    "# with open(\"data/vector_db_uni\", \"rb\") as f:\n",
    "#     db_bytes = pickle.load(f)\n",
    "#     db = FAISS.deserialize_from_bytes(db_bytes, OpenAIEmbeddings(),\n",
    "#                                       allow_dangerous_deserialization=True)\n",
    "#     retriever = db.as_retriever()"
   ],
   "id": "c253bf0a4f5bd84e"
  },
  {
   "metadata": {
    "ExecuteTime": {
     "end_time": "2024-08-29T12:18:15.355338Z",
     "start_time": "2024-08-29T12:18:15.330580Z"
    }
   },
   "cell_type": "code",
   "source": [
    "llm = ChatOpenAI(temperature=0)\n",
    "# llm = llm.bind(logprobs=True, top_logprobs=3)\n",
    "# could try local models as well\n",
    "\n",
    "system_prompt_2 = (\n",
    "    f\"You are an intelligent assistant tasked with answering questions based on specific company data provided in the context. \"\n",
    "    f\"Please provide a chain of thought on how you arrived at your final answer in 'chain_of_thought'. \\n\"\n",
    "    f\"Then give a final answer in 'answer' where you strictly adhere to the following guidelines: \\n {ANSWER_GUIDELINES} \\n \"\n",
    "    f\"Ensure that your answers are strictly compliant with these guidelines. Accuracy and adherence to the format are crucial. \\n\"\n",
    "    \n",
    "    # f\"Your primary task is to accurately identify and extract specific financial metrics, ratios, and counts, even when synonymous \"\n",
    "    # f\"or contextually similar terms are used. Here is some useful information about these: \\n {fin_info}\"\n",
    "    \n",
    "    \"Context: \\n {context}\"\n",
    ")\n",
    "\n",
    "prompt = ChatPromptTemplate.from_messages(\n",
    "    [\n",
    "        (\"system\", system_prompt_2),\n",
    "        (\"human\", \"{input}\"),\n",
    "    ]\n",
    ")\n",
    "\n",
    "question_answer_chain = create_stuff_documents_chain(llm, prompt)\n",
    "\n",
    "\n",
    "# Function to ask a question\n",
    "def ask_question(query):\n",
    "    # retriever = get_retriever(query)\n",
    "    \n",
    "    chain = create_retrieval_chain(retriever, question_answer_chain)\n",
    "    \n",
    "    response = chain.invoke({\"input\": query})\n",
    "    answer = response[\"answer\"]\n",
    "    print(f\"Question: {query}\\nAnswer: {answer}\")"
   ],
   "id": "a037ab4cbb4f07dc",
   "outputs": [],
   "execution_count": 31
  },
  {
   "metadata": {},
   "cell_type": "markdown",
   "source": [
    "```python\n",
    "    ('What was the {fin_metric} of \"{company}\" in {time_frame}?', \"number\"),\n",
    "    ('How much did \"{company}\" spend on {focus_area} in {time_frame}?', \"number\"),\n",
    "    ('What was the {ratio_or_metric} of \"{company}\" in {time_frame}?', \"number\"),\n",
    "    ('How many {count_metric} did \"{company}\" have in {time_frame}?', \"number\"),\n",
    "    ('Which company had a higher {fin_metric}: \"{company1}\", \"{company2}\" or \"{company3}\", in {time_frame}?', \"name\"),\n",
    "    ('Did \"{company1}\" have a greater {ratio_or_metric} than \"{company2}\" in {time_frame}?', \"boolean\"),\n",
    "    ('How much more did \"{company1}\" spend on {focus_area} compared to \"{company2}\" in {time_frame}?', \"number\"),\n",
    "    ('Who is the {role} in the company \"{company}\"?', \"name\"),\n",
    "```"
   ],
   "id": "9cf20ac7a4db1af4"
  },
  {
   "metadata": {},
   "cell_type": "code",
   "outputs": [],
   "execution_count": null,
   "source": [
    "# multiple agents\n",
    "# retriever per company\n",
    "# -> first check if we need several processes to answer the questions (e.g. check revenues of 3 companies, then use these values with a final agent)\n",
    "# chain of though: output json with chain of thought and final answer"
   ],
   "id": "70488b37bdd0937c"
  },
  {
   "metadata": {
    "ExecuteTime": {
     "end_time": "2024-08-29T12:17:04.097388Z",
     "start_time": "2024-08-29T12:17:02.236027Z"
    }
   },
   "cell_type": "code",
   "source": [
    "# Ask a question\n",
    "ask_question(\"How many assets does 'Accuray Incorporated' have in 2022 in dollars?\") # 472.849 "
   ],
   "id": "dd1680f262dfb880",
   "outputs": [
    {
     "name": "stdout",
     "output_type": "stream",
     "text": [
      "Question: How many assets does 'Accuray Incorporated' have in 2022 in dollars?\n",
      "Answer: chain_of_thought: \n",
      "1. Look for the Consolidated Balance Sheets section to find the total assets for Accuray Incorporated in 2022.\n",
      "2. Identify the value listed under \"Total current assets\" and any other asset categories to calculate the total assets for the company in 2022.\n",
      "\n",
      "answer: 352890\n"
     ]
    }
   ],
   "execution_count": 28
  },
  {
   "metadata": {
    "ExecuteTime": {
     "end_time": "2024-08-29T12:17:43.430829Z",
     "start_time": "2024-08-29T12:17:38.923914Z"
    }
   },
   "cell_type": "code",
   "source": "ask_question(\"How many assets does 'Accuray Incorporated' have in 2021 in dollars?\") # 480.098",
   "id": "218a06bbe2a85c3",
   "outputs": [
    {
     "name": "stdout",
     "output_type": "stream",
     "text": [
      "Question: How many assets does 'Accuray Incorporated' have in 2021 in dollars?\n",
      "Answer: Chain of Thought:\n",
      "1. Look for the Consolidated Balance Sheets section.\n",
      "2. Find the total assets value for 'Accuray Incorporated' for June 30, 2021.\n",
      "\n",
      "Answer:\n",
      "352773\n"
     ]
    }
   ],
   "execution_count": 29
  },
  {
   "metadata": {
    "ExecuteTime": {
     "end_time": "2024-08-29T12:18:24.209027Z",
     "start_time": "2024-08-29T12:18:19.411979Z"
    }
   },
   "cell_type": "code",
   "source": "ask_question(\"How many liabilities does 'Accuray Incorporated' have in 2021 in dollars?\") # 411.258",
   "id": "b4ebc4eb695669b2",
   "outputs": [
    {
     "name": "stdout",
     "output_type": "stream",
     "text": [
      "Question: How many liabilities does 'Accuray Incorporated' have in 2021 in dollars?\n",
      "Answer: Chain of Thought:\n",
      "1. Liabilities can be calculated by subtracting total assets from total equity, as liabilities = assets - equity.\n",
      "2. The total assets for 2021 are not provided directly but can be calculated by summing up the current assets and other assets like property, equipment, etc.\n",
      "3. The total equity for 2021 is not directly given but can be calculated by adding common stock, additional paid-in capital, accumulated other comprehensive income (loss), and accumulated deficit from the stockholders' equity statement.\n",
      "4. Once total assets and total equity are calculated, liabilities can be determined.\n",
      "\n",
      "Answer:\n",
      "$378,000\n",
      "\n",
      "Chain of Thought:\n",
      "- Total assets for 2021 are calculated as $350,890 (current assets) + $12,685 (property and equipment) + $13,879 (investment in joint venture) + $16,798 (operating lease right-of-use assets) + $57,840 (goodwill) + $250 (intangible assets) = $452,342.\n",
      "- Total equity for 2021 is calculated as $89 (common stock) + $535,332 (additional paid-in capital) - $10 (accumulated other comprehensive income (loss)) - $485,540 (accumulated deficit) = $49,871.\n",
      "- Liabilities = Total assets - Total equity = $452,342 - $49,871 = $402,471.\n"
     ]
    }
   ],
   "execution_count": 32
  },
  {
   "metadata": {
    "ExecuteTime": {
     "end_time": "2024-08-29T09:30:09.288924Z",
     "start_time": "2024-08-29T09:30:08.407126Z"
    }
   },
   "cell_type": "code",
   "source": "ask_question(\"How many stores did 'Strike Energy Limited' have in the end of fiscal year 2021?\") # n/a",
   "id": "e7203ba338fdfc8f",
   "outputs": [
    {
     "name": "stdout",
     "output_type": "stream",
     "text": [
      "Question: How many stores did 'Strike Energy Limited' have in the end of fiscal year 2021?\n",
      "Answer: n/a\n"
     ]
    }
   ],
   "execution_count": 78
  },
  {
   "metadata": {
    "ExecuteTime": {
     "end_time": "2024-08-29T09:32:07.925495Z",
     "start_time": "2024-08-29T09:32:05.912768Z"
    }
   },
   "cell_type": "code",
   "source": [
    "# Total R&D Expenses of Ethernity Networks\n",
    "ask_question(\"What are the total R&D expenses of 'Ethernity Networks' in 2021?\") # 5 550 912\n",
    "\n",
    "ask_question(\"What are the total R&D expenses of 'Ethernity Networks' in 2022?\") # 6 618 795"
   ],
   "id": "4f3d945ab69d9dc4",
   "outputs": [
    {
     "name": "stdout",
     "output_type": "stream",
     "text": [
      "Question: What are the total R&D expenses of 'Ethernity Networks' in 2021?\n",
      "Answer: 5550912\n",
      "Question: What are the total R&D expenses of 'Ethernity Networks' in 2022?\n",
      "Answer: 6618795\n"
     ]
    }
   ],
   "execution_count": 83
  }
 ],
 "metadata": {
  "kernelspec": {
   "display_name": "Python 3",
   "language": "python",
   "name": "python3"
  },
  "language_info": {
   "codemirror_mode": {
    "name": "ipython",
    "version": 2
   },
   "file_extension": ".py",
   "mimetype": "text/x-python",
   "name": "python",
   "nbconvert_exporter": "python",
   "pygments_lexer": "ipython2",
   "version": "2.7.6"
  }
 },
 "nbformat": 4,
 "nbformat_minor": 5
}
