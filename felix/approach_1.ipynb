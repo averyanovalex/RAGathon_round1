{
 "cells": [
  {
   "cell_type": "code",
   "id": "initial_id",
   "metadata": {
    "collapsed": true,
    "ExecuteTime": {
     "end_time": "2024-09-02T11:50:45.943170Z",
     "start_time": "2024-09-02T11:50:41.444994Z"
    }
   },
   "source": [
    "import os\n",
    "import PyPDF2\n",
    "import markdown2\n",
    "import json\n",
    "import pickle\n",
    "import pandas as pd\n",
    "\n",
    "from docx import Document as DocxDocument\n",
    "from pptx import Presentation\n",
    "\n",
    "from langchain_core.documents import Document\n",
    "from langchain.text_splitter import RecursiveCharacterTextSplitter\n",
    "from langchain_community.vectorstores import FAISS\n",
    "from langchain_openai.embeddings.base import OpenAIEmbeddings\n",
    "\n",
    "from langchain.chains import create_retrieval_chain\n",
    "from langchain.chains.combine_documents import create_stuff_documents_chain\n",
    "from langchain_core.prompts import ChatPromptTemplate\n",
    "from langchain_openai import ChatOpenAI\n",
    "\n",
    "# Rinats well documented sample project\n",
    "# https://github.com/trustbit/private-poc-fmw-content-generator/tree/main/backend-and-kb/src/fmw\n",
    "\n",
    "from dotenv import load_dotenv\n",
    "\n",
    "load_dotenv()"
   ],
   "outputs": [
    {
     "data": {
      "text/plain": [
       "True"
      ]
     },
     "execution_count": 1,
     "metadata": {},
     "output_type": "execute_result"
    }
   ],
   "execution_count": 1
  },
  {
   "metadata": {},
   "cell_type": "markdown",
   "source": "## Get Companies",
   "id": "26b7a2f7be3b6375"
  },
  {
   "metadata": {
    "ExecuteTime": {
     "end_time": "2024-09-02T11:50:45.963782Z",
     "start_time": "2024-09-02T11:50:45.945879Z"
    }
   },
   "cell_type": "code",
   "source": "SAMPLES_PATH = r\"C:\\Users\\felix.krause\\code\\trustbit\\enterprise-rag-challenge\\samples\"",
   "id": "91e93d8a358bfc66",
   "outputs": [],
   "execution_count": 2
  },
  {
   "metadata": {
    "ExecuteTime": {
     "end_time": "2024-09-02T11:50:46.008375Z",
     "start_time": "2024-09-02T11:50:45.963782Z"
    }
   },
   "cell_type": "code",
   "source": [
    "df = pd.read_csv(\"data/dataset.csv\") \n",
    "df"
   ],
   "id": "187267224fd86013",
   "outputs": [
    {
     "data": {
      "text/plain": [
       "                                          sha1        date  \\\n",
       "0     ce9e5024041b2ece2bafa2a9d9516bb174ee8949  2022-10-31   \n",
       "1     f71415f9ca0cff70e5fa193616b6197f361130ed  2023-02-21   \n",
       "2     4a9d2b853e05970776121a810460f0962a18c5a1     2022-XX   \n",
       "3     f973dd219c534accb0d4e72d8e12f51284d48d10  2023-01-01   \n",
       "4     4e27f4c3402c657d548760cb3a164b036cefaabb  2022-12-31   \n",
       "...                                        ...         ...   \n",
       "7490  a2afcd8165a6dbd0058682680b65d3638a5800eb  2023-02-02   \n",
       "7491  215df84494756bd4feebc973657835ef7f14ee16  2022-12-31   \n",
       "7492  20fb970d8705289e835b408c575351295ac16f5f  2022-09-30   \n",
       "7493  c7f3a8c0a38c756438950ce3085076adb4241a32  2022-01-01   \n",
       "7494  e26bd02b24e45a09c4b860c4763b542deba6f14a  2022-12-31   \n",
       "\n",
       "                                     name      size  \n",
       "0                 Anixa Biosciences, Inc.   3996701  \n",
       "1     Maravai LifeSciences Holdings, Inc.   4033642  \n",
       "2                         KLA Corporation   1181894  \n",
       "3                          Ameresco, Inc.  10648267  \n",
       "4                Battery Minerals Limited   3650701  \n",
       "...                                   ...       ...  \n",
       "7490               Arrow Electronics, Inc    922750  \n",
       "7491                             Synertec  10474497  \n",
       "7492                      TE Connectivity   5753097  \n",
       "7493                            OTC_ADDDF  12603054  \n",
       "7494                    Taylor Wimpey plc   7845106  \n",
       "\n",
       "[7495 rows x 4 columns]"
      ],
      "text/html": [
       "<div>\n",
       "<style scoped>\n",
       "    .dataframe tbody tr th:only-of-type {\n",
       "        vertical-align: middle;\n",
       "    }\n",
       "\n",
       "    .dataframe tbody tr th {\n",
       "        vertical-align: top;\n",
       "    }\n",
       "\n",
       "    .dataframe thead th {\n",
       "        text-align: right;\n",
       "    }\n",
       "</style>\n",
       "<table border=\"1\" class=\"dataframe\">\n",
       "  <thead>\n",
       "    <tr style=\"text-align: right;\">\n",
       "      <th></th>\n",
       "      <th>sha1</th>\n",
       "      <th>date</th>\n",
       "      <th>name</th>\n",
       "      <th>size</th>\n",
       "    </tr>\n",
       "  </thead>\n",
       "  <tbody>\n",
       "    <tr>\n",
       "      <th>0</th>\n",
       "      <td>ce9e5024041b2ece2bafa2a9d9516bb174ee8949</td>\n",
       "      <td>2022-10-31</td>\n",
       "      <td>Anixa Biosciences, Inc.</td>\n",
       "      <td>3996701</td>\n",
       "    </tr>\n",
       "    <tr>\n",
       "      <th>1</th>\n",
       "      <td>f71415f9ca0cff70e5fa193616b6197f361130ed</td>\n",
       "      <td>2023-02-21</td>\n",
       "      <td>Maravai LifeSciences Holdings, Inc.</td>\n",
       "      <td>4033642</td>\n",
       "    </tr>\n",
       "    <tr>\n",
       "      <th>2</th>\n",
       "      <td>4a9d2b853e05970776121a810460f0962a18c5a1</td>\n",
       "      <td>2022-XX</td>\n",
       "      <td>KLA Corporation</td>\n",
       "      <td>1181894</td>\n",
       "    </tr>\n",
       "    <tr>\n",
       "      <th>3</th>\n",
       "      <td>f973dd219c534accb0d4e72d8e12f51284d48d10</td>\n",
       "      <td>2023-01-01</td>\n",
       "      <td>Ameresco, Inc.</td>\n",
       "      <td>10648267</td>\n",
       "    </tr>\n",
       "    <tr>\n",
       "      <th>4</th>\n",
       "      <td>4e27f4c3402c657d548760cb3a164b036cefaabb</td>\n",
       "      <td>2022-12-31</td>\n",
       "      <td>Battery Minerals Limited</td>\n",
       "      <td>3650701</td>\n",
       "    </tr>\n",
       "    <tr>\n",
       "      <th>...</th>\n",
       "      <td>...</td>\n",
       "      <td>...</td>\n",
       "      <td>...</td>\n",
       "      <td>...</td>\n",
       "    </tr>\n",
       "    <tr>\n",
       "      <th>7490</th>\n",
       "      <td>a2afcd8165a6dbd0058682680b65d3638a5800eb</td>\n",
       "      <td>2023-02-02</td>\n",
       "      <td>Arrow Electronics, Inc</td>\n",
       "      <td>922750</td>\n",
       "    </tr>\n",
       "    <tr>\n",
       "      <th>7491</th>\n",
       "      <td>215df84494756bd4feebc973657835ef7f14ee16</td>\n",
       "      <td>2022-12-31</td>\n",
       "      <td>Synertec</td>\n",
       "      <td>10474497</td>\n",
       "    </tr>\n",
       "    <tr>\n",
       "      <th>7492</th>\n",
       "      <td>20fb970d8705289e835b408c575351295ac16f5f</td>\n",
       "      <td>2022-09-30</td>\n",
       "      <td>TE Connectivity</td>\n",
       "      <td>5753097</td>\n",
       "    </tr>\n",
       "    <tr>\n",
       "      <th>7493</th>\n",
       "      <td>c7f3a8c0a38c756438950ce3085076adb4241a32</td>\n",
       "      <td>2022-01-01</td>\n",
       "      <td>OTC_ADDDF</td>\n",
       "      <td>12603054</td>\n",
       "    </tr>\n",
       "    <tr>\n",
       "      <th>7494</th>\n",
       "      <td>e26bd02b24e45a09c4b860c4763b542deba6f14a</td>\n",
       "      <td>2022-12-31</td>\n",
       "      <td>Taylor Wimpey plc</td>\n",
       "      <td>7845106</td>\n",
       "    </tr>\n",
       "  </tbody>\n",
       "</table>\n",
       "<p>7495 rows × 4 columns</p>\n",
       "</div>"
      ]
     },
     "execution_count": 3,
     "metadata": {},
     "output_type": "execute_result"
    }
   ],
   "execution_count": 3
  },
  {
   "metadata": {
    "ExecuteTime": {
     "end_time": "2024-09-02T11:50:46.030606Z",
     "start_time": "2024-09-02T11:50:46.008375Z"
    }
   },
   "cell_type": "code",
   "source": [
    "# load all file names in the folder\n",
    "sha1_dict_full = df.set_index(\"sha1\").to_dict()[\"name\"]\n",
    "\n",
    "included_companies = []\n",
    "\n",
    "for file in os.listdir(SAMPLES_PATH):\n",
    "    file = file[:-4]\n",
    "    try:\n",
    "        included_companies.append(sha1_dict_full[file])\n",
    "    except KeyError:\n",
    "        print(file)"
   ],
   "id": "2d83133d4cc076ae",
   "outputs": [
    {
     "name": "stdout",
     "output_type": "stream",
     "text": [
      "questions.\n"
     ]
    }
   ],
   "execution_count": 4
  },
  {
   "metadata": {
    "ExecuteTime": {
     "end_time": "2024-09-02T13:27:31.300269Z",
     "start_time": "2024-09-02T13:27:31.284628Z"
    }
   },
   "cell_type": "code",
   "source": "included_companies",
   "id": "eed227e797331902",
   "outputs": [
    {
     "data": {
      "text/plain": [
       "['Global Medical REIT Inc.',\n",
       " 'Zegona Communications plc',\n",
       " 'Calyxt, Inc.',\n",
       " 'TD SYNNEX',\n",
       " 'Eurocell PLC',\n",
       " 'Sandwell Aquatics Centre',\n",
       " 'Mercurity Fintech Holding Inc.',\n",
       " 'Motus GI Holdings, Inc.',\n",
       " 'Limbach Holdings, Inc.',\n",
       " 'Strike Energy Limited',\n",
       " 'Platform Technology',\n",
       " 'VENUS METALS CORPORATION LIMITED',\n",
       " 'NICE',\n",
       " 'Nykredit',\n",
       " 'Air Products',\n",
       " 'Accuray Incorporated',\n",
       " 'Kooth Plc',\n",
       " 'Ethernity Networks Ltd',\n",
       " 'Canadian Banc Corp.',\n",
       " 'EMT']"
      ]
     },
     "execution_count": 122,
     "metadata": {},
     "output_type": "execute_result"
    }
   ],
   "execution_count": 122
  },
  {
   "metadata": {
    "ExecuteTime": {
     "end_time": "2024-09-02T11:50:47.496572Z",
     "start_time": "2024-09-02T11:50:47.479898Z"
    }
   },
   "cell_type": "code",
   "source": [
    "# Create sample for development\n",
    "# COMPANIES = [\"Ethernity Networks Ltd\", \"Limbach Holdings, Inc.\", \"Accuray Incorporated\"]\n",
    "COMPANIES = included_companies\n",
    "\n",
    "if COMPANIES:\n",
    "    df_sample = df[df.name.isin(COMPANIES)]\n",
    "else:\n",
    "    df_sample = df.copy()\n",
    "    \n",
    "sha1_dict = df_sample.set_index(\"name\").to_dict()[\"sha1\"]"
   ],
   "id": "8f6e3574239a7eba",
   "outputs": [],
   "execution_count": 6
  },
  {
   "metadata": {
    "ExecuteTime": {
     "end_time": "2024-09-02T11:50:49.327816Z",
     "start_time": "2024-09-02T11:50:49.312987Z"
    }
   },
   "cell_type": "code",
   "source": "df_sample",
   "id": "c5950769dc2ca5d1",
   "outputs": [
    {
     "data": {
      "text/plain": [
       "                                          sha1        date  \\\n",
       "267   d81bbc64a4160b9946fea7a895f80e6201f52f27  2022-11-23   \n",
       "981   608c5097dfc6e83505fd2259ad862dcec11a3f96  2022-12-31   \n",
       "1075  3696c1b29566acc1eafc704ee5737fb3ae6f3d1d  2023-01-01   \n",
       "1183  99be213e4e689294ebae809bfa6a1b5024076286  2022-01-01   \n",
       "1324  71b04e0248ecf758990a0ab77bd69344be63bcf4  2023-03-27   \n",
       "1500  6b79f1c1de9d0e39a4576dcd4585849b9465b402  2023-04-05   \n",
       "2633  40b5cfe0d7bbf59e186492bfbe1b5002d44af332  2023-03-01   \n",
       "2838  faf8d7d79152d61279eda1cfb58b8236ce2f82fa  2022-06-30   \n",
       "3270  4b525836a5d7cb75489f6d93a3b1cf2b8f039bf2  2022-10-01   \n",
       "4263  ea0757d27fa67cd347d9f046b939a911f5c9a08d  2022-01-01   \n",
       "5223  9e703e719d94af786af5511c823ff86e9f04c070  2022-01-01   \n",
       "5507  dfb1e552b18e116105d9125d9becafa443950e97  2022-01-01   \n",
       "5801  e51b7204b91cbe7709bd3218e7d2d0c2b8dbb438  2023-01-01   \n",
       "6005  bd5041c3e6909d92a7a88e4fb10dd8651df33228  2022-12-31   \n",
       "6442  58a5f9f5c83159e63602b0b1dd27c27fb945c0e9  2022-01-01   \n",
       "6729  9ff4e041732c9841d5423e6ea0bbd6a0320df9ff  2022-01-01   \n",
       "6859  dd78f748262b8ffa62de6484143ff55b38af24c7  2022-06-30   \n",
       "6915  d734bac4a4815e616d84083ad4d3844655321215  2022-12-31   \n",
       "7245  9ae3bb21564a5098c4b4d6450655c22eff85deae  2022-06-30   \n",
       "7472  053b7cb83115789346e2a9efc7e2e640851653ff  2023-02-24   \n",
       "\n",
       "                                  name      size  \n",
       "267                       Air Products   4889969  \n",
       "981           Sandwell Aquatics Centre   2661906  \n",
       "1075         Zegona Communications plc   1481844  \n",
       "1183            Limbach Holdings, Inc.   2023552  \n",
       "1324           Motus GI Holdings, Inc.   7725729  \n",
       "1500    Mercurity Fintech Holding Inc.   1767320  \n",
       "2633                      Calyxt, Inc.    694201  \n",
       "2838                               EMT   1360293  \n",
       "3270                         TD SYNNEX   1902884  \n",
       "4263               Canadian Banc Corp.    498408  \n",
       "5223               Platform Technology   5538800  \n",
       "5507                         Kooth Plc   7290070  \n",
       "5801            Ethernity Networks Ltd   1180978  \n",
       "6005                              NICE   2327149  \n",
       "6442                      Eurocell PLC   6725760  \n",
       "6729  VENUS METALS CORPORATION LIMITED  10424234  \n",
       "6859              Accuray Incorporated   3317389  \n",
       "6915                          Nykredit   7217011  \n",
       "7245             Strike Energy Limited  21906556  \n",
       "7472          Global Medical REIT Inc.   7559733  "
      ],
      "text/html": [
       "<div>\n",
       "<style scoped>\n",
       "    .dataframe tbody tr th:only-of-type {\n",
       "        vertical-align: middle;\n",
       "    }\n",
       "\n",
       "    .dataframe tbody tr th {\n",
       "        vertical-align: top;\n",
       "    }\n",
       "\n",
       "    .dataframe thead th {\n",
       "        text-align: right;\n",
       "    }\n",
       "</style>\n",
       "<table border=\"1\" class=\"dataframe\">\n",
       "  <thead>\n",
       "    <tr style=\"text-align: right;\">\n",
       "      <th></th>\n",
       "      <th>sha1</th>\n",
       "      <th>date</th>\n",
       "      <th>name</th>\n",
       "      <th>size</th>\n",
       "    </tr>\n",
       "  </thead>\n",
       "  <tbody>\n",
       "    <tr>\n",
       "      <th>267</th>\n",
       "      <td>d81bbc64a4160b9946fea7a895f80e6201f52f27</td>\n",
       "      <td>2022-11-23</td>\n",
       "      <td>Air Products</td>\n",
       "      <td>4889969</td>\n",
       "    </tr>\n",
       "    <tr>\n",
       "      <th>981</th>\n",
       "      <td>608c5097dfc6e83505fd2259ad862dcec11a3f96</td>\n",
       "      <td>2022-12-31</td>\n",
       "      <td>Sandwell Aquatics Centre</td>\n",
       "      <td>2661906</td>\n",
       "    </tr>\n",
       "    <tr>\n",
       "      <th>1075</th>\n",
       "      <td>3696c1b29566acc1eafc704ee5737fb3ae6f3d1d</td>\n",
       "      <td>2023-01-01</td>\n",
       "      <td>Zegona Communications plc</td>\n",
       "      <td>1481844</td>\n",
       "    </tr>\n",
       "    <tr>\n",
       "      <th>1183</th>\n",
       "      <td>99be213e4e689294ebae809bfa6a1b5024076286</td>\n",
       "      <td>2022-01-01</td>\n",
       "      <td>Limbach Holdings, Inc.</td>\n",
       "      <td>2023552</td>\n",
       "    </tr>\n",
       "    <tr>\n",
       "      <th>1324</th>\n",
       "      <td>71b04e0248ecf758990a0ab77bd69344be63bcf4</td>\n",
       "      <td>2023-03-27</td>\n",
       "      <td>Motus GI Holdings, Inc.</td>\n",
       "      <td>7725729</td>\n",
       "    </tr>\n",
       "    <tr>\n",
       "      <th>1500</th>\n",
       "      <td>6b79f1c1de9d0e39a4576dcd4585849b9465b402</td>\n",
       "      <td>2023-04-05</td>\n",
       "      <td>Mercurity Fintech Holding Inc.</td>\n",
       "      <td>1767320</td>\n",
       "    </tr>\n",
       "    <tr>\n",
       "      <th>2633</th>\n",
       "      <td>40b5cfe0d7bbf59e186492bfbe1b5002d44af332</td>\n",
       "      <td>2023-03-01</td>\n",
       "      <td>Calyxt, Inc.</td>\n",
       "      <td>694201</td>\n",
       "    </tr>\n",
       "    <tr>\n",
       "      <th>2838</th>\n",
       "      <td>faf8d7d79152d61279eda1cfb58b8236ce2f82fa</td>\n",
       "      <td>2022-06-30</td>\n",
       "      <td>EMT</td>\n",
       "      <td>1360293</td>\n",
       "    </tr>\n",
       "    <tr>\n",
       "      <th>3270</th>\n",
       "      <td>4b525836a5d7cb75489f6d93a3b1cf2b8f039bf2</td>\n",
       "      <td>2022-10-01</td>\n",
       "      <td>TD SYNNEX</td>\n",
       "      <td>1902884</td>\n",
       "    </tr>\n",
       "    <tr>\n",
       "      <th>4263</th>\n",
       "      <td>ea0757d27fa67cd347d9f046b939a911f5c9a08d</td>\n",
       "      <td>2022-01-01</td>\n",
       "      <td>Canadian Banc Corp.</td>\n",
       "      <td>498408</td>\n",
       "    </tr>\n",
       "    <tr>\n",
       "      <th>5223</th>\n",
       "      <td>9e703e719d94af786af5511c823ff86e9f04c070</td>\n",
       "      <td>2022-01-01</td>\n",
       "      <td>Platform Technology</td>\n",
       "      <td>5538800</td>\n",
       "    </tr>\n",
       "    <tr>\n",
       "      <th>5507</th>\n",
       "      <td>dfb1e552b18e116105d9125d9becafa443950e97</td>\n",
       "      <td>2022-01-01</td>\n",
       "      <td>Kooth Plc</td>\n",
       "      <td>7290070</td>\n",
       "    </tr>\n",
       "    <tr>\n",
       "      <th>5801</th>\n",
       "      <td>e51b7204b91cbe7709bd3218e7d2d0c2b8dbb438</td>\n",
       "      <td>2023-01-01</td>\n",
       "      <td>Ethernity Networks Ltd</td>\n",
       "      <td>1180978</td>\n",
       "    </tr>\n",
       "    <tr>\n",
       "      <th>6005</th>\n",
       "      <td>bd5041c3e6909d92a7a88e4fb10dd8651df33228</td>\n",
       "      <td>2022-12-31</td>\n",
       "      <td>NICE</td>\n",
       "      <td>2327149</td>\n",
       "    </tr>\n",
       "    <tr>\n",
       "      <th>6442</th>\n",
       "      <td>58a5f9f5c83159e63602b0b1dd27c27fb945c0e9</td>\n",
       "      <td>2022-01-01</td>\n",
       "      <td>Eurocell PLC</td>\n",
       "      <td>6725760</td>\n",
       "    </tr>\n",
       "    <tr>\n",
       "      <th>6729</th>\n",
       "      <td>9ff4e041732c9841d5423e6ea0bbd6a0320df9ff</td>\n",
       "      <td>2022-01-01</td>\n",
       "      <td>VENUS METALS CORPORATION LIMITED</td>\n",
       "      <td>10424234</td>\n",
       "    </tr>\n",
       "    <tr>\n",
       "      <th>6859</th>\n",
       "      <td>dd78f748262b8ffa62de6484143ff55b38af24c7</td>\n",
       "      <td>2022-06-30</td>\n",
       "      <td>Accuray Incorporated</td>\n",
       "      <td>3317389</td>\n",
       "    </tr>\n",
       "    <tr>\n",
       "      <th>6915</th>\n",
       "      <td>d734bac4a4815e616d84083ad4d3844655321215</td>\n",
       "      <td>2022-12-31</td>\n",
       "      <td>Nykredit</td>\n",
       "      <td>7217011</td>\n",
       "    </tr>\n",
       "    <tr>\n",
       "      <th>7245</th>\n",
       "      <td>9ae3bb21564a5098c4b4d6450655c22eff85deae</td>\n",
       "      <td>2022-06-30</td>\n",
       "      <td>Strike Energy Limited</td>\n",
       "      <td>21906556</td>\n",
       "    </tr>\n",
       "    <tr>\n",
       "      <th>7472</th>\n",
       "      <td>053b7cb83115789346e2a9efc7e2e640851653ff</td>\n",
       "      <td>2023-02-24</td>\n",
       "      <td>Global Medical REIT Inc.</td>\n",
       "      <td>7559733</td>\n",
       "    </tr>\n",
       "  </tbody>\n",
       "</table>\n",
       "</div>"
      ]
     },
     "execution_count": 7,
     "metadata": {},
     "output_type": "execute_result"
    }
   ],
   "execution_count": 7
  },
  {
   "metadata": {},
   "cell_type": "markdown",
   "source": [
    "## Get company name from user query\n",
    "\n",
    "TODO could be more sophisticated"
   ],
   "id": "ca2440fc5b817345"
  },
  {
   "metadata": {
    "ExecuteTime": {
     "end_time": "2024-08-29T16:25:29.086264Z",
     "start_time": "2024-08-29T16:25:29.070200Z"
    }
   },
   "cell_type": "code",
   "source": [
    "import re\n",
    "from fuzzywuzzy import fuzz\n",
    "\n",
    "def normalize_name(name):\n",
    "    # Normalize by removing extra spaces and converting to lowercase\n",
    "    return re.sub(r'\\s+', ' ', name.strip().lower())\n",
    "\n",
    "def fuzzy_match(companies, input_string, threshold=85):\n",
    "    matched_companies = []\n",
    "    norm_input = normalize_name(input_string)\n",
    "    \n",
    "    for company in companies:\n",
    "        norm_company = normalize_name(company)\n",
    "        prev_token = \"\"\n",
    "        \n",
    "        # Fuzzy match each token\n",
    "        for curr_token in norm_input.split():\n",
    "            token = prev_token + \" \" + curr_token\n",
    "            \n",
    "            match_score = fuzz.ratio(norm_company, token)\n",
    "            prev_token = curr_token\n",
    "            \n",
    "            if match_score >= threshold:\n",
    "                matched_companies.append(company)\n",
    "                break  # Stop once a match is found for this company\n",
    "            \n",
    "    return matched_companies\n",
    "\n",
    "\n",
    "def find_exact_matches(companies, input_string):\n",
    "    # normalized_input = normalize_name(input_string)\n",
    "    \n",
    "    matched_companies = []\n",
    "    \n",
    "    for company in companies:\n",
    "        if company in input_string:\n",
    "            matched_companies.append(company)\n",
    "    \n",
    "    return matched_companies\n",
    "\n",
    "\n",
    "def find_companies(input_string):\n",
    "    # Wrapper to use later and allow easy function change\n",
    "    return find_exact_matches(df.name, input_string)\n",
    "\n",
    "\n",
    "input_string = (\"limbach holding inc and ethernity networks buys the accuracy incorporated, ESEA, Five9, Inc.\")\n",
    "\n",
    "matches = find_exact_matches(df.name, input_string)\n",
    "print(matches)"
   ],
   "id": "99709072b0e51f37",
   "outputs": [
    {
     "name": "stdout",
     "output_type": "stream",
     "text": [
      "['EA', 'ESEA', 'Five9, Inc.']\n"
     ]
    },
    {
     "name": "stderr",
     "output_type": "stream",
     "text": [
      "C:\\Users\\felix.krause\\code\\trustbit\\llm_experiments\\venv\\lib\\site-packages\\fuzzywuzzy\\fuzz.py:11: UserWarning: Using slow pure-python SequenceMatcher. Install python-Levenshtein to remove this warning\n",
      "  warnings.warn('Using slow pure-python SequenceMatcher. Install python-Levenshtein to remove this warning')\n"
     ]
    }
   ],
   "execution_count": 10
  },
  {
   "metadata": {},
   "cell_type": "markdown",
   "source": "## Load LLM data",
   "id": "bf301d66795e2b42"
  },
  {
   "cell_type": "code",
   "source": [
    "from llama_parse import LlamaParse\n",
    "\n",
    "parser = LlamaParse(\n",
    "    result_type=\"markdown\",  # \"markdown\" and \"text\" are available\n",
    "    verbose=True\n",
    ")\n",
    "\n",
    "# Function to load text from different file types\n",
    "def load_text_from_file(file_path):\n",
    "    _, file_extension = os.path.splitext(file_path)\n",
    "    text = \"\"\n",
    "    \n",
    "    if file_extension == \".pdf\":\n",
    "        # TODO https://www.reddit.com/r/LangChain/comments/18yxacm/extracting_data_from_pdf_containing_complex_tables/\n",
    "        with open(file_path, 'rb') as f:\n",
    "            reader = PyPDF2.PdfReader(f, strict=False)\n",
    "            for page in reader.pages:\n",
    "                text += page.extract_text() + \"\\n\"\n",
    "    else:\n",
    "        pass\n",
    "    \n",
    "    return text\n",
    "\n",
    "\n",
    "# Function to load documents from a folder\n",
    "def load_documents_from_folder(folder_path, companies=[]):\n",
    "    documents = []\n",
    "    for root, _, files in os.walk(folder_path):\n",
    "        for file in files:\n",
    "            if file[:-4] in companies: #or len(companies) == 0:\n",
    "                print(\"Loading\", file)\n",
    "                file_path = os.path.join(root, file)\n",
    "\n",
    "                text = load_text_from_file(file_path)\n",
    "                if text:\n",
    "                    documents.append(Document(page_content=text, metadata={\"source\": file_path}))\n",
    "    return documents"
   ],
   "metadata": {
    "collapsed": false,
    "ExecuteTime": {
     "end_time": "2024-09-02T11:51:14.704559Z",
     "start_time": "2024-09-02T11:51:09.112787Z"
    }
   },
   "id": "a78b2e35a4794cc2",
   "outputs": [],
   "execution_count": 10
  },
  {
   "metadata": {
    "ExecuteTime": {
     "end_time": "2024-08-29T16:25:32.831444Z",
     "start_time": "2024-08-29T16:25:32.815894Z"
    }
   },
   "cell_type": "code",
   "source": [
    "# Could try LLama approach\n",
    "# TODO https://medium.com/the-ai-forum/rag-on-complex-pdf-using-llamaparse-langchain-and-groq-5b132bd1f9f3\n",
    "# doc = parser.load_data(os.path.join(FOLDER_PATH, \"e51b7204b91cbe7709bd3218e7d2d0c2b8dbb438.pdf\"))\n",
    "# index = VectorStoreIndex.from_documents(doc)"
   ],
   "id": "9cb153b0cfd5cbee",
   "outputs": [],
   "execution_count": 12
  },
  {
   "metadata": {},
   "cell_type": "markdown",
   "source": "## Try to detect tables from pdf",
   "id": "f51ab4663aeeda70"
  },
  {
   "metadata": {
    "ExecuteTime": {
     "end_time": "2024-08-29T13:37:18.895314Z",
     "start_time": "2024-08-29T13:35:57.735226Z"
    }
   },
   "cell_type": "code",
   "source": [
    "\"\"\"\n",
    "import camelot\n",
    "\n",
    "# Extract tables from a PDF file\n",
    "tables = camelot.read_pdf(os.path.join(FOLDER_PATH, \"e51b7204b91cbe7709bd3218e7d2d0c2b8dbb438.pdf\"), pages=\"all\")\n",
    "\n",
    "# Convert the first table to a DataFrame\n",
    "df = tables[0].df\n",
    "\n",
    "# Save the DataFrame as a CSV file\n",
    "tables[0]\n",
    "\"\"\""
   ],
   "id": "f1456a9650d4528f",
   "outputs": [
    {
     "name": "stderr",
     "output_type": "stream",
     "text": [
      "C:\\Users\\felix.krause\\code\\trustbit\\llm_experiments\\venv\\lib\\site-packages\\camelot\\parsers\\lattice.py:397: UserWarning: No tables found on page-2\n",
      "  warnings.warn(\n",
      "C:\\Users\\felix.krause\\code\\trustbit\\llm_experiments\\venv\\lib\\site-packages\\camelot\\parsers\\lattice.py:397: UserWarning: No tables found on page-79\n",
      "  warnings.warn(\n"
     ]
    },
    {
     "data": {
      "text/plain": [
       "<Table shape=(1, 1)>"
      ]
     },
     "execution_count": 8,
     "metadata": {},
     "output_type": "execute_result"
    }
   ],
   "execution_count": 8
  },
  {
   "metadata": {
    "ExecuteTime": {
     "end_time": "2024-08-29T14:00:53.324190Z",
     "start_time": "2024-08-29T14:00:53.316417Z"
    }
   },
   "cell_type": "code",
   "source": "# tables[40].df",
   "id": "12bdfc9101258f90",
   "outputs": [
    {
     "data": {
      "text/plain": [
       "                                        0 1  \\\n",
       "0  STRATEGIC REPORT\\nCORPORATE GOVERNANCE     \n",
       "\n",
       "                                            2       3  \n",
       "0  FINANCIAL STATEMENTS\\nFINANCIAL STATEMENTS  73\\n73  "
      ],
      "text/html": [
       "<div>\n",
       "<style scoped>\n",
       "    .dataframe tbody tr th:only-of-type {\n",
       "        vertical-align: middle;\n",
       "    }\n",
       "\n",
       "    .dataframe tbody tr th {\n",
       "        vertical-align: top;\n",
       "    }\n",
       "\n",
       "    .dataframe thead th {\n",
       "        text-align: right;\n",
       "    }\n",
       "</style>\n",
       "<table border=\"1\" class=\"dataframe\">\n",
       "  <thead>\n",
       "    <tr style=\"text-align: right;\">\n",
       "      <th></th>\n",
       "      <th>0</th>\n",
       "      <th>1</th>\n",
       "      <th>2</th>\n",
       "      <th>3</th>\n",
       "    </tr>\n",
       "  </thead>\n",
       "  <tbody>\n",
       "    <tr>\n",
       "      <th>0</th>\n",
       "      <td>STRATEGIC REPORT\\nCORPORATE GOVERNANCE</td>\n",
       "      <td></td>\n",
       "      <td>FINANCIAL STATEMENTS\\nFINANCIAL STATEMENTS</td>\n",
       "      <td>73\\n73</td>\n",
       "    </tr>\n",
       "  </tbody>\n",
       "</table>\n",
       "</div>"
      ]
     },
     "execution_count": 47,
     "metadata": {},
     "output_type": "execute_result"
    }
   ],
   "execution_count": 47
  },
  {
   "metadata": {},
   "cell_type": "markdown",
   "source": "## Build retriever per company",
   "id": "695aebfba71c14c4"
  },
  {
   "metadata": {
    "ExecuteTime": {
     "end_time": "2024-09-02T13:45:19.553967Z",
     "start_time": "2024-09-02T13:45:19.546736Z"
    }
   },
   "cell_type": "code",
   "source": [
    "def get_store_name(string):\n",
    "    string = string.lower()\n",
    "    return string.replace(\" \", \"_\").replace(\",\", \"\").replace(\".\", \"\").replace(\"'\", \"\")"
   ],
   "id": "f52dd0fd4a43609b",
   "outputs": [],
   "execution_count": 127
  },
  {
   "metadata": {
    "ExecuteTime": {
     "end_time": "2024-09-02T11:55:23.964088Z",
     "start_time": "2024-09-02T11:51:17.344513Z"
    }
   },
   "cell_type": "code",
   "source": [
    "# WARNING: This will build all retrievers for all companies in the sample\n",
    "text_splitter = RecursiveCharacterTextSplitter(chunk_size=3000, chunk_overlap=300, separators=[\"\\n\\n\", \"\\n\"]) # TODO more sophisticated\n",
    "\n",
    "for company in df_sample.name.to_list():\n",
    "    # check if file already exists\n",
    "    if os.path.exists(f\"dbs/{get_store_name(company)}.db\"):\n",
    "        print(\"Skipping\", company)\n",
    "        continue\n",
    "    \n",
    "    try:\n",
    "        company_docs = load_documents_from_folder(SAMPLES_PATH, [sha1_dict[company]])\n",
    "        \n",
    "        if not company_docs:\n",
    "            raise ValueError(f\"No documents found for company: {company}\")\n",
    "        \n",
    "        texts = text_splitter.split_documents(company_docs)\n",
    "        embeddings = OpenAIEmbeddings()\n",
    "        db = FAISS.from_documents(texts, embeddings)\n",
    "        \n",
    "        with open(f\"dbs/{get_store_name(company)}.db\", \"wb\") as f:\n",
    "            pickle.dump(db.serialize_to_bytes(), f)\n",
    "    except Exception as e:\n",
    "        print(f\"Error for company {company}: {e}\")\n",
    "        # raise e"
   ],
   "id": "6e7385617622991b",
   "outputs": [
    {
     "name": "stdout",
     "output_type": "stream",
     "text": [
      "Loading d81bbc64a4160b9946fea7a895f80e6201f52f27.pdf\n",
      "Loading 608c5097dfc6e83505fd2259ad862dcec11a3f96.pdf\n",
      "Loading 3696c1b29566acc1eafc704ee5737fb3ae6f3d1d.pdf\n"
     ]
    },
    {
     "name": "stderr",
     "output_type": "stream",
     "text": [
      "FloatObject (b'0.00-40') invalid; use 0.0 instead\n",
      "FloatObject (b'0.00-40') invalid; use 0.0 instead\n",
      "FloatObject (b'0.00-40') invalid; use 0.0 instead\n",
      "FloatObject (b'0.00-40') invalid; use 0.0 instead\n",
      "FloatObject (b'0.00-40') invalid; use 0.0 instead\n",
      "FloatObject (b'0.00-40') invalid; use 0.0 instead\n",
      "FloatObject (b'0.00-40') invalid; use 0.0 instead\n",
      "FloatObject (b'0.00-40') invalid; use 0.0 instead\n",
      "FloatObject (b'0.00-40') invalid; use 0.0 instead\n",
      "FloatObject (b'0.00-40') invalid; use 0.0 instead\n",
      "FloatObject (b'0.00-40') invalid; use 0.0 instead\n",
      "FloatObject (b'0.00-40') invalid; use 0.0 instead\n"
     ]
    },
    {
     "name": "stdout",
     "output_type": "stream",
     "text": [
      "Loading 99be213e4e689294ebae809bfa6a1b5024076286.pdf\n"
     ]
    },
    {
     "name": "stderr",
     "output_type": "stream",
     "text": [
      "FloatObject (b'0.00-40') invalid; use 0.0 instead\n",
      "FloatObject (b'0.00-40') invalid; use 0.0 instead\n",
      "FloatObject (b'0.00-40') invalid; use 0.0 instead\n",
      "FloatObject (b'0.00-40') invalid; use 0.0 instead\n",
      "FloatObject (b'0.00-40') invalid; use 0.0 instead\n",
      "FloatObject (b'0.00-40') invalid; use 0.0 instead\n",
      "FloatObject (b'0.00-40') invalid; use 0.0 instead\n",
      "FloatObject (b'0.00-40') invalid; use 0.0 instead\n"
     ]
    },
    {
     "name": "stdout",
     "output_type": "stream",
     "text": [
      "Loading 71b04e0248ecf758990a0ab77bd69344be63bcf4.pdf\n",
      "Loading 6b79f1c1de9d0e39a4576dcd4585849b9465b402.pdf\n",
      "Loading 40b5cfe0d7bbf59e186492bfbe1b5002d44af332.pdf\n",
      "Loading faf8d7d79152d61279eda1cfb58b8236ce2f82fa.pdf\n",
      "Loading 4b525836a5d7cb75489f6d93a3b1cf2b8f039bf2.pdf\n",
      "Loading ea0757d27fa67cd347d9f046b939a911f5c9a08d.pdf\n",
      "Loading 9e703e719d94af786af5511c823ff86e9f04c070.pdf\n",
      "Loading dfb1e552b18e116105d9125d9becafa443950e97.pdf\n",
      "Loading e51b7204b91cbe7709bd3218e7d2d0c2b8dbb438.pdf\n",
      "Loading bd5041c3e6909d92a7a88e4fb10dd8651df33228.pdf\n",
      "Loading 58a5f9f5c83159e63602b0b1dd27c27fb945c0e9.pdf\n",
      "Loading 9ff4e041732c9841d5423e6ea0bbd6a0320df9ff.pdf\n",
      "Loading dd78f748262b8ffa62de6484143ff55b38af24c7.pdf\n",
      "Loading d734bac4a4815e616d84083ad4d3844655321215.pdf\n",
      "Loading 9ae3bb21564a5098c4b4d6450655c22eff85deae.pdf\n",
      "Loading 053b7cb83115789346e2a9efc7e2e640851653ff.pdf\n"
     ]
    }
   ],
   "execution_count": 12
  },
  {
   "metadata": {
    "ExecuteTime": {
     "end_time": "2024-09-02T13:45:23.206646Z",
     "start_time": "2024-09-02T13:45:23.190943Z"
    }
   },
   "cell_type": "code",
   "source": [
    "def get_retriever_dict(companies):\n",
    "    retriever_dict = {}\n",
    "    \n",
    "    for company in companies:\n",
    "        with open(f\"dbs/{get_store_name(company)}.db\", \"rb\") as f:\n",
    "            db_bytes = pickle.load(f)\n",
    "        \n",
    "        db_temp = FAISS.deserialize_from_bytes(db_bytes, OpenAIEmbeddings(),\n",
    "                                      allow_dangerous_deserialization=True)\n",
    "        \n",
    "        retriever_dict[company] = db_temp.as_retriever()\n",
    "    \n",
    "    return retriever_dict"
   ],
   "id": "2eea77c787b966e6",
   "outputs": [],
   "execution_count": 128
  },
  {
   "metadata": {
    "ExecuteTime": {
     "end_time": "2024-09-02T13:45:24.051428Z",
     "start_time": "2024-09-02T13:45:23.601794Z"
    }
   },
   "cell_type": "code",
   "source": "retriever_dict = get_retriever_dict(df_sample.name.to_list())",
   "id": "4fcc78bbd52d9ac8",
   "outputs": [],
   "execution_count": 129
  },
  {
   "metadata": {
    "ExecuteTime": {
     "end_time": "2024-09-02T13:45:24.591672Z",
     "start_time": "2024-09-02T13:45:24.576442Z"
    }
   },
   "cell_type": "code",
   "source": [
    "def get_context(query, company):\n",
    "    # TODO add sophisticated retriever for tables?\n",
    "    return retriever_dict[company].get_relevant_documents(query)"
   ],
   "id": "c12759f74d642592",
   "outputs": [],
   "execution_count": 130
  },
  {
   "metadata": {},
   "cell_type": "markdown",
   "source": "## Structured inference",
   "id": "3d6da0d2a417ed12"
  },
  {
   "cell_type": "code",
   "source": [
    "# MODEL = \"gpt-4o-mini-2024-07-18\"\n",
    "MODEL = \"gpt-4o-2024-08-06\"\n",
    "\n",
    "# load system prompt from .md\n",
    "with open(\"instructions/answer_guidelines.md\") as f:\n",
    "    ANSWER_GUIDELINES = f.read()\n",
    "    \n",
    "with open(\"instructions/fin_info.md\") as f:\n",
    "    FIN_INFO = f.read()\n",
    "\n",
    "\n",
    "system_prompt = f\"\"\"\n",
    "You are an intelligent assistant tasked with retrieving and analyzing company data to answer specific questions based on the provided CONTEXT.\n",
    "\n",
    "Your Objectives:\n",
    "    - Chain of Thought: Document your reasoning process in 'chain_of_thought', including all intermediary steps. If your analysis involves calculations (e.g., ratios), explicitly state the numerator and denominator.\n",
    "    - Handling Temporal Data: If the temporal scope of the data isn't an exact match (e.g., end-of-year data instead of Q4), use the most relevant available data to guide your reasoning, ensuring the CONTEXT contains sufficient information.\n",
    "    - Final Answer: Based on your reasoning, provide a final answer in 'answer' that strictly adheres to the guidelines outlined in. Accuracy and format compliance are crucial: \\n {ANSWER_GUIDELINES} \\n\n",
    "\n",
    "Format:\n",
    "    - chain_of_thought: Your reasoning process, including intermediary steps\n",
    "    - answer: Your final answer following the answer guidelines\n",
    "\n",
    "CONTEXT: \n",
    "<CONTEXT>\n",
    "\"\"\"\n",
    "   \n",
    "# f\"Your primary task is to accurately identify and extract specific financial metrics, ratios, and counts, even when synonymous \"\n",
    "# f\"or contextually similar terms are used. Here is some useful information about these: \\n {FIN_INFO}\""
   ],
   "metadata": {
    "collapsed": false,
    "ExecuteTime": {
     "end_time": "2024-09-02T13:45:26.759555Z",
     "start_time": "2024-09-02T13:45:26.743578Z"
    }
   },
   "id": "5839c1c42cf2a1cd",
   "outputs": [],
   "execution_count": 131
  },
  {
   "metadata": {
    "ExecuteTime": {
     "end_time": "2024-09-02T13:45:27.453958Z",
     "start_time": "2024-09-02T13:45:27.422446Z"
    }
   },
   "cell_type": "code",
   "source": [
    "from pydantic import BaseModel\n",
    "from openai import OpenAI\n",
    "\n",
    "client = OpenAI()\n",
    "\n",
    "class AnswerEvent(BaseModel):\n",
    "    chain_of_thought: str\n",
    "    answer: int | float | str\n",
    "\n",
    "\n",
    "def ask_company_expert(query, company):\n",
    "    print(\"### ASKING COMPANY EXPERT:\", company)\n",
    "    context = get_context(query, company)\n",
    "    completion = client.beta.chat.completions.parse(\n",
    "        model=MODEL,\n",
    "        messages=[\n",
    "            {\"role\": \"system\", \"content\": system_prompt.replace(\"<CONTEXT>\", str(context))},\n",
    "            {\"role\": \"user\", \"content\": query},\n",
    "        ],\n",
    "        response_format=AnswerEvent,\n",
    "    )\n",
    "    \n",
    "    return completion.choices[0].message.parsed"
   ],
   "id": "f37aecc08c73bdb1",
   "outputs": [],
   "execution_count": 132
  },
  {
   "metadata": {
    "ExecuteTime": {
     "end_time": "2024-09-02T13:00:24.698576Z",
     "start_time": "2024-09-02T13:00:21.244397Z"
    }
   },
   "cell_type": "code",
   "source": "ask_company_expert(\"How many assets does 'Accuray Incorporated' have in 2022 in dollars?\", \"Accuray Incorporated\")  # 472849000",
   "id": "103c61fa8d8d5013",
   "outputs": [
    {
     "name": "stdout",
     "output_type": "stream",
     "text": [
      "### ASKING COMPANY EXPERT: Accuray Incorporated\n"
     ]
    },
    {
     "data": {
      "text/plain": [
       "AnswerEvent(chain_of_thought=\"The document provides summarized balance sheet data for a joint venture (JV) as of March 31, 2022, and March 31, 2021. However, this data is specific to the JV and not Accuray Incorporated itself. The document lists 'Total liabilities and stockholders’ equity' as $472,849 for Accuray as of June 30, 2022. Typically, this total includes both total liabilities and total stockholders' equity, which together reflect the total assets of a company. Therefore, the total assets for Accuray Incorporated in 2022 should be the same as the total liabilities and stockholders’ equity, which is $472,849,000.\", answer=472849000)"
      ]
     },
     "execution_count": 104,
     "metadata": {},
     "output_type": "execute_result"
    }
   ],
   "execution_count": 104
  },
  {
   "metadata": {
    "ExecuteTime": {
     "end_time": "2024-08-29T12:55:36.485954Z",
     "start_time": "2024-08-29T12:55:33.459475Z"
    }
   },
   "cell_type": "code",
   "source": "ask_company_expert(\"How many assets does 'Ethernity Networks Ltd' have in 2022 in dollars?\", \"Ethernity Networks Ltd\")",
   "id": "907a2e8870981b26",
   "outputs": [
    {
     "name": "stdout",
     "output_type": "stream",
     "text": [
      "['Ethernity Networks Ltd']\n"
     ]
    },
    {
     "data": {
      "text/plain": [
       "AnswerEvent(chain_of_thought='The provided context does not contain specific information regarding the total assets of Ethernity Networks Ltd for the year 2022. Therefore, I cannot provide an answer as the necessary data is absent.', answer='n/a')"
      ]
     },
     "execution_count": 96,
     "metadata": {},
     "output_type": "execute_result"
    }
   ],
   "execution_count": 96
  },
  {
   "metadata": {
    "ExecuteTime": {
     "end_time": "2024-09-02T13:00:37.621900Z",
     "start_time": "2024-09-02T13:00:34.948569Z"
    }
   },
   "cell_type": "code",
   "source": "ask_company_expert(\"What are the total R&D expenses of 'Ethernity Networks Ltd' in 2021?\", \"Ethernity Networks Ltd\")",
   "id": "537e14d8c3d459b6",
   "outputs": [
    {
     "name": "stdout",
     "output_type": "stream",
     "text": [
      "### ASKING COMPANY EXPERT: Ethernity Networks Ltd\n"
     ]
    },
    {
     "data": {
      "text/plain": [
       "AnswerEvent(chain_of_thought='The provided context does not contain specific figures or data detailing the research and development (R&D) expenses for Ethernity Networks Ltd for the year 2021. Without this information, I cannot accurately determine the R&D expenses for 2021.', answer='n/a')"
      ]
     },
     "execution_count": 105,
     "metadata": {},
     "output_type": "execute_result"
    }
   ],
   "execution_count": 105
  },
  {
   "metadata": {},
   "cell_type": "markdown",
   "source": "## Multiple agents",
   "id": "f0ee597ead17d621"
  },
  {
   "metadata": {
    "ExecuteTime": {
     "end_time": "2024-09-02T13:45:30.110587Z",
     "start_time": "2024-09-02T13:45:30.094903Z"
    }
   },
   "cell_type": "code",
   "source": [
    "# DELEGATION MANAGER\n",
    "\n",
    "INVOLVED_COMPANIES = df_sample.name.to_list()\n",
    "\n",
    "system_prompt_delegation = f\"\"\"\n",
    "You will receive queries related to one or more companies. You have access to specialized agents capable of retrieving data for each specific company. To delegate tasks to these agents, follow these guidelines:\n",
    "\n",
    "    1. Identify Companies: Extract the exact company names from the query and list them under 'companies'. Ensure that the company names match exactly with those provided in {INVOLVED_COMPANIES}. If the query mentions companies that are not in this list, enter 'SKIP' for both 'companies' and 'queries', and note this in the 'chain_of_thought'. If the company name in the query is incomplete (e.g., missing 'Inc.', 'Ltd.'), attempt to match it with the correct company name from the list.\n",
    "\n",
    "    2. Formulate Queries: \n",
    "        - For each company identified, create a precise query that the specialized agents can use to retrieve the required information. \n",
    "        - List these queries under 'queries'. \n",
    "        - Add some information on where in annual company reports the specialized agents can usually find the information. \n",
    "        - If the query involves ratios, comparisons, or requires multiple metrics, suggest how the specialized agents should approach the problem to ensure accurate results. For instance, if calculating a ratio, indicate which metrics to retrieve and compare.\n",
    "        - If using abbreviations (e.g., 'R&D') also mention the full phrase or name.\n",
    "    \n",
    "    4. Chain of Thought: Provide a 'chain_of_thought' explaining how you identified the companies, formulated the queries, and any assumptions or steps taken to reach your final output. If you marked any queries as 'SKIP', explain why.\n",
    "\"\"\"\n",
    "\n",
    "\n",
    "class DelegationRequest(BaseModel):\n",
    "    chain_of_thought: str\n",
    "    companies: list[str]\n",
    "    queries: list[str]\n",
    "\n",
    "\n",
    "def ask_delegation_manager(query):    \n",
    "    print(\"### ASKING DELEGATION MANAGER: \")\n",
    "    completion = client.beta.chat.completions.parse(\n",
    "        model=MODEL,\n",
    "        messages=[\n",
    "            {\"role\": \"system\", \"content\": system_prompt_delegation},\n",
    "            {\"role\": \"user\", \"content\": query},\n",
    "        ],\n",
    "        response_format=DelegationRequest,\n",
    "    )\n",
    "    \n",
    "    return completion.choices[0].message.parsed"
   ],
   "id": "556851a9b2e0d530",
   "outputs": [],
   "execution_count": 133
  },
  {
   "metadata": {
    "ExecuteTime": {
     "end_time": "2024-09-02T12:28:19.038772Z",
     "start_time": "2024-09-02T12:28:17.048121Z"
    }
   },
   "cell_type": "code",
   "source": "ask_delegation_manager(\"Has 'Ethernity Networks Ltd' more liabilities than 'Accuray Incorporated' in 2022?\")",
   "id": "f0066ed0c2eead25",
   "outputs": [
    {
     "name": "stdout",
     "output_type": "stream",
     "text": [
      "### ASKING DELEGATION MANAGER: \n"
     ]
    },
    {
     "data": {
      "text/plain": [
       "DelegationRequest(chain_of_thought=\"In this query, I identified two companies: 'Ethernity Networks Ltd' and 'Accuray Incorporated'. Both of these companies are part of the provided list, allowing me to formulate specific queries for retrieving the necessary financial data. The query asks for a comparison of liabilities for the year 2022, which requires extracting total liabilities from the annual reports for both companies. I will retrieve the total liabilities for both companies from their 2022 reports to facilitate this comparison.\", companies=['Ethernity Networks Ltd', 'Accuray Incorporated'], queries=['Retrieve total liabilities for Ethernity Networks Ltd from the 2022 annual report, typically found in the balance sheet section.', 'Retrieve total liabilities for Accuray Incorporated from the 2022 annual report, typically found in the balance sheet section.'])"
      ]
     },
     "execution_count": 62,
     "metadata": {},
     "output_type": "execute_result"
    }
   ],
   "execution_count": 62
  },
  {
   "metadata": {
    "ExecuteTime": {
     "end_time": "2024-09-02T12:12:32.695404Z",
     "start_time": "2024-09-02T12:12:31.061579Z"
    }
   },
   "cell_type": "code",
   "source": "ask_delegation_manager(\"How many assets does 'Ethernity Networks Ltd' have in 2022 in dollars?\")",
   "id": "450954825ad2cc7b",
   "outputs": [
    {
     "name": "stdout",
     "output_type": "stream",
     "text": [
      "### ASKING DELEGATION MANAGER: \n"
     ]
    },
    {
     "data": {
      "text/plain": [
       "DelegationRequest(chain_of_thought=\"The query explicitly mentions 'Ethernity Networks Ltd', which is included in the list of companies I have access to. I formulated the query to retrieve the specific information about the assets of 'Ethernity Networks Ltd' for the year 2022, specifying the currency as dollars so the specialized agents can provide a precise answer. There are no other companies mentioned in the query, so this is straightforward.\", companies=['Ethernity Networks Ltd'], queries=['How many assets does Ethernity Networks Ltd have in 2022 in dollars? This information can usually be found in the balance sheet.'])"
      ]
     },
     "execution_count": 34,
     "metadata": {},
     "output_type": "execute_result"
    }
   ],
   "execution_count": 34
  },
  {
   "metadata": {
    "ExecuteTime": {
     "end_time": "2024-09-02T12:52:20.101095Z",
     "start_time": "2024-09-02T12:52:15.718067Z"
    }
   },
   "cell_type": "code",
   "source": "ask_delegation_manager(\"Did Global Medical REIT Inc. have a greater Debt-to-Equity ratio than Zegona Communications plc in Q2 2021?\")",
   "id": "67b32adb4ff93a38",
   "outputs": [
    {
     "name": "stdout",
     "output_type": "stream",
     "text": [
      "### ASKING DELEGATION MANAGER: \n"
     ]
    },
    {
     "data": {
      "text/plain": [
       "DelegationRequest(chain_of_thought=\"The query mentions two companies: Global Medical REIT Inc. and Zegona Communications plc. Both are present in the provided list, so they are captured correctly. The query is asking for a comparison of the Debt-to-Equity ratio between these two companies for Q2 2021. To address this, the specialized agents should retrieve the Debt-to-Equity ratio for each company from their respective Q2 2021 financial reports. This is typically found in the financial statements section, specifically the balance sheet and notes on financial metrics. The agents should ensure that the data is from Q2 2021 to make a precise comparison. Hence, queries are formulated to retrieve this specific data from each company's financial reports for that period.\", companies=['Global Medical REIT Inc.', 'Zegona Communications plc'], queries=['Retrieve the Debt-to-Equity ratio for Global Medical REIT Inc. from Q2 2021 financial reports.', 'Retrieve the Debt-to-Equity ratio for Zegona Communications plc from Q2 2021 financial reports.'])"
      ]
     },
     "execution_count": 90,
     "metadata": {},
     "output_type": "execute_result"
    }
   ],
   "execution_count": 90
  },
  {
   "metadata": {
    "ExecuteTime": {
     "end_time": "2024-09-02T13:45:33.386586Z",
     "start_time": "2024-09-02T13:45:33.360141Z"
    }
   },
   "cell_type": "code",
   "source": [
    "# EXECUTION MANAGER\n",
    "\n",
    "system_prompt_execution = f\"\"\"\n",
    "You are an intelligent assistant tasked with synthesizing a final answer to the USER_QUERY using specific company data provided in the CONTEXT. The CONTEXT includes information generated by expert systems along with their reasoning process.\n",
    "\n",
    "Your Objectives:\n",
    "    - Final Answer Construction: Your primary task is to deliver a final, accurate response to the USER_QUERY based on the provided CONTEXT.\n",
    "    - Handling Temporal Data: If the temporal scope of the available data is not an exact match (e.g., end-of-year data instead of Q4), use the best available data to formulate your answer, provided that the CONTEXT contains sufficient relevant information.\n",
    "    - Chain of Thought: Document your reasoning process in 'chain_of_thought', including intermediary steps and considerations that led to your final answer.\n",
    "    - Strict Adherence: The final answer must be compliant with the specific guidelines. Accuracy, clarity, and adherence to these guidelines are critical: \\n {ANSWER_GUIDELINES} \\n \n",
    "\n",
    "Format:\n",
    "    - chain_of_thought: Your reasoning process, including intermediary steps\n",
    "    - answer: Your final answer following the guidelines\n",
    "\n",
    "Provided Inputs:\n",
    "\n",
    "USER_QUERY: \\n <QUERY> \\n\n",
    "ANSWER_TYPE: \\n <OUTPUT_TYPE> \\n\n",
    "CONTEXT: \\n <CONTEXT>\n",
    "\"\"\"\n",
    "\n",
    "class ExecutionRequest(BaseModel):\n",
    "    chain_of_thought: str\n",
    "    answer: int | float | str\n",
    "\n",
    "def ask_execution_manager(query, context, output_type):\n",
    "    system_prompt_execution_full = system_prompt_execution.replace(\"<QUERY>\", query).replace(\"<CONTEXT>\", context).replace(\"<OUTPUT_TYPE>\", output_type)\n",
    "    \n",
    "    print(\"### ASKING EXECUTION MANAGER: \")\n",
    "\n",
    "    print(\"Context:\", context)\n",
    "    \n",
    "    completion = client.beta.chat.completions.parse(\n",
    "        model=MODEL,\n",
    "        messages=[\n",
    "            {\"role\": \"system\", \"content\": system_prompt_execution_full},\n",
    "            {\"role\": \"user\", \"content\": query},\n",
    "        ],\n",
    "        response_format=ExecutionRequest,\n",
    "    )\n",
    "    \n",
    "    return completion.choices[0].message.parsed"
   ],
   "id": "ae5badfdd80719b5",
   "outputs": [],
   "execution_count": 134
  },
  {
   "metadata": {
    "ExecuteTime": {
     "end_time": "2024-09-02T13:45:39.449419Z",
     "start_time": "2024-09-02T13:45:39.435403Z"
    }
   },
   "cell_type": "code",
   "source": [
    "# FINAL PIPELINE\n",
    "\n",
    "def ask_question(query, output_type):\n",
    "    print(\"## Query:\", query)\n",
    "    delegations = ask_delegation_manager(query)\n",
    "    print(\"Delegations: \\n\", delegations)\n",
    "    \n",
    "    expert_context = {}\n",
    "    for company, company_query in zip(delegations.companies, delegations.queries):\n",
    "        if company.lower() == \"skip\" or company_query.lower() == \"skip\":\n",
    "            expert_context[company] = \"No data available\"\n",
    "        else:\n",
    "            expert_context[company] = ask_company_expert(company_query, company)\n",
    "    \n",
    "    final_answer = ask_execution_manager(query, str(expert_context), output_type)\n",
    "    \n",
    "    return final_answer"
   ],
   "id": "1c4c03aa88b9f80b",
   "outputs": [],
   "execution_count": 135
  },
  {
   "metadata": {
    "ExecuteTime": {
     "end_time": "2024-09-02T13:02:04.533967Z",
     "start_time": "2024-09-02T13:01:56.986120Z"
    }
   },
   "cell_type": "code",
   "source": "ask_question(\"Who is the CEO of Tesla Inc.?\", \"name\") # n/a",
   "id": "c5c790aa6cfca5bd",
   "outputs": [
    {
     "name": "stdout",
     "output_type": "stream",
     "text": [
      "## Query: Who is the CEO of Tesla Inc.?\n",
      "### ASKING DELEGATION MANAGER: \n",
      "Delegations: \n",
      " chain_of_thought=\"Tesla Inc. is not in the list of companies that we are equipped to handle. Hence, according to the guidelines, the appropriate action is to mark both 'companies' and 'queries' as 'SKIP'.\" companies=['SKIP'] queries=['SKIP']\n",
      "### ASKING EXECUTION MANAGER: \n",
      "Context: {'SKIP': 'No data available'}\n"
     ]
    },
    {
     "data": {
      "text/plain": [
       "ExecutionRequest(chain_of_thought='The context indicates there\\'s no specific data available from the expert system about the CEO of Tesla Inc. As per the guidelines, if the needed information isn\\'t available in the provided context, I must respond with \"n/a\".', answer='n/a')"
      ]
     },
     "execution_count": 112,
     "metadata": {},
     "output_type": "execute_result"
    }
   ],
   "execution_count": 112
  },
  {
   "metadata": {
    "ExecuteTime": {
     "end_time": "2024-09-02T13:02:10.591216Z",
     "start_time": "2024-09-02T13:02:04.533967Z"
    }
   },
   "cell_type": "code",
   "source": "ask_question(\"Who is the CEO of Ethernity Networks?\", \"name\") # David Levi",
   "id": "db938ef5d289790",
   "outputs": [
    {
     "name": "stdout",
     "output_type": "stream",
     "text": [
      "## Query: Who is the CEO of Ethernity Networks?\n",
      "### ASKING DELEGATION MANAGER: \n",
      "Delegations: \n",
      " chain_of_thought=\"The query mentions the company 'Ethernity Networks' which matches exactly with the company 'Ethernity Networks Ltd' from the provided list. Therefore, the relevant company is identified, and I can proceed to form a query for this specific company to retrieve information about the CEO.\" companies=['Ethernity Networks Ltd'] queries=[\"Retrieve the name of the current CEO of Ethernity Networks Ltd. This information is typically found in the Management section of the company's annual report or on the company's official website under leadership or management team information.\"]\n",
      "### ASKING COMPANY EXPERT: Ethernity Networks Ltd\n",
      "### ASKING EXECUTION MANAGER: \n",
      "Context: {'Ethernity Networks Ltd': AnswerEvent(chain_of_thought='To find the name of the current CEO of Ethernity Networks Ltd., I will search the provided CONTEXT for any mention of executive roles, particularly looking for \"CEO\" or \"Chief Executive Officer\". In the given text, the section \"Directors\" lists various personnel and their roles. It explicitly mentions \"David Levi\" as the \"Chief Executive Officer.\" Thus, based on the information provided in the CONTEXT, the name of the current CEO can be determined.', answer='David Levi')}\n"
     ]
    },
    {
     "data": {
      "text/plain": [
       "ExecutionRequest(chain_of_thought='The CONTEXT provides the name of the current CEO of Ethernity Networks. By examining the company\\'s executive roles, specifically searching for titles like \"CEO\" or \"Chief Executive Officer,\" it identifies \"David Levi\" as the CEO.', answer='David Levi')"
      ]
     },
     "execution_count": 113,
     "metadata": {},
     "output_type": "execute_result"
    }
   ],
   "execution_count": 113
  },
  {
   "metadata": {
    "ExecuteTime": {
     "end_time": "2024-09-02T13:02:26.339887Z",
     "start_time": "2024-09-02T13:02:10.592725Z"
    }
   },
   "cell_type": "code",
   "source": "ask_question(\"Has 'Ethernity Networks Ltd' more liabilities than 'Accuray Incorporated' in 2022?\", \"boolean\") # Accuray: 419,660,000$, Ethernity: 12,257,291$ -> no is correct answer",
   "id": "62f09a4e0ed9d6e3",
   "outputs": [
    {
     "name": "stdout",
     "output_type": "stream",
     "text": [
      "## Query: Has 'Ethernity Networks Ltd' more liabilities than 'Accuray Incorporated' in 2022?\n",
      "### ASKING DELEGATION MANAGER: \n",
      "Delegations: \n",
      " chain_of_thought=\"First, I identified the companies mentioned in the query, which are 'Ethernity Networks Ltd' and 'Accuray Incorporated'. Both of these companies exist in the provided list. The query requests a comparison of liabilities between the two companies for the year 2022.\\n\\nTo address this query, I need to formulate precise questions for each company's specialized agent, asking them to retrieve the total liabilities from their respective 2022 financial statements, such as the balance sheet.\\n\\nFinally, I ensure that the agents understand to compare the total liabilities of each company for 2022, so that the initial query can be answered accurately.\" companies=['Ethernity Networks Ltd', 'Accuray Incorporated'] queries=['Retrieve the total liabilities for Ethernity Networks Ltd from the 2022 balance sheet.', 'Retrieve the total liabilities for Accuray Incorporated from the 2022 balance sheet.']\n",
      "### ASKING COMPANY EXPERT: Ethernity Networks Ltd\n",
      "### ASKING COMPANY EXPERT: Accuray Incorporated\n",
      "### ASKING EXECUTION MANAGER: \n",
      "Context: {'Ethernity Networks Ltd': AnswerEvent(chain_of_thought='The provided CONTEXT contains financial information for Ethernity Networks Ltd for the year 2022, including specific notes and figures. However, it does not include a complete balance sheet or a summary of total liabilities. The excerpts cover information about short-term borrowings, liabilities from specific notes, and obligations, but do not present an aggregated total liabilities figure for 2022.', answer='n/a'), 'Accuray Incorporated': AnswerEvent(chain_of_thought=\"To find the total liabilities for Accuray Incorporated in 2022, I need to refer to the consolidated balance sheet data provided in the context. The context mentions 'Total liabilities and stockholders’ equity' for June 30, 2022, as $472,849. In the balance sheet, 'Total liabilities and stockholders’ equity' is usually the sum of total liabilities and total stockholders' equity. I also have the 'Total stockholders' equity' value given as $53,189 for June 30, 2022. Therefore, I can calculate total liabilities by subtracting total stockholders' equity from 'Total liabilities and stockholders’ equity'. This calculation would be: $472,849 - $53,189 = $419,660. Thus, the total liabilities for Accuray Incorporated on June 30, 2022, are $419,660.\", answer=419660)}\n"
     ]
    },
    {
     "data": {
      "text/plain": [
       "ExecutionRequest(chain_of_thought='The context provides liability data for Accuray Incorporated for June 30, 2022, computed to be $419,660. However, for Ethernity Networks Ltd, there is no complete liability figure given for 2022. The context mentions that the financial information for Ethernity Networks is not aggregated into a total liabilities figure for the year 2022. \\n\\nThus, without a total liabilities figure for Ethernity Networks Ltd, I cannot compare the liabilities of Ethernity Networks Ltd to Accuray Incorporated.', answer='n/a')"
      ]
     },
     "execution_count": 114,
     "metadata": {},
     "output_type": "execute_result"
    }
   ],
   "execution_count": 114
  },
  {
   "metadata": {
    "ExecuteTime": {
     "end_time": "2024-09-02T13:02:39.749115Z",
     "start_time": "2024-09-02T13:02:26.339887Z"
    }
   },
   "cell_type": "code",
   "source": "ask_question('Did \"Global Medical REIT Inc.\" have a greater Debt-to-Equity ratio than \"Zegona Communications plc\" in Q2 2021?', \"boolean\")",
   "id": "5b32f3cc4f2e18f9",
   "outputs": [
    {
     "name": "stdout",
     "output_type": "stream",
     "text": [
      "## Query: Did \"Global Medical REIT Inc.\" have a greater Debt-to-Equity ratio than \"Zegona Communications plc\" in Q2 2021?\n",
      "### ASKING DELEGATION MANAGER: \n",
      "Delegations: \n",
      " chain_of_thought='I identified the companies by matching their names from the provided list. The query mentions \"Global Medical REIT Inc.\" and \"Zegona Communications plc\", both of which are exact matches. Thus, they are included in the \\'companies\\' list.\\n\\nAs the query involves a comparison of the Debt-to-Equity ratio between these two companies for Q2 2021, I will formulate queries to retrieve the Debt-to-Equity ratio from their financial statements for the specified period. This ratio is typically found in the financial section of the companies\\' quarterly reports, under the balance sheet or in the notes accompanying financial statements, where details of debt and equity are specifically outlined.\\n\\nThe agents need to locate the total liabilities and total equity amounts to calculate the Debt-to-Equity ratio for each company for Q2 2021, then compare these ratios to answer the query.' companies=['Global Medical REIT Inc.', 'Zegona Communications plc'] queries=['Retrieve the Debt-to-Equity ratio for Global Medical REIT Inc. for Q2 2021 from their financial statements. This can usually be found in the balance sheet part of the quarterly report.', 'Retrieve the Debt-to-Equity ratio for Zegona Communications plc for Q2 2021 from their financial statements. This can usually be found in the balance sheet part of the quarterly report.', 'Compare the Debt-to-Equity ratios for Global Medical REIT Inc. and Zegona Communications plc for Q2 2021 to determine which company had a greater ratio.']\n",
      "### ASKING COMPANY EXPERT: Global Medical REIT Inc.\n",
      "### ASKING COMPANY EXPERT: Zegona Communications plc\n",
      "### ASKING EXECUTION MANAGER: \n",
      "Context: {'Global Medical REIT Inc.': AnswerEvent(chain_of_thought='To determine the Debt-to-Equity ratio, we typically divide the total liabilities by the total equity. The context provided includes financial information for the years ended December 31, 2022, and 2021, but does not specify quarterly data for Q2 2021. The total liabilities for December 31, 2021, were $625,908, and the total equity was $637,577. However, since this information is year-end and not for Q2, and no specific data for that quarter is provided in the context, I cannot calculate the specific Debt-to-Equity ratio for Q2 2021.', answer='n/a'), 'Zegona Communications plc': AnswerEvent(chain_of_thought='To find the Debt-to-Equity ratio for Zegona Communications plc for Q2 2021, I need to determine both the total liabilities and the total equity as of the end of June 2021. However, the provided CONTEXT does not have specific data labeled as Q2 2021. It only provides information for year-end data for 2021 and 2022. The data shown includes total liabilities and equity at year-end 2021, which are €726,000 and €14,454,000, respectively.\\n\\nGiven that the request is specifically for Q2 2021 data and the CONTEXT provides only year-end data, there is insufficient data in the provided CONTEXT to calculate the Debt-to-Equity ratio for Q2 2021.', answer='n/a')}\n"
     ]
    },
    {
     "data": {
      "text/plain": [
       "ExecutionRequest(chain_of_thought='To compare the Debt-to-Equity ratios of Global Medical REIT Inc. and Zegona Communications plc for Q2 2021, I need the Debt-to-Equity ratio values specifically for that quarter. The CONTEXT provided lacks any specific data for Q2 2021 for both companies. Global Medical REIT Inc. has year-end 2021 data, the liabilities of $625,908,000, and equity of $637,577,000. Zegona Communications plc has year-end 2021 liabilities of €726,000 and equity of €14,454,000. Since no quarterly data for Q2 2021 is present, I cannot determine or compare the respective Debt-to-Equity ratios for the second quarter of 2021.', answer='n/a')"
      ]
     },
     "execution_count": 115,
     "metadata": {},
     "output_type": "execute_result"
    }
   ],
   "execution_count": 115
  },
  {
   "metadata": {
    "ExecuteTime": {
     "end_time": "2024-09-02T13:20:50.346773Z",
     "start_time": "2024-09-02T13:20:43.169608Z"
    }
   },
   "cell_type": "code",
   "source": "ask_question(\"What are the total R&D expenses of 'Ethernity Networks Ltd' in 2021?\", \"number\")",
   "id": "1608f615f27b7e15",
   "outputs": [
    {
     "name": "stdout",
     "output_type": "stream",
     "text": [
      "## Query: What are the total R&D expenses of 'Ethernity Networks Ltd' in 2021?\n",
      "### ASKING DELEGATION MANAGER: \n",
      "Delegations: \n",
      " chain_of_thought='The query specifically asks for the R&D expenses of \\'Ethernity Networks Ltd\\' for the year 2021. I identified \\'Ethernity Networks Ltd\\' as the targeted company from the list available. The request is straightforward, asking for historical financial data. Such information is typically found in the annual financial statements, often under the \"Research and Development\" section of the income statement or in notes to the financial statements. Formulating a query to retrieve this information involves specifying the company name and the year for R&D expenses.' companies=['Ethernity Networks Ltd'] queries=['Retrieve the total R&D expenses for Ethernity Networks Ltd for the year 2021 from the annual financial statements, specifically from the income statement or the notes section detailing operating expenses.']\n",
      "### ASKING COMPANY EXPERT: Ethernity Networks Ltd\n",
      "### ASKING EXECUTION MANAGER: \n",
      "Context: {'Ethernity Networks Ltd': AnswerEvent(chain_of_thought='The context provides financial data and information descriptions for Ethernity Networks Ltd for the years 2021 and 2022. However, it does not contain the specific figures from the income statement or notes on operating expenses that would include R&D expenses for 2021. The annual report mentions various sections like the Statutory and Others, Chairman’s Statement, and notes to financials, but it does not enumerate detailed amounts for R&D expenses for 2021 within the provided context.', answer='n/a')}\n"
     ]
    },
    {
     "data": {
      "text/plain": [
       "ExecutionRequest(chain_of_thought=\"The provided context states that the data available does not contain specific figures for the R&D expenses for Ethernity Networks Ltd in 2021. Although there are references to sections of the annual report, such as the Chairman's Statement and notes to financials, the detailed R&D expenses for 2021 are not provided in the context.\", answer='n/a')"
      ]
     },
     "execution_count": 119,
     "metadata": {},
     "output_type": "execute_result"
    }
   ],
   "execution_count": 119
  },
  {
   "metadata": {},
   "cell_type": "markdown",
   "source": "## Obtain final results ",
   "id": "6eff4555c6c481a2"
  },
  {
   "metadata": {
    "ExecuteTime": {
     "end_time": "2024-09-02T13:51:46.536383Z",
     "start_time": "2024-09-02T13:46:24.476298Z"
    }
   },
   "cell_type": "code",
   "source": [
    "# 5 min runtime for 40 questions\n",
    "\n",
    "results = []\n",
    "\n",
    "with open('data/questions.json', 'r') as json_file:\n",
    "    items = json.load(json_file)\n",
    "    for item in items:\n",
    "        question = item[\"question\"]\n",
    "        response = ask_question(question, item[\"schema\"]) # TODO could introduce schema as Daniel with arg=item[\"schema\"] and classes/pydantic\n",
    "        print(response)\n",
    "        results.append({\n",
    "            \"question\": question,\n",
    "            \"schema\": item[\"schema\"],\n",
    "            \"answer\": response.answer\n",
    "        })\n",
    "\n",
    "with open('results/results_v6.json', 'w') as json_file:\n",
    "    json.dump(results, json_file, indent=4)"
   ],
   "id": "52e4cdaaa2db4667",
   "outputs": [
    {
     "name": "stdout",
     "output_type": "stream",
     "text": [
      "## Query: How much did \"Accuray Incorporated\" spend on risk management in Q2 2022?\n",
      "### ASKING DELEGATION MANAGER: \n",
      "Delegations: \n",
      " chain_of_thought='The query explicitly mentions \\'Accuray Incorporated\\', which matches one of the company names provided in the list. Therefore, I can proceed with creating a query for this company. To find out how much Accuray Incorporated spent on risk management in Q2 2022, it is important to check their financial statements, specifically looking into administrative costs. These expenses may include risk management allocations. Furthermore, reviewing the \"Management\\'s Discussion and Analysis\" section in the Q2 2022 report may provide insights into specific risk management expenses or allocations.' companies=['Accuray Incorporated'] queries=[\"Retrieve the financial statements of Accuray Incorporated for Q2 2022 to check the expenditure on risk management. Look for line items or notes related to administrative costs which may include risk management allocations. Check the 'Management's Discussion and Analysis' section for detailed insights on risk management expenses.\"]\n",
      "### ASKING COMPANY EXPERT: Accuray Incorporated\n",
      "### ASKING EXECUTION MANAGER: \n",
      "Context: {'Accuray Incorporated': AnswerEvent(chain_of_thought=\"The provided context does not include specific financial statements or details about Accuray Incorporated's expenditure on risk management for Q2 2022. There is no mention of financial statements or a 'Management’s Discussion and Analysis' section detailing administrative costs specifically attributed to risk management expenses. The context mainly provides background information on the company's operations and impacts related to COVID-19 but lacks specific quarterly financial data or an analysis of risk management expenditures.\\n\\nTherefore, based on the absence of the requested information in the provided context,\", answer='n/a')}\n",
      "chain_of_thought=\"The context indicates that there is no specific financial information or details about Accuray Incorporated's spending on risk management for Q2 2022. This absence is mentioned explicitly, as the context does not contain relevant quarterly financial data or an analysis of risk management expenditures. Therefore, we cannot provide an exact figure for this query based on the provided context.\" answer='n/a'\n",
      "## Query: Who is the CEO in the company \"Zegona Communications plc\"?\n",
      "### ASKING DELEGATION MANAGER: \n",
      "Delegations: \n",
      " chain_of_thought=\"The query explicitly asks for the CEO of 'Zegona Communications plc', which is one of the companies listed. Therefore, the company is correctly identified. For the formulation of the query, I would ask the specialized agent to look for executive leadership details in the annual report or the company's website, typically found in sections like 'Leadership', 'Management Team', or 'Investor Relations'.\" companies=['Zegona Communications plc'] queries=[\"Retrieve the name of the CEO of Zegona Communications plc. Check the sections on 'Leadership', 'Management Team', or 'Investor Relations' in the company's latest annual report or official website for the most accurate and recent information.\"]\n",
      "### ASKING COMPANY EXPERT: Zegona Communications plc\n",
      "### ASKING EXECUTION MANAGER: \n",
      "Context: {'Zegona Communications plc': AnswerEvent(chain_of_thought='The context mentions a section about governance, specifically the combined Chairman and CEO roles. It states that Eamonn O’Hare effectively performs both roles of Chairman and CEO. Therefore, Eamonn O’Hare is the CEO of Zegona Communications plc.', answer='Eamonn O’Hare')}\n",
      "chain_of_thought='The CONTEXT provides a clear mention of the roles within Zegona Communications plc, specifying that Eamonn O’Hare effectively performs the role of CEO. Therefore, Eamonn O’Hare is identified as the CEO.' answer='Eamonn O’Hare'\n",
      "## Query: Did \"Global Medical REIT Inc.\" have a greater Debt-to-Equity ratio than \"Zegona Communications plc\" in Q2 2021?\n",
      "### ASKING DELEGATION MANAGER: \n",
      "Delegations: \n",
      " chain_of_thought=\"Identified the companies as 'Global Medical REIT Inc.' and 'Zegona Communications plc' from the query. Both names fully match with the list provided. The query asks for a comparison of the Debt-to-Equity ratio, a financial metric usually found in the financial statements section of annual or quarterly reports under 'Liabilities' and 'Equity'. To answer the query, two separate queries are formulated for retrieving the Debt-to-Equity ratios of each company for Q2 2021. Each specialized agent should locate the relevant balance sheet data for liabilities and shareholders' equity to calculate the Debt-to-Equity ratio for that period.\" companies=['Global Medical REIT Inc.', 'Zegona Communications plc'] queries=[\"Retrieve the Debt-to-Equity ratio for Global Medical REIT Inc. for Q2 2021. This information can typically be found in the quarterly financial statements under the 'Liabilities' and 'Equity' sections.\", \"Retrieve the Debt-to-Equity ratio for Zegona Communications plc for Q2 2021. This information can typically be found in the quarterly financial statements under the 'Liabilities' and 'Equity' sections.\"]\n",
      "### ASKING COMPANY EXPERT: Global Medical REIT Inc.\n",
      "### ASKING COMPANY EXPERT: Zegona Communications plc\n",
      "### ASKING EXECUTION MANAGER: \n",
      "Context: {'Global Medical REIT Inc.': AnswerEvent(chain_of_thought='The debt-to-equity ratio is calculated by dividing total liabilities by total equity. We need the liabilities and equity numbers for Q2 2021. However, the provided document only includes annual financial data as of December 31, 2021, showing total liabilities of $625,908,000 and total equity of $637,577,000. Without specific quarterly data for Q2 2021, we cannot calculate an accurate or estimated ratio for that quarter.', answer='n/a'), 'Zegona Communications plc': AnswerEvent(chain_of_thought='To calculate the Debt-to-Equity ratio, we need the total liabilities and total equity. The data provided gives information as of 31 December 2021 and 31 December 2022 instead of specifically Q2 2021. Therefore, I will use the end-of-year data for 2021, which is the closest available.\\n\\nFrom the CONEXXT:\\n- Total liabilities at 31 December 2021: €726,000\\n- Total equity at 31 December 2021: €14,454,000\\n\\nDebt-to-Equity ratio = Total liabilities / Total equity\\nNumerator (Total liabilities) = 726,000\\nDenominator (Total equity) = 14,454,000\\n\\nPlug in the values:\\nDebt-to-Equity ratio = 726,000 / 14,454,000 = 0.0502 (rounded to four decimal places)', answer=0.0502)}\n",
      "chain_of_thought=\"To determine if Global Medical REIT Inc. had a greater Debt-to-Equity ratio than Zegona Communications plc in Q2 2021, we need the Debt-to-Equity ratios for both companies for that specific period. \\n1. For Global Medical REIT Inc., the context provides no specific Q2 2021 data, and only gives end-of-year figures for 2021. Thus, their Q2 ratio cannot be calculated or estimated.\\n2. For Zegona Communications plc, we also lack specific Q2 2021 data, but we do have end-of-year figures for 2021.\\n\\nBased on the available context, neither company has a specific Q2 2021 Debt-to-Equity ratio documented, which means a direct comparison for that period cannot be made. Therefore, the answer is 'n/a'.\" answer='n/a'\n",
      "## Query: How many stores did \"Accuray Incorporated\" have in the end of fiscal year 2021?\n",
      "### ASKING DELEGATION MANAGER: \n",
      "Delegations: \n",
      " chain_of_thought=\"The query specifically asks about 'Accuray Incorporated', which matches exactly with one of the companies in the provided list. The query is about the number of stores at the end of the fiscal year 2021. Generally, such data is found in the annual report's section on the company's operations or geographical segment analysis. However, Accuray Incorporated is known for its medical devices, and it typically doesn't operate through 'stores', which suggests clarifying business locations or units in the report might be relevant.\" companies=['Accuray Incorporated'] queries=['Retrieve the information regarding the number of operational locations or business units of Accuray Incorporated as stated at the end of fiscal year 2021. This information is typically found in the annual report under sections detailing company operations or geographical segment analysis.']\n",
      "### ASKING COMPANY EXPERT: Accuray Incorporated\n",
      "### ASKING EXECUTION MANAGER: \n",
      "Context: {'Accuray Incorporated': AnswerEvent(chain_of_thought=\"The provided CONTEXT includes descriptions of Accuray Incorporated's offices and facilities. There are mentions of primary and subsidiary locations across various countries, but the specific number of locations isn't provided. Therefore, based on the CONTEXT, I'm unable to determine the exact number of operational locations or business units at the end of fiscal year 2021.\", answer='n/a')}\n",
      "chain_of_thought='The CONTEXT provided does not contain specific information regarding the number of stores or operational retail locations for Accuray Incorporated at the end of fiscal year 2021. The data mentions offices and facilities but does not quantify them as stores or provide a count. Therefore, there is insufficient data to answer the query accurately.' answer='n/a'\n",
      "## Query: How much did \"Sandwell Aquatics Centre\" spend on R&D in Q2 2023?\n",
      "### ASKING DELEGATION MANAGER: \n",
      "Delegations: \n",
      " chain_of_thought=\"I identified 'Sandwell Aquatics Centre' from the query as it matches one of the companies in the provided list. The query asks about R&D spending in Q2 2023, which is a specific financial metric that can typically be found in the quarterly financial reports or the income statement section of the company's reports. Given the nature of the query, the agent should look for any mentions of 'Research and Development' expenditures within these reports or statements.\" companies=['Sandwell Aquatics Centre'] queries=[\"Retrieve the R&D expenditures for Sandwell Aquatics Centre in Q2 2023. Check the quarterly financial statements or income statement section for 'Research and Development' expenses.\"]\n",
      "### ASKING COMPANY EXPERT: Sandwell Aquatics Centre\n",
      "### ASKING EXECUTION MANAGER: \n",
      "Context: {'Sandwell Aquatics Centre': AnswerEvent(chain_of_thought=\"The CONTEXT provided does not contain any specific data on 'Research and Development' expenses for Sandwell Aquatics Centre in Q2 2023. The document primarily focuses on the financial performance and operational review of Billington for the year ended 31 December 2022. It mentions various projects undertaken, including the Sandwell Aquatics Centre, but does not provide a breakdown of R&D expenditures by project or for any specific quarter in 2023.\", answer='n/a')}\n",
      "chain_of_thought=\"The CONTEXT clearly states that there is no specific R&D expenditure data for Sandwell Aquatics Centre for Q2 2023. The focus of the available document is on Billington's 2022 financial performance and includes no breakdown of R&D expenses for the specified time or project.\" answer='n/a'\n",
      "## Query: Who is the CFO in the company \"EMT\"?\n",
      "### ASKING DELEGATION MANAGER: \n",
      "Delegations: \n",
      " chain_of_thought=\"Given the query, I identified the company mentioned as 'EMT'. This matches exactly with an entry in the provided list of companies ('EMT'). Therefore, it's valid to proceed with formulating a query to the specialized agent.\\n\\nNext, I needed to create a precise query for retrieving information about the CFO of EMT. Typically, details about executive officers, including the CFO, are found in the leadership or management section of a company's annual report or on the company’s website under the 'Investor Relations' or 'About Us' section.\\n\\nTherefore, the formulated query asks the specialized agent to look into these sections to identify the current CFO of 'EMT'.\" companies=['EMT'] queries=[\"Retrieve the name and biography of the CFO (Chief Financial Officer) of EMT from their latest annual report or the company's official website. Check under the leadership or management section.\"]\n",
      "### ASKING COMPANY EXPERT: EMT\n",
      "### ASKING EXECUTION MANAGER: \n",
      "Context: {'EMT': AnswerEvent(chain_of_thought=\"The documents provided contain corporate information about eMetals Limited but do not specifically mention any Chief Financial Officer (CFO) or contain a biography of such a position. The information given details other directors and company officials but lacks any direct reference to a CFO. Additionally, the document mainly outlines the directors' report, corporate governance, shareholder information, and key management personnel compensation, still without explicit mention or details regarding a CFO. Consequently, there is insufficient data to determine the name and biography of the CFO from the provided context.\", answer='n/a')}\n",
      "chain_of_thought='The context provided includes detailed corporate information about eMetals Limited (EMT) but does not specifically mention or provide any details about the Chief Financial Officer (CFO). The available documents discuss directors, company officials, shareholder information, and management personnel compensation, yet none of these sections contain any reference to a CFO. Therefore, based on the provided context, there is insufficient data to ascertain the name of the CFO.' answer='n/a'\n",
      "## Query: Did \"Calyxt, Inc.\" have a greater Return on Assets (ROA) than \"Global Medical REIT Inc.\" in Q2 2023?\n",
      "### ASKING DELEGATION MANAGER: \n",
      "Delegations: \n",
      " chain_of_thought='The query mentions two companies: \"Calyxt, Inc.\" and \"Global Medical REIT Inc.\". These are exact matches in the provided list of companies, so they will be the focus of the queries. The information requested pertains to a financial metric, Return on Assets (ROA), for Q2 2023. ROA is calculated by dividing net income by total assets. This information is usually found in the company\\'s financial statements, specifically within the income statement (for net income) and balance sheet (for total assets) in the Q2 2023 quarterly reports. The specialized agents should retrieve the net income and total assets for both companies for Q2 2023 to compare their ROA values.' companies=['Calyxt, Inc.', 'Global Medical REIT Inc.'] queries=['Retrieve the net income and total assets of Calyxt, Inc. for Q2 2023 to calculate the Return on Assets (ROA).', 'Retrieve the net income and total assets of Global Medical REIT Inc. for Q2 2023 to calculate the Return on Assets (ROA).']\n",
      "### ASKING COMPANY EXPERT: Calyxt, Inc.\n",
      "### ASKING COMPANY EXPERT: Global Medical REIT Inc.\n",
      "### ASKING EXECUTION MANAGER: \n",
      "Context: {'Calyxt, Inc.': AnswerEvent(chain_of_thought='To calculate the Return on Assets (ROA), I need the net income and total assets for Calyxt, Inc. for Q2 2023. However, the only financial data available in the context pertains to the years 2021 and 2022, with no specific information for any quarters, particularly Q2 2023. Therefore, there is insufficient data in the context to determine the ROA for Q2 2023.', answer='n/a'), 'Global Medical REIT Inc.': AnswerEvent(chain_of_thought='1. The provided data does not contain specific financial information for Q2 2023, and it covers data up to December 31, 2022.\\n2. For calculating Return on Assets (ROA), the formula is: ROA = Net Income / Total Assets.\\n3. As per the context, the net income as of December 31, 2022, is $19,996,000.\\n4. The total assets as of December 31, 2022, is $1,393,261,000.\\n5. Using the end-of-year 2022 data, we can calculate the ROA as of then, but there is no data provided for Q2 2023.\\n6. Without Q2 2023 data available, the calculation for that specific quarter cannot be completed.', answer='n/a')}\n",
      "chain_of_thought='To determine if Calyxt, Inc. had a greater Return on Assets (ROA) than Global Medical REIT Inc. in Q2 2023, we need the ROA values for both companies for that specific quarter.\\n1. ROA is calculated using the formula: ROA = Net Income / Total Assets.\\n2. For Calyxt, Inc., the context states that there is insufficient data for Q2 2023, as the only available financial information pertains to the years 2021 and 2022.\\n3. For Global Medical REIT Inc., there is also no specific financial information for Q2 2023, with the latest data available only for the year ending December 31, 2022.\\n4. Since there is no ROA data available for Q2 2023 for either company in the provided context, we cannot compare their ROAs for that quarter.' answer='n/a'\n",
      "## Query: How many stores did \"OTC_UNCIF\" have in the end of fiscal year 2022?\n",
      "### ASKING DELEGATION MANAGER: \n",
      "Delegations: \n",
      " chain_of_thought='The query refers to \"OTC_UNCIF,\" which does not exactly match any of the companies in the provided list. The company list includes precise names like \\'Accuray Incorporated\\', \\'Canadian Banc Corp.\\', and others, but none resemble \"OTC_UNCIF.\" Therefore, this query does not pertain to any of the listed companies. According to the guidelines, when a company is not in the provided list, I should mark \\'SKIP\\' for both \\'companies\\' and \\'queries\\'.' companies=['SKIP'] queries=['SKIP']\n",
      "### ASKING EXECUTION MANAGER: \n",
      "Context: {'SKIP': 'No data available'}\n",
      "chain_of_thought='The USER_QUERY is asking for the number of stores \"OTC_UNCIF\" had at the end of fiscal year 2022. The CONTEXT provided states that there is no data available for this query as indicated by \\'No data available\\'. Due to the lack of specific data in the CONTEXT, I cannot provide the number of stores for \"OTC_UNCIF\" in fiscal year 2022.' answer='n/a'\n",
      "## Query: How much did \"Accuray Incorporated\" spend on customer acquisition in Q2 2021?\n",
      "### ASKING DELEGATION MANAGER: \n",
      "Delegations: \n",
      " chain_of_thought=\"I identified the company as 'Accuray Incorporated' based on the query. The query specifically asks for customer acquisition costs in Q2 2021. Such costs are often detailed under the Sales and Marketing section in the company's quarterly reports or 10-Q filings. No other companies were mentioned in the query, hence only Accuray Incorporated needs to be included.\" companies=['Accuray Incorporated'] queries=[\"Retrieve Accuray Incorporated's quarterly report for Q2 2021 and look into the Sales and Marketing expenses section to identify customer acquisition costs.\"]\n",
      "### ASKING COMPANY EXPERT: Accuray Incorporated\n",
      "### ASKING EXECUTION MANAGER: \n",
      "Context: {'Accuray Incorporated': AnswerEvent(chain_of_thought=\"To fetch the Q2 2021 report, I need to search the context for any referenced quarterly filings for the period ending June 30, 2021. The given CONTEXT includes information on Accuray Incorporated's Selling and Marketing expenses, stating that it decreased by $4.4 million, or 9%, for the year ended June 30, 2021, compared to the previous year. However, this pertains to annual data and does not provide distinct quarter information or a break down explicitly mentioning customer acquisition costs within selling and marketing expenses for Q2 2021 specifically. Therefore, since the CONTEXT lacks explicitly detailed quarterly figures and specific customer acquisition cost break downs, I cannot retrieve the data based on the current CONTEXT provided.\", answer='n/a')}\n",
      "chain_of_thought=\"The CONTEXT provided lacks specific details about Accuray Incorporated's customer acquisition costs for Q2 2021. The CONTEXT only mentions a decrease in Selling and Marketing expenses on a yearly basis ending June 30, 2021, without a breakdown for individual quarters or specific customer acquisition figures. Hence, there is no explicit data available for the requested quarter.\" answer='n/a'\n",
      "## Query: Who is the CEO in the company \"Accuray Incorporated\"?\n",
      "### ASKING DELEGATION MANAGER: \n",
      "Delegations: \n",
      " chain_of_thought=\"The query straightforwardly asks for the CEO of 'Accuray Incorporated'. The company name is listed exactly in our predefined list. Thus, we can extract it as a valid company name directly from the user's query without any modifications. The next step is to formulate an appropriate query for the specialized agent to retrieve the information about the CEO. This can typically be found in the company's latest annual report or investor relations section, often under the leadership team's section or biographies of executives.\" companies=['Accuray Incorporated'] queries=[\"Retrieve the name of the CEO from Accuray Incorporated's latest annual report, specifically within the section detailing the executive leadership team.\"]\n",
      "### ASKING COMPANY EXPERT: Accuray Incorporated\n",
      "### ASKING EXECUTION MANAGER: \n",
      "Context: {'Accuray Incorporated': AnswerEvent(chain_of_thought='From the provided context, in the section of the report where signatures and titles are included, Suzanne Winter is mentioned as the President and Chief Executive Officer (CEO) of Accuray Incorporated. This detail is found in the part of the report concerning signatures that confirm the identities and positions of executive officers, dated August 17, 2022.', answer='Suzanne Winter')}\n",
      "chain_of_thought='The CONTEXT mentions that Suzanne Winter is listed as the President and Chief Executive Officer (CEO) of Accuray Incorporated. This information is found in the section of the report about signatures confirming executive identities and is dated August 17, 2022. As this is the most current information provided in the CONTEXT, Suzanne Winter is the CEO of Accuray Incorporated per the data available.' answer='Suzanne Winter'\n",
      "## Query: Did \"Comet Holding AG\" have a greater Operating Margin than \"Ethernity Networks Ltd\" in Q2 2022?\n",
      "### ASKING DELEGATION MANAGER: \n",
      "Delegations: \n",
      " chain_of_thought=\"The query asks about Comet Holding AG and Ethernity Networks Ltd. I checked the given list, and only 'Ethernity Networks Ltd' is listed there. 'Comet Holding AG' is not included, so I will proceed only with 'Ethernity Networks Ltd'. Since the list does not include 'Comet Holding AG', which indicates it cannot be processed by the specialized agents, I mark this as 'SKIP'.\" companies=['SKIP'] queries=['SKIP']\n",
      "### ASKING EXECUTION MANAGER: \n",
      "Context: {'SKIP': 'No data available'}\n",
      "chain_of_thought=\"The context provided contains a cue 'SKIP': 'No data available', indicating that there is no relevant data available for comparison of the operating margins of Comet Holding AG and Ethernity Networks Ltd in Q2 2022. Without specific data on the operating margins of both companies for the specified period, it is not possible to answer the question accurately.\" answer='n/a'\n",
      "## Query: How many stores did \"VENUS METALS CORPORATION LIMITED\" have in the end of fiscal year 2022?\n",
      "### ASKING DELEGATION MANAGER: \n",
      "Delegations: \n",
      " chain_of_thought=\"The query is asking about a company's number of stores. I need to identify the company in question from the list of known companies. The name provided in the query is an exact match with 'VENUS METALS CORPORATION LIMITED' from the list of known companies. \\n\\nVENUS METALS CORPORATION LIMITED is identified in the companies list. As the company is in the metals sector, it typically does not have stores like a retail company would. The specialized agent should verify that the company does not operate stores, or if it does, find any relevant information in sections of annual reports where company operations or physical presence is discussed, like the 'Business Overview' or 'Operations' of the annual report.\\n\\nBy focusing on the company's operations section, the agent can confirm the absence of stores or locate any mentions of physical locations if they exist.\" companies=['VENUS METALS CORPORATION LIMITED'] queries=['Check YE 2022 reports for VENUS METALS CORPORATION LIMITED to see if they report having any stores. Focus on sections discussing operations or physical business presence.']\n",
      "### ASKING COMPANY EXPERT: VENUS METALS CORPORATION LIMITED\n",
      "### ASKING EXECUTION MANAGER: \n",
      "Context: {'VENUS METALS CORPORATION LIMITED': AnswerEvent(chain_of_thought='The context provided includes the annual report of VENUS METALS CORPORATION LIMITED for the year 2022. My task is to check if there are any sections discussing operations or physical business presence that mention having stores. However, the document excerpts provided do not include any specific sections or details beyond the identification of the document as the annual report for 2022. Without additional information from the document content itself, there is no data to determine if the company reports having stores or any physical business presence in their operations section.', answer='n/a')}\n",
      "chain_of_thought='The context includes the annual report of VENUS METALS CORPORATION LIMITED for the year 2022. My task is to determine if there are any sections mentioning operations or physical business presence, specifically stores. The provided context, however, indicates that the excerpts do not provide any specific sections or details that mention stores or a physical business presence. Given the lack of this information, it is not possible to determine the number of stores. Therefore, \"n/a\" is the appropriate answer due to insufficient data.' answer='n/a'\n",
      "## Query: How much did \"Ethernity Networks Ltd\" spend on R&D in Q2 2023?\n",
      "### ASKING DELEGATION MANAGER: \n",
      "Delegations: \n",
      " chain_of_thought='The query specifically mentions \"Ethernity Networks Ltd\", which matches exactly with a company in the list. Therefore, it\\'s suitable for the specialized agents to handle. The query asks about R&D spending in Q2 2023. This type of information is typically found in the financial statements or the management discussion and analysis section of the company\\'s quarterly report. Thus, the request involves extracting the specific R&D expenditure for Q2 2023.' companies=['Ethernity Networks Ltd'] queries=['Retrieve the R&D (Research and Development) expenditure for Ethernity Networks Ltd for the second quarter of 2023. This information can typically be located in the income statement or notes to financial statements within the quarterly financial report.']\n",
      "### ASKING COMPANY EXPERT: Ethernity Networks Ltd\n",
      "### ASKING EXECUTION MANAGER: \n",
      "Context: {'Ethernity Networks Ltd': AnswerEvent(chain_of_thought='The context provided contains an annual report for the year ended 31 December 2022. It includes sections like the financial review, statement of financial position, cash flow statements, and other governance and statutory information. However, there is no explicit mention of an income statement or specific quarterly financial data, particularly for Q2 2023. To determine the R&D expenditure for Q2 2023, such detailed breakdowns would typically exist in a quarterly financial report or notes to the financial statements for that specific period. Since the context does not contain information about 2023, I must conclude that the specific data is not available.', answer='n/a')}\n",
      "chain_of_thought=\"The CONTEXT provided includes an annual report for Ethernity Networks Ltd for the year ended 31 December 2022. This report includes sections such as the financial review and cash flow statements. However, it does not provide any specific quarterly financial data for Q2 2023, including R&D expenditures for that period. Given that the necessary quarterly data is not available within the CONTEXT, the answer must be 'n/a'.\" answer='n/a'\n",
      "## Query: Who is the COO in the company \"Sandwell Aquatics Centre\"?\n",
      "### ASKING DELEGATION MANAGER: \n",
      "Delegations: \n",
      " chain_of_thought=\"The query specifically mentions 'Sandwell Aquatics Centre', which matches exactly with the list of companies provided. Therefore, I included this company in the 'companies' list. The query asks for information about the Chief Operating Officer (COO), which typically can be found in the company's management or leadership section of their annual report or corporate website. Thus, I formulated a query that instructs the specialized agent to look for the current COO listed in those sections.\" companies=['Sandwell Aquatics Centre'] queries=[\"Retrieve the name of the current Chief Operating Officer (COO) of Sandwell Aquatics Centre from the company's management or leadership section in their corporate documents or website.\"]\n",
      "### ASKING COMPANY EXPERT: Sandwell Aquatics Centre\n",
      "### ASKING EXECUTION MANAGER: \n",
      "Context: {'Sandwell Aquatics Centre': AnswerEvent(chain_of_thought=\"The context provided includes excerpts from an annual report with various sections such as the chairperson's statement and the governance report. However, there are no specific mentions of the management team or leadership beyond directors and the CEO in the provided excerpts. Furthermore, no specific mention of Sandwell Aquatics Centre's corporate governance structure, including a Chief Operating Officer, is provided in the context.\\n\\nSince the context does not explicitly provide information about the COO or any leadership section that mentions this role, I am unable to retrieve the name of the Chief Operating Officer for Sandwell Aquatics Centre based on the available data.\", answer='n/a')}\n",
      "chain_of_thought=\"The context provided mentions that the available data includes excerpts from an annual report with sections such as the chairperson's statement and governance report. However, it does not include specific details about the management team or leadership roles beyond directors and the CEO. There is no mention of the Chief Operating Officer role or any names related to this position in the given excerpts.\\n\\nBased on the context provided, there is insufficient data to determine the name of the COO at Sandwell Aquatics Centre.\" answer='n/a'\n",
      "## Query: Did \"Calyxt, Inc.\" have a greater market capitalization than \"NICE\" in Q2 2022?\n",
      "### ASKING DELEGATION MANAGER: \n",
      "Delegations: \n",
      " chain_of_thought='The query mentions two companies, \"Calyxt, Inc.\" and \"NICE.\" Both companies are listed in the provided company list, so I will proceed with them. \\n\\nThe user\\'s query requires comparing the market capitalization between these two companies in Q2 2022. To address this, the specialized agents can check the following:\\n\\n1. **Calyxt, Inc.:**\\n   - Look into the Q2 2022 financial statements or investor relations section in the company’s reports, focusing on the balance sheet or summary sections where market capitalization is usually mentioned.\\n\\n2. **NICE:**\\n   - Similarly, view NICE\\'s Q2 2022 financial reports, retrieving market capitalization information from their balance sheets or relevant sections summarizing company valuation.\\n\\nBy comparing these two sets of data, the agents can determine which company had a greater market cap in the specified quarter.' companies=['Calyxt, Inc.', 'NICE'] queries=[\"Retrieve Calyxt, Inc.'s market capitalization for Q2 2022 from their financial reports or investor relations documents.\", \"Retrieve NICE's market capitalization for Q2 2022 from their financial reports or investor relations sections.\", 'Compare the two market capitalizations from Q2 2022 to determine which is greater.']\n",
      "### ASKING COMPANY EXPERT: Calyxt, Inc.\n",
      "### ASKING COMPANY EXPERT: NICE\n",
      "### ASKING EXECUTION MANAGER: \n",
      "Context: {'Calyxt, Inc.': AnswerEvent(chain_of_thought='The provided CONTEXT does not contain quantitative financial data specific to market capitalization, such as share prices or total market value, for any quarters of 2022. The documents provide general company information, employee numbers, and some historical equity compensation plans but do not include specific financial data regarding market capitalization for Q2 2022. Therefore, based on the available data, there is insufficient information to determine the market capitalization for Q2 2022.', answer='n/a'), 'NICE': AnswerEvent(chain_of_thought=\"The provided CONTEXT contains NICE Ltd.'s business and financial information but does not directly provide quarterly market capitalization figures, specifically Q2 2022. For market capitalization, such information would typically be available in sections discussing stock performance or specific quarterly financial summaries, which is not found here. The context includes a breakdown of NICE Ltd.'s business operations and historical changes but lacks specific financial market data such as quarterly market caps.\", answer='n/a')}\n",
      "chain_of_thought=\"The CONTEXT does not provide specific market capitalization data for either Calyxt, Inc. or NICE for Q2 2022. Both entries mention that the financial information required to determine the market capitalization is not provided for that period. Without specific market data, it's impossible to evaluate and compare their market capitalizations. Therefore, the answer is based on the lack of available information.\" answer='n/a'\n",
      "## Query: How many stores did \"Renishaw plc\" have in the end of fiscal year 2023?\n",
      "### ASKING DELEGATION MANAGER: \n",
      "Delegations: \n",
      " chain_of_thought=\"The query asks about 'Renishaw plc', but 'Renishaw plc' is not listed among the companies I can send queries for. The companies I can handle include 'Air Products', 'Calyxt, Inc.', 'Eurocell PLC', etc. Since 'Renishaw plc' is not included in these companies, I must skip this query.\" companies=['SKIP'] queries=['SKIP']\n",
      "### ASKING EXECUTION MANAGER: \n",
      "Context: {'SKIP': 'No data available'}\n",
      "chain_of_thought=\"The context states 'No data available,' indicating the absence of data related to the number of stores for Renishaw plc at the end of fiscal year 2023. Without specific data, I cannot provide an exact number.\\nBased on the guidelines, when there's a lack of information, the response should be 'n/a.'\" answer='n/a'\n",
      "## Query: How much did \"TD SYNNEX\" spend on R&D in Q2 2022?\n",
      "### ASKING DELEGATION MANAGER: \n",
      "Delegations: \n",
      " chain_of_thought=\"The query specifically asks about 'TD SYNNEX', which matches one of the companies from the list provided. The task is to find the R&D expenditure for Q2 2022. The R&D expenditure is usually detailed in a company's quarterly financial statements or earnings reports. These documents typically itemize expenses, including R&D, under operating expenses or a similar section.\" companies=['TD SYNNEX'] queries=['Retrieve the R&D expenditure for TD SYNNEX for Q2 2022. This information is likely found in the quarterly earnings report or 10-Q filing under operating expenses or similar sections.']\n",
      "### ASKING COMPANY EXPERT: TD SYNNEX\n",
      "### ASKING EXECUTION MANAGER: \n",
      "Context: {'TD SYNNEX': AnswerEvent(chain_of_thought='The provided CONTEXT does not include specific data on R&D expenditure for TD SYNNEX for Q2 2022 or any information under operating expenses relevant to R&D in that period. The context primarily covers share repurchase activities, environmental initiatives, acquisition and integration costs related to mergers, restructuring costs under specific programs, operating income and margin details, and stock performance comparisons. Since the exact R&D expenditure data for Q2 2022 is not present in the provided context, I cannot provide a numeric answer.', answer='n/a')}\n",
      "chain_of_thought='The CONTEXT provided indicates that there is no specific data on R&D expenditure for TD SYNNEX for Q2 2022. The context includes details about share repurchase activities, environmental initiatives, merger costs, restructuring costs, and operational metrics, but lacks R&D expenditure information for the specified period.' answer='n/a'\n",
      "## Query: Who is the CFO in the company \"TD SYNNEX\"?\n",
      "### ASKING DELEGATION MANAGER: \n",
      "Delegations: \n",
      " chain_of_thought=\"The query is asking for the CFO of 'TD SYNNEX'. This matches exactly with a company name from the list. Therefore, I will proceed to extract the company and formulate a query for the specialized agent to retrieve the required information about the CFO. In an annual report or a company's website, information about the CFO can usually be found in the 'Management' or 'Leadership Team' section.\" companies=['TD SYNNEX'] queries=[\"Retrieve the name and profile of the current Chief Financial Officer (CFO) of TD SYNNEX. Look for this information in the 'Management' or 'Leadership Team' section of the company's latest annual report or on their official website.\"]\n",
      "### ASKING COMPANY EXPERT: TD SYNNEX\n",
      "### ASKING EXECUTION MANAGER: \n",
      "Context: {'TD SYNNEX': AnswerEvent(chain_of_thought='Upon reviewing the provided CONTEXT, there is no direct mention of the Chief Financial Officer (CFO) of TD SYNNEX. The focus is primarily on members of the Board of Directors and their qualifications, along with general corporate information about TD SYNNEX. Without additional pages or sections containing details about the management team specifically, it is not possible to conclusively identify the current CFO from the provided data.', answer='n/a')}\n",
      "chain_of_thought='The CONTEXT provided indicates that there is no direct mention of the Chief Financial Officer (CFO) of TD SYNNEX. The available information focuses on the Board of Directors and general corporate information, but lacks details about the management team, such as the CFO. Therefore, it is not possible to identify the CFO given the data at hand.' answer='n/a'\n",
      "## Query: Did \"Eurocell PLC\" have a greater Return on Equity (ROE) than \"Strike Energy Limited\" in Q2 2022?\n",
      "### ASKING DELEGATION MANAGER: \n",
      "Delegations: \n",
      " chain_of_thought=\"The query mentions two companies: 'Eurocell PLC' and 'Strike Energy Limited'. Both of these names match exactly with the company names in the provided list. Therefore, I will proceed to formulate the queries to find the Return on Equity (ROE) for each company in Q2 2022. ROE is generally found in the financial statements section of a company's quarterly report, often under or calculated from the net income and equity sections. To determine which company had a greater ROE, I need to request the specialized agents to retrieve this specific financial metric for both companies for the mentioned quarter.\" companies=['Eurocell PLC', 'Strike Energy Limited'] queries=['Retrieve the Return on Equity (ROE) for Eurocell PLC for Q2 2022 from their quarterly financial statements, focusing on the income and equity sections.', 'Retrieve the Return on Equity (ROE) for Strike Energy Limited for Q2 2022 from their quarterly financial statements, focusing on the income and equity sections.']\n",
      "### ASKING COMPANY EXPERT: Eurocell PLC\n",
      "### ASKING COMPANY EXPERT: Strike Energy Limited\n",
      "### ASKING EXECUTION MANAGER: \n",
      "Context: {'Eurocell PLC': AnswerEvent(chain_of_thought=\"To calculate the Return on Equity (ROE) for Eurocell PLC for Q2 2022, I need the net income for Q2 2022 and the average shareholders' equity for the same period. However, the provided context does not include specific quarterly financial data, such as income or equity figures explicitly for Q2 2022.\\n\\nIn the given context, there are annual net income figures and equity considerations:\\n- The profit for the full year 2022 is stated to be £19.7m.\\n- The equity at the start of the year (01 January 2022) is £106.2m, and at the end of the year (31 December 2022), it is £114.9m.\\n\\nWith the absence of specific quarterly data and the inability to infer a breakdown, there isn't enough information to calculate or extract the ROE for Q2 2022 specifically.\", answer='n/a'), 'Strike Energy Limited': AnswerEvent(chain_of_thought=\"The ROE is calculated as Net Income divided by Shareholder's Equity. In the data given, we have financial information for the year ended 30 June 2022, which isn't quarterly data, but it can be used to estimate ROE for Q2 in the absence of quarterly data, especially considering the financial year in Australia typically ends in June.\\n\\nFrom the document:\\n- Net Income (Profit/(Loss) for the year) is (15,733, shown in the balance at 30 June 2022 table).\\n- Shareholder's Equity at 30 June 2022 is given as 116,874.\\n\\nThe formula to calculate ROE is:\\nROE = (Net Income / Average Shareholder's Equity).\\n\\nSince only end-of-year data is available, we use the end-of-year equity as an estimate in this context:\\n- ROE estimated = (Net Income) / (Shareholder's Equity)\\n- ROE = (-15,733 / 116,874) = -0.1347 (rounded to 4 decimal places).\", answer=-0.1347)}\n",
      "chain_of_thought=\"To determine which company had a greater Return on Equity (ROE) in Q2 2022, we need to compare their ROEs for that period. \\n\\nFrom the context provided:\\n- For Eurocell PLC, there is no specific ROE calculated for Q2 2022, as the necessary financial data is unavailable. Hence the answer is marked as 'n/a'.\\n\\n- For Strike Energy Limited, an estimated ROE for the year ending 30 June 2022 is provided. Although this is for the entire year and not just Q2, it's calculated as -0.1347.\\n\\nWith Eurocell PLC's ROE being 'n/a', it is impossible to compare it with Strike Energy Limited's estimated annual ROE of -0.1347.\\n\\nSince Eurocell PLC's Q2 2022 ROE cannot be calculated, we cannot determine if it was greater than that of Strike Energy Limited, whose ROE is known.\" answer='n/a'\n",
      "## Query: How many stores did \"OTC_UNCIF\" have in the end of fiscal year 2023?\n",
      "### ASKING DELEGATION MANAGER: \n",
      "Delegations: \n",
      " chain_of_thought='The query asks for information on a company denoted as \"OTC_UNCIF\". I examined the list of companies provided to see if there is a direct match for this name. However, \"OTC_UNCIF\" does not correspond to any company names in the list, which are specific entities such as \\'Eurocell PLC\\', \\'Accuray Incorporated\\', etc. Since the company in question is not listed, I cannot delegate the task to specialized agents for further processing. Thus, I have to mark this query as \\'SKIP\\'.' companies=['SKIP'] queries=['SKIP']\n",
      "### ASKING EXECUTION MANAGER: \n",
      "Context: {'SKIP': 'No data available'}\n",
      "chain_of_thought=\"The CONTEXT indicates 'No data available' for the number of stores 'OTC_UNCIF' had at the end of fiscal year 2023. Since there is no information provided regarding this in the CONTEXT, I will respond with 'n/a'.\" answer='n/a'\n",
      "## Query: How much did \"EMT\" spend on customer acquisition in Q2 2023?\n",
      "### ASKING DELEGATION MANAGER: \n",
      "Delegations: \n",
      " chain_of_thought=\"I identified 'EMT' from the query and confirmed that it matches exactly with 'EMT' from the provided list of companies. Therefore, this query is valid and does not need to be marked as 'SKIP'. The request is about expenditure on customer acquisition. Such expenditures are typically found under 'Sales and Marketing Expenses' or 'Customer Acquisition Costs' in quarterly reports or financial statements. Therefore, I need to direct the agent to look into EMT's Q2 2023 financial statements under these sections to retrieve the specific amount spent on customer acquisition.\" companies=['EMT'] queries=[\"Retrieve the amount EMT spent on customer acquisition in Q2 2023. Look for this information in sections typically labeled as 'Sales and Marketing Expenses' or 'Customer Acquisition Costs' in the quarterly financial reports.\"]\n",
      "### ASKING COMPANY EXPERT: EMT\n",
      "### ASKING EXECUTION MANAGER: \n",
      "Context: {'EMT': AnswerEvent(chain_of_thought=\"The context provides detailed financial information up to the year ended 30 June 2022, which corresponds to Q2 2022. There is no explicit mention of data for Q2 2023, such as 'Sales and Marketing Expenses' or 'Customer Acquisition Costs'. Without the specific report for Q2 2023, the required information is not available.\", answer='n/a')}\n",
      "chain_of_thought='The context indicates that financial data is available up to the year ended 30 June 2022 but does not include specific information for Q2 2023. Therefore, the specific customer acquisition spend for EMT in Q2 2023 cannot be determined from the provided data.' answer='n/a'\n",
      "## Query: Who is the Board Chairman in the company \"Motus GI Holdings, Inc.\"?\n",
      "### ASKING DELEGATION MANAGER: \n",
      "Delegations: \n",
      " chain_of_thought='The query specifically mentions the company name \"Motus GI Holdings\". I checked the list of support companies and found an exact match with \"Motus GI Holdings, Inc.\". As it is a complete name match, I will formulate the query to find the Board Chairman.\\n\\nI will direct the specialized agent to look into Motus GI Holdings, Inc.\\'s latest annual report, particularly in sections detailing corporate governance, management, or the Board of Directors, where the information about the Board Chairman is typically found.' companies=['Motus GI Holdings, Inc.'] queries=['Find the current Board Chairman in Motus GI Holdings, Inc. Check the latest annual report, focusing on corporate governance, management, or Board of Directors sections to locate the information.']\n",
      "### ASKING COMPANY EXPERT: Motus GI Holdings, Inc.\n",
      "### ASKING EXECUTION MANAGER: \n",
      "Context: {'Motus GI Holdings, Inc.': AnswerEvent(chain_of_thought='The provided context includes several sections of the 10-K Annual Report of Motus GI Holdings, Inc. but does not specifically contain the details regarding the Board Chairman. It mentions the executive officers such as the Chief Executive Officer, Timothy P. Moran, and Chief Financial Officer, Andrew Taylor, but does not explicitly indicate who the Board Chairman is. Given the structure of the document and the mentioned sections, the information about the Board Chairman should be under the sections: Directors, Executive Officers and Corporate Governance, but such detailed information is not contained within the provided context.\\n\\nTherefore, as there is no mention of the current Board Chairman within the given data, it is concluded that this specific information is not available in the provided context.', answer='n/a')}\n",
      "chain_of_thought='The provided context includes various sections of the 10-K Annual Report for Motus GI Holdings, Inc. The context mentions the CEO and CFO but does not specify the Board Chairman. The expected sections containing this information would be related to Directors, Executive Officers, and Corporate Governance, but such details are not found in the context. Therefore, the specific information about the Board Chairman is not available in the provided context.' answer='n/a'\n",
      "## Query: Did \"Calyxt, Inc.\" have a greater Operating Margin than \"Banque Cantonale Vaudoise\" in Q2 2023?\n",
      "### ASKING DELEGATION MANAGER: \n",
      "Delegations: \n",
      " chain_of_thought='The query mentions \"Calyxt, Inc.\" and \"Banque Cantonale Vaudoise\". First, I need to identify these companies from the provided list. I find \"Calyxt, Inc.\" in the list, but \"Banque Cantonale Vaudoise\" is not present. Given the instruction to SKIP if any companies mentioned are not on the list, I will mark this query as \\'SKIP\\'.' companies=['SKIP'] queries=['SKIP']\n",
      "### ASKING EXECUTION MANAGER: \n",
      "Context: {'SKIP': 'No data available'}\n",
      "chain_of_thought='The user is asking for a comparison of Operating Margins between \"Calyxt, Inc.\" and \"Banque Cantonale Vaudoise\" for Q2 2023. The data provided in the CONTEXT is marked as \\'No data available\\', indicating that there is no information provided about the Operating Margins of these companies for the specified period. Since I must not make any assumptions beyond the given CONTEXT and there is insufficient information to determine the Operating Margins, the correct approach is to conclude that the information is not available.' answer='n/a'\n",
      "## Query: How many stores did \"EMT\" have in the end of fiscal year 2023?\n",
      "### ASKING DELEGATION MANAGER: \n",
      "Delegations: \n",
      " chain_of_thought='The query asks specifically about \"EMT\", which matches a company in the provided list. Therefore, I can generate a query for this company. Specifically, the query seeks information about the number of stores at the end of fiscal year 2023. This data is typically found in the company\\'s annual report, often located in the \"Company Overview\", \"Financial Overview\", or \"Operational Highlights\" section. Hence, I will prepare a query for the specialized agent accordingly.' companies=['EMT'] queries=['Retrieve the total number of stores operated by EMT at the end of fiscal year 2023 from the company\\'s annual report, focusing on sections like \"Company Overview\", \"Financial Overview\", or \"Operational Highlights\".']\n",
      "### ASKING COMPANY EXPERT: EMT\n",
      "### ASKING EXECUTION MANAGER: \n",
      "Context: {'EMT': AnswerEvent(chain_of_thought='I thoroughly investigated the provided CONTEXT, which includes the contents of the document, corporate information, directors\\' report, the auditor\\'s declaration, and other financial statements and reports. However, there is no specific information pertaining to the number of stores operated by EMT at the end of the fiscal year 2023, nor are there apparent sections labelled \"Company Overview\", \"Financial Overview\", or \"Operational Highlights\" that divulge such information. The fiscal year in context is 2022 according to the document. Therefore, the information about the number of stores operated in 2023 is not available within this document.', answer='n/a')}\n",
      "chain_of_thought=\"The context reviewed does not contain specific information about EMT's number of stores at the end of the fiscal year 2023. The fiscal year discussed in the document is 2022, and no relevant data regarding the number of stores in 2023 is available. Since no sections provide this information, I conclude this information is not available within the specified context.\" answer='n/a'\n",
      "## Query: How much did \"Ethernity Networks Ltd\" spend on customer acquisition in Q2 2023?\n",
      "### ASKING DELEGATION MANAGER: \n",
      "Delegations: \n",
      " chain_of_thought=\"The query explicitly mentions 'Ethernity Networks Ltd', which matches exactly with the list provided. The task is to find out the spending on customer acquisition by 'Ethernity Networks Ltd' for Q2 2023. Typically, such information is found in the annual or quarterly financial reports, often under sections related to marketing expenses, sales expenses, or directly under customer acquisition costs if separately listed. Since this involves a specific timeframe, the agents should look into the Q2 2023 report if available or the most recent quarterly report. If the precise customer acquisition cost isn't directly reported, the agents might need to look at related line items such as 'Sales & Marketing expenses' and then cross-reference or estimate based on additional information if provided in notes.\" companies=['Ethernity Networks Ltd'] queries=['Retrieve the customer acquisition costs for Ethernity Networks Ltd in Q2 2023. If not directly available, check the Sales & Marketing expenses in the quarterly financial reports, and identify any relevant notes that break down these expenses.']\n",
      "### ASKING COMPANY EXPERT: Ethernity Networks Ltd\n",
      "### ASKING EXECUTION MANAGER: \n",
      "Context: {'Ethernity Networks Ltd': AnswerEvent(chain_of_thought=\"The CONTEXT provided does not include specific data for Q2 2023. It also does not mention any expenses related to customer acquisition or break down Sales & Marketing expenses in quarterly financial reports. The document mainly contains details for the year ended 31 December 2022, mentions the company's operations and financial situations such as net loss and cash flows, but doesn't specify Q2 2023 Sales & Marketing expenses or include quarterly reports for 2023.\", answer='n/a')}\n",
      "chain_of_thought='The CONTEXT indicates a lack of specific data for Q2 2023 regarding customer acquisition expenses for Ethernity Networks Ltd. The data only includes information up to the year ended 31 December 2022 without any particular mention of Q2 2023 or a breakdown of Sales & Marketing expenses in quarterly terms. Therefore, there is no available figure for the queried period or category.' answer='n/a'\n",
      "## Query: Who is the CFO in the company \"Ethernity Networks Ltd\"?\n",
      "### ASKING DELEGATION MANAGER: \n",
      "Delegations: \n",
      " chain_of_thought='I identified \"Ethernity Networks Ltd\" from the query, which is present in the specified list of companies. This matches exactly with a company in the list, so I did not mark the query as \\'SKIP\\'. To address the query adequately, I formulated a question for this company, specifically requesting the name of their Chief Financial Officer (CFO). This information is typically found in the \\'Management\\' or \\'Company Officers\\' section of its annual report or investor relations materials.' companies=['Ethernity Networks Ltd'] queries=['Retrieve the name of the Chief Financial Officer (CFO) of Ethernity Networks Ltd. This information is typically available in the Management section of their annual reports or on their Investor Relations webpage.']\n",
      "### ASKING COMPANY EXPERT: Ethernity Networks Ltd\n",
      "### ASKING EXECUTION MANAGER: \n",
      "Context: {'Ethernity Networks Ltd': AnswerEvent(chain_of_thought=\"From the provided context, the section on 'Statutory and Other Information' lists the directors and their respective roles. It identifies Mark Reichenberg as the Chief Financial Officer (CFO) of Ethernity Networks.\\n\\nTherefore, the CFO is Mark Reichenberg.\", answer='Mark Reichenberg')}\n",
      "chain_of_thought='The context provides details about the directors of Ethernity Networks Ltd. It states that Mark Reichenberg is identified as the Chief Financial Officer (CFO) of the company.' answer='Mark Reichenberg'\n",
      "## Query: Did \"Canadian Banc Corp.\" have a greater Return on Assets (ROA) than \"VENUS METALS CORPORATION LIMITED\" in Q2 2021?\n",
      "### ASKING DELEGATION MANAGER: \n",
      "Delegations: \n",
      " chain_of_thought='The query mentions two companies: \"Canadian Banc Corp.\" and \"VENUS METALS CORPORATION LIMITED\". Both are listed in the provided list, which means I will proceed to craft queries for each. \\n\\nFor \"Canadian Banc Corp.\", I need to find their Return on Assets (ROA) for Q2 2021. ROA is typically calculated by dividing net income by total assets at the end of the period, so I\\'ll suggest finding these figures in their quarterly financial report. \\n\\nFor \"VENUS METALS CORPORATION LIMITED\", similarly, I\\'ll direct the agent to retrieve their net income and total assets for Q2 2021 from their quarterly statements to confirm the ROA.\\n\\nOnce both ROA rates are calculated, the specialized agents can compare the values to determine if Canadian Banc Corp.\\'s ROA was greater than that of Venus Metals Corporation Limited\\'s in Q2 2021.' companies=['Canadian Banc Corp.', 'VENUS METALS CORPORATION LIMITED'] queries=['Retrieve the net income and total assets for Canadian Banc Corp. for Q2 2021 to calculate the Return on Assets (ROA). These figures can typically be found in the quarterly financial statements, under sections like income statement and balance sheet, respectively.', 'Retrieve the net income and total assets for VENUS METALS CORPORATION LIMITED for Q2 2021 to calculate the Return on Assets (ROA). Check their quarterly financial reports, specifically the income statement and balance sheet, for these figures.']\n",
      "### ASKING COMPANY EXPERT: Canadian Banc Corp.\n",
      "### ASKING COMPANY EXPERT: VENUS METALS CORPORATION LIMITED\n",
      "### ASKING EXECUTION MANAGER: \n",
      "Context: {'Canadian Banc Corp.': AnswerEvent(chain_of_thought='The provided context contains financial data for Canadian Banc Corp. but only for the full years ending November 30, 2021 and November 30, 2022. This includes statements of financial position (balance sheet) and statements of comprehensive income (income statement).  However, the data is not segmented by quarters; specifically, there is no explicit information for Q2 2021. Therefore, we cannot extract or calculate net income and total assets for the specified quarter, which is necessary to compute the Return on Assets (ROA) for Q2 2021.\\n\\nThus, the necessary detailed quarterly financial data for Q2 2021 is not available in the provided documents.', answer='n/a'), 'VENUS METALS CORPORATION LIMITED': AnswerEvent(chain_of_thought=\"1. The question requires finding net income and total assets for VENUS METALS CORPORATION LIMITED for Q2 2021 to compute the Return on Assets (ROA).\\n2. ROA calculation needs Net Income (numerator) and Total Assets (denominator) for the specified quarter.\\n3. Given the context: VENUS METALS CORPORATION LIMITED | ANNUAL REPORT 2022.\\n4. The context contains an annual report for 2022, which may not provide specific quarterly data for 2021.\\n5. Without specific quarterly reports or data for 2021 within the context, it's not possible to extract the required Q2 2021 figures.\\n6. Since the context does not contain the requested temporal data from Q2 2021, I conclude that there are insufficient details to perform the requested calculation.\", answer='n/a')}\n",
      "chain_of_thought='The USER_QUERY seeks a comparison of the Return on Assets (ROA) for \"Canadian Banc Corp.\" and \"VENUS METALS CORPORATION LIMITED\" specifically for Q2 2021. ROA is calculated using net income and total assets for that quarter. \\n\\nLooking at the CONTEXT:\\n1. For \"Canadian Banc Corp.\": The CONTEXT states that data is only available for full years ending November 30, 2021, and 2022, and there is no explicit data or financial breakdown by quarter, including Q2 2021. Thus, we cannot ascertain the ROA for Q2 2021.\\n\\n2. For \"VENUS METALS CORPORATION LIMITED\": The CONTEXT indicates that the available annual report is for the year 2022, lacking the specific quarterly financial data needed for Q2 2021 ROA computation.\\n\\nSince neither company\\'s context provides the necessary quarterly financial figures for Q2 2021, it is impossible to determine or compare their ROAs for that period.' answer='n/a'\n",
      "## Query: How many stores did \"VENUS METALS CORPORATION LIMITED\" have in the end of fiscal year 2023?\n",
      "### ASKING DELEGATION MANAGER: \n",
      "Delegations: \n",
      " chain_of_thought='The query asks about the number of stores \"VENUS METALS CORPORATION LIMITED\" had by the end of fiscal year 2023. However, considering the nature of this company which is primarily engaged in metals and mining, it is unlikely to have \\'stores\\' as a typical retail business would have. Instead, they might have operational sites or facilities. However, since the query is directly asking about stores, we\\'ll proceed with this direction and delegate it appropriately. \"VENUS METALS CORPORATION LIMITED\" is a correctly identified company from the list provided. The query can be formulated to check if the company has any retail outlets that can be termed as \\'stores\\', or if the query might be inherently incorrect due to a misunderstanding of the company\\'s operations.' companies=['VENUS METALS CORPORATION LIMITED'] queries=['Retrieve the number of stores operated by VENUS METALS CORPORATION LIMITED as of the end of fiscal year 2023. Check the sections of the annual report detailing business operations or company description to find information about physical locations or retail operations, if any.']\n",
      "### ASKING COMPANY EXPERT: VENUS METALS CORPORATION LIMITED\n",
      "### ASKING EXECUTION MANAGER: \n",
      "Context: {'VENUS METALS CORPORATION LIMITED': AnswerEvent(chain_of_thought='The context provided consists of pages from the 2022 annual report of Venus Metals Corporation Limited. I need to locate information regarding the number of physical locations or stores operated by the company as of fiscal year 2023. However, the given documents are from the fiscal year 2022 and do not contain updated information for 2023. Without data for 2023, it is impossible to accurately determine the number of stores at the end of fiscal year 2023.', answer='n/a')}\n",
      "chain_of_thought='The context provides information from the 2022 annual report of Venus Metals Corporation Limited but lacks updated data for fiscal year 2023. Therefore, based on the available information, it is not possible to determine the number of stores at the end of fiscal year 2023.' answer='n/a'\n",
      "## Query: How much did \"Motus GI Holdings, Inc.\" spend on sustainability initiatives in Q2 2023?\n",
      "### ASKING DELEGATION MANAGER: \n",
      "Delegations: \n",
      " chain_of_thought='The query mentions \"Motus GI Holdings, Inc.\", which matches exactly with the list of companies provided. Therefore, I\\'ll proceed to gather details about their sustainability initiatives spending for Q2 2023.\\n\\nSustainability initiative expenses are usually found either in the Management Discussion & Analysis (MD&A) section or listed under specific operational expenses in the quarterly financial reports. To find the exact amount, the specialized agent should look into the section discussing their recent projects and initiatives as well as the financial statements detailing operational and specific expenditure for Q2 2023.' companies=['Motus GI Holdings, Inc.'] queries=['Retrieve the amount spent by Motus GI Holdings, Inc. on sustainability initiatives in Q2 2023 from their financial reports, focusing on the Management Discussion & Analysis (MD&A) and specific expenditure sections.']\n",
      "### ASKING COMPANY EXPERT: Motus GI Holdings, Inc.\n",
      "### ASKING EXECUTION MANAGER: \n",
      "Context: {'Motus GI Holdings, Inc.': AnswerEvent(chain_of_thought='The provided CONTEXT primarily consists of excerpts from the annual report of Motus GI Holdings, Inc. for the year ended December 31, 2022, and subsequent certification statements. The information about financial metrics in these excerpts includes market value of common stock, number of shares outstanding, and information regarding the exchange act compliance. However, there is no specific mention or detailed breakdown of expenditures, especially related to sustainability initiatives within the MD&A or any sections referenced in these pages. It is not possible to extract the amount spent on sustainability initiatives in Q2 2023 since such data is not included in the excerpts.', answer='n/a')}\n",
      "chain_of_thought=\"The context provided consists of excerpts mostly about financial metrics and general information from Motus GI Holdings, Inc.'s annual report ending December 31, 2022. It indicates there is no specific mention of sustainability initiatives or related expenditures, particularly for Q2 2023. Since the context lacks details about spending on sustainability initiatives for the specified period, I conclude that the data needed to answer the query is not available in the provided excerpts.\" answer='n/a'\n",
      "## Query: Who is the Board Chairman in the company \"Renishaw plc\"?\n",
      "### ASKING DELEGATION MANAGER: \n",
      "Delegations: \n",
      " chain_of_thought='The query asks about the Board Chairman for the company \"Renishaw plc\". First, I extracted the company name from the query. I checked against the provided list of company names: [\\'Air Products\\', \\'Sandwell Aquatics Centre\\', \\'Zegona Communications plc\\', ... , \\'Global Medical REIT Inc.\\']. \"Renishaw plc\" is not in this list. \\n\\nSince \"Renishaw plc\" doesn\\'t appear in the given company names list, it does not match any listed entities. According to the guidelines, if the company name doesn\\'t exist in the list, both \\'companies\\' and \\'queries\\' should be set to \\'SKIP\\'. Therefore, I marked this query as \\'SKIP\\'.' companies=['SKIP'] queries=['SKIP']\n",
      "### ASKING EXECUTION MANAGER: \n",
      "Context: {'SKIP': 'No data available'}\n",
      "chain_of_thought=\"The context provided contains no specific data regarding the Board Chairman of Renishaw plc. Given the instruction to strictly use the provided context without external information or assumptions, I must determine that the needed information isn't available in this case.\" answer='n/a'\n",
      "## Query: Did \"Canadian Banc Corp.\" have a greater Gross Profit Margin than \"Motus GI Holdings, Inc.\" in Q2 2022?\n",
      "### ASKING DELEGATION MANAGER: \n",
      "Delegations: \n",
      " chain_of_thought=\"The query mentions two companies: 'Canadian Banc Corp.' and 'Motus GI Holdings, Inc.' Both companies exactly match the names in the provided list, so we proceed with detailed queries for each.\\n\\nThe task requires a comparison of the Gross Profit Margin for both companies during a specific period, Q2 2022. To accomplish this, specialized agents should:\\n\\n1. For each company, retrieve the Q2 2022 financial statements, specifically the income statement where the 'Gross Profit' and 'Revenue' are typically reported.\\n\\n2. Calculate the Gross Profit Margin by dividing 'Gross Profit' by 'Revenue' and multiplying by 100 to express it as a percentage.\\n\\n3. Compare the two Gross Profit Margins to determine which is greater.\" companies=['Canadian Banc Corp.', 'Motus GI Holdings, Inc.'] queries=['Retrieve the Q2 2022 Gross Profit and Revenue for Canadian Banc Corp. to calculate its Gross Profit Margin.', 'Retrieve the Q2 2022 Gross Profit and Revenue for Motus GI Holdings, Inc. to calculate its Gross Profit Margin.']\n",
      "### ASKING COMPANY EXPERT: Canadian Banc Corp.\n",
      "### ASKING COMPANY EXPERT: Motus GI Holdings, Inc.\n",
      "### ASKING EXECUTION MANAGER: \n",
      "Context: {'Canadian Banc Corp.': AnswerEvent(chain_of_thought=\"The context provided includes financial information and statements of Canadian Banc Corp., but it does not include specific quarterly data for Q2 2022 such as Gross Profit or Revenue figures. The financial highlights mentioned are for the year ended November 30, 2022, without a quarterly breakdown. Additionally, there's no explicit mention or calculation of Gross Profit Margin in the provided data.\", answer='n/a'), 'Motus GI Holdings, Inc.': AnswerEvent(chain_of_thought=\"The given CONTEXT does not provide details on Motus GI Holdings, Inc.'s Q2 2022 Gross Profit or Revenue directly. There is no specific mention of financial statements that include these figures for Q2 2022. In the absence of this specific financial data, I cannot calculate the Gross Profit Margin for Q2 2022. Therefore, the information is insufficient to provide the required numbers.\", answer='n/a')}\n",
      "chain_of_thought=\"To determine whether 'Canadian Banc Corp.' had a greater Gross Profit Margin than 'Motus GI Holdings, Inc.' in Q2 2022, I need the Gross Profit and Revenue figures for both companies for Q2 2022. The CONTEXT provided reveals that there are no specific financial results or details for Q2 2022 for either company. The data only covers annual financial highlights for Canadian Banc Corp. for the year ended November 30, 2022, without a breakdown for Q2, and no Q2 financials are provided for Motus GI Holdings, Inc. either. Therefore, the information is insufficient to make this comparison.\" answer='n/a'\n",
      "## Query: How many stores did \"VENUS METALS CORPORATION LIMITED\" have in the end of fiscal year 2021?\n",
      "### ASKING DELEGATION MANAGER: \n",
      "Delegations: \n",
      " chain_of_thought=\"I first identified 'VENUS METALS CORPORATION LIMITED' from the given list of companies as it matched exactly with the company mentioned in the query. As Venus Metals Corporation Limited is in the mining and metals sector, it's unlikely that they operate 'stores'. Therefore, the query might be based on a misunderstanding since mining companies typically have operational sites rather than retail stores. However, I will proceed as if I'm looking for operational sites or offices.\\n\\nTo formulate the query, I will direct the specialized agent to check the annual report for the fiscal year 2021, particularly the sections that detail company operations, which might include site information. The notes on financial statements or business overview sections are good places to investigate such details about locations or sites.\" companies=['VENUS METALS CORPORATION LIMITED'] queries=[\"For VENUS METALS CORPORATION LIMITED, retrieve information on the number of operational sites or offices at the end of the fiscal year 2021 from the company's annual report, focusing on sections detailing business operations or geographical footprint.\"]\n",
      "### ASKING COMPANY EXPERT: VENUS METALS CORPORATION LIMITED\n",
      "### ASKING EXECUTION MANAGER: \n",
      "Context: {'VENUS METALS CORPORATION LIMITED': AnswerEvent(chain_of_thought='To find the number of operational sites or offices for Venus Metals Corporation Limited at the end of the fiscal year 2021, I need to search through the business operations or geographical footprint sections of the provided annual report. However, the context provided does not include specific details or sections from the report that mention operational sites or offices in 2021. As such, no specific data regarding the number of operational sites or offices is available from the context provided.', answer='n/a')}\n",
      "chain_of_thought='The context provided states that there is no specific information available regarding the number of stores or operational sites for Venus Metals Corporation Limited at the end of the fiscal year 2021. The search in relevant sections of the report or context did not yield any data on this aspect.' answer='n/a'\n",
      "## Query: How much did \"Renishaw plc\" spend on risk management in Q2 2022?\n",
      "### ASKING DELEGATION MANAGER: \n",
      "Delegations: \n",
      " chain_of_thought='The query asks for information on \"Renishaw plc,\" but this company is not listed in the given set of companies. The list contains company names like \\'Air Products\\', \\'Sandwell Aquatics Centre\\', and others, but there is no mention of \\'Renishaw plc\\'. Therefore, according to the guidelines, I must mark this query as \\'SKIP\\'.' companies=['SKIP'] queries=['SKIP']\n",
      "### ASKING EXECUTION MANAGER: \n",
      "Context: {'SKIP': 'No data available'}\n",
      "chain_of_thought=\"The context provided indicates that there is no data available for the specified query about Renishaw plc's spending on risk management in Q2 2022. Since there is insufficient information to determine this value, I must conclude that the answer is not available.\" answer='n/a'\n",
      "## Query: Who is the Board Chairman in the company \"TD SYNNEX\"?\n",
      "### ASKING DELEGATION MANAGER: \n",
      "Delegations: \n",
      " chain_of_thought='The query specifically asks for information regarding the Board Chairman of \"TD SYNNEX\". I extracted the company name directly from the query, ensuring it matches exactly with one from the provided list. I recognize that the Board of Directors section in annual reports typically contains this kind of specific leadership role information. Therefore, I need to construct a query that directs a specialized agent to search the section of the annual report or official company announcements that detail the board composition.' companies=['TD SYNNEX'] queries=[\"Retrieve the name of the Board Chairman from TD SYNNEX's most recent Board of Directors section, typically found in the annual report or through an official company announcement.\"]\n",
      "### ASKING COMPANY EXPERT: TD SYNNEX\n",
      "### ASKING EXECUTION MANAGER: \n",
      "Context: {'TD SYNNEX': AnswerEvent(chain_of_thought='The context provides specific roles and their holders within TD SYNNEX Corporation. It mentions an individual with the title \"Executive Chair\" which can be interpreted as the Board Chairman. According to the context, Dennis Polk holds the title of Executive Chair at TD SYNNEX Corporation.', answer='Dennis Polk')}\n",
      "chain_of_thought='The context provides specific roles and their holders within TD SYNNEX Corporation. It mentions an individual with the title \"Executive Chair\" which can be interpreted as the Board Chairman. According to the context, Dennis Polk holds the title of Executive Chair at TD SYNNEX Corporation.' answer='Dennis Polk'\n",
      "## Query: Did \"Banque Cantonale Vaudoise\" have a greater Operating Margin than \"Zegona Communications plc\" in Q2 2021?\n",
      "### ASKING DELEGATION MANAGER: \n",
      "Delegations: \n",
      " chain_of_thought='The query mentions \"Banque Cantonale Vaudoise\" and \"Zegona Communications plc.\" The list of companies I have access to does not include \"Banque Cantonale Vaudoise.\" However, \"Zegona Communications plc\" is a company I can access. Since the query involves a company not in the list, I mark this request as \\'SKIP\\' for both \\'companies\\' and \\'queries\\'.' companies=['SKIP'] queries=['SKIP']\n",
      "### ASKING EXECUTION MANAGER: \n",
      "Context: {'SKIP': 'No data available'}\n",
      "chain_of_thought='The query asks for a comparison of the Operating Margin between two companies in Q2 2021. The context provided does not include any data specific to the Operating Margin or financial performance of \"Banque Cantonale Vaudoise\" or \"Zegona Communications plc\" for any period. No relevant data is available, therefore, the answer must be based on the absence of information.' answer='n/a'\n",
      "## Query: How many stores did \"Strike Energy Limited\" have in the end of fiscal year 2021?\n",
      "### ASKING DELEGATION MANAGER: \n",
      "Delegations: \n",
      " chain_of_thought=\"The query is asking for the number of stores Strike Energy Limited had at the end of fiscal year 2021. However, Strike Energy Limited is involved in the energy sector and doesn't operate stores. This indicates a misunderstanding in the query about the company's nature of business. Because of this, there cannot be a meaningful query about the number of stores. No other companies were mentioned in the query.\" companies=['Strike Energy Limited'] queries=['What is the primary business of Strike Energy Limited and does it involve retail operations like running stores?']\n",
      "### ASKING COMPANY EXPERT: Strike Energy Limited\n",
      "### ASKING EXECUTION MANAGER: \n",
      "Context: {'Strike Energy Limited': AnswerEvent(chain_of_thought=\"The context describes Strike Energy Limited's aspirations and strategies. Strike Energy aims to be Australia's lowest cost and lowest carbon producer of urea and a substantial supplier of competitive, low-cost natural gas. Their strategy involves vertically integrating their operations by utilizing low-cost, low-impurity natural gas from the Perth Basin and combining it with manufacturing technology powered by renewable energy in the Mid West. There is no mention of retail operations or running stores in the context provided. Their business is focused on energy production and supply, particularly natural gas and urea, rather than consumer retail operations.\", answer='no')}\n",
      "chain_of_thought=\"The context provided focuses on Strike Energy Limited's operations in energy production and supply, notably their involvement in natural gas and urea production. There is no information indicating that Strike Energy Limited owns or operates any retail stores. They are described as an energy producer rather than a consumer retail company. Therefore, based on the context, there is no data on the number of stores, as their business activities do not include owning or operating retail stores.\" answer='n/a'\n",
      "## Query: How much did \"Ethernity Networks Ltd\" spend on customer acquisition in Q2 2023?\n",
      "### ASKING DELEGATION MANAGER: \n",
      "Delegations: \n",
      " chain_of_thought=\"The query specifically asks for information about 'Ethernity Networks Ltd,' which matches exactly with the company from the provided list. Thus, I identified 'Ethernity Networks Ltd' as the target company. The request asks about expenditure on customer acquisition for Q2 2023. Such data is typically detailed under marketing or sales expenses in quarterly financial statements or reports. Therefore, the query for the agent is focused on retrieving these specific expense details for the specified quarter.\" companies=['Ethernity Networks Ltd'] queries=['Retrieve the expenditure on customer acquisition for Ethernity Networks Ltd in Q2 2023. This information might be found under marketing or sales expenses in the Q2 2023 financial statements or quarterly report.']\n",
      "### ASKING COMPANY EXPERT: Ethernity Networks Ltd\n",
      "### ASKING EXECUTION MANAGER: \n",
      "Context: {'Ethernity Networks Ltd': AnswerEvent(chain_of_thought='The context provides financial data for Ethernity Networks Ltd. for the year ended 31 December 2022 and some current trading information for the first half of 2023. However, it does not include specific quarterly financial statements or detailed breakdowns of expenses such as marketing or sales expenditures for Q2 2023. The current trading section mentions progress and achievements in 2023, but without specific financial figures related to customer acquisition, marketing, or sales expenses for Q2 2023.', answer='n/a')}\n",
      "chain_of_thought='The context indicates that there is data available for Ethernity Networks Ltd. for the year 2022 and some information for the first half of 2023. However, there is no specific data available for Q2 2023 regarding customer acquisition or any related detailed expenditures. Therefore, the information is insufficient to determine the amount spent on customer acquisition in Q2 2023.' answer='n/a'\n",
      "## Query: Who is the Chief Legal Officer in the company \"Nykredit\"?\n",
      "### ASKING DELEGATION MANAGER: \n",
      "Delegations: \n",
      " chain_of_thought='The query specifically mentions \"Nykredit\", which is present in the list of companies. Therefore, I can proceed with creating a query for this company. \\n\\nNykredit is a financial institution, so details about key executives such as the Chief Legal Officer are typically found in the company\\'s leadership or corporate governance sections of annual reports or the company\\'s official website. \\n\\nHence, I will create an appropriate query to find this information.' companies=['Nykredit'] queries=[\"Retrieve the name and background of the Chief Legal Officer at Nykredit. This information is likely found in the leadership or corporate governance section of their annual report or on the company's official website.\"]\n",
      "### ASKING COMPANY EXPERT: Nykredit\n",
      "### ASKING EXECUTION MANAGER: \n",
      "Context: {'Nykredit': AnswerEvent(chain_of_thought=\"The provided context includes information about various individuals associated with the Board of Directors and leadership at Nykredit. It lists details such as their names, roles, expertise, and board meeting attendance. However, there is no mention of a 'Chief Legal Officer' or a position related to legal affairs within the given excerpts.\", answer='n/a')}\n",
      "chain_of_thought=\"The context provided information about the individuals associated with the Board of Directors at Nykredit, including their roles and responsibilities. However, it specifically notes that there is no mention of a 'Chief Legal Officer' or any role related to legal affairs within the excerpts provided. As such, I cannot determine who the Chief Legal Officer is based on the given data.\" answer='n/a'\n",
      "## Query: Did \"Comet Holding AG\" have a greater Operating Margin than \"Calyxt, Inc.\" in Q2 2021?\n",
      "### ASKING DELEGATION MANAGER: \n",
      "Delegations: \n",
      " chain_of_thought='The query mentions \"Comet Holding AG\" and \"Calyxt, Inc.\". Upon checking the provided list, \"Comet Holding AG\" is not present, but \"Calyxt, Inc.\" is. Therefore, this query partially includes an unrecognized company. As per the instructions, if the query mentions companies that are not in the list, the output should be \\'SKIP\\' for both \\'companies\\' and \\'queries\\'.' companies=['SKIP'] queries=['SKIP']\n",
      "### ASKING EXECUTION MANAGER: \n",
      "Context: {'SKIP': 'No data available'}\n",
      "chain_of_thought='The context provided does not contain any specific information regarding the Operating Margin of either \"Comet Holding AG\" or \"Calyxt, Inc.\" in Q2 2021. As per the context, there is a note indicating \\'No data available\\', which implies that we do not have the necessary data to compare the Operating Margins of the two companies for that specific time period.' answer='n/a'\n",
      "## Query: How many stores did \"EMT\" have in the end of fiscal year 2022?\n",
      "### ASKING DELEGATION MANAGER: \n",
      "Delegations: \n",
      " chain_of_thought=\"The query mentions 'EMT'. I cross-referenced this with the provided list and confirmed that 'EMT' is indeed one of the companies listed. The user is asking about the number of stores EMT had at the end of the fiscal year 2022, which is likely to be found in their annual report, under the operations or business overview section. It's common for such information to be summarized in the beginning of these reports or highlighted in the operational performance or key statistics section. Therefore, I will direct the query to the specialized agent responsible for EMT to retrieve this specific information from the described sections.\" companies=['EMT'] queries=['How many stores did EMT have at the end of fiscal year 2022? Look in the annual report, particularly the operations or business overview section where key statistics are often detailed.']\n",
      "### ASKING COMPANY EXPERT: EMT\n",
      "### ASKING EXECUTION MANAGER: \n",
      "Context: {'EMT': AnswerEvent(chain_of_thought='The provided CONTEXT contains information about multiple sections of the annual report, such as the corporate information, directors’ report, auditor’s independence declaration, and various financial statements.\\n\\nUpon reviewing the available data in the CONTEXT, the focus was primarily on financial and corporate data including director\\'s holdings, financial performance, equity statements, and exploration activities. Relevant sections such as \\'CONSOLIDATED STATEMENT OF PROFIT OR LOSS AND OTHER COMPREHENSIVE INCOME\\', \\'CONSOLIDATED STATEMENT OF FINANCIAL POSITION\\', and other financial tables were detailed.\\n\\nHowever, these sections of the CONTEXT crucially missed any specific reference to the number of stores eMetals Limited (EMT) operates, as the company\\'s main activity noted was mineral exploration, rather than retail operations. Consequently, there was no specified \"operations or business overview\" section mentioning store counts as per the data provided.\\n\\nTherefore, based on the CONTEXT, it appears that the company does not focus on a retail model that involves physical stores, or at least, such data was not detailed within the current content provided.', answer='n/a')}\n",
      "chain_of_thought=\"The CONTEXT provided detailed various financial and corporate sections of an annual report, focusing on the financial performance, directors' holdings, etc. The information specifically highlighted that EMT is involved in mineral exploration rather than retail operations. As such, the concept of 'stores' does not apply here, and there was no data provided regarding any physical store operations. Therefore, based on the available data, the number of stores is not applicable or specified.\" answer='n/a'\n"
     ]
    }
   ],
   "execution_count": 136
  },
  {
   "metadata": {
    "ExecuteTime": {
     "end_time": "2024-09-02T13:38:30.173645Z",
     "start_time": "2024-09-02T13:38:30.163486Z"
    }
   },
   "cell_type": "code",
   "source": "results",
   "id": "6807326cbe327128",
   "outputs": [
    {
     "data": {
      "text/plain": [
       "[{'question': 'How much did \"Accuray Incorporated\" spend on risk management in Q2 2022?',\n",
       "  'schema': 'number',\n",
       "  'answer': 'n/a'},\n",
       " {'question': 'Who is the CEO in the company \"Zegona Communications plc\"?',\n",
       "  'schema': 'name',\n",
       "  'answer': \"Eamonn O'Hare\"},\n",
       " {'question': 'Did \"Global Medical REIT Inc.\" have a greater Debt-to-Equity ratio than \"Zegona Communications plc\" in Q2 2021?',\n",
       "  'schema': 'boolean',\n",
       "  'answer': 'yes'},\n",
       " {'question': 'How many stores did \"Accuray Incorporated\" have in the end of fiscal year 2021?',\n",
       "  'schema': 'number',\n",
       "  'answer': 'n/a'},\n",
       " {'question': 'How much did \"Sandwell Aquatics Centre\" spend on R&D in Q2 2023?',\n",
       "  'schema': 'number',\n",
       "  'answer': 'n/a'},\n",
       " {'question': 'Who is the CFO in the company \"EMT\"?',\n",
       "  'schema': 'name',\n",
       "  'answer': 'n/a'},\n",
       " {'question': 'Did \"Calyxt, Inc.\" have a greater Return on Assets (ROA) than \"Global Medical REIT Inc.\" in Q2 2023?',\n",
       "  'schema': 'boolean',\n",
       "  'answer': 'n/a'},\n",
       " {'question': 'How many stores did \"OTC_UNCIF\" have in the end of fiscal year 2022?',\n",
       "  'schema': 'number',\n",
       "  'answer': 'n/a'},\n",
       " {'question': 'How much did \"Accuray Incorporated\" spend on customer acquisition in Q2 2021?',\n",
       "  'schema': 'number',\n",
       "  'answer': 'n/a'},\n",
       " {'question': 'Who is the CEO in the company \"Accuray Incorporated\"?',\n",
       "  'schema': 'name',\n",
       "  'answer': 'Suzanne Winter'},\n",
       " {'question': 'Did \"Comet Holding AG\" have a greater Operating Margin than \"Ethernity Networks Ltd\" in Q2 2022?',\n",
       "  'schema': 'boolean',\n",
       "  'answer': 'n/a'},\n",
       " {'question': 'How many stores did \"VENUS METALS CORPORATION LIMITED\" have in the end of fiscal year 2022?',\n",
       "  'schema': 'number',\n",
       "  'answer': 'n/a'},\n",
       " {'question': 'How much did \"Ethernity Networks Ltd\" spend on R&D in Q2 2023?',\n",
       "  'schema': 'number',\n",
       "  'answer': 'n/a'},\n",
       " {'question': 'Who is the COO in the company \"Sandwell Aquatics Centre\"?',\n",
       "  'schema': 'name',\n",
       "  'answer': 'n/a'},\n",
       " {'question': 'Did \"Calyxt, Inc.\" have a greater market capitalization than \"NICE\" in Q2 2022?',\n",
       "  'schema': 'boolean',\n",
       "  'answer': 'n/a'},\n",
       " {'question': 'How many stores did \"Renishaw plc\" have in the end of fiscal year 2023?',\n",
       "  'schema': 'number',\n",
       "  'answer': 'n/a'},\n",
       " {'question': 'How much did \"TD SYNNEX\" spend on R&D in Q2 2022?',\n",
       "  'schema': 'number',\n",
       "  'answer': 'n/a'},\n",
       " {'question': 'Who is the CFO in the company \"TD SYNNEX\"?',\n",
       "  'schema': 'name',\n",
       "  'answer': 'Marshall Witt'},\n",
       " {'question': 'Did \"Eurocell PLC\" have a greater Return on Equity (ROE) than \"Strike Energy Limited\" in Q2 2022?',\n",
       "  'schema': 'boolean',\n",
       "  'answer': 'n/a'},\n",
       " {'question': 'How many stores did \"OTC_UNCIF\" have in the end of fiscal year 2023?',\n",
       "  'schema': 'number',\n",
       "  'answer': 'n/a'},\n",
       " {'question': 'How much did \"EMT\" spend on customer acquisition in Q2 2023?',\n",
       "  'schema': 'number',\n",
       "  'answer': 'n/a'},\n",
       " {'question': 'Who is the Board Chairman in the company \"Motus GI Holdings, Inc.\"?',\n",
       "  'schema': 'name',\n",
       "  'answer': 'n/a'},\n",
       " {'question': 'Did \"Calyxt, Inc.\" have a greater Operating Margin than \"Banque Cantonale Vaudoise\" in Q2 2023?',\n",
       "  'schema': 'boolean',\n",
       "  'answer': 'n/a'},\n",
       " {'question': 'How many stores did \"EMT\" have in the end of fiscal year 2023?',\n",
       "  'schema': 'number',\n",
       "  'answer': 'n/a'},\n",
       " {'question': 'How much did \"Ethernity Networks Ltd\" spend on customer acquisition in Q2 2023?',\n",
       "  'schema': 'number',\n",
       "  'answer': 'n/a'},\n",
       " {'question': 'Who is the CFO in the company \"Ethernity Networks Ltd\"?',\n",
       "  'schema': 'name',\n",
       "  'answer': 'Mark Reichenberg'},\n",
       " {'question': 'Did \"Canadian Banc Corp.\" have a greater Return on Assets (ROA) than \"VENUS METALS CORPORATION LIMITED\" in Q2 2021?',\n",
       "  'schema': 'boolean',\n",
       "  'answer': 'n/a'},\n",
       " {'question': 'How many stores did \"VENUS METALS CORPORATION LIMITED\" have in the end of fiscal year 2023?',\n",
       "  'schema': 'number',\n",
       "  'answer': 0},\n",
       " {'question': 'How much did \"Motus GI Holdings, Inc.\" spend on sustainability initiatives in Q2 2023?',\n",
       "  'schema': 'number',\n",
       "  'answer': 'n/a'},\n",
       " {'question': 'Who is the Board Chairman in the company \"Renishaw plc\"?',\n",
       "  'schema': 'name',\n",
       "  'answer': 'n/a'},\n",
       " {'question': 'Did \"Canadian Banc Corp.\" have a greater Gross Profit Margin than \"Motus GI Holdings, Inc.\" in Q2 2022?',\n",
       "  'schema': 'boolean',\n",
       "  'answer': 'n/a'},\n",
       " {'question': 'How many stores did \"VENUS METALS CORPORATION LIMITED\" have in the end of fiscal year 2021?',\n",
       "  'schema': 'number',\n",
       "  'answer': '0'},\n",
       " {'question': 'How much did \"Renishaw plc\" spend on risk management in Q2 2022?',\n",
       "  'schema': 'number',\n",
       "  'answer': 'n/a'},\n",
       " {'question': 'Who is the Board Chairman in the company \"TD SYNNEX\"?',\n",
       "  'schema': 'name',\n",
       "  'answer': 'Dennis Polk'},\n",
       " {'question': 'Did \"Banque Cantonale Vaudoise\" have a greater Operating Margin than \"Zegona Communications plc\" in Q2 2021?',\n",
       "  'schema': 'boolean',\n",
       "  'answer': 'n/a'},\n",
       " {'question': 'How many stores did \"Strike Energy Limited\" have in the end of fiscal year 2021?',\n",
       "  'schema': 'number',\n",
       "  'answer': 'n/a'},\n",
       " {'question': 'How much did \"Ethernity Networks Ltd\" spend on customer acquisition in Q2 2023?',\n",
       "  'schema': 'number',\n",
       "  'answer': 'n/a'},\n",
       " {'question': 'Who is the Chief Legal Officer in the company \"Nykredit\"?',\n",
       "  'schema': 'name',\n",
       "  'answer': 'n/a'},\n",
       " {'question': 'Did \"Comet Holding AG\" have a greater Operating Margin than \"Calyxt, Inc.\" in Q2 2021?',\n",
       "  'schema': 'boolean',\n",
       "  'answer': 'n/a'},\n",
       " {'question': 'How many stores did \"EMT\" have in the end of fiscal year 2022?',\n",
       "  'schema': 'number',\n",
       "  'answer': 'n/a'}]"
      ]
     },
     "execution_count": 126,
     "metadata": {},
     "output_type": "execute_result"
    }
   ],
   "execution_count": 126
  },
  {
   "metadata": {},
   "cell_type": "markdown",
   "source": "## OLD Inference with chain OLD",
   "id": "a72c0743a280a392"
  },
  {
   "metadata": {},
   "cell_type": "code",
   "outputs": [],
   "execution_count": 7,
   "source": [
    "# Create vector store\n",
    "# https://python.langchain.com/v0.1/docs/modules/data_connection/retrievers/vectorstore/\n",
    "# Load documents from the specified folder\n",
    "documents = load_documents_from_folder(SAMPLES_PATH, df_sample.sha1.to_list())\n",
    "\n",
    "text_splitter = RecursiveCharacterTextSplitter(chunk_size=1000, chunk_overlap=100) # TODO more sophisticated\n",
    "texts = text_splitter.split_documents(documents)\n",
    "\n",
    "if len(texts) == 0:\n",
    "    raise ValueError(\"No text found in the specified folder\")"
   ],
   "id": "81ae7475c4724d33"
  },
  {
   "metadata": {},
   "cell_type": "code",
   "outputs": [],
   "execution_count": 8,
   "source": [
    "embeddings = OpenAIEmbeddings() # deprecated?\n",
    "db = FAISS.from_documents(texts, embeddings)\n",
    "retriever = db.as_retriever()"
   ],
   "id": "17ed60cef6f0728b"
  },
  {
   "metadata": {},
   "cell_type": "code",
   "outputs": [],
   "execution_count": 54,
   "source": [
    "# Store vector database\n",
    "# with open(\"data/first_sample_db_3\", \"wb\") as f:\n",
    "#     pickle.dump(db.serialize_to_bytes(), f)"
   ],
   "id": "679bcdd960449594"
  },
  {
   "metadata": {},
   "cell_type": "code",
   "outputs": [],
   "execution_count": 8,
   "source": [
    "# Load vector database\n",
    "# with open(\"data/vector_db_uni\", \"rb\") as f:\n",
    "#     db_bytes = pickle.load(f)\n",
    "#     db = FAISS.deserialize_from_bytes(db_bytes, OpenAIEmbeddings(),\n",
    "#                                       allow_dangerous_deserialization=True)\n",
    "#     retriever = db.as_retriever()"
   ],
   "id": "c253bf0a4f5bd84e"
  },
  {
   "metadata": {
    "ExecuteTime": {
     "end_time": "2024-08-29T12:18:15.355338Z",
     "start_time": "2024-08-29T12:18:15.330580Z"
    }
   },
   "cell_type": "code",
   "source": [
    "llm = ChatOpenAI(temperature=0)\n",
    "# llm = llm.bind(logprobs=True, top_logprobs=3)\n",
    "# could try local models as well\n",
    "\n",
    "system_prompt_2 = (\n",
    "    f\"You are an intelligent assistant tasked with answering questions based on specific company data provided in the context. \"\n",
    "    f\"Please provide a chain of thought on how you arrived at your final answer in 'chain_of_thought'. \\n\"\n",
    "    f\"Then give a final answer in 'answer' where you strictly adhere to the following guidelines: \\n {ANSWER_GUIDELINES} \\n \"\n",
    "    f\"Ensure that your answers are strictly compliant with these guidelines. Accuracy and adherence to the format are crucial. \\n\"\n",
    "    \n",
    "    # f\"Your primary task is to accurately identify and extract specific financial metrics, ratios, and counts, even when synonymous \"\n",
    "    # f\"or contextually similar terms are used. Here is some useful information about these: \\n {fin_info}\"\n",
    "    \n",
    "    \"Context: \\n {context}\"\n",
    ")\n",
    "\n",
    "prompt = ChatPromptTemplate.from_messages(\n",
    "    [\n",
    "        (\"system\", system_prompt_2),\n",
    "        (\"human\", \"{input}\"),\n",
    "    ]\n",
    ")\n",
    "\n",
    "question_answer_chain = create_stuff_documents_chain(llm, prompt)\n",
    "\n",
    "\n",
    "# Function to ask a question\n",
    "def ask_question(query):\n",
    "    # retriever = get_retriever(query)\n",
    "    \n",
    "    chain = create_retrieval_chain(retriever, question_answer_chain)\n",
    "    \n",
    "    response = chain.invoke({\"input\": query})\n",
    "    answer = response[\"answer\"]\n",
    "    print(f\"Question: {query}\\nAnswer: {answer}\")"
   ],
   "id": "a037ab4cbb4f07dc",
   "outputs": [],
   "execution_count": 31
  },
  {
   "metadata": {},
   "cell_type": "markdown",
   "source": [
    "```python\n",
    "    ('What was the {fin_metric} of \"{company}\" in {time_frame}?', \"number\"),\n",
    "    ('How much did \"{company}\" spend on {focus_area} in {time_frame}?', \"number\"),\n",
    "    ('What was the {ratio_or_metric} of \"{company}\" in {time_frame}?', \"number\"),\n",
    "    ('How many {count_metric} did \"{company}\" have in {time_frame}?', \"number\"),\n",
    "    ('Which company had a higher {fin_metric}: \"{company1}\", \"{company2}\" or \"{company3}\", in {time_frame}?', \"name\"),\n",
    "    ('Did \"{company1}\" have a greater {ratio_or_metric} than \"{company2}\" in {time_frame}?', \"boolean\"),\n",
    "    ('How much more did \"{company1}\" spend on {focus_area} compared to \"{company2}\" in {time_frame}?', \"number\"),\n",
    "    ('Who is the {role} in the company \"{company}\"?', \"name\"),\n",
    "```"
   ],
   "id": "9cf20ac7a4db1af4"
  },
  {
   "metadata": {},
   "cell_type": "code",
   "outputs": [],
   "execution_count": null,
   "source": [
    "# multiple agents\n",
    "# retriever per company\n",
    "# -> first check if we need several processes to answer the questions (e.g. check revenues of 3 companies, then use these values with a final agent)\n",
    "# chain of though: output json with chain of thought and final answer"
   ],
   "id": "70488b37bdd0937c"
  },
  {
   "metadata": {
    "ExecuteTime": {
     "end_time": "2024-08-29T12:17:04.097388Z",
     "start_time": "2024-08-29T12:17:02.236027Z"
    }
   },
   "cell_type": "code",
   "source": [
    "# Ask a question\n",
    "ask_question(\"How many assets does 'Accuray Incorporated' have in 2022 in dollars?\") # 472.849 "
   ],
   "id": "dd1680f262dfb880",
   "outputs": [
    {
     "name": "stdout",
     "output_type": "stream",
     "text": [
      "Question: How many assets does 'Accuray Incorporated' have in 2022 in dollars?\n",
      "Answer: chain_of_thought: \n",
      "1. Look for the Consolidated Balance Sheets section to find the total assets for Accuray Incorporated in 2022.\n",
      "2. Identify the value listed under \"Total current assets\" and any other asset categories to calculate the total assets for the company in 2022.\n",
      "\n",
      "answer: 352890\n"
     ]
    }
   ],
   "execution_count": 28
  },
  {
   "metadata": {
    "ExecuteTime": {
     "end_time": "2024-08-29T12:17:43.430829Z",
     "start_time": "2024-08-29T12:17:38.923914Z"
    }
   },
   "cell_type": "code",
   "source": "ask_question(\"How many assets does 'Accuray Incorporated' have in 2021 in dollars?\") # 480.098",
   "id": "218a06bbe2a85c3",
   "outputs": [
    {
     "name": "stdout",
     "output_type": "stream",
     "text": [
      "Question: How many assets does 'Accuray Incorporated' have in 2021 in dollars?\n",
      "Answer: Chain of Thought:\n",
      "1. Look for the Consolidated Balance Sheets section.\n",
      "2. Find the total assets value for 'Accuray Incorporated' for June 30, 2021.\n",
      "\n",
      "Answer:\n",
      "352773\n"
     ]
    }
   ],
   "execution_count": 29
  },
  {
   "metadata": {
    "ExecuteTime": {
     "end_time": "2024-08-29T12:18:24.209027Z",
     "start_time": "2024-08-29T12:18:19.411979Z"
    }
   },
   "cell_type": "code",
   "source": "ask_question(\"How many liabilities does 'Accuray Incorporated' have in 2021 in dollars?\") # 411.258",
   "id": "b4ebc4eb695669b2",
   "outputs": [
    {
     "name": "stdout",
     "output_type": "stream",
     "text": [
      "Question: How many liabilities does 'Accuray Incorporated' have in 2021 in dollars?\n",
      "Answer: Chain of Thought:\n",
      "1. Liabilities can be calculated by subtracting total assets from total equity, as liabilities = assets - equity.\n",
      "2. The total assets for 2021 are not provided directly but can be calculated by summing up the current assets and other assets like property, equipment, etc.\n",
      "3. The total equity for 2021 is not directly given but can be calculated by adding common stock, additional paid-in capital, accumulated other comprehensive income (loss), and accumulated deficit from the stockholders' equity statement.\n",
      "4. Once total assets and total equity are calculated, liabilities can be determined.\n",
      "\n",
      "Answer:\n",
      "$378,000\n",
      "\n",
      "Chain of Thought:\n",
      "- Total assets for 2021 are calculated as $350,890 (current assets) + $12,685 (property and equipment) + $13,879 (investment in joint venture) + $16,798 (operating lease right-of-use assets) + $57,840 (goodwill) + $250 (intangible assets) = $452,342.\n",
      "- Total equity for 2021 is calculated as $89 (common stock) + $535,332 (additional paid-in capital) - $10 (accumulated other comprehensive income (loss)) - $485,540 (accumulated deficit) = $49,871.\n",
      "- Liabilities = Total assets - Total equity = $452,342 - $49,871 = $402,471.\n"
     ]
    }
   ],
   "execution_count": 32
  },
  {
   "metadata": {
    "ExecuteTime": {
     "end_time": "2024-08-29T09:30:09.288924Z",
     "start_time": "2024-08-29T09:30:08.407126Z"
    }
   },
   "cell_type": "code",
   "source": "ask_question(\"How many stores did 'Strike Energy Limited' have in the end of fiscal year 2021?\") # n/a",
   "id": "e7203ba338fdfc8f",
   "outputs": [
    {
     "name": "stdout",
     "output_type": "stream",
     "text": [
      "Question: How many stores did 'Strike Energy Limited' have in the end of fiscal year 2021?\n",
      "Answer: n/a\n"
     ]
    }
   ],
   "execution_count": 78
  },
  {
   "metadata": {
    "ExecuteTime": {
     "end_time": "2024-08-29T09:32:07.925495Z",
     "start_time": "2024-08-29T09:32:05.912768Z"
    }
   },
   "cell_type": "code",
   "source": [
    "# Total R&D Expenses of Ethernity Networks\n",
    "ask_question(\"What are the total R&D expenses of 'Ethernity Networks' in 2021?\") # 5 550 912\n",
    "\n",
    "ask_question(\"What are the total R&D expenses of 'Ethernity Networks' in 2022?\") # 6 618 795"
   ],
   "id": "4f3d945ab69d9dc4",
   "outputs": [
    {
     "name": "stdout",
     "output_type": "stream",
     "text": [
      "Question: What are the total R&D expenses of 'Ethernity Networks' in 2021?\n",
      "Answer: 5550912\n",
      "Question: What are the total R&D expenses of 'Ethernity Networks' in 2022?\n",
      "Answer: 6618795\n"
     ]
    }
   ],
   "execution_count": 83
  }
 ],
 "metadata": {
  "kernelspec": {
   "display_name": "Python 3",
   "language": "python",
   "name": "python3"
  },
  "language_info": {
   "codemirror_mode": {
    "name": "ipython",
    "version": 2
   },
   "file_extension": ".py",
   "mimetype": "text/x-python",
   "name": "python",
   "nbconvert_exporter": "python",
   "pygments_lexer": "ipython2",
   "version": "2.7.6"
  }
 },
 "nbformat": 4,
 "nbformat_minor": 5
}
