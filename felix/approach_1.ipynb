{
 "cells": [
  {
   "cell_type": "code",
   "id": "initial_id",
   "metadata": {
    "collapsed": true,
    "ExecuteTime": {
     "end_time": "2024-09-02T11:50:45.943170Z",
     "start_time": "2024-09-02T11:50:41.444994Z"
    }
   },
   "source": [
    "import os\n",
    "import PyPDF2\n",
    "import markdown2\n",
    "import json\n",
    "import pickle\n",
    "import pandas as pd\n",
    "\n",
    "from docx import Document as DocxDocument\n",
    "from pptx import Presentation\n",
    "\n",
    "from langchain_core.documents import Document\n",
    "from langchain.text_splitter import RecursiveCharacterTextSplitter\n",
    "from langchain_community.vectorstores import FAISS\n",
    "from langchain_openai.embeddings.base import OpenAIEmbeddings\n",
    "\n",
    "from langchain.chains import create_retrieval_chain\n",
    "from langchain.chains.combine_documents import create_stuff_documents_chain\n",
    "from langchain_core.prompts import ChatPromptTemplate\n",
    "from langchain_openai import ChatOpenAI\n",
    "\n",
    "# Rinats well documented sample project\n",
    "# https://github.com/trustbit/private-poc-fmw-content-generator/tree/main/backend-and-kb/src/fmw\n",
    "\n",
    "from dotenv import load_dotenv\n",
    "\n",
    "load_dotenv()"
   ],
   "outputs": [
    {
     "data": {
      "text/plain": [
       "True"
      ]
     },
     "execution_count": 1,
     "metadata": {},
     "output_type": "execute_result"
    }
   ],
   "execution_count": 1
  },
  {
   "metadata": {},
   "cell_type": "markdown",
   "source": "## Get Companies",
   "id": "26b7a2f7be3b6375"
  },
  {
   "metadata": {
    "ExecuteTime": {
     "end_time": "2024-09-02T11:50:45.963782Z",
     "start_time": "2024-09-02T11:50:45.945879Z"
    }
   },
   "cell_type": "code",
   "source": "SAMPLES_PATH = r\"C:\\Users\\felix.krause\\code\\trustbit\\enterprise-rag-challenge\\samples\"",
   "id": "91e93d8a358bfc66",
   "outputs": [],
   "execution_count": 2
  },
  {
   "metadata": {
    "ExecuteTime": {
     "end_time": "2024-09-02T11:50:46.008375Z",
     "start_time": "2024-09-02T11:50:45.963782Z"
    }
   },
   "cell_type": "code",
   "source": [
    "df = pd.read_csv(\"data/dataset.csv\") \n",
    "df"
   ],
   "id": "187267224fd86013",
   "outputs": [
    {
     "data": {
      "text/plain": [
       "                                          sha1        date  \\\n",
       "0     ce9e5024041b2ece2bafa2a9d9516bb174ee8949  2022-10-31   \n",
       "1     f71415f9ca0cff70e5fa193616b6197f361130ed  2023-02-21   \n",
       "2     4a9d2b853e05970776121a810460f0962a18c5a1     2022-XX   \n",
       "3     f973dd219c534accb0d4e72d8e12f51284d48d10  2023-01-01   \n",
       "4     4e27f4c3402c657d548760cb3a164b036cefaabb  2022-12-31   \n",
       "...                                        ...         ...   \n",
       "7490  a2afcd8165a6dbd0058682680b65d3638a5800eb  2023-02-02   \n",
       "7491  215df84494756bd4feebc973657835ef7f14ee16  2022-12-31   \n",
       "7492  20fb970d8705289e835b408c575351295ac16f5f  2022-09-30   \n",
       "7493  c7f3a8c0a38c756438950ce3085076adb4241a32  2022-01-01   \n",
       "7494  e26bd02b24e45a09c4b860c4763b542deba6f14a  2022-12-31   \n",
       "\n",
       "                                     name      size  \n",
       "0                 Anixa Biosciences, Inc.   3996701  \n",
       "1     Maravai LifeSciences Holdings, Inc.   4033642  \n",
       "2                         KLA Corporation   1181894  \n",
       "3                          Ameresco, Inc.  10648267  \n",
       "4                Battery Minerals Limited   3650701  \n",
       "...                                   ...       ...  \n",
       "7490               Arrow Electronics, Inc    922750  \n",
       "7491                             Synertec  10474497  \n",
       "7492                      TE Connectivity   5753097  \n",
       "7493                            OTC_ADDDF  12603054  \n",
       "7494                    Taylor Wimpey plc   7845106  \n",
       "\n",
       "[7495 rows x 4 columns]"
      ],
      "text/html": [
       "<div>\n",
       "<style scoped>\n",
       "    .dataframe tbody tr th:only-of-type {\n",
       "        vertical-align: middle;\n",
       "    }\n",
       "\n",
       "    .dataframe tbody tr th {\n",
       "        vertical-align: top;\n",
       "    }\n",
       "\n",
       "    .dataframe thead th {\n",
       "        text-align: right;\n",
       "    }\n",
       "</style>\n",
       "<table border=\"1\" class=\"dataframe\">\n",
       "  <thead>\n",
       "    <tr style=\"text-align: right;\">\n",
       "      <th></th>\n",
       "      <th>sha1</th>\n",
       "      <th>date</th>\n",
       "      <th>name</th>\n",
       "      <th>size</th>\n",
       "    </tr>\n",
       "  </thead>\n",
       "  <tbody>\n",
       "    <tr>\n",
       "      <th>0</th>\n",
       "      <td>ce9e5024041b2ece2bafa2a9d9516bb174ee8949</td>\n",
       "      <td>2022-10-31</td>\n",
       "      <td>Anixa Biosciences, Inc.</td>\n",
       "      <td>3996701</td>\n",
       "    </tr>\n",
       "    <tr>\n",
       "      <th>1</th>\n",
       "      <td>f71415f9ca0cff70e5fa193616b6197f361130ed</td>\n",
       "      <td>2023-02-21</td>\n",
       "      <td>Maravai LifeSciences Holdings, Inc.</td>\n",
       "      <td>4033642</td>\n",
       "    </tr>\n",
       "    <tr>\n",
       "      <th>2</th>\n",
       "      <td>4a9d2b853e05970776121a810460f0962a18c5a1</td>\n",
       "      <td>2022-XX</td>\n",
       "      <td>KLA Corporation</td>\n",
       "      <td>1181894</td>\n",
       "    </tr>\n",
       "    <tr>\n",
       "      <th>3</th>\n",
       "      <td>f973dd219c534accb0d4e72d8e12f51284d48d10</td>\n",
       "      <td>2023-01-01</td>\n",
       "      <td>Ameresco, Inc.</td>\n",
       "      <td>10648267</td>\n",
       "    </tr>\n",
       "    <tr>\n",
       "      <th>4</th>\n",
       "      <td>4e27f4c3402c657d548760cb3a164b036cefaabb</td>\n",
       "      <td>2022-12-31</td>\n",
       "      <td>Battery Minerals Limited</td>\n",
       "      <td>3650701</td>\n",
       "    </tr>\n",
       "    <tr>\n",
       "      <th>...</th>\n",
       "      <td>...</td>\n",
       "      <td>...</td>\n",
       "      <td>...</td>\n",
       "      <td>...</td>\n",
       "    </tr>\n",
       "    <tr>\n",
       "      <th>7490</th>\n",
       "      <td>a2afcd8165a6dbd0058682680b65d3638a5800eb</td>\n",
       "      <td>2023-02-02</td>\n",
       "      <td>Arrow Electronics, Inc</td>\n",
       "      <td>922750</td>\n",
       "    </tr>\n",
       "    <tr>\n",
       "      <th>7491</th>\n",
       "      <td>215df84494756bd4feebc973657835ef7f14ee16</td>\n",
       "      <td>2022-12-31</td>\n",
       "      <td>Synertec</td>\n",
       "      <td>10474497</td>\n",
       "    </tr>\n",
       "    <tr>\n",
       "      <th>7492</th>\n",
       "      <td>20fb970d8705289e835b408c575351295ac16f5f</td>\n",
       "      <td>2022-09-30</td>\n",
       "      <td>TE Connectivity</td>\n",
       "      <td>5753097</td>\n",
       "    </tr>\n",
       "    <tr>\n",
       "      <th>7493</th>\n",
       "      <td>c7f3a8c0a38c756438950ce3085076adb4241a32</td>\n",
       "      <td>2022-01-01</td>\n",
       "      <td>OTC_ADDDF</td>\n",
       "      <td>12603054</td>\n",
       "    </tr>\n",
       "    <tr>\n",
       "      <th>7494</th>\n",
       "      <td>e26bd02b24e45a09c4b860c4763b542deba6f14a</td>\n",
       "      <td>2022-12-31</td>\n",
       "      <td>Taylor Wimpey plc</td>\n",
       "      <td>7845106</td>\n",
       "    </tr>\n",
       "  </tbody>\n",
       "</table>\n",
       "<p>7495 rows × 4 columns</p>\n",
       "</div>"
      ]
     },
     "execution_count": 3,
     "metadata": {},
     "output_type": "execute_result"
    }
   ],
   "execution_count": 3
  },
  {
   "metadata": {
    "ExecuteTime": {
     "end_time": "2024-09-02T11:50:46.030606Z",
     "start_time": "2024-09-02T11:50:46.008375Z"
    }
   },
   "cell_type": "code",
   "source": [
    "# load all file names in the folder\n",
    "sha1_dict_full = df.set_index(\"sha1\").to_dict()[\"name\"]\n",
    "\n",
    "included_companies = []\n",
    "\n",
    "for file in os.listdir(SAMPLES_PATH):\n",
    "    file = file[:-4]\n",
    "    try:\n",
    "        included_companies.append(sha1_dict_full[file])\n",
    "    except KeyError:\n",
    "        print(file)"
   ],
   "id": "2d83133d4cc076ae",
   "outputs": [
    {
     "name": "stdout",
     "output_type": "stream",
     "text": [
      "questions.\n"
     ]
    }
   ],
   "execution_count": 4
  },
  {
   "metadata": {
    "ExecuteTime": {
     "end_time": "2024-09-02T13:27:31.300269Z",
     "start_time": "2024-09-02T13:27:31.284628Z"
    }
   },
   "cell_type": "code",
   "source": "included_companies",
   "id": "eed227e797331902",
   "outputs": [
    {
     "data": {
      "text/plain": [
       "['Global Medical REIT Inc.',\n",
       " 'Zegona Communications plc',\n",
       " 'Calyxt, Inc.',\n",
       " 'TD SYNNEX',\n",
       " 'Eurocell PLC',\n",
       " 'Sandwell Aquatics Centre',\n",
       " 'Mercurity Fintech Holding Inc.',\n",
       " 'Motus GI Holdings, Inc.',\n",
       " 'Limbach Holdings, Inc.',\n",
       " 'Strike Energy Limited',\n",
       " 'Platform Technology',\n",
       " 'VENUS METALS CORPORATION LIMITED',\n",
       " 'NICE',\n",
       " 'Nykredit',\n",
       " 'Air Products',\n",
       " 'Accuray Incorporated',\n",
       " 'Kooth Plc',\n",
       " 'Ethernity Networks Ltd',\n",
       " 'Canadian Banc Corp.',\n",
       " 'EMT']"
      ]
     },
     "execution_count": 122,
     "metadata": {},
     "output_type": "execute_result"
    }
   ],
   "execution_count": 122
  },
  {
   "metadata": {
    "ExecuteTime": {
     "end_time": "2024-09-02T11:50:47.496572Z",
     "start_time": "2024-09-02T11:50:47.479898Z"
    }
   },
   "cell_type": "code",
   "source": [
    "# Create sample for development\n",
    "# COMPANIES = [\"Ethernity Networks Ltd\", \"Limbach Holdings, Inc.\", \"Accuray Incorporated\"]\n",
    "COMPANIES = included_companies\n",
    "\n",
    "if COMPANIES:\n",
    "    df_sample = df[df.name.isin(COMPANIES)]\n",
    "else:\n",
    "    df_sample = df.copy()\n",
    "    \n",
    "sha1_dict = df_sample.set_index(\"name\").to_dict()[\"sha1\"]"
   ],
   "id": "8f6e3574239a7eba",
   "outputs": [],
   "execution_count": 6
  },
  {
   "metadata": {
    "ExecuteTime": {
     "end_time": "2024-09-02T11:50:49.327816Z",
     "start_time": "2024-09-02T11:50:49.312987Z"
    }
   },
   "cell_type": "code",
   "source": "df_sample",
   "id": "c5950769dc2ca5d1",
   "outputs": [
    {
     "data": {
      "text/plain": [
       "                                          sha1        date  \\\n",
       "267   d81bbc64a4160b9946fea7a895f80e6201f52f27  2022-11-23   \n",
       "981   608c5097dfc6e83505fd2259ad862dcec11a3f96  2022-12-31   \n",
       "1075  3696c1b29566acc1eafc704ee5737fb3ae6f3d1d  2023-01-01   \n",
       "1183  99be213e4e689294ebae809bfa6a1b5024076286  2022-01-01   \n",
       "1324  71b04e0248ecf758990a0ab77bd69344be63bcf4  2023-03-27   \n",
       "1500  6b79f1c1de9d0e39a4576dcd4585849b9465b402  2023-04-05   \n",
       "2633  40b5cfe0d7bbf59e186492bfbe1b5002d44af332  2023-03-01   \n",
       "2838  faf8d7d79152d61279eda1cfb58b8236ce2f82fa  2022-06-30   \n",
       "3270  4b525836a5d7cb75489f6d93a3b1cf2b8f039bf2  2022-10-01   \n",
       "4263  ea0757d27fa67cd347d9f046b939a911f5c9a08d  2022-01-01   \n",
       "5223  9e703e719d94af786af5511c823ff86e9f04c070  2022-01-01   \n",
       "5507  dfb1e552b18e116105d9125d9becafa443950e97  2022-01-01   \n",
       "5801  e51b7204b91cbe7709bd3218e7d2d0c2b8dbb438  2023-01-01   \n",
       "6005  bd5041c3e6909d92a7a88e4fb10dd8651df33228  2022-12-31   \n",
       "6442  58a5f9f5c83159e63602b0b1dd27c27fb945c0e9  2022-01-01   \n",
       "6729  9ff4e041732c9841d5423e6ea0bbd6a0320df9ff  2022-01-01   \n",
       "6859  dd78f748262b8ffa62de6484143ff55b38af24c7  2022-06-30   \n",
       "6915  d734bac4a4815e616d84083ad4d3844655321215  2022-12-31   \n",
       "7245  9ae3bb21564a5098c4b4d6450655c22eff85deae  2022-06-30   \n",
       "7472  053b7cb83115789346e2a9efc7e2e640851653ff  2023-02-24   \n",
       "\n",
       "                                  name      size  \n",
       "267                       Air Products   4889969  \n",
       "981           Sandwell Aquatics Centre   2661906  \n",
       "1075         Zegona Communications plc   1481844  \n",
       "1183            Limbach Holdings, Inc.   2023552  \n",
       "1324           Motus GI Holdings, Inc.   7725729  \n",
       "1500    Mercurity Fintech Holding Inc.   1767320  \n",
       "2633                      Calyxt, Inc.    694201  \n",
       "2838                               EMT   1360293  \n",
       "3270                         TD SYNNEX   1902884  \n",
       "4263               Canadian Banc Corp.    498408  \n",
       "5223               Platform Technology   5538800  \n",
       "5507                         Kooth Plc   7290070  \n",
       "5801            Ethernity Networks Ltd   1180978  \n",
       "6005                              NICE   2327149  \n",
       "6442                      Eurocell PLC   6725760  \n",
       "6729  VENUS METALS CORPORATION LIMITED  10424234  \n",
       "6859              Accuray Incorporated   3317389  \n",
       "6915                          Nykredit   7217011  \n",
       "7245             Strike Energy Limited  21906556  \n",
       "7472          Global Medical REIT Inc.   7559733  "
      ],
      "text/html": [
       "<div>\n",
       "<style scoped>\n",
       "    .dataframe tbody tr th:only-of-type {\n",
       "        vertical-align: middle;\n",
       "    }\n",
       "\n",
       "    .dataframe tbody tr th {\n",
       "        vertical-align: top;\n",
       "    }\n",
       "\n",
       "    .dataframe thead th {\n",
       "        text-align: right;\n",
       "    }\n",
       "</style>\n",
       "<table border=\"1\" class=\"dataframe\">\n",
       "  <thead>\n",
       "    <tr style=\"text-align: right;\">\n",
       "      <th></th>\n",
       "      <th>sha1</th>\n",
       "      <th>date</th>\n",
       "      <th>name</th>\n",
       "      <th>size</th>\n",
       "    </tr>\n",
       "  </thead>\n",
       "  <tbody>\n",
       "    <tr>\n",
       "      <th>267</th>\n",
       "      <td>d81bbc64a4160b9946fea7a895f80e6201f52f27</td>\n",
       "      <td>2022-11-23</td>\n",
       "      <td>Air Products</td>\n",
       "      <td>4889969</td>\n",
       "    </tr>\n",
       "    <tr>\n",
       "      <th>981</th>\n",
       "      <td>608c5097dfc6e83505fd2259ad862dcec11a3f96</td>\n",
       "      <td>2022-12-31</td>\n",
       "      <td>Sandwell Aquatics Centre</td>\n",
       "      <td>2661906</td>\n",
       "    </tr>\n",
       "    <tr>\n",
       "      <th>1075</th>\n",
       "      <td>3696c1b29566acc1eafc704ee5737fb3ae6f3d1d</td>\n",
       "      <td>2023-01-01</td>\n",
       "      <td>Zegona Communications plc</td>\n",
       "      <td>1481844</td>\n",
       "    </tr>\n",
       "    <tr>\n",
       "      <th>1183</th>\n",
       "      <td>99be213e4e689294ebae809bfa6a1b5024076286</td>\n",
       "      <td>2022-01-01</td>\n",
       "      <td>Limbach Holdings, Inc.</td>\n",
       "      <td>2023552</td>\n",
       "    </tr>\n",
       "    <tr>\n",
       "      <th>1324</th>\n",
       "      <td>71b04e0248ecf758990a0ab77bd69344be63bcf4</td>\n",
       "      <td>2023-03-27</td>\n",
       "      <td>Motus GI Holdings, Inc.</td>\n",
       "      <td>7725729</td>\n",
       "    </tr>\n",
       "    <tr>\n",
       "      <th>1500</th>\n",
       "      <td>6b79f1c1de9d0e39a4576dcd4585849b9465b402</td>\n",
       "      <td>2023-04-05</td>\n",
       "      <td>Mercurity Fintech Holding Inc.</td>\n",
       "      <td>1767320</td>\n",
       "    </tr>\n",
       "    <tr>\n",
       "      <th>2633</th>\n",
       "      <td>40b5cfe0d7bbf59e186492bfbe1b5002d44af332</td>\n",
       "      <td>2023-03-01</td>\n",
       "      <td>Calyxt, Inc.</td>\n",
       "      <td>694201</td>\n",
       "    </tr>\n",
       "    <tr>\n",
       "      <th>2838</th>\n",
       "      <td>faf8d7d79152d61279eda1cfb58b8236ce2f82fa</td>\n",
       "      <td>2022-06-30</td>\n",
       "      <td>EMT</td>\n",
       "      <td>1360293</td>\n",
       "    </tr>\n",
       "    <tr>\n",
       "      <th>3270</th>\n",
       "      <td>4b525836a5d7cb75489f6d93a3b1cf2b8f039bf2</td>\n",
       "      <td>2022-10-01</td>\n",
       "      <td>TD SYNNEX</td>\n",
       "      <td>1902884</td>\n",
       "    </tr>\n",
       "    <tr>\n",
       "      <th>4263</th>\n",
       "      <td>ea0757d27fa67cd347d9f046b939a911f5c9a08d</td>\n",
       "      <td>2022-01-01</td>\n",
       "      <td>Canadian Banc Corp.</td>\n",
       "      <td>498408</td>\n",
       "    </tr>\n",
       "    <tr>\n",
       "      <th>5223</th>\n",
       "      <td>9e703e719d94af786af5511c823ff86e9f04c070</td>\n",
       "      <td>2022-01-01</td>\n",
       "      <td>Platform Technology</td>\n",
       "      <td>5538800</td>\n",
       "    </tr>\n",
       "    <tr>\n",
       "      <th>5507</th>\n",
       "      <td>dfb1e552b18e116105d9125d9becafa443950e97</td>\n",
       "      <td>2022-01-01</td>\n",
       "      <td>Kooth Plc</td>\n",
       "      <td>7290070</td>\n",
       "    </tr>\n",
       "    <tr>\n",
       "      <th>5801</th>\n",
       "      <td>e51b7204b91cbe7709bd3218e7d2d0c2b8dbb438</td>\n",
       "      <td>2023-01-01</td>\n",
       "      <td>Ethernity Networks Ltd</td>\n",
       "      <td>1180978</td>\n",
       "    </tr>\n",
       "    <tr>\n",
       "      <th>6005</th>\n",
       "      <td>bd5041c3e6909d92a7a88e4fb10dd8651df33228</td>\n",
       "      <td>2022-12-31</td>\n",
       "      <td>NICE</td>\n",
       "      <td>2327149</td>\n",
       "    </tr>\n",
       "    <tr>\n",
       "      <th>6442</th>\n",
       "      <td>58a5f9f5c83159e63602b0b1dd27c27fb945c0e9</td>\n",
       "      <td>2022-01-01</td>\n",
       "      <td>Eurocell PLC</td>\n",
       "      <td>6725760</td>\n",
       "    </tr>\n",
       "    <tr>\n",
       "      <th>6729</th>\n",
       "      <td>9ff4e041732c9841d5423e6ea0bbd6a0320df9ff</td>\n",
       "      <td>2022-01-01</td>\n",
       "      <td>VENUS METALS CORPORATION LIMITED</td>\n",
       "      <td>10424234</td>\n",
       "    </tr>\n",
       "    <tr>\n",
       "      <th>6859</th>\n",
       "      <td>dd78f748262b8ffa62de6484143ff55b38af24c7</td>\n",
       "      <td>2022-06-30</td>\n",
       "      <td>Accuray Incorporated</td>\n",
       "      <td>3317389</td>\n",
       "    </tr>\n",
       "    <tr>\n",
       "      <th>6915</th>\n",
       "      <td>d734bac4a4815e616d84083ad4d3844655321215</td>\n",
       "      <td>2022-12-31</td>\n",
       "      <td>Nykredit</td>\n",
       "      <td>7217011</td>\n",
       "    </tr>\n",
       "    <tr>\n",
       "      <th>7245</th>\n",
       "      <td>9ae3bb21564a5098c4b4d6450655c22eff85deae</td>\n",
       "      <td>2022-06-30</td>\n",
       "      <td>Strike Energy Limited</td>\n",
       "      <td>21906556</td>\n",
       "    </tr>\n",
       "    <tr>\n",
       "      <th>7472</th>\n",
       "      <td>053b7cb83115789346e2a9efc7e2e640851653ff</td>\n",
       "      <td>2023-02-24</td>\n",
       "      <td>Global Medical REIT Inc.</td>\n",
       "      <td>7559733</td>\n",
       "    </tr>\n",
       "  </tbody>\n",
       "</table>\n",
       "</div>"
      ]
     },
     "execution_count": 7,
     "metadata": {},
     "output_type": "execute_result"
    }
   ],
   "execution_count": 7
  },
  {
   "metadata": {},
   "cell_type": "markdown",
   "source": [
    "## Get company name from user query\n",
    "\n",
    "TODO could be more sophisticated"
   ],
   "id": "ca2440fc5b817345"
  },
  {
   "metadata": {
    "ExecuteTime": {
     "end_time": "2024-08-29T16:25:29.086264Z",
     "start_time": "2024-08-29T16:25:29.070200Z"
    }
   },
   "cell_type": "code",
   "source": [
    "import re\n",
    "from fuzzywuzzy import fuzz\n",
    "\n",
    "def normalize_name(name):\n",
    "    # Normalize by removing extra spaces and converting to lowercase\n",
    "    return re.sub(r'\\s+', ' ', name.strip().lower())\n",
    "\n",
    "def fuzzy_match(companies, input_string, threshold=85):\n",
    "    matched_companies = []\n",
    "    norm_input = normalize_name(input_string)\n",
    "    \n",
    "    for company in companies:\n",
    "        norm_company = normalize_name(company)\n",
    "        prev_token = \"\"\n",
    "        \n",
    "        # Fuzzy match each token\n",
    "        for curr_token in norm_input.split():\n",
    "            token = prev_token + \" \" + curr_token\n",
    "            \n",
    "            match_score = fuzz.ratio(norm_company, token)\n",
    "            prev_token = curr_token\n",
    "            \n",
    "            if match_score >= threshold:\n",
    "                matched_companies.append(company)\n",
    "                break  # Stop once a match is found for this company\n",
    "            \n",
    "    return matched_companies\n",
    "\n",
    "\n",
    "def find_exact_matches(companies, input_string):\n",
    "    # normalized_input = normalize_name(input_string)\n",
    "    \n",
    "    matched_companies = []\n",
    "    \n",
    "    for company in companies:\n",
    "        if company in input_string:\n",
    "            matched_companies.append(company)\n",
    "    \n",
    "    return matched_companies\n",
    "\n",
    "\n",
    "def find_companies(input_string):\n",
    "    # Wrapper to use later and allow easy function change\n",
    "    return find_exact_matches(df.name, input_string)\n",
    "\n",
    "\n",
    "input_string = (\"limbach holding inc and ethernity networks buys the accuracy incorporated, ESEA, Five9, Inc.\")\n",
    "\n",
    "matches = find_exact_matches(df.name, input_string)\n",
    "print(matches)"
   ],
   "id": "99709072b0e51f37",
   "outputs": [
    {
     "name": "stdout",
     "output_type": "stream",
     "text": [
      "['EA', 'ESEA', 'Five9, Inc.']\n"
     ]
    },
    {
     "name": "stderr",
     "output_type": "stream",
     "text": [
      "C:\\Users\\felix.krause\\code\\trustbit\\llm_experiments\\venv\\lib\\site-packages\\fuzzywuzzy\\fuzz.py:11: UserWarning: Using slow pure-python SequenceMatcher. Install python-Levenshtein to remove this warning\n",
      "  warnings.warn('Using slow pure-python SequenceMatcher. Install python-Levenshtein to remove this warning')\n"
     ]
    }
   ],
   "execution_count": 10
  },
  {
   "metadata": {},
   "cell_type": "markdown",
   "source": "## Load LLM data",
   "id": "bf301d66795e2b42"
  },
  {
   "cell_type": "code",
   "source": [
    "from llama_parse import LlamaParse\n",
    "\n",
    "parser = LlamaParse(\n",
    "    result_type=\"markdown\",  # \"markdown\" and \"text\" are available\n",
    "    verbose=True\n",
    ")\n",
    "\n",
    "# Function to load text from different file types\n",
    "def load_text_from_file(file_path):\n",
    "    _, file_extension = os.path.splitext(file_path)\n",
    "    text = \"\"\n",
    "    \n",
    "    if file_extension == \".pdf\":\n",
    "        # TODO https://www.reddit.com/r/LangChain/comments/18yxacm/extracting_data_from_pdf_containing_complex_tables/\n",
    "        with open(file_path, 'rb') as f:\n",
    "            reader = PyPDF2.PdfReader(f, strict=False)\n",
    "            for page in reader.pages:\n",
    "                text += page.extract_text() + \"\\n\"\n",
    "    else:\n",
    "        pass\n",
    "    \n",
    "    return text\n",
    "\n",
    "\n",
    "# Function to load documents from a folder\n",
    "def load_documents_from_folder(folder_path, companies=[]):\n",
    "    documents = []\n",
    "    for root, _, files in os.walk(folder_path):\n",
    "        for file in files:\n",
    "            if file[:-4] in companies: #or len(companies) == 0:\n",
    "                print(\"Loading\", file)\n",
    "                file_path = os.path.join(root, file)\n",
    "\n",
    "                text = load_text_from_file(file_path)\n",
    "                if text:\n",
    "                    documents.append(Document(page_content=text, metadata={\"source\": file_path}))\n",
    "    return documents"
   ],
   "metadata": {
    "collapsed": false,
    "ExecuteTime": {
     "end_time": "2024-09-02T14:11:51.774135Z",
     "start_time": "2024-09-02T14:11:51.751285Z"
    }
   },
   "id": "a78b2e35a4794cc2",
   "outputs": [],
   "execution_count": 162
  },
  {
   "metadata": {
    "ExecuteTime": {
     "end_time": "2024-08-29T16:25:32.831444Z",
     "start_time": "2024-08-29T16:25:32.815894Z"
    }
   },
   "cell_type": "code",
   "source": [
    "# Could try LLama approach\n",
    "# TODO https://medium.com/the-ai-forum/rag-on-complex-pdf-using-llamaparse-langchain-and-groq-5b132bd1f9f3\n",
    "# doc = parser.load_data(os.path.join(FOLDER_PATH, \"e51b7204b91cbe7709bd3218e7d2d0c2b8dbb438.pdf\"))\n",
    "# index = VectorStoreIndex.from_documents(doc)"
   ],
   "id": "9cb153b0cfd5cbee",
   "outputs": [],
   "execution_count": 12
  },
  {
   "metadata": {},
   "cell_type": "markdown",
   "source": "## Try to detect tables from pdf",
   "id": "f51ab4663aeeda70"
  },
  {
   "metadata": {
    "ExecuteTime": {
     "end_time": "2024-08-29T13:37:18.895314Z",
     "start_time": "2024-08-29T13:35:57.735226Z"
    }
   },
   "cell_type": "code",
   "source": [
    "\"\"\"\n",
    "import camelot\n",
    "\n",
    "# Extract tables from a PDF file\n",
    "tables = camelot.read_pdf(os.path.join(FOLDER_PATH, \"e51b7204b91cbe7709bd3218e7d2d0c2b8dbb438.pdf\"), pages=\"all\")\n",
    "\n",
    "# Convert the first table to a DataFrame\n",
    "df = tables[0].df\n",
    "\n",
    "# Save the DataFrame as a CSV file\n",
    "tables[0]\n",
    "\"\"\""
   ],
   "id": "f1456a9650d4528f",
   "outputs": [
    {
     "name": "stderr",
     "output_type": "stream",
     "text": [
      "C:\\Users\\felix.krause\\code\\trustbit\\llm_experiments\\venv\\lib\\site-packages\\camelot\\parsers\\lattice.py:397: UserWarning: No tables found on page-2\n",
      "  warnings.warn(\n",
      "C:\\Users\\felix.krause\\code\\trustbit\\llm_experiments\\venv\\lib\\site-packages\\camelot\\parsers\\lattice.py:397: UserWarning: No tables found on page-79\n",
      "  warnings.warn(\n"
     ]
    },
    {
     "data": {
      "text/plain": [
       "<Table shape=(1, 1)>"
      ]
     },
     "execution_count": 8,
     "metadata": {},
     "output_type": "execute_result"
    }
   ],
   "execution_count": 8
  },
  {
   "metadata": {
    "ExecuteTime": {
     "end_time": "2024-08-29T14:00:53.324190Z",
     "start_time": "2024-08-29T14:00:53.316417Z"
    }
   },
   "cell_type": "code",
   "source": "# tables[40].df",
   "id": "12bdfc9101258f90",
   "outputs": [
    {
     "data": {
      "text/plain": [
       "                                        0 1  \\\n",
       "0  STRATEGIC REPORT\\nCORPORATE GOVERNANCE     \n",
       "\n",
       "                                            2       3  \n",
       "0  FINANCIAL STATEMENTS\\nFINANCIAL STATEMENTS  73\\n73  "
      ],
      "text/html": [
       "<div>\n",
       "<style scoped>\n",
       "    .dataframe tbody tr th:only-of-type {\n",
       "        vertical-align: middle;\n",
       "    }\n",
       "\n",
       "    .dataframe tbody tr th {\n",
       "        vertical-align: top;\n",
       "    }\n",
       "\n",
       "    .dataframe thead th {\n",
       "        text-align: right;\n",
       "    }\n",
       "</style>\n",
       "<table border=\"1\" class=\"dataframe\">\n",
       "  <thead>\n",
       "    <tr style=\"text-align: right;\">\n",
       "      <th></th>\n",
       "      <th>0</th>\n",
       "      <th>1</th>\n",
       "      <th>2</th>\n",
       "      <th>3</th>\n",
       "    </tr>\n",
       "  </thead>\n",
       "  <tbody>\n",
       "    <tr>\n",
       "      <th>0</th>\n",
       "      <td>STRATEGIC REPORT\\nCORPORATE GOVERNANCE</td>\n",
       "      <td></td>\n",
       "      <td>FINANCIAL STATEMENTS\\nFINANCIAL STATEMENTS</td>\n",
       "      <td>73\\n73</td>\n",
       "    </tr>\n",
       "  </tbody>\n",
       "</table>\n",
       "</div>"
      ]
     },
     "execution_count": 47,
     "metadata": {},
     "output_type": "execute_result"
    }
   ],
   "execution_count": 47
  },
  {
   "metadata": {},
   "cell_type": "markdown",
   "source": "## Build retriever per company",
   "id": "695aebfba71c14c4"
  },
  {
   "metadata": {
    "ExecuteTime": {
     "end_time": "2024-09-02T14:11:57.120184Z",
     "start_time": "2024-09-02T14:11:57.099109Z"
    }
   },
   "cell_type": "code",
   "source": [
    "def get_store_name(string):\n",
    "    string = string.lower()\n",
    "    return string.replace(\" \", \"_\").replace(\",\", \"\").replace(\".\", \"\").replace(\"'\", \"\")"
   ],
   "id": "f52dd0fd4a43609b",
   "outputs": [],
   "execution_count": 163
  },
  {
   "metadata": {
    "ExecuteTime": {
     "end_time": "2024-09-02T11:55:23.964088Z",
     "start_time": "2024-09-02T11:51:17.344513Z"
    }
   },
   "cell_type": "code",
   "source": [
    "# WARNING: This will build all retrievers for all companies in the sample\n",
    "text_splitter = RecursiveCharacterTextSplitter(chunk_size=3000, chunk_overlap=300, separators=[\"\\n\\n\", \"\\n\"]) # TODO more sophisticated\n",
    "\n",
    "for company in df_sample.name.to_list():\n",
    "    # check if file already exists\n",
    "    if os.path.exists(f\"dbs/{get_store_name(company)}.db\"):\n",
    "        print(\"Skipping\", company)\n",
    "        continue\n",
    "    \n",
    "    try:\n",
    "        company_docs = load_documents_from_folder(SAMPLES_PATH, [sha1_dict[company]])\n",
    "        \n",
    "        if not company_docs:\n",
    "            raise ValueError(f\"No documents found for company: {company}\")\n",
    "        \n",
    "        texts = text_splitter.split_documents(company_docs)\n",
    "        embeddings = OpenAIEmbeddings()\n",
    "        db = FAISS.from_documents(texts, embeddings)\n",
    "        \n",
    "        with open(f\"dbs/{get_store_name(company)}.db\", \"wb\") as f:\n",
    "            pickle.dump(db.serialize_to_bytes(), f)\n",
    "    except Exception as e:\n",
    "        print(f\"Error for company {company}: {e}\")\n",
    "        # raise e"
   ],
   "id": "6e7385617622991b",
   "outputs": [
    {
     "name": "stdout",
     "output_type": "stream",
     "text": [
      "Loading d81bbc64a4160b9946fea7a895f80e6201f52f27.pdf\n",
      "Loading 608c5097dfc6e83505fd2259ad862dcec11a3f96.pdf\n",
      "Loading 3696c1b29566acc1eafc704ee5737fb3ae6f3d1d.pdf\n"
     ]
    },
    {
     "name": "stderr",
     "output_type": "stream",
     "text": [
      "FloatObject (b'0.00-40') invalid; use 0.0 instead\n",
      "FloatObject (b'0.00-40') invalid; use 0.0 instead\n",
      "FloatObject (b'0.00-40') invalid; use 0.0 instead\n",
      "FloatObject (b'0.00-40') invalid; use 0.0 instead\n",
      "FloatObject (b'0.00-40') invalid; use 0.0 instead\n",
      "FloatObject (b'0.00-40') invalid; use 0.0 instead\n",
      "FloatObject (b'0.00-40') invalid; use 0.0 instead\n",
      "FloatObject (b'0.00-40') invalid; use 0.0 instead\n",
      "FloatObject (b'0.00-40') invalid; use 0.0 instead\n",
      "FloatObject (b'0.00-40') invalid; use 0.0 instead\n",
      "FloatObject (b'0.00-40') invalid; use 0.0 instead\n",
      "FloatObject (b'0.00-40') invalid; use 0.0 instead\n"
     ]
    },
    {
     "name": "stdout",
     "output_type": "stream",
     "text": [
      "Loading 99be213e4e689294ebae809bfa6a1b5024076286.pdf\n"
     ]
    },
    {
     "name": "stderr",
     "output_type": "stream",
     "text": [
      "FloatObject (b'0.00-40') invalid; use 0.0 instead\n",
      "FloatObject (b'0.00-40') invalid; use 0.0 instead\n",
      "FloatObject (b'0.00-40') invalid; use 0.0 instead\n",
      "FloatObject (b'0.00-40') invalid; use 0.0 instead\n",
      "FloatObject (b'0.00-40') invalid; use 0.0 instead\n",
      "FloatObject (b'0.00-40') invalid; use 0.0 instead\n",
      "FloatObject (b'0.00-40') invalid; use 0.0 instead\n",
      "FloatObject (b'0.00-40') invalid; use 0.0 instead\n"
     ]
    },
    {
     "name": "stdout",
     "output_type": "stream",
     "text": [
      "Loading 71b04e0248ecf758990a0ab77bd69344be63bcf4.pdf\n",
      "Loading 6b79f1c1de9d0e39a4576dcd4585849b9465b402.pdf\n",
      "Loading 40b5cfe0d7bbf59e186492bfbe1b5002d44af332.pdf\n",
      "Loading faf8d7d79152d61279eda1cfb58b8236ce2f82fa.pdf\n",
      "Loading 4b525836a5d7cb75489f6d93a3b1cf2b8f039bf2.pdf\n",
      "Loading ea0757d27fa67cd347d9f046b939a911f5c9a08d.pdf\n",
      "Loading 9e703e719d94af786af5511c823ff86e9f04c070.pdf\n",
      "Loading dfb1e552b18e116105d9125d9becafa443950e97.pdf\n",
      "Loading e51b7204b91cbe7709bd3218e7d2d0c2b8dbb438.pdf\n",
      "Loading bd5041c3e6909d92a7a88e4fb10dd8651df33228.pdf\n",
      "Loading 58a5f9f5c83159e63602b0b1dd27c27fb945c0e9.pdf\n",
      "Loading 9ff4e041732c9841d5423e6ea0bbd6a0320df9ff.pdf\n",
      "Loading dd78f748262b8ffa62de6484143ff55b38af24c7.pdf\n",
      "Loading d734bac4a4815e616d84083ad4d3844655321215.pdf\n",
      "Loading 9ae3bb21564a5098c4b4d6450655c22eff85deae.pdf\n",
      "Loading 053b7cb83115789346e2a9efc7e2e640851653ff.pdf\n"
     ]
    }
   ],
   "execution_count": 12
  },
  {
   "metadata": {
    "ExecuteTime": {
     "end_time": "2024-09-02T14:11:59.719309Z",
     "start_time": "2024-09-02T14:11:59.703801Z"
    }
   },
   "cell_type": "code",
   "source": [
    "def get_retriever_dict(companies):\n",
    "    retriever_dict = {}\n",
    "    \n",
    "    for company in companies:\n",
    "        with open(f\"dbs/{get_store_name(company)}.db\", \"rb\") as f:\n",
    "            db_bytes = pickle.load(f)\n",
    "        \n",
    "        db_temp = FAISS.deserialize_from_bytes(db_bytes, OpenAIEmbeddings(),\n",
    "                                      allow_dangerous_deserialization=True)\n",
    "        \n",
    "        retriever_dict[company] = db_temp.as_retriever()\n",
    "    \n",
    "    return retriever_dict"
   ],
   "id": "2eea77c787b966e6",
   "outputs": [],
   "execution_count": 164
  },
  {
   "metadata": {
    "ExecuteTime": {
     "end_time": "2024-09-02T14:12:00.412164Z",
     "start_time": "2024-09-02T14:11:59.925266Z"
    }
   },
   "cell_type": "code",
   "source": "retriever_dict = get_retriever_dict(df_sample.name.to_list())",
   "id": "4fcc78bbd52d9ac8",
   "outputs": [],
   "execution_count": 165
  },
  {
   "metadata": {
    "ExecuteTime": {
     "end_time": "2024-09-02T14:12:01.771577Z",
     "start_time": "2024-09-02T14:12:01.755940Z"
    }
   },
   "cell_type": "code",
   "source": [
    "def get_context(query, company):\n",
    "    # TODO add sophisticated retriever for tables?\n",
    "    return retriever_dict[company].get_relevant_documents(query)"
   ],
   "id": "c12759f74d642592",
   "outputs": [],
   "execution_count": 166
  },
  {
   "metadata": {},
   "cell_type": "markdown",
   "source": "## Structured inference",
   "id": "3d6da0d2a417ed12"
  },
  {
   "cell_type": "code",
   "source": [
    "# MODEL = \"gpt-4o-mini-2024-07-18\"\n",
    "MODEL = \"gpt-4o-2024-08-06\"\n",
    "\n",
    "# load system prompt from .md\n",
    "with open(\"instructions/answer_guidelines.md\") as f:\n",
    "    ANSWER_GUIDELINES = f.read()\n",
    "    \n",
    "with open(\"instructions/fin_info.md\") as f:\n",
    "    FIN_INFO = f.read()\n",
    "\n",
    "\n",
    "system_prompt = f\"\"\"\n",
    "You are an intelligent assistant tasked with retrieving and analyzing company data to answer specific questions based on the provided CONTEXT.\n",
    "\n",
    "Your Objectives:\n",
    "    - Chain of Thought: Document your reasoning process in 'chain_of_thought', including all intermediary steps. If your analysis involves calculations (e.g., ratios), explicitly state the numerator and denominator.\n",
    "    - Handling Temporal Data: If the temporal scope of the data isn't an exact match (e.g., full-year data instead of Q4), use the most relevant available data to formulate your response. If specific quarterly data is requested but only full-year data is available, still provide an answer based on the available information, ensuring the CONTEXT contains sufficient relevant data.\n",
    "    - Final Answer: Based on your reasoning, provide a final answer in 'answer' that strictly adheres to the guidelines outlined in. Accuracy and format compliance are crucial: \\n {ANSWER_GUIDELINES} \\n\n",
    "\n",
    "Format:\n",
    "    - chain_of_thought: Your reasoning process, including intermediary steps\n",
    "    - answer: Your final answer following the answer guidelines\n",
    "\n",
    "CONTEXT: \n",
    "<CONTEXT>\n",
    "\"\"\"\n",
    "   \n",
    "# f\"Your primary task is to accurately identify and extract specific financial metrics, ratios, and counts, even when synonymous \"\n",
    "# f\"or contextually similar terms are used. Here is some useful information about these: \\n {FIN_INFO}\""
   ],
   "metadata": {
    "collapsed": false,
    "ExecuteTime": {
     "end_time": "2024-09-02T14:29:59.720443Z",
     "start_time": "2024-09-02T14:29:59.710442Z"
    }
   },
   "id": "5839c1c42cf2a1cd",
   "outputs": [],
   "execution_count": 176
  },
  {
   "metadata": {
    "ExecuteTime": {
     "end_time": "2024-09-02T14:12:04.126878Z",
     "start_time": "2024-09-02T14:12:04.096210Z"
    }
   },
   "cell_type": "code",
   "source": [
    "from pydantic import BaseModel\n",
    "from openai import OpenAI\n",
    "\n",
    "client = OpenAI()\n",
    "\n",
    "class AnswerEvent(BaseModel):\n",
    "    chain_of_thought: str\n",
    "    answer: int | float | str\n",
    "\n",
    "\n",
    "def ask_company_expert(query, company):\n",
    "    print(\"### ASKING COMPANY EXPERT:\", company)\n",
    "    context = get_context(query, company)\n",
    "    completion = client.beta.chat.completions.parse(\n",
    "        model=MODEL,\n",
    "        messages=[\n",
    "            {\"role\": \"system\", \"content\": system_prompt.replace(\"<CONTEXT>\", str(context))},\n",
    "            {\"role\": \"user\", \"content\": query},\n",
    "        ],\n",
    "        response_format=AnswerEvent,\n",
    "    )\n",
    "    \n",
    "    return completion.choices[0].message.parsed"
   ],
   "id": "f37aecc08c73bdb1",
   "outputs": [],
   "execution_count": 168
  },
  {
   "metadata": {
    "ExecuteTime": {
     "end_time": "2024-09-02T13:00:24.698576Z",
     "start_time": "2024-09-02T13:00:21.244397Z"
    }
   },
   "cell_type": "code",
   "source": "ask_company_expert(\"How many assets does 'Accuray Incorporated' have in 2022 in dollars?\", \"Accuray Incorporated\")  # 472849000",
   "id": "103c61fa8d8d5013",
   "outputs": [
    {
     "name": "stdout",
     "output_type": "stream",
     "text": [
      "### ASKING COMPANY EXPERT: Accuray Incorporated\n"
     ]
    },
    {
     "data": {
      "text/plain": [
       "AnswerEvent(chain_of_thought=\"The document provides summarized balance sheet data for a joint venture (JV) as of March 31, 2022, and March 31, 2021. However, this data is specific to the JV and not Accuray Incorporated itself. The document lists 'Total liabilities and stockholders’ equity' as $472,849 for Accuray as of June 30, 2022. Typically, this total includes both total liabilities and total stockholders' equity, which together reflect the total assets of a company. Therefore, the total assets for Accuray Incorporated in 2022 should be the same as the total liabilities and stockholders’ equity, which is $472,849,000.\", answer=472849000)"
      ]
     },
     "execution_count": 104,
     "metadata": {},
     "output_type": "execute_result"
    }
   ],
   "execution_count": 104
  },
  {
   "metadata": {
    "ExecuteTime": {
     "end_time": "2024-08-29T12:55:36.485954Z",
     "start_time": "2024-08-29T12:55:33.459475Z"
    }
   },
   "cell_type": "code",
   "source": "ask_company_expert(\"How many assets does 'Ethernity Networks Ltd' have in 2022 in dollars?\", \"Ethernity Networks Ltd\")",
   "id": "907a2e8870981b26",
   "outputs": [
    {
     "name": "stdout",
     "output_type": "stream",
     "text": [
      "['Ethernity Networks Ltd']\n"
     ]
    },
    {
     "data": {
      "text/plain": [
       "AnswerEvent(chain_of_thought='The provided context does not contain specific information regarding the total assets of Ethernity Networks Ltd for the year 2022. Therefore, I cannot provide an answer as the necessary data is absent.', answer='n/a')"
      ]
     },
     "execution_count": 96,
     "metadata": {},
     "output_type": "execute_result"
    }
   ],
   "execution_count": 96
  },
  {
   "metadata": {
    "ExecuteTime": {
     "end_time": "2024-09-02T13:00:37.621900Z",
     "start_time": "2024-09-02T13:00:34.948569Z"
    }
   },
   "cell_type": "code",
   "source": "ask_company_expert(\"What are the total R&D expenses of 'Ethernity Networks Ltd' in 2021?\", \"Ethernity Networks Ltd\")",
   "id": "537e14d8c3d459b6",
   "outputs": [
    {
     "name": "stdout",
     "output_type": "stream",
     "text": [
      "### ASKING COMPANY EXPERT: Ethernity Networks Ltd\n"
     ]
    },
    {
     "data": {
      "text/plain": [
       "AnswerEvent(chain_of_thought='The provided context does not contain specific figures or data detailing the research and development (R&D) expenses for Ethernity Networks Ltd for the year 2021. Without this information, I cannot accurately determine the R&D expenses for 2021.', answer='n/a')"
      ]
     },
     "execution_count": 105,
     "metadata": {},
     "output_type": "execute_result"
    }
   ],
   "execution_count": 105
  },
  {
   "metadata": {},
   "cell_type": "markdown",
   "source": "## Multiple agents",
   "id": "f0ee597ead17d621"
  },
  {
   "metadata": {
    "ExecuteTime": {
     "end_time": "2024-09-02T14:30:01.589870Z",
     "start_time": "2024-09-02T14:30:01.582867Z"
    }
   },
   "cell_type": "code",
   "source": [
    "# DELEGATION MANAGER\n",
    "\n",
    "INVOLVED_COMPANIES = df_sample.name.to_list()\n",
    "\n",
    "system_prompt_delegation = f\"\"\"\n",
    "You will receive queries related to one or more companies. You have access to specialized agents capable of retrieving data for each specific company. To delegate tasks to these agents, follow these guidelines:\n",
    "\n",
    "    1. Identify Companies: Extract the exact company names from the query and list them under 'companies'. Ensure that the company names match exactly with those provided in {INVOLVED_COMPANIES}. If the query mentions companies that are not in this list, enter 'SKIP' for both 'companies' and 'queries', and note this in the 'chain_of_thought'. If the company name in the query is incomplete (e.g., missing 'Inc.', 'Ltd.'), attempt to match it with the correct company name from the list.\n",
    "\n",
    "    2. Formulate Queries: \n",
    "        - For each company identified, create a precise query that the specialized agents can use to retrieve the required information. \n",
    "        - List these queries under 'queries'. \n",
    "        - Add some information on where in annual company reports the specialized agents can usually find the information. \n",
    "        - If the query involves ratios, comparisons, or requires multiple metrics, suggest how the specialized agents should approach the problem to ensure accurate results. For instance, if calculating a ratio, indicate which metrics to retrieve and compare.\n",
    "        - If using abbreviations also mention the full phrase or name ((e.g., for 'R&D' also use 'research and development').\n",
    "        - If the query asks specifically for a quarterly data, also ask to provide the best available data if only full-year data is available. Be transparent about it in the 'chain_of_thought'.\n",
    "    \n",
    "    4. Chain of Thought: Provide a 'chain_of_thought' explaining how you identified the companies, formulated the queries, and any assumptions or steps taken to reach your final output. If you marked any queries as 'SKIP', explain why.\n",
    "\"\"\"\n",
    "\n",
    "\n",
    "class DelegationRequest(BaseModel):\n",
    "    chain_of_thought: str\n",
    "    companies: list[str]\n",
    "    queries: list[str]\n",
    "\n",
    "\n",
    "def ask_delegation_manager(query):    \n",
    "    print(\"### ASKING DELEGATION MANAGER: \")\n",
    "    completion = client.beta.chat.completions.parse(\n",
    "        model=MODEL,\n",
    "        messages=[\n",
    "            {\"role\": \"system\", \"content\": system_prompt_delegation},\n",
    "            {\"role\": \"user\", \"content\": query},\n",
    "        ],\n",
    "        response_format=DelegationRequest,\n",
    "    )\n",
    "    \n",
    "    return completion.choices[0].message.parsed"
   ],
   "id": "556851a9b2e0d530",
   "outputs": [],
   "execution_count": 177
  },
  {
   "metadata": {
    "ExecuteTime": {
     "end_time": "2024-09-02T12:28:19.038772Z",
     "start_time": "2024-09-02T12:28:17.048121Z"
    }
   },
   "cell_type": "code",
   "source": "ask_delegation_manager(\"Has 'Ethernity Networks Ltd' more liabilities than 'Accuray Incorporated' in 2022?\")",
   "id": "f0066ed0c2eead25",
   "outputs": [
    {
     "name": "stdout",
     "output_type": "stream",
     "text": [
      "### ASKING DELEGATION MANAGER: \n"
     ]
    },
    {
     "data": {
      "text/plain": [
       "DelegationRequest(chain_of_thought=\"In this query, I identified two companies: 'Ethernity Networks Ltd' and 'Accuray Incorporated'. Both of these companies are part of the provided list, allowing me to formulate specific queries for retrieving the necessary financial data. The query asks for a comparison of liabilities for the year 2022, which requires extracting total liabilities from the annual reports for both companies. I will retrieve the total liabilities for both companies from their 2022 reports to facilitate this comparison.\", companies=['Ethernity Networks Ltd', 'Accuray Incorporated'], queries=['Retrieve total liabilities for Ethernity Networks Ltd from the 2022 annual report, typically found in the balance sheet section.', 'Retrieve total liabilities for Accuray Incorporated from the 2022 annual report, typically found in the balance sheet section.'])"
      ]
     },
     "execution_count": 62,
     "metadata": {},
     "output_type": "execute_result"
    }
   ],
   "execution_count": 62
  },
  {
   "metadata": {
    "ExecuteTime": {
     "end_time": "2024-09-02T12:12:32.695404Z",
     "start_time": "2024-09-02T12:12:31.061579Z"
    }
   },
   "cell_type": "code",
   "source": "ask_delegation_manager(\"How many assets does 'Ethernity Networks Ltd' have in 2022 in dollars?\")",
   "id": "450954825ad2cc7b",
   "outputs": [
    {
     "name": "stdout",
     "output_type": "stream",
     "text": [
      "### ASKING DELEGATION MANAGER: \n"
     ]
    },
    {
     "data": {
      "text/plain": [
       "DelegationRequest(chain_of_thought=\"The query explicitly mentions 'Ethernity Networks Ltd', which is included in the list of companies I have access to. I formulated the query to retrieve the specific information about the assets of 'Ethernity Networks Ltd' for the year 2022, specifying the currency as dollars so the specialized agents can provide a precise answer. There are no other companies mentioned in the query, so this is straightforward.\", companies=['Ethernity Networks Ltd'], queries=['How many assets does Ethernity Networks Ltd have in 2022 in dollars? This information can usually be found in the balance sheet.'])"
      ]
     },
     "execution_count": 34,
     "metadata": {},
     "output_type": "execute_result"
    }
   ],
   "execution_count": 34
  },
  {
   "metadata": {
    "ExecuteTime": {
     "end_time": "2024-09-02T12:52:20.101095Z",
     "start_time": "2024-09-02T12:52:15.718067Z"
    }
   },
   "cell_type": "code",
   "source": "ask_delegation_manager(\"Did Global Medical REIT Inc. have a greater Debt-to-Equity ratio than Zegona Communications plc in Q2 2021?\")",
   "id": "67b32adb4ff93a38",
   "outputs": [
    {
     "name": "stdout",
     "output_type": "stream",
     "text": [
      "### ASKING DELEGATION MANAGER: \n"
     ]
    },
    {
     "data": {
      "text/plain": [
       "DelegationRequest(chain_of_thought=\"The query mentions two companies: Global Medical REIT Inc. and Zegona Communications plc. Both are present in the provided list, so they are captured correctly. The query is asking for a comparison of the Debt-to-Equity ratio between these two companies for Q2 2021. To address this, the specialized agents should retrieve the Debt-to-Equity ratio for each company from their respective Q2 2021 financial reports. This is typically found in the financial statements section, specifically the balance sheet and notes on financial metrics. The agents should ensure that the data is from Q2 2021 to make a precise comparison. Hence, queries are formulated to retrieve this specific data from each company's financial reports for that period.\", companies=['Global Medical REIT Inc.', 'Zegona Communications plc'], queries=['Retrieve the Debt-to-Equity ratio for Global Medical REIT Inc. from Q2 2021 financial reports.', 'Retrieve the Debt-to-Equity ratio for Zegona Communications plc from Q2 2021 financial reports.'])"
      ]
     },
     "execution_count": 90,
     "metadata": {},
     "output_type": "execute_result"
    }
   ],
   "execution_count": 90
  },
  {
   "metadata": {
    "ExecuteTime": {
     "end_time": "2024-09-02T14:30:03.609959Z",
     "start_time": "2024-09-02T14:30:03.598959Z"
    }
   },
   "cell_type": "code",
   "source": [
    "# EXECUTION MANAGER\n",
    "\n",
    "system_prompt_execution = f\"\"\"\n",
    "You are an intelligent assistant tasked with synthesizing a final answer to the USER_QUERY using specific company data provided in the CONTEXT. The CONTEXT includes information generated by expert systems along with their reasoning process.\n",
    "\n",
    "Your Objectives:\n",
    "    - Final Answer Construction: Your primary task is to deliver a final, accurate response to the USER_QUERY based on the provided CONTEXT.\n",
    "    - Handling Temporal Data: If the temporal scope of the data isn't an exact match (e.g., full-year data instead of Q4), use the best available data to formulate your answer. If specific quarterly data is requested but only full-year data is available, still provide an answer based on the available information, ensuring the CONTEXT contains sufficient relevant data. \n",
    "    - Chain of Thought: Document your reasoning process in 'chain_of_thought', including intermediary steps and considerations that led to your final answer.\n",
    "    - Strict Adherence: The final answer must be compliant with the specific guidelines. Accuracy, clarity, and adherence to these guidelines are critical: \\n {ANSWER_GUIDELINES} \\n \n",
    "\n",
    "Format:\n",
    "    - chain_of_thought: Your reasoning process, including intermediary steps\n",
    "    - answer: Your final answer following the guidelines. It should be of format: <OUTPUT_TYPE>, e.g., 'name', 'number' (including 0), 'boolean', etc.\n",
    "\n",
    "Provided Inputs:\n",
    "\n",
    "USER_QUERY: \\n <QUERY> \\n\n",
    "CONTEXT: \\n <CONTEXT>\n",
    "\"\"\"\n",
    "\n",
    "class ExecutionRequest(BaseModel):\n",
    "    chain_of_thought: str\n",
    "    answer: int | float | str\n",
    "\n",
    "def ask_execution_manager(query, context, output_type):\n",
    "    system_prompt_execution_full = system_prompt_execution.replace(\"<QUERY>\", query).replace(\"<CONTEXT>\", context).replace(\"<OUTPUT_TYPE>\", output_type)\n",
    "    \n",
    "    print(\"### ASKING EXECUTION MANAGER: \")\n",
    "\n",
    "    print(\"Context:\", context)\n",
    "    \n",
    "    completion = client.beta.chat.completions.parse(\n",
    "        model=MODEL,\n",
    "        messages=[\n",
    "            {\"role\": \"system\", \"content\": system_prompt_execution_full},\n",
    "            {\"role\": \"user\", \"content\": query},\n",
    "        ],\n",
    "        response_format=ExecutionRequest,\n",
    "    )\n",
    "    \n",
    "    return completion.choices[0].message.parsed"
   ],
   "id": "ae5badfdd80719b5",
   "outputs": [],
   "execution_count": 178
  },
  {
   "metadata": {
    "ExecuteTime": {
     "end_time": "2024-09-02T14:30:04.744542Z",
     "start_time": "2024-09-02T14:30:04.724533Z"
    }
   },
   "cell_type": "code",
   "source": [
    "# FINAL PIPELINE\n",
    "\n",
    "def ask_question(query, output_type):\n",
    "    print(\"## Query:\", query)\n",
    "    delegations = ask_delegation_manager(query)\n",
    "    print(\"Delegations: \\n\", delegations)\n",
    "    \n",
    "    expert_context = {}\n",
    "    for company, company_query in zip(delegations.companies, delegations.queries):\n",
    "        if company.lower() == \"skip\" or company_query.lower() == \"skip\":\n",
    "            expert_context[company] = \"No data available\"\n",
    "        else:\n",
    "            expert_context[company] = ask_company_expert(company_query, company)\n",
    "    \n",
    "    final_answer = ask_execution_manager(query, str(expert_context), output_type)\n",
    "    \n",
    "    return final_answer"
   ],
   "id": "1c4c03aa88b9f80b",
   "outputs": [],
   "execution_count": 179
  },
  {
   "metadata": {
    "ExecuteTime": {
     "end_time": "2024-09-02T13:02:04.533967Z",
     "start_time": "2024-09-02T13:01:56.986120Z"
    }
   },
   "cell_type": "code",
   "source": "ask_question(\"Who is the CEO of Tesla Inc.?\", \"name\") # n/a",
   "id": "c5c790aa6cfca5bd",
   "outputs": [
    {
     "name": "stdout",
     "output_type": "stream",
     "text": [
      "## Query: Who is the CEO of Tesla Inc.?\n",
      "### ASKING DELEGATION MANAGER: \n",
      "Delegations: \n",
      " chain_of_thought=\"Tesla Inc. is not in the list of companies that we are equipped to handle. Hence, according to the guidelines, the appropriate action is to mark both 'companies' and 'queries' as 'SKIP'.\" companies=['SKIP'] queries=['SKIP']\n",
      "### ASKING EXECUTION MANAGER: \n",
      "Context: {'SKIP': 'No data available'}\n"
     ]
    },
    {
     "data": {
      "text/plain": [
       "ExecutionRequest(chain_of_thought='The context indicates there\\'s no specific data available from the expert system about the CEO of Tesla Inc. As per the guidelines, if the needed information isn\\'t available in the provided context, I must respond with \"n/a\".', answer='n/a')"
      ]
     },
     "execution_count": 112,
     "metadata": {},
     "output_type": "execute_result"
    }
   ],
   "execution_count": 112
  },
  {
   "metadata": {
    "ExecuteTime": {
     "end_time": "2024-09-02T13:02:10.591216Z",
     "start_time": "2024-09-02T13:02:04.533967Z"
    }
   },
   "cell_type": "code",
   "source": "ask_question(\"Who is the CEO of Ethernity Networks?\", \"name\") # David Levi",
   "id": "db938ef5d289790",
   "outputs": [
    {
     "name": "stdout",
     "output_type": "stream",
     "text": [
      "## Query: Who is the CEO of Ethernity Networks?\n",
      "### ASKING DELEGATION MANAGER: \n",
      "Delegations: \n",
      " chain_of_thought=\"The query mentions the company 'Ethernity Networks' which matches exactly with the company 'Ethernity Networks Ltd' from the provided list. Therefore, the relevant company is identified, and I can proceed to form a query for this specific company to retrieve information about the CEO.\" companies=['Ethernity Networks Ltd'] queries=[\"Retrieve the name of the current CEO of Ethernity Networks Ltd. This information is typically found in the Management section of the company's annual report or on the company's official website under leadership or management team information.\"]\n",
      "### ASKING COMPANY EXPERT: Ethernity Networks Ltd\n",
      "### ASKING EXECUTION MANAGER: \n",
      "Context: {'Ethernity Networks Ltd': AnswerEvent(chain_of_thought='To find the name of the current CEO of Ethernity Networks Ltd., I will search the provided CONTEXT for any mention of executive roles, particularly looking for \"CEO\" or \"Chief Executive Officer\". In the given text, the section \"Directors\" lists various personnel and their roles. It explicitly mentions \"David Levi\" as the \"Chief Executive Officer.\" Thus, based on the information provided in the CONTEXT, the name of the current CEO can be determined.', answer='David Levi')}\n"
     ]
    },
    {
     "data": {
      "text/plain": [
       "ExecutionRequest(chain_of_thought='The CONTEXT provides the name of the current CEO of Ethernity Networks. By examining the company\\'s executive roles, specifically searching for titles like \"CEO\" or \"Chief Executive Officer,\" it identifies \"David Levi\" as the CEO.', answer='David Levi')"
      ]
     },
     "execution_count": 113,
     "metadata": {},
     "output_type": "execute_result"
    }
   ],
   "execution_count": 113
  },
  {
   "metadata": {
    "ExecuteTime": {
     "end_time": "2024-09-02T13:02:26.339887Z",
     "start_time": "2024-09-02T13:02:10.592725Z"
    }
   },
   "cell_type": "code",
   "source": "ask_question(\"Has 'Ethernity Networks Ltd' more liabilities than 'Accuray Incorporated' in 2022?\", \"boolean\") # Accuray: 419,660,000$, Ethernity: 12,257,291$ -> no is correct answer",
   "id": "62f09a4e0ed9d6e3",
   "outputs": [
    {
     "name": "stdout",
     "output_type": "stream",
     "text": [
      "## Query: Has 'Ethernity Networks Ltd' more liabilities than 'Accuray Incorporated' in 2022?\n",
      "### ASKING DELEGATION MANAGER: \n",
      "Delegations: \n",
      " chain_of_thought=\"First, I identified the companies mentioned in the query, which are 'Ethernity Networks Ltd' and 'Accuray Incorporated'. Both of these companies exist in the provided list. The query requests a comparison of liabilities between the two companies for the year 2022.\\n\\nTo address this query, I need to formulate precise questions for each company's specialized agent, asking them to retrieve the total liabilities from their respective 2022 financial statements, such as the balance sheet.\\n\\nFinally, I ensure that the agents understand to compare the total liabilities of each company for 2022, so that the initial query can be answered accurately.\" companies=['Ethernity Networks Ltd', 'Accuray Incorporated'] queries=['Retrieve the total liabilities for Ethernity Networks Ltd from the 2022 balance sheet.', 'Retrieve the total liabilities for Accuray Incorporated from the 2022 balance sheet.']\n",
      "### ASKING COMPANY EXPERT: Ethernity Networks Ltd\n",
      "### ASKING COMPANY EXPERT: Accuray Incorporated\n",
      "### ASKING EXECUTION MANAGER: \n",
      "Context: {'Ethernity Networks Ltd': AnswerEvent(chain_of_thought='The provided CONTEXT contains financial information for Ethernity Networks Ltd for the year 2022, including specific notes and figures. However, it does not include a complete balance sheet or a summary of total liabilities. The excerpts cover information about short-term borrowings, liabilities from specific notes, and obligations, but do not present an aggregated total liabilities figure for 2022.', answer='n/a'), 'Accuray Incorporated': AnswerEvent(chain_of_thought=\"To find the total liabilities for Accuray Incorporated in 2022, I need to refer to the consolidated balance sheet data provided in the context. The context mentions 'Total liabilities and stockholders’ equity' for June 30, 2022, as $472,849. In the balance sheet, 'Total liabilities and stockholders’ equity' is usually the sum of total liabilities and total stockholders' equity. I also have the 'Total stockholders' equity' value given as $53,189 for June 30, 2022. Therefore, I can calculate total liabilities by subtracting total stockholders' equity from 'Total liabilities and stockholders’ equity'. This calculation would be: $472,849 - $53,189 = $419,660. Thus, the total liabilities for Accuray Incorporated on June 30, 2022, are $419,660.\", answer=419660)}\n"
     ]
    },
    {
     "data": {
      "text/plain": [
       "ExecutionRequest(chain_of_thought='The context provides liability data for Accuray Incorporated for June 30, 2022, computed to be $419,660. However, for Ethernity Networks Ltd, there is no complete liability figure given for 2022. The context mentions that the financial information for Ethernity Networks is not aggregated into a total liabilities figure for the year 2022. \\n\\nThus, without a total liabilities figure for Ethernity Networks Ltd, I cannot compare the liabilities of Ethernity Networks Ltd to Accuray Incorporated.', answer='n/a')"
      ]
     },
     "execution_count": 114,
     "metadata": {},
     "output_type": "execute_result"
    }
   ],
   "execution_count": 114
  },
  {
   "metadata": {
    "ExecuteTime": {
     "end_time": "2024-09-02T14:00:41.263647Z",
     "start_time": "2024-09-02T14:00:22.776311Z"
    }
   },
   "cell_type": "code",
   "source": "ask_question('Did \"Global Medical REIT Inc.\" have a greater Debt-to-Equity ratio than \"Zegona Communications plc\" in Q2 2021?', \"boolean\")",
   "id": "5b32f3cc4f2e18f9",
   "outputs": [
    {
     "name": "stdout",
     "output_type": "stream",
     "text": [
      "## Query: Did \"Global Medical REIT Inc.\" have a greater Debt-to-Equity ratio than \"Zegona Communications plc\" in Q2 2021?\n",
      "### ASKING DELEGATION MANAGER: \n",
      "Delegations: \n",
      " chain_of_thought=\"The companies mentioned in the query are 'Global Medical REIT Inc.' and 'Zegona Communications plc', both of which are present in the provided list. Thus, the task should not be marked as 'SKIP'. The query involves calculating the Debt-to-Equity ratio for both companies in Q2 2021 to compare which one is greater. Typically, the Debt-to-Equity ratio can be found in the financial statements section of a company's quarterly report. Specifically, it requires extracting the total liabilities and shareholder's equity from the balance sheet. If only full-year data is available for 2021, use it as the best available data. The agent should ensure to retrieve the information accurately for the specified quarter and perform the division to find the Debt-to-Equity ratio for both companies before comparing them.\" companies=['Global Medical REIT Inc.', 'Zegona Communications plc'] queries=[\"Retrieve the Q2 2021 total liabilities and shareholder's equity for Global Medical REIT Inc. from the balance sheet to calculate its Debt-to-Equity ratio. If only full-year data is available, use it to provide the best available context.\", \"Retrieve the Q2 2021 total liabilities and shareholder's equity for Zegona Communications plc from the balance sheet to calculate its Debt-to-Equity ratio. If only full-year data is available, use it to provide the best available context.\", 'Compare the Debt-to-Equity ratios calculated for Global Medical REIT Inc. and Zegona Communications plc for Q2 2021 to determine which one is greater.']\n",
      "### ASKING COMPANY EXPERT: Global Medical REIT Inc.\n",
      "### ASKING COMPANY EXPERT: Zegona Communications plc\n",
      "### ASKING EXECUTION MANAGER: \n",
      "Context: {'Global Medical REIT Inc.': AnswerEvent(chain_of_thought=\"The context does not provide specific Q2 2021 data for liabilities and shareholder's equity. Instead, it provides data for year-end 2021 and 2022. For the purpose of calculating the Debt-to-Equity ratio, we will use the 2021 year-end data as the next best available data:\\n\\n1. Total liabilities at year-end 2021: $625,908,000\\n2. Total equity at year-end 2021: $637,577,000\\n\\nThe Debt-to-Equity ratio is calculated as follows:\\n\\nDebt-to-Equity Ratio = Total Liabilities / Total Equity = $625,908,000 / $637,577,000.\", answer=0.9818082671631349), 'Zegona Communications plc': AnswerEvent(chain_of_thought=\"The provided CONTEXT does not include a specific Q2 2021 balance sheet. However, it includes full-year data for 31 December 2021 and 31 December 2022. I will use the full-year 2021 data since it should serve as a reasonable approximation for calculations in the absence of quarterly data. From the CONTEXT:\\n\\nFor 31 December 2021:\\n- Total liabilities: 726 (noting that €106 is marked under bank borrowings and would also be included as a liability).\\n- Shareholder's equity or Total equity: 14654 (€14,454k as Total equity from the statement, including a Total liabilities of 1,457 which may overlap with the other liabilities listed elsewhere; summarizing based on the detailed numbers for practicality).\\n\\nCalculating Debt-to-Equity Ratio:\\nThe Debt-to-Equity ratio is defined as Total Liabilities divided by Shareholder's Equity.\\n\\nDebt-to-Equity Ratio = Total Liabilities / Shareholder's Equity = 726 / 14654 = approximately 0.0496.\", answer=0.0496)}\n"
     ]
    },
    {
     "data": {
      "text/plain": [
       "ExecutionRequest(chain_of_thought=\"We are tasked with comparing the Debt-to-Equity ratios of 'Global Medical REIT Inc.' and 'Zegona Communications plc'. The CONTEXT does not provide specific Q2 2021 data, so we use the year-end 2021 data as an approximation.\\n\\n1. Global Medical REIT Inc.:\\n   - Total liabilities at year-end 2021: $625,908,000\\n   - Total equity at year-end 2021: $637,577,000\\n   - Debt-to-Equity Ratio = 625,908,000 / 637,577,000 ≈ 0.9818\\n\\n2. Zegona Communications plc:\\n   - Total liabilities at year-end 2021: 726 (in thousands)\\n   - Total equity at year-end 2021: 14,654 (in thousands)\\n   - Debt-to-Equity Ratio = 726 / 14,654 ≈ 0.0496\\n\\nWe compare the two calculated ratios: 0.9818 (Global Medical REIT Inc.) and 0.0496 (Zegona Communications plc). Clearly, 0.9818 is greater than 0.0496, therefore 'Global Medical REIT Inc.' has a greater Debt-to-Equity ratio than 'Zegona Communications plc' based on the data closest to Q2 2021 available (year-end 2021).\", answer='yes')"
      ]
     },
     "execution_count": 149,
     "metadata": {},
     "output_type": "execute_result"
    }
   ],
   "execution_count": 149
  },
  {
   "metadata": {
    "ExecuteTime": {
     "end_time": "2024-09-02T14:30:17.366918Z",
     "start_time": "2024-09-02T14:30:10.281795Z"
    }
   },
   "cell_type": "code",
   "source": "ask_question(\"What are the total R&D expenses of 'Ethernity Networks Ltd' in 2021?\", \"number\")",
   "id": "1608f615f27b7e15",
   "outputs": [
    {
     "name": "stdout",
     "output_type": "stream",
     "text": [
      "## Query: What are the total R&D expenses of 'Ethernity Networks Ltd' in 2021?\n",
      "### ASKING DELEGATION MANAGER: \n",
      "Delegations: \n",
      " chain_of_thought=\"The query specifically mentions 'Ethernity Networks Ltd', which matches exactly with one of the company names in the provided list. The task is to find R&D expenses for 2021. Generally, such data is found in the financial section of the company's annual report, usually under a section dedicated to operating expenses or a summary of financials. I'll formulate a query for 'Ethernity Networks Ltd' to retrieve the required data.\" companies=['Ethernity Networks Ltd'] queries=['Retrieve the total research and development (R&D) expenses for Ethernity Networks Ltd for the fiscal year 2021. This information can often be found in the operating expenses section or the notes to the financial statements in the annual report.']\n",
      "### ASKING COMPANY EXPERT: Ethernity Networks Ltd\n",
      "### ASKING EXECUTION MANAGER: \n",
      "Context: {'Ethernity Networks Ltd': AnswerEvent(chain_of_thought='The provided documents contain the annual reports and financial statements for Ethernity Networks Ltd for the fiscal years 2021 and 2022. However, the specific page content provided does not include a detailed breakdown of the R&D expenses for 2021. Therefore, I cannot retrieve the R&D expenses for Ethernity Networks Ltd for that fiscal year from the given context.', answer='n/a')}\n"
     ]
    },
    {
     "data": {
      "text/plain": [
       "ExecutionRequest(chain_of_thought='The CONTEXT provides information from the annual reports and financial statements for Ethernity Networks Ltd for the fiscal years 2021 and 2022. However, it explicitly mentions that there is no detailed breakdown of the R&D expenses for 2021 mentioned in the documents provided. Without the specific data, I cannot determine the R&D expenses for that year.', answer='n/a')"
      ]
     },
     "execution_count": 180,
     "metadata": {},
     "output_type": "execute_result"
    }
   ],
   "execution_count": 180
  },
  {
   "metadata": {},
   "cell_type": "markdown",
   "source": "## Obtain final results ",
   "id": "6eff4555c6c481a2"
  },
  {
   "metadata": {
    "ExecuteTime": {
     "end_time": "2024-09-02T14:19:14.592234Z",
     "start_time": "2024-09-02T14:13:05.410732Z"
    }
   },
   "cell_type": "code",
   "source": [
    "# 5 min runtime for 40 questions\n",
    "\n",
    "results = []\n",
    "\n",
    "with open('data/questions.json', 'r') as json_file:\n",
    "    items = json.load(json_file)\n",
    "    for item in items:\n",
    "        question = item[\"question\"]\n",
    "        response = ask_question(question, item[\"schema\"]) # TODO could introduce schema as Daniel with arg=item[\"schema\"] and classes/pydantic\n",
    "        print(response)\n",
    "        results.append({\n",
    "            \"question\": question,\n",
    "            \"schema\": item[\"schema\"],\n",
    "            \"answer\": response.answer\n",
    "        })\n",
    "\n",
    "with open('results/results_v7.json', 'w') as json_file:\n",
    "    json.dump(results, json_file, indent=4)"
   ],
   "id": "52e4cdaaa2db4667",
   "outputs": [
    {
     "name": "stdout",
     "output_type": "stream",
     "text": [
      "## Query: How much did \"Accuray Incorporated\" spend on risk management in Q2 2022?\n",
      "### ASKING DELEGATION MANAGER: \n",
      "Delegations: \n",
      " chain_of_thought=\"I identified the company 'Accuray Incorporated' from the query, which matches exactly with one of the companies from the specified list. The query specifically asks for spending on risk management in Q2 2022. To find this information, I formed a query asking the agent to look into the company's Q2 2022 financial reports, likely found in the management discussion and notes section of their quarterly filings, which detail various expenses including risk management costs. Additionally, I suggested checking the full-year data if quarterly specifics aren't available.\" companies=['Accuray Incorporated'] queries=['Retrieve the Q2 2022 financial report for Accuray Incorporated and identify the expenditure on risk management. Check sections related to management discussions and expense notes for detailed spending. If Q2 data is not available, provide the expense as close as possible to the period requested.']\n",
      "### ASKING COMPANY EXPERT: Accuray Incorporated\n",
      "### ASKING EXECUTION MANAGER: \n",
      "Context: {'Accuray Incorporated': AnswerEvent(chain_of_thought=\"In the CONTEXT provided, there is no specific mention of a Q2 2022 financial report for Accuray Incorporated. Additionally, there is no detailed breakdown of expenditures, including any specifically related to risk management. The documents available mainly discuss the company's business, risks and uncertainties due to the COVID-19 pandemic, an aggregate market value of the stock, and some legal and administrative information. There is no mention of specific expenses or risk management expenditures, especially related to Q2 2022.\\nGiven that the provided documents do not contain the specific financial data related to expenditures on risk management, it is not possible to accurately state the expenditure for the period or any similar period close to Q2 2022.\", answer='n/a')}\n",
      "chain_of_thought='The CONTEXT provided indicates that there is no specific mention of financial data related to Q2 2022 for Accuray Incorporated, including a breakdown of expenditures on risk management. The available documents discuss broader topics such as general business risks and legal information but do not provide specific financial figures for the quarter in question or for risk management expenditures. Therefore, due to the absence of specific financial data in the given CONTEXT, it is not possible to determine the expenditure on risk management for Accuray Incorporated in Q2 2022.' answer='n/a'\n",
      "## Query: Who is the CEO in the company \"Zegona Communications plc\"?\n",
      "### ASKING DELEGATION MANAGER: \n",
      "Delegations: \n",
      " chain_of_thought=\"The query mentions 'Zegona Communications plc', which is an exact match in the provided company list. Therefore, I will direct the query to the specialized agent to retrieve the CEO information for Zegona Communications plc.\" companies=['Zegona Communications plc'] queries=[\"Retrieve the current CEO of Zegona Communications plc. This information can typically be found in the company's annual report or official website under the leadership or governance section.\"]\n",
      "### ASKING COMPANY EXPERT: Zegona Communications plc\n",
      "### ASKING EXECUTION MANAGER: \n",
      "Context: {'Zegona Communications plc': AnswerEvent(chain_of_thought='The document mentions information related to the governance and leadership of Zegona Communications plc. On page 19, under the Board of Directors section, it explicitly lists the members of the Board. Eamonn O’Hare is listed as the Chairman and CEO of Zegona Communications plc.', answer='Eamonn O’Hare')}\n",
      "chain_of_thought='The context specifically identifies Eamonn O’Hare as the Chairman and CEO of Zegona Communications plc. This is directly from the document under the governance and leadership section. No other names are mentioned as CEO in the provided text.' answer='Eamonn O’Hare'\n",
      "## Query: Did \"Global Medical REIT Inc.\" have a greater Debt-to-Equity ratio than \"Zegona Communications plc\" in Q2 2021?\n",
      "### ASKING DELEGATION MANAGER: \n",
      "Delegations: \n",
      " chain_of_thought=\"The query mentions two companies: 'Global Medical REIT Inc.' and 'Zegona Communications plc'. These company names exactly match the names listed in the provided database, allowing me to proceed with formulating queries rather than marking it as 'SKIP'. The query requests a comparison of the Debt-to-Equity ratio for both companies specifically in Q2 2021. Such ratios can usually be found in the financial section of a company's quarterly reports, typically within the balance sheet or a summary of financial ratios section. If Q2 2021 data is not available, agents are instructed to provide the closest available data, while clearly specifying this in their reporting.\" companies=['Global Medical REIT Inc.', 'Zegona Communications plc'] queries=['Retrieve the Debt-to-Equity ratio for Global Medical REIT Inc. for Q2 2021 from their quarterly reports. If unavailable, provide the closest available recent data, specifying the respective period.', 'Retrieve the Debt-to-Equity ratio for Zegona Communications plc for Q2 2021 from their quarterly reports. If unavailable, provide the closest available recent data, specifying the respective period.']\n",
      "### ASKING COMPANY EXPERT: Global Medical REIT Inc.\n",
      "### ASKING COMPANY EXPERT: Zegona Communications plc\n",
      "### ASKING EXECUTION MANAGER: \n",
      "Context: {'Global Medical REIT Inc.': AnswerEvent(chain_of_thought=\"The data provided in the CONTEXT includes information about liabilities and equity but appears to be more oriented toward annual reports rather than specific quarterly data. The available comprehensive data sets provided are for the years ending December 31, 2021, and December 31, 2022, with balance sheet values such as total liabilities and stockholders' equity. However, specific quarterly data, such as for Q2 2021, is not directly available.\\n\\nTo calculate the Debt-to-Equity ratio, the formula is (Total Liabilities) / (Total Equity).\\n\\nFrom the most recent available data for the year ending December 31, 2021:\\n- Total liabilities: $625,908 (in thousands)\\n- Total equity: $637,577 (in thousands)\\n\\nTo calculate the ratio:\\nDebt-to-Equity ratio = Total Liabilities / Total Equity = 625,908 / 637,577 = 0.9817.\\n\\nTherefore, as the specific Q2 data is not available, we provide the closest available full-year data for 2021.\", answer=0.9817), 'Zegona Communications plc': AnswerEvent(chain_of_thought='To calculate the Debt-to-Equity ratio, we need the total liabilities and the total equity. The context does not contain a specific quarterly report for Q2 2021, but it provides year-end data for 2021 and 2022. We can use the year-end data for 2021 as the closest available information.\\n\\nFrom the context:\\n- Total liabilities at year-end 2021: 726 (in €000)\\n- Total equity at year-end 2021: 14454 (in €000)\\n\\nDebt-to-Equity ratio = Total Liabilities / Total Equity\\n\\nTherefore, Debt-to-Equity ratio = 726 / 14454 = 0.05026\\n\\nThis calculation gives us the information from the closest available period, which is the year-end 2021.', answer=0.05026)}\n",
      "chain_of_thought='The question asks for the Debt-to-Equity ratio comparison between \"Global Medical REIT Inc.\" and \"Zegona Communications plc\" for Q2 2021. Specific Q2 2021 data is not available in the context, so we use the closest available data, which is for the year-end 2021.\\n\\nFor \"Global Medical REIT Inc.\", the Debt-to-Equity ratio from the year-end 2021 data is 0.9817, calculated using total liabilities ($625,908 in thousands) and total equity ($637,577 in thousands).\\n\\nFor \"Zegona Communications plc\", the Debt-to-Equity ratio from the year-end 2021 data is 0.05026, calculated using total liabilities (€726,000) and total equity (€14,454,000).\\n\\nComparing these two ratios, 0.9817 (Global Medical REIT Inc.) is greater than 0.05026 (Zegona Communications plc). Thus, based on the closest available data, \"Global Medical REIT Inc.\" had a greater Debt-to-Equity ratio.' answer='yes'\n",
      "## Query: How many stores did \"Accuray Incorporated\" have in the end of fiscal year 2021?\n",
      "### ASKING DELEGATION MANAGER: \n",
      "Delegations: \n",
      " chain_of_thought='The query specifically mentions \"Accuray Incorporated\", which matches exactly with one of the companies in the provided list. Accuray Incorporated, being a company focused on developing technology for radiation treatments, likely does not operate retail stores. The query seems to assume that Accuray has retail locations, which might be incorrect. Thus, the focus would be on confirming this by looking into their business model rather than querying for the number of retail stores. However, I will proceed by instructing to check their business overview in their annual reports to confirm the absence of retail stores or equivalent facilities.' companies=['Accuray Incorporated'] queries=['Please confirm whether Accuray Incorporated operates retail stores or similar facilities. Check the business overview section in their annual report for the fiscal year 2021 to validate this assumption.']\n",
      "### ASKING COMPANY EXPERT: Accuray Incorporated\n",
      "### ASKING EXECUTION MANAGER: \n",
      "Context: {'Accuray Incorporated': AnswerEvent(chain_of_thought=\"The context provided describes Accuray Incorporated's operations, including their locations and facilities. It mentions office buildings, manufacturing facilities, and warehouse space in various locations but does not mention any retail stores or similar facilities. The company's operations seem to be focused on designing, developing, and selling advanced medical systems, primarily involving offices and manufacturing spaces.\\nNo specific mention of retail stores or similar facilities is found in the provided business overview details, which suggests that the company does not operate such facilities.\", answer='no')}\n",
      "chain_of_thought=\"The context provided discusses Accuray Incorporated's operations, mentioning office buildings, manufacturing facilities, and warehouse space, but no retail stores or similar facilities are noted. The company's focus is on designing, developing, and selling advanced medical systems, implying operations are centered around offices and manufacturing rather than retail stores. Given the lack of any mention of retail stores in the context, it can be concluded that Accuray Incorporated did not operate any stores.\" answer='0'\n",
      "## Query: How much did \"Sandwell Aquatics Centre\" spend on R&D in Q2 2023?\n",
      "### ASKING DELEGATION MANAGER: \n",
      "Delegations: \n",
      " chain_of_thought=\"The query specifies 'Sandwell Aquatics Centre,' which matches exactly with one of the companies listed. However, as 'Sandwell Aquatics Centre' is not a typical corporation but rather a specific location or facility, it might not have typical financial reports available for R&D expenses like a public company would. However, since it's in the list of companies we're tasked with, we will proceed with formulating a query as if it operates like a company with financial data reporting.\\n\\nGiven the query's request for Q2 2023 R&D spending, the specialized agents would need to look specifically into the quarterly financial statements for R&D expenses or activities. If only annual data is available, the agents will be advised to report on that with a note about the availability limitation.\" companies=['Sandwell Aquatics Centre'] queries=[\"Retrieve the R&D expenditure for Sandwell Aquatics Centre for Q2 2023. If quarterly details are unavailable, provide the latest available R&D expenditure data from the annual reports. Check sections related to financial statements or management's discussion and analysis for this information.\"]\n",
      "### ASKING COMPANY EXPERT: Sandwell Aquatics Centre\n",
      "### ASKING EXECUTION MANAGER: \n",
      "Context: {'Sandwell Aquatics Centre': AnswerEvent(chain_of_thought=\"Upon reviewing the provided CONTEXT, the documents focus on the financial performance and strategic statements but do not provide a breakdown of R&D expenditure, particularly for specific projects or entities like Sandwell Aquatics Centre for any quarter of 2023 or any other year. The context includes comprehensive financial data, statements of position, and operational performance indicators, but R&D isn't explicitly mentioned as part of the financial reporting or analysis. Therefore, this specific information is not available.\", answer='n/a')}\n",
      "chain_of_thought='Upon reviewing the CONTEXT, it is clear that the documents do not contain specific data regarding R&D spending by Sandwell Aquatics Centre in Q2 2023 or any other period. The financial data, statements, and operational indicators provided do not separate or mention R&D expenditures, making it impossible to extract this specific information for the query. Therefore, based on the provided CONTEXT, the information is not available.' answer='n/a'\n",
      "## Query: Who is the CFO in the company \"EMT\"?\n",
      "### ASKING DELEGATION MANAGER: \n",
      "Delegations: \n",
      " chain_of_thought=\"The query specifically mentions the company 'EMT'. I checked the provided list of companies and found a match with 'EMT'. The task is to find the Chief Financial Officer (CFO) of 'EMT'. This information is typically found in the company's leadership or management section of the annual reports or official website. Therefore, I will proceed to create a query to find the CFO of 'EMT'.\" companies=['EMT'] queries=['Identify the current CFO of EMT, checking the latest leadership announcements in their annual report or official website.']\n",
      "### ASKING COMPANY EXPERT: EMT\n",
      "### ASKING EXECUTION MANAGER: \n",
      "Context: {'EMT': AnswerEvent(chain_of_thought='The CONTEXT provided lists several members of the leadership team within eMetals Limited, such as Mathew Walker as Executive Director, Gary Lyons as Non-Executive Chairman, and Teck Wong as Non-Executive Director. However, there is no mention of a CFO or Chief Financial Officer in the provided pages of the document. Without explicit information on the CFO from either the annual report or the official website within the CONTEXT, I cannot determine the current CFO of EMT.', answer='n/a')}\n",
      "chain_of_thought='The CONTEXT provided lists several members of the leadership team within eMetals Limited, such as Mathew Walker as Executive Director, Gary Lyons as Non-Executive Chairman, and Teck Wong as Non-Executive Director. However, there is no mention of a CFO or Chief Financial Officer in the provided pages of the document. Without explicit information on the CFO from either the annual report or the official website within the CONTEXT, I cannot determine the current CFO of EMT.' answer='n/a'\n",
      "## Query: Did \"Calyxt, Inc.\" have a greater Return on Assets (ROA) than \"Global Medical REIT Inc.\" in Q2 2023?\n",
      "### ASKING DELEGATION MANAGER: \n",
      "Delegations: \n",
      " chain_of_thought=\"The query requests a comparison of Return on Assets (ROA) between two companies, 'Calyxt, Inc.' and 'Global Medical REIT Inc.', specifically for Q2 2023. Both 'Calyxt, Inc.' and 'Global Medical REIT Inc.' are recognizably listed companies. To compare ROA, I need to retrieve both the net income and total assets for each company for Q2 2023. The ROA formula is Net Income divided by Total Assets. These figures are typically found in the income statement (for net income) and balance sheet (for total assets) sections of the quarterly reports. I will ask the specialized agents to provide these figures from the Q2 2023 reports, and if quarterly data is unavailable, full-year data will assist in providing the best approximate answer.\" companies=['Calyxt, Inc.', 'Global Medical REIT Inc.'] queries=['Retrieve the net income and total assets for Calyxt, Inc. from the Q2 2023 financial reports to calculate Return on Assets (ROA). If Q2 data is unavailable, use the most recent available data.', 'Retrieve the net income and total assets for Global Medical REIT Inc. from the Q2 2023 financial reports to calculate Return on Assets (ROA). If Q2 data is unavailable, use the most recent available data.']\n",
      "### ASKING COMPANY EXPERT: Calyxt, Inc.\n",
      "### ASKING COMPANY EXPERT: Global Medical REIT Inc.\n",
      "### ASKING EXECUTION MANAGER: \n",
      "Context: {'Calyxt, Inc.': AnswerEvent(chain_of_thought='In the provided CONTEXT, there is no specific reference to Q2 2023 financial data. However, there is data available for the year ended December 31, 2022. According to the financial statements, the net loss for the year ended December 31, 2022, is provided as $16,891,000. The total assets as of December 31, 2022, are $22,421,000.\\n\\nTo calculate the Return on Assets (ROA), the formula is:\\n\\nROA = Net Income / Total Assets\\n\\nSubstituting the given values:\\nNumerator (Net Income): -16,891,000 \\nDenominator (Total Assets): 22,421,000\\n\\nROA = -16,891,000 / 22,421,000 = -0.7539032999\\n\\nRounding this value gives an ROA of approximately -0.75.', answer=-0.75), 'Global Medical REIT Inc.': AnswerEvent(chain_of_thought='The context provided does not include specific data for Q2 2023. However, it includes financial data up to December 31, 2022. The net income for Global Medical REIT Inc. for the year ended December 31, 2022, is provided as $19,996,000. The total assets as of December 31, 2022, can be calculated by summing the total liabilities ($744,196,000) and total equity ($649,065,000), which equals $1,393,261,000. Therefore, to find the Return on Assets (ROA), we use the formula ROA = Net Income / Total Assets. Here, Net Income = $19,996,000 and Total Assets = $1,393,261,000. The ROA is calculated as ROA = 19,996 / 1,393,261, which equals approximately 0.01435 when computed as a decimal.', answer=0.01435)}\n",
      "chain_of_thought=\"To answer the query, we must compare the ROA of Calyxt, Inc. and Global Medical REIT Inc. in Q2 2023. However, the context only provides financial data up to December 31, 2022, for both companies. For Calyxt, Inc., the ROA for the year ended December 31, 2022, is approximately -0.75. For Global Medical REIT Inc., the ROA for the same period is approximately 0.01435. Since the question specifically asks for Q2 2023 data and only full-year 2022 data is available in the context, we are unable to provide a direct comparison for Q2 2023. However, using the available data, Global Medical REIT Inc. had a higher ROA at the end of 2022 than Calyxt, Inc. To follow the guidelines, I must respond 'n/a' due to lack of specific Q2 2023 data.\" answer='n/a'\n",
      "## Query: How many stores did \"OTC_UNCIF\" have in the end of fiscal year 2022?\n",
      "### ASKING DELEGATION MANAGER: \n",
      "Delegations: \n",
      " chain_of_thought='The query mentions \"OTC_UNCIF\", which is not listed in the specified company names. Therefore, this query does not pertain to any of the specified companies, and according to the guidelines, should be marked as \\'SKIP\\'. This ensures that I correctly follow instructions to only process information on specified companies.' companies=['SKIP'] queries=['SKIP']\n",
      "### ASKING EXECUTION MANAGER: \n",
      "Context: {'SKIP': 'No data available'}\n",
      "chain_of_thought='The context provided states that there is no data available regarding the number of stores \"OTC_UNCIF\" had at the end of fiscal year 2022. Without additional information, it is not possible to determine this number.' answer='n/a'\n",
      "## Query: How much did \"Accuray Incorporated\" spend on customer acquisition in Q2 2021?\n",
      "### ASKING DELEGATION MANAGER: \n",
      "Delegations: \n",
      " chain_of_thought=\"The query explicitly mentions 'Accuray Incorporated', which is a perfect match with one of the companies from the provided list. Thus, I identified 'Accuray Incorporated' as the relevant company. The query is asking for customer acquisition costs in Q2 2021. Generally, this type of cost can be found under sales and marketing expenses in quarterly reports. If specific quarterly data is unavailable, the agents should provide context using the best available data, such as yearly figures. This forms the basis of the query I've constructed.\" companies=['Accuray Incorporated'] queries=['Retrieve the sales and marketing expenses for Accuray Incorporated for Q2 2021 from their quarterly reports. If specific quarterly data is not available, provide the closest available data from annual reports and explain any assumptions made.']\n",
      "### ASKING COMPANY EXPERT: Accuray Incorporated\n",
      "### ASKING EXECUTION MANAGER: \n",
      "Context: {'Accuray Incorporated': AnswerEvent(chain_of_thought='The context provides some financial overview for Accuray Incorporated but does not include specific figures for sales and marketing expenses on a quarterly basis, specifically Q2 2021. However, it does contain annual changes in sales and marketing expenses for the fiscal year ending June 30, 2021. The sales and marketing expenses decreased by $4.4 million, or 9%, for the year ended June 30, 2021, compared to the previous year. This is the only relevant information provided. Since specific quarterly figures (like Q2) are not mentioned in the context provided, we utilize this annual data as the best available approximation for fiscal year 2021, which may include Q2. No specific data or detailed breakdown is available to further isolate Q2 figures.', answer='n/a')}\n",
      "chain_of_thought=\"The context provides an overview of Accuray Incorporated's sales and marketing expenses for the fiscal year ending June 30, 2021, noting an annual decrease but lacks specific figures or a breakdown for Q2 2021. As no quarterly data, particularly for Q2, is provided regarding customer acquisition or related metrics, the best available approximation doesn't offer a precise answer for Q2 2021 customer acquisition spend. Therefore, no exact value can be determined from the available information.\" answer='n/a'\n",
      "## Query: Who is the CEO in the company \"Accuray Incorporated\"?\n",
      "### ASKING DELEGATION MANAGER: \n",
      "Delegations: \n",
      " chain_of_thought=\"The query specifically mentions 'Accuray Incorporated', which is one of the companies in the provided list. Therefore, this query is valid and does not need to be marked as 'SKIP'.\" companies=['Accuray Incorporated'] queries=[\"Retrieve the current CEO's name from Accuray Incorporated. This information is typically found in the management section of the company's annual report, or in the 'Corporate Governance' section on their official website.\"]\n",
      "### ASKING COMPANY EXPERT: Accuray Incorporated\n",
      "### ASKING EXECUTION MANAGER: \n",
      "Context: {'Accuray Incorporated': AnswerEvent(chain_of_thought=\"The document provided contains signatures from the company's recent filings, where the roles of the individuals are mentioned. Specifically, it states that Suzanne Winter is the President and Chief Executive Officer of Accuray Incorporated. This information is found on multiple pages where her role is explicitly mentioned, confirming her as the current CEO.\", answer='Suzanne Winter')}\n",
      "chain_of_thought=\"The CONTEXT provides information from Accuray Incorporated's recent filings, stating that Suzanne Winter is the President and Chief Executive Officer of the company. This information corroborates her role as the current CEO, as it is confirmed on multiple pages of the document.\" answer='Suzanne Winter'\n",
      "## Query: Did \"Comet Holding AG\" have a greater Operating Margin than \"Ethernity Networks Ltd\" in Q2 2022?\n",
      "### ASKING DELEGATION MANAGER: \n",
      "Delegations: \n",
      " chain_of_thought=\"The query involves two companies: 'Comet Holding AG' and 'Ethernity Networks Ltd'. First, I checked the list of companies I support and found that 'Ethernity Networks Ltd' is present, but 'Comet Holding AG' is not. Since one of the companies is not in the list provided, according to the guidelines, I must mark this as 'SKIP'.\" companies=['SKIP'] queries=['SKIP']\n",
      "### ASKING EXECUTION MANAGER: \n",
      "Context: {'SKIP': 'No data available'}\n",
      "chain_of_thought=\"The given CONTEXT states 'No data available,' indicating that there is no specific information regarding the operating margins of either 'Comet Holding AG' or 'Ethernity Networks Ltd' for Q2 2022 provided.\\n\\nGiven that there isn't any data to compare the operating margins of the two companies for the specified period, I cannot determine which company had a greater operating margin.\\n\\nTherefore, based on the guidelines, when there is insufficient data, we respond with 'n/a'.\" answer='n/a'\n",
      "## Query: How many stores did \"VENUS METALS CORPORATION LIMITED\" have in the end of fiscal year 2022?\n",
      "### ASKING DELEGATION MANAGER: \n",
      "Delegations: \n",
      " chain_of_thought=\"The query asks about the number of stores VENUS METALS CORPORATION LIMITED had at the end of fiscal year 2022. VENUS METALS CORPORATION LIMITED is identified in the list of companies provided, so we can extract data for it. Since VENUS METALS CORPORATION LIMITED is primarily a metals corporation, it's unlikely they have consumer retail stores. This seems to be a misunderstanding, as metal corporations typically don't operate in a retail capacity. However, I'll proceed with the query as is.\" companies=['VENUS METALS CORPORATION LIMITED'] queries=['Please provide a clarification if Venus Metals Corporation Limited operates any retail stores. Check annual reports, particularly the sections discussing business operations or corporate overview, to understand their business model and operations.']\n",
      "### ASKING COMPANY EXPERT: VENUS METALS CORPORATION LIMITED\n",
      "### ASKING EXECUTION MANAGER: \n",
      "Context: {'VENUS METALS CORPORATION LIMITED': AnswerEvent(chain_of_thought='The provided context includes text from the annual report of Venus Metals Corporation Limited for the year 2022. The document mentions exploration activities focused on Gold, Lithium, Rare Earths, Base Metals, and Vanadium. There is no mention of operating retail stores; the focus is on exploration projects in Western Australia. Based on the available data, there is no indication of retail operations as part of their business model.', answer='no')}\n",
      "chain_of_thought='The context provided comes from the 2022 annual report of Venus Metals Corporation Limited, which focuses on exploration activities rather than retail operations. The data provided indicates that Venus Metals Corporation Limited does not mention operating stores as part of its business model. Thus, based on the provided information, the number of stores they operated is zero.' answer=0\n",
      "## Query: How much did \"Ethernity Networks Ltd\" spend on R&D in Q2 2023?\n",
      "### ASKING DELEGATION MANAGER: \n",
      "Delegations: \n",
      " chain_of_thought='I identified \"Ethernity Networks Ltd\" as the only company in the user\\'s query from the provided list. The user is specifically asking for the R&D expenditure of Ethernity Networks Ltd in the second quarter (Q2) of 2023. To address this, I will ensure the query asks for precise information about R&D spending and note that if quarterly data is not available, the latest available annual data can be used and this limitation should be communicated clearly.' companies=['Ethernity Networks Ltd'] queries=['Retrieve the R&D expenditures for Ethernity Networks Ltd for the second quarter (Q2) of 2023. If quarterly data is not available in their reports, please provide the latest available data and clearly indicate if it is annual data instead of quarterly. Usually, R&D expenses can be found in the notes of the financial statements or in the cash flow statement section of the annual or quarterly reports.']\n",
      "### ASKING COMPANY EXPERT: Ethernity Networks Ltd\n",
      "### ASKING EXECUTION MANAGER: \n",
      "Context: {'Ethernity Networks Ltd': AnswerEvent(chain_of_thought='The provided context contains financial information up to the year ended 31 December 2022 but does not specify quarterly data for that year. There is no data available for 2023 either. The data is primarily annual. Since there is no specific information about R&D expenditures either for Q2 of 2023 or any quarterly breakdown in 2022, the most relevant data that can be extracted would be from the year-end statements from 2022. However, the context does not include specific figures for R&D expenditures for 2022. Since the request is specific to Q2 2023 data and there is neither annual nor quarterly data for 2023 or specific R&D data for 2022, I must conclude that the data is insufficient.', answer='n/a')}\n",
      "chain_of_thought='The context contains financial information up to the year ended 31 December 2022 but does not specify quarterly data for that year. There is no data available for 2023 either. The data is primarily annual. Since there is no specific information about R&D expenditures either for Q2 of 2023 or any quarterly breakdown in 2022, the most relevant data that can be extracted would be from the year-end statements from 2022. However, the context does not include specific figures for R&D expenditures for 2022. Since the request is specific to Q2 2023 data and there is neither annual nor quarterly data for 2023 or specific R&D data for 2022, I must conclude that the data is insufficient.' answer='n/a'\n",
      "## Query: Who is the COO in the company \"Sandwell Aquatics Centre\"?\n",
      "### ASKING DELEGATION MANAGER: \n",
      "Delegations: \n",
      " chain_of_thought='The query specifies the company name \"Sandwell Aquatics Centre\", which matches exactly with the company name in our list. Therefore, I will proceed to formulate a query for this company. The query asks for the COO, which is typically found in the corporate governance section or the executive team section of a company\\'s report or on their official website.' companies=['Sandwell Aquatics Centre'] queries=['Retrieve the name and profile of the Chief Operating Officer (COO) of Sandwell Aquatics Centre from their latest company report or official website. Check the corporate governance section or executive team section.']\n",
      "### ASKING COMPANY EXPERT: Sandwell Aquatics Centre\n",
      "### ASKING EXECUTION MANAGER: \n",
      "Context: {'Sandwell Aquatics Centre': AnswerEvent(chain_of_thought=\"The context includes a section from an annual report but does not specifically mention a Chief Operating Officer (COO) for Sandwell Aquatics Centre. The document contains information about Billington's financial performance, governance, and ethical policies but does not provide details about the COOs or their profiles. Since the context provided lacks sufficient information regarding the COO, and I am unable to access external websites or resources, it leads to an inability to find the requested information about Sandwell Aquatics Centre's COO.\", answer='n/a')}\n",
      "chain_of_thought=\"The provided context states that there is no specific information about the Chief Operating Officer (COO) for Sandwell Aquatics Centre in the provided documents. The context mentions an annual report without details on COOs, indicating insufficient data regarding the COO's identity.\" answer='n/a'\n",
      "## Query: Did \"Calyxt, Inc.\" have a greater market capitalization than \"NICE\" in Q2 2022?\n",
      "### ASKING DELEGATION MANAGER: \n",
      "Delegations: \n",
      " chain_of_thought=\"The query specifically mentions 'Calyxt, Inc.' and 'NICE', which are exact matches to the companies in the provided list. Hence, these companies were identified successfully. The task requires a comparison of market capitalizations between these two companies for Q2 2022. The specialized agents should retrieve the market capitalization data from the respective financial statement sections that generally discuss equity or stock performance, often found in the section discussing stockholder's equity or within market reports included in quarterly filings. In case quarterly data is not available, agents should use the closest available data and indicate as such in the results.\\n\\nIt's important to ensure that the data extracted corresponds explicitly to Q2 2022, thus the agents should check historical data if the present documents do not cover this period directly.\" companies=['Calyxt, Inc.', 'NICE'] queries=['Retrieve the market capitalization for Calyxt, Inc. specifically for Q2 2022. If unavailable, provide the closest available data and specify the period.', 'Retrieve the market capitalization for NICE specifically for Q2 2022. If unavailable, provide the closest available data and specify the period.']\n",
      "### ASKING COMPANY EXPERT: Calyxt, Inc.\n",
      "### ASKING COMPANY EXPERT: NICE\n",
      "### ASKING EXECUTION MANAGER: \n",
      "Context: {'Calyxt, Inc.': AnswerEvent(chain_of_thought=\"The provided context does not contain any specific information regarding the market capitalization of Calyxt, Inc. for Q2 2022 or any other period. The focus is mainly on employee numbers, the company's operations, equity compensation plans, and liquidity challenges. There is no data about the market capitalization.\", answer='n/a'), 'NICE': AnswerEvent(chain_of_thought='The context provided does not include any specific mention or details regarding the market capitalization of NICE for Q2 2022 or any other period. Market capitalization is typically reported in financial statements or stock market analysis, but the context given focuses more on other financial metrics such as revenues, profits, and other business operations. Due to the absence of relevant data within the provided documents, determining the market capitalization for any specific period including Q2 2022 is not possible.', answer='n/a')}\n",
      "chain_of_thought='The context provided does not include any specific data on the market capitalization of either Calyxt, Inc. or NICE for Q2 2022. Both expert systems state that there is no relevant data available to determine the market capitalization for these entities in the specified period. As such, without the necessary information on market capitalization values for comparison during Q2 2022, it is impossible to answer this query.' answer='n/a'\n",
      "## Query: How many stores did \"Renishaw plc\" have in the end of fiscal year 2023?\n",
      "### ASKING DELEGATION MANAGER: \n",
      "Delegations: \n",
      " chain_of_thought=\"The query pertains to the company 'Renishaw plc'. However, after reviewing the list of companies that I can delegate information retrieval tasks to, 'Renishaw plc' is not included. Therefore, I must mark this query as 'SKIP' for both 'companies' and 'queries' since it does not match any company in the list I can handle.\" companies=['SKIP'] queries=['SKIP']\n",
      "### ASKING EXECUTION MANAGER: \n",
      "Context: {'SKIP': 'No data available'}\n",
      "chain_of_thought='The context provided indicates that there is no data available regarding the number of stores for Renishaw plc at the end of the fiscal year 2023.' answer='n/a'\n",
      "## Query: How much did \"TD SYNNEX\" spend on R&D in Q2 2022?\n",
      "### ASKING DELEGATION MANAGER: \n",
      "Delegations: \n",
      " chain_of_thought=\"The query clearly mentions 'TD SYNNEX', which matches exactly with one of the company names in our list, so I extracted it as the company of interest.\\nNext, the query requires information on R&D (Research and Development) spending for the second quarter (Q2) of 2022. To formulate the query for the specialized agent, I noted that details about R&D expenditure are typically found in the income statement or notes to financial statements section of company reports. Given that quarterly data is requested, if TD SYNNEX does not provide quarterly figures in their public reports, the agent should provide the most accurate available information, such as from 10-Q filings, noting any limitations.\" companies=['TD SYNNEX'] queries=[\"Retrieve TD SYNNEX's R&D expenditure from their Q2 2022 financial reports. This information can typically be found in the income statement or notes section of the company's 10-Q filing. If specific Q2 data is not available, provide the closest available data, making sure to highlight any limitations in the time period covered.\"]\n",
      "### ASKING COMPANY EXPERT: TD SYNNEX\n",
      "### ASKING EXECUTION MANAGER: \n",
      "Context: {'TD SYNNEX': AnswerEvent(chain_of_thought=\"The provided CONTEXT does not contain specific financial statements or detailed information related to TD SYNNEX's R&D expenditure in their Q2 2022 financial reports. Therefore, the information requested is not available in the extracts provided.\", answer='n/a')}\n",
      "chain_of_thought=\"The CONTEXT explicitly states that there is no specific information available regarding TD SYNNEX's R&D expenditure in Q2 2022. The data provided in the CONTEXT lacks the necessary details. Therefore, according to the instructions, if the information is not available, the answer should be 'n/a'.\" answer='n/a'\n",
      "## Query: Who is the CFO in the company \"TD SYNNEX\"?\n",
      "### ASKING DELEGATION MANAGER: \n",
      "Delegations: \n",
      " chain_of_thought='The query specifically mentions \"TD SYNNEX\", which is an exact match with one of the companies listed. Therefore, I identified \"TD SYNNEX\" as the company in question.' companies=['TD SYNNEX'] queries=[\"Retrieve the current Chief Financial Officer (CFO) for TD SYNNEX. This information can typically be found in the company's board of directors section or executive team section in the annual report or on the company's official website.\"]\n",
      "### ASKING COMPANY EXPERT: TD SYNNEX\n",
      "### ASKING EXECUTION MANAGER: \n",
      "Context: {'TD SYNNEX': AnswerEvent(chain_of_thought='The document contains the 2022 Summary Compensation Table, listing various executive positions within TD SYNNEX. In this table, the name and principal position of the Chief Financial Officer is provided. Based on the data, the Chief Financial Officer mentioned is Marshall Witt for the fiscal year 2022. Therefore, considering that the context of the document corresponds to the latest available information, the current CFO is Marshall Witt.', answer='Marshall Witt')}\n",
      "chain_of_thought='The document contains details from the 2022 Summary Compensation Table of TD SYNNEX, which includes executive positions. According to this document, the Chief Financial Officer (CFO) for TD SYNNEX in the fiscal year 2022 is Marshall Witt. The information is the latest available, and hence, based on the context provided, the current CFO is likely still Marshall Witt.' answer='Marshall Witt'\n",
      "## Query: Did \"Eurocell PLC\" have a greater Return on Equity (ROE) than \"Strike Energy Limited\" in Q2 2022?\n",
      "### ASKING DELEGATION MANAGER: \n",
      "Delegations: \n",
      " chain_of_thought=\"The query is asking for the Return on Equity (ROE) comparison between Eurocell PLC and Strike Energy Limited for Q2 2022. Both Eurocell PLC and Strike Energy Limited are present in the list of companies. Therefore, they are identified for this task. ROE is a financial performance metric calculated as net income divided by shareholders' equity, often found in the financial statements section of a company's quarterly or annual report. Specialized agents should retrieve the net income and shareholders' equity from Eurocell PLC and Strike Energy Limited’s Q2 2022 reports if available, or full-year 2022 data as an alternative, and calculate the ROE for comparison.\" companies=['Eurocell PLC', 'Strike Energy Limited'] queries=[\"Retrieve net income and shareholders' equity from Eurocell PLC's Q2 2022 financial report to calculate Return on Equity. If Q2 data is unavailable, acquire full-year 2022 data and note this in the results.\", \"Retrieve net income and shareholders' equity from Strike Energy Limited's Q2 2022 financial report to calculate Return on Equity. If Q2 data is unavailable, acquire full-year 2022 data and note this in the results.\"]\n",
      "### ASKING COMPANY EXPERT: Eurocell PLC\n",
      "### ASKING COMPANY EXPERT: Strike Energy Limited\n",
      "### ASKING EXECUTION MANAGER: \n",
      "Context: {'Eurocell PLC': AnswerEvent(chain_of_thought=\"The document does not specify quarterly figures, only full-year 2022 figures for net income and shareholders' equity. \\n\\n1. Net income for the year 2022 is £19.7 million, as listed under 'Profit for the year.'\\n2. Shareholders' equity (total equity) at the end of 2022 is £114.9 million.\\n\\nI will calculate the Return on Equity (ROE) using full-year figures:\\n- ROE = Net Income / Shareholders' Equity\\n- In this case, ROE = £19.7 million / £114.9 million\\n\\nThe calculation yields ROE = 0.1714447391.\", answer=0.171), 'Strike Energy Limited': AnswerEvent(chain_of_thought=\"1. The context provided does not explicitly mention quarterly data (Q2 2022) for Strike Energy Limited. Instead, it provides full-year data for 2022.\\n2. Net income (profit/loss) for the full year ending 30 June 2022 is provided as a loss of $15,733,000.\\n3. Shareholders' equity (Total equity) as of 30 June 2022 is provided as $116,874,000.\\n4. Return on Equity (ROE) is calculated as Net Income divided by Shareholders' Equity.\\n5. Therefore, ROE = Net Income / Shareholders' Equity = (-15,733,000) / 116,874,000.\\n6. Calculating ROE = -0.1346789702.\\n7. Since Q2 data is unavailable, the calculation is based on full-year 2022 data, and this is noted.\", answer=-0.1347)}\n",
      "chain_of_thought=\"The question asks for Q2 2022 ROE figures, but the context provides only full-year data for both companies.\\n\\n1. For Eurocell PLC, the full-year 2022 ROE calculation is based on a net income of £19.7 million and shareholders' equity of £114.9 million, resulting in an ROE of 0.171.\\n2. For Strike Energy Limited, the full-year 2022 ROE calculation is based on a net income of -$15,733,000 and shareholders' equity of $116,874,000, resulting in an ROE of -0.1347.\\n\\nComparing the ROEs calculated from full-year data:\\n- Eurocell PLC's ROE is 0.171\\n- Strike Energy Limited's ROE is -0.1347\\n\\nSince 0.171 > -0.1347, Eurocell PLC has a greater ROE than Strike Energy Limited based on the available full-year data.\" answer='yes'\n",
      "## Query: How many stores did \"OTC_UNCIF\" have in the end of fiscal year 2023?\n",
      "### ASKING DELEGATION MANAGER: \n",
      "Delegations: \n",
      " chain_of_thought=\"The query requests information about a company, but 'OTC_UNCIF' does not appear on the provided list of companies. Since it does not match any from ['Air Products', 'Sandwell Aquatics Centre', 'Zegona Communications plc', 'Limbach Holdings, Inc.', 'Motus GI Holdings, Inc.', 'Mercurity Fintech Holding Inc.', 'Calyxt, Inc.', 'EMT', 'TD SYNNEX', 'Canadian Banc Corp.', 'Platform Technology', 'Kooth Plc', 'Ethernity Networks Ltd', 'NICE', 'Eurocell PLC', 'VENUS METALS CORPORATION LIMITED', 'Accuray Incorporated', 'Nykredit', 'Strike Energy Limited', 'Global Medical REIT Inc.'], the task is marked as 'SKIP'. Therefore, no companies or queries are generated, as the query's company identifier does not align with the known list.\" companies=['SKIP'] queries=['SKIP']\n",
      "### ASKING EXECUTION MANAGER: \n",
      "Context: {'SKIP': 'No data available'}\n",
      "chain_of_thought=\"The CONTEXT provided states 'No data available'. This clearly indicates that there is no information given regarding the number of stores 'OTC_UNCIF' had at the end of fiscal year 2023. As my task is to rely solely on the data made available in the CONTEXT, I must conclude that the information is unavailable.\" answer='n/a'\n",
      "## Query: How much did \"EMT\" spend on customer acquisition in Q2 2023?\n",
      "### ASKING DELEGATION MANAGER: \n",
      "Delegations: \n",
      " chain_of_thought='I identified \"EMT\" as one of the companies in the available list. The query is specific to the amount spent on customer acquisition during Q2 2023. To gather this information, the agent should look into the company\\'s quarterly financial statements, typically under the sales or marketing expenses section, as these often include customer acquisition costs. If the quarterly data isn\\'t specified but annual data is, the agent should provide insights based on the available figures while noting the discrepancy.' companies=['EMT'] queries=[\"Retrieve information on EMT's customer acquisition costs for Q2 2023. Check the quarterly financial statements, especially the sales or marketing expenses sections, as these typically document such expenditures. If only annual data is available, provide the best available insights, making the unavailability of a specific quarter known.\"]\n",
      "### ASKING COMPANY EXPERT: EMT\n",
      "### ASKING EXECUTION MANAGER: \n",
      "Context: {'EMT': AnswerEvent(chain_of_thought='The provided documents contain financial data for the year ended 30 June 2022, including administration expenses related to marketing and investor relations for 2022 and 2021. However, there are no specifics for the year 2023, let alone for Q2 2023.\\n\\nI checked the documents for any quarterly financial statement, sales or marketing expenses, or any data that might reflect the customer acquisition costs for Q2 2023, but there is no such data.\\n\\nAs a result, the specific customer acquisition costs for Q2 2023 are not available.', answer='n/a')}\n",
      "chain_of_thought='The context provides financial data for EMT for the year ended 30 June 2022, mentioning administration expenses related to marketing and investor relations for 2022 and 2021. However, it explicitly indicates that there is no specific data for the year 2023, especially for Q2 2023. All documentation was checked for any relevant financial statement, sales or marketing expenses, or any other data reflecting customer acquisition costs for Q2 2023, but none were available.' answer='n/a'\n",
      "## Query: Who is the Board Chairman in the company \"Motus GI Holdings, Inc.\"?\n",
      "### ASKING DELEGATION MANAGER: \n",
      "Delegations: \n",
      " chain_of_thought='The query specifically mentions the company \"Motus GI Holdings, Inc.\", which is listed in the provided companies list. Therefore, this company is the focus of the query. To find out who the Board Chairman is, the specialized agent should look into Motus GI Holdings, Inc.\\'s most recent annual or quarterly report, typically found in the sections concerning corporate governance or company leadership. This allows for the retrieval of accurate and up-to-date information regarding the company\\'s leadership.' companies=['Motus GI Holdings, Inc.'] queries=['Retrieve information about the current Board Chairman from the corporate governance section in the most recent annual or quarterly report for Motus GI Holdings, Inc.']\n",
      "### ASKING COMPANY EXPERT: Motus GI Holdings, Inc.\n",
      "### ASKING EXECUTION MANAGER: \n",
      "Context: {'Motus GI Holdings, Inc.': AnswerEvent(chain_of_thought='The request is to provide the name of the current Board Chairman for Motus GI Holdings, Inc. from the corporate governance section of their most recent annual or quarterly report. The available CONTEXT includes sections and organizational details of Motus GI Holdings, Inc., as provided in their Form 10-K report for the fiscal year ended December 31, 2022. However, the specific information regarding the Board Chairman or complete corporate governance details from this section is not included in the excerpts available. Without the exact name mentioned in the extracted data, we cannot provide the current Board Chairman’s name.', answer='n/a')}\n",
      "chain_of_thought=\"The CONTEXT provided indicates the data source as the Form 10-K report for Motus GI Holdings, Inc. for the fiscal year ended December 31, 2022. However, the specific details regarding the Board Chairman are not contained within the provided excerpts from this document. Therefore, I cannot extract or infer the chairman's name from the available data.\" answer='n/a'\n",
      "## Query: Did \"Calyxt, Inc.\" have a greater Operating Margin than \"Banque Cantonale Vaudoise\" in Q2 2023?\n",
      "### ASKING DELEGATION MANAGER: \n",
      "Delegations: \n",
      " chain_of_thought='The query mentions \"Calyxt, Inc.\" and \"Banque Cantonale Vaudoise.\" I have identified \"Calyxt, Inc.\" as a company in the list. However, \"Banque Cantonale Vaudoise\" is not included in the list of companies I can access, so I provide \\'SKIP\\' for both companies and queries. Since \"Banque Cantonale Vaudoise\" is not in the list, comparison cannot be executed with available agents. Therefore, I am unable to proceed with crafting queries for this task based on the available database companies.' companies=['SKIP'] queries=['SKIP']\n",
      "### ASKING EXECUTION MANAGER: \n",
      "Context: {'SKIP': 'No data available'}\n",
      "chain_of_thought='The context indicates there is no available data regarding the operating margins of Calyxt, Inc. and Banque Cantonale Vaudoise for Q2 2023. Without data on their operating margins for this specific timeframe, it is impossible to determine which company had a greater operating margin.' answer='n/a'\n",
      "## Query: How many stores did \"EMT\" have in the end of fiscal year 2023?\n",
      "### ASKING DELEGATION MANAGER: \n",
      "Delegations: \n",
      " chain_of_thought=\"The query clearly mentions 'EMT', which is present in our list of companies. Hence, I will create a query for this company to retrieve the requested information about the number of stores it had at the end of the fiscal year 2023. Information about the number of stores is typically found in the business overview or financial summary sections of the annual report.\" companies=['EMT'] queries=[\"Retrieve the number of stores EMT had at the end of fiscal year 2023. This information is typically found in the business overview or financial summary sections of the company's annual report. Cross-check if the data is specified for fiscal year-end, and use the most recent full-year data if specific quarterly data is unavailable.\"]\n",
      "### ASKING COMPANY EXPERT: EMT\n",
      "### ASKING EXECUTION MANAGER: \n",
      "Context: {'EMT': AnswerEvent(chain_of_thought=\"The context provided contains the annual financial report for the year ended 30 June 2022 for the company eMetals Limited. The documents include sections such as the corporate information, directors' report, financial statements, and notes to the consolidated financial statements. However, the exact number of stores for EMT (eMetals Limited) at the end of fiscal year 2023 is not mentioned in the context. The information about the number of stores typically found in the business overview or financial summary is not present here. Since there is no mention of the fiscal year 2023 and the number of stores, and given the fact that the data provided is for the fiscal year ended 30 June 2022, we do not have the relevant information available.\", answer='n/a')}\n",
      "chain_of_thought='The context provides information for eMetals Limited (EMT) but does not include data on the number of stores at the end of fiscal year 2023. The data available is for the fiscal year ending 30 June 2022 and does not include relevant details about the number of stores in 2023. Given the lack of specific information for fiscal year 2023, an answer is not available based on the provided context.' answer='n/a'\n",
      "## Query: How much did \"Ethernity Networks Ltd\" spend on customer acquisition in Q2 2023?\n",
      "### ASKING DELEGATION MANAGER: \n",
      "Delegations: \n",
      " chain_of_thought=\"I identified the company mentioned in the query as 'Ethernity Networks Ltd', which matches exactly with one of the companies from the provided list. Therefore, I can proceed to create a query for this company. The query is specifically asking for customer acquisition costs for Q2 2023. Such financial data will typically be part of the company's sales and marketing expenses in their interim financial report for the second quarter of 2023. If quarterly figures are unavailable, agents should refer to the half-yearly report and provide the best estimate.\" companies=['Ethernity Networks Ltd'] queries=['Retrieve the customer acquisition costs for Ethernity Networks Ltd for Q2 2023. This information is typically found within sales and marketing expenses in the interim financial report. If Q2-specific data is not available, provide the half-year data as the best estimate.']\n",
      "### ASKING COMPANY EXPERT: Ethernity Networks Ltd\n",
      "### ASKING EXECUTION MANAGER: \n",
      "Context: {'Ethernity Networks Ltd': AnswerEvent(chain_of_thought=\"The context provided does not contain specific financial data for Ethernity Networks Ltd for the year 2023, let alone Q2 2023. The documents primarily consist of annual reports for the years ending December 2021 and December 2022, with general information about the company's operations and management. There are no details regarding interim financial reports or specific information about sales and marketing expenses or customer acquisition costs for Q2 2023 or the first half of 2023.\", answer='n/a')}\n",
      "chain_of_thought='The context clearly states that there is no specific financial data available for Ethernity Networks Ltd concerning customer acquisition costs for Q2 2023. The available data pertains only to annual reports for 2021 and 2022, without any specific breakdown or interim reports for 2023. Therefore, I cannot provide a precise figure for customer acquisition costs for Q2 2023.' answer='n/a'\n",
      "## Query: Who is the CFO in the company \"Ethernity Networks Ltd\"?\n",
      "### ASKING DELEGATION MANAGER: \n",
      "Delegations: \n",
      " chain_of_thought='The query is asking for the CFO of \"Ethernity Networks Ltd\". I reviewed the company list, and found a direct match with the exact company name \"Ethernity Networks Ltd\". Hence, I can create a specialized query to find out who holds the CFO position at this company. Typically, information about executive officers, such as the CFO, can be found in the company\\'s annual report, specifically in the sections about company leadership or director biographies. Additionally, recent press releases or the company\\'s official website under the leadership or investor relations sections might have this information.' companies=['Ethernity Networks Ltd'] queries=[\"Retrieve the name of the CFO of Ethernity Networks Ltd. This information can generally be found in the company's annual report, specifically in sections detailing executive officers, or on their official website under leadership or investor relations.\"]\n",
      "### ASKING COMPANY EXPERT: Ethernity Networks Ltd\n",
      "### ASKING EXECUTION MANAGER: \n",
      "Context: {'Ethernity Networks Ltd': AnswerEvent(chain_of_thought='The document provides details on the board of directors and key executive positions at Ethernity Networks Ltd. It specifically lists the name and roles of various directors and executives. In this case, we are interested in the Chief Financial Officer (CFO) position.\\n\\n- The document lists the following executives:\\n  - Richard Bennett (Independent Non-Executive Chairman)\\n  - David Levi (Chief Executive Officer)\\n  - Mark Reichenberg (Chief Financial Officer)', answer='Mark Reichenberg')}\n",
      "chain_of_thought=\"The context provides specific details regarding key executives at 'Ethernity Networks Ltd'. It lists individual names along with their respective roles, which include the Chief Financial Officer (CFO). According to the given data, Mark Reichenberg is identified as the CFO of the company.\" answer='Mark Reichenberg'\n",
      "## Query: Did \"Canadian Banc Corp.\" have a greater Return on Assets (ROA) than \"VENUS METALS CORPORATION LIMITED\" in Q2 2021?\n",
      "### ASKING DELEGATION MANAGER: \n",
      "Delegations: \n",
      " chain_of_thought=\"The query specifically mentions 'Canadian Banc Corp.' and 'VENUS METALS CORPORATION LIMITED', both of which are in the provided list of companies. Hence, these are the companies we'll focus on. The query asks for the Return on Assets (ROA) for Q2 2021. ROA is typically found in the financial statements, often calculated as net income divided by total assets. The agents should look into the Q2 2021 financial reports of both companies for net income and total assets figures. If quarterly data isn't available, agents should provide the nearest possible data, whether it's the annual ROA for 2021 or any available interim reports. The goal is to provide the best available comparison for Q2 2021.\" companies=['Canadian Banc Corp.', 'VENUS METALS CORPORATION LIMITED'] queries=['Retrieve the Q2 2021 net income and total assets for Canadian Banc Corp. to calculate Return on Assets (ROA). If Q2 data is unavailable, provide the best available quarterly or full-year 2021 data.', 'Retrieve the Q2 2021 net income and total assets for VENUS METALS CORPORATION LIMITED to calculate Return on Assets (ROA). If Q2 data is unavailable, provide the best available quarterly or full-year 2021 data.']\n",
      "### ASKING COMPANY EXPERT: Canadian Banc Corp.\n",
      "### ASKING COMPANY EXPERT: VENUS METALS CORPORATION LIMITED\n",
      "### ASKING EXECUTION MANAGER: \n",
      "Context: {'Canadian Banc Corp.': AnswerEvent(chain_of_thought='To calculate the Return on Assets (ROA), we need the net income and the total assets for a particular time period. ROA is calculated as Net Income divided by Total Assets.\\n\\nFrom the provided CONTEXT:\\n- The financial data is given for the years ending November 30, 2022, and 2021, however, the data is annual and not specific to Q2 or any other quarter.\\n- The Statements of Financial Position lists total assets for November 30, 2021 as $238,523,756. This is a full-year figure as of the end of the fiscal year.\\n- The Statements of Comprehensive Income lists the income for the full year 2021, but the specific net income number (\"net gain or loss\") that fits the definition of \"net income\" for our ROA calculation is not directly listed separately.\\n\\nThe most relevant and available data is the full-year data for 2021.', answer='n/a'), 'VENUS METALS CORPORATION LIMITED': AnswerEvent(chain_of_thought='The CONTEXT provides annual reports for 2022, implying that the 2021 report data might have limited availability. \\nFirst, to calculate ROA for 2021, we need:\\n1. Net Income for 2021.\\n2. Total Assets for 2021.\\n\\nThe formula for ROA is: ROA = Net Income / Total Assets.\\n\\nSince Q2 2021 data is requested but may not be available, I will check for yearly data from any potentially implied sources within the CONTEXT. However, if no specific numbers for net income and total assets are available, especially when the dataset explicitly mentions only 2022 annual data, the best approximation is unavailable.\\n\\nGiven the CONTEXT is an Annual Report 2022 from VENUS METALS CORPORATION LIMITED, and the specific net income and total assets for 2021 are not mentioned within the provided text or page-content snippets, I conclude that the required 2021 data is not available.', answer='n/a')}\n",
      "chain_of_thought='To determine which company had a greater Return on Assets (ROA) in Q2 2021, we need the specific quarterly net income and total assets for that period to calculate ROA. ROA is typically calculated as Net Income divided by Total Assets.\\n\\nIn the CONTEXT provided:\\n- For \"Canadian Banc Corp.\", we only have full-year data for 2021, without specific net income figures isolated for Q2. Therefore, the quarterly ROA cannot be computed.\\n- Similarly, for \"VENUS METALS CORPORATION LIMITED\", there is no specific Q2 or 2021 detailed data available for net income or total assets. The CONTEXT only refers to 2022 data without clear figures for the previous year.\\n\\nGiven the absence of specific quarterly data for both companies for Q2 2021, we cannot calculate and compare their ROA for that period.' answer='n/a'\n",
      "## Query: How many stores did \"VENUS METALS CORPORATION LIMITED\" have in the end of fiscal year 2023?\n",
      "### ASKING DELEGATION MANAGER: \n",
      "Delegations: \n",
      " chain_of_thought=\"I extracted the company name from the query and identified it as 'VENUS METALS CORPORATION LIMITED', which is in the provided list of companies. As Venus Metals Corporation Limited is typically involved in mining and exploration rather than retail, they are unlikely to have 'stores' in the traditional sense. This query might reflect a misunderstanding of the business model. However, to address the request as asked, the specialized agent can check if the company uses any other terminology equivalent to 'stores' in its annual report, such as regional offices or sales centers. If no relevant data is found related to 'stores', the agent should clarify that the nature of the business does not typically include stores.\" companies=['VENUS METALS CORPORATION LIMITED'] queries=[\"Retrieve information regarding any 'stores', regional offices, or sales centers VENUS METALS CORPORATION LIMITED may report at the end of fiscal year 2023 from their annual report. Clarify if such structures do not exist given their business model.\"]\n",
      "### ASKING COMPANY EXPERT: VENUS METALS CORPORATION LIMITED\n",
      "### ASKING EXECUTION MANAGER: \n",
      "Context: {'VENUS METALS CORPORATION LIMITED': AnswerEvent(chain_of_thought=\"The context provided consists of pages from the 2022 annual report of Venus Metals Corporation Limited. A request for information on stores, regional offices, or sales centers at the end of fiscal year 2023 would ideally require such data explicitly listed in the annual report. Since the report provided is for the year 2022, and the business model of Venus Metals Corporation Limited generally aligns with mineral exploration, it's likely they do not operate traditional 'stores' or 'sales centers' as a retail company would. Without specific details in the given 2022 report or access to the 2023 report, we cannot confirm the existence or details of such structures for 2023.\", answer='n/a')}\n",
      "chain_of_thought='The context provided is from the 2022 annual report of Venus Metals Corporation Limited. It implies that Venus Metals Corporation Limited is involved in mineral exploration and unlikely to operate retail stores. Furthermore, since the request is for the end of fiscal year 2023 and the only available data is for 2022, and no explicit information about stores is provided, I must conclude that there is insufficient data to answer the question regarding the number of stores in 2023.' answer='n/a'\n",
      "## Query: How much did \"Motus GI Holdings, Inc.\" spend on sustainability initiatives in Q2 2023?\n",
      "### ASKING DELEGATION MANAGER: \n",
      "Delegations: \n",
      " chain_of_thought='The query asks about \"Motus GI Holdings, Inc.\" which matches exactly with one of the companies in the list. Thus, we should construct a query to retrieve relevant information about their sustainability initiatives for Q2 2023. Sustainability initiatives spending might typically be discussed in sections of annual or quarterly reports related to corporate social responsibility (CSR) or environmental, social, and governance (ESG) disclosures. Note to the agent: If quarterly data is not available, provide the best available data and clarify this in the results.' companies=['Motus GI Holdings, Inc.'] queries=['Retrieve data on the amount Motus GI Holdings, Inc. spent on sustainability initiatives in Q2 2023. Check sections related to CSR or ESG in quarterly or annual reports. If specific Q2 data is unavailable, provide the best available data and clarify the period it covers.']\n",
      "### ASKING COMPANY EXPERT: Motus GI Holdings, Inc.\n",
      "### ASKING EXECUTION MANAGER: \n",
      "Context: {'Motus GI Holdings, Inc.': AnswerEvent(chain_of_thought='The provided context does not contain specific sections related to Corporate Social Responsibility (CSR) or Environmental, Social, and Governance (ESG) expenditures. Additionally, there is no specific mention of sustainability initiatives or spending related to CSR or ESG for Q2 2023 or any other period. As the context does not provide information about sustainability spending, I cannot determine any figure related to this request.', answer='n/a')}\n",
      "chain_of_thought='The context specifically notes that there is no information related to Corporate Social Responsibility (CSR), Environmental, Social, and Governance (ESG) expenditures, or sustainability initiatives for Motus GI Holdings, Inc. in Q2 2023 or any other period. Therefore, based on the context, there is no available figure for sustainability spending for Q2 2023.' answer='n/a'\n",
      "## Query: Who is the Board Chairman in the company \"Renishaw plc\"?\n",
      "### ASKING DELEGATION MANAGER: \n",
      "Delegations: \n",
      " chain_of_thought=\"The query is asking about Renishaw plc, which is not listed in the provided companies. Since 'Renishaw plc' does not match any company in the given list, this query falls outside the scope of the task. Therefore, it is appropriate to SKIP this request.\" companies=['SKIP'] queries=['SKIP']\n",
      "### ASKING EXECUTION MANAGER: \n",
      "Context: {'SKIP': 'No data available'}\n",
      "chain_of_thought='The context provided contains no information about the board or executives at Renishaw plc. Without specific data or mention of the Board Chairman of Renishaw plc in the CONTEXT, I cannot provide an answer based on the available data.' answer='n/a'\n",
      "## Query: Did \"Canadian Banc Corp.\" have a greater Gross Profit Margin than \"Motus GI Holdings, Inc.\" in Q2 2022?\n",
      "### ASKING DELEGATION MANAGER: \n",
      "Delegations: \n",
      " chain_of_thought='The query specifically mentions two companies: \"Canadian Banc Corp.\" and \"Motus GI Holdings, Inc.\". Both are present in the list, so we proceed with formulating queries.\\n\\nTo determine if \"Canadian Banc Corp.\" had a greater Gross Profit Margin than \"Motus GI Holdings, Inc.\" in Q2 2022, we need to:\\n1. Retrieve the Gross Profit for Q2 2022 for each company from their financial statements, usually found in the income statement section of their quarterly reports.\\n2. Retrieve the Revenue for Q2 2022 for each company, also found in the income statement.\\n3. Calculate the Gross Profit Margin using the formula: Gross Profit Margin = (Gross Profit / Revenue) * 100%.\\n4. Compare the calculated margins to determine which is greater.\\n\\nQueries are then structured to extract these specific financial metrics for each company for the specified quarter.' companies=['Canadian Banc Corp.', 'Motus GI Holdings, Inc.'] queries=['Retrieve the Gross Profit and Revenue for Canadian Banc Corp. from their Q2 2022 financial statements and compute the Gross Profit Margin using the formula (Gross Profit / Revenue) * 100%.', 'Retrieve the Gross Profit and Revenue for Motus GI Holdings, Inc. from their Q2 2022 financial statements and compute the Gross Profit Margin using the formula (Gross Profit / Revenue) * 100%.']\n",
      "### ASKING COMPANY EXPERT: Canadian Banc Corp.\n",
      "### ASKING COMPANY EXPERT: Motus GI Holdings, Inc.\n",
      "### ASKING EXECUTION MANAGER: \n",
      "Context: {'Canadian Banc Corp.': AnswerEvent(chain_of_thought='The context provides data from various reports and summaries for Canadian Banc Corp. but does not explicitly mention Q2 2022 financial statements or figures for Gross Profit and Revenue for that specific quarter. To calculate the Gross Profit Margin, we need the exact figures for Gross Profit and Revenue: Gross Profit Margin = (Gross Profit / Revenue) * 100%. Since the required quarterly financial details are not present in the given documents, we are unable to compute the margin or retrieve specific values for Gross Profit and Revenue for Q2 2022.', answer='n/a'), 'Motus GI Holdings, Inc.': AnswerEvent(chain_of_thought='The given context does not provide specific revenue or gross profit data for Q2 2022 or any financial quarters. It only mentions market value as of June 2022 and some other agreements and certifications. Therefore, there are no available details on the revenue or gross profit figures for Q2 2022 to compute the Gross Profit Margin.', answer='n/a')}\n",
      "chain_of_thought='To determine which company had a greater Gross Profit Margin in Q2 2022, we need the Gross Profit and Revenue figures for both Canadian Banc Corp. and Motus GI Holdings, Inc. during that specific quarter. The Gross Profit Margin is calculated as (Gross Profit / Revenue) * 100%. However, according to the CONTEXT provided, there is no specific data available for Q2 2022 concerning the Gross Profit or Revenue for either company. Therefore, without this financial information, we are unable to compute or compare the Gross Profit Margins for these companies for that quarter.' answer='n/a'\n",
      "## Query: How many stores did \"VENUS METALS CORPORATION LIMITED\" have in the end of fiscal year 2021?\n",
      "### ASKING DELEGATION MANAGER: \n",
      "Delegations: \n",
      " chain_of_thought='The query asks about the number of stores for \"VENUS METALS CORPORATION LIMITED.\" Given the company\\'s name matches exactly with the one in our list, it\\'s identified correctly. However, since \"VENUS METALS CORPORATION LIMITED\" is unlikely to operate stores due to its industry (metals and mining), the concept of \\'stores\\' likely doesn\\'t apply. Instead, I will query about their operational assets or locations, as stored might be a misinterpretation. The annual report, specifically the segments reported on operational assets or locations, would provide insight.' companies=['VENUS METALS CORPORATION LIMITED'] queries=['Please provide the number of operational assets or locations for VENUS METALS CORPORATION LIMITED at the end of the fiscal year 2021. Check sections of the annual report detailing operational or mining assets locations. Note that VENUS METALS CORPORATION LIMITED might not operate stores, given its industry.']\n",
      "### ASKING COMPANY EXPERT: VENUS METALS CORPORATION LIMITED\n",
      "### ASKING EXECUTION MANAGER: \n",
      "Context: {'VENUS METALS CORPORATION LIMITED': AnswerEvent(chain_of_thought=\"The context provided includes multiple sections of VENUS METALS CORPORATION LIMITED's annual report for 2022 but does not explicitly state details about operational or mining assets locations. Without specific information on the number of operational assets or locations for the fiscal year 2021, it is not possible to determine the answer.\", answer='n/a')}\n",
      "chain_of_thought='The context provided states that the annual report for 2022 of VENUS METALS CORPORATION LIMITED does not explicitly state details about operational or mining assets locations for the fiscal year 2021. Without specific information provided in the context about the number of stores or operational assets for 2021, it is not possible to determine the answer.' answer='n/a'\n",
      "## Query: How much did \"Renishaw plc\" spend on risk management in Q2 2022?\n",
      "### ASKING DELEGATION MANAGER: \n",
      "Delegations: \n",
      " chain_of_thought=\"The company mentioned in the query is 'Renishaw plc', which is not in the provided list of ['Air Products', 'Sandwell Aquatics Centre', 'Zegona Communications plc', 'Limbach Holdings, Inc.', 'Motus GI Holdings, Inc.', 'Mercurity Fintech Holding Inc.', 'Calyxt, Inc.', 'EMT', 'TD SYNNEX', 'Canadian Banc Corp.', 'Platform Technology', 'Kooth Plc', 'Ethernity Networks Ltd', 'NICE', 'Eurocell PLC', 'VENUS METALS CORPORATION LIMITED', 'Accuray Incorporated', 'Nykredit', 'Strike Energy Limited', 'Global Medical REIT Inc.']. Therefore, the appropriate response is to mark this request with 'SKIP' for both 'companies' and 'queries'.\" companies=['SKIP'] queries=['SKIP']\n",
      "### ASKING EXECUTION MANAGER: \n",
      "Context: {'SKIP': 'No data available'}\n",
      "chain_of_thought=\"The query asks for the specific expenditure on risk management by Renishaw plc in Q2 2022. The context provided has a note 'No data available,' indicating that there is no specific financial data or expenditure related to risk management for Renishaw plc for that period in the provided context.\" answer='n/a'\n",
      "## Query: Who is the Board Chairman in the company \"TD SYNNEX\"?\n",
      "### ASKING DELEGATION MANAGER: \n",
      "Delegations: \n",
      " chain_of_thought='The query is clearly asking for information about \"TD SYNNEX\" which matches exactly with one of the company names provided in the list. Thus, I will focus on TD SYNNEX for this query. The information about the Board Chairman is typically found in the \"Corporate Governance\" section of the annual report or on the company\\'s official website under the leadership or board of directors section. Therefore, I will create an appropriate query for the specialized agent to retrieve this particular information.' companies=['TD SYNNEX'] queries=[\"Retrieve the name of the Board Chairman for TD SYNNEX from their most recent annual report or corporate governance section. Also, check the company's official website under the leadership or board of directors section if necessary.\"]\n",
      "### ASKING COMPANY EXPERT: TD SYNNEX\n",
      "### ASKING EXECUTION MANAGER: \n",
      "Context: {'TD SYNNEX': AnswerEvent(chain_of_thought='Based on the provided context, the name of the Board Chairman for TD SYNNEX is Dennis Polk. The document specifies that Dennis Polk holds the position of Executive Chair of the board.', answer='Dennis Polk')}\n",
      "chain_of_thought='The context provided identifies Dennis Polk as the Board Chairman for TD SYNNEX. It specifically states that Dennis Polk holds the position of Executive Chair of the board, indicating he is the current Board Chairman.' answer='Dennis Polk'\n",
      "## Query: Did \"Banque Cantonale Vaudoise\" have a greater Operating Margin than \"Zegona Communications plc\" in Q2 2021?\n",
      "### ASKING DELEGATION MANAGER: \n",
      "Delegations: \n",
      " chain_of_thought='The query mentions \"Banque Cantonale Vaudoise\" and \"Zegona Communications plc.\" Upon reviewing the list of companies provided, only \"Zegona Communications plc\" is included. Therefore, I cannot provide information on Banque Cantonale Vaudoise and must disregard this part of the query. The operating margin for \"Zegona Communications plc\" for Q2 2021 can be analyzed by retrieving the operating profit and revenue for Q2 2021 from their quarterly financial reports. Operating profit is generally found in the income statement section of these reports. As only \"Zegona Communications plc\" from the list is available, I mark the query for the other company as \\'SKIP\\'.' companies=['Zegona Communications plc'] queries=[\"Retrieve the operating profit and revenue for Q2 2021 for Zegona Communications plc from their income statement. Calculate the operating margin as operating profit divided by revenue. If quarterly data is unavailable, please provide the closest available information from the company's financial reports.\"]\n",
      "### ASKING COMPANY EXPERT: Zegona Communications plc\n",
      "### ASKING EXECUTION MANAGER: \n",
      "Context: {'Zegona Communications plc': AnswerEvent(chain_of_thought=\"The provided CONTEXT contains financial data for Zegona Communications plc, but it does not specify quarterly figures such as Q2 2021. Instead, it provides consolidated annual data. Specifically, for the year ending 31 December 2021, Zegona had an operating loss from continuing operations totalling €34.0 million. However, no revenue figure is disclosed in the CONTEXT, so I cannot calculate the operating margin for Q2 2021 or for the full year 2021. The lack of both quarterly and full-year revenue figures in the CONTEXT means there's insufficient data to compute an operating margin.\", answer='n/a')}\n",
      "chain_of_thought='The CONTEXT provides information only for Zegona Communications plc, mentioning that an operating loss existed but no revenue figures or specific quarterly data are available. This renders it impossible to calculate the operating margin for Q2 2021 or the full year for Zegona. Consequently, it is not possible to compare it with Banque Cantonale Vaudoise due to the absence of operating margin data for Zegona.\\n\\nSince one of the necessary data points is unavailable, the answer to whether Banque Cantonale Vaudoise had a greater operating margin than Zegona in Q2 2021 is not available (n/a).' answer='n/a'\n",
      "## Query: How many stores did \"Strike Energy Limited\" have in the end of fiscal year 2021?\n",
      "### ASKING DELEGATION MANAGER: \n",
      "Delegations: \n",
      " chain_of_thought='The query asks about the number of stores owned by a company. I need to identify the company from the given list. The query mentions \"Strike Energy Limited,\" which matches exactly with a company listed in the available options. This company focuses on natural resources, indicating it might not operate traditional \\'stores\\', but possibly other kinds of infrastructure or assets. Nonetheless, I\\'ll proceed with the query as requested. Since company reports usually outline physical or operational assets in sections like business overview, assets, or operations, these are the sections where the specialized agent should look for a number of stores or equivalents specific to Strike Energy Limited at the end of FY 2021.' companies=['Strike Energy Limited'] queries=['Retrieve the end of fiscal year 2021 report for Strike Energy Limited and locate any mention of physical stores or equivalent assets the company might own. This information should be in the business overview or operations sections.']\n",
      "### ASKING COMPANY EXPERT: Strike Energy Limited\n",
      "### ASKING EXECUTION MANAGER: \n",
      "Context: {'Strike Energy Limited': AnswerEvent(chain_of_thought=\"The request is regarding physical stores or equivalent assets Strike Energy Limited may own, with expectations for such information to be in the business overview or operations section of their 2021 fiscal report. However, based on the provided context, it seems there's a confusion because the document only contains content related to the financial year ended June 30, 2022, not 2021, and does not provide specific details about physical stores or equivalent assets. There is information about exploration and evaluation assets, but nothing indicates the presence of physical stores or similar specific assets in the provided sections of the report.\", answer='n/a')}\n",
      "chain_of_thought=\"The user's question pertains to the number of physical stores that 'Strike Energy Limited' had at the end of fiscal year 2021. The context provided only covers information up to the end of the fiscal year 2022, and specifically mentions that there is no data regarding physical stores for any year, let alone 2021. Since the necessary data for 2021 is not present in the context, we cannot provide the number of stores for that year.\" answer='n/a'\n",
      "## Query: How much did \"Ethernity Networks Ltd\" spend on customer acquisition in Q2 2023?\n",
      "### ASKING DELEGATION MANAGER: \n",
      "Delegations: \n",
      " chain_of_thought=\"The query mentions 'Ethernity Networks Ltd', which is a company from the provided list. Hence, the company can be identified directly without any alteration in its name. The request is to find out the spending on customer acquisition for Q2 2023.\\n\\nTypically, company expenditure on customer acquisition could be part of the selling, general, and administrative (SG&A) expenses in the company's financial statements. The kinds of expenses that fall under SG&A and where exactly they are specified vary by company.\\n\\nI will craft a specific query to direct the specialized agent to look into the SG&A section of the quarterly report, or any specified segment related to marketing costs within the report, particularly for Q2 2023. If quarterly data is not available, the agent should use half-year data and specify it as such in the response.\" companies=['Ethernity Networks Ltd'] queries=[\"Retrieve Ethernity Networks Ltd's financial report for Q2 2023 and identify expenses related to customer acquisition. Check within the SG&A expenses section or any dedicated marketing expense section. If Q2-specific data is unavailable, use the half-year data with appropriate disclosures.\"]\n",
      "### ASKING COMPANY EXPERT: Ethernity Networks Ltd\n",
      "### ASKING EXECUTION MANAGER: \n",
      "Context: {'Ethernity Networks Ltd': AnswerEvent(chain_of_thought=\"The CONTEXT provided does not contain detailed numerical data or any specific mention of quarterly or half-yearly expenses, including those related to customer acquisition. The documents referenced focus on the full year ended 31 December 2022. There are financial statement references such as comprehensive loss and cash flows, but these are annual figures without a breakdown into quarters or specific line items like customer acquisition costs. Given this, there isn't enough information to accurately assess the Q2 2023 customer acquisition expenses or to extrapolate from available half-year data.\", answer='n/a')}\n",
      "chain_of_thought='The CONTEXT indicates that there is no detailed numerical data or specific mention of quarterly expenses, including those related to customer acquisition for Ethernity Networks Ltd. The data available only covers the full year ended December 31, 2022, and does not break down into quarters or specific line items such as Q2 2023 customer acquisition expenses.' answer='n/a'\n",
      "## Query: Who is the Chief Legal Officer in the company \"Nykredit\"?\n",
      "### ASKING DELEGATION MANAGER: \n",
      "Delegations: \n",
      " chain_of_thought='I identified the company mentioned in the query as \"Nykredit\", which matches one of the companies on the list provided. The query is seeking information about the Chief Legal Officer, which would typically be found in the company\\'s management or governance section of an annual report or their official website under executive profiles. It might also be available in the sections detailing the company\\'s organizational structure.\\n\\nTherefore, I proceed to formulate a query requesting this specific information for Nykredit, ensuring it is aimed at retrieving data about their executive team specifically focusing on the legal branch.' companies=['Nykredit'] queries=[\"Retrieve the name of the Chief Legal Officer from Nykredit, typically found in the executive profiles section of the company's annual report or their official website, focusing on sections detailing the company's management team or organizational structure.\"]\n",
      "### ASKING COMPANY EXPERT: Nykredit\n",
      "### ASKING EXECUTION MANAGER: \n",
      "Context: {'Nykredit': AnswerEvent(chain_of_thought=\"The context provides information about the Group Executive Board of Nykredit, which includes roles like Group Chief Executive, Group Managing Director (CFO/COO), Group Managing Director (CRO), and Group Managing Director (Banking). However, there's no mention of a Chief Legal Officer or equivalent position within the given excerpts.\", answer='n/a')}\n",
      "chain_of_thought=\"The context provides information about the Group Executive Board of Nykredit, which includes roles like Group Chief Executive, Group Managing Director (CFO/COO), Group Managing Director (CRO), and Group Managing Director (Banking). However, there's no mention of a Chief Legal Officer or equivalent position within the given excerpts.\" answer='n/a'\n",
      "## Query: Did \"Comet Holding AG\" have a greater Operating Margin than \"Calyxt, Inc.\" in Q2 2021?\n",
      "### ASKING DELEGATION MANAGER: \n",
      "Delegations: \n",
      " chain_of_thought='The query mentions \"Comet Holding AG\" and \"Calyxt, Inc.\". \"Comet Holding AG\" is not part of the company list provided, but \"Calyxt, Inc.\" is listed exactly as provided. Therefore, I can only address the part of the query relevant to \"Calyxt, Inc.\". As such, this does not provide a valid comparison and is marked as \\'SKIP\\' as it concerns a company not in the provided list and the query requires data from both entities for a comparison.' companies=['Calyxt, Inc.'] queries=['SKIP']\n",
      "### ASKING EXECUTION MANAGER: \n",
      "Context: {'Calyxt, Inc.': 'No data available'}\n",
      "chain_of_thought=\"To determine whether Comet Holding AG had a greater Operating Margin than Calyxt, Inc. in Q2 2021, we need the operating margin data for both companies for the specified quarter. The provided context indicates 'No data available' for Calyxt, Inc., meaning we lack the necessary data to make a comparison for this period. Without the operating margin for Calyxt, Inc., it is impossible to determine which company had a higher margin.\" answer='n/a'\n",
      "## Query: How many stores did \"EMT\" have in the end of fiscal year 2022?\n",
      "### ASKING DELEGATION MANAGER: \n",
      "Delegations: \n",
      " chain_of_thought='The query specifically mentions \"EMT\" which matches exactly with one of the companies in the provided list: \\'EMT\\'. The query is about the number of stores that EMT had at the end of fiscal year 2022. For this type of information, I would direct the specialized agents to the company\\'s annual report for 2022, specifically looking in sections typically related to company operations or business overview, where companies often summarize their physical footprint such as stores.' companies=['EMT'] queries=[\"Retrieve the number of stores EMT had at the end of fiscal year 2022. Check the company's annual report for 2022, focusing on sections discussing company operations or business overview for this information.\"]\n",
      "### ASKING COMPANY EXPERT: EMT\n",
      "### ASKING EXECUTION MANAGER: \n",
      "Context: {'EMT': AnswerEvent(chain_of_thought=\"I reviewed the provided CONTEXT for any information regarding the number of stores for EMT (eMetals Limited). The CONTEXT includes sections of their annual financial report, which cover various aspects such as profit and loss, financial position, and directors' report. However, there is no mention of any stores or a business overview that would typically describe such operation details for the company. The content mainly discusses financials and corporate structure.\\n\\nSince eMetals Limited is involved in mineral exploration, it is unlikely to operate in a business model involving stores, and there is no relevant information in the given CONTEXT to suggest otherwise.\", answer='n/a')}\n",
      "chain_of_thought='The CONTEXT provided contains information about eMetals Limited (EMT), which includes sections of their annual financial report. However, there is no mention of any stores or related operations within the CONTEXT. Since the company is involved in mineral exploration, it is unlikely that it operates stores. Therefore, due to the lack of information related to retail operations in the CONTEXT, I conclude that there is insufficient data to answer the query about the number of stores EMT had at the end of fiscal year 2022.' answer='n/a'\n"
     ]
    }
   ],
   "execution_count": 173
  },
  {
   "metadata": {
    "ExecuteTime": {
     "end_time": "2024-09-02T13:38:30.173645Z",
     "start_time": "2024-09-02T13:38:30.163486Z"
    }
   },
   "cell_type": "code",
   "source": "results",
   "id": "6807326cbe327128",
   "outputs": [
    {
     "data": {
      "text/plain": [
       "[{'question': 'How much did \"Accuray Incorporated\" spend on risk management in Q2 2022?',\n",
       "  'schema': 'number',\n",
       "  'answer': 'n/a'},\n",
       " {'question': 'Who is the CEO in the company \"Zegona Communications plc\"?',\n",
       "  'schema': 'name',\n",
       "  'answer': \"Eamonn O'Hare\"},\n",
       " {'question': 'Did \"Global Medical REIT Inc.\" have a greater Debt-to-Equity ratio than \"Zegona Communications plc\" in Q2 2021?',\n",
       "  'schema': 'boolean',\n",
       "  'answer': 'yes'},\n",
       " {'question': 'How many stores did \"Accuray Incorporated\" have in the end of fiscal year 2021?',\n",
       "  'schema': 'number',\n",
       "  'answer': 'n/a'},\n",
       " {'question': 'How much did \"Sandwell Aquatics Centre\" spend on R&D in Q2 2023?',\n",
       "  'schema': 'number',\n",
       "  'answer': 'n/a'},\n",
       " {'question': 'Who is the CFO in the company \"EMT\"?',\n",
       "  'schema': 'name',\n",
       "  'answer': 'n/a'},\n",
       " {'question': 'Did \"Calyxt, Inc.\" have a greater Return on Assets (ROA) than \"Global Medical REIT Inc.\" in Q2 2023?',\n",
       "  'schema': 'boolean',\n",
       "  'answer': 'n/a'},\n",
       " {'question': 'How many stores did \"OTC_UNCIF\" have in the end of fiscal year 2022?',\n",
       "  'schema': 'number',\n",
       "  'answer': 'n/a'},\n",
       " {'question': 'How much did \"Accuray Incorporated\" spend on customer acquisition in Q2 2021?',\n",
       "  'schema': 'number',\n",
       "  'answer': 'n/a'},\n",
       " {'question': 'Who is the CEO in the company \"Accuray Incorporated\"?',\n",
       "  'schema': 'name',\n",
       "  'answer': 'Suzanne Winter'},\n",
       " {'question': 'Did \"Comet Holding AG\" have a greater Operating Margin than \"Ethernity Networks Ltd\" in Q2 2022?',\n",
       "  'schema': 'boolean',\n",
       "  'answer': 'n/a'},\n",
       " {'question': 'How many stores did \"VENUS METALS CORPORATION LIMITED\" have in the end of fiscal year 2022?',\n",
       "  'schema': 'number',\n",
       "  'answer': 'n/a'},\n",
       " {'question': 'How much did \"Ethernity Networks Ltd\" spend on R&D in Q2 2023?',\n",
       "  'schema': 'number',\n",
       "  'answer': 'n/a'},\n",
       " {'question': 'Who is the COO in the company \"Sandwell Aquatics Centre\"?',\n",
       "  'schema': 'name',\n",
       "  'answer': 'n/a'},\n",
       " {'question': 'Did \"Calyxt, Inc.\" have a greater market capitalization than \"NICE\" in Q2 2022?',\n",
       "  'schema': 'boolean',\n",
       "  'answer': 'n/a'},\n",
       " {'question': 'How many stores did \"Renishaw plc\" have in the end of fiscal year 2023?',\n",
       "  'schema': 'number',\n",
       "  'answer': 'n/a'},\n",
       " {'question': 'How much did \"TD SYNNEX\" spend on R&D in Q2 2022?',\n",
       "  'schema': 'number',\n",
       "  'answer': 'n/a'},\n",
       " {'question': 'Who is the CFO in the company \"TD SYNNEX\"?',\n",
       "  'schema': 'name',\n",
       "  'answer': 'Marshall Witt'},\n",
       " {'question': 'Did \"Eurocell PLC\" have a greater Return on Equity (ROE) than \"Strike Energy Limited\" in Q2 2022?',\n",
       "  'schema': 'boolean',\n",
       "  'answer': 'n/a'},\n",
       " {'question': 'How many stores did \"OTC_UNCIF\" have in the end of fiscal year 2023?',\n",
       "  'schema': 'number',\n",
       "  'answer': 'n/a'},\n",
       " {'question': 'How much did \"EMT\" spend on customer acquisition in Q2 2023?',\n",
       "  'schema': 'number',\n",
       "  'answer': 'n/a'},\n",
       " {'question': 'Who is the Board Chairman in the company \"Motus GI Holdings, Inc.\"?',\n",
       "  'schema': 'name',\n",
       "  'answer': 'n/a'},\n",
       " {'question': 'Did \"Calyxt, Inc.\" have a greater Operating Margin than \"Banque Cantonale Vaudoise\" in Q2 2023?',\n",
       "  'schema': 'boolean',\n",
       "  'answer': 'n/a'},\n",
       " {'question': 'How many stores did \"EMT\" have in the end of fiscal year 2023?',\n",
       "  'schema': 'number',\n",
       "  'answer': 'n/a'},\n",
       " {'question': 'How much did \"Ethernity Networks Ltd\" spend on customer acquisition in Q2 2023?',\n",
       "  'schema': 'number',\n",
       "  'answer': 'n/a'},\n",
       " {'question': 'Who is the CFO in the company \"Ethernity Networks Ltd\"?',\n",
       "  'schema': 'name',\n",
       "  'answer': 'Mark Reichenberg'},\n",
       " {'question': 'Did \"Canadian Banc Corp.\" have a greater Return on Assets (ROA) than \"VENUS METALS CORPORATION LIMITED\" in Q2 2021?',\n",
       "  'schema': 'boolean',\n",
       "  'answer': 'n/a'},\n",
       " {'question': 'How many stores did \"VENUS METALS CORPORATION LIMITED\" have in the end of fiscal year 2023?',\n",
       "  'schema': 'number',\n",
       "  'answer': 0},\n",
       " {'question': 'How much did \"Motus GI Holdings, Inc.\" spend on sustainability initiatives in Q2 2023?',\n",
       "  'schema': 'number',\n",
       "  'answer': 'n/a'},\n",
       " {'question': 'Who is the Board Chairman in the company \"Renishaw plc\"?',\n",
       "  'schema': 'name',\n",
       "  'answer': 'n/a'},\n",
       " {'question': 'Did \"Canadian Banc Corp.\" have a greater Gross Profit Margin than \"Motus GI Holdings, Inc.\" in Q2 2022?',\n",
       "  'schema': 'boolean',\n",
       "  'answer': 'n/a'},\n",
       " {'question': 'How many stores did \"VENUS METALS CORPORATION LIMITED\" have in the end of fiscal year 2021?',\n",
       "  'schema': 'number',\n",
       "  'answer': '0'},\n",
       " {'question': 'How much did \"Renishaw plc\" spend on risk management in Q2 2022?',\n",
       "  'schema': 'number',\n",
       "  'answer': 'n/a'},\n",
       " {'question': 'Who is the Board Chairman in the company \"TD SYNNEX\"?',\n",
       "  'schema': 'name',\n",
       "  'answer': 'Dennis Polk'},\n",
       " {'question': 'Did \"Banque Cantonale Vaudoise\" have a greater Operating Margin than \"Zegona Communications plc\" in Q2 2021?',\n",
       "  'schema': 'boolean',\n",
       "  'answer': 'n/a'},\n",
       " {'question': 'How many stores did \"Strike Energy Limited\" have in the end of fiscal year 2021?',\n",
       "  'schema': 'number',\n",
       "  'answer': 'n/a'},\n",
       " {'question': 'How much did \"Ethernity Networks Ltd\" spend on customer acquisition in Q2 2023?',\n",
       "  'schema': 'number',\n",
       "  'answer': 'n/a'},\n",
       " {'question': 'Who is the Chief Legal Officer in the company \"Nykredit\"?',\n",
       "  'schema': 'name',\n",
       "  'answer': 'n/a'},\n",
       " {'question': 'Did \"Comet Holding AG\" have a greater Operating Margin than \"Calyxt, Inc.\" in Q2 2021?',\n",
       "  'schema': 'boolean',\n",
       "  'answer': 'n/a'},\n",
       " {'question': 'How many stores did \"EMT\" have in the end of fiscal year 2022?',\n",
       "  'schema': 'number',\n",
       "  'answer': 'n/a'}]"
      ]
     },
     "execution_count": 126,
     "metadata": {},
     "output_type": "execute_result"
    }
   ],
   "execution_count": 126
  },
  {
   "metadata": {},
   "cell_type": "markdown",
   "source": "## OLD Inference with chain OLD",
   "id": "a72c0743a280a392"
  },
  {
   "metadata": {},
   "cell_type": "code",
   "outputs": [],
   "execution_count": 7,
   "source": [
    "# Create vector store\n",
    "# https://python.langchain.com/v0.1/docs/modules/data_connection/retrievers/vectorstore/\n",
    "# Load documents from the specified folder\n",
    "documents = load_documents_from_folder(SAMPLES_PATH, df_sample.sha1.to_list())\n",
    "\n",
    "text_splitter = RecursiveCharacterTextSplitter(chunk_size=1000, chunk_overlap=100) # TODO more sophisticated\n",
    "texts = text_splitter.split_documents(documents)\n",
    "\n",
    "if len(texts) == 0:\n",
    "    raise ValueError(\"No text found in the specified folder\")"
   ],
   "id": "81ae7475c4724d33"
  },
  {
   "metadata": {},
   "cell_type": "code",
   "outputs": [],
   "execution_count": 8,
   "source": [
    "embeddings = OpenAIEmbeddings() # deprecated?\n",
    "db = FAISS.from_documents(texts, embeddings)\n",
    "retriever = db.as_retriever()"
   ],
   "id": "17ed60cef6f0728b"
  },
  {
   "metadata": {},
   "cell_type": "code",
   "outputs": [],
   "execution_count": 54,
   "source": [
    "# Store vector database\n",
    "# with open(\"data/first_sample_db_3\", \"wb\") as f:\n",
    "#     pickle.dump(db.serialize_to_bytes(), f)"
   ],
   "id": "679bcdd960449594"
  },
  {
   "metadata": {},
   "cell_type": "code",
   "outputs": [],
   "execution_count": 8,
   "source": [
    "# Load vector database\n",
    "# with open(\"data/vector_db_uni\", \"rb\") as f:\n",
    "#     db_bytes = pickle.load(f)\n",
    "#     db = FAISS.deserialize_from_bytes(db_bytes, OpenAIEmbeddings(),\n",
    "#                                       allow_dangerous_deserialization=True)\n",
    "#     retriever = db.as_retriever()"
   ],
   "id": "c253bf0a4f5bd84e"
  },
  {
   "metadata": {
    "ExecuteTime": {
     "end_time": "2024-08-29T12:18:15.355338Z",
     "start_time": "2024-08-29T12:18:15.330580Z"
    }
   },
   "cell_type": "code",
   "source": [
    "llm = ChatOpenAI(temperature=0)\n",
    "# llm = llm.bind(logprobs=True, top_logprobs=3)\n",
    "# could try local models as well\n",
    "\n",
    "system_prompt_2 = (\n",
    "    f\"You are an intelligent assistant tasked with answering questions based on specific company data provided in the context. \"\n",
    "    f\"Please provide a chain of thought on how you arrived at your final answer in 'chain_of_thought'. \\n\"\n",
    "    f\"Then give a final answer in 'answer' where you strictly adhere to the following guidelines: \\n {ANSWER_GUIDELINES} \\n \"\n",
    "    f\"Ensure that your answers are strictly compliant with these guidelines. Accuracy and adherence to the format are crucial. \\n\"\n",
    "    \n",
    "    # f\"Your primary task is to accurately identify and extract specific financial metrics, ratios, and counts, even when synonymous \"\n",
    "    # f\"or contextually similar terms are used. Here is some useful information about these: \\n {fin_info}\"\n",
    "    \n",
    "    \"Context: \\n {context}\"\n",
    ")\n",
    "\n",
    "prompt = ChatPromptTemplate.from_messages(\n",
    "    [\n",
    "        (\"system\", system_prompt_2),\n",
    "        (\"human\", \"{input}\"),\n",
    "    ]\n",
    ")\n",
    "\n",
    "question_answer_chain = create_stuff_documents_chain(llm, prompt)\n",
    "\n",
    "\n",
    "# Function to ask a question\n",
    "def ask_question(query):\n",
    "    # retriever = get_retriever(query)\n",
    "    \n",
    "    chain = create_retrieval_chain(retriever, question_answer_chain)\n",
    "    \n",
    "    response = chain.invoke({\"input\": query})\n",
    "    answer = response[\"answer\"]\n",
    "    print(f\"Question: {query}\\nAnswer: {answer}\")"
   ],
   "id": "a037ab4cbb4f07dc",
   "outputs": [],
   "execution_count": 31
  },
  {
   "metadata": {},
   "cell_type": "markdown",
   "source": [
    "```python\n",
    "    ('What was the {fin_metric} of \"{company}\" in {time_frame}?', \"number\"),\n",
    "    ('How much did \"{company}\" spend on {focus_area} in {time_frame}?', \"number\"),\n",
    "    ('What was the {ratio_or_metric} of \"{company}\" in {time_frame}?', \"number\"),\n",
    "    ('How many {count_metric} did \"{company}\" have in {time_frame}?', \"number\"),\n",
    "    ('Which company had a higher {fin_metric}: \"{company1}\", \"{company2}\" or \"{company3}\", in {time_frame}?', \"name\"),\n",
    "    ('Did \"{company1}\" have a greater {ratio_or_metric} than \"{company2}\" in {time_frame}?', \"boolean\"),\n",
    "    ('How much more did \"{company1}\" spend on {focus_area} compared to \"{company2}\" in {time_frame}?', \"number\"),\n",
    "    ('Who is the {role} in the company \"{company}\"?', \"name\"),\n",
    "```"
   ],
   "id": "9cf20ac7a4db1af4"
  },
  {
   "metadata": {},
   "cell_type": "code",
   "outputs": [],
   "execution_count": null,
   "source": [
    "# multiple agents\n",
    "# retriever per company\n",
    "# -> first check if we need several processes to answer the questions (e.g. check revenues of 3 companies, then use these values with a final agent)\n",
    "# chain of though: output json with chain of thought and final answer"
   ],
   "id": "70488b37bdd0937c"
  },
  {
   "metadata": {
    "ExecuteTime": {
     "end_time": "2024-08-29T12:17:04.097388Z",
     "start_time": "2024-08-29T12:17:02.236027Z"
    }
   },
   "cell_type": "code",
   "source": [
    "# Ask a question\n",
    "ask_question(\"How many assets does 'Accuray Incorporated' have in 2022 in dollars?\") # 472.849 "
   ],
   "id": "dd1680f262dfb880",
   "outputs": [
    {
     "name": "stdout",
     "output_type": "stream",
     "text": [
      "Question: How many assets does 'Accuray Incorporated' have in 2022 in dollars?\n",
      "Answer: chain_of_thought: \n",
      "1. Look for the Consolidated Balance Sheets section to find the total assets for Accuray Incorporated in 2022.\n",
      "2. Identify the value listed under \"Total current assets\" and any other asset categories to calculate the total assets for the company in 2022.\n",
      "\n",
      "answer: 352890\n"
     ]
    }
   ],
   "execution_count": 28
  },
  {
   "metadata": {
    "ExecuteTime": {
     "end_time": "2024-08-29T12:17:43.430829Z",
     "start_time": "2024-08-29T12:17:38.923914Z"
    }
   },
   "cell_type": "code",
   "source": "ask_question(\"How many assets does 'Accuray Incorporated' have in 2021 in dollars?\") # 480.098",
   "id": "218a06bbe2a85c3",
   "outputs": [
    {
     "name": "stdout",
     "output_type": "stream",
     "text": [
      "Question: How many assets does 'Accuray Incorporated' have in 2021 in dollars?\n",
      "Answer: Chain of Thought:\n",
      "1. Look for the Consolidated Balance Sheets section.\n",
      "2. Find the total assets value for 'Accuray Incorporated' for June 30, 2021.\n",
      "\n",
      "Answer:\n",
      "352773\n"
     ]
    }
   ],
   "execution_count": 29
  },
  {
   "metadata": {
    "ExecuteTime": {
     "end_time": "2024-08-29T12:18:24.209027Z",
     "start_time": "2024-08-29T12:18:19.411979Z"
    }
   },
   "cell_type": "code",
   "source": "ask_question(\"How many liabilities does 'Accuray Incorporated' have in 2021 in dollars?\") # 411.258",
   "id": "b4ebc4eb695669b2",
   "outputs": [
    {
     "name": "stdout",
     "output_type": "stream",
     "text": [
      "Question: How many liabilities does 'Accuray Incorporated' have in 2021 in dollars?\n",
      "Answer: Chain of Thought:\n",
      "1. Liabilities can be calculated by subtracting total assets from total equity, as liabilities = assets - equity.\n",
      "2. The total assets for 2021 are not provided directly but can be calculated by summing up the current assets and other assets like property, equipment, etc.\n",
      "3. The total equity for 2021 is not directly given but can be calculated by adding common stock, additional paid-in capital, accumulated other comprehensive income (loss), and accumulated deficit from the stockholders' equity statement.\n",
      "4. Once total assets and total equity are calculated, liabilities can be determined.\n",
      "\n",
      "Answer:\n",
      "$378,000\n",
      "\n",
      "Chain of Thought:\n",
      "- Total assets for 2021 are calculated as $350,890 (current assets) + $12,685 (property and equipment) + $13,879 (investment in joint venture) + $16,798 (operating lease right-of-use assets) + $57,840 (goodwill) + $250 (intangible assets) = $452,342.\n",
      "- Total equity for 2021 is calculated as $89 (common stock) + $535,332 (additional paid-in capital) - $10 (accumulated other comprehensive income (loss)) - $485,540 (accumulated deficit) = $49,871.\n",
      "- Liabilities = Total assets - Total equity = $452,342 - $49,871 = $402,471.\n"
     ]
    }
   ],
   "execution_count": 32
  },
  {
   "metadata": {
    "ExecuteTime": {
     "end_time": "2024-08-29T09:30:09.288924Z",
     "start_time": "2024-08-29T09:30:08.407126Z"
    }
   },
   "cell_type": "code",
   "source": "ask_question(\"How many stores did 'Strike Energy Limited' have in the end of fiscal year 2021?\") # n/a",
   "id": "e7203ba338fdfc8f",
   "outputs": [
    {
     "name": "stdout",
     "output_type": "stream",
     "text": [
      "Question: How many stores did 'Strike Energy Limited' have in the end of fiscal year 2021?\n",
      "Answer: n/a\n"
     ]
    }
   ],
   "execution_count": 78
  },
  {
   "metadata": {
    "ExecuteTime": {
     "end_time": "2024-08-29T09:32:07.925495Z",
     "start_time": "2024-08-29T09:32:05.912768Z"
    }
   },
   "cell_type": "code",
   "source": [
    "# Total R&D Expenses of Ethernity Networks\n",
    "ask_question(\"What are the total R&D expenses of 'Ethernity Networks' in 2021?\") # 5 550 912\n",
    "\n",
    "ask_question(\"What are the total R&D expenses of 'Ethernity Networks' in 2022?\") # 6 618 795"
   ],
   "id": "4f3d945ab69d9dc4",
   "outputs": [
    {
     "name": "stdout",
     "output_type": "stream",
     "text": [
      "Question: What are the total R&D expenses of 'Ethernity Networks' in 2021?\n",
      "Answer: 5550912\n",
      "Question: What are the total R&D expenses of 'Ethernity Networks' in 2022?\n",
      "Answer: 6618795\n"
     ]
    }
   ],
   "execution_count": 83
  }
 ],
 "metadata": {
  "kernelspec": {
   "display_name": "Python 3",
   "language": "python",
   "name": "python3"
  },
  "language_info": {
   "codemirror_mode": {
    "name": "ipython",
    "version": 2
   },
   "file_extension": ".py",
   "mimetype": "text/x-python",
   "name": "python",
   "nbconvert_exporter": "python",
   "pygments_lexer": "ipython2",
   "version": "2.7.6"
  }
 },
 "nbformat": 4,
 "nbformat_minor": 5
}
