{
 "cells": [
  {
   "cell_type": "code",
   "id": "initial_id",
   "metadata": {
    "collapsed": true,
    "ExecuteTime": {
     "end_time": "2024-09-02T20:32:18.564390Z",
     "start_time": "2024-09-02T20:32:18.550070Z"
    }
   },
   "source": [
    "import os\n",
    "import PyPDF2\n",
    "import markdown2\n",
    "import json\n",
    "import pickle\n",
    "import pandas as pd\n",
    "\n",
    "from docx import Document as DocxDocument\n",
    "from pptx import Presentation\n",
    "\n",
    "from langchain_core.documents import Document\n",
    "from langchain.text_splitter import RecursiveCharacterTextSplitter\n",
    "from langchain_community.vectorstores import FAISS\n",
    "from langchain_openai.embeddings.base import OpenAIEmbeddings\n",
    "\n",
    "from langchain.chains import create_retrieval_chain\n",
    "from langchain.chains.combine_documents import create_stuff_documents_chain\n",
    "from langchain_core.prompts import ChatPromptTemplate\n",
    "from langchain_openai import ChatOpenAI\n",
    "\n",
    "# Rinats well documented sample project\n",
    "# https://github.com/trustbit/private-poc-fmw-content-generator/tree/main/backend-and-kb/src/fmw\n",
    "\n",
    "from dotenv import load_dotenv\n",
    "\n",
    "load_dotenv()"
   ],
   "outputs": [
    {
     "data": {
      "text/plain": [
       "True"
      ]
     },
     "execution_count": 3,
     "metadata": {},
     "output_type": "execute_result"
    }
   ],
   "execution_count": 3
  },
  {
   "metadata": {},
   "cell_type": "markdown",
   "source": "## Get Companies",
   "id": "26b7a2f7be3b6375"
  },
  {
   "metadata": {
    "ExecuteTime": {
     "end_time": "2024-09-02T20:32:20.662009Z",
     "start_time": "2024-09-02T20:32:20.648994Z"
    }
   },
   "cell_type": "code",
   "source": [
    "# SAMPLES_PATH = r\"C:\\Users\\felix.krause\\code\\trustbit\\enterprise-rag-challenge\\samples\"\n",
    "SAMPLES_PATH = r\"data/pdfs\""
   ],
   "id": "91e93d8a358bfc66",
   "outputs": [],
   "execution_count": 4
  },
  {
   "metadata": {
    "ExecuteTime": {
     "end_time": "2024-09-02T20:32:51.109282Z",
     "start_time": "2024-09-02T20:32:51.073753Z"
    }
   },
   "cell_type": "code",
   "source": [
    "df = pd.read_csv(\"data/dataset.csv\") \n",
    "df"
   ],
   "id": "187267224fd86013",
   "outputs": [
    {
     "data": {
      "text/plain": [
       "                                          sha1        date  \\\n",
       "0     ce9e5024041b2ece2bafa2a9d9516bb174ee8949  2022-10-31   \n",
       "1     f71415f9ca0cff70e5fa193616b6197f361130ed  2023-02-21   \n",
       "2     4a9d2b853e05970776121a810460f0962a18c5a1     2022-XX   \n",
       "3     f973dd219c534accb0d4e72d8e12f51284d48d10  2023-01-01   \n",
       "4     4e27f4c3402c657d548760cb3a164b036cefaabb  2022-12-31   \n",
       "...                                        ...         ...   \n",
       "7490  a2afcd8165a6dbd0058682680b65d3638a5800eb  2023-02-02   \n",
       "7491  215df84494756bd4feebc973657835ef7f14ee16  2022-12-31   \n",
       "7492  20fb970d8705289e835b408c575351295ac16f5f  2022-09-30   \n",
       "7493  c7f3a8c0a38c756438950ce3085076adb4241a32  2022-01-01   \n",
       "7494  e26bd02b24e45a09c4b860c4763b542deba6f14a  2022-12-31   \n",
       "\n",
       "                                     name      size  \n",
       "0                 Anixa Biosciences, Inc.   3996701  \n",
       "1     Maravai LifeSciences Holdings, Inc.   4033642  \n",
       "2                         KLA Corporation   1181894  \n",
       "3                          Ameresco, Inc.  10648267  \n",
       "4                Battery Minerals Limited   3650701  \n",
       "...                                   ...       ...  \n",
       "7490               Arrow Electronics, Inc    922750  \n",
       "7491                             Synertec  10474497  \n",
       "7492                      TE Connectivity   5753097  \n",
       "7493                            OTC_ADDDF  12603054  \n",
       "7494                    Taylor Wimpey plc   7845106  \n",
       "\n",
       "[7495 rows x 4 columns]"
      ],
      "text/html": [
       "<div>\n",
       "<style scoped>\n",
       "    .dataframe tbody tr th:only-of-type {\n",
       "        vertical-align: middle;\n",
       "    }\n",
       "\n",
       "    .dataframe tbody tr th {\n",
       "        vertical-align: top;\n",
       "    }\n",
       "\n",
       "    .dataframe thead th {\n",
       "        text-align: right;\n",
       "    }\n",
       "</style>\n",
       "<table border=\"1\" class=\"dataframe\">\n",
       "  <thead>\n",
       "    <tr style=\"text-align: right;\">\n",
       "      <th></th>\n",
       "      <th>sha1</th>\n",
       "      <th>date</th>\n",
       "      <th>name</th>\n",
       "      <th>size</th>\n",
       "    </tr>\n",
       "  </thead>\n",
       "  <tbody>\n",
       "    <tr>\n",
       "      <th>0</th>\n",
       "      <td>ce9e5024041b2ece2bafa2a9d9516bb174ee8949</td>\n",
       "      <td>2022-10-31</td>\n",
       "      <td>Anixa Biosciences, Inc.</td>\n",
       "      <td>3996701</td>\n",
       "    </tr>\n",
       "    <tr>\n",
       "      <th>1</th>\n",
       "      <td>f71415f9ca0cff70e5fa193616b6197f361130ed</td>\n",
       "      <td>2023-02-21</td>\n",
       "      <td>Maravai LifeSciences Holdings, Inc.</td>\n",
       "      <td>4033642</td>\n",
       "    </tr>\n",
       "    <tr>\n",
       "      <th>2</th>\n",
       "      <td>4a9d2b853e05970776121a810460f0962a18c5a1</td>\n",
       "      <td>2022-XX</td>\n",
       "      <td>KLA Corporation</td>\n",
       "      <td>1181894</td>\n",
       "    </tr>\n",
       "    <tr>\n",
       "      <th>3</th>\n",
       "      <td>f973dd219c534accb0d4e72d8e12f51284d48d10</td>\n",
       "      <td>2023-01-01</td>\n",
       "      <td>Ameresco, Inc.</td>\n",
       "      <td>10648267</td>\n",
       "    </tr>\n",
       "    <tr>\n",
       "      <th>4</th>\n",
       "      <td>4e27f4c3402c657d548760cb3a164b036cefaabb</td>\n",
       "      <td>2022-12-31</td>\n",
       "      <td>Battery Minerals Limited</td>\n",
       "      <td>3650701</td>\n",
       "    </tr>\n",
       "    <tr>\n",
       "      <th>...</th>\n",
       "      <td>...</td>\n",
       "      <td>...</td>\n",
       "      <td>...</td>\n",
       "      <td>...</td>\n",
       "    </tr>\n",
       "    <tr>\n",
       "      <th>7490</th>\n",
       "      <td>a2afcd8165a6dbd0058682680b65d3638a5800eb</td>\n",
       "      <td>2023-02-02</td>\n",
       "      <td>Arrow Electronics, Inc</td>\n",
       "      <td>922750</td>\n",
       "    </tr>\n",
       "    <tr>\n",
       "      <th>7491</th>\n",
       "      <td>215df84494756bd4feebc973657835ef7f14ee16</td>\n",
       "      <td>2022-12-31</td>\n",
       "      <td>Synertec</td>\n",
       "      <td>10474497</td>\n",
       "    </tr>\n",
       "    <tr>\n",
       "      <th>7492</th>\n",
       "      <td>20fb970d8705289e835b408c575351295ac16f5f</td>\n",
       "      <td>2022-09-30</td>\n",
       "      <td>TE Connectivity</td>\n",
       "      <td>5753097</td>\n",
       "    </tr>\n",
       "    <tr>\n",
       "      <th>7493</th>\n",
       "      <td>c7f3a8c0a38c756438950ce3085076adb4241a32</td>\n",
       "      <td>2022-01-01</td>\n",
       "      <td>OTC_ADDDF</td>\n",
       "      <td>12603054</td>\n",
       "    </tr>\n",
       "    <tr>\n",
       "      <th>7494</th>\n",
       "      <td>e26bd02b24e45a09c4b860c4763b542deba6f14a</td>\n",
       "      <td>2022-12-31</td>\n",
       "      <td>Taylor Wimpey plc</td>\n",
       "      <td>7845106</td>\n",
       "    </tr>\n",
       "  </tbody>\n",
       "</table>\n",
       "<p>7495 rows × 4 columns</p>\n",
       "</div>"
      ]
     },
     "execution_count": 6,
     "metadata": {},
     "output_type": "execute_result"
    }
   ],
   "execution_count": 6
  },
  {
   "metadata": {
    "ExecuteTime": {
     "end_time": "2024-09-02T20:32:53.722550Z",
     "start_time": "2024-09-02T20:32:53.684829Z"
    }
   },
   "cell_type": "code",
   "source": [
    "# load all file names in the folder\n",
    "sha1_dict_full = df.set_index(\"sha1\").to_dict()[\"name\"]\n",
    "\n",
    "included_companies = []\n",
    "\n",
    "for file in os.listdir(SAMPLES_PATH):\n",
    "    file = file[:-4]\n",
    "    try:\n",
    "        included_companies.append(sha1_dict_full[file])\n",
    "    except KeyError:\n",
    "        print(file)"
   ],
   "id": "2d83133d4cc076ae",
   "outputs": [],
   "execution_count": 7
  },
  {
   "metadata": {
    "ExecuteTime": {
     "end_time": "2024-09-02T20:32:55.165795Z",
     "start_time": "2024-09-02T20:32:55.153973Z"
    }
   },
   "cell_type": "code",
   "source": "included_companies",
   "id": "eed227e797331902",
   "outputs": [
    {
     "data": {
      "text/plain": [
       "['Holley Inc.',\n",
       " 'Tradition',\n",
       " 'ENRG ELEMENTS LIMITED',\n",
       " 'MITSUI O.S.K. LINES',\n",
       " 'Petra Diamonds',\n",
       " 'BAKER STEEL RESOURCES TRUST LIMITED',\n",
       " 'TransUnion',\n",
       " 'TSX_Y',\n",
       " 'Oesterreichische Kontrollbank',\n",
       " 'PowerFleet, Inc.',\n",
       " 'Mercia Asset Management PLC',\n",
       " 'Caixa Geral de Depósitos, S.A.',\n",
       " 'Tower Semiconductor Ltd.',\n",
       " 'Creative Media & Community Trust Corporation',\n",
       " 'CrossFirst Bank',\n",
       " 'Sensata',\n",
       " 'Sleep Country Canada Holdings Inc.',\n",
       " 'First Mid Bancshares, Inc.',\n",
       " 'Safe & Green Holdings Corp.',\n",
       " 'TSX_ACQ']"
      ]
     },
     "execution_count": 8,
     "metadata": {},
     "output_type": "execute_result"
    }
   ],
   "execution_count": 8
  },
  {
   "metadata": {
    "ExecuteTime": {
     "end_time": "2024-09-02T20:34:14.468786Z",
     "start_time": "2024-09-02T20:34:14.448759Z"
    }
   },
   "cell_type": "code",
   "source": [
    "# Create sample for development\n",
    "# COMPANIES = [\"Ethernity Networks Ltd\", \"Limbach Holdings, Inc.\", \"Accuray Incorporated\"]\n",
    "COMPANIES = included_companies\n",
    "\n",
    "if COMPANIES:\n",
    "    df_sample = df[df.name.isin(COMPANIES)]\n",
    "else:\n",
    "    df_sample = df.copy()\n",
    "    \n",
    "sha1_dict = df_sample.set_index(\"name\").to_dict()[\"sha1\"]"
   ],
   "id": "8f6e3574239a7eba",
   "outputs": [],
   "execution_count": 9
  },
  {
   "metadata": {
    "ExecuteTime": {
     "end_time": "2024-09-02T20:34:14.891688Z",
     "start_time": "2024-09-02T20:34:14.880941Z"
    }
   },
   "cell_type": "code",
   "source": "df_sample",
   "id": "c5950769dc2ca5d1",
   "outputs": [
    {
     "data": {
      "text/plain": [
       "                                          sha1        date  \\\n",
       "689   ac9aa244462c80705c3ff046542c02c459989742  2022-01-01   \n",
       "977   e2b19d2cc2ccab2fd9022326b56b38fb0e772e73  2022-12-31   \n",
       "1601  e62b2ebe3012cd7e6c57507bc950a46d06b3d06e  2022-01-01   \n",
       "1715  e765cdd472cb47fa74ee6a52700c61aca645bbee  2022-12-31   \n",
       "1757  6054ec55767fbe6585598ced7afacf5cb8619a13  2022-03-31   \n",
       "2713  9d7a72445aba6860402c3acce75af02dc045f74d  2022-01-01   \n",
       "2779  a706b44ba275c97b8633b0808cd2f90cbb7fe473  2022-01-01   \n",
       "2992  a8077fe1983a64dc77bddfafbf48242e66111a89  2023-03-28   \n",
       "3172  84749ef5c2bbf2a302b6614f31727a95bf29f309  2022-12-31   \n",
       "3321  ba5852cb6c20da35da2ce6ebaafc711d06fe8c1e  2022-12-31   \n",
       "3597  609042c64a759c0ac63e7cf18742be4dd3cc5cd5  2022-06-30   \n",
       "3856  e0d6bb578bfc233c3bdbded229960fed01624631  2023-03-22   \n",
       "4029  43437bccca01aeae222ec7cc706ba3eaf50be2d7  2022-06-30   \n",
       "4164  194000c9109c6fa628f1fed33b44ae4c2b8365f4  2023-03-10   \n",
       "4555  f06d7ecc8072de616a4ea35c74e20199de6b0691  2023-03-30   \n",
       "4890  85fb23ba2910de45e27f8f40170c0f3576043916  2022-01-01   \n",
       "6605  2779336b845a41544348abb7b3e6e5bd2ff893a2  2022-12-31   \n",
       "6901  f721fa86aa0f17b194fa21917aeabbf8df6511c2  2022-12-31   \n",
       "7007  cbd8fb252e8743dc53961adc53e2b4de9ff6037a  2023-12-31   \n",
       "7049  e33544bdea57faa0ad10ba2e93bf052482f33325  2022-01-01   \n",
       "\n",
       "                                              name      size  \n",
       "689                    Mercia Asset Management PLC   1977782  \n",
       "977                                CrossFirst Bank   2962631  \n",
       "1601            Sleep Country Canada Holdings Inc.   7576716  \n",
       "1715                    First Mid Bancshares, Inc.   1284989  \n",
       "1757                           MITSUI O.S.K. LINES   6862882  \n",
       "2713                                         TSX_Y   1457663  \n",
       "2779                 Oesterreichische Kontrollbank   5090936  \n",
       "2992                              PowerFleet, Inc.   7797234  \n",
       "3172           BAKER STEEL RESOURCES TRUST LIMITED    886428  \n",
       "3321                Caixa Geral de Depósitos, S.A.  16061289  \n",
       "3597                                Petra Diamonds   8452845  \n",
       "3856  Creative Media & Community Trust Corporation   1935000  \n",
       "4029                         ENRG ELEMENTS LIMITED   2214827  \n",
       "4164                                   Holley Inc.   1314513  \n",
       "4555                   Safe & Green Holdings Corp.    791992  \n",
       "4890                                    TransUnion    850046  \n",
       "6605                                     Tradition   1131716  \n",
       "6901                                       TSX_ACQ   5860610  \n",
       "7007                      Tower Semiconductor Ltd.   1937776  \n",
       "7049                                       Sensata   5930662  "
      ],
      "text/html": [
       "<div>\n",
       "<style scoped>\n",
       "    .dataframe tbody tr th:only-of-type {\n",
       "        vertical-align: middle;\n",
       "    }\n",
       "\n",
       "    .dataframe tbody tr th {\n",
       "        vertical-align: top;\n",
       "    }\n",
       "\n",
       "    .dataframe thead th {\n",
       "        text-align: right;\n",
       "    }\n",
       "</style>\n",
       "<table border=\"1\" class=\"dataframe\">\n",
       "  <thead>\n",
       "    <tr style=\"text-align: right;\">\n",
       "      <th></th>\n",
       "      <th>sha1</th>\n",
       "      <th>date</th>\n",
       "      <th>name</th>\n",
       "      <th>size</th>\n",
       "    </tr>\n",
       "  </thead>\n",
       "  <tbody>\n",
       "    <tr>\n",
       "      <th>689</th>\n",
       "      <td>ac9aa244462c80705c3ff046542c02c459989742</td>\n",
       "      <td>2022-01-01</td>\n",
       "      <td>Mercia Asset Management PLC</td>\n",
       "      <td>1977782</td>\n",
       "    </tr>\n",
       "    <tr>\n",
       "      <th>977</th>\n",
       "      <td>e2b19d2cc2ccab2fd9022326b56b38fb0e772e73</td>\n",
       "      <td>2022-12-31</td>\n",
       "      <td>CrossFirst Bank</td>\n",
       "      <td>2962631</td>\n",
       "    </tr>\n",
       "    <tr>\n",
       "      <th>1601</th>\n",
       "      <td>e62b2ebe3012cd7e6c57507bc950a46d06b3d06e</td>\n",
       "      <td>2022-01-01</td>\n",
       "      <td>Sleep Country Canada Holdings Inc.</td>\n",
       "      <td>7576716</td>\n",
       "    </tr>\n",
       "    <tr>\n",
       "      <th>1715</th>\n",
       "      <td>e765cdd472cb47fa74ee6a52700c61aca645bbee</td>\n",
       "      <td>2022-12-31</td>\n",
       "      <td>First Mid Bancshares, Inc.</td>\n",
       "      <td>1284989</td>\n",
       "    </tr>\n",
       "    <tr>\n",
       "      <th>1757</th>\n",
       "      <td>6054ec55767fbe6585598ced7afacf5cb8619a13</td>\n",
       "      <td>2022-03-31</td>\n",
       "      <td>MITSUI O.S.K. LINES</td>\n",
       "      <td>6862882</td>\n",
       "    </tr>\n",
       "    <tr>\n",
       "      <th>2713</th>\n",
       "      <td>9d7a72445aba6860402c3acce75af02dc045f74d</td>\n",
       "      <td>2022-01-01</td>\n",
       "      <td>TSX_Y</td>\n",
       "      <td>1457663</td>\n",
       "    </tr>\n",
       "    <tr>\n",
       "      <th>2779</th>\n",
       "      <td>a706b44ba275c97b8633b0808cd2f90cbb7fe473</td>\n",
       "      <td>2022-01-01</td>\n",
       "      <td>Oesterreichische Kontrollbank</td>\n",
       "      <td>5090936</td>\n",
       "    </tr>\n",
       "    <tr>\n",
       "      <th>2992</th>\n",
       "      <td>a8077fe1983a64dc77bddfafbf48242e66111a89</td>\n",
       "      <td>2023-03-28</td>\n",
       "      <td>PowerFleet, Inc.</td>\n",
       "      <td>7797234</td>\n",
       "    </tr>\n",
       "    <tr>\n",
       "      <th>3172</th>\n",
       "      <td>84749ef5c2bbf2a302b6614f31727a95bf29f309</td>\n",
       "      <td>2022-12-31</td>\n",
       "      <td>BAKER STEEL RESOURCES TRUST LIMITED</td>\n",
       "      <td>886428</td>\n",
       "    </tr>\n",
       "    <tr>\n",
       "      <th>3321</th>\n",
       "      <td>ba5852cb6c20da35da2ce6ebaafc711d06fe8c1e</td>\n",
       "      <td>2022-12-31</td>\n",
       "      <td>Caixa Geral de Depósitos, S.A.</td>\n",
       "      <td>16061289</td>\n",
       "    </tr>\n",
       "    <tr>\n",
       "      <th>3597</th>\n",
       "      <td>609042c64a759c0ac63e7cf18742be4dd3cc5cd5</td>\n",
       "      <td>2022-06-30</td>\n",
       "      <td>Petra Diamonds</td>\n",
       "      <td>8452845</td>\n",
       "    </tr>\n",
       "    <tr>\n",
       "      <th>3856</th>\n",
       "      <td>e0d6bb578bfc233c3bdbded229960fed01624631</td>\n",
       "      <td>2023-03-22</td>\n",
       "      <td>Creative Media &amp; Community Trust Corporation</td>\n",
       "      <td>1935000</td>\n",
       "    </tr>\n",
       "    <tr>\n",
       "      <th>4029</th>\n",
       "      <td>43437bccca01aeae222ec7cc706ba3eaf50be2d7</td>\n",
       "      <td>2022-06-30</td>\n",
       "      <td>ENRG ELEMENTS LIMITED</td>\n",
       "      <td>2214827</td>\n",
       "    </tr>\n",
       "    <tr>\n",
       "      <th>4164</th>\n",
       "      <td>194000c9109c6fa628f1fed33b44ae4c2b8365f4</td>\n",
       "      <td>2023-03-10</td>\n",
       "      <td>Holley Inc.</td>\n",
       "      <td>1314513</td>\n",
       "    </tr>\n",
       "    <tr>\n",
       "      <th>4555</th>\n",
       "      <td>f06d7ecc8072de616a4ea35c74e20199de6b0691</td>\n",
       "      <td>2023-03-30</td>\n",
       "      <td>Safe &amp; Green Holdings Corp.</td>\n",
       "      <td>791992</td>\n",
       "    </tr>\n",
       "    <tr>\n",
       "      <th>4890</th>\n",
       "      <td>85fb23ba2910de45e27f8f40170c0f3576043916</td>\n",
       "      <td>2022-01-01</td>\n",
       "      <td>TransUnion</td>\n",
       "      <td>850046</td>\n",
       "    </tr>\n",
       "    <tr>\n",
       "      <th>6605</th>\n",
       "      <td>2779336b845a41544348abb7b3e6e5bd2ff893a2</td>\n",
       "      <td>2022-12-31</td>\n",
       "      <td>Tradition</td>\n",
       "      <td>1131716</td>\n",
       "    </tr>\n",
       "    <tr>\n",
       "      <th>6901</th>\n",
       "      <td>f721fa86aa0f17b194fa21917aeabbf8df6511c2</td>\n",
       "      <td>2022-12-31</td>\n",
       "      <td>TSX_ACQ</td>\n",
       "      <td>5860610</td>\n",
       "    </tr>\n",
       "    <tr>\n",
       "      <th>7007</th>\n",
       "      <td>cbd8fb252e8743dc53961adc53e2b4de9ff6037a</td>\n",
       "      <td>2023-12-31</td>\n",
       "      <td>Tower Semiconductor Ltd.</td>\n",
       "      <td>1937776</td>\n",
       "    </tr>\n",
       "    <tr>\n",
       "      <th>7049</th>\n",
       "      <td>e33544bdea57faa0ad10ba2e93bf052482f33325</td>\n",
       "      <td>2022-01-01</td>\n",
       "      <td>Sensata</td>\n",
       "      <td>5930662</td>\n",
       "    </tr>\n",
       "  </tbody>\n",
       "</table>\n",
       "</div>"
      ]
     },
     "execution_count": 10,
     "metadata": {},
     "output_type": "execute_result"
    }
   ],
   "execution_count": 10
  },
  {
   "metadata": {},
   "cell_type": "markdown",
   "source": [
    "## Get company name from user query\n",
    "\n",
    "TODO could be more sophisticated"
   ],
   "id": "ca2440fc5b817345"
  },
  {
   "metadata": {
    "ExecuteTime": {
     "end_time": "2024-08-29T16:25:29.086264Z",
     "start_time": "2024-08-29T16:25:29.070200Z"
    }
   },
   "cell_type": "code",
   "source": [
    "import re\n",
    "from fuzzywuzzy import fuzz\n",
    "\n",
    "def normalize_name(name):\n",
    "    # Normalize by removing extra spaces and converting to lowercase\n",
    "    return re.sub(r'\\s+', ' ', name.strip().lower())\n",
    "\n",
    "def fuzzy_match(companies, input_string, threshold=85):\n",
    "    matched_companies = []\n",
    "    norm_input = normalize_name(input_string)\n",
    "    \n",
    "    for company in companies:\n",
    "        norm_company = normalize_name(company)\n",
    "        prev_token = \"\"\n",
    "        \n",
    "        # Fuzzy match each token\n",
    "        for curr_token in norm_input.split():\n",
    "            token = prev_token + \" \" + curr_token\n",
    "            \n",
    "            match_score = fuzz.ratio(norm_company, token)\n",
    "            prev_token = curr_token\n",
    "            \n",
    "            if match_score >= threshold:\n",
    "                matched_companies.append(company)\n",
    "                break  # Stop once a match is found for this company\n",
    "            \n",
    "    return matched_companies\n",
    "\n",
    "\n",
    "def find_exact_matches(companies, input_string):\n",
    "    # normalized_input = normalize_name(input_string)\n",
    "    \n",
    "    matched_companies = []\n",
    "    \n",
    "    for company in companies:\n",
    "        if company in input_string:\n",
    "            matched_companies.append(company)\n",
    "    \n",
    "    return matched_companies\n",
    "\n",
    "\n",
    "def find_companies(input_string):\n",
    "    # Wrapper to use later and allow easy function change\n",
    "    return find_exact_matches(df.name, input_string)\n",
    "\n",
    "\n",
    "input_string = (\"limbach holding inc and ethernity networks buys the accuracy incorporated, ESEA, Five9, Inc.\")\n",
    "\n",
    "matches = find_exact_matches(df.name, input_string)\n",
    "print(matches)"
   ],
   "id": "99709072b0e51f37",
   "outputs": [
    {
     "name": "stdout",
     "output_type": "stream",
     "text": [
      "['EA', 'ESEA', 'Five9, Inc.']\n"
     ]
    },
    {
     "name": "stderr",
     "output_type": "stream",
     "text": [
      "C:\\Users\\felix.krause\\code\\trustbit\\llm_experiments\\venv\\lib\\site-packages\\fuzzywuzzy\\fuzz.py:11: UserWarning: Using slow pure-python SequenceMatcher. Install python-Levenshtein to remove this warning\n",
      "  warnings.warn('Using slow pure-python SequenceMatcher. Install python-Levenshtein to remove this warning')\n"
     ]
    }
   ],
   "execution_count": 10
  },
  {
   "metadata": {},
   "cell_type": "markdown",
   "source": "## Load LLM data",
   "id": "bf301d66795e2b42"
  },
  {
   "cell_type": "code",
   "source": [
    "# from llama_parse import LlamaParse\n",
    "\n",
    "# parser = LlamaParse(\n",
    "#     result_type=\"markdown\",  # \"markdown\" and \"text\" are available\n",
    "#     verbose=True\n",
    "# )\n",
    "\n",
    "# Function to load text from different file types\n",
    "def load_text_from_file(file_path):\n",
    "    _, file_extension = os.path.splitext(file_path)\n",
    "    text = \"\"\n",
    "    \n",
    "    if file_extension == \".pdf\":\n",
    "        # TODO https://www.reddit.com/r/LangChain/comments/18yxacm/extracting_data_from_pdf_containing_complex_tables/\n",
    "        with open(file_path, 'rb') as f:\n",
    "            reader = PyPDF2.PdfReader(f, strict=False)\n",
    "            for page in reader.pages:\n",
    "                text += page.extract_text() + \"\\n\"\n",
    "    else:\n",
    "        pass\n",
    "    \n",
    "    return text\n",
    "\n",
    "\n",
    "# Function to load documents from a folder\n",
    "def load_documents_from_folder(folder_path, companies=[]):\n",
    "    documents = []\n",
    "    for root, _, files in os.walk(folder_path):\n",
    "        for file in files:\n",
    "            if file[:-4] in companies: #or len(companies) == 0:\n",
    "                print(\"Loading\", file)\n",
    "                file_path = os.path.join(root, file)\n",
    "\n",
    "                text = load_text_from_file(file_path)\n",
    "                if text:\n",
    "                    documents.append(Document(page_content=text, metadata={\"source\": file_path}))\n",
    "    return documents"
   ],
   "metadata": {
    "collapsed": false,
    "ExecuteTime": {
     "end_time": "2024-09-02T20:34:29.850868Z",
     "start_time": "2024-09-02T20:34:29.836868Z"
    }
   },
   "id": "a78b2e35a4794cc2",
   "outputs": [],
   "execution_count": 11
  },
  {
   "metadata": {
    "ExecuteTime": {
     "end_time": "2024-08-29T16:25:32.831444Z",
     "start_time": "2024-08-29T16:25:32.815894Z"
    }
   },
   "cell_type": "code",
   "source": [
    "# Could try LLama approach\n",
    "# TODO https://medium.com/the-ai-forum/rag-on-complex-pdf-using-llamaparse-langchain-and-groq-5b132bd1f9f3\n",
    "# doc = parser.load_data(os.path.join(FOLDER_PATH, \"e51b7204b91cbe7709bd3218e7d2d0c2b8dbb438.pdf\"))\n",
    "# index = VectorStoreIndex.from_documents(doc)"
   ],
   "id": "9cb153b0cfd5cbee",
   "outputs": [],
   "execution_count": 12
  },
  {
   "metadata": {},
   "cell_type": "markdown",
   "source": "## Try to detect tables from pdf",
   "id": "f51ab4663aeeda70"
  },
  {
   "metadata": {
    "ExecuteTime": {
     "end_time": "2024-08-29T13:37:18.895314Z",
     "start_time": "2024-08-29T13:35:57.735226Z"
    }
   },
   "cell_type": "code",
   "source": [
    "\"\"\"\n",
    "import camelot\n",
    "\n",
    "# Extract tables from a PDF file\n",
    "tables = camelot.read_pdf(os.path.join(FOLDER_PATH, \"e51b7204b91cbe7709bd3218e7d2d0c2b8dbb438.pdf\"), pages=\"all\")\n",
    "\n",
    "# Convert the first table to a DataFrame\n",
    "df = tables[0].df\n",
    "\n",
    "# Save the DataFrame as a CSV file\n",
    "tables[0]\n",
    "\"\"\""
   ],
   "id": "f1456a9650d4528f",
   "outputs": [
    {
     "name": "stderr",
     "output_type": "stream",
     "text": [
      "C:\\Users\\felix.krause\\code\\trustbit\\llm_experiments\\venv\\lib\\site-packages\\camelot\\parsers\\lattice.py:397: UserWarning: No tables found on page-2\n",
      "  warnings.warn(\n",
      "C:\\Users\\felix.krause\\code\\trustbit\\llm_experiments\\venv\\lib\\site-packages\\camelot\\parsers\\lattice.py:397: UserWarning: No tables found on page-79\n",
      "  warnings.warn(\n"
     ]
    },
    {
     "data": {
      "text/plain": [
       "<Table shape=(1, 1)>"
      ]
     },
     "execution_count": 8,
     "metadata": {},
     "output_type": "execute_result"
    }
   ],
   "execution_count": 8
  },
  {
   "metadata": {
    "ExecuteTime": {
     "end_time": "2024-08-29T14:00:53.324190Z",
     "start_time": "2024-08-29T14:00:53.316417Z"
    }
   },
   "cell_type": "code",
   "source": "# tables[40].df",
   "id": "12bdfc9101258f90",
   "outputs": [
    {
     "data": {
      "text/plain": [
       "                                        0 1  \\\n",
       "0  STRATEGIC REPORT\\nCORPORATE GOVERNANCE     \n",
       "\n",
       "                                            2       3  \n",
       "0  FINANCIAL STATEMENTS\\nFINANCIAL STATEMENTS  73\\n73  "
      ],
      "text/html": [
       "<div>\n",
       "<style scoped>\n",
       "    .dataframe tbody tr th:only-of-type {\n",
       "        vertical-align: middle;\n",
       "    }\n",
       "\n",
       "    .dataframe tbody tr th {\n",
       "        vertical-align: top;\n",
       "    }\n",
       "\n",
       "    .dataframe thead th {\n",
       "        text-align: right;\n",
       "    }\n",
       "</style>\n",
       "<table border=\"1\" class=\"dataframe\">\n",
       "  <thead>\n",
       "    <tr style=\"text-align: right;\">\n",
       "      <th></th>\n",
       "      <th>0</th>\n",
       "      <th>1</th>\n",
       "      <th>2</th>\n",
       "      <th>3</th>\n",
       "    </tr>\n",
       "  </thead>\n",
       "  <tbody>\n",
       "    <tr>\n",
       "      <th>0</th>\n",
       "      <td>STRATEGIC REPORT\\nCORPORATE GOVERNANCE</td>\n",
       "      <td></td>\n",
       "      <td>FINANCIAL STATEMENTS\\nFINANCIAL STATEMENTS</td>\n",
       "      <td>73\\n73</td>\n",
       "    </tr>\n",
       "  </tbody>\n",
       "</table>\n",
       "</div>"
      ]
     },
     "execution_count": 47,
     "metadata": {},
     "output_type": "execute_result"
    }
   ],
   "execution_count": 47
  },
  {
   "metadata": {},
   "cell_type": "markdown",
   "source": "## Build retriever per company",
   "id": "695aebfba71c14c4"
  },
  {
   "metadata": {
    "ExecuteTime": {
     "end_time": "2024-09-02T20:34:33.268658Z",
     "start_time": "2024-09-02T20:34:33.256650Z"
    }
   },
   "cell_type": "code",
   "source": [
    "def get_store_name(string):\n",
    "    string = string.lower()\n",
    "    return string.replace(\" \", \"_\").replace(\",\", \"\").replace(\".\", \"\").replace(\"'\", \"\")"
   ],
   "id": "f52dd0fd4a43609b",
   "outputs": [],
   "execution_count": 12
  },
  {
   "metadata": {
    "ExecuteTime": {
     "end_time": "2024-09-02T20:54:56.802760Z",
     "start_time": "2024-09-02T20:47:34.264843Z"
    }
   },
   "cell_type": "code",
   "source": [
    "# WARNING: This will build all retrievers for all companies in the sample\n",
    "text_splitter = RecursiveCharacterTextSplitter(chunk_size=3000, chunk_overlap=300, separators=[\"\\n\\n\", \"\\n\"]) # TODO more sophisticated\n",
    "\n",
    "for company in df_sample.name.to_list():\n",
    "    # check if file already exists\n",
    "    if os.path.exists(f\"dbs/{get_store_name(company)}.db\"):\n",
    "        print(\"Skipping\", company)\n",
    "        continue\n",
    "    \n",
    "    try:\n",
    "        company_docs = load_documents_from_folder(SAMPLES_PATH, [sha1_dict[company]])\n",
    "        \n",
    "        if not company_docs:\n",
    "            raise ValueError(f\"No documents found for company: {company}\")\n",
    "        \n",
    "        texts = text_splitter.split_documents(company_docs)\n",
    "        embeddings = OpenAIEmbeddings()\n",
    "        db = FAISS.from_documents(texts, embeddings)\n",
    "        \n",
    "        with open(f\"dbs/{get_store_name(company)}.db\", \"wb\") as f:\n",
    "            pickle.dump(db.serialize_to_bytes(), f)\n",
    "    except Exception as e:\n",
    "        print(f\"Error for company {company}: {e}\")\n",
    "        # raise e"
   ],
   "id": "6e7385617622991b",
   "outputs": [
    {
     "name": "stdout",
     "output_type": "stream",
     "text": [
      "Loading ac9aa244462c80705c3ff046542c02c459989742.pdf\n",
      "Loading e2b19d2cc2ccab2fd9022326b56b38fb0e772e73.pdf\n",
      "Loading e62b2ebe3012cd7e6c57507bc950a46d06b3d06e.pdf\n",
      "Loading e765cdd472cb47fa74ee6a52700c61aca645bbee.pdf\n",
      "Loading 6054ec55767fbe6585598ced7afacf5cb8619a13.pdf\n",
      "Loading 9d7a72445aba6860402c3acce75af02dc045f74d.pdf\n",
      "Loading a706b44ba275c97b8633b0808cd2f90cbb7fe473.pdf\n",
      "Loading a8077fe1983a64dc77bddfafbf48242e66111a89.pdf\n",
      "Loading 84749ef5c2bbf2a302b6614f31727a95bf29f309.pdf\n",
      "Loading ba5852cb6c20da35da2ce6ebaafc711d06fe8c1e.pdf\n",
      "Loading 609042c64a759c0ac63e7cf18742be4dd3cc5cd5.pdf\n",
      "Loading e0d6bb578bfc233c3bdbded229960fed01624631.pdf\n",
      "Loading 43437bccca01aeae222ec7cc706ba3eaf50be2d7.pdf\n",
      "Loading 194000c9109c6fa628f1fed33b44ae4c2b8365f4.pdf\n",
      "Loading f06d7ecc8072de616a4ea35c74e20199de6b0691.pdf\n",
      "Loading 85fb23ba2910de45e27f8f40170c0f3576043916.pdf\n",
      "Loading 2779336b845a41544348abb7b3e6e5bd2ff893a2.pdf\n",
      "Loading f721fa86aa0f17b194fa21917aeabbf8df6511c2.pdf\n",
      "Loading cbd8fb252e8743dc53961adc53e2b4de9ff6037a.pdf\n",
      "Loading e33544bdea57faa0ad10ba2e93bf052482f33325.pdf\n"
     ]
    }
   ],
   "execution_count": 14
  },
  {
   "metadata": {
    "ExecuteTime": {
     "end_time": "2024-09-02T20:56:58.365397Z",
     "start_time": "2024-09-02T20:56:58.350881Z"
    }
   },
   "cell_type": "code",
   "source": [
    "def get_retriever_dict(companies):\n",
    "    retriever_dict = {}\n",
    "    \n",
    "    for company in companies:\n",
    "        with open(f\"dbs/{get_store_name(company)}.db\", \"rb\") as f:\n",
    "            db_bytes = pickle.load(f)\n",
    "        \n",
    "        db_temp = FAISS.deserialize_from_bytes(db_bytes, OpenAIEmbeddings(),\n",
    "                                      allow_dangerous_deserialization=True)\n",
    "        \n",
    "        retriever_dict[company] = db_temp.as_retriever()\n",
    "    \n",
    "    return retriever_dict"
   ],
   "id": "2eea77c787b966e6",
   "outputs": [],
   "execution_count": 15
  },
  {
   "metadata": {
    "ExecuteTime": {
     "end_time": "2024-09-02T20:57:11.711464Z",
     "start_time": "2024-09-02T20:56:58.948993Z"
    }
   },
   "cell_type": "code",
   "source": "retriever_dict = get_retriever_dict(df_sample.name.to_list())",
   "id": "4fcc78bbd52d9ac8",
   "outputs": [],
   "execution_count": 16
  },
  {
   "metadata": {
    "ExecuteTime": {
     "end_time": "2024-09-02T20:57:11.726995Z",
     "start_time": "2024-09-02T20:57:11.712463Z"
    }
   },
   "cell_type": "code",
   "source": [
    "def get_context(query, company):\n",
    "    # TODO add sophisticated retriever for tables?\n",
    "    return retriever_dict[company].get_relevant_documents(query)"
   ],
   "id": "c12759f74d642592",
   "outputs": [],
   "execution_count": 17
  },
  {
   "metadata": {},
   "cell_type": "markdown",
   "source": "## Structured inference",
   "id": "3d6da0d2a417ed12"
  },
  {
   "cell_type": "code",
   "source": [
    "# MODEL = \"gpt-4o-mini-2024-07-18\"\n",
    "MODEL = \"gpt-4o-2024-08-06\"\n",
    "\n",
    "# load system prompt from .md\n",
    "with open(\"instructions/answer_guidelines.md\") as f:\n",
    "    ANSWER_GUIDELINES = f.read()\n",
    "    \n",
    "with open(\"instructions/fin_info.md\") as f:\n",
    "    FIN_INFO = f.read()\n",
    "\n",
    "\n",
    "system_prompt = f\"\"\"\n",
    "You are an intelligent assistant tasked with retrieving and analyzing company data to answer specific questions based on the provided CONTEXT.\n",
    "\n",
    "Your Objectives:\n",
    "    - Chain of Thought: Document your reasoning process in 'chain_of_thought', including all intermediary steps. If your analysis involves calculations (e.g., ratios), explicitly state the numerator and denominator.\n",
    "    - Handling Temporal Data: If the temporal scope of the data isn't an exact match (e.g., full-year data instead of Q4), use the most relevant available data to formulate your response. If specific quarterly data is requested but only full-year data is available, still provide an answer based on the available information, ensuring the CONTEXT contains sufficient relevant data.\n",
    "    - Final Answer: Based on your reasoning, provide a final answer in 'answer' that strictly adheres to the guidelines outlined in. Accuracy and format compliance are crucial: \\n {ANSWER_GUIDELINES} \\n\n",
    "\n",
    "Format:\n",
    "    - chain_of_thought: Your reasoning process, including intermediary steps\n",
    "    - answer: Your final answer following the answer guidelines\n",
    "\n",
    "CONTEXT: \n",
    "<CONTEXT>\n",
    "\"\"\"\n",
    "   \n",
    "# f\"Your primary task is to accurately identify and extract specific financial metrics, ratios, and counts, even when synonymous \"\n",
    "# f\"or contextually similar terms are used. Here is some useful information about these: \\n {FIN_INFO}\""
   ],
   "metadata": {
    "collapsed": false,
    "ExecuteTime": {
     "end_time": "2024-09-02T20:57:11.742400Z",
     "start_time": "2024-09-02T20:57:11.728997Z"
    }
   },
   "id": "5839c1c42cf2a1cd",
   "outputs": [],
   "execution_count": 18
  },
  {
   "metadata": {
    "ExecuteTime": {
     "end_time": "2024-09-02T20:57:12.088481Z",
     "start_time": "2024-09-02T20:57:11.744043Z"
    }
   },
   "cell_type": "code",
   "source": [
    "from pydantic import BaseModel\n",
    "from openai import OpenAI\n",
    "\n",
    "client = OpenAI()\n",
    "\n",
    "class AnswerEvent(BaseModel):\n",
    "    chain_of_thought: str\n",
    "    answer: int | float | str\n",
    "\n",
    "\n",
    "def ask_company_expert(query, company):\n",
    "    print(\"### ASKING COMPANY EXPERT:\", company)\n",
    "    context = get_context(query, company)\n",
    "    completion = client.beta.chat.completions.parse(\n",
    "        model=MODEL,\n",
    "        messages=[\n",
    "            {\"role\": \"system\", \"content\": system_prompt.replace(\"<CONTEXT>\", str(context))},\n",
    "            {\"role\": \"user\", \"content\": query},\n",
    "        ],\n",
    "        response_format=AnswerEvent,\n",
    "    )\n",
    "    \n",
    "    return completion.choices[0].message.parsed"
   ],
   "id": "f37aecc08c73bdb1",
   "outputs": [],
   "execution_count": 19
  },
  {
   "metadata": {
    "ExecuteTime": {
     "end_time": "2024-09-02T13:00:24.698576Z",
     "start_time": "2024-09-02T13:00:21.244397Z"
    }
   },
   "cell_type": "code",
   "source": "ask_company_expert(\"How many assets does 'Accuray Incorporated' have in 2022 in dollars?\", \"Accuray Incorporated\")  # 472849000",
   "id": "103c61fa8d8d5013",
   "outputs": [
    {
     "name": "stdout",
     "output_type": "stream",
     "text": [
      "### ASKING COMPANY EXPERT: Accuray Incorporated\n"
     ]
    },
    {
     "data": {
      "text/plain": [
       "AnswerEvent(chain_of_thought=\"The document provides summarized balance sheet data for a joint venture (JV) as of March 31, 2022, and March 31, 2021. However, this data is specific to the JV and not Accuray Incorporated itself. The document lists 'Total liabilities and stockholders’ equity' as $472,849 for Accuray as of June 30, 2022. Typically, this total includes both total liabilities and total stockholders' equity, which together reflect the total assets of a company. Therefore, the total assets for Accuray Incorporated in 2022 should be the same as the total liabilities and stockholders’ equity, which is $472,849,000.\", answer=472849000)"
      ]
     },
     "execution_count": 104,
     "metadata": {},
     "output_type": "execute_result"
    }
   ],
   "execution_count": 104
  },
  {
   "metadata": {
    "ExecuteTime": {
     "end_time": "2024-08-29T12:55:36.485954Z",
     "start_time": "2024-08-29T12:55:33.459475Z"
    }
   },
   "cell_type": "code",
   "source": "ask_company_expert(\"How many assets does 'Ethernity Networks Ltd' have in 2022 in dollars?\", \"Ethernity Networks Ltd\")",
   "id": "907a2e8870981b26",
   "outputs": [
    {
     "name": "stdout",
     "output_type": "stream",
     "text": [
      "['Ethernity Networks Ltd']\n"
     ]
    },
    {
     "data": {
      "text/plain": [
       "AnswerEvent(chain_of_thought='The provided context does not contain specific information regarding the total assets of Ethernity Networks Ltd for the year 2022. Therefore, I cannot provide an answer as the necessary data is absent.', answer='n/a')"
      ]
     },
     "execution_count": 96,
     "metadata": {},
     "output_type": "execute_result"
    }
   ],
   "execution_count": 96
  },
  {
   "metadata": {
    "ExecuteTime": {
     "end_time": "2024-09-02T13:00:37.621900Z",
     "start_time": "2024-09-02T13:00:34.948569Z"
    }
   },
   "cell_type": "code",
   "source": "ask_company_expert(\"What are the total R&D expenses of 'Ethernity Networks Ltd' in 2021?\", \"Ethernity Networks Ltd\")",
   "id": "537e14d8c3d459b6",
   "outputs": [
    {
     "name": "stdout",
     "output_type": "stream",
     "text": [
      "### ASKING COMPANY EXPERT: Ethernity Networks Ltd\n"
     ]
    },
    {
     "data": {
      "text/plain": [
       "AnswerEvent(chain_of_thought='The provided context does not contain specific figures or data detailing the research and development (R&D) expenses for Ethernity Networks Ltd for the year 2021. Without this information, I cannot accurately determine the R&D expenses for 2021.', answer='n/a')"
      ]
     },
     "execution_count": 105,
     "metadata": {},
     "output_type": "execute_result"
    }
   ],
   "execution_count": 105
  },
  {
   "metadata": {},
   "cell_type": "markdown",
   "source": "## Multiple agents",
   "id": "f0ee597ead17d621"
  },
  {
   "metadata": {
    "ExecuteTime": {
     "end_time": "2024-09-02T20:57:16.024782Z",
     "start_time": "2024-09-02T20:57:16.011546Z"
    }
   },
   "cell_type": "code",
   "source": [
    "# DELEGATION MANAGER\n",
    "\n",
    "INVOLVED_COMPANIES = df_sample.name.to_list()\n",
    "\n",
    "system_prompt_delegation = f\"\"\"\n",
    "You will receive queries related to one or more companies. You have access to specialized agents capable of retrieving data for each specific company. To delegate tasks to these agents, follow these guidelines:\n",
    "\n",
    "    1. Identify Companies: Extract the exact company names from the query and list them under 'companies'. Ensure that the company names match exactly with those provided in {INVOLVED_COMPANIES}. If the query mentions companies that are not in this list, enter 'SKIP' for both 'companies' and 'queries', and note this in the 'chain_of_thought'. If the company name in the query is incomplete (e.g., missing 'Inc.', 'Ltd.'), attempt to match it with the correct company name from the list.\n",
    "\n",
    "    2. Formulate Queries: \n",
    "        - For each company identified, create a precise query that the specialized agents can use to retrieve the required information. \n",
    "        - List these queries under 'queries'. \n",
    "        - Add some information on where in annual company reports the specialized agents can usually find the information. \n",
    "        - If the query involves ratios, comparisons, or requires multiple metrics, suggest how the specialized agents should approach the problem to ensure accurate results. For instance, if calculating a ratio, indicate which metrics to retrieve and compare.\n",
    "        - If using abbreviations also mention the full phrase or name ((e.g., for 'R&D' also use 'research and development').\n",
    "        - If the query asks specifically for a quarterly data, also ask to provide the best available data if only full-year data is available. Be transparent about it in the 'chain_of_thought'.\n",
    "    \n",
    "    4. Chain of Thought: Provide a 'chain_of_thought' explaining how you identified the companies, formulated the queries, and any assumptions or steps taken to reach your final output. If you marked any queries as 'SKIP', explain why.\n",
    "\"\"\"\n",
    "\n",
    "\n",
    "class DelegationRequest(BaseModel):\n",
    "    chain_of_thought: str\n",
    "    companies: list[str]\n",
    "    queries: list[str]\n",
    "\n",
    "\n",
    "def ask_delegation_manager(query):    \n",
    "    print(\"### ASKING DELEGATION MANAGER: \")\n",
    "    completion = client.beta.chat.completions.parse(\n",
    "        model=MODEL,\n",
    "        messages=[\n",
    "            {\"role\": \"system\", \"content\": system_prompt_delegation},\n",
    "            {\"role\": \"user\", \"content\": query},\n",
    "        ],\n",
    "        response_format=DelegationRequest,\n",
    "    )\n",
    "    \n",
    "    return completion.choices[0].message.parsed"
   ],
   "id": "556851a9b2e0d530",
   "outputs": [],
   "execution_count": 20
  },
  {
   "metadata": {
    "ExecuteTime": {
     "end_time": "2024-09-02T12:28:19.038772Z",
     "start_time": "2024-09-02T12:28:17.048121Z"
    }
   },
   "cell_type": "code",
   "source": "ask_delegation_manager(\"Has 'Ethernity Networks Ltd' more liabilities than 'Accuray Incorporated' in 2022?\")",
   "id": "f0066ed0c2eead25",
   "outputs": [
    {
     "name": "stdout",
     "output_type": "stream",
     "text": [
      "### ASKING DELEGATION MANAGER: \n"
     ]
    },
    {
     "data": {
      "text/plain": [
       "DelegationRequest(chain_of_thought=\"In this query, I identified two companies: 'Ethernity Networks Ltd' and 'Accuray Incorporated'. Both of these companies are part of the provided list, allowing me to formulate specific queries for retrieving the necessary financial data. The query asks for a comparison of liabilities for the year 2022, which requires extracting total liabilities from the annual reports for both companies. I will retrieve the total liabilities for both companies from their 2022 reports to facilitate this comparison.\", companies=['Ethernity Networks Ltd', 'Accuray Incorporated'], queries=['Retrieve total liabilities for Ethernity Networks Ltd from the 2022 annual report, typically found in the balance sheet section.', 'Retrieve total liabilities for Accuray Incorporated from the 2022 annual report, typically found in the balance sheet section.'])"
      ]
     },
     "execution_count": 62,
     "metadata": {},
     "output_type": "execute_result"
    }
   ],
   "execution_count": 62
  },
  {
   "metadata": {
    "ExecuteTime": {
     "end_time": "2024-09-02T12:12:32.695404Z",
     "start_time": "2024-09-02T12:12:31.061579Z"
    }
   },
   "cell_type": "code",
   "source": "ask_delegation_manager(\"How many assets does 'Ethernity Networks Ltd' have in 2022 in dollars?\")",
   "id": "450954825ad2cc7b",
   "outputs": [
    {
     "name": "stdout",
     "output_type": "stream",
     "text": [
      "### ASKING DELEGATION MANAGER: \n"
     ]
    },
    {
     "data": {
      "text/plain": [
       "DelegationRequest(chain_of_thought=\"The query explicitly mentions 'Ethernity Networks Ltd', which is included in the list of companies I have access to. I formulated the query to retrieve the specific information about the assets of 'Ethernity Networks Ltd' for the year 2022, specifying the currency as dollars so the specialized agents can provide a precise answer. There are no other companies mentioned in the query, so this is straightforward.\", companies=['Ethernity Networks Ltd'], queries=['How many assets does Ethernity Networks Ltd have in 2022 in dollars? This information can usually be found in the balance sheet.'])"
      ]
     },
     "execution_count": 34,
     "metadata": {},
     "output_type": "execute_result"
    }
   ],
   "execution_count": 34
  },
  {
   "metadata": {
    "ExecuteTime": {
     "end_time": "2024-09-02T12:52:20.101095Z",
     "start_time": "2024-09-02T12:52:15.718067Z"
    }
   },
   "cell_type": "code",
   "source": "ask_delegation_manager(\"Did Global Medical REIT Inc. have a greater Debt-to-Equity ratio than Zegona Communications plc in Q2 2021?\")",
   "id": "67b32adb4ff93a38",
   "outputs": [
    {
     "name": "stdout",
     "output_type": "stream",
     "text": [
      "### ASKING DELEGATION MANAGER: \n"
     ]
    },
    {
     "data": {
      "text/plain": [
       "DelegationRequest(chain_of_thought=\"The query mentions two companies: Global Medical REIT Inc. and Zegona Communications plc. Both are present in the provided list, so they are captured correctly. The query is asking for a comparison of the Debt-to-Equity ratio between these two companies for Q2 2021. To address this, the specialized agents should retrieve the Debt-to-Equity ratio for each company from their respective Q2 2021 financial reports. This is typically found in the financial statements section, specifically the balance sheet and notes on financial metrics. The agents should ensure that the data is from Q2 2021 to make a precise comparison. Hence, queries are formulated to retrieve this specific data from each company's financial reports for that period.\", companies=['Global Medical REIT Inc.', 'Zegona Communications plc'], queries=['Retrieve the Debt-to-Equity ratio for Global Medical REIT Inc. from Q2 2021 financial reports.', 'Retrieve the Debt-to-Equity ratio for Zegona Communications plc from Q2 2021 financial reports.'])"
      ]
     },
     "execution_count": 90,
     "metadata": {},
     "output_type": "execute_result"
    }
   ],
   "execution_count": 90
  },
  {
   "metadata": {
    "ExecuteTime": {
     "end_time": "2024-09-02T20:57:18.423612Z",
     "start_time": "2024-09-02T20:57:18.401759Z"
    }
   },
   "cell_type": "code",
   "source": [
    "# EXECUTION MANAGER\n",
    "\n",
    "system_prompt_execution = f\"\"\"\n",
    "You are an intelligent assistant tasked with synthesizing a final answer to the USER_QUERY using specific company data provided in the CONTEXT. The CONTEXT includes information generated by expert systems along with their reasoning process.\n",
    "\n",
    "Your Objectives:\n",
    "    - Final Answer Construction: Your primary task is to deliver a final, accurate response to the USER_QUERY based on the provided CONTEXT.\n",
    "    - Handling Temporal Data: If the temporal scope of the data isn't an exact match (e.g., full-year data instead of Q4), use the best available data to formulate your answer. If specific quarterly data is requested but only full-year data is available, still provide an answer based on the available information, ensuring the CONTEXT contains sufficient relevant data. \n",
    "    - Chain of Thought: Document your reasoning process in 'chain_of_thought', including intermediary steps and considerations that led to your final answer.\n",
    "    - Strict Adherence: The final answer must be compliant with the specific guidelines. Accuracy, clarity, and adherence to these guidelines are critical: \\n {ANSWER_GUIDELINES} \\n \n",
    "\n",
    "Format:\n",
    "    - chain_of_thought: Your reasoning process, including intermediary steps\n",
    "    - answer: Your final answer following the guidelines. It should be of format: <OUTPUT_TYPE>, e.g., 'name', 'number' (including 0), 'boolean', etc.\n",
    "\n",
    "Provided Inputs:\n",
    "\n",
    "USER_QUERY: \\n <QUERY> \\n\n",
    "CONTEXT: \\n <CONTEXT>\n",
    "\"\"\"\n",
    "\n",
    "class ExecutionRequest(BaseModel):\n",
    "    chain_of_thought: str\n",
    "    answer: int | float | str\n",
    "\n",
    "def ask_execution_manager(query, context, output_type):\n",
    "    system_prompt_execution_full = system_prompt_execution.replace(\"<QUERY>\", query).replace(\"<CONTEXT>\", context).replace(\"<OUTPUT_TYPE>\", output_type)\n",
    "    \n",
    "    print(\"### ASKING EXECUTION MANAGER: \")\n",
    "\n",
    "    print(\"Context:\", context)\n",
    "    \n",
    "    completion = client.beta.chat.completions.parse(\n",
    "        model=MODEL,\n",
    "        messages=[\n",
    "            {\"role\": \"system\", \"content\": system_prompt_execution_full},\n",
    "            {\"role\": \"user\", \"content\": query},\n",
    "        ],\n",
    "        response_format=ExecutionRequest,\n",
    "    )\n",
    "    \n",
    "    return completion.choices[0].message.parsed"
   ],
   "id": "ae5badfdd80719b5",
   "outputs": [],
   "execution_count": 21
  },
  {
   "metadata": {
    "ExecuteTime": {
     "end_time": "2024-09-02T20:57:19.655757Z",
     "start_time": "2024-09-02T20:57:19.642757Z"
    }
   },
   "cell_type": "code",
   "source": [
    "# FINAL PIPELINE\n",
    "\n",
    "def ask_question(query, output_type):\n",
    "    print(\"## Query:\", query)\n",
    "    delegations = ask_delegation_manager(query)\n",
    "    print(\"Delegations: \\n\", delegations)\n",
    "    \n",
    "    expert_context = {}\n",
    "    for company, company_query in zip(delegations.companies, delegations.queries):\n",
    "        if company.lower() == \"skip\" or company_query.lower() == \"skip\":\n",
    "            expert_context[company] = \"No data available\"\n",
    "        else:\n",
    "            expert_context[company] = ask_company_expert(company_query, company)\n",
    "    \n",
    "    final_answer = ask_execution_manager(query, str(expert_context), output_type)\n",
    "    \n",
    "    return final_answer"
   ],
   "id": "1c4c03aa88b9f80b",
   "outputs": [],
   "execution_count": 22
  },
  {
   "metadata": {
    "ExecuteTime": {
     "end_time": "2024-09-02T20:57:24.295792Z",
     "start_time": "2024-09-02T20:57:21.355032Z"
    }
   },
   "cell_type": "code",
   "source": "ask_question(\"Who is the CEO of Tesla Inc.?\", \"name\") # n/a",
   "id": "c5c790aa6cfca5bd",
   "outputs": [
    {
     "name": "stdout",
     "output_type": "stream",
     "text": [
      "## Query: Who is the CEO of Tesla Inc.?\n",
      "### ASKING DELEGATION MANAGER: \n",
      "Delegations: \n",
      " chain_of_thought=\"The query asks for information about Tesla Inc., but Tesla Inc. is not listed in the provided list of companies. According to the guidelines, I should respond with 'SKIP' for both 'companies' and 'queries'.\" companies=['SKIP'] queries=['SKIP']\n",
      "### ASKING EXECUTION MANAGER: \n",
      "Context: {'SKIP': 'No data available'}\n"
     ]
    },
    {
     "data": {
      "text/plain": [
       "ExecutionRequest(chain_of_thought=\"The context provided does not contain specific information about the current CEO of Tesla Inc. Since the context states 'No data available', there is an absence of relevant information to determine the CEO.\", answer='n/a')"
      ]
     },
     "execution_count": 23,
     "metadata": {},
     "output_type": "execute_result"
    }
   ],
   "execution_count": 23
  },
  {
   "metadata": {
    "ExecuteTime": {
     "end_time": "2024-09-02T13:02:10.591216Z",
     "start_time": "2024-09-02T13:02:04.533967Z"
    }
   },
   "cell_type": "code",
   "source": "ask_question(\"Who is the CEO of Ethernity Networks?\", \"name\") # David Levi",
   "id": "db938ef5d289790",
   "outputs": [
    {
     "name": "stdout",
     "output_type": "stream",
     "text": [
      "## Query: Who is the CEO of Ethernity Networks?\n",
      "### ASKING DELEGATION MANAGER: \n",
      "Delegations: \n",
      " chain_of_thought=\"The query mentions the company 'Ethernity Networks' which matches exactly with the company 'Ethernity Networks Ltd' from the provided list. Therefore, the relevant company is identified, and I can proceed to form a query for this specific company to retrieve information about the CEO.\" companies=['Ethernity Networks Ltd'] queries=[\"Retrieve the name of the current CEO of Ethernity Networks Ltd. This information is typically found in the Management section of the company's annual report or on the company's official website under leadership or management team information.\"]\n",
      "### ASKING COMPANY EXPERT: Ethernity Networks Ltd\n",
      "### ASKING EXECUTION MANAGER: \n",
      "Context: {'Ethernity Networks Ltd': AnswerEvent(chain_of_thought='To find the name of the current CEO of Ethernity Networks Ltd., I will search the provided CONTEXT for any mention of executive roles, particularly looking for \"CEO\" or \"Chief Executive Officer\". In the given text, the section \"Directors\" lists various personnel and their roles. It explicitly mentions \"David Levi\" as the \"Chief Executive Officer.\" Thus, based on the information provided in the CONTEXT, the name of the current CEO can be determined.', answer='David Levi')}\n"
     ]
    },
    {
     "data": {
      "text/plain": [
       "ExecutionRequest(chain_of_thought='The CONTEXT provides the name of the current CEO of Ethernity Networks. By examining the company\\'s executive roles, specifically searching for titles like \"CEO\" or \"Chief Executive Officer,\" it identifies \"David Levi\" as the CEO.', answer='David Levi')"
      ]
     },
     "execution_count": 113,
     "metadata": {},
     "output_type": "execute_result"
    }
   ],
   "execution_count": 113
  },
  {
   "metadata": {
    "ExecuteTime": {
     "end_time": "2024-09-02T13:02:26.339887Z",
     "start_time": "2024-09-02T13:02:10.592725Z"
    }
   },
   "cell_type": "code",
   "source": "ask_question(\"Has 'Ethernity Networks Ltd' more liabilities than 'Accuray Incorporated' in 2022?\", \"boolean\") # Accuray: 419,660,000$, Ethernity: 12,257,291$ -> no is correct answer",
   "id": "62f09a4e0ed9d6e3",
   "outputs": [
    {
     "name": "stdout",
     "output_type": "stream",
     "text": [
      "## Query: Has 'Ethernity Networks Ltd' more liabilities than 'Accuray Incorporated' in 2022?\n",
      "### ASKING DELEGATION MANAGER: \n",
      "Delegations: \n",
      " chain_of_thought=\"First, I identified the companies mentioned in the query, which are 'Ethernity Networks Ltd' and 'Accuray Incorporated'. Both of these companies exist in the provided list. The query requests a comparison of liabilities between the two companies for the year 2022.\\n\\nTo address this query, I need to formulate precise questions for each company's specialized agent, asking them to retrieve the total liabilities from their respective 2022 financial statements, such as the balance sheet.\\n\\nFinally, I ensure that the agents understand to compare the total liabilities of each company for 2022, so that the initial query can be answered accurately.\" companies=['Ethernity Networks Ltd', 'Accuray Incorporated'] queries=['Retrieve the total liabilities for Ethernity Networks Ltd from the 2022 balance sheet.', 'Retrieve the total liabilities for Accuray Incorporated from the 2022 balance sheet.']\n",
      "### ASKING COMPANY EXPERT: Ethernity Networks Ltd\n",
      "### ASKING COMPANY EXPERT: Accuray Incorporated\n",
      "### ASKING EXECUTION MANAGER: \n",
      "Context: {'Ethernity Networks Ltd': AnswerEvent(chain_of_thought='The provided CONTEXT contains financial information for Ethernity Networks Ltd for the year 2022, including specific notes and figures. However, it does not include a complete balance sheet or a summary of total liabilities. The excerpts cover information about short-term borrowings, liabilities from specific notes, and obligations, but do not present an aggregated total liabilities figure for 2022.', answer='n/a'), 'Accuray Incorporated': AnswerEvent(chain_of_thought=\"To find the total liabilities for Accuray Incorporated in 2022, I need to refer to the consolidated balance sheet data provided in the context. The context mentions 'Total liabilities and stockholders’ equity' for June 30, 2022, as $472,849. In the balance sheet, 'Total liabilities and stockholders’ equity' is usually the sum of total liabilities and total stockholders' equity. I also have the 'Total stockholders' equity' value given as $53,189 for June 30, 2022. Therefore, I can calculate total liabilities by subtracting total stockholders' equity from 'Total liabilities and stockholders’ equity'. This calculation would be: $472,849 - $53,189 = $419,660. Thus, the total liabilities for Accuray Incorporated on June 30, 2022, are $419,660.\", answer=419660)}\n"
     ]
    },
    {
     "data": {
      "text/plain": [
       "ExecutionRequest(chain_of_thought='The context provides liability data for Accuray Incorporated for June 30, 2022, computed to be $419,660. However, for Ethernity Networks Ltd, there is no complete liability figure given for 2022. The context mentions that the financial information for Ethernity Networks is not aggregated into a total liabilities figure for the year 2022. \\n\\nThus, without a total liabilities figure for Ethernity Networks Ltd, I cannot compare the liabilities of Ethernity Networks Ltd to Accuray Incorporated.', answer='n/a')"
      ]
     },
     "execution_count": 114,
     "metadata": {},
     "output_type": "execute_result"
    }
   ],
   "execution_count": 114
  },
  {
   "metadata": {
    "ExecuteTime": {
     "end_time": "2024-09-02T14:00:41.263647Z",
     "start_time": "2024-09-02T14:00:22.776311Z"
    }
   },
   "cell_type": "code",
   "source": "ask_question('Did \"Global Medical REIT Inc.\" have a greater Debt-to-Equity ratio than \"Zegona Communications plc\" in Q2 2021?', \"boolean\")",
   "id": "5b32f3cc4f2e18f9",
   "outputs": [
    {
     "name": "stdout",
     "output_type": "stream",
     "text": [
      "## Query: Did \"Global Medical REIT Inc.\" have a greater Debt-to-Equity ratio than \"Zegona Communications plc\" in Q2 2021?\n",
      "### ASKING DELEGATION MANAGER: \n",
      "Delegations: \n",
      " chain_of_thought=\"The companies mentioned in the query are 'Global Medical REIT Inc.' and 'Zegona Communications plc', both of which are present in the provided list. Thus, the task should not be marked as 'SKIP'. The query involves calculating the Debt-to-Equity ratio for both companies in Q2 2021 to compare which one is greater. Typically, the Debt-to-Equity ratio can be found in the financial statements section of a company's quarterly report. Specifically, it requires extracting the total liabilities and shareholder's equity from the balance sheet. If only full-year data is available for 2021, use it as the best available data. The agent should ensure to retrieve the information accurately for the specified quarter and perform the division to find the Debt-to-Equity ratio for both companies before comparing them.\" companies=['Global Medical REIT Inc.', 'Zegona Communications plc'] queries=[\"Retrieve the Q2 2021 total liabilities and shareholder's equity for Global Medical REIT Inc. from the balance sheet to calculate its Debt-to-Equity ratio. If only full-year data is available, use it to provide the best available context.\", \"Retrieve the Q2 2021 total liabilities and shareholder's equity for Zegona Communications plc from the balance sheet to calculate its Debt-to-Equity ratio. If only full-year data is available, use it to provide the best available context.\", 'Compare the Debt-to-Equity ratios calculated for Global Medical REIT Inc. and Zegona Communications plc for Q2 2021 to determine which one is greater.']\n",
      "### ASKING COMPANY EXPERT: Global Medical REIT Inc.\n",
      "### ASKING COMPANY EXPERT: Zegona Communications plc\n",
      "### ASKING EXECUTION MANAGER: \n",
      "Context: {'Global Medical REIT Inc.': AnswerEvent(chain_of_thought=\"The context does not provide specific Q2 2021 data for liabilities and shareholder's equity. Instead, it provides data for year-end 2021 and 2022. For the purpose of calculating the Debt-to-Equity ratio, we will use the 2021 year-end data as the next best available data:\\n\\n1. Total liabilities at year-end 2021: $625,908,000\\n2. Total equity at year-end 2021: $637,577,000\\n\\nThe Debt-to-Equity ratio is calculated as follows:\\n\\nDebt-to-Equity Ratio = Total Liabilities / Total Equity = $625,908,000 / $637,577,000.\", answer=0.9818082671631349), 'Zegona Communications plc': AnswerEvent(chain_of_thought=\"The provided CONTEXT does not include a specific Q2 2021 balance sheet. However, it includes full-year data for 31 December 2021 and 31 December 2022. I will use the full-year 2021 data since it should serve as a reasonable approximation for calculations in the absence of quarterly data. From the CONTEXT:\\n\\nFor 31 December 2021:\\n- Total liabilities: 726 (noting that €106 is marked under bank borrowings and would also be included as a liability).\\n- Shareholder's equity or Total equity: 14654 (€14,454k as Total equity from the statement, including a Total liabilities of 1,457 which may overlap with the other liabilities listed elsewhere; summarizing based on the detailed numbers for practicality).\\n\\nCalculating Debt-to-Equity Ratio:\\nThe Debt-to-Equity ratio is defined as Total Liabilities divided by Shareholder's Equity.\\n\\nDebt-to-Equity Ratio = Total Liabilities / Shareholder's Equity = 726 / 14654 = approximately 0.0496.\", answer=0.0496)}\n"
     ]
    },
    {
     "data": {
      "text/plain": [
       "ExecutionRequest(chain_of_thought=\"We are tasked with comparing the Debt-to-Equity ratios of 'Global Medical REIT Inc.' and 'Zegona Communications plc'. The CONTEXT does not provide specific Q2 2021 data, so we use the year-end 2021 data as an approximation.\\n\\n1. Global Medical REIT Inc.:\\n   - Total liabilities at year-end 2021: $625,908,000\\n   - Total equity at year-end 2021: $637,577,000\\n   - Debt-to-Equity Ratio = 625,908,000 / 637,577,000 ≈ 0.9818\\n\\n2. Zegona Communications plc:\\n   - Total liabilities at year-end 2021: 726 (in thousands)\\n   - Total equity at year-end 2021: 14,654 (in thousands)\\n   - Debt-to-Equity Ratio = 726 / 14,654 ≈ 0.0496\\n\\nWe compare the two calculated ratios: 0.9818 (Global Medical REIT Inc.) and 0.0496 (Zegona Communications plc). Clearly, 0.9818 is greater than 0.0496, therefore 'Global Medical REIT Inc.' has a greater Debt-to-Equity ratio than 'Zegona Communications plc' based on the data closest to Q2 2021 available (year-end 2021).\", answer='yes')"
      ]
     },
     "execution_count": 149,
     "metadata": {},
     "output_type": "execute_result"
    }
   ],
   "execution_count": 149
  },
  {
   "metadata": {
    "ExecuteTime": {
     "end_time": "2024-09-02T14:30:17.366918Z",
     "start_time": "2024-09-02T14:30:10.281795Z"
    }
   },
   "cell_type": "code",
   "source": "ask_question(\"What are the total R&D expenses of 'Ethernity Networks Ltd' in 2021?\", \"number\")",
   "id": "1608f615f27b7e15",
   "outputs": [
    {
     "name": "stdout",
     "output_type": "stream",
     "text": [
      "## Query: What are the total R&D expenses of 'Ethernity Networks Ltd' in 2021?\n",
      "### ASKING DELEGATION MANAGER: \n",
      "Delegations: \n",
      " chain_of_thought=\"The query specifically mentions 'Ethernity Networks Ltd', which matches exactly with one of the company names in the provided list. The task is to find R&D expenses for 2021. Generally, such data is found in the financial section of the company's annual report, usually under a section dedicated to operating expenses or a summary of financials. I'll formulate a query for 'Ethernity Networks Ltd' to retrieve the required data.\" companies=['Ethernity Networks Ltd'] queries=['Retrieve the total research and development (R&D) expenses for Ethernity Networks Ltd for the fiscal year 2021. This information can often be found in the operating expenses section or the notes to the financial statements in the annual report.']\n",
      "### ASKING COMPANY EXPERT: Ethernity Networks Ltd\n",
      "### ASKING EXECUTION MANAGER: \n",
      "Context: {'Ethernity Networks Ltd': AnswerEvent(chain_of_thought='The provided documents contain the annual reports and financial statements for Ethernity Networks Ltd for the fiscal years 2021 and 2022. However, the specific page content provided does not include a detailed breakdown of the R&D expenses for 2021. Therefore, I cannot retrieve the R&D expenses for Ethernity Networks Ltd for that fiscal year from the given context.', answer='n/a')}\n"
     ]
    },
    {
     "data": {
      "text/plain": [
       "ExecutionRequest(chain_of_thought='The CONTEXT provides information from the annual reports and financial statements for Ethernity Networks Ltd for the fiscal years 2021 and 2022. However, it explicitly mentions that there is no detailed breakdown of the R&D expenses for 2021 mentioned in the documents provided. Without the specific data, I cannot determine the R&D expenses for that year.', answer='n/a')"
      ]
     },
     "execution_count": 180,
     "metadata": {},
     "output_type": "execute_result"
    }
   ],
   "execution_count": 180
  },
  {
   "metadata": {},
   "cell_type": "markdown",
   "source": "## Obtain final results ",
   "id": "6eff4555c6c481a2"
  },
  {
   "metadata": {
    "ExecuteTime": {
     "end_time": "2024-09-02T21:04:13.175919Z",
     "start_time": "2024-09-02T20:58:25.852214Z"
    }
   },
   "cell_type": "code",
   "source": [
    "# 5 min runtime for 40 questions\n",
    "\n",
    "results = []\n",
    "\n",
    "with open('data/questions.json', 'r') as json_file:\n",
    "    items = json.load(json_file)\n",
    "    for item in items:\n",
    "        question = item[\"question\"]\n",
    "        response = ask_question(question, item[\"schema\"]) # TODO could introduce schema as Daniel with arg=item[\"schema\"] and classes/pydantic\n",
    "        print(response)\n",
    "        results.append({\n",
    "            \"question\": question,\n",
    "            \"schema\": item[\"schema\"],\n",
    "            \"answer\": response.answer\n",
    "        })\n",
    "\n",
    "with open('results/results_v8.json', 'w') as json_file:\n",
    "    json.dump(results, json_file, indent=4)"
   ],
   "id": "52e4cdaaa2db4667",
   "outputs": [
    {
     "name": "stdout",
     "output_type": "stream",
     "text": [
      "## Query: What was the Net Profit Margin of \"Oesterreichische Kontrollbank\" in June 30, 2023?\n",
      "### ASKING DELEGATION MANAGER: \n",
      "Delegations: \n",
      " chain_of_thought=\"The query specifically mentions the company 'Oesterreichische Kontrollbank'. This exact company name is present in the list of supported companies. The task is to find the Net Profit Margin as of June 30, 2023. Therefore, I will formulate the query to retrieve this information from the company's financial statements. Typically, the net profit margin is calculated by dividing the net income by total revenue and can be found in the income statement section of the financial report. Thus, the agents should look for the quarterly report ending June 30, 2023, and if unavailable, use the best available data for that period.\" companies=['Oesterreichische Kontrollbank'] queries=['Retrieve the net income and total revenue from the income statement of Oesterreichische Kontrollbank for the period ending June 30, 2023, to calculate the Net Profit Margin. If the quarterly report is not available, provide the best available data for that period, specifying any assumptions made.']\n",
      "### ASKING COMPANY EXPERT: Oesterreichische Kontrollbank\n"
     ]
    },
    {
     "name": "stderr",
     "output_type": "stream",
     "text": [
      "C:\\Users\\Felix\\AppData\\Local\\Temp\\ipykernel_19600\\440740679.py:3: LangChainDeprecationWarning: The method `BaseRetriever.get_relevant_documents` was deprecated in langchain-core 0.1.46 and will be removed in 1.0. Use invoke instead.\n",
      "  return retriever_dict[company].get_relevant_documents(query)\n"
     ]
    },
    {
     "name": "stdout",
     "output_type": "stream",
     "text": [
      "### ASKING EXECUTION MANAGER: \n",
      "Context: {'Oesterreichische Kontrollbank': AnswerEvent(chain_of_thought='The CONTEXT provided does not contain specific data for the period ending June 30, 2023. I will use the available data from the annual financial report for the year 2022, as no specific quarterly data is available. From the CONTEXT: \\n- For the year 2022, the total revenue (which can be approximated by interest income plus fee and commission income) is calculated as follows: \\n  Interest Income = 385,463 \\n  Fee and Commission Income = 65,327 \\n  Total Revenue for 2022 = Interest Income + Fee and Commission Income = 385,463 + 65,327 = 450,790\\n\\n- The net income (profit for the year attributable to owners of the parent) for 2022 is: 56,046\\n\\n- Net Profit Margin is calculated using the formula: Net Profit Margin = Net Income / Total Revenue.\\n  The values are: Net Income = 56,046 and Total Revenue = 450,790.\\n  Thus, Net Profit Margin = 56,046 / 450,790.\\n\\nAssumptions: I am using the full-year data for 2022 to provide the best available data due to the lack of specific data for June 30, 2023.', answer=0.1243)}\n",
      "chain_of_thought='The CONTEXT indicates that there is no specific data for Oesterreichische Kontrollbank for the period ending June 30, 2023. The best available data is from the annual report for the year 2022. The calculation made in the CONTEXT uses the full-year 2022 data: Total Revenue = 450,790 and Net Income = 56,046, resulting in a Net Profit Margin of 0.1243 for 2022. Since no quarterly data is available, this is the best available indication of the Net Profit Margin.' answer=0.1243\n",
      "## Query: What was the total liabilities of \"CrossFirst Bank\" in the fiscal year 2023?\n",
      "### ASKING DELEGATION MANAGER: \n",
      "Delegations: \n",
      " chain_of_thought='The query specifically mentions \"CrossFirst Bank\", which is a company in our list. Therefore, I can proceed with fulfilling this request. The query asks for total liabilities for the fiscal year 2023. To get the total liabilities, the specialized agent should look at the balance sheet section of CrossFirst Bank\\'s annual report for 2023. If the 2023 report is not available or complete year data is not fully compiled yet, the agent should provide the most recent available data with transparency.' companies=['CrossFirst Bank'] queries=[\"Retrieve the total liabilities figure from the balance sheet section of CrossFirst Bank's 2023 annual report. If the report for 2023 is not yet available, provide the latest available data and specify the fiscal period the data pertains to.\"]\n",
      "### ASKING COMPANY EXPERT: CrossFirst Bank\n",
      "### ASKING EXECUTION MANAGER: \n",
      "Context: {'CrossFirst Bank': AnswerEvent(chain_of_thought='The context provides a balance sheet as of December 31, 2022 and December 31, 2021. The total liabilities for these periods are provided in this section.\\nFor December 31, 2022, the total liabilities are $5,992,487 (in thousands).\\nFor December 31, 2021, the total liabilities are $4,953,884 (in thousands).\\nSince the data for 2023 is not available, I will provide the latest available figure, which is for December 31, 2022.', answer=5992487000)}\n",
      "chain_of_thought='The context provides balance sheet data up to December 31, 2022, but does not include data for 2023. The latest available figure for total liabilities is as of December 31, 2022, which is $5,992,487 (in thousands). Therefore, I will use this figure, converted into full dollar amounts, to provide an answer as there is no information for 2023.' answer=5992487000\n",
      "## Query: How much more did \"Astral Resources NL\" spend on marketing compared to \"TSX_Y\" in June 30, 2021?\n",
      "### ASKING DELEGATION MANAGER: \n",
      "Delegations: \n",
      " chain_of_thought='The query requests a comparison of marketing expenditures between \"Astral Resources NL\" and \"TSX_Y\" as of June 30, 2021. I compared the mentioned company names with the provided list. \"TSX_Y\" is found in the list, but \"Astral Resources NL\" is not. Since \"Astral Resources NL\" is not included in my listed companies, I must mark this query as \\'SKIP.\\'' companies=['SKIP'] queries=['SKIP']\n",
      "### ASKING EXECUTION MANAGER: \n",
      "Context: {'SKIP': 'No data available'}\n",
      "chain_of_thought='The context explicitly states \\'No data available,\\' indicating that there is no information provided on the marketing expenditure of either \"Astral Resources NL\" or \"TSX_Y\" for June 30, 2021. Without specific data on marketing expenditures for those entities on the given date, an accurate comparison cannot be made.' answer='n/a'\n",
      "## Query: Which company had a higher free cash flow: \"TSX_ACQ\", \"QUIDELORTHO CORPORATION\" or \"PowerFleet, Inc.\", in the fiscal year 2022?\n",
      "### ASKING DELEGATION MANAGER: \n",
      "Delegations: \n",
      " chain_of_thought='The query mentions three companies: \"TSX_ACQ\", \"QUIDELORTHO CORPORATION\", and \"PowerFleet, Inc.\". From the provided list, only \"TSX_ACQ\" and \"PowerFleet, Inc.\" are exact matches. \"QUIDELORTHO CORPORATION\" is not listed, so it\\'s ignored in the process. Using the valid companies, I will generate queries to retrieve their free cash flow for the fiscal year 2022 to compare them.' companies=['TSX_ACQ', 'PowerFleet, Inc.'] queries=['Retrieve the free cash flow figure for TSX_ACQ for the fiscal year 2022. Check the cash flow statement section of the annual report for this figure.', 'Retrieve the free cash flow figure for PowerFleet, Inc. for the fiscal year 2022. Look in the cash flow statement section where cash from operating activities minus capital expenditures might provide the free cash flow.']\n",
      "### ASKING COMPANY EXPERT: TSX_ACQ\n",
      "### ASKING COMPANY EXPERT: PowerFleet, Inc.\n",
      "### ASKING EXECUTION MANAGER: \n",
      "Context: {'TSX_ACQ': AnswerEvent(chain_of_thought=\"Free Cash Flow (FCF) is typically calculated as the cash flow from operations minus capital expenditures. Therefore, we analyze the cash flow statement available in the provided CONTEXT.\\n\\n1. Cash flows from operating activities in 2022: 147,974 (in thousands of Canadian dollars)\\n2. Capital Expenditures (Purchases of property and equipment) in 2022: 52,667 (in thousands of Canadian dollars)\\n\\nFCF = Cash flow from operating activities - Capital Expenditures = 147,974 - 52,667 = 95,307 (thousands of Canadian dollars)\\n\\nHowever, the exact figure might be directly stated under the cash flow statement when available, and since the specific number is not directly referenced as 'Free Cash Flow' within the context and no direct number is given, further verification from the full statement list might be suggested but is not accessible from the current context.\", answer='95307000'), 'PowerFleet, Inc.': AnswerEvent(chain_of_thought='To calculate the free cash flow for PowerFleet, Inc. for the fiscal year 2022, we need to find the cash flow from operating activities and subtract capital expenditures.\\n\\n- From the cash flow statement:\\n  - Cash flow from operating activities in 2022 was $757,000.\\n  - Capital expenditures in 2022 were $3,519,000.\\n\\nFree Cash Flow = Cash flow from operating activities - Capital expenditures\\n= $757,000 - $3,519,000 = -$2,762,000.', answer=-2762000)}\n",
      "chain_of_thought='To determine which company had a higher free cash flow in 2022, we analyze the free cash flow values provided for the companies in the context.\\n\\n- For TSX_ACQ, the free cash flow is given as 95,307 (in thousands of Canadian dollars), which translates to 95,307,000 Canadian dollars.\\n- For PowerFleet, Inc., the free cash flow is calculated as -$2,762,000.\\n\\nThe free cash flow for QuidelOrtho Corporation is not provided in the context, so we consider it as missing data.\\n\\nComparing the available data, TSX_ACQ has 95,307,000 and PowerFleet, Inc. has -2,762,000. The higher value is clearly 95,307,000 from TSX_ACQ.' answer='TSX_ACQ'\n",
      "## Query: What was the earnings per share (EPS) of \"Holley Inc.\" in June 30, 2023?\n",
      "### ASKING DELEGATION MANAGER: \n",
      "Delegations: \n",
      " chain_of_thought=\"The query specifies 'Holley Inc.', which is an exact match in the provided list of companies. Therefore, I can generate a specific query for this company. The user is asking for the EPS on June 30, 2023. This corresponds to the second quarter of the year, meaning the specialized agents should focus on the second quarterly report of 2023 from Holley Inc. to find the earnings per share (EPS). EPS is usually found in the company's income statement within the financial summary section of a quarterly report. If only full-year data is available, the agents should make a note of this to inform the user.\" companies=['Holley Inc.'] queries=['Retrieve the earnings per share (EPS) for Holley Inc. as reported in their second quarterly report (Q2) for the year 2023, specifically focusing on June 30, 2023. If quarterly data is not available, provide the best estimate from available full-year data. This information is usually located in the income statement within the financial summary section of the quarterly report.']\n",
      "### ASKING COMPANY EXPERT: Holley Inc.\n",
      "### ASKING EXECUTION MANAGER: \n",
      "Context: {'Holley Inc.': AnswerEvent(chain_of_thought='The provided CONTEXT does not include specific data for 2023, and the income statement data given is only for the years ended December 31, 2022, and December 31, 2021. There is no mention of quarterly data specifically for Q2 2023 or any earnings per share figures related to June 30, 2023. The context provided is limited to annual financial summary and other financial notes up to December 31, 2022, without any projection or statement extending to 2023.', answer='n/a')}\n",
      "chain_of_thought='The CONTEXT does not provide specific data for June 30, 2023. The financial data available is only for the full years ending on December 31, 2022, and December 31, 2021. There is no quarterly data available for 2023, therefore I cannot determine the EPS for Holley Inc. as of June 30, 2023.' answer='n/a'\n",
      "## Query: What was the accounts receivable of \"Petra Diamonds\" in the fiscal year 2023?\n",
      "### ASKING DELEGATION MANAGER: \n",
      "Delegations: \n",
      " chain_of_thought='The query mentions \"Petra Diamonds\", which is an exact match with one of the companies in our list. Therefore, I will proceed with formulating a query to obtain the requested information.\\n\\nIn order to find the accounts receivable of Petra Diamonds for fiscal year 2023, the specialized agent should look into the company\\'s balance sheet section of the annual report where accounts receivable is typically listed as a part of \\'current assets\\'. If the fiscal year 2023 report is unavailable, suggest getting the most recent available data.' companies=['Petra Diamonds'] queries=['Find the accounts receivable figure for Petra Diamonds in the balance sheet section of their fiscal year 2023 annual report. If fiscal year 2023 data is not available, provide the latest available data.']\n",
      "### ASKING COMPANY EXPERT: Petra Diamonds\n",
      "### ASKING EXECUTION MANAGER: \n",
      "Context: {'Petra Diamonds': AnswerEvent(chain_of_thought=\"The CONTEXT provides financial data for Petra Diamonds for the financial year ending on June 30, 2022, rather than 2023. In the data for the year 2022, we have the accounts related to receivables. \\n\\nThe accounts receivable figures provided include 'Current trade receivables' of 37.4 million USD and 'Non-current receivables (excluding VAT)' of 44.6 million USD for 2022. These figures can be combined to determine the total accounts receivable:\\n\\nTotal accounts receivable = Current trade receivables + Non-current receivables = 37.4 + 44.6 = 82.0 million USD.\\n\\nSince fiscal year 2023 data is not available, the most recent available data is for 2022, which is 82.0 million USD in total receivables.\", answer=82.0)}\n",
      "chain_of_thought='The data provided pertains to the fiscal year ending on June 30, 2022, for Petra Diamonds, and includes the accounts receivable figures for that year. The total accounts receivable for 2022 was computed by summing up the current trade receivables and non-current receivables, amounting to 82.0 million USD. There is no data available for the fiscal year 2023 within the context, indicating that the exact accounts receivable for 2023 cannot be determined from the provided information.' answer='n/a'\n",
      "## Query: How much more did \"Creative Media & Community Trust Corporation\" spend on sustainability initiatives compared to \"BAKER STEEL RESOURCES TRUST LIMITED\" in June 30, 2021?\n",
      "### ASKING DELEGATION MANAGER: \n",
      "Delegations: \n",
      " chain_of_thought='The query mentions two companies: \"Creative Media & Community Trust Corporation\" and \"BAKER STEEL RESOURCES TRUST LIMITED\", both of which match exactly with the company names in the given list. Therefore, I can proceed with retrieving data for both companies. The query requests a comparison of expenditures on sustainability initiatives as of June 30, 2021. To formulate the queries, I need to guide the specialized agents to look for sections of the companies\\' reports that typically cover environmental, social, and governance (ESG) projects or sustainability initiatives. If detailed quarterly data is not available, it\\'s essential to note that full-year estimates may be provided instead with clear communication about this provision.' companies=['Creative Media & Community Trust Corporation', 'BAKER STEEL RESOURCES TRUST LIMITED'] queries=['For Creative Media & Community Trust Corporation, retrieve the amount spent on sustainability initiatives by June 30, 2021. The specialized agents should refer to the section of the company report covering environmental, social, and governance (ESG) projects, or sustainability initiatives. If only full-year estimates are available, provide those with clear annotation.', 'For BAKER STEEL RESOURCES TRUST LIMITED, retrieve the amount spent on sustainability initiatives by June 30, 2021. The specialized agents should refer to the section of the company report covering environmental, social, and governance (ESG) projects, or sustainability initiatives. If only full-year estimates are available, provide those with clear annotation.']\n",
      "### ASKING COMPANY EXPERT: Creative Media & Community Trust Corporation\n",
      "### ASKING COMPANY EXPERT: BAKER STEEL RESOURCES TRUST LIMITED\n",
      "### ASKING EXECUTION MANAGER: \n",
      "Context: {'Creative Media & Community Trust Corporation': AnswerEvent(chain_of_thought='To determine the amount spent by Creative Media & Community Trust Corporation on sustainability initiatives by June 30, 2021, I need to locate information related to ESG projects or sustainability initiatives within the provided context. Upon reviewing the context, there is no specific mention of ESG projects, sustainability initiatives, or any associated financial figures in the provided documents. Given the absence of relevant sections or financial data related to sustainability, I cannot extract the required information.', answer='n/a'), 'BAKER STEEL RESOURCES TRUST LIMITED': AnswerEvent(chain_of_thought=\"The context provided does not contain specific information about the amount spent on sustainability initiatives by June 30, 2021, or any other date. There is a mention of the company's commitment to ESG factors and its policy linked to sustainable investment, which is part of the strategic report. However, there is no quantification or financial detail regarding the exact expenditure on these initiatives. Since the context does not provide either partial or full-year expenditure details specifically for sustainability actions, I cannot deduce a numerical value.\", answer='n/a')}\n",
      "chain_of_thought=\"The USER_QUERY requests to determine the difference in expenditures on sustainability initiatives between two entities by June 30, 2021. To answer this, I need specific financial data about spending on sustainability initiatives for both 'Creative Media & Community Trust Corporation' and 'BAKER STEEL RESOURCES TRUST LIMITED' up to that date.\\n\\nFrom the CONTEXT:\\n- For 'Creative Media & Community Trust Corporation': The CONTEXT explicitly states there is no information or financial details regarding expenditures on sustainability initiatives.\\n- For 'BAKER STEEL RESOURCES TRUST LIMITED': Similarly, the CONTEXT mentions there is a commitment to ESG factors but provides no numerical details or data quantifying spending on sustainability initiatives.\\n\\nGiven both entities have answers of 'n/a' regarding their spending on sustainability initiatives, there is insufficient data to calculate or determine a difference in expenditures between the two companies.\" answer='n/a'\n",
      "## Query: Which company had a higher total liabilities: \"Creative Media & Community Trust Corporation\", \"Sleep Country Canada Holdings Inc.\" or \"Tradition\", in the fiscal year 2023?\n",
      "### ASKING DELEGATION MANAGER: \n",
      "Delegations: \n",
      " chain_of_thought='First, I identified the companies mentioned in the query and confirmed that all three companies—\"Creative Media & Community Trust Corporation\", \"Sleep Country Canada Holdings Inc.\", and \"Tradition\"—are present in the given list of companies. Therefore, I do not need to mark the query as \\'SKIP\\'. I will then formulate queries to retrieve the total liabilities for each company for the fiscal year 2023. The relevant information can typically be found in the financial statements section of their respective annual reports, specifically within the balance sheets. This will allow the specialized agents to compare the total liabilities across the three companies. I will instruct the agents to ensure the retrieval of fiscal year data even if it requires checking for the closest available data if the fiscal year has not yet concluded.' companies=['Creative Media & Community Trust Corporation', 'Sleep Country Canada Holdings Inc.', 'Tradition'] queries=['Retrieve the total liabilities from the balance sheet of the 2023 fiscal year annual report for Creative Media & Community Trust Corporation.', 'Retrieve the total liabilities from the balance sheet of the 2023 fiscal year annual report for Sleep Country Canada Holdings Inc.', 'Retrieve the total liabilities from the balance sheet of the 2023 fiscal year annual report for Tradition.']\n",
      "### ASKING COMPANY EXPERT: Creative Media & Community Trust Corporation\n",
      "### ASKING COMPANY EXPERT: Sleep Country Canada Holdings Inc.\n",
      "### ASKING COMPANY EXPERT: Tradition\n",
      "### ASKING EXECUTION MANAGER: \n",
      "Context: {'Creative Media & Community Trust Corporation': AnswerEvent(chain_of_thought=\"The context provided contains the balance sheet but only for the years 2022 and 2021, as stated in various sections of the document: 'Consolidated Balance Sheets as of December 31, 2022 and 2021'. There is no mention of the 2023 fiscal year in the provided excerpts. Since the requested data pertains specifically to the 2023 fiscal year, which is not present in the context, I cannot provide the total liabilities for 2023.\", answer='n/a'), 'Sleep Country Canada Holdings Inc.': AnswerEvent(chain_of_thought='The context provided includes financial data for Sleep Country Canada Holdings Inc. for the years ended December 31, 2022, and December 31, 2021, but does not include data for the 2023 fiscal year. Therefore, the total liabilities for the 2023 fiscal year cannot be determined.', answer='n/a'), 'Tradition': AnswerEvent(chain_of_thought='The provided context does not include a balance sheet for the fiscal year 2023. The available balance sheet data in the context includes only the years 2022 and 2021. Therefore, the total liabilities for the 2023 fiscal year cannot be determined from the given data.', answer='n/a')}\n",
      "chain_of_thought='I need to determine which of the three companies had higher total liabilities in fiscal year 2023. The context provides me with balance sheet data only up to 2022 for all three companies. Creative Media & Community Trust Corporation, Sleep Country Canada Holdings Inc., and Tradition all lack specific financial data for the year 2023. As total liabilities for the requested fiscal year are not available for any of the companies, I cannot accurately answer which company had higher total liabilities in 2023.' answer='n/a'\n",
      "## Query: What was the Net Profit Margin of \"QUIDELORTHO CORPORATION\" in June 30, 2023?\n",
      "### ASKING DELEGATION MANAGER: \n",
      "Delegations: \n",
      " chain_of_thought='The query is asking for the Net Profit Margin of \"QUIDELORTHO CORPORATION\" for June 30, 2023. However, \"QUIDELORTHO CORPORATION\" is not on the provided list of companies that I can address queries for. Since it is not part of the pre-specified companies, I am required to mark this query as \\'SKIP\\'.' companies=['SKIP'] queries=['SKIP']\n",
      "### ASKING EXECUTION MANAGER: \n",
      "Context: {'SKIP': 'No data available'}\n",
      "chain_of_thought=\"The USER_QUERY asks for the Net Profit Margin of QUIDELORTHO CORPORATION for June 30, 2023. To provide this information, relevant data for the specific date or quarter is needed. The CONTEXT provided states 'SKIP: No data available', indicating there is no data available for the specified time period in the context. As a result, there is no information to calculate or report the Net Profit Margin for that date.\" answer='n/a'\n",
      "## Query: What was the acquisition costs of \"Safe & Green Holdings Corp.\" in the fiscal year 2021?\n",
      "### ASKING DELEGATION MANAGER: \n",
      "Delegations: \n",
      " chain_of_thought=\"The query explicitly mentions 'Safe & Green Holdings Corp.', which is an exact match from the provided company list. There's no need to convert or assume company names in this case. The user asks for acquisition costs for the fiscal year 2021, which can typically be found in the annual financial report of the company under sections like 'Acquisitions and Disposals', 'Investments', or 'Notes to the Financial Statements'. Accordingly, I will formulate a precise query for the retrieval agent to extract this specific historical financial information from the 2021 annual report of Safe & Green Holdings Corp.\" companies=['Safe & Green Holdings Corp.'] queries=[\"Retrieve the acquisition costs for Safe & Green Holdings Corp. for the fiscal year 2021. Check sections such as 'Acquisitions and Disposals', 'Investments', and 'Notes to the Financial Statements' in the 2021 annual report.\"]\n",
      "### ASKING COMPANY EXPERT: Safe & Green Holdings Corp.\n",
      "### ASKING EXECUTION MANAGER: \n",
      "Context: {'Safe & Green Holdings Corp.': AnswerEvent(chain_of_thought='The CONTEXT provided gives financial data for Safe & Green Holdings Corp. for 2021 and 2022, including sections of the consolidated financial statements and financial summaries. However, there is no specific mention of acquisition costs or related notes in the excerpts provided. Acquisition costs are typically detailed in sections addressing acquisitions, mergers, or investment activities, but such sections and details are not evident in the given CONTEXT.\\n\\nWithout explicit mention of acquisition costs in the provided data set, it is not possible to determine this information directly. Therefore, the answer is that this data is not available in the provided CONTEXT.', answer='n/a')}\n",
      "chain_of_thought='The CONTEXT provides financial data for Safe & Green Holdings Corp. for 2021 and 2022 but does not mention any acquisition costs. Acquisition costs are typically outlined in sections related to acquisitions, mergers, or investments, which are not evident in the data. Thus, without specific information on acquisition costs, the data is insufficient to determine the answer.' answer='n/a'\n",
      "## Query: How much more did \"Astral Resources NL\" spend on marketing compared to \"TSX_ACQ\" in June 30, 2023?\n",
      "### ASKING DELEGATION MANAGER: \n",
      "Delegations: \n",
      " chain_of_thought='The query mentions \"Astral Resources NL\" and \"TSX_ACQ\". \"Astral Resources NL\" is not on the provided list of companies, so this part of the query cannot be processed, resulting in a \\'SKIP\\'. \"TSX_ACQ\" is on the list, but since the comparison involves an unlisted company, the whole query cannot be processed.' companies=['SKIP'] queries=['SKIP']\n",
      "### ASKING EXECUTION MANAGER: \n",
      "Context: {'SKIP': 'No data available'}\n",
      "chain_of_thought='The context indicates that the data I need to answer the query is not available. The key information required to determine the difference in marketing expenses between \"Astral Resources NL\" and \"TSX_ACQ\" as of June 30, 2023, is missing. Therefore, I cannot compute the difference or provide any relevant financial comparison since no data is provided in the context.' answer='n/a'\n",
      "## Query: Which company had a higher shareholders' equity: \"MITSUI O.S.K. LINES\", \"TSX_Y\" or \"Tradition\", in the fiscal year 2022?\n",
      "### ASKING DELEGATION MANAGER: \n",
      "Delegations: \n",
      " chain_of_thought='The query specifically mentions three companies: \"MITSUI O.S.K. LINES\", \"TSX_Y\", and \"Tradition\" which are present in the provided list. This indicates that the companies in the query are correctly referenced and can be delegated to specialized agents.\\n\\nTo determine which company had a higher shareholders\\' equity in the fiscal year 2022, the agents should retrieve the Shareholders\\' Equity data for each of the three companies from their respective 2022 annual reports. Shareholders\\' Equity is usually found in the Balance Sheet section of the annual report. The agents should compare these values to determine which company had the highest figure.\\n\\nThus, I identified the companies mentioned and formulated the necessary queries to accurately address the request for shareholders\\' equity comparison in fiscal year 2022.' companies=['MITSUI O.S.K. LINES', 'TSX_Y', 'Tradition'] queries=[\"Retrieve the Shareholders' Equity for MITSUI O.S.K. LINES from the Balance Sheet section of the fiscal year 2022 annual report.\", \"Retrieve the Shareholders' Equity for TSX_Y from the Balance Sheet section of the fiscal year 2022 annual report.\", \"Retrieve the Shareholders' Equity for Tradition from the Balance Sheet section of the fiscal year 2022 annual report.\"]\n",
      "### ASKING COMPANY EXPERT: MITSUI O.S.K. LINES\n",
      "### ASKING COMPANY EXPERT: TSX_Y\n",
      "### ASKING COMPANY EXPERT: Tradition\n",
      "### ASKING EXECUTION MANAGER: \n",
      "Context: {'MITSUI O.S.K. LINES': AnswerEvent(chain_of_thought=\"The provided context includes various sections of the MITSUI O.S.K. LINES (MOL) 2022 annual report with information on investment forecasts, cash flows, shareholder approaches, and corporate mission, but it does not explicitly mention or provide figures from the Balance Sheet section, especially regarding Shareholders' Equity for the fiscal year 2022. Therefore, without the specific Balance Sheet data in the given context, I cannot retrieve the Shareholders' Equity for that year.\", answer='n/a'), 'TSX_Y': AnswerEvent(chain_of_thought=\"The context provided includes a table of contents and other sections of the financial report but does not specifically reveal the Balance Sheet section or the figures for Shareholders' Equity for the year 2022. Only the Shareholders' capital amount after adjustments is mentioned ($129.0 million), but this does not represent the full Shareholders' Equity, which typically includes retained earnings and other components.\", answer='n/a'), 'Tradition': AnswerEvent(chain_of_thought=\"The CONTEXT provides details of the balance sheet for the fiscal year ending 31 December 2022. In this balance sheet, the Shareholders' Equity is detailed under the Shareholders’ Equity section. According to this, the total shareholders' equity as of 31 December 2022 amounts to CHF 146,469,000.\", answer=146469000)}\n",
      "chain_of_thought=\"I reviewed the provided context for the fiscal year 2022. For MITSUI O.S.K. LINES, the context does not contain specific data on Shareholders' Equity from the Balance Sheet for 2022, resulting in 'n/a'. For TSX_Y, while there is some data on shareholders' capital adjustments, it does not include comprehensive Shareholders' Equity figures, leading to 'n/a'. In contrast, Tradition has detailed Balance Sheet information available in the context, which indicates the Shareholders' Equity is CHF 146,469,000. Since no data is available for MITSUI O.S.K. LINES and TSX_Y, Tradition has the highest recorded Shareholders' Equity from the given options based on available data.\" answer='Tradition'\n",
      "## Query: What was the Gross Profit Margin of \"JOURNEY MEDICAL CORPORATION\" in June 30, 2022?\n",
      "### ASKING DELEGATION MANAGER: \n",
      "Delegations: \n",
      " chain_of_thought='The query mentioned \"JOURNEY MEDICAL CORPORATION\", which is not included in the list of companies I have access to. Therefore, I cannot match it with any company from the provided list. As per the instructions, when a company is not recognized from the list, the appropriate action is to mark \\'SKIP\\' for both \\'companies\\' and \\'queries\\'.' companies=['SKIP'] queries=['SKIP']\n",
      "### ASKING EXECUTION MANAGER: \n",
      "Context: {'SKIP': 'No data available'}\n",
      "chain_of_thought=\"The CONTEXT provided states 'No data available', indicated by 'SKIP': 'No data available'. This suggests that there is no specific information about JOURNEY MEDICAL CORPORATION's Gross Profit Margin on June 30, 2022, in the context provided. Therefore, following the guideline for insufficient data, the answer should be 'n/a'.\" answer='n/a'\n",
      "## Query: What was the operating cash flow of \"JOURNEY MEDICAL CORPORATION\" in the fiscal year 2023?\n",
      "### ASKING DELEGATION MANAGER: \n",
      "Delegations: \n",
      " chain_of_thought=\"The company's name provided in the query is 'JOURNEY MEDICAL CORPORATION', which is not one of the companies in our provided list. According to the instructions, if a company is not on the list, I should mark the query as 'SKIP'. Hence, neither 'companies' nor 'queries' will be completed.\" companies=['SKIP'] queries=['SKIP']\n",
      "### ASKING EXECUTION MANAGER: \n",
      "Context: {'SKIP': 'No data available'}\n",
      "chain_of_thought='The context provided indicates that there is no data available regarding the operating cash flow of Journey Medical Corporation for the fiscal year 2023. Without specific information or relevant data points from the context, it is not possible to extract or infer the operating cash flow value for this company for the requested year.' answer='n/a'\n",
      "## Query: How much more did \"Astral Resources NL\" spend on risk management compared to \"Caixa Geral de DepÃ³sitos, S.A.\" in June 30, 2023?\n",
      "### ASKING DELEGATION MANAGER: \n",
      "Delegations: \n",
      " chain_of_thought='In the query, two companies are mentioned: \"Astral Resources NL\" and \"Caixa Geral de Depósitos, S.A.\". I need to identify these companies from the available list. \"Caixa Geral de Depósitos, S.A.\" matches exactly with the list. However, \"Astral Resources NL\" is not part of the provided company list. Since \"Astral Resources NL\" is not within our scope, I will mark this entire query as \\'SKIP\\'.' companies=['SKIP'] queries=['SKIP']\n",
      "### ASKING EXECUTION MANAGER: \n",
      "Context: {'SKIP': 'No data available'}\n",
      "chain_of_thought='The context indicates that there is no data available concerning the risk management expenditure of \"Astral Resources NL\" and \"Caixa Geral de DepÃ³sitos, S.A.\" as of June 30, 2023. Without any numerical or comparative data provided in the CONTEXT, it is impossible to determine which company spent more and by how much.' answer='n/a'\n",
      "## Query: Which company had a higher acquisition costs: \"PowerFleet, Inc.\", \"Oesterreichische Kontrollbank\" or \"Astral Resources NL\", in the fiscal year 2023?\n",
      "### ASKING DELEGATION MANAGER: \n",
      "Delegations: \n",
      " chain_of_thought='I identified companies in the query and compared them against the provided list. The query mentions \"PowerFleet, Inc.\", \"Oesterreichische Kontrollbank\", and \"Astral Resources NL\". \"PowerFleet, Inc.\" and \"Oesterreichische Kontrollbank\" are part of the list, but \"Astral Resources NL\" is not listed. Since not all company names match the provided list, according to the instructions, I should enter \\'SKIP\\' for both \\'companies\\' and \\'queries\\'.' companies=['SKIP'] queries=['SKIP']\n",
      "### ASKING EXECUTION MANAGER: \n",
      "Context: {'SKIP': 'No data available'}\n",
      "chain_of_thought='Upon reviewing the provided CONTEXT, it is clear that there is no data available regarding acquisition costs for any of the companies mentioned (PowerFleet, Inc., Oesterreichische Kontrollbank, or Astral Resources NL) for the fiscal year 2023. Since no specific numeric data or relevant information is given in the CONTEXT, it is not possible to determine which company had a higher acquisition cost.' answer='n/a'\n",
      "## Query: What was the Quick Ratio of \"IMUNON, INC.\" in June 30, 2021?\n",
      "### ASKING DELEGATION MANAGER: \n",
      "Delegations: \n",
      " chain_of_thought=\"The query asks for the Quick Ratio of IMUNON, INC. on June 30, 2021. However, the company IMUNON, INC. is not present in the list of companies provided. Hence, according to the instructions given, I must mark it as 'SKIP' for both 'companies' and 'queries'. Since the company does not match any of the ones listed, no further steps or formulations are necessary.\" companies=['SKIP'] queries=['SKIP']\n",
      "### ASKING EXECUTION MANAGER: \n",
      "Context: {'SKIP': 'No data available'}\n",
      "chain_of_thought=\"The context provided states 'No data available', indicating there is no information on the Quick Ratio for IMUNON, INC. as of June 30, 2021. Since I must rely solely on the given data, and none is available for this specific financial metric on the specified date, the answer must reflect the lack of information.\" answer='n/a'\n",
      "## Query: What was the net income of \"Petra Diamonds\" in the fiscal year 2022?\n",
      "### ASKING DELEGATION MANAGER: \n",
      "Delegations: \n",
      " chain_of_thought=\"The query specifically asks for the net income of 'Petra Diamonds' for the fiscal year 2022. 'Petra Diamonds' is one of the companies from our list of known entities. Therefore, it is appropriate to proceed with extracting data for 'Petra Diamonds'. The net income figure is typically found in a company's consolidated financial statements, particularly in the income statement section of their annual report or financial summary for the fiscal year 2022.\" companies=['Petra Diamonds'] queries=[\"Retrieve the net income of Petra Diamonds for the fiscal year 2022. Refer to the income statement in the company's financial statements or annual report for 2022 to find this information.\"]\n",
      "### ASKING COMPANY EXPERT: Petra Diamonds\n",
      "### ASKING EXECUTION MANAGER: \n",
      "Context: {'Petra Diamonds': AnswerEvent(chain_of_thought='Net income is calculated as the profit for the year. According to the given context in the 2022 financial statement, the Profit for the Year is listed as 88.1 million USD. This is the net income for Petra Diamonds for the fiscal year 2022.', answer=88.1)}\n",
      "chain_of_thought='The data from the CONTEXT states that the Profit for the Year, which is equivalent to the net income, is recorded as 88.1 million USD for the fiscal year 2022 of Petra Diamonds. Thus, the net income is clear and directly provided.' answer=88.1\n",
      "## Query: How much more did \"Sensata\" spend on customer acquisition compared to \"Laserbond\" in June 30, 2022?\n",
      "### ASKING DELEGATION MANAGER: \n",
      "Delegations: \n",
      " chain_of_thought=\"The query mentions two companies: 'Sensata' and 'Laserbond'. However, only 'Sensata' is listed in the provided company list. 'Laserbond' is not part of the list, thus according to the guidelines, I must skip queries related to companies not on the list. I will proceed with marking this query as 'SKIP'.\" companies=['SKIP'] queries=['SKIP']\n",
      "### ASKING EXECUTION MANAGER: \n",
      "Context: {'SKIP': 'No data available'}\n",
      "chain_of_thought='The context states that there is no data available for the particular query regarding the customer acquisition spending of Sensata and Laserbond as of June 30, 2022. Given this lack of data in the provided context, I cannot derive or calculate the difference in spending between the two companies for that specific date.' answer='n/a'\n",
      "## Query: Which company had a higher free cash flow: \"Sensata\", \"TransUnion\" or \"First Mid Bancshares, Inc.\", in the fiscal year 2021?\n",
      "### ASKING DELEGATION MANAGER: \n",
      "Delegations: \n",
      " chain_of_thought='The query mentions three companies: \"Sensata\", \"TransUnion\", and \"First Mid Bancshares, Inc.\". I identified them in the provided list as follows: \\'Sensata\\' matches \\'Sensata\\', \\'TransUnion\\' matches \\'TransUnion\\', and \\'First Mid Bancshares, Inc.\\' matches \\'First Mid Bancshares, Inc.\\'. Since all companies are in the list, no need to use \\'SKIP\\'. The query involves comparing free cash flow for the fiscal year 2021 among these companies.\\n\\nTo address this, I will instruct the agents as follows:\\n- Retrieve free cash flow data from the 2021 fiscal year for each of the identified companies.\\n- In annual reports, free cash flow data is commonly located in the cash flow statement or the management discussion and analysis (MD&A) sections. If free cash flow is not directly reported, the agent may calculate it by subtracting capital expenditures from the operating cash flow.\\n\\nBy following these steps, agents will be able to provide a comparison of the free cash flows for the specified companies in 2021.' companies=['Sensata', 'TransUnion', 'First Mid Bancshares, Inc.'] queries=['Retrieve the free cash flow for Sensata for the fiscal year 2021. Check the cash flow statement or management discussion and analysis sections; if not directly reported, compute it by subtracting capital expenditures from operating cash flow.', 'Retrieve the free cash flow for TransUnion for the fiscal year 2021. Check the cash flow statement or management discussion and analysis sections; if not directly reported, compute it by subtracting capital expenditures from operating cash flow.', 'Retrieve the free cash flow for First Mid Bancshares, Inc. for the fiscal year 2021. Check the cash flow statement or management discussion and analysis sections; if not directly reported, compute it by subtracting capital expenditures from operating cash flow.']\n",
      "### ASKING COMPANY EXPERT: Sensata\n",
      "### ASKING COMPANY EXPERT: TransUnion\n",
      "### ASKING COMPANY EXPERT: First Mid Bancshares, Inc.\n",
      "### ASKING EXECUTION MANAGER: \n",
      "Context: {'Sensata': AnswerEvent(chain_of_thought='Free cash flow can be calculated as operating cash flow minus capital expenditures.\\n\\n1. Operating cash flow for 2021 is provided as $554,151,000.\\n2. Capital expenditures for 2021, based on additions to property, plant, and equipment and capitalized software, is $144,403,000.\\n\\nThe formula for free cash flow is:\\nFree Cash Flow = Operating Cash Flow - Capital Expenditures\\n\\nNumerically:\\nFree Cash Flow = $554,151,000 - $144,403,000 = $409,748,000.', answer=409748000), 'TransUnion': AnswerEvent(chain_of_thought=\"To find TransUnion's free cash flow for the fiscal year 2021, I will start by identifying the operating cash flow and capital expenditures from the consolidated statements of cash flows. The free cash flow can be computed as:\\n\\nFree Cash Flow = Operating Cash Flow - Capital Expenditures\\n\\nFrom the provided context:\\n- Operating Cash Flow for 2021 is $808.3 million.\\n- Capital Expenditures for 2021 is $224.2 million.\\n\\nUsing these figures, the free cash flow is calculated as:\\n\\n808.3 (Operating Cash Flow) - 224.2 (Capital Expenditures) = 584.1 million.\", answer=584.1), 'First Mid Bancshares, Inc.': AnswerEvent(chain_of_thought=\"The context provides cash flow details for First Mid Bancshares, Inc. for the fiscal year 2021. The net cash provided by operating activities is given as $(155,585)$. However, the context does not provide specific details on capital expenditures (CapEx) directly.\\n\\nTypically, CapEx can be found in the investing activities section of the cash flow statement. From the context, in investing activities, there's no specific mention of amounts explicitly labeled as capital expenditures, so we must assume that any acquisition-related net cash outflows are not related to CapEx as defined for determining free cash flow.\\n\\nThus, based on the given information, free cash flow (FCF) cannot be precisely determined due to insufficient details on the CapEx for 2021. Therefore, it's concluded that the free cash flow is not directly computable from the provided information.\", answer='n/a')}\n",
      "chain_of_thought='We are tasked with determining which company had the highest free cash flow in 2021. \\n\\n- \"Sensata\" has a calculated free cash flow of $409,748,000 from the provided operating cash flow and capital expenditures.\\n- \"TransUnion\"\\'s free cash flow for the same year is $584.1 million.\\n- \"First Mid Bancshares, Inc.\" could not have their free cash flow determined due to insufficient data on capital expenditures, resulting in \"n/a\" for their free cash flow.\\n\\nComparing the calculated free cash flow of Sensata and TransUnion, $409,748,000 (or 409.748 million) for Sensata and $584.1 million for TransUnion, TransUnion has the higher free cash flow.' answer='TransUnion'\n",
      "## Query: What was the market capitalization of \"Holley Inc.\" in June 30, 2023?\n",
      "### ASKING DELEGATION MANAGER: \n",
      "Delegations: \n",
      " chain_of_thought=\"First, I identified the company mentioned in the query as 'Holley Inc.', which matches exactly with a company in the provided list. Next, the query asks for the market capitalization of this company on a specific date - June 30, 2023. To formulate the query for the specialized agent, I need to direct them to look for the company's market capitalization in quarterly or semi-annual reports around Q2 of 2023, typically in the financial highlights or equity section. If the exact quarterly figure is unavailable, instruct the agent to provide the closest available market cap data around that date. Therefore, I proceed to list the company and the formed query.\" companies=['Holley Inc.'] queries=['Retrieve the market capitalization of Holley Inc. as of June 30, 2023. If this specific date is not available, provide the closest reported market capitalization around this date, typically found in the financial highlights or equity section of the quarterly reports for Q2 2023.']\n",
      "### ASKING COMPANY EXPERT: Holley Inc.\n",
      "### ASKING EXECUTION MANAGER: \n",
      "Context: {'Holley Inc.': AnswerEvent(chain_of_thought='The CONTEXT provided does not include specific data regarding the market capitalization of Holley Inc. on June 30, 2023, or any other date. The documents mainly focus on operational and financial details such as liquidity, lease obligations, stock performance comparisons, strategic operations, cash flow activities, and working capital. No data is provided regarding market capitalization in the CONTEXT.\\n\\nTherefore, based on the CONTEXT provided, the answer should be based on the guidelines for insufficient data since the document does not include any information related to market capitalization.', answer='n/a')}\n",
      "chain_of_thought=\"The CONTEXT provided does not include any specific data regarding the market capitalization of Holley Inc. as of June 30, 2023. The information in the CONTEXT focuses on operational and financial details such as liquidity, lease obligations, stock performance comparisons, strategic operations, cash flow activities, and working capital. However, there is a clear indication that no relevant data regarding market capitalization is available. Therefore, the appropriate response based on the guidelines for insufficient data is 'n/a'.\" answer='n/a'\n",
      "## Query: What was the total assets of \"TransUnion\" in the fiscal year 2023?\n",
      "### ASKING DELEGATION MANAGER: \n",
      "Delegations: \n",
      " chain_of_thought='The company mentioned in the query is \"TransUnion,\" which matches exactly with one of the entries in the defined list of companies: [\\'Mercia Asset Management PLC\\', \\'CrossFirst Bank\\', \\'Sleep Country Canada Holdings Inc.\\', \\'First Mid Bancshares, Inc.\\', \\'MITSUI O.S.K. LINES\\', \\'TSX_Y\\', \\'Oesterreichische Kontrollbank\\', \\'PowerFleet, Inc.\\', \\'BAKER STEEL RESOURCES TRUST LIMITED\\', \\'Caixa Geral de Depósitos, S.A.\\', \\'Petra Diamonds\\', \\'Creative Media & Community Trust Corporation\\', \\'ENRG ELEMENTS LIMITED\\', \\'Holley Inc.\\', \\'Safe & Green Holdings Corp.\\', \\'TransUnion\\', \\'Tradition\\', \\'TSX_ACQ\\', \\'Tower Semiconductor Ltd.\\', \\'Sensata\\']. Therefore, it is a valid query. The user asked for the total assets of TransUnion in the fiscal year 2023. This information is typically found in the balance sheet section of the annual report. A relevant query for the specialized agent would be to access TransUnion\\'s 2023 annual report and retrieve the total assets figure.' companies=['TransUnion'] queries=['Retrieve the total assets figure for TransUnion from the balance sheet section of the annual report for the fiscal year 2023.']\n",
      "### ASKING COMPANY EXPERT: TransUnion\n",
      "### ASKING EXECUTION MANAGER: \n",
      "Context: {'TransUnion': AnswerEvent(chain_of_thought='The provided context includes balance sheet data from TransUnion for the years ending December 31, 2022 and December 31, 2021. The total assets figure is specified for these years, but there is no information available for the fiscal year 2023. Therefore, I have to conclude that the total assets figure for 2023 is not present in the context.', answer='n/a')}\n",
      "chain_of_thought=\"The context provides balance sheet data for TransUnion for the years 2021 and 2022 but does not include data for 2023. Therefore, I must conclude that the information on TransUnion's total assets for the fiscal year 2023 is not available.\" answer='n/a'\n",
      "## Query: How much more did \"BAKER STEEL RESOURCES TRUST LIMITED\" spend on customer acquisition compared to \"Sleep Country Canada Holdings Inc.\" in June 30, 2021?\n",
      "### ASKING DELEGATION MANAGER: \n",
      "Delegations: \n",
      " chain_of_thought='The query mentions two companies: \"BAKER STEEL RESOURCES TRUST LIMITED\" and \"Sleep Country Canada Holdings Inc.\". Both of these names exactly match the companies listed in my database. Therefore, I identified these two companies for further action. The query asks for a comparison of spending on customer acquisition as of June 30, 2021, for both companies. This entails examining their respective financial reports.\\n\\nFirst, specialized agents should verify what terminology each company uses for \\'customer acquisition costs\\' in their reports. These costs might be labeled directly as \\'customer acquisition\\', or they could be included under broader marketing or sales expenses. It\\'s important to examine the financial notes for each company for a precise understanding. The agents should look into the quarterly or half-yearly reports around June 2021, with a note on providing annual data if quarterly data isn\\'t segregated or accessible.\\n\\nThe agents should derive the \\'customer acquisition cost\\' from relevant sections in the income statements or the management discussion and analysis (MD&A) portion, often where such expenses are detailed.\\n\\nAs the query requires a comparison as of a specific date, it\\'s crucial to ensure both companies\\' reports align on this date.' companies=['BAKER STEEL RESOURCES TRUST LIMITED', 'Sleep Country Canada Holdings Inc.'] queries=[\"Retrieve customer acquisition costs or equivalent (e.g., marketing expenses) from BAKER STEEL RESOURCES TRUST LIMITED's financial report as of June 30, 2021. If not listed for that specific quarter, check the half-year or annual reports and note that detail.\", \"Retrieve customer acquisition costs or equivalent (e.g., marketing expenses) from Sleep Country Canada Holdings Inc.'s financial report as of June 30, 2021. If not listed for that specific quarter, check the half-year or annual reports and note that detail.\", 'Calculate the difference between these two expenses to determine how much more BAKER STEEL RESOURCES TRUST LIMITED spent in comparison to Sleep Country Canada Holdings Inc.']\n",
      "### ASKING COMPANY EXPERT: BAKER STEEL RESOURCES TRUST LIMITED\n",
      "### ASKING COMPANY EXPERT: Sleep Country Canada Holdings Inc.\n",
      "### ASKING EXECUTION MANAGER: \n",
      "Context: {'BAKER STEEL RESOURCES TRUST LIMITED': AnswerEvent(chain_of_thought=\"The provided context includes financial statements from Baker Steel Resources Trust Limited's Annual Report for the year ended 31 December 2022. However, there is no specific mention of customer acquisition costs or marketing expenses either for the requested quarter or in the annual data. The sections of the statement of comprehensive income, financial position, cash flows, and changes in equity, including the notes, do not explicitly mention these expenses. Therefore, based on the available data, I cannot determine customer acquisition costs or marketing expenses as of June 30, 2021.\", answer='n/a'), 'Sleep Country Canada Holdings Inc.': AnswerEvent(chain_of_thought=\"The context provides information from Sleep Country Canada's annual report for the year ending December 31, 2022, and December 31, 2021, but it doesn't explicitly detail the marketing expenses or customer acquisition costs specifically for June 30, 2021. The provided data includes media and advertising expenses figures for the full year 2021, which might serve as a proxy for customer acquisition costs. However, no quarterly or half-year figures for 2021 are provided in the context. The media and advertising expenses for the year 2021 are reported as $65,978,000 CAD, but without specific quarterly data, it is impossible to extract only the Q2 2021 figure directly from the given data.\", answer='n/a')}\n",
      "chain_of_thought='To determine the difference in customer acquisition spending between Baker Steel Resources Trust Limited and Sleep Country Canada Holdings Inc. for June 30, 2021, I reviewed the provided context for specific data on these expenses. For Baker Steel Resources Trust Limited, the context does not include any mention of customer acquisition or marketing expenses for June 30, 2021, or any annual data. Similarly, for Sleep Country Canada Holdings Inc., while the context provides a full-year figure for media and advertising expenses in 2021, it does not give specific figures for June 30, 2021, or even for quarterly periods, thus making it impossible to extract only the Q2 2021 figure from the given data. Since there are no specific figures available for customer acquisition costs as of June 30, 2021, for either company, I conclude that the data is insufficient to compute the spending difference.' answer='n/a'\n",
      "## Query: Which company had a higher research and development expenses: \"MITSUI O.S.K. LINES\", \"Holley Inc.\" or \"First Mid Bancshares, Inc.\", in the fiscal year 2021?\n",
      "### ASKING DELEGATION MANAGER: \n",
      "Delegations: \n",
      " chain_of_thought='The query mentions three companies: \"MITSUI O.S.K. LINES\", \"Holley Inc.\", and \"First Mid Bancshares, Inc.\". All three names match exactly with the names provided in the available list of companies; therefore, these companies are valid for the information request.\\n\\nTo answer the query, I need to retrieve the research and development (R&D) expenses for each of these companies for the fiscal year 2021. R&D expenses are typically reported in the income statement or footnotes of the annual report under headings such as \\'research and development expenses\\' or \\'operating expenses\\'. Each company might present this data differently, so the agents will need to ensure they access the correct section of the report to capture accurate figures.\\n\\nAll three companies mentioned are different in nature, hence their R&D expenses could be reported differently. The specialized agents should locate the R&D expenses in the annual reports and compare them to determine which company had the higher expense.' companies=['MITSUI O.S.K. LINES', 'Holley Inc.', 'First Mid Bancshares, Inc.'] queries=['Fetch the research and development expenses for MITSUI O.S.K. LINES for the fiscal year 2021 from their annual report, typically found under operating expenses or in the notes section.', 'Fetch the research and development expenses for Holley Inc. for the fiscal year 2021 from their annual report. This information is generally listed under operating expenses or in the notes section dedicated to R&D.', 'Fetch the research and development expenses for First Mid Bancshares, Inc. for the fiscal year 2021 from their annual report. Confirm the presence or absence of such expenses under operating expenses or footnotes related to R&D. If no specific R&D section is available, note this as some banking institutions might not categorize expenses under R&D as they might have minimal or no such expenses.']\n",
      "### ASKING COMPANY EXPERT: MITSUI O.S.K. LINES\n",
      "### ASKING COMPANY EXPERT: Holley Inc.\n",
      "### ASKING COMPANY EXPERT: First Mid Bancshares, Inc.\n",
      "### ASKING EXECUTION MANAGER: \n",
      "Context: {'MITSUI O.S.K. LINES': AnswerEvent(chain_of_thought='The provided CONTEXT does not include specific details about research and development expenses for MITSUI O.S.K. LINES. The excerpts from the annual report mainly cover investment forecasts, cash flows, and business strategies but do not list operating expenses or specific R&D costs. Hence, it can be concluded that data specific to R&D expenses is not available in the provided CONTEXT.', answer='n/a'), 'Holley Inc.': AnswerEvent(chain_of_thought='The context provided does not include specific information or figures related to the research and development expenses for Holley Inc. for the fiscal year 2021. The data mainly pertains to other financial aspects such as capital expenditures, cash flow, credit facility, and liquidity but lacks the mention of R&D expenses.', answer='n/a'), 'First Mid Bancshares, Inc.': AnswerEvent(chain_of_thought='I reviewed the content from the First Mid Bancshares, Inc. annual report for signs of research and development (R&D) expenses under operating expenses or any footnotes. The report details various financial aspects like dividends, operating expenses, acquisition costs, and deferred tax assets, but there was no mention of R&D expenses, which is expected for a banking institution as they typically have minimal or no such expenses categorized under R&D. The absence of any mention of R&D in the provided document context supports this conclusion.', answer='n/a')}\n",
      "chain_of_thought=\"To determine which company had higher research and development expenses in the fiscal year 2021, I examined the provided CONTEXT for data on each company's R&D expenses. For MITSUI O.S.K. LINES, the CONTEXT explicitly states that there is no data available on R&D expenses. Similarly, for Holley Inc., the CONTEXT does not include information on R&D expenses. Finally, for First Mid Bancshares, Inc., it is noted that R&D expenses are typically not applicable for a banking institution and were not mentioned in the report. With all three companies lacking data on R&D expenses, the only conclusion is that the information is not available for any of the companies in question.\" answer='n/a'\n",
      "## Query: What was the Operating Margin of \"Sleep Country Canada Holdings Inc.\" in June 30, 2022?\n",
      "### ASKING DELEGATION MANAGER: \n",
      "Delegations: \n",
      " chain_of_thought=\"I identified 'Sleep Country Canada Holdings Inc.' as the exact match from the provided list of companies. The query asks for the Operating Margin as of June 30, 2022, which implies looking at quarterly data. Therefore, the query should seek quarterly financial information, specifically the operating income and total revenue for the quarter ending June 30, 2022, to calculate the Operating Margin. Operating Margin can typically be found in the income statement section of quarterly or annual reports.\" companies=['Sleep Country Canada Holdings Inc.'] queries=['Retrieve the quarterly report for Sleep Country Canada Holdings Inc. for Q2 2022 (ending June 30, 2022) and provide the operating income and total revenue to calculate the Operating Margin. Mention that if only full-year data is available, note that and provide the best estimate using available data.']\n",
      "### ASKING COMPANY EXPERT: Sleep Country Canada Holdings Inc.\n",
      "### ASKING EXECUTION MANAGER: \n",
      "Context: {'Sleep Country Canada Holdings Inc.': AnswerEvent(chain_of_thought='The available context does not provide quarterly financial data specifically for Q2 2022 for Sleep Country Canada Holdings Inc. However, there are data for Q4 2021, Q4 2022, and annual data for 2021 and 2022. Without specific numbers for Q2 2022, I will check the most relevant data:\\n\\n1. Annual revenue for 2022 is $928.7 million.\\n2. The context does not provide a specific operating income value for 2022, but it mentions related metrics like Operating EBITDA.\\n\\nThe available information is insufficient to specifically state the Operating Income and Revenue for Q2 2022. Thus, I cannot calculate the operating margin for Q2 2022.', answer='n/a')}\n",
      "chain_of_thought=\"The context does not include quarterly financial data specifically for the operating margin of Sleep Country Canada Holdings Inc. as of June 30, 2022. The information provided includes data for Q4 of 2021 and 2022 and annual data for 2021 and 2022. However, no specific operating income or revenue data is given for Q2 2022, which is needed to calculate the operating margin for that period. Therefore, it's impossible to provide the requested operating margin for June 30, 2022, based on the available data.\" answer='n/a'\n",
      "## Query: What was the intangible assets of \"TransUnion\" in the fiscal year 2021?\n",
      "### ASKING DELEGATION MANAGER: \n",
      "Delegations: \n",
      " chain_of_thought='The query mentions \"TransUnion,\" which matches exactly one of the companies from the list provided. Therefore, this query pertains specifically to \"TransUnion.\" The query is looking for a particular financial metric for the fiscal year 2021, specifically the intangible assets of TransUnion. This information is typically found in the company\\'s balance sheet within their annual report. To generate an accurate response, the specialized agent should locate TransUnion\\'s 2021 annual report and examine the balance sheet for the value of intangible assets, including items such as goodwill, patents, and trademarks, noting any significant changes or footnotes explaining these assets. Since the query doesn\\'t require a quarterly breakdown, it will focus on the fiscal year\\'s end position.' companies=['TransUnion'] queries=['Please retrieve the value of intangible assets for TransUnion from the fiscal year 2021 by reviewing their annual report. This information is typically found in the balance sheet section. Include any relevant footnotes explaining significant changes in these assets compared to the previous year.']\n",
      "### ASKING COMPANY EXPERT: TransUnion\n",
      "### ASKING EXECUTION MANAGER: \n",
      "Context: {'TransUnion': AnswerEvent(chain_of_thought='Examining the provided CONTEXT, there is no specific mention of intangible assets on the balance sheet for the year ended December 31, 2021. However, the intangible assets are often discussed in terms of amortization and future expenses. In the section on amortization expenses, it is stated that the amortization expense related to intangible assets for the year ended December 31, 2021, was $278.2 million. There is no explicit figure for the total intangible assets value for 2021 in the CONTEXT provided. Without exact numbers for intangible assets in the 2021 balance sheet or detailed footnotes on significant changes, I cannot deduce the exact value from this information alone.', answer='n/a')}\n",
      "chain_of_thought='The CONTEXT provided discusses amortization expenses related to intangible assets for TransUnion but does not specify the total value of intangible assets on the balance sheet for the fiscal year 2021. Since no explicit figure for intangible assets is given for 2021, I cannot provide an exact value for them.' answer='n/a'\n",
      "## Query: How much more did \"PowerFleet, Inc.\" spend on R&D compared to \"JOURNEY MEDICAL CORPORATION\" in June 30, 2022?\n",
      "### ASKING DELEGATION MANAGER: \n",
      "Delegations: \n",
      " chain_of_thought='The query mentions \"PowerFleet, Inc.\" and \"JOURNEY MEDICAL CORPORATION.\" I identified \"PowerFleet, Inc.\" as a company from the provided list; however, \"JOURNEY MEDICAL CORPORATION\" is not in the list. Since the instructions specify SKIP for companies not in the list, I cannot proceed with a comparison between \"PowerFleet, Inc.\" and a company outside the list.' companies=['PowerFleet, Inc.'] queries=[]\n",
      "### ASKING EXECUTION MANAGER: \n",
      "Context: {}\n",
      "chain_of_thought=\"The context does not provide any data regarding the R&D expenditures of 'PowerFleet, Inc.' or 'JOURNEY MEDICAL CORPORATION' as of June 30, 2022. Without this specific information, I cannot calculate the difference in spending between the two companies.\" answer='n/a'\n",
      "## Query: Which company had a higher inventories: \"TSX_Y\", \"Mercia Asset Management PLC\" or \"Tradition\", in the fiscal year 2022?\n",
      "### ASKING DELEGATION MANAGER: \n",
      "Delegations: \n",
      " chain_of_thought='The query mentions three companies: \"TSX_Y\", \"Mercia Asset Management PLC\", and \"Tradition\". These names match exactly with the companies listed in the provided guidelines, so \\'SKIP\\' is not applicable. The task is to compare the inventories of these three companies in the fiscal year 2022. To address this, I will request the specialized agents to retrieve the inventories for each company from their respective 2022 financial statements. Typically, inventory figures are found in the balance sheet section of annual reports. It is also suggested to standardize units (e.g., currency) if they differ across companies for accurate comparison.' companies=['TSX_Y', 'Mercia Asset Management PLC', 'Tradition'] queries=['Retrieve the inventory value for TSX_Y as reported in the balance sheet for the fiscal year 2022.', 'Retrieve the inventory value for Mercia Asset Management PLC as reported in the balance sheet for the fiscal year 2022.', 'Retrieve the inventory value for Tradition as reported in the balance sheet for the fiscal year 2022.']\n",
      "### ASKING COMPANY EXPERT: TSX_Y\n",
      "### ASKING COMPANY EXPERT: Mercia Asset Management PLC\n",
      "### ASKING COMPANY EXPERT: Tradition\n",
      "### ASKING EXECUTION MANAGER: \n",
      "Context: {'TSX_Y': AnswerEvent(chain_of_thought=\"The provided context includes financial data on stock options, pension benefits, and dividends for Yellow Pages Limited as of December 2022. However, there is no mention of inventory or its value. Since the context does not provide information about TSX_Y's inventory or balance sheet details, it is not possible to retrieve the requested information.\", answer='n/a'), 'Mercia Asset Management PLC': AnswerEvent(chain_of_thought=\"The balance sheet for Mercia Asset Management PLC as of 31 March 2022 is provided. However, there is no mention of 'inventory' as a line item under either current or non-current assets. The assets listed include goodwill, intangible assets, property, plant and equipment, right-of-use assets, investments, trade and other receivables, restricted cash, short-term liquidity investments, and cash and cash equivalents. Since inventory is not specifically listed or reported in the balance sheet data provided in the context, it's reasonable to conclude that there is no reported inventory value for Mercia Asset Management PLC for the fiscal year 2022 in this document.\", answer='n/a'), 'Tradition': AnswerEvent(chain_of_thought='The balance sheet for Compagnie Financière Tradition SA, as provided in the CONTEXT, details the assets for the fiscal year ending 31.12.2022. The breakdown includes current assets and non-current assets, yet there is no explicit mention of inventory or any associated values typically indicative of inventory, such as stock or goods. Therefore, based on the available data from the balance sheet, there is no information related to the inventory value.', answer='n/a')}\n",
      "chain_of_thought='The query asks for inventory levels of three companies for the fiscal year 2022. Evaluating the CONTEXT for each company: \\n1. TSX_Y - The context provides financial data up to December 2022 but does not mention any inventory information.\\n2. Mercia Asset Management PLC - The balance sheet as of 31 March 2022 is mentioned, but inventory is not listed as an asset. Thus, there is no inventory value provided.\\n3. Tradition - The balance sheet details for the year ending 31.12.2022 do not include inventory or any related values.\\n\\nSince none of the companies have inventory data provided in the CONTEXT, a comparison of inventory values among them cannot be made.' answer='n/a'\n",
      "## Query: What was the Gross Profit Margin of \"Safe & Green Holdings Corp.\" in June 30, 2022?\n",
      "### ASKING DELEGATION MANAGER: \n",
      "Delegations: \n",
      " chain_of_thought=\"The query specifically mentions 'Safe & Green Holdings Corp.' which is an exact match in our list of companies.\\n\\nTo determine the Gross Profit Margin for a specific date such as June 30, 2022, data will usually be found in the company's quarterly financial statements. Gross Profit Margin is calculated by the formula (Gross Profit / Revenue) * 100. Therefore, the specialized agent should retrieve the Gross Profit and Revenue figures from the relevant quarterly financial statement, typically found in the income statement section.\\n\\nAs it is a specific quarterly inquiry, if only full-year data is available, advise that to the user and provide the best available data.\\n\\nProceeding to create a precise query for the identified task.\" companies=['Safe & Green Holdings Corp.'] queries=[\"Retrieve the Gross Profit and Revenue from Safe & Green Holdings Corp.'s financial statement for the quarter ending June 30, 2022, and calculate the Gross Profit Margin. Check the income statement section of their quarterly report for this data. If only annual data is available, provide the best available figures and comment on this finding.\"]\n",
      "### ASKING COMPANY EXPERT: Safe & Green Holdings Corp.\n",
      "### ASKING EXECUTION MANAGER: \n",
      "Context: {'Safe & Green Holdings Corp.': AnswerEvent(chain_of_thought='The provided CONTEXT does not contain specific quarterly data, including for the quarter ending June 30, 2022. However, the CONTEXT does provide annual data for the fiscal year ending December 31, 2022, where revenue is reported as $38,341,702.\\n\\nGross profit is revenue minus cost of goods sold (COGS). Since COGS is not provided in the CONTEXT, direct calculation of gross profit and gross profit margin for the full year is not possible. Without these components, it is not possible to calculate gross profit or the gross profit margin accurately.\\n\\nThus, relying strictly on the guidelines, the gross profit margin for the specific quarter or year cannot be determined.\\n\\nI will use the available annual revenue data and acknowledge the limitation due to missing gross profit data.', answer='n/a')}\n",
      "chain_of_thought='The CONTEXT provided does not contain specific data for the quarter ending June 30, 2022. Additionally, while annual revenue data for the fiscal year ending December 31, 2022, is available, the cost of goods sold (COGS) is not provided, which is necessary to calculate the gross profit and gross profit margin. Without COGS, we cannot determine the gross profit margin for the specific quarter. Therefore, based on the guidelines and the data available, the gross profit margin for June 30, 2022, is not determinable.' answer='n/a'\n",
      "## Query: What was the total revenue of \"Mercia Asset Management PLC\" in the fiscal year 2021?\n",
      "### ASKING DELEGATION MANAGER: \n",
      "Delegations: \n",
      " chain_of_thought=\"The query specifically asks for the total revenue of a company named 'Mercia Asset Management PLC' for the fiscal year 2021. This company name is exactly listed in the available company list, enabling precise identification. Therefore, a query can be crafted to retrieve the requested financial information. Typically, total revenue figures can be found in the income statement section of a company’s annual report, often under the header 'Consolidated Income Statement' or similar.\\n\\nTo formulate an effective query, the specialized agent should be instructed to locate the fiscal year 2021 annual report of Mercia Asset Management PLC and within that document, find the income statement section that details revenue figures.\" companies=['Mercia Asset Management PLC'] queries=['Locate the fiscal year 2021 annual report for Mercia Asset Management PLC and extract the total revenue figure from the income statement section.']\n",
      "### ASKING COMPANY EXPERT: Mercia Asset Management PLC\n",
      "### ASKING EXECUTION MANAGER: \n",
      "Context: {'Mercia Asset Management PLC': AnswerEvent(chain_of_thought='The provided context mentions revenue figures for two years, ending 31 March 2022 and 31 March 2021. The revenue for the year ending 31 March 2021 is explicitly mentioned as £19,186,000 on page 37 of the document. Thus, the total revenue figure for the fiscal year 2021 is 19186000 pounds.', answer=19186000)}\n",
      "chain_of_thought='The context provides information on the revenue figures for Mercia Asset Management PLC for the years ending 31 March 2022 and 31 March 2021. The revenue for the fiscal year ending 31 March 2021 is explicitly mentioned as £19,186,000. Thus, the total revenue for the fiscal year 2021 is 19186000 pounds.' answer=19186000\n",
      "## Query: How much more did \"First Mid Bancshares, Inc.\" spend on risk management compared to \"QUIDELORTHO CORPORATION\" in June 30, 2022?\n",
      "### ASKING DELEGATION MANAGER: \n",
      "Delegations: \n",
      " chain_of_thought='The query mentions \"First Mid Bancshares, Inc.\" and \"QUIDELORTHO CORPORATION\". Only \"First Mid Bancshares, Inc.\" matches the company names in the provided list. Since \"QUIDELORTHO CORPORATION\" is not in the list, I cannot assign an agent to retrieve data for it. Hence, I mark this query as \\'SKIP\\'.' companies=['SKIP'] queries=['SKIP']\n",
      "### ASKING EXECUTION MANAGER: \n",
      "Context: {'SKIP': 'No data available'}\n",
      "chain_of_thought='The context provided contains the message \\'No data available\\', indicating there are no specific details about risk management expenditures for \"First Mid Bancshares, Inc.\" or \"QUIDELORTHO CORPORATION\" for June 30, 2022. Without this data, it\\'s not possible to determine the difference in spending between the two companies.' answer='n/a'\n",
      "## Query: Which company had a higher total liabilities: \"DouYu International Holdings Limited\", \"CrossFirst Bank\" or \"First Mid Bancshares, Inc.\", in the fiscal year 2023?\n",
      "### ASKING DELEGATION MANAGER: \n",
      "Delegations: \n",
      " chain_of_thought='First, I need to identify which of the mentioned companies can be found in the provided list. From the query, \"CrossFirst Bank\" and \"First Mid Bancshares, Inc.\" are listed companies, while \"DouYu International Holdings Limited\" is not. Hence, \"DouYu International Holdings Limited\" is not considered.\\n\\nNext, I will focus on the remaining companies and formulate queries. The query requires comparing the total liabilities for the fiscal year 2023.\\n\\nIn a company’s annual report, total liabilities are typically found under the \"Balance Sheet\" section. Specialized agents would need to locate this section within the fiscal year 2023\\'s reports for both companies to find the necessary data.\\n\\nConsidering ratios or totals like total liabilities, it\\'s also helpful for agents to note these as they analyze the balance sheets to ensure the figures are drawn from comparable sections of each company\\'s report.' companies=['CrossFirst Bank', 'First Mid Bancshares, Inc.'] queries=['Retrieve the total liabilities from the 2023 fiscal year balance sheet for CrossFirst Bank.', 'Retrieve the total liabilities from the 2023 fiscal year balance sheet for First Mid Bancshares, Inc.']\n",
      "### ASKING COMPANY EXPERT: CrossFirst Bank\n",
      "### ASKING COMPANY EXPERT: First Mid Bancshares, Inc.\n",
      "### ASKING EXECUTION MANAGER: \n",
      "Context: {'CrossFirst Bank': AnswerEvent(chain_of_thought='I will look for the section in the consolidated financial statements that provides the balance sheet data for liabilities related to the 2023 fiscal year. The provided context contains data for the fiscal years ending December 31, 2022 and December 31, 2021 only. Therefore, the data for 2023 is not available in the provided context.', answer='n/a'), 'First Mid Bancshares, Inc.': AnswerEvent(chain_of_thought='The provided CONTEXT gives the balance sheet data for First Mid Bancshares, Inc. for the years 2022 and 2021. The balance sheets list total liabilities as $116,103,000 for 2022 and $116,248,000 for 2021. There is no data available for the 2023 fiscal year. Therefore, we cannot provide the 2023 total liabilities figure.', answer='n/a')}\n",
      "chain_of_thought=\"To determine which company had higher total liabilities in the fiscal year 2023, I need to examine the available data for each company. The CONTEXT provides data for CrossFirst Bank and First Mid Bancshares, Inc., but it only includes information up to the fiscal year 2022 for both, not 2023. Therefore, data for these companies in 2023 are not available. No information about DouYu International Holdings Limited's total liabilities for 2023 is provided in the CONTEXT either. Since there are no available liability figures for any of the companies for fiscal year 2023, I am unable to determine which company had higher total liabilities.\" answer='n/a'\n",
      "## Query: What was the Return on Assets (ROA) of \"ENRG ELEMENTS LIMITED\" in June 30, 2022?\n",
      "### ASKING DELEGATION MANAGER: \n",
      "Delegations: \n",
      " chain_of_thought='The query mentions \"ENRG ELEMENTS LIMITED\", which matches exactly with one of the companies from the provided list. Since the question asks for the Return on Assets (ROA) for a specific date, June 30, 2022, it likely refers to a quarterly report or data point. The ROA can be calculated by dividing the net income by the total assets of the company for that period. This information can usually be found in the financial statements section of the company\\'s quarterly or half-year reports, under the income statement and balance sheet. Therefore, I will formulate a query to retrieve the necessary financial data from the relevant report.' companies=['ENRG ELEMENTS LIMITED'] queries=[\"Retrieve the net income and total assets of ENRG ELEMENTS LIMITED as of June 30, 2022, to calculate the Return on Assets (ROA). This data can generally be found in the income statement and balance sheet sections of the company's financial report for the period ending June 30, 2022. If detailed quarterly data is not available, provide the best available data and explain any discrepancies.\"]\n",
      "### ASKING COMPANY EXPERT: ENRG ELEMENTS LIMITED\n",
      "### ASKING EXECUTION MANAGER: \n",
      "Context: {'ENRG ELEMENTS LIMITED': AnswerEvent(chain_of_thought='To calculate the Return on Assets (ROA), I need the net income and total assets as of June 30, 2022. Net income can generally be found in the income statement, while total assets are found in the balance sheet.\\n\\nFrom the Consolidated Statement of Profit or Loss and Other Comprehensive Income:\\n- The net loss for the year ended June 30, 2022, was $4,542,384.\\n\\nFrom the Consolidated Statement of Financial Position:\\n- The total assets as of June 30, 2022, were $5,118,490.\\n\\nROA is calculated as Net Income / Total Assets.\\n- Net Income = -$4,542,384 (indicating a net loss)\\n- Total Assets = $5,118,490\\n\\nROA Calculation = -4,542,384 / 5,118,490 = -0.887', answer=-0.887)}\n",
      "chain_of_thought='To calculate the Return on Assets (ROA), I need the net income and total assets as of June 30, 2022. Net income can generally be found in the income statement, while total assets are found in the balance sheet.\\n\\nFrom the Consolidated Statement of Profit or Loss and Other Comprehensive Income:\\n- The net loss for the year ended June 30, 2022, was $4,542,384.\\n\\nFrom the Consolidated Statement of Financial Position:\\n- The total assets as of June 30, 2022, were $5,118,490.\\n\\nROA is calculated as Net Income / Total Assets.\\n- Net Income = -$4,542,384 (indicating a net loss)\\n- Total Assets = $5,118,490\\n\\nROA Calculation = -4,542,384 / 5,118,490 = -0.887' answer=-0.887\n",
      "## Query: What was the free cash flow of \"Oesterreichische Kontrollbank\" in the fiscal year 2023?\n",
      "### ASKING DELEGATION MANAGER: \n",
      "Delegations: \n",
      " chain_of_thought='The query explicitly mentions \"Oesterreichische Kontrollbank\", which matches exactly with a company in the list. Hence, \\'Oesterreichische Kontrollbank\\' is identified as the company.\\nTo retrieve the free cash flow, which is a financial metric, I will direct the specialized agent to look for the cash flow statement in the company\\'s 2023 annual report. This section usually contains details on the operating, investing, and financing cash flows from which the free cash flow can be calculated as net cash from operating activities minus capital expenditures. \\nSince the query is for the fiscal year 2023 and there\\'s no mention of quarterly data, the agent should focus on annual figures.' companies=['Oesterreichische Kontrollbank'] queries=[\"Retrieve the cash flow statement from Oesterreichische Kontrollbank's 2023 annual report. Calculate the free cash flow as the net cash from operating activities minus capital expenditures. Ensure to provide an explanation if full-year data is unavailable and only partial or estimated data is used.\"]\n",
      "### ASKING COMPANY EXPERT: Oesterreichische Kontrollbank\n",
      "### ASKING EXECUTION MANAGER: \n",
      "Context: {'Oesterreichische Kontrollbank': AnswerEvent(chain_of_thought=\"From the given context, the cash flow figures from the Oesterreichische Kontrollbank's report are available for the year 2022. The net cash flow amounts provided include the following:\\n- Net cash from investing activities for 2022: 305,885 thousand euros.\\n- Net cash from financing activities for 2022: -33,500 thousand euros.\\n\\nHowever, the net cash from operating activities is not explicitly mentioned in the provided excerpts of the document. Furthermore, there is no mention of capital expenditures (also known as CapEx), which is typically calculated from cash flow statements by noting the spending on fixed assets (property, plant, equipment, etc.).\\n\\nSince neither net cash from operating activities nor capital expenditures are provided or calculable from the available 2022 data, I cannot calculate the free cash flow for the year 2023 as requested. Additionally, the temporal scope requires the year 2023, which is not covered within the given 2022 context.\", answer='n/a')}\n",
      "chain_of_thought='The context provided does not include any data for the fiscal year 2023 for Oesterreichische Kontrollbank. The only cash flow information available is for the year 2022, and it lacks sufficient details to calculate the free cash flow even for that year. Specifically, there is no information on the net cash from operating activities or capital expenditures for 2022. Without the relevant data for 2023, it is impossible to determine the free cash flow for that year. Therefore, the information required to answer the query is not available.' answer='n/a'\n",
      "## Query: How much more did \"Sensata\" spend on risk management compared to \"Holley Inc.\" in June 30, 2022?\n",
      "### ASKING DELEGATION MANAGER: \n",
      "Delegations: \n",
      " chain_of_thought=\"The query is asking for a comparison of expenditures on risk management between two companies: Sensata and Holley Inc. I identified that both company names match exactly with those in the provided list, so they should be included in the search. \\n\\nTo formulate the query, I need information about the expenditures on risk management for each company, specifically for June 30, 2022. This information is typically found in the notes accompanying the financial statements or in the management discussion section of the annual or quarterly report. Given that financial reports may not explicitly list 'risk management' costs as standalone figures, the agents might need to look for related metrics such as 'Risk Management Expenses' or 'Risk Control Costs'. Additionally, if specific data for June isn't available, I want to direct agents to consider the closest available quarterly data and clarify this as part of the response.\\n\\nI formulated the queries for both companies, instructing the agents to find and compare the data.\" companies=['Sensata', 'Holley Inc.'] queries=[\"Retrieve Sensata's expenditure on risk management for June 30, 2022. If specific monthly data isn't available, provide the closest quarterly data from the quarterly or annual financial reports, particularly focusing on the management discussion or notes section for risk management or risk control costs.\", \"Retrieve Holley Inc.'s expenditure on risk management for June 30, 2022. If specific monthly data isn't available, provide the closest quarterly data from the quarterly or annual financial reports, particularly looking into the management discussion or notes section for information on risk management or risk control costs.\", 'Compare the expenditures identified between Sensata and Holley Inc. How much more did Sensata spend in comparison to Holley Inc. on risk management for the given period?']\n",
      "### ASKING COMPANY EXPERT: Sensata\n",
      "### ASKING COMPANY EXPERT: Holley Inc.\n",
      "### ASKING EXECUTION MANAGER: \n",
      "Context: {'Sensata': AnswerEvent(chain_of_thought=\"The CONTEXT primarily contains consolidated balance sheets and statements of operations for Sensata Technologies. These financial reports include details for the entire year ending December 31, 2022, but do not provide specific line items related to risk management expenditure for June 30, 2022, or any specific quarter. Additionally, there is no explicit mention of risk management or risk control costs in the sections provided, such as management discussion or notes. Without explicit figures or breakdowns provided for these expenses, it is not possible to determine specific expenditures on risk management for June 30, 2022.\\nThus, based on the information in the provided CONTEXT, there is insufficient data to specify Sensata's expenditure on risk management for the requested date.\", answer='n/a'), 'Holley Inc.': AnswerEvent(chain_of_thought='The documents provided do not include detailed monthly or quarterly breakdowns of risk management expenditures for Holley Inc. for June 30, 2022, or any specific quarter around that time in particular. The mention of risk management in the documents is generally in the context of credit risk, foreign exchange risk, and general business risk management, but without associated costs. The financial data provided focuses on broader financial statements and other expenditure categories, such as lease commitments and capital expenditures, but there is no explicit entry or note on risk management expenditures for the specified time period.', answer='n/a')}\n",
      "chain_of_thought=\"The user is asking for a comparison of risk management expenditures for Sensata and Holley Inc. on June 30, 2022. I reviewed the CONTEXT provided and found that for both companies, there is no specific financial data or breakdown available pertaining to the risk management expenditures for the exact date or period of June 30, 2022. Sensata's CONTEXT mentions a lack of specific figures for this date and Holley Inc.'s CONTEXT similarly does not provide detailed breakdowns of risk management spending. Therefore, given the absence of detailed information and figures regarding these expenditures for the specified period, we cannot determine the difference in spending between the two companies.\" answer='n/a'\n",
      "## Query: Which company had a higher free cash flow: \"BAKER STEEL RESOURCES TRUST LIMITED\", \"Safe & Green Holdings Corp.\" or \"PowerFleet, Inc.\", in the fiscal year 2021?\n",
      "### ASKING DELEGATION MANAGER: \n",
      "Delegations: \n",
      " chain_of_thought='The query mentions three companies: \"BAKER STEEL RESOURCES TRUST LIMITED\", \"Safe & Green Holdings Corp.\", and \"PowerFleet, Inc.\". All three are present in the provided list of company names. The query asks for a comparison of free cash flow for the fiscal year 2021.\\n\\nTo handle this, I will:\\n1. Identify the topic \\'free cash flow\\', which is usually found under the cash flow statement section of the annual report for the respective fiscal year.\\n2. Formulate queries for each of the three companies to retrieve their respective free cash flow values for fiscal year 2021 from their annual reports.\\n3. Suggest that the specialized agents compare these values to determine which company had the higher free cash flow.\\n\\nNo company name is missing an element (like Inc. or Ltd.), hence I have identified the companies completely and correctly. All the necessary data should be available in their annual reports for fiscal year 2021.' companies=['BAKER STEEL RESOURCES TRUST LIMITED', 'Safe & Green Holdings Corp.', 'PowerFleet, Inc.'] queries=['Retrieve the free cash flow for BAKER STEEL RESOURCES TRUST LIMITED for the fiscal year 2021 from its annual report. Check under the cash flow statement section.', 'Retrieve the free cash flow for Safe & Green Holdings Corp. for the fiscal year 2021 from its annual report. Check under the cash flow statement section.', 'Retrieve the free cash flow for PowerFleet, Inc. for the fiscal year 2021 from its annual report. Check under the cash flow statement section.', 'Compare the free cash flow values for BAKER STEEL RESOURCES TRUST LIMITED, Safe & Green Holdings Corp., and PowerFleet, Inc. for the fiscal year 2021 to determine which company had the higher free cash flow.']\n",
      "### ASKING COMPANY EXPERT: BAKER STEEL RESOURCES TRUST LIMITED\n",
      "### ASKING COMPANY EXPERT: Safe & Green Holdings Corp.\n",
      "### ASKING COMPANY EXPERT: PowerFleet, Inc.\n",
      "### ASKING EXECUTION MANAGER: \n",
      "Context: {'BAKER STEEL RESOURCES TRUST LIMITED': AnswerEvent(chain_of_thought='To calculate free cash flow, we start with net cash from operating activities and subtract capital expenditures (usually cash used in investing activities that are not related to acquisitions of other businesses/assets). \\n\\nFrom the statement of cash flows for the year ended 31 December 2021:\\n- Net cash used in operating activities: (£1,282,929)\\n- Net cash provided by investing activities: £1,936,271\\n  - Major components include:\\n    - Purchase of financial assets at fair value through profit or loss: (£1,776,426)\\n    - Sale of financial assets at fair value through profit or loss: £3,712,697\\n\\nIn this case, the net cash flow from investing activities is positive due to sales of financial assets exceeding purchases, but usually adjusting for capital expenditures is more relevant. The context doesn’t specify the capital expenditure explicitly, and the positive inflow from the sale of investment assets suggests there might not be other capital expenditures significantly affecting free cash flow apart from the operating losses.\\n\\nThus, considering the information provided:\\n- Free Cash Flow = Net cash from operating activities + Net cash (used in) / provided by investing activities\\n- Free Cash Flow = (-£1,282,929) + £1,936,271 = £653,342 indicating overall positive cash due to investment inflows.', answer=653342), 'Safe & Green Holdings Corp.': AnswerEvent(chain_of_thought=\"To determine the free cash flow for Safe & Green Holdings Corp for the fiscal year 2021, I reviewed the provided context to locate cash flow from operations and capital expenditures (capex), as free cash flow is typically calculated as cash flow from operations minus capex.\\n\\nHowever, the context provided does not mention free cash flow directly. It mentions net cash used in financing activities and investment activities, and some figures related to capital expenditures. Net cash used in operating activities is also not specifically stated.\\n\\nAs such, without knowing both the operational cash flow and capital expenditures clearly, I cannot compute the free cash flow from the provided document.\\n\\nThere is no explicit mention of the term 'Free Cash Flow' or its typical constituent figures as a whole, just components of the financials.\", answer='n/a'), 'PowerFleet, Inc.': AnswerEvent(chain_of_thought='To calculate the free cash flow, we typically use the formula: Free Cash Flow = Net Cash from Operating Activities - Capital Expenditures. However, we do not have direct access to the net cash from operating activities from the context. Instead, I found the capital expenditures for 2021, which is $3,184. Moreover, there is no explicit mention of free cash flow or a comprehensive direct cash flow statement providing net cash from operating activities in the given context.', answer='n/a')}\n",
      "chain_of_thought=\"I have been provided with the free cash flow calculations or availability for the three companies in question for the fiscal year 2021: \\n\\n1. 'BAKER STEEL RESOURCES TRUST LIMITED': The free cash flow is calculated by summing the net cash from operating activities and the net cash used/provided by investing activities, resulting in a free cash flow of £653,342.\\n2. 'Safe & Green Holdings Corp.': There is insufficient data to determine free cash flow, as the context did not provide necessary operational cash flow or explicit capital expenditure figures, leading to an answer of 'n/a'.\\n3. 'PowerFleet, Inc.': The context similarly lacks sufficient details to calculate free cash flow, with only capital expenditure data mentioned, leading again to an 'n/a' answer.\\n\\nGiven the available data, only 'BAKER STEEL RESOURCES TRUST LIMITED' has an identifiable and calculable free cash flow, while the other two corporations lack sufficient information. Thus, based on identifiable values, 'BAKER STEEL RESOURCES TRUST LIMITED' shows a higher free cash flow.\" answer='BAKER STEEL RESOURCES TRUST LIMITED'\n",
      "## Query: What was the Operating Margin of \"Mercia Asset Management PLC\" in June 30, 2021?\n",
      "### ASKING DELEGATION MANAGER: \n",
      "Delegations: \n",
      " chain_of_thought='The query specifically mentions \"Mercia Asset Management PLC\", which matches an entry in the provided company list. Therefore, it is relevant and not marked as \\'SKIP\\'. For such financial metrics like Operating Margin, this would typically be found in the income statement section of the company\\'s annual or quarterly reports.\\n\\nGiven the specific date of June 30, 2021, agents should look for any quarterly reports that cover this period, or use the closest available data to approximate the operating margin if a report for the exact date isn\\'t available. The operating margin can be calculated by dividing the operating income by the total revenue for the period in question.' companies=['Mercia Asset Management PLC'] queries=[\"Retrieve the operating income and total revenue for Mercia Asset Management PLC as of June 30, 2021, to calculate the operating margin. If data for the exact date is unavailable, use the nearest report available. Check the income statement section of the company's financial reports for these figures.\"]\n",
      "### ASKING COMPANY EXPERT: Mercia Asset Management PLC\n",
      "### ASKING EXECUTION MANAGER: \n",
      "Context: {'Mercia Asset Management PLC': AnswerEvent(chain_of_thought=\"The document provides financial data for the year ended March 31, 2021. For this period, the operating profit (income) is £33,970,000 and the total revenue is £23,410,000. Since the data for June 30, 2021, is not available, we'll use the last available data, which is for the year ending March 31, 2021.\\n\\nTo calculate the operating margin, we divide the operating income by the total revenue:\\n- Operating income (numerator): £33,970,000\\n- Total revenue (denominator): £23,410,000\\n\\nOperating Margin = Operating Income / Total Revenue = 33,970,000 / 23,410,000 = approximately 1.45.\", answer=1.45)}\n",
      "chain_of_thought='The data for June 30, 2021, is not available in the provided context. However, we have financial data for the year ended March 31, 2021. According to this data, the operating profit (income) is £33,970,000 and the total revenue is £23,410,000. Using these figures, the operating margin is calculated as Operating Income / Total Revenue = 33,970,000 / 23,410,000 = approximately 1.45. Since this is the latest available data, we will use it to answer the question.' answer=1.45\n",
      "## Query: What was the free cash flow of \"JOURNEY MEDICAL CORPORATION\" in the fiscal year 2023?\n",
      "### ASKING DELEGATION MANAGER: \n",
      "Delegations: \n",
      " chain_of_thought='The query asks for the free cash flow of \"JOURNEY MEDICAL CORPORATION\" in the fiscal year 2023. However, \"JOURNEY MEDICAL CORPORATION\" is not listed in the companies I have access to ([\\'Mercia Asset Management PLC\\', \\'CrossFirst Bank\\', \\'Sleep Country Canada Holdings Inc.\\', \\'First Mid Bancshares, Inc.\\', \\'MITSUI O.S.K. LINES\\', \\'TSX_Y\\', \\'Oesterreichische Kontrollbank\\', \\'PowerFleet, Inc.\\', \\'BAKER STEEL RESOURCES TRUST LIMITED\\', \\'Caixa Geral de Depósitos, S.A.\\', \\'Petra Diamonds\\', \\'Creative Media & Community Trust Corporation\\', \\'ENRG ELEMENTS LIMITED\\', \\'Holley Inc.\\', \\'Safe & Green Holdings Corp.\\', \\'TransUnion\\', \\'Tradition\\', \\'TSX_ACQ\\', \\'Tower Semiconductor Ltd.\\', \\'Sensata\\']). Therefore, I cannot form any queries for specialized agents to retrieve data.' companies=['SKIP'] queries=['SKIP']\n",
      "### ASKING EXECUTION MANAGER: \n",
      "Context: {'SKIP': 'No data available'}\n",
      "chain_of_thought='The CONTEXT provided indicates there is no data available for the free cash flow of \"JOURNEY MEDICAL CORPORATION\" for the fiscal year 2023. Therefore, based on this information, I cannot determine the requested financial figure.' answer='n/a'\n",
      "## Query: How much more did \"Laserbond\" spend on R&D compared to \"PowerFleet, Inc.\" in June 30, 2021?\n",
      "### ASKING DELEGATION MANAGER: \n",
      "Delegations: \n",
      " chain_of_thought=\"The query mentions 'Laserbond' and 'PowerFleet, Inc.'. 'Laserbond' is not listed among the companies for which I have specialized agents, so it is marked for SKIP. 'PowerFleet, Inc.' is within the specified list. Since the query mentions two entities but only one is in the list, the entire query should be marked for SKIP as per guidelines. Therefore, I cannot provide a comparison without both companies being recognized correctly; additionally, the query requires specific date-comparison which cannot be addressed for 'Laserbond'.\" companies=['SKIP'] queries=['SKIP']\n",
      "### ASKING EXECUTION MANAGER: \n",
      "Context: {'SKIP': 'No data available'}\n",
      "chain_of_thought='The QUERY asks for a comparison of R&D expenses between \"Laserbond\" and \"PowerFleet, Inc.\" as of June 30, 2021. I have checked the CONTEXT, which states \\'No data available\\'. Thus, there is no specific R&D spending information presented for either company for the date required to make the comparison.' answer='n/a'\n",
      "## Query: Which company had a higher total assets: \"MITSUI O.S.K. LINES\", \"ENRG ELEMENTS LIMITED\" or \"First Mid Bancshares, Inc.\", in the fiscal year 2021?\n",
      "### ASKING DELEGATION MANAGER: \n",
      "Delegations: \n",
      " chain_of_thought=\"The query specifically asks about the total assets for MITSUI O.S.K. LINES, ENRG ELEMENTS LIMITED, and First Mid Bancshares, Inc. in the fiscal year 2021. These company names match exactly with those provided in the list, so they can be identified correctly. To answer this, specialized agents should retrieve the total assets figure for each company from their respective annual reports for the fiscal year 2021. Typically, this information can be found in the balance sheet section near the beginning of annual financial statements. These reports usually have a section labeled 'Consolidated Financial Position' or similar.\\n\\nSince the comparison is necessary, each company’s total assets should be noted, and then a comparison should be made among the three. In cases where only full-year data is available and not quarterly data, specify that it is the best available data for fiscal year 2021.\" companies=['MITSUI O.S.K. LINES', 'ENRG ELEMENTS LIMITED', 'First Mid Bancshares, Inc.'] queries=['Retrieve the total assets from the balance sheet for MITSUI O.S.K. LINES in the fiscal year 2021 and compare with the others.', 'Retrieve the total assets from the balance sheet for ENRG ELEMENTS LIMITED in the fiscal year 2021 and compare with the others.', 'Retrieve the total assets from the balance sheet for First Mid Bancshares, Inc. in the fiscal year 2021 and compare with the others.']\n",
      "### ASKING COMPANY EXPERT: MITSUI O.S.K. LINES\n",
      "### ASKING COMPANY EXPERT: ENRG ELEMENTS LIMITED\n",
      "### ASKING COMPANY EXPERT: First Mid Bancshares, Inc.\n",
      "### ASKING EXECUTION MANAGER: \n",
      "Context: {'MITSUI O.S.K. LINES': AnswerEvent(chain_of_thought='To find the total assets for MITSUI O.S.K. LINES for the fiscal year 2021, I reviewed the provided data which includes the total assets figures. I extracted the total assets data for each available fiscal year: \\n- 2021: 2364695 (thousand yen)\\n- 2020: 2164611 (thousand yen)\\n- 2019: 1946161 (thousand yen)\\n- 2018: 2624049 (thousand yen)\\n\\nNow, comparing these figures:\\n- Total assets in 2021: 2364695\\n- Total assets in 2020: 2164611\\n- Total assets in 2019: 1946161\\n- Total assets in 2018: 2624049\\n', answer=2364695), 'ENRG ELEMENTS LIMITED': AnswerEvent(chain_of_thought='To retrieve the total assets for ENRG ELEMENTS LIMITED in the fiscal year 2021, I will refer to the \"CONSOLIDATED STATEMENT OF FINANCIAL POSITION\" as at 30 June 2022 from the provided context. The data indicates the total assets for 2021 were provided as $698,029.\\n\\nNext, I\\'ll review the context for any other companies mentioned. However, based on the CONTEXT, the document appears to focus solely on ENRG ELEMENTS LIMITED, with no mention of another company\\'s total assets for comparison.\\nTherefore, there are no other companies\\' total assets for comparison within the provided CONTEXT.', answer=698029), 'First Mid Bancshares, Inc.': AnswerEvent(chain_of_thought='The total assets for First Mid Bancshares, Inc. in 2021 are $750,142,000 as seen in the balance sheet for December 31, 2021. The data provided contains total asset values only for 2022 at $749,258,000 compared to 2021 \\nAssets 2022: $749,258,000\\nAssets 2021: $750,142,000\\nSince the question asks for comparison to others, the comparison can only be made between 2021 and 2022. Total assets in 2021 were slightly higher than in 2022.', answer=750142000)}\n",
      "chain_of_thought=\"To determine which company had higher total assets in the fiscal year 2021, I need to compare the total assets figures available for each company.\\n\\n1. **MITSUI O.S.K. LINES**: From the context, we know that MITSUI O.S.K. LINES had total assets of 2,364,695 thousand yen in 2021. To make valid comparisons with other companies, we should consider these values in similar units. From the context, I'll assume this value as 2,364,695 yen because no conversion was specified in the context to match other currencies like dollars used for the other companies.\\n\\n2. **ENRG ELEMENTS LIMITED**: The total assets for ENRG ELEMENTS LIMITED in 2021 were reported as $698,029.\\n\\n3. **First Mid Bancshares, Inc.**: The total assets for First Mid Bancshares, Inc. in 2021 were $750,142,000.\\n\\nTo compare accurately, we see ENRG ELEMENTS LIMITED has 698,029, which is significantly less than First Mid Bancshares, Inc. with 750,142,000. Without currency conversion details, it's assumed each value's currency represents a direct comparison in magnitude.\\n\\nThus, comparing the values for understanding their magnitude, First Mid Bancshares, Inc. clearly has the higher total assets amongst the companies for the fiscal year 2021 as their figure is clearly higher than both MITSUI O.S.K. LINES (when looked at as in comparable magnitude presumed to be the same currency) and ENRG ELEMENTS LIMITED.\" answer='First Mid Bancshares, Inc.'\n"
     ]
    }
   ],
   "execution_count": 24
  },
  {
   "metadata": {
    "ExecuteTime": {
     "end_time": "2024-09-02T21:05:22.729367Z",
     "start_time": "2024-09-02T21:05:22.709906Z"
    }
   },
   "cell_type": "code",
   "source": "results",
   "id": "6807326cbe327128",
   "outputs": [
    {
     "data": {
      "text/plain": [
       "[{'question': 'What was the Net Profit Margin of \"Oesterreichische Kontrollbank\" in June 30, 2023?',\n",
       "  'schema': 'number',\n",
       "  'answer': 0.1243},\n",
       " {'question': 'What was the total liabilities of \"CrossFirst Bank\" in the fiscal year 2023?',\n",
       "  'schema': 'number',\n",
       "  'answer': 5992487000},\n",
       " {'question': 'How much more did \"Astral Resources NL\" spend on marketing compared to \"TSX_Y\" in June 30, 2021?',\n",
       "  'schema': 'number',\n",
       "  'answer': 'n/a'},\n",
       " {'question': 'Which company had a higher free cash flow: \"TSX_ACQ\", \"QUIDELORTHO CORPORATION\" or \"PowerFleet, Inc.\", in the fiscal year 2022?',\n",
       "  'schema': 'name',\n",
       "  'answer': 'TSX_ACQ'},\n",
       " {'question': 'What was the earnings per share (EPS) of \"Holley Inc.\" in June 30, 2023?',\n",
       "  'schema': 'number',\n",
       "  'answer': 'n/a'},\n",
       " {'question': 'What was the accounts receivable of \"Petra Diamonds\" in the fiscal year 2023?',\n",
       "  'schema': 'number',\n",
       "  'answer': 'n/a'},\n",
       " {'question': 'How much more did \"Creative Media & Community Trust Corporation\" spend on sustainability initiatives compared to \"BAKER STEEL RESOURCES TRUST LIMITED\" in June 30, 2021?',\n",
       "  'schema': 'number',\n",
       "  'answer': 'n/a'},\n",
       " {'question': 'Which company had a higher total liabilities: \"Creative Media & Community Trust Corporation\", \"Sleep Country Canada Holdings Inc.\" or \"Tradition\", in the fiscal year 2023?',\n",
       "  'schema': 'name',\n",
       "  'answer': 'n/a'},\n",
       " {'question': 'What was the Net Profit Margin of \"QUIDELORTHO CORPORATION\" in June 30, 2023?',\n",
       "  'schema': 'number',\n",
       "  'answer': 'n/a'},\n",
       " {'question': 'What was the acquisition costs of \"Safe & Green Holdings Corp.\" in the fiscal year 2021?',\n",
       "  'schema': 'number',\n",
       "  'answer': 'n/a'},\n",
       " {'question': 'How much more did \"Astral Resources NL\" spend on marketing compared to \"TSX_ACQ\" in June 30, 2023?',\n",
       "  'schema': 'number',\n",
       "  'answer': 'n/a'},\n",
       " {'question': 'Which company had a higher shareholders\\' equity: \"MITSUI O.S.K. LINES\", \"TSX_Y\" or \"Tradition\", in the fiscal year 2022?',\n",
       "  'schema': 'name',\n",
       "  'answer': 'Tradition'},\n",
       " {'question': 'What was the Gross Profit Margin of \"JOURNEY MEDICAL CORPORATION\" in June 30, 2022?',\n",
       "  'schema': 'number',\n",
       "  'answer': 'n/a'},\n",
       " {'question': 'What was the operating cash flow of \"JOURNEY MEDICAL CORPORATION\" in the fiscal year 2023?',\n",
       "  'schema': 'number',\n",
       "  'answer': 'n/a'},\n",
       " {'question': 'How much more did \"Astral Resources NL\" spend on risk management compared to \"Caixa Geral de DepÃ³sitos, S.A.\" in June 30, 2023?',\n",
       "  'schema': 'number',\n",
       "  'answer': 'n/a'},\n",
       " {'question': 'Which company had a higher acquisition costs: \"PowerFleet, Inc.\", \"Oesterreichische Kontrollbank\" or \"Astral Resources NL\", in the fiscal year 2023?',\n",
       "  'schema': 'name',\n",
       "  'answer': 'n/a'},\n",
       " {'question': 'What was the Quick Ratio of \"IMUNON, INC.\" in June 30, 2021?',\n",
       "  'schema': 'number',\n",
       "  'answer': 'n/a'},\n",
       " {'question': 'What was the net income of \"Petra Diamonds\" in the fiscal year 2022?',\n",
       "  'schema': 'number',\n",
       "  'answer': 88.1},\n",
       " {'question': 'How much more did \"Sensata\" spend on customer acquisition compared to \"Laserbond\" in June 30, 2022?',\n",
       "  'schema': 'number',\n",
       "  'answer': 'n/a'},\n",
       " {'question': 'Which company had a higher free cash flow: \"Sensata\", \"TransUnion\" or \"First Mid Bancshares, Inc.\", in the fiscal year 2021?',\n",
       "  'schema': 'name',\n",
       "  'answer': 'TransUnion'},\n",
       " {'question': 'What was the market capitalization of \"Holley Inc.\" in June 30, 2023?',\n",
       "  'schema': 'number',\n",
       "  'answer': 'n/a'},\n",
       " {'question': 'What was the total assets of \"TransUnion\" in the fiscal year 2023?',\n",
       "  'schema': 'number',\n",
       "  'answer': 'n/a'},\n",
       " {'question': 'How much more did \"BAKER STEEL RESOURCES TRUST LIMITED\" spend on customer acquisition compared to \"Sleep Country Canada Holdings Inc.\" in June 30, 2021?',\n",
       "  'schema': 'number',\n",
       "  'answer': 'n/a'},\n",
       " {'question': 'Which company had a higher research and development expenses: \"MITSUI O.S.K. LINES\", \"Holley Inc.\" or \"First Mid Bancshares, Inc.\", in the fiscal year 2021?',\n",
       "  'schema': 'name',\n",
       "  'answer': 'n/a'},\n",
       " {'question': 'What was the Operating Margin of \"Sleep Country Canada Holdings Inc.\" in June 30, 2022?',\n",
       "  'schema': 'number',\n",
       "  'answer': 'n/a'},\n",
       " {'question': 'What was the intangible assets of \"TransUnion\" in the fiscal year 2021?',\n",
       "  'schema': 'number',\n",
       "  'answer': 'n/a'},\n",
       " {'question': 'How much more did \"PowerFleet, Inc.\" spend on R&D compared to \"JOURNEY MEDICAL CORPORATION\" in June 30, 2022?',\n",
       "  'schema': 'number',\n",
       "  'answer': 'n/a'},\n",
       " {'question': 'Which company had a higher inventories: \"TSX_Y\", \"Mercia Asset Management PLC\" or \"Tradition\", in the fiscal year 2022?',\n",
       "  'schema': 'name',\n",
       "  'answer': 'n/a'},\n",
       " {'question': 'What was the Gross Profit Margin of \"Safe & Green Holdings Corp.\" in June 30, 2022?',\n",
       "  'schema': 'number',\n",
       "  'answer': 'n/a'},\n",
       " {'question': 'What was the total revenue of \"Mercia Asset Management PLC\" in the fiscal year 2021?',\n",
       "  'schema': 'number',\n",
       "  'answer': 19186000},\n",
       " {'question': 'How much more did \"First Mid Bancshares, Inc.\" spend on risk management compared to \"QUIDELORTHO CORPORATION\" in June 30, 2022?',\n",
       "  'schema': 'number',\n",
       "  'answer': 'n/a'},\n",
       " {'question': 'Which company had a higher total liabilities: \"DouYu International Holdings Limited\", \"CrossFirst Bank\" or \"First Mid Bancshares, Inc.\", in the fiscal year 2023?',\n",
       "  'schema': 'name',\n",
       "  'answer': 'n/a'},\n",
       " {'question': 'What was the Return on Assets (ROA) of \"ENRG ELEMENTS LIMITED\" in June 30, 2022?',\n",
       "  'schema': 'number',\n",
       "  'answer': -0.887},\n",
       " {'question': 'What was the free cash flow of \"Oesterreichische Kontrollbank\" in the fiscal year 2023?',\n",
       "  'schema': 'number',\n",
       "  'answer': 'n/a'},\n",
       " {'question': 'How much more did \"Sensata\" spend on risk management compared to \"Holley Inc.\" in June 30, 2022?',\n",
       "  'schema': 'number',\n",
       "  'answer': 'n/a'},\n",
       " {'question': 'Which company had a higher free cash flow: \"BAKER STEEL RESOURCES TRUST LIMITED\", \"Safe & Green Holdings Corp.\" or \"PowerFleet, Inc.\", in the fiscal year 2021?',\n",
       "  'schema': 'name',\n",
       "  'answer': 'BAKER STEEL RESOURCES TRUST LIMITED'},\n",
       " {'question': 'What was the Operating Margin of \"Mercia Asset Management PLC\" in June 30, 2021?',\n",
       "  'schema': 'number',\n",
       "  'answer': 1.45},\n",
       " {'question': 'What was the free cash flow of \"JOURNEY MEDICAL CORPORATION\" in the fiscal year 2023?',\n",
       "  'schema': 'number',\n",
       "  'answer': 'n/a'},\n",
       " {'question': 'How much more did \"Laserbond\" spend on R&D compared to \"PowerFleet, Inc.\" in June 30, 2021?',\n",
       "  'schema': 'number',\n",
       "  'answer': 'n/a'},\n",
       " {'question': 'Which company had a higher total assets: \"MITSUI O.S.K. LINES\", \"ENRG ELEMENTS LIMITED\" or \"First Mid Bancshares, Inc.\", in the fiscal year 2021?',\n",
       "  'schema': 'name',\n",
       "  'answer': 'First Mid Bancshares, Inc.'}]"
      ]
     },
     "execution_count": 25,
     "metadata": {},
     "output_type": "execute_result"
    }
   ],
   "execution_count": 25
  },
  {
   "metadata": {},
   "cell_type": "markdown",
   "source": "## OLD Inference with chain OLD",
   "id": "a72c0743a280a392"
  },
  {
   "metadata": {},
   "cell_type": "code",
   "outputs": [],
   "execution_count": 7,
   "source": [
    "# Create vector store\n",
    "# https://python.langchain.com/v0.1/docs/modules/data_connection/retrievers/vectorstore/\n",
    "# Load documents from the specified folder\n",
    "documents = load_documents_from_folder(SAMPLES_PATH, df_sample.sha1.to_list())\n",
    "\n",
    "text_splitter = RecursiveCharacterTextSplitter(chunk_size=1000, chunk_overlap=100) # TODO more sophisticated\n",
    "texts = text_splitter.split_documents(documents)\n",
    "\n",
    "if len(texts) == 0:\n",
    "    raise ValueError(\"No text found in the specified folder\")"
   ],
   "id": "81ae7475c4724d33"
  },
  {
   "metadata": {},
   "cell_type": "code",
   "outputs": [],
   "execution_count": 8,
   "source": [
    "embeddings = OpenAIEmbeddings() # deprecated?\n",
    "db = FAISS.from_documents(texts, embeddings)\n",
    "retriever = db.as_retriever()"
   ],
   "id": "17ed60cef6f0728b"
  },
  {
   "metadata": {},
   "cell_type": "code",
   "outputs": [],
   "execution_count": 54,
   "source": [
    "# Store vector database\n",
    "# with open(\"data/first_sample_db_3\", \"wb\") as f:\n",
    "#     pickle.dump(db.serialize_to_bytes(), f)"
   ],
   "id": "679bcdd960449594"
  },
  {
   "metadata": {},
   "cell_type": "code",
   "outputs": [],
   "execution_count": 8,
   "source": [
    "# Load vector database\n",
    "# with open(\"data/vector_db_uni\", \"rb\") as f:\n",
    "#     db_bytes = pickle.load(f)\n",
    "#     db = FAISS.deserialize_from_bytes(db_bytes, OpenAIEmbeddings(),\n",
    "#                                       allow_dangerous_deserialization=True)\n",
    "#     retriever = db.as_retriever()"
   ],
   "id": "c253bf0a4f5bd84e"
  },
  {
   "metadata": {
    "ExecuteTime": {
     "end_time": "2024-08-29T12:18:15.355338Z",
     "start_time": "2024-08-29T12:18:15.330580Z"
    }
   },
   "cell_type": "code",
   "source": [
    "llm = ChatOpenAI(temperature=0)\n",
    "# llm = llm.bind(logprobs=True, top_logprobs=3)\n",
    "# could try local models as well\n",
    "\n",
    "system_prompt_2 = (\n",
    "    f\"You are an intelligent assistant tasked with answering questions based on specific company data provided in the context. \"\n",
    "    f\"Please provide a chain of thought on how you arrived at your final answer in 'chain_of_thought'. \\n\"\n",
    "    f\"Then give a final answer in 'answer' where you strictly adhere to the following guidelines: \\n {ANSWER_GUIDELINES} \\n \"\n",
    "    f\"Ensure that your answers are strictly compliant with these guidelines. Accuracy and adherence to the format are crucial. \\n\"\n",
    "    \n",
    "    # f\"Your primary task is to accurately identify and extract specific financial metrics, ratios, and counts, even when synonymous \"\n",
    "    # f\"or contextually similar terms are used. Here is some useful information about these: \\n {fin_info}\"\n",
    "    \n",
    "    \"Context: \\n {context}\"\n",
    ")\n",
    "\n",
    "prompt = ChatPromptTemplate.from_messages(\n",
    "    [\n",
    "        (\"system\", system_prompt_2),\n",
    "        (\"human\", \"{input}\"),\n",
    "    ]\n",
    ")\n",
    "\n",
    "question_answer_chain = create_stuff_documents_chain(llm, prompt)\n",
    "\n",
    "\n",
    "# Function to ask a question\n",
    "def ask_question(query):\n",
    "    # retriever = get_retriever(query)\n",
    "    \n",
    "    chain = create_retrieval_chain(retriever, question_answer_chain)\n",
    "    \n",
    "    response = chain.invoke({\"input\": query})\n",
    "    answer = response[\"answer\"]\n",
    "    print(f\"Question: {query}\\nAnswer: {answer}\")"
   ],
   "id": "a037ab4cbb4f07dc",
   "outputs": [],
   "execution_count": 31
  },
  {
   "metadata": {},
   "cell_type": "markdown",
   "source": [
    "```python\n",
    "    ('What was the {fin_metric} of \"{company}\" in {time_frame}?', \"number\"),\n",
    "    ('How much did \"{company}\" spend on {focus_area} in {time_frame}?', \"number\"),\n",
    "    ('What was the {ratio_or_metric} of \"{company}\" in {time_frame}?', \"number\"),\n",
    "    ('How many {count_metric} did \"{company}\" have in {time_frame}?', \"number\"),\n",
    "    ('Which company had a higher {fin_metric}: \"{company1}\", \"{company2}\" or \"{company3}\", in {time_frame}?', \"name\"),\n",
    "    ('Did \"{company1}\" have a greater {ratio_or_metric} than \"{company2}\" in {time_frame}?', \"boolean\"),\n",
    "    ('How much more did \"{company1}\" spend on {focus_area} compared to \"{company2}\" in {time_frame}?', \"number\"),\n",
    "    ('Who is the {role} in the company \"{company}\"?', \"name\"),\n",
    "```"
   ],
   "id": "9cf20ac7a4db1af4"
  },
  {
   "metadata": {},
   "cell_type": "code",
   "outputs": [],
   "execution_count": null,
   "source": [
    "# multiple agents\n",
    "# retriever per company\n",
    "# -> first check if we need several processes to answer the questions (e.g. check revenues of 3 companies, then use these values with a final agent)\n",
    "# chain of though: output json with chain of thought and final answer"
   ],
   "id": "70488b37bdd0937c"
  },
  {
   "metadata": {
    "ExecuteTime": {
     "end_time": "2024-08-29T12:17:04.097388Z",
     "start_time": "2024-08-29T12:17:02.236027Z"
    }
   },
   "cell_type": "code",
   "source": [
    "# Ask a question\n",
    "ask_question(\"How many assets does 'Accuray Incorporated' have in 2022 in dollars?\") # 472.849 "
   ],
   "id": "dd1680f262dfb880",
   "outputs": [
    {
     "name": "stdout",
     "output_type": "stream",
     "text": [
      "Question: How many assets does 'Accuray Incorporated' have in 2022 in dollars?\n",
      "Answer: chain_of_thought: \n",
      "1. Look for the Consolidated Balance Sheets section to find the total assets for Accuray Incorporated in 2022.\n",
      "2. Identify the value listed under \"Total current assets\" and any other asset categories to calculate the total assets for the company in 2022.\n",
      "\n",
      "answer: 352890\n"
     ]
    }
   ],
   "execution_count": 28
  },
  {
   "metadata": {
    "ExecuteTime": {
     "end_time": "2024-08-29T12:17:43.430829Z",
     "start_time": "2024-08-29T12:17:38.923914Z"
    }
   },
   "cell_type": "code",
   "source": "ask_question(\"How many assets does 'Accuray Incorporated' have in 2021 in dollars?\") # 480.098",
   "id": "218a06bbe2a85c3",
   "outputs": [
    {
     "name": "stdout",
     "output_type": "stream",
     "text": [
      "Question: How many assets does 'Accuray Incorporated' have in 2021 in dollars?\n",
      "Answer: Chain of Thought:\n",
      "1. Look for the Consolidated Balance Sheets section.\n",
      "2. Find the total assets value for 'Accuray Incorporated' for June 30, 2021.\n",
      "\n",
      "Answer:\n",
      "352773\n"
     ]
    }
   ],
   "execution_count": 29
  },
  {
   "metadata": {
    "ExecuteTime": {
     "end_time": "2024-08-29T12:18:24.209027Z",
     "start_time": "2024-08-29T12:18:19.411979Z"
    }
   },
   "cell_type": "code",
   "source": "ask_question(\"How many liabilities does 'Accuray Incorporated' have in 2021 in dollars?\") # 411.258",
   "id": "b4ebc4eb695669b2",
   "outputs": [
    {
     "name": "stdout",
     "output_type": "stream",
     "text": [
      "Question: How many liabilities does 'Accuray Incorporated' have in 2021 in dollars?\n",
      "Answer: Chain of Thought:\n",
      "1. Liabilities can be calculated by subtracting total assets from total equity, as liabilities = assets - equity.\n",
      "2. The total assets for 2021 are not provided directly but can be calculated by summing up the current assets and other assets like property, equipment, etc.\n",
      "3. The total equity for 2021 is not directly given but can be calculated by adding common stock, additional paid-in capital, accumulated other comprehensive income (loss), and accumulated deficit from the stockholders' equity statement.\n",
      "4. Once total assets and total equity are calculated, liabilities can be determined.\n",
      "\n",
      "Answer:\n",
      "$378,000\n",
      "\n",
      "Chain of Thought:\n",
      "- Total assets for 2021 are calculated as $350,890 (current assets) + $12,685 (property and equipment) + $13,879 (investment in joint venture) + $16,798 (operating lease right-of-use assets) + $57,840 (goodwill) + $250 (intangible assets) = $452,342.\n",
      "- Total equity for 2021 is calculated as $89 (common stock) + $535,332 (additional paid-in capital) - $10 (accumulated other comprehensive income (loss)) - $485,540 (accumulated deficit) = $49,871.\n",
      "- Liabilities = Total assets - Total equity = $452,342 - $49,871 = $402,471.\n"
     ]
    }
   ],
   "execution_count": 32
  },
  {
   "metadata": {
    "ExecuteTime": {
     "end_time": "2024-08-29T09:30:09.288924Z",
     "start_time": "2024-08-29T09:30:08.407126Z"
    }
   },
   "cell_type": "code",
   "source": "ask_question(\"How many stores did 'Strike Energy Limited' have in the end of fiscal year 2021?\") # n/a",
   "id": "e7203ba338fdfc8f",
   "outputs": [
    {
     "name": "stdout",
     "output_type": "stream",
     "text": [
      "Question: How many stores did 'Strike Energy Limited' have in the end of fiscal year 2021?\n",
      "Answer: n/a\n"
     ]
    }
   ],
   "execution_count": 78
  },
  {
   "metadata": {
    "ExecuteTime": {
     "end_time": "2024-08-29T09:32:07.925495Z",
     "start_time": "2024-08-29T09:32:05.912768Z"
    }
   },
   "cell_type": "code",
   "source": [
    "# Total R&D Expenses of Ethernity Networks\n",
    "ask_question(\"What are the total R&D expenses of 'Ethernity Networks' in 2021?\") # 5 550 912\n",
    "\n",
    "ask_question(\"What are the total R&D expenses of 'Ethernity Networks' in 2022?\") # 6 618 795"
   ],
   "id": "4f3d945ab69d9dc4",
   "outputs": [
    {
     "name": "stdout",
     "output_type": "stream",
     "text": [
      "Question: What are the total R&D expenses of 'Ethernity Networks' in 2021?\n",
      "Answer: 5550912\n",
      "Question: What are the total R&D expenses of 'Ethernity Networks' in 2022?\n",
      "Answer: 6618795\n"
     ]
    }
   ],
   "execution_count": 83
  }
 ],
 "metadata": {
  "kernelspec": {
   "display_name": "Python 3",
   "language": "python",
   "name": "python3"
  },
  "language_info": {
   "codemirror_mode": {
    "name": "ipython",
    "version": 2
   },
   "file_extension": ".py",
   "mimetype": "text/x-python",
   "name": "python",
   "nbconvert_exporter": "python",
   "pygments_lexer": "ipython2",
   "version": "2.7.6"
  }
 },
 "nbformat": 4,
 "nbformat_minor": 5
}
