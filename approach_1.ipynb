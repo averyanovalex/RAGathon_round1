{
 "cells": [
  {
   "cell_type": "code",
   "id": "initial_id",
   "metadata": {
    "collapsed": true,
    "ExecuteTime": {
     "end_time": "2024-08-29T16:24:48.538113Z",
     "start_time": "2024-08-29T16:24:46.124058Z"
    }
   },
   "source": [
    "import os\n",
    "import PyPDF2\n",
    "import markdown2\n",
    "import json\n",
    "import pickle\n",
    "import pandas as pd\n",
    "\n",
    "from docx import Document as DocxDocument\n",
    "from pptx import Presentation\n",
    "\n",
    "from langchain_core.documents import Document\n",
    "from langchain.text_splitter import RecursiveCharacterTextSplitter\n",
    "from langchain_community.vectorstores import FAISS\n",
    "from langchain_openai.embeddings.base import OpenAIEmbeddings\n",
    "\n",
    "from langchain.chains import create_retrieval_chain\n",
    "from langchain.chains.combine_documents import create_stuff_documents_chain\n",
    "from langchain_core.prompts import ChatPromptTemplate\n",
    "from langchain_openai import ChatOpenAI\n",
    "\n",
    "# Rinats well documented sample project\n",
    "# https://github.com/trustbit/private-poc-fmw-content-generator/tree/main/backend-and-kb/src/fmw\n",
    "\n",
    "from dotenv import load_dotenv\n",
    "\n",
    "load_dotenv()"
   ],
   "outputs": [
    {
     "data": {
      "text/plain": [
       "True"
      ]
     },
     "execution_count": 1,
     "metadata": {},
     "output_type": "execute_result"
    }
   ],
   "execution_count": 1
  },
  {
   "metadata": {},
   "cell_type": "markdown",
   "source": "## Get Companies",
   "id": "26b7a2f7be3b6375"
  },
  {
   "metadata": {
    "ExecuteTime": {
     "end_time": "2024-08-29T16:25:23.775856Z",
     "start_time": "2024-08-29T16:25:23.769462Z"
    }
   },
   "cell_type": "code",
   "source": "SAMPLES_PATH = r\"C:\\Users\\felix.krause\\code\\trustbit\\enterprise-rag-challenge\\samples\"",
   "id": "91e93d8a358bfc66",
   "outputs": [],
   "execution_count": 4
  },
  {
   "metadata": {
    "ExecuteTime": {
     "end_time": "2024-08-29T16:25:23.958648Z",
     "start_time": "2024-08-29T16:25:23.933474Z"
    }
   },
   "cell_type": "code",
   "source": [
    "df = pd.read_csv(\"data/dataset.csv\") \n",
    "df"
   ],
   "id": "187267224fd86013",
   "outputs": [
    {
     "data": {
      "text/plain": [
       "                                          sha1        date  \\\n",
       "0     ce9e5024041b2ece2bafa2a9d9516bb174ee8949  2022-10-31   \n",
       "1     f71415f9ca0cff70e5fa193616b6197f361130ed  2023-02-21   \n",
       "2     4a9d2b853e05970776121a810460f0962a18c5a1     2022-XX   \n",
       "3     f973dd219c534accb0d4e72d8e12f51284d48d10  2023-01-01   \n",
       "4     4e27f4c3402c657d548760cb3a164b036cefaabb  2022-12-31   \n",
       "...                                        ...         ...   \n",
       "7490  a2afcd8165a6dbd0058682680b65d3638a5800eb  2023-02-02   \n",
       "7491  215df84494756bd4feebc973657835ef7f14ee16  2022-12-31   \n",
       "7492  20fb970d8705289e835b408c575351295ac16f5f  2022-09-30   \n",
       "7493  c7f3a8c0a38c756438950ce3085076adb4241a32  2022-01-01   \n",
       "7494  e26bd02b24e45a09c4b860c4763b542deba6f14a  2022-12-31   \n",
       "\n",
       "                                     name      size  \n",
       "0                 Anixa Biosciences, Inc.   3996701  \n",
       "1     Maravai LifeSciences Holdings, Inc.   4033642  \n",
       "2                         KLA Corporation   1181894  \n",
       "3                          Ameresco, Inc.  10648267  \n",
       "4                Battery Minerals Limited   3650701  \n",
       "...                                   ...       ...  \n",
       "7490               Arrow Electronics, Inc    922750  \n",
       "7491                             Synertec  10474497  \n",
       "7492                      TE Connectivity   5753097  \n",
       "7493                            OTC_ADDDF  12603054  \n",
       "7494                    Taylor Wimpey plc   7845106  \n",
       "\n",
       "[7495 rows x 4 columns]"
      ],
      "text/html": [
       "<div>\n",
       "<style scoped>\n",
       "    .dataframe tbody tr th:only-of-type {\n",
       "        vertical-align: middle;\n",
       "    }\n",
       "\n",
       "    .dataframe tbody tr th {\n",
       "        vertical-align: top;\n",
       "    }\n",
       "\n",
       "    .dataframe thead th {\n",
       "        text-align: right;\n",
       "    }\n",
       "</style>\n",
       "<table border=\"1\" class=\"dataframe\">\n",
       "  <thead>\n",
       "    <tr style=\"text-align: right;\">\n",
       "      <th></th>\n",
       "      <th>sha1</th>\n",
       "      <th>date</th>\n",
       "      <th>name</th>\n",
       "      <th>size</th>\n",
       "    </tr>\n",
       "  </thead>\n",
       "  <tbody>\n",
       "    <tr>\n",
       "      <th>0</th>\n",
       "      <td>ce9e5024041b2ece2bafa2a9d9516bb174ee8949</td>\n",
       "      <td>2022-10-31</td>\n",
       "      <td>Anixa Biosciences, Inc.</td>\n",
       "      <td>3996701</td>\n",
       "    </tr>\n",
       "    <tr>\n",
       "      <th>1</th>\n",
       "      <td>f71415f9ca0cff70e5fa193616b6197f361130ed</td>\n",
       "      <td>2023-02-21</td>\n",
       "      <td>Maravai LifeSciences Holdings, Inc.</td>\n",
       "      <td>4033642</td>\n",
       "    </tr>\n",
       "    <tr>\n",
       "      <th>2</th>\n",
       "      <td>4a9d2b853e05970776121a810460f0962a18c5a1</td>\n",
       "      <td>2022-XX</td>\n",
       "      <td>KLA Corporation</td>\n",
       "      <td>1181894</td>\n",
       "    </tr>\n",
       "    <tr>\n",
       "      <th>3</th>\n",
       "      <td>f973dd219c534accb0d4e72d8e12f51284d48d10</td>\n",
       "      <td>2023-01-01</td>\n",
       "      <td>Ameresco, Inc.</td>\n",
       "      <td>10648267</td>\n",
       "    </tr>\n",
       "    <tr>\n",
       "      <th>4</th>\n",
       "      <td>4e27f4c3402c657d548760cb3a164b036cefaabb</td>\n",
       "      <td>2022-12-31</td>\n",
       "      <td>Battery Minerals Limited</td>\n",
       "      <td>3650701</td>\n",
       "    </tr>\n",
       "    <tr>\n",
       "      <th>...</th>\n",
       "      <td>...</td>\n",
       "      <td>...</td>\n",
       "      <td>...</td>\n",
       "      <td>...</td>\n",
       "    </tr>\n",
       "    <tr>\n",
       "      <th>7490</th>\n",
       "      <td>a2afcd8165a6dbd0058682680b65d3638a5800eb</td>\n",
       "      <td>2023-02-02</td>\n",
       "      <td>Arrow Electronics, Inc</td>\n",
       "      <td>922750</td>\n",
       "    </tr>\n",
       "    <tr>\n",
       "      <th>7491</th>\n",
       "      <td>215df84494756bd4feebc973657835ef7f14ee16</td>\n",
       "      <td>2022-12-31</td>\n",
       "      <td>Synertec</td>\n",
       "      <td>10474497</td>\n",
       "    </tr>\n",
       "    <tr>\n",
       "      <th>7492</th>\n",
       "      <td>20fb970d8705289e835b408c575351295ac16f5f</td>\n",
       "      <td>2022-09-30</td>\n",
       "      <td>TE Connectivity</td>\n",
       "      <td>5753097</td>\n",
       "    </tr>\n",
       "    <tr>\n",
       "      <th>7493</th>\n",
       "      <td>c7f3a8c0a38c756438950ce3085076adb4241a32</td>\n",
       "      <td>2022-01-01</td>\n",
       "      <td>OTC_ADDDF</td>\n",
       "      <td>12603054</td>\n",
       "    </tr>\n",
       "    <tr>\n",
       "      <th>7494</th>\n",
       "      <td>e26bd02b24e45a09c4b860c4763b542deba6f14a</td>\n",
       "      <td>2022-12-31</td>\n",
       "      <td>Taylor Wimpey plc</td>\n",
       "      <td>7845106</td>\n",
       "    </tr>\n",
       "  </tbody>\n",
       "</table>\n",
       "<p>7495 rows × 4 columns</p>\n",
       "</div>"
      ]
     },
     "execution_count": 5,
     "metadata": {},
     "output_type": "execute_result"
    }
   ],
   "execution_count": 5
  },
  {
   "metadata": {
    "ExecuteTime": {
     "end_time": "2024-08-29T16:25:24.208874Z",
     "start_time": "2024-08-29T16:25:24.183084Z"
    }
   },
   "cell_type": "code",
   "source": [
    "# load all file names in the folder\n",
    "sha1_dict_full = df.set_index(\"sha1\").to_dict()[\"name\"]\n",
    "\n",
    "included_companies = []\n",
    "\n",
    "for file in os.listdir(SAMPLES_PATH):\n",
    "    file = file[:-4]\n",
    "    try:\n",
    "        included_companies.append(sha1_dict_full[file])\n",
    "    except KeyError:\n",
    "        print(file)"
   ],
   "id": "2d83133d4cc076ae",
   "outputs": [
    {
     "name": "stdout",
     "output_type": "stream",
     "text": [
      "questions.\n"
     ]
    }
   ],
   "execution_count": 6
  },
  {
   "metadata": {
    "ExecuteTime": {
     "end_time": "2024-08-29T16:25:24.425173Z",
     "start_time": "2024-08-29T16:25:24.409285Z"
    }
   },
   "cell_type": "code",
   "source": "included_companies",
   "id": "eed227e797331902",
   "outputs": [
    {
     "data": {
      "text/plain": [
       "['Global Medical REIT Inc.',\n",
       " 'Zegona Communications plc',\n",
       " 'Calyxt, Inc.',\n",
       " 'TD SYNNEX',\n",
       " 'Eurocell PLC',\n",
       " 'Sandwell Aquatics Centre',\n",
       " 'Mercurity Fintech Holding Inc.',\n",
       " 'Motus GI Holdings, Inc.',\n",
       " 'Limbach Holdings, Inc.',\n",
       " 'Strike Energy Limited',\n",
       " 'Platform Technology',\n",
       " 'VENUS METALS CORPORATION LIMITED',\n",
       " 'NICE',\n",
       " 'Nykredit',\n",
       " 'Air Products',\n",
       " 'Accuray Incorporated',\n",
       " 'Kooth Plc',\n",
       " 'Ethernity Networks Ltd',\n",
       " 'Canadian Banc Corp.',\n",
       " 'EMT']"
      ]
     },
     "execution_count": 7,
     "metadata": {},
     "output_type": "execute_result"
    }
   ],
   "execution_count": 7
  },
  {
   "metadata": {
    "ExecuteTime": {
     "end_time": "2024-08-29T16:25:25.077592Z",
     "start_time": "2024-08-29T16:25:25.061877Z"
    }
   },
   "cell_type": "code",
   "source": [
    "# Create sample for development\n",
    "# COMPANIES = [\"Ethernity Networks Ltd\", \"Limbach Holdings, Inc.\", \"Accuray Incorporated\"]\n",
    "COMPANIES = included_companies\n",
    "\n",
    "if COMPANIES:\n",
    "    df_sample = df[df.name.isin(COMPANIES)]\n",
    "else:\n",
    "    df_sample = df.copy()\n",
    "    \n",
    "sha1_dict = df_sample.set_index(\"name\").to_dict()[\"sha1\"]"
   ],
   "id": "8f6e3574239a7eba",
   "outputs": [],
   "execution_count": 8
  },
  {
   "metadata": {
    "ExecuteTime": {
     "end_time": "2024-08-29T16:25:26.895227Z",
     "start_time": "2024-08-29T16:25:26.863935Z"
    }
   },
   "cell_type": "code",
   "source": "df_sample",
   "id": "c5950769dc2ca5d1",
   "outputs": [
    {
     "data": {
      "text/plain": [
       "                                          sha1        date  \\\n",
       "267   d81bbc64a4160b9946fea7a895f80e6201f52f27  2022-11-23   \n",
       "981   608c5097dfc6e83505fd2259ad862dcec11a3f96  2022-12-31   \n",
       "1075  3696c1b29566acc1eafc704ee5737fb3ae6f3d1d  2023-01-01   \n",
       "1183  99be213e4e689294ebae809bfa6a1b5024076286  2022-01-01   \n",
       "1324  71b04e0248ecf758990a0ab77bd69344be63bcf4  2023-03-27   \n",
       "1500  6b79f1c1de9d0e39a4576dcd4585849b9465b402  2023-04-05   \n",
       "2633  40b5cfe0d7bbf59e186492bfbe1b5002d44af332  2023-03-01   \n",
       "2838  faf8d7d79152d61279eda1cfb58b8236ce2f82fa  2022-06-30   \n",
       "3270  4b525836a5d7cb75489f6d93a3b1cf2b8f039bf2  2022-10-01   \n",
       "4263  ea0757d27fa67cd347d9f046b939a911f5c9a08d  2022-01-01   \n",
       "5223  9e703e719d94af786af5511c823ff86e9f04c070  2022-01-01   \n",
       "5507  dfb1e552b18e116105d9125d9becafa443950e97  2022-01-01   \n",
       "5801  e51b7204b91cbe7709bd3218e7d2d0c2b8dbb438  2023-01-01   \n",
       "6005  bd5041c3e6909d92a7a88e4fb10dd8651df33228  2022-12-31   \n",
       "6442  58a5f9f5c83159e63602b0b1dd27c27fb945c0e9  2022-01-01   \n",
       "6729  9ff4e041732c9841d5423e6ea0bbd6a0320df9ff  2022-01-01   \n",
       "6859  dd78f748262b8ffa62de6484143ff55b38af24c7  2022-06-30   \n",
       "6915  d734bac4a4815e616d84083ad4d3844655321215  2022-12-31   \n",
       "7245  9ae3bb21564a5098c4b4d6450655c22eff85deae  2022-06-30   \n",
       "7472  053b7cb83115789346e2a9efc7e2e640851653ff  2023-02-24   \n",
       "\n",
       "                                  name      size  \n",
       "267                       Air Products   4889969  \n",
       "981           Sandwell Aquatics Centre   2661906  \n",
       "1075         Zegona Communications plc   1481844  \n",
       "1183            Limbach Holdings, Inc.   2023552  \n",
       "1324           Motus GI Holdings, Inc.   7725729  \n",
       "1500    Mercurity Fintech Holding Inc.   1767320  \n",
       "2633                      Calyxt, Inc.    694201  \n",
       "2838                               EMT   1360293  \n",
       "3270                         TD SYNNEX   1902884  \n",
       "4263               Canadian Banc Corp.    498408  \n",
       "5223               Platform Technology   5538800  \n",
       "5507                         Kooth Plc   7290070  \n",
       "5801            Ethernity Networks Ltd   1180978  \n",
       "6005                              NICE   2327149  \n",
       "6442                      Eurocell PLC   6725760  \n",
       "6729  VENUS METALS CORPORATION LIMITED  10424234  \n",
       "6859              Accuray Incorporated   3317389  \n",
       "6915                          Nykredit   7217011  \n",
       "7245             Strike Energy Limited  21906556  \n",
       "7472          Global Medical REIT Inc.   7559733  "
      ],
      "text/html": [
       "<div>\n",
       "<style scoped>\n",
       "    .dataframe tbody tr th:only-of-type {\n",
       "        vertical-align: middle;\n",
       "    }\n",
       "\n",
       "    .dataframe tbody tr th {\n",
       "        vertical-align: top;\n",
       "    }\n",
       "\n",
       "    .dataframe thead th {\n",
       "        text-align: right;\n",
       "    }\n",
       "</style>\n",
       "<table border=\"1\" class=\"dataframe\">\n",
       "  <thead>\n",
       "    <tr style=\"text-align: right;\">\n",
       "      <th></th>\n",
       "      <th>sha1</th>\n",
       "      <th>date</th>\n",
       "      <th>name</th>\n",
       "      <th>size</th>\n",
       "    </tr>\n",
       "  </thead>\n",
       "  <tbody>\n",
       "    <tr>\n",
       "      <th>267</th>\n",
       "      <td>d81bbc64a4160b9946fea7a895f80e6201f52f27</td>\n",
       "      <td>2022-11-23</td>\n",
       "      <td>Air Products</td>\n",
       "      <td>4889969</td>\n",
       "    </tr>\n",
       "    <tr>\n",
       "      <th>981</th>\n",
       "      <td>608c5097dfc6e83505fd2259ad862dcec11a3f96</td>\n",
       "      <td>2022-12-31</td>\n",
       "      <td>Sandwell Aquatics Centre</td>\n",
       "      <td>2661906</td>\n",
       "    </tr>\n",
       "    <tr>\n",
       "      <th>1075</th>\n",
       "      <td>3696c1b29566acc1eafc704ee5737fb3ae6f3d1d</td>\n",
       "      <td>2023-01-01</td>\n",
       "      <td>Zegona Communications plc</td>\n",
       "      <td>1481844</td>\n",
       "    </tr>\n",
       "    <tr>\n",
       "      <th>1183</th>\n",
       "      <td>99be213e4e689294ebae809bfa6a1b5024076286</td>\n",
       "      <td>2022-01-01</td>\n",
       "      <td>Limbach Holdings, Inc.</td>\n",
       "      <td>2023552</td>\n",
       "    </tr>\n",
       "    <tr>\n",
       "      <th>1324</th>\n",
       "      <td>71b04e0248ecf758990a0ab77bd69344be63bcf4</td>\n",
       "      <td>2023-03-27</td>\n",
       "      <td>Motus GI Holdings, Inc.</td>\n",
       "      <td>7725729</td>\n",
       "    </tr>\n",
       "    <tr>\n",
       "      <th>1500</th>\n",
       "      <td>6b79f1c1de9d0e39a4576dcd4585849b9465b402</td>\n",
       "      <td>2023-04-05</td>\n",
       "      <td>Mercurity Fintech Holding Inc.</td>\n",
       "      <td>1767320</td>\n",
       "    </tr>\n",
       "    <tr>\n",
       "      <th>2633</th>\n",
       "      <td>40b5cfe0d7bbf59e186492bfbe1b5002d44af332</td>\n",
       "      <td>2023-03-01</td>\n",
       "      <td>Calyxt, Inc.</td>\n",
       "      <td>694201</td>\n",
       "    </tr>\n",
       "    <tr>\n",
       "      <th>2838</th>\n",
       "      <td>faf8d7d79152d61279eda1cfb58b8236ce2f82fa</td>\n",
       "      <td>2022-06-30</td>\n",
       "      <td>EMT</td>\n",
       "      <td>1360293</td>\n",
       "    </tr>\n",
       "    <tr>\n",
       "      <th>3270</th>\n",
       "      <td>4b525836a5d7cb75489f6d93a3b1cf2b8f039bf2</td>\n",
       "      <td>2022-10-01</td>\n",
       "      <td>TD SYNNEX</td>\n",
       "      <td>1902884</td>\n",
       "    </tr>\n",
       "    <tr>\n",
       "      <th>4263</th>\n",
       "      <td>ea0757d27fa67cd347d9f046b939a911f5c9a08d</td>\n",
       "      <td>2022-01-01</td>\n",
       "      <td>Canadian Banc Corp.</td>\n",
       "      <td>498408</td>\n",
       "    </tr>\n",
       "    <tr>\n",
       "      <th>5223</th>\n",
       "      <td>9e703e719d94af786af5511c823ff86e9f04c070</td>\n",
       "      <td>2022-01-01</td>\n",
       "      <td>Platform Technology</td>\n",
       "      <td>5538800</td>\n",
       "    </tr>\n",
       "    <tr>\n",
       "      <th>5507</th>\n",
       "      <td>dfb1e552b18e116105d9125d9becafa443950e97</td>\n",
       "      <td>2022-01-01</td>\n",
       "      <td>Kooth Plc</td>\n",
       "      <td>7290070</td>\n",
       "    </tr>\n",
       "    <tr>\n",
       "      <th>5801</th>\n",
       "      <td>e51b7204b91cbe7709bd3218e7d2d0c2b8dbb438</td>\n",
       "      <td>2023-01-01</td>\n",
       "      <td>Ethernity Networks Ltd</td>\n",
       "      <td>1180978</td>\n",
       "    </tr>\n",
       "    <tr>\n",
       "      <th>6005</th>\n",
       "      <td>bd5041c3e6909d92a7a88e4fb10dd8651df33228</td>\n",
       "      <td>2022-12-31</td>\n",
       "      <td>NICE</td>\n",
       "      <td>2327149</td>\n",
       "    </tr>\n",
       "    <tr>\n",
       "      <th>6442</th>\n",
       "      <td>58a5f9f5c83159e63602b0b1dd27c27fb945c0e9</td>\n",
       "      <td>2022-01-01</td>\n",
       "      <td>Eurocell PLC</td>\n",
       "      <td>6725760</td>\n",
       "    </tr>\n",
       "    <tr>\n",
       "      <th>6729</th>\n",
       "      <td>9ff4e041732c9841d5423e6ea0bbd6a0320df9ff</td>\n",
       "      <td>2022-01-01</td>\n",
       "      <td>VENUS METALS CORPORATION LIMITED</td>\n",
       "      <td>10424234</td>\n",
       "    </tr>\n",
       "    <tr>\n",
       "      <th>6859</th>\n",
       "      <td>dd78f748262b8ffa62de6484143ff55b38af24c7</td>\n",
       "      <td>2022-06-30</td>\n",
       "      <td>Accuray Incorporated</td>\n",
       "      <td>3317389</td>\n",
       "    </tr>\n",
       "    <tr>\n",
       "      <th>6915</th>\n",
       "      <td>d734bac4a4815e616d84083ad4d3844655321215</td>\n",
       "      <td>2022-12-31</td>\n",
       "      <td>Nykredit</td>\n",
       "      <td>7217011</td>\n",
       "    </tr>\n",
       "    <tr>\n",
       "      <th>7245</th>\n",
       "      <td>9ae3bb21564a5098c4b4d6450655c22eff85deae</td>\n",
       "      <td>2022-06-30</td>\n",
       "      <td>Strike Energy Limited</td>\n",
       "      <td>21906556</td>\n",
       "    </tr>\n",
       "    <tr>\n",
       "      <th>7472</th>\n",
       "      <td>053b7cb83115789346e2a9efc7e2e640851653ff</td>\n",
       "      <td>2023-02-24</td>\n",
       "      <td>Global Medical REIT Inc.</td>\n",
       "      <td>7559733</td>\n",
       "    </tr>\n",
       "  </tbody>\n",
       "</table>\n",
       "</div>"
      ]
     },
     "execution_count": 9,
     "metadata": {},
     "output_type": "execute_result"
    }
   ],
   "execution_count": 9
  },
  {
   "metadata": {},
   "cell_type": "markdown",
   "source": [
    "## Get company name from user query\n",
    "\n",
    "TODO could be more sophisticated"
   ],
   "id": "ca2440fc5b817345"
  },
  {
   "metadata": {
    "ExecuteTime": {
     "end_time": "2024-08-29T16:25:29.086264Z",
     "start_time": "2024-08-29T16:25:29.070200Z"
    }
   },
   "cell_type": "code",
   "source": [
    "import re\n",
    "from fuzzywuzzy import fuzz\n",
    "\n",
    "def normalize_name(name):\n",
    "    # Normalize by removing extra spaces and converting to lowercase\n",
    "    return re.sub(r'\\s+', ' ', name.strip().lower())\n",
    "\n",
    "def fuzzy_match(companies, input_string, threshold=85):\n",
    "    matched_companies = []\n",
    "    norm_input = normalize_name(input_string)\n",
    "    \n",
    "    for company in companies:\n",
    "        norm_company = normalize_name(company)\n",
    "        prev_token = \"\"\n",
    "        \n",
    "        # Fuzzy match each token\n",
    "        for curr_token in norm_input.split():\n",
    "            token = prev_token + \" \" + curr_token\n",
    "            \n",
    "            match_score = fuzz.ratio(norm_company, token)\n",
    "            prev_token = curr_token\n",
    "            \n",
    "            if match_score >= threshold:\n",
    "                matched_companies.append(company)\n",
    "                break  # Stop once a match is found for this company\n",
    "            \n",
    "    return matched_companies\n",
    "\n",
    "\n",
    "def find_exact_matches(companies, input_string):\n",
    "    # normalized_input = normalize_name(input_string)\n",
    "    \n",
    "    matched_companies = []\n",
    "    \n",
    "    for company in companies:\n",
    "        if company in input_string:\n",
    "            matched_companies.append(company)\n",
    "    \n",
    "    return matched_companies\n",
    "\n",
    "\n",
    "def find_companies(input_string):\n",
    "    # Wrapper to use later and allow easy function change\n",
    "    return find_exact_matches(df.name, input_string)\n",
    "\n",
    "\n",
    "input_string = (\"limbach holding inc and ethernity networks buys the accuracy incorporated, ESEA, Five9, Inc.\")\n",
    "\n",
    "matches = find_exact_matches(df.name, input_string)\n",
    "print(matches)"
   ],
   "id": "99709072b0e51f37",
   "outputs": [
    {
     "name": "stdout",
     "output_type": "stream",
     "text": [
      "['EA', 'ESEA', 'Five9, Inc.']\n"
     ]
    },
    {
     "name": "stderr",
     "output_type": "stream",
     "text": [
      "C:\\Users\\felix.krause\\code\\trustbit\\llm_experiments\\venv\\lib\\site-packages\\fuzzywuzzy\\fuzz.py:11: UserWarning: Using slow pure-python SequenceMatcher. Install python-Levenshtein to remove this warning\n",
      "  warnings.warn('Using slow pure-python SequenceMatcher. Install python-Levenshtein to remove this warning')\n"
     ]
    }
   ],
   "execution_count": 10
  },
  {
   "metadata": {},
   "cell_type": "markdown",
   "source": "## Load LLM data",
   "id": "bf301d66795e2b42"
  },
  {
   "cell_type": "code",
   "source": [
    "from llama_parse import LlamaParse\n",
    "\n",
    "parser = LlamaParse(\n",
    "    result_type=\"markdown\",  # \"markdown\" and \"text\" are available\n",
    "    verbose=True\n",
    ")\n",
    "\n",
    "# Function to load text from different file types\n",
    "def load_text_from_file(file_path):\n",
    "    _, file_extension = os.path.splitext(file_path)\n",
    "    text = \"\"\n",
    "    \n",
    "    if file_extension == \".pdf\":\n",
    "        # TODO https://www.reddit.com/r/LangChain/comments/18yxacm/extracting_data_from_pdf_containing_complex_tables/\n",
    "        with open(file_path, 'rb') as f:\n",
    "            reader = PyPDF2.PdfReader(f, strict=False)\n",
    "            for page in reader.pages:\n",
    "                text += page.extract_text() + \"\\n\"\n",
    "    else:\n",
    "        pass\n",
    "    \n",
    "    return text\n",
    "\n",
    "\n",
    "# Function to load documents from a folder\n",
    "def load_documents_from_folder(folder_path, companies=[]):\n",
    "    documents = []\n",
    "    for root, _, files in os.walk(folder_path):\n",
    "        for file in files:\n",
    "            if file[:-4] in companies: #or len(companies) == 0:\n",
    "                print(\"Loading\", file)\n",
    "                file_path = os.path.join(root, file)\n",
    "\n",
    "                text = load_text_from_file(file_path)\n",
    "                if text:\n",
    "                    documents.append(Document(page_content=text, metadata={\"source\": file_path}))\n",
    "    return documents"
   ],
   "metadata": {
    "collapsed": false,
    "ExecuteTime": {
     "end_time": "2024-08-29T16:25:32.815894Z",
     "start_time": "2024-08-29T16:25:30.717218Z"
    }
   },
   "id": "a78b2e35a4794cc2",
   "outputs": [],
   "execution_count": 11
  },
  {
   "metadata": {
    "ExecuteTime": {
     "end_time": "2024-08-29T16:25:32.831444Z",
     "start_time": "2024-08-29T16:25:32.815894Z"
    }
   },
   "cell_type": "code",
   "source": [
    "# Could try LLama approach\n",
    "# TODO https://medium.com/the-ai-forum/rag-on-complex-pdf-using-llamaparse-langchain-and-groq-5b132bd1f9f3\n",
    "# doc = parser.load_data(os.path.join(FOLDER_PATH, \"e51b7204b91cbe7709bd3218e7d2d0c2b8dbb438.pdf\"))\n",
    "# index = VectorStoreIndex.from_documents(doc)"
   ],
   "id": "9cb153b0cfd5cbee",
   "outputs": [],
   "execution_count": 12
  },
  {
   "metadata": {},
   "cell_type": "markdown",
   "source": "## Try to detect tables from pdf",
   "id": "f51ab4663aeeda70"
  },
  {
   "metadata": {
    "ExecuteTime": {
     "end_time": "2024-08-29T13:37:18.895314Z",
     "start_time": "2024-08-29T13:35:57.735226Z"
    }
   },
   "cell_type": "code",
   "source": [
    "\"\"\"\n",
    "import camelot\n",
    "\n",
    "# Extract tables from a PDF file\n",
    "tables = camelot.read_pdf(os.path.join(FOLDER_PATH, \"e51b7204b91cbe7709bd3218e7d2d0c2b8dbb438.pdf\"), pages=\"all\")\n",
    "\n",
    "# Convert the first table to a DataFrame\n",
    "df = tables[0].df\n",
    "\n",
    "# Save the DataFrame as a CSV file\n",
    "tables[0]\n",
    "\"\"\""
   ],
   "id": "f1456a9650d4528f",
   "outputs": [
    {
     "name": "stderr",
     "output_type": "stream",
     "text": [
      "C:\\Users\\felix.krause\\code\\trustbit\\llm_experiments\\venv\\lib\\site-packages\\camelot\\parsers\\lattice.py:397: UserWarning: No tables found on page-2\n",
      "  warnings.warn(\n",
      "C:\\Users\\felix.krause\\code\\trustbit\\llm_experiments\\venv\\lib\\site-packages\\camelot\\parsers\\lattice.py:397: UserWarning: No tables found on page-79\n",
      "  warnings.warn(\n"
     ]
    },
    {
     "data": {
      "text/plain": [
       "<Table shape=(1, 1)>"
      ]
     },
     "execution_count": 8,
     "metadata": {},
     "output_type": "execute_result"
    }
   ],
   "execution_count": 8
  },
  {
   "metadata": {
    "ExecuteTime": {
     "end_time": "2024-08-29T14:00:53.324190Z",
     "start_time": "2024-08-29T14:00:53.316417Z"
    }
   },
   "cell_type": "code",
   "source": "# tables[40].df",
   "id": "12bdfc9101258f90",
   "outputs": [
    {
     "data": {
      "text/plain": [
       "                                        0 1  \\\n",
       "0  STRATEGIC REPORT\\nCORPORATE GOVERNANCE     \n",
       "\n",
       "                                            2       3  \n",
       "0  FINANCIAL STATEMENTS\\nFINANCIAL STATEMENTS  73\\n73  "
      ],
      "text/html": [
       "<div>\n",
       "<style scoped>\n",
       "    .dataframe tbody tr th:only-of-type {\n",
       "        vertical-align: middle;\n",
       "    }\n",
       "\n",
       "    .dataframe tbody tr th {\n",
       "        vertical-align: top;\n",
       "    }\n",
       "\n",
       "    .dataframe thead th {\n",
       "        text-align: right;\n",
       "    }\n",
       "</style>\n",
       "<table border=\"1\" class=\"dataframe\">\n",
       "  <thead>\n",
       "    <tr style=\"text-align: right;\">\n",
       "      <th></th>\n",
       "      <th>0</th>\n",
       "      <th>1</th>\n",
       "      <th>2</th>\n",
       "      <th>3</th>\n",
       "    </tr>\n",
       "  </thead>\n",
       "  <tbody>\n",
       "    <tr>\n",
       "      <th>0</th>\n",
       "      <td>STRATEGIC REPORT\\nCORPORATE GOVERNANCE</td>\n",
       "      <td></td>\n",
       "      <td>FINANCIAL STATEMENTS\\nFINANCIAL STATEMENTS</td>\n",
       "      <td>73\\n73</td>\n",
       "    </tr>\n",
       "  </tbody>\n",
       "</table>\n",
       "</div>"
      ]
     },
     "execution_count": 47,
     "metadata": {},
     "output_type": "execute_result"
    }
   ],
   "execution_count": 47
  },
  {
   "metadata": {},
   "cell_type": "markdown",
   "source": "## Build retriever per company",
   "id": "695aebfba71c14c4"
  },
  {
   "metadata": {
    "ExecuteTime": {
     "end_time": "2024-08-29T16:25:37.647220Z",
     "start_time": "2024-08-29T16:25:37.629926Z"
    }
   },
   "cell_type": "code",
   "source": [
    "def get_store_name(string):\n",
    "    string = string.lower()\n",
    "    return string.replace(\" \", \"_\").replace(\",\", \"\").replace(\".\", \"\").replace(\"'\", \"\")"
   ],
   "id": "f52dd0fd4a43609b",
   "outputs": [],
   "execution_count": 13
  },
  {
   "metadata": {
    "ExecuteTime": {
     "end_time": "2024-08-29T16:25:53.905811Z",
     "start_time": "2024-08-29T16:25:38.120563Z"
    }
   },
   "cell_type": "code",
   "source": [
    "text_splitter = RecursiveCharacterTextSplitter(chunk_size=2000, chunk_overlap=200) # TODO more sophisticated\n",
    "\n",
    "for company in df_sample.name.to_list():\n",
    "    # check if file already exists\n",
    "    if os.path.exists(f\"dbs/{get_store_name(company)}.db\"):\n",
    "        print(\"Skipping\", company)\n",
    "        continue\n",
    "    \n",
    "    try:\n",
    "        company_docs = load_documents_from_folder(SAMPLES_PATH, [sha1_dict[company]])\n",
    "        \n",
    "        if not company_docs:\n",
    "            raise ValueError(f\"No documents found for company: {company}\")\n",
    "        \n",
    "        texts = text_splitter.split_documents(company_docs)\n",
    "        embeddings = OpenAIEmbeddings()\n",
    "        db = FAISS.from_documents(texts, embeddings)\n",
    "        \n",
    "        with open(f\"dbs/{get_store_name(company)}.db\", \"wb\") as f:\n",
    "            pickle.dump(db.serialize_to_bytes(), f)\n",
    "    except Exception as e:\n",
    "        raise e\n",
    "        print(f\"Error for company {company}: {e}\")"
   ],
   "id": "6e7385617622991b",
   "outputs": [
    {
     "name": "stdout",
     "output_type": "stream",
     "text": [
      "Skipping Air Products\n",
      "Skipping Sandwell Aquatics Centre\n",
      "Skipping Zegona Communications plc\n",
      "Skipping Limbach Holdings, Inc.\n",
      "Skipping Motus GI Holdings, Inc.\n",
      "Skipping Mercurity Fintech Holding Inc.\n",
      "Skipping Calyxt, Inc.\n",
      "Skipping EMT\n",
      "Skipping TD SYNNEX\n",
      "Skipping Canadian Banc Corp.\n",
      "Loading 9e703e719d94af786af5511c823ff86e9f04c070.pdf\n",
      "Skipping Kooth Plc\n",
      "Skipping Ethernity Networks Ltd\n",
      "Skipping NICE\n",
      "Skipping Eurocell PLC\n",
      "Skipping VENUS METALS CORPORATION LIMITED\n",
      "Skipping Accuray Incorporated\n",
      "Skipping Nykredit\n",
      "Loading 9ae3bb21564a5098c4b4d6450655c22eff85deae.pdf\n",
      "Skipping Global Medical REIT Inc.\n"
     ]
    }
   ],
   "execution_count": 14
  },
  {
   "metadata": {
    "ExecuteTime": {
     "end_time": "2024-08-29T16:26:45.210936Z",
     "start_time": "2024-08-29T16:26:45.198403Z"
    }
   },
   "cell_type": "code",
   "source": [
    "def get_retriever_dict(companies):\n",
    "    retriever_dict = {}\n",
    "    \n",
    "    for company in companies:\n",
    "        with open(f\"dbs/{get_store_name(company)}.db\", \"rb\") as f:\n",
    "            db_bytes = pickle.load(f)\n",
    "        \n",
    "        db_temp = FAISS.deserialize_from_bytes(db_bytes, OpenAIEmbeddings(),\n",
    "                                      allow_dangerous_deserialization=True)\n",
    "        \n",
    "        retriever_dict[company] = db_temp.as_retriever()\n",
    "    \n",
    "    return retriever_dict"
   ],
   "id": "2eea77c787b966e6",
   "outputs": [],
   "execution_count": 15
  },
  {
   "metadata": {
    "ExecuteTime": {
     "end_time": "2024-08-29T16:26:46.159061Z",
     "start_time": "2024-08-29T16:26:45.642332Z"
    }
   },
   "cell_type": "code",
   "source": "retriever_dict = get_retriever_dict(df_sample.name.to_list())",
   "id": "4fcc78bbd52d9ac8",
   "outputs": [],
   "execution_count": 16
  },
  {
   "metadata": {
    "ExecuteTime": {
     "end_time": "2024-08-29T16:31:34.495834Z",
     "start_time": "2024-08-29T16:31:34.476784Z"
    }
   },
   "cell_type": "code",
   "source": [
    "def get_context(query, company):\n",
    "    # TODO add sophisticated retriever for tables?\n",
    "    return retriever_dict[company].get_relevant_documents(query)"
   ],
   "id": "c12759f74d642592",
   "outputs": [],
   "execution_count": 25
  },
  {
   "metadata": {},
   "cell_type": "markdown",
   "source": "## Structured inference",
   "id": "3d6da0d2a417ed12"
  },
  {
   "cell_type": "code",
   "source": [
    "MODEL = \"gpt-4o-mini-2024-07-18\"\n",
    "\n",
    "# load system prompt from .md\n",
    "with open(\"instructions/answer_guidelines.md\") as f:\n",
    "    ANSWER_GUIDELINES = f.read()\n",
    "    \n",
    "with open(\"instructions/fin_info.md\") as f:\n",
    "    FIN_INFO = f.read()\n",
    "\n",
    "\n",
    "\n",
    "system_prompt = (\n",
    "    f\"You are an intelligent assistant tasked with answering questions based on specific company data provided in the context. \"\n",
    "    \n",
    "    f\"Please provide a chain of thought on how you arrived at your final answer in 'chain_of_thought', providing intermediary results. \\n\"\n",
    "    f\"Then give a final answer in 'answer' where you strictly adhere to the following guidelines: \\n {ANSWER_GUIDELINES} \\n \"\n",
    "    f\"Ensure that your answers are strictly compliant with these guidelines. Accuracy and adherence to the format are crucial. \\n\"\n",
    "    \n",
    "    # f\"Your primary task is to accurately identify and extract specific financial metrics, ratios, and counts, even when synonymous \"\n",
    "    # f\"or contextually similar terms are used. Here is some useful information about these: \\n {FIN_INFO}\"\n",
    ")"
   ],
   "metadata": {
    "collapsed": false,
    "ExecuteTime": {
     "end_time": "2024-08-29T16:26:50.029528Z",
     "start_time": "2024-08-29T16:26:50.012923Z"
    }
   },
   "id": "5839c1c42cf2a1cd",
   "outputs": [],
   "execution_count": 18
  },
  {
   "metadata": {
    "ExecuteTime": {
     "end_time": "2024-08-29T16:35:10.513652Z",
     "start_time": "2024-08-29T16:35:10.494657Z"
    }
   },
   "cell_type": "code",
   "source": [
    "from pydantic import BaseModel\n",
    "from openai import OpenAI\n",
    "\n",
    "client = OpenAI()\n",
    "\n",
    "class AnswerEvent(BaseModel):\n",
    "    chain_of_thought: str\n",
    "    answer: int | str\n",
    "\n",
    "\n",
    "def ask_company_expert(query, company):\n",
    "    print(\"# ASKING COMPANY EXPERT:\", company)\n",
    "    context = get_context(query, company)\n",
    "    completion = client.beta.chat.completions.parse(\n",
    "        model=MODEL,\n",
    "        messages=[\n",
    "            {\"role\": \"system\", \"content\": system_prompt + f\"Context: \\n {context}\"},\n",
    "            {\"role\": \"user\", \"content\": query},\n",
    "        ],\n",
    "        response_format=AnswerEvent,\n",
    "    )\n",
    "    \n",
    "    return completion.choices[0].message.parsed"
   ],
   "id": "f37aecc08c73bdb1",
   "outputs": [],
   "execution_count": 33
  },
  {
   "metadata": {
    "ExecuteTime": {
     "end_time": "2024-08-29T15:19:46.823058Z",
     "start_time": "2024-08-29T15:19:43.735950Z"
    }
   },
   "cell_type": "code",
   "source": "ask_company_expert(\"How many assets does 'Accuray Incorporated' have in 2022 in dollars?\", \"Accuray Incorporated\")",
   "id": "103c61fa8d8d5013",
   "outputs": [
    {
     "name": "stdout",
     "output_type": "stream",
     "text": [
      "['Accuray Incorporated']\n"
     ]
    },
    {
     "data": {
      "text/plain": [
       "AnswerEvent(chain_of_thought=\"The total assets for 'Accuray Incorporated' in 2022 are stated in the consolidated balance sheets provided. The relevant value for total assets in 2022 is given as $472,849 (in thousands). To convert this into dollars, we multiply this figure by 1,000. Thus, the total assets for 'Accuray Incorporated' in 2022 amount to 472849000 dollars.\", answer=472849000)"
      ]
     },
     "execution_count": 43,
     "metadata": {},
     "output_type": "execute_result"
    }
   ],
   "execution_count": 43
  },
  {
   "metadata": {
    "ExecuteTime": {
     "end_time": "2024-08-29T12:55:36.485954Z",
     "start_time": "2024-08-29T12:55:33.459475Z"
    }
   },
   "cell_type": "code",
   "source": "ask_company_expert(\"How many assets does 'Ethernity Networks Ltd' have in 2022 in dollars?\", \"Ethernity Networks Ltd\")",
   "id": "907a2e8870981b26",
   "outputs": [
    {
     "name": "stdout",
     "output_type": "stream",
     "text": [
      "['Ethernity Networks Ltd']\n"
     ]
    },
    {
     "data": {
      "text/plain": [
       "AnswerEvent(chain_of_thought='The provided context does not contain specific information regarding the total assets of Ethernity Networks Ltd for the year 2022. Therefore, I cannot provide an answer as the necessary data is absent.', answer='n/a')"
      ]
     },
     "execution_count": 96,
     "metadata": {},
     "output_type": "execute_result"
    }
   ],
   "execution_count": 96
  },
  {
   "metadata": {
    "ExecuteTime": {
     "end_time": "2024-08-29T12:41:53.893202Z",
     "start_time": "2024-08-29T12:41:51.334136Z"
    }
   },
   "cell_type": "code",
   "source": "ask_company_expert(\"What are the total R&D expenses of 'Ethernity Networks Ltd' in 2021?\", \"Ethernity Networks Ltd\")",
   "id": "537e14d8c3d459b6",
   "outputs": [
    {
     "name": "stdout",
     "output_type": "stream",
     "text": [
      "['Ethernity Networks Ltd']\n"
     ]
    },
    {
     "data": {
      "text/plain": [
       "AnswerEvent(chain_of_thought='In the provided context, it is mentioned that the total R&D expenses for Ethernity Networks Ltd in 2021 were 5,550,912.', answer=5550912)"
      ]
     },
     "execution_count": 69,
     "metadata": {},
     "output_type": "execute_result"
    }
   ],
   "execution_count": 69
  },
  {
   "metadata": {},
   "cell_type": "markdown",
   "source": "## Multiple agents",
   "id": "f0ee597ead17d621"
  },
  {
   "metadata": {
    "ExecuteTime": {
     "end_time": "2024-08-29T16:37:08.992208Z",
     "start_time": "2024-08-29T16:37:08.981833Z"
    }
   },
   "cell_type": "code",
   "source": [
    "# DELEGATION MANAGER\n",
    "\n",
    "INVOLVED_COMPANIES = df_sample.name.to_list()\n",
    "\n",
    "system_prompt_delegation = (\n",
    "    f\"You will receive questions about one or more companies. \"\n",
    "    f\"You have access to specialised agents in providing data for each company. \"\n",
    "    f\"To access them, you need to provide the exact company name in a list of 'companies' and the respective query in a list of 'queries'. \\n\"\n",
    "    f\"For example, if the question is about if company X has more assets than company Y in 2022, you would provide the following: \\n\"\n",
    "    f\"companies: ['X', 'Y'], queries: ['How many assets does 'X' have in 2022 in dollars?', 'How many assets does 'Y' have in 2022 in dollars?'] \\n\"\n",
    "    f\"The company name in the list has to be exactly one of these: {INVOLVED_COMPANIES}. \\n\"\n",
    "    f\"Also provide a chain of thought on how you arrived at your final answer in 'chain_of_thought'. \\n\"\n",
    "    f\"If the company asked is not in the list, write in companies and queries: 'SKIP' and make a note in the 'chain_of_thought'. \\n\"\n",
    "    f\"Consider however, that queries can contain incomplete company names, for example skipping 'Inc.' or 'Ltd.' \\n\"\n",
    ")\n",
    "\n",
    "\n",
    "class DelegationRequest(BaseModel):\n",
    "    chain_of_thought: str\n",
    "    companies: list[str]\n",
    "    queries: list[str]\n",
    "\n",
    "\n",
    "def ask_delegation_manager(query):    \n",
    "    print(\"# ASKING DELEGATION MANAGER: \")\n",
    "    completion = client.beta.chat.completions.parse(\n",
    "        model=MODEL,\n",
    "        messages=[\n",
    "            {\"role\": \"system\", \"content\": system_prompt_delegation},\n",
    "            {\"role\": \"user\", \"content\": query},\n",
    "        ],\n",
    "        response_format=DelegationRequest,\n",
    "    )\n",
    "    \n",
    "    return completion.choices[0].message.parsed"
   ],
   "id": "556851a9b2e0d530",
   "outputs": [],
   "execution_count": 36
  },
  {
   "metadata": {
    "ExecuteTime": {
     "end_time": "2024-08-29T15:32:26.021526Z",
     "start_time": "2024-08-29T15:32:22.348509Z"
    }
   },
   "cell_type": "code",
   "source": "ask_delegation_manager(\"Has 'Ethernity Networks Ltd' more liabilities than 'Accuray Incorporated' in 2022?\")",
   "id": "f0066ed0c2eead25",
   "outputs": [
    {
     "data": {
      "text/plain": [
       "ManagerRequest(chain_of_thought=\"To determine if 'Ethernity Networks Ltd' has more assets than 'Accuray Incorporated' in 2022, I need to compare their total assets for that year. Therefore, I will first query the total assets of 'Ethernity Networks Ltd' for 2022 and then do the same for 'Accuray Incorporated'. This will allow me to compare the two values directly.\", companies=['Ethernity Networks Ltd', 'Accuray Incorporated'], queries=[\"How many assets does 'Ethernity Networks Ltd' have in 2022 in dollars?\", \"How many assets does 'Accuray Incorporated' have in 2022 in dollars?\"])"
      ]
     },
     "execution_count": 46,
     "metadata": {},
     "output_type": "execute_result"
    }
   ],
   "execution_count": 46
  },
  {
   "metadata": {
    "ExecuteTime": {
     "end_time": "2024-08-29T15:31:31.612215Z",
     "start_time": "2024-08-29T15:31:24.128686Z"
    }
   },
   "cell_type": "code",
   "source": "ask_delegation_manager(\"How many assets does 'Ethernity Networks Ltd' have in 2022 in dollars?\")",
   "id": "450954825ad2cc7b",
   "outputs": [
    {
     "data": {
      "text/plain": [
       "ManagerRequest(chain_of_thought=\"To answer the question regarding the assets of 'Ethernity Networks Ltd' in 2022, I need to access the data provider concerning this specific company and ask for the relevant financial information. Herein, the query will be about the total assets it holds in 2022 in dollar value, which is a direct question about the company's financial stature in that year.\", companies=['Ethernity Networks Ltd'], queries=[\"How many assets does 'Ethernity Networks Ltd' have in 2022 in dollars?\"])"
      ]
     },
     "execution_count": 45,
     "metadata": {},
     "output_type": "execute_result"
    }
   ],
   "execution_count": 45
  },
  {
   "metadata": {
    "ExecuteTime": {
     "end_time": "2024-08-29T16:37:12.101671Z",
     "start_time": "2024-08-29T16:37:12.078554Z"
    }
   },
   "cell_type": "code",
   "source": [
    "# EXECUTION MANAGER\n",
    "\n",
    "system_prompt_execution = (\n",
    "    f\"You are an intelligent assistant tasked with answering questions based on specific company data provided in the context. \"\n",
    "    \"Also the chain of thought of the expert providing the data is given. \"\n",
    "    \"Your task is to provide a final answer to the USER_QUERY based on the data provided (CONTEXT). \\n\"\n",
    "    \n",
    "    f\"Please provide a chain of thought on how you arrived at your final answer in 'chain_of_thought', providing intermediary results. \\n\"\n",
    "    f\"Then give a final answer in 'answer' where you strictly adhere to the following guidelines: \\n {ANSWER_GUIDELINES} \\n \"\n",
    "    f\"Ensure that your answers are strictly compliant with these guidelines. Accuracy and adherence to the format are crucial. \\n\"\n",
    "    \n",
    "    \"USER_QUERY: {QUERY} \\n\"\n",
    "    \n",
    "    \"CONTEXT: {CONTEXT} \\n\"\n",
    ")\n",
    "\n",
    "class ExecutionRequest(BaseModel):\n",
    "    chain_of_thought: str\n",
    "    answer: int | str\n",
    "\n",
    "def ask_execution_manager(query, context):\n",
    "    system_prompt_execution_full = system_prompt_execution.replace(\"{QUERY}\", query).replace(\"{CONTEXT}\", context)\n",
    "    \n",
    "    print(\"# ASKING EXECUTION MANAGER: \")\n",
    "    print(\"Query:\", query)\n",
    "    print(\"Context:\", context)\n",
    "    \n",
    "    completion = client.beta.chat.completions.parse(\n",
    "        model=MODEL,\n",
    "        messages=[\n",
    "            {\"role\": \"system\", \"content\": system_prompt_execution_full},\n",
    "            {\"role\": \"user\", \"content\": query},\n",
    "        ],\n",
    "        response_format=ExecutionRequest,\n",
    "    )\n",
    "    \n",
    "    return completion.choices[0].message.parsed"
   ],
   "id": "ae5badfdd80719b5",
   "outputs": [],
   "execution_count": 37
  },
  {
   "metadata": {
    "ExecuteTime": {
     "end_time": "2024-08-29T16:37:12.473078Z",
     "start_time": "2024-08-29T16:37:12.461594Z"
    }
   },
   "cell_type": "code",
   "source": [
    "# FINAL PIPELINE\n",
    "\n",
    "def ask_question(query):\n",
    "    delegations = ask_delegation_manager(query)\n",
    "    print(\"Delegations: \\n\", delegations)\n",
    "    expert_context = {}\n",
    "    \n",
    "    for company, company_query in zip(delegations.companies, delegations.queries):\n",
    "        if company.lower() == \"skip\" or company_query.lower() == \"skip\":\n",
    "            expert_context[company] = \"No data available\"\n",
    "        else:\n",
    "            expert_context[company] = ask_company_expert(company_query, company)\n",
    "    \n",
    "    final_answer = ask_execution_manager(query, str(expert_context))\n",
    "    \n",
    "    return final_answer"
   ],
   "id": "1c4c03aa88b9f80b",
   "outputs": [],
   "execution_count": 38
  },
  {
   "metadata": {
    "ExecuteTime": {
     "end_time": "2024-08-29T16:32:44.993734Z",
     "start_time": "2024-08-29T16:32:41.682354Z"
    }
   },
   "cell_type": "code",
   "source": "ask_question(\"Who is the CEO of Tesla Inc.?\") # n/a",
   "id": "c5c790aa6cfca5bd",
   "outputs": [
    {
     "name": "stdout",
     "output_type": "stream",
     "text": [
      "# ASKING DELEGATION MANAGER: \n",
      "Delegations: \n",
      " chain_of_thought=\"Tesla Inc. is not on the provided company list, so I cannot create a query for it. Instead, I will note this as 'SKIP'.\" companies=['SKIP'] queries=['SKIP']\n",
      "# ASKING EXECUTION MANAGER: \n",
      "Query: Who is the CEO of Tesla Inc.?\n",
      "Context: {'SKIP': 'No data available'}\n"
     ]
    },
    {
     "data": {
      "text/plain": [
       "ExecutionRequest(chain_of_thought=\"The context provided does not contain any information regarding the CEO of Tesla Inc. Since there are no available details, I cannot provide an answer to this query. Hence, I conclude that the answer is insufficient and will respond with 'n/a'.\", answer='n/a')"
      ]
     },
     "execution_count": 27,
     "metadata": {},
     "output_type": "execute_result"
    }
   ],
   "execution_count": 27
  },
  {
   "metadata": {
    "ExecuteTime": {
     "end_time": "2024-08-29T16:37:20.048524Z",
     "start_time": "2024-08-29T16:37:14.973448Z"
    }
   },
   "cell_type": "code",
   "source": "ask_question(\"Who is the CEO of Ethernity Networks?\") # David Levi",
   "id": "db938ef5d289790",
   "outputs": [
    {
     "name": "stdout",
     "output_type": "stream",
     "text": [
      "# ASKING DELEGATION MANAGER: \n",
      "Delegations: \n",
      " chain_of_thought='Ethernity Networks is included in the list of companies provided, and the query about its CEO is straightforward. Therefore, I can construct the request using Ethernity Networks as the company and asking specifically for the CEO information.' companies=['Ethernity Networks Ltd'] queries=[\"Who is the CEO of 'Ethernity Networks'?\"]\n",
      "# ASKING COMPANY EXPERT\n",
      "# ASKING EXECUTION MANAGER: \n",
      "Query: Who is the CEO of Ethernity Networks?\n",
      "Context: {'Ethernity Networks Ltd': AnswerEvent(chain_of_thought='The document clearly states that David Levi is the Chief Executive Officer of Ethernity Networks. This role is directly mentioned under the section that lists company directors and their positions.', answer='David Levi')}\n"
     ]
    },
    {
     "data": {
      "text/plain": [
       "ExecutionRequest(chain_of_thought='The document clearly states that David Levi is the Chief Executive Officer of Ethernity Networks. This role is directly mentioned under the section that lists company directors and their positions.', answer='David Levi')"
      ]
     },
     "execution_count": 39,
     "metadata": {},
     "output_type": "execute_result"
    }
   ],
   "execution_count": 39
  },
  {
   "metadata": {
    "ExecuteTime": {
     "end_time": "2024-08-29T16:37:44.019745Z",
     "start_time": "2024-08-29T16:37:33.467425Z"
    }
   },
   "cell_type": "code",
   "source": "ask_question(\"Has 'Ethernity Networks Ltd' more liabilities than 'Accuray Incorporated' in 2022?\") # Accuray: 419,660,000$, Ethernity: 12,257,291$ -> no is correct answer",
   "id": "62f09a4e0ed9d6e3",
   "outputs": [
    {
     "name": "stdout",
     "output_type": "stream",
     "text": [
      "# ASKING DELEGATION MANAGER: \n",
      "Delegations: \n",
      " chain_of_thought=\"I need to compare the liabilities of two companies: 'Ethernity Networks Ltd' and 'Accuray Incorporated'. Both company names are in the provided list, which allows me to create the necessary queries for each company. I'll ask for their liabilities in 2022, which will allow me to compare them directly.\" companies=['Ethernity Networks Ltd', 'Accuray Incorporated'] queries=[\"How many liabilities does 'Ethernity Networks Ltd' have in 2022 in dollars?\", \"How many liabilities does 'Accuray Incorporated' have in 2022 in dollars?\"]\n",
      "# ASKING COMPANY EXPERT\n",
      "# ASKING COMPANY EXPERT\n",
      "# ASKING EXECUTION MANAGER: \n",
      "Query: Has 'Ethernity Networks Ltd' more liabilities than 'Accuray Incorporated' in 2022?\n",
      "Context: {'Ethernity Networks Ltd': AnswerEvent(chain_of_thought=\"To find the total liabilities for Ethernity Networks Ltd in 2022, we examine the provided financial statements data. We specifically look for any mention of 'total liabilities'. The most relevant section shows 'Total other short-term liabilities' as 1,121,909 dollars for 2022. No data is given for long-term liabilities in the documents, and as such we only consider the short-term liabilities provided. Since no total liabilities figure is directly given, and only short-term liabilities are mentioned, we conclude that the total liabilities as given in the context is 1,121,909 dollars. Therefore, the final answer is simply the figure based on the analysis provided here.\", answer=1121909), 'Accuray Incorporated': AnswerEvent(chain_of_thought='From the context, I found the total liabilities for Accuray Incorporated in 2022 listed as $419,660. Since the prompt specifies to provide values in whole dollars with no additional formatting, I will respond with 419660.', answer=419660)}\n"
     ]
    },
    {
     "data": {
      "text/plain": [
       "ExecutionRequest(chain_of_thought='From the context provided, Ethernity Networks Ltd has total liabilities of 1121909 dollars in 2022. On the other hand, Accuray Incorporated has total liabilities of 419660 dollars for the same year. To determine if Ethernity Networks Ltd has more liabilities, we compare the two figures: 1121909 is greater than 419660. Therefore, the conclusion is that Ethernity Networks Ltd has more liabilities than Accuray Incorporated in 2022.', answer='yes')"
      ]
     },
     "execution_count": 40,
     "metadata": {},
     "output_type": "execute_result"
    }
   ],
   "execution_count": 40
  },
  {
   "metadata": {},
   "cell_type": "markdown",
   "source": "## Obtain final results ",
   "id": "6eff4555c6c481a2"
  },
  {
   "metadata": {
    "ExecuteTime": {
     "end_time": "2024-08-29T16:42:49.900714Z",
     "start_time": "2024-08-29T16:38:10.532157Z"
    }
   },
   "cell_type": "code",
   "source": [
    "results = []\n",
    "\n",
    "with open('data/questions.json', 'r') as json_file:\n",
    "    items = json.load(json_file)\n",
    "    for item in items:\n",
    "        question = item[\"question\"]\n",
    "        print(question + \"\\n\")\n",
    "        response = ask_question(question) # TODO could introduce schema as Daniel with arg=item[\"schema\"] and classes/pydantic\n",
    "        print(response)\n",
    "        results.append({\n",
    "            \"question\": question,\n",
    "            \"schema\": item[\"schema\"],\n",
    "            \"answer\": response.answer\n",
    "        })\n",
    "        \n",
    "\n",
    "with open('results.json', 'w') as json_file:\n",
    "    json.dump(results, json_file, indent=4)"
   ],
   "id": "52e4cdaaa2db4667",
   "outputs": [
    {
     "name": "stdout",
     "output_type": "stream",
     "text": [
      "How much did \"Accuray Incorporated\" spend on risk management in Q2 2022?\n",
      "\n",
      "# ASKING DELEGATION MANAGER: \n",
      "Delegations: \n",
      " chain_of_thought=\"The query specifically asks about 'Accuray Incorporated' and is within the permissible company names. I can directly form the queries to request the relevant financial information about risk management spending for that specific quarter.\" companies=['Accuray Incorporated'] queries=[\"How much did 'Accuray Incorporated' spend on risk management in Q2 2022 in dollars?\"]\n",
      "# ASKING COMPANY EXPERT\n",
      "# ASKING EXECUTION MANAGER: \n",
      "Query: How much did \"Accuray Incorporated\" spend on risk management in Q2 2022?\n",
      "Context: {'Accuray Incorporated': AnswerEvent(chain_of_thought=\"The provided context does not specify expenditures by 'Accuray Incorporated' related to risk management or specifically mention financial amounts allocated to risk management activities for Q2 2022. Hence, as I cannot find any relevant data pertaining to that spending within the context given, I conclude that the necessary information is insufficient to answer the question accurately.\", answer='n/a')}\n",
      "chain_of_thought=\"The provided context indicates that there is no specific information regarding expenditures by 'Accuray Incorporated' on risk management for Q2 2022. Since no financial amounts or details about spending on risk management are included in the context, I can't accurately answer the question about how much was spent.\" answer='n/a'\n",
      "Who is the CEO in the company \"Zegona Communications plc\"?\n",
      "\n",
      "# ASKING DELEGATION MANAGER: \n",
      "Delegations: \n",
      " chain_of_thought=\"The question is specifically asking for the CEO of 'Zegona Communications plc', which is in the provided list of companies. There is no need to break down the query further as it is straightforward and pertains directly to the company in question.\" companies=['Zegona Communications plc'] queries=['Who is the CEO of Zegona Communications plc?']\n",
      "# ASKING COMPANY EXPERT\n",
      "# ASKING EXECUTION MANAGER: \n",
      "Query: Who is the CEO in the company \"Zegona Communications plc\"?\n",
      "Context: {'Zegona Communications plc': AnswerEvent(chain_of_thought='The document states that Eamonn O’Hare is the Chairman and Chief Executive Officer of Zegona Communications plc. Since the position of CEO is specified being held by Eamonn O’Hare, this confirms him as the current CEO.', answer='Eamonn O’Hare')}\n",
      "chain_of_thought='The document specifies that Eamonn O’Hare is the Chairman and Chief Executive Officer of Zegona Communications plc. Therefore, he is confirmed as the current CEO of the company.' answer='Eamonn O’Hare'\n",
      "Did \"Global Medical REIT Inc.\" have a greater Debt-to-Equity ratio than \"Zegona Communications plc\" in Q2 2021?\n",
      "\n",
      "# ASKING DELEGATION MANAGER: \n",
      "Delegations: \n",
      " chain_of_thought=\"To determine if 'Global Medical REIT Inc.' had a greater Debt-to-Equity ratio than 'Zegona Communications plc' in Q2 2021, I need to retrieve the respective Debt-to-Equity ratios for both companies during that specific quarter. The query requires two specific financial metrics from each company for comparison, so I will formulate two queries accordingly.\" companies=['Global Medical REIT Inc.', 'Zegona Communications plc'] queries=[\"What was the Debt-to-Equity ratio of 'Global Medical REIT Inc.' in Q2 2021?\", \"What was the Debt-to-Equity ratio of 'Zegona Communications plc' in Q2 2021?\"]\n",
      "# ASKING COMPANY EXPERT\n",
      "# ASKING COMPANY EXPERT\n",
      "# ASKING EXECUTION MANAGER: \n",
      "Query: Did \"Global Medical REIT Inc.\" have a greater Debt-to-Equity ratio than \"Zegona Communications plc\" in Q2 2021?\n",
      "Context: {'Global Medical REIT Inc.': AnswerEvent(chain_of_thought=\"First, we need the total liabilities and total equity for Global Medical REIT Inc. as of Q2 2021. However, the provided context does not specifically mention Q2 2021, only end-of-year values for 2021 (total liabilities of 625,908 and total equity of 637,577). \\n\\nTo calculate the Debt-to-Equity ratio, the formula is: \\nDebt-to-Equity Ratio = Total Liabilities / Total Equity.\\n\\nUsing the total liabilities and total equity for the end of 2021:\\n- Total Liabilities = 625908\\n- Total Equity = 637577\\n\\nCalculating the ratio:\\nDebt-to-Equity Ratio = 625908 / 637577.\\n\\nAs this specific information is not available for Q2, I cannot provide the ratio for that specific timeframe, nor is there a relevant estimate. Thus, I conclude that the relevant data is insufficient to answer the question accurately about the specific quarter. \\n\\nThe answer to the question should then be classified as insufficient data and marked as 'n/a'.\", answer='n/a'), 'Zegona Communications plc': AnswerEvent(chain_of_thought='To determine the Debt-to-Equity ratio for Zegona Communications plc in Q2 2021, we need to find both total debt and total equity for that time period. According to the financial statement, at the end of 2021, total liabilities (which represent debt) were €726,000, while total equity was €9,965,000. Although Q2 2021 figures are not specifically provided, we can assume this ratio can be analyzed using the end-of-year values for simplicity, assuming no major changes in financials from Q2 to year-end.  The Debt-to-Equity ratio is calculated using the formula: Debt / Equity. Thus, it becomes 726 / 9965. After performing this calculation: 726000 / 9965000 gives approximately 0.0728. However, as this is not a number in the requested format, it does not provide the precise debt-to-equity necessary to match Q2 2021. Therefore, the specific answer might be categorized as insufficient data due to lack of precise Q2 numbers. Under the guidelines, since there is no exact figure provided for Q2 2021 in the context, I categorize that as n/a.', answer='n/a')}\n",
      "chain_of_thought=\"To determine if Global Medical REIT Inc. had a greater Debt-to-Equity ratio than Zegona Communications plc in Q2 2021, we need to assess both companies' ratios for that period. \\n\\n1. For Global Medical REIT Inc., the context provides total liabilities of 625,908 and total equity of 637,577, but these figures are only for the end of 2021, not specifically for Q2 2021. Thus, we cannot definitively calculate the Debt-to-Equity ratio for Q2 2021.\\n\\n2. For Zegona Communications plc, total liabilities (debt) are stated as €726,000 and total equity as €9,965,000 for the end of 2021, but again, these figures do not pertain specifically to Q2 2021. Consequently, we are faced with the same issue of insufficient data to accurately assess the Debt-to-Equity ratio for Q2 2021 for Zegona Communications.\\n\\nSince both companies lack specific Q2 data, we cannot draw a comparison regarding their Debt-to-Equity ratios for that time period. Therefore, the answer is marked as insufficient data which is classified as 'n/a'.\" answer='n/a'\n",
      "How many stores did \"Accuray Incorporated\" have in the end of fiscal year 2021?\n",
      "\n",
      "# ASKING DELEGATION MANAGER: \n",
      "Delegations: \n",
      " chain_of_thought=\"The question specifically asks about 'Accuray Incorporated', which is one of the companies listed. Therefore, I will check for the number of stores Accuray Incorporated had at the end of fiscal year 2021. There are no other companies mentioned to compare. I'll frame the query accordingly.\" companies=['Accuray Incorporated'] queries=[\"How many stores did 'Accuray Incorporated' have at the end of fiscal year 2021?\"]\n",
      "# ASKING COMPANY EXPERT\n",
      "# ASKING EXECUTION MANAGER: \n",
      "Query: How many stores did \"Accuray Incorporated\" have in the end of fiscal year 2021?\n",
      "Context: {'Accuray Incorporated': AnswerEvent(chain_of_thought='The information provided in the context does not include any details regarding the number of stores or physical locations Accuray Incorporated had at the end of fiscal year 2021. The data focuses on financials, company structure, and operational aspects without specifying store counts.', answer='n/a')}\n",
      "chain_of_thought='The context indicates that there is no information available regarding the number of stores or physical locations that Accuray Incorporated had at the end of fiscal year 2021. It specifically notes that the data provided focuses on financials and operational aspects without mentioning store counts. Therefore, I conclude that the information is insufficient to provide a numeric answer.' answer='n/a'\n",
      "How much did \"Sandwell Aquatics Centre\" spend on R&D in Q2 2023?\n",
      "\n",
      "# ASKING DELEGATION MANAGER: \n",
      "Delegations: \n",
      " chain_of_thought='I analyzed the request regarding the spending on R&D for \"Sandwell Aquatics Centre\" in Q2 2023. Since \"Sandwell Aquatics Centre\" is specifically listed as a valid company, I referenced the exact name and focused on the query about R&D spending for Q2 2023. Therefore, I constructed the lists accordingly.' companies=['Sandwell Aquatics Centre'] queries=[\"How much did 'Sandwell Aquatics Centre' spend on R&D in Q2 2023 in dollars?\"]\n",
      "# ASKING COMPANY EXPERT\n",
      "# ASKING EXECUTION MANAGER: \n",
      "Query: How much did \"Sandwell Aquatics Centre\" spend on R&D in Q2 2023?\n",
      "Context: {'Sandwell Aquatics Centre': AnswerEvent(chain_of_thought='In the provided context, there is no mention of Sandwell Aquatics Centre or its spending on R&D in Q2 2023. Thus, I cannot find any relevant data to answer the question accurately.', answer='n/a')}\n",
      "chain_of_thought='In the provided context, there is no mention of Sandwell Aquatics Centre or its spending on R&D in Q2 2023. Thus, I cannot find any relevant data to answer the question accurately.' answer='n/a'\n",
      "Who is the CFO in the company \"EMT\"?\n",
      "\n",
      "# ASKING DELEGATION MANAGER: \n",
      "Delegations: \n",
      " chain_of_thought='\"EMT\" is a valid company name on the list provided. The query is straightforward, as it pertains to identifying a position within the company. Therefore, I will create a specific query to find out who the CFO of EMT is.' companies=['EMT'] queries=[\"Who is the CFO of 'EMT'?\"]\n",
      "# ASKING COMPANY EXPERT\n",
      "# ASKING EXECUTION MANAGER: \n",
      "Query: Who is the CFO in the company \"EMT\"?\n",
      "Context: {'EMT': AnswerEvent(chain_of_thought='In the provided context, there is no mention of the CFO position for eMetals Limited (ASX: EMT) or any details about who holds that position. Only the names and roles of directors are specified without mentioning a CFO. Therefore, I conclude that the information is insufficient to answer the question accurately.', answer='n/a')}\n",
      "chain_of_thought='In the provided context, there is no mention of the CFO position for eMetals Limited (ASX: EMT) or any details about who holds that position. Only the names and roles of directors are specified without mentioning a CFO. Therefore, I conclude that the information is insufficient to answer the question accurately.' answer='n/a'\n",
      "Did \"Calyxt, Inc.\" have a greater Return on Assets (ROA) than \"Global Medical REIT Inc.\" in Q2 2023?\n",
      "\n",
      "# ASKING DELEGATION MANAGER: \n",
      "Delegations: \n",
      " chain_of_thought=\"To answer this question, I need to compare the Return on Assets (ROA) for both companies in Q2 2023. Therefore, I'll specifically query for the ROA of 'Calyxt, Inc.' and 'Global Medical REIT Inc.' for the specified quarter.\" companies=['Calyxt, Inc.', 'Global Medical REIT Inc.'] queries=[\"What is the Return on Assets (ROA) of 'Calyxt, Inc.' in Q2 2023?\", \"What is the Return on Assets (ROA) of 'Global Medical REIT Inc.' in Q2 2023?\"]\n",
      "# ASKING COMPANY EXPERT\n",
      "# ASKING COMPANY EXPERT\n",
      "# ASKING EXECUTION MANAGER: \n",
      "Query: Did \"Calyxt, Inc.\" have a greater Return on Assets (ROA) than \"Global Medical REIT Inc.\" in Q2 2023?\n",
      "Context: {'Calyxt, Inc.': AnswerEvent(chain_of_thought='The context does not provide specific information about the Return on Assets (ROA) of Calyxt, Inc. for Q2 2023 or any relevant figures such as net income or total assets for that period. Since the relevant data for calculating ROA is insufficient, I conclude that accurate information cannot be provided.', answer='n/a'), 'Global Medical REIT Inc.': AnswerEvent(chain_of_thought=\"To calculate Return on Assets (ROA), we use the formula: ROA = Net Income / Total Assets. However, the provided data does not contain specific figures for Q2 2023. The latest available financials are for December 31, 2022, which report total assets of $1,393,261 and net income for 2022 was $19,996. Since we don't have Q2 2023 data or any indications of net income for that specific quarter, I conclude that there is insufficient information available to determine the ROA for 'Global Medical REIT Inc.' in Q2 2023.\", answer='n/a')}\n",
      "chain_of_thought=\"To determine if 'Calyxt, Inc.' had a greater Return on Assets (ROA) than 'Global Medical REIT Inc.' in Q2 2023, I checked the available data for both companies. For 'Calyxt, Inc.', the context specifies that there is no information about the ROA or related financial figures (net income or total assets) for Q2 2023, leading to a conclusion of insufficient data. Similarly, for 'Global Medical REIT Inc.', the context also indicates a lack of data specifically for Q2 2023, as it only contains figures for December 31, 2022, making it impossible to compute the ROA for that period. Therefore, I deduce that there is not sufficient information to compare the ROAs for the two companies in Q2 2023.\" answer='n/a'\n",
      "How many stores did \"OTC_UNCIF\" have in the end of fiscal year 2022?\n",
      "\n",
      "# ASKING DELEGATION MANAGER: \n",
      "Delegations: \n",
      " chain_of_thought=\"The company 'OTC_UNCIF' is not listed in the provided company name list. Therefore, I have categorized this request as 'SKIP' since I cannot proceed with the queries without an appropriate company name.\" companies=['SKIP'] queries=['SKIP']\n",
      "# ASKING EXECUTION MANAGER: \n",
      "Query: How many stores did \"OTC_UNCIF\" have in the end of fiscal year 2022?\n",
      "Context: {'SKIP': 'No data available'}\n",
      "chain_of_thought='The context provided clearly states that there is no data available regarding the number of stores for \"OTC_UNCIF\" at the end of fiscal year 2022. Without any specific numbers or information, I cannot provide an answer regarding their store count. Therefore, it falls under insufficient information.' answer='n/a'\n",
      "How much did \"Accuray Incorporated\" spend on customer acquisition in Q2 2021?\n",
      "\n",
      "# ASKING DELEGATION MANAGER: \n",
      "Delegations: \n",
      " chain_of_thought='The question specifically asks about Accuray Incorporated, which is included in the list of recognized companies. Therefore, we can directly request the specific data regarding customer acquisition spending for the second quarter of 2021 for that company.' companies=['Accuray Incorporated'] queries=[\"How much did 'Accuray Incorporated' spend on customer acquisition in Q2 2021 in dollars?\"]\n",
      "# ASKING COMPANY EXPERT\n",
      "# ASKING EXECUTION MANAGER: \n",
      "Query: How much did \"Accuray Incorporated\" spend on customer acquisition in Q2 2021?\n",
      "Context: {'Accuray Incorporated': AnswerEvent(chain_of_thought='I searched the provided context for any indicators of customer acquisition expenses specifically related to Accuray Incorporated in Q2 2021. However, the context primarily discusses various financial figures including revenue, assets, and other expenses but does not detail specific customer acquisition costs or expenditures. Given this lack of specific information on customer acquisition spending in that quarter, I conclude that I do not have sufficient data to provide an answer.', answer='n/a')}\n",
      "chain_of_thought='I searched the provided context for any indicators of customer acquisition expenses specifically related to Accuray Incorporated in Q2 2021. However, the context primarily discusses various financial figures including revenue, assets, and other expenses but does not detail specific customer acquisition costs or expenditures. Given this lack of specific information on customer acquisition spending in that quarter, I conclude that I do not have sufficient data to provide an answer.' answer='n/a'\n",
      "Who is the CEO in the company \"Accuray Incorporated\"?\n",
      "\n",
      "# ASKING DELEGATION MANAGER: \n",
      "Delegations: \n",
      " chain_of_thought=\"The question is asking for the CEO of the company 'Accuray Incorporated', which is listed among the provided companies. Therefore, I will prepare a query to find out the current CEO of Accuray Incorporated.\" companies=['Accuray Incorporated'] queries=['Who is the CEO of Accuray Incorporated?']\n",
      "# ASKING COMPANY EXPERT\n",
      "# ASKING EXECUTION MANAGER: \n",
      "Query: Who is the CEO in the company \"Accuray Incorporated\"?\n",
      "Context: {'Accuray Incorporated': AnswerEvent(chain_of_thought=\"I looked through the context provided about Accuray Incorporated and found the name Joshua Levine in a section that references an executive employment agreement. The title mentioned was 'Chief Executive Officer', which indicates that Joshua Levine is the current CEO of Accuray Incorporated.\", answer='Joshua Levine')}\n",
      "chain_of_thought='I searched the information provided about Accuray Incorporated and identified that Joshua Levine is referenced as the Chief Executive Officer. This confirms his role as the CEO of the company.' answer='Joshua Levine'\n",
      "Did \"Comet Holding AG\" have a greater Operating Margin than \"Ethernity Networks Ltd\" in Q2 2022?\n",
      "\n",
      "# ASKING DELEGATION MANAGER: \n",
      "Delegations: \n",
      " chain_of_thought=\"The company 'Comet Holding AG' is not in the provided list, therefore I will need to skip it in my request. However, 'Ethernity Networks Ltd' is present, so I will still form the necessary query for it.\" companies=['SKIP'] queries=[\"How much was the Operating Margin for 'Ethernity Networks' in Q2 2022?\"]\n",
      "# ASKING EXECUTION MANAGER: \n",
      "Query: Did \"Comet Holding AG\" have a greater Operating Margin than \"Ethernity Networks Ltd\" in Q2 2022?\n",
      "Context: {'SKIP': 'No data available'}\n",
      "chain_of_thought=\"The context provided states 'No data available' regarding the operating margins for either 'Comet Holding AG' or 'Ethernity Networks Ltd' in Q2 2022. Without any data on the operating margins for comparison, I cannot ascertain whether 'Comet Holding AG' had a greater operating margin than 'Ethernity Networks Ltd'. Therefore, it is impossible to determine the answer.\" answer='n/a'\n",
      "How many stores did \"VENUS METALS CORPORATION LIMITED\" have in the end of fiscal year 2022?\n",
      "\n",
      "# ASKING DELEGATION MANAGER: \n",
      "Delegations: \n",
      " chain_of_thought='The question is specifically about the number of stores for \"VENUS METALS CORPORATION LIMITED\" at the end of fiscal year 2022. Although this company name includes \\'LIMITED\\', I can still identify it in the provided list by using just \\'VENUS METALS CORPORATION\\'. Therefore, I will create a query related to the number of stores while keeping the company name as is from the list.' companies=['VENUS METALS CORPORATION LIMITED'] queries=[\"How many stores did 'VENUS METALS CORPORATION LIMITED' have at the end of fiscal year 2022?\"]\n",
      "# ASKING COMPANY EXPERT\n",
      "# ASKING EXECUTION MANAGER: \n",
      "Query: How many stores did \"VENUS METALS CORPORATION LIMITED\" have in the end of fiscal year 2022?\n",
      "Context: {'VENUS METALS CORPORATION LIMITED': AnswerEvent(chain_of_thought=\"The provided context does not contain any information regarding the number of stores for 'VENUS METALS CORPORATION LIMITED' at the end of fiscal year 2022. Therefore, it is considered insufficient to provide an accurate answer.\", answer='n/a')}\n",
      "chain_of_thought=\"The provided context does not contain any information regarding the number of stores for 'VENUS METALS CORPORATION LIMITED' at the end of fiscal year 2022. Therefore, it is considered insufficient to provide an accurate answer.\" answer='n/a'\n",
      "How much did \"Ethernity Networks Ltd\" spend on R&D in Q2 2023?\n",
      "\n",
      "# ASKING DELEGATION MANAGER: \n",
      "Delegations: \n",
      " chain_of_thought=\"The company name 'Ethernity Networks Ltd' is on the provided list, and the query is about R&D spending for the specific quarter of Q2 2023. I will proceed to format the request accordingly.\" companies=['Ethernity Networks Ltd'] queries=[\"How much did 'Ethernity Networks Ltd' spend on R&D in Q2 2023 in dollars?\"]\n",
      "# ASKING COMPANY EXPERT\n",
      "# ASKING EXECUTION MANAGER: \n",
      "Query: How much did \"Ethernity Networks Ltd\" spend on R&D in Q2 2023?\n",
      "Context: {'Ethernity Networks Ltd': AnswerEvent(chain_of_thought='The provided context does not disclose any specific financial details or R&D expenditures for Ethernity Networks Ltd in Q2 2023. Instead, it includes broader R&D spending data for the full year 2022 and 2021, without any breakdown by quarter. Because this information is insufficient to answer the question about the specific R&D spending for Q2 2023, the conclusion must be that the data is not available.', answer='n/a')}\n",
      "chain_of_thought='The context states that there are no specific financial details or R&D expenditures provided for Ethernity Networks Ltd in Q2 2023. It mentions broader R&D spending data for the full year 2022 and 2021, but lacks any quarterly breakdowns. Thus, due to the absence of relevant data for the specific quarter in question, the conclusion is that the information is not available.' answer='n/a'\n",
      "Who is the COO in the company \"Sandwell Aquatics Centre\"?\n",
      "\n",
      "# ASKING DELEGATION MANAGER: \n",
      "Delegations: \n",
      " chain_of_thought=\"The company 'Sandwell Aquatics Centre' is included in the given list of companies. Since the question is about identifying the Chief Operating Officer (COO), I need to find a query that would help retrieve this specific information.\" companies=['Sandwell Aquatics Centre'] queries=[\"Who is the COO of 'Sandwell Aquatics Centre'?\"]\n",
      "# ASKING COMPANY EXPERT\n",
      "# ASKING EXECUTION MANAGER: \n",
      "Query: Who is the COO in the company \"Sandwell Aquatics Centre\"?\n",
      "Context: {'Sandwell Aquatics Centre': AnswerEvent(chain_of_thought='The provided context does not mention a Chief Operating Officer (COO) specifically for Sandwell Aquatics Centre. It discusses various individuals related to Billington Holdings Plc and their roles but does not provide information about the COO of Sandwell Aquatics Centre itself. Therefore, I conclude that there is insufficient information.', answer='n/a')}\n",
      "chain_of_thought='The provided context states that there is no specific information about a Chief Operating Officer (COO) for Sandwell Aquatics Centre. It mentions roles in relation to Billington Holdings Plc but does not provide details about the COO position at Sandwell Aquatics Centre itself. Therefore, I determine that there is insufficient data to provide a name for the COO.' answer='n/a'\n",
      "Did \"Calyxt, Inc.\" have a greater market capitalization than \"NICE\" in Q2 2022?\n",
      "\n",
      "# ASKING DELEGATION MANAGER: \n",
      "Delegations: \n",
      " chain_of_thought=\"To answer whether 'Calyxt, Inc.' had a greater market capitalization than 'NICE' in Q2 2022, I began by identifying the companies involved, which are listed correctly as 'Calyxt, Inc.' and 'NICE'. Therefore, I can proceed with the queries about their market capitalizations in that quarter.\" companies=['Calyxt, Inc.', 'NICE'] queries=[\"What was the market capitalization of 'Calyxt, Inc.' in Q2 2022 in dollars?\", \"What was the market capitalization of 'NICE' in Q2 2022 in dollars?\"]\n",
      "# ASKING COMPANY EXPERT\n",
      "# ASKING COMPANY EXPERT\n",
      "# ASKING EXECUTION MANAGER: \n",
      "Query: Did \"Calyxt, Inc.\" have a greater market capitalization than \"NICE\" in Q2 2022?\n",
      "Context: {'Calyxt, Inc.': AnswerEvent(chain_of_thought='The data provided does not mention the market capitalization of Calyxt, Inc. in Q2 2022, nor does it provide any information that could be used to calculate it. Therefore, I cannot provide an answer based on the available information.', answer='n/a'), 'NICE': AnswerEvent(chain_of_thought=\"The provided context does not contain specific data regarding the market capitalization of 'NICE' in Q2 2022. The document primarily focuses on revenue data, financial performance, and other operational aspects without providing the market cap figure. Therefore, I conclude that the information is insufficient to answer the question.\", answer='n/a')}\n",
      "chain_of_thought='The data provided does not mention the market capitalization of Calyxt, Inc. in Q2 2022, nor does it provide any information that could be used to calculate it. Similarly, there is no specific data regarding the market capitalization of NICE in Q2 2022. Therefore, I cannot provide an answer based on the available information from the context.' answer='n/a'\n",
      "How many stores did \"Renishaw plc\" have in the end of fiscal year 2023?\n",
      "\n",
      "# ASKING DELEGATION MANAGER: \n",
      "Delegations: \n",
      " chain_of_thought=\"The company 'Renishaw plc' is not on the provided list of companies, hence I cannot access any information about it as per the instructions provided. Therefore, I am skipping this request.\" companies=['SKIP'] queries=['SKIP']\n",
      "# ASKING EXECUTION MANAGER: \n",
      "Query: How many stores did \"Renishaw plc\" have in the end of fiscal year 2023?\n",
      "Context: {'SKIP': 'No data available'}\n",
      "chain_of_thought=\"The context states 'No data available', which indicates that there is no information on the number of stores for Renishaw plc at the end of fiscal year 2023. Therefore, I'm unable to provide a specific number.\" answer='n/a'\n",
      "How much did \"TD SYNNEX\" spend on R&D in Q2 2022?\n",
      "\n",
      "# ASKING DELEGATION MANAGER: \n",
      "Delegations: \n",
      " chain_of_thought='The question specifies the R&D spending for \"TD SYNNEX\" in Q2 2022. By identifying the company correctly, I can proceed to inquire about their R&D expenses in the specified quarter.' companies=['TD SYNNEX'] queries=[\"How much did 'TD SYNNEX' spend on R&D in Q2 2022 in dollars?\"]\n",
      "# ASKING COMPANY EXPERT\n",
      "# ASKING EXECUTION MANAGER: \n",
      "Query: How much did \"TD SYNNEX\" spend on R&D in Q2 2022?\n",
      "Context: {'TD SYNNEX': AnswerEvent(chain_of_thought='The provided context does not include specific financial details about Research & Development (R&D) expenses for TD SYNNEX in Q2 2022. Therefore, I cannot deduce the amount of money spent on R&D during that period based on the available information.', answer='n/a')}\n",
      "chain_of_thought='The provided context does not include specific financial details about Research & Development (R&D) expenses for TD SYNNEX in Q2 2022. Therefore, I cannot deduce the amount of money spent on R&D during that period based on the available information.' answer='n/a'\n",
      "Who is the CFO in the company \"TD SYNNEX\"?\n",
      "\n",
      "# ASKING DELEGATION MANAGER: \n",
      "Delegations: \n",
      " chain_of_thought='The question asks for the CFO of the company named \"TD SYNNEX\". Since this company is in the provided list, I can query directly for the CFO information regarding \"TD SYNNEX\". There is no need for additional company names or questions, thus making it straightforward to proceed with the query.' companies=['TD SYNNEX'] queries=[\"Who is the CFO of 'TD SYNNEX'?\"]\n",
      "# ASKING COMPANY EXPERT\n",
      "# ASKING EXECUTION MANAGER: \n",
      "Query: Who is the CFO in the company \"TD SYNNEX\"?\n",
      "Context: {'TD SYNNEX': AnswerEvent(chain_of_thought='The given context includes information about the management of TD SYNNEX and explicitly mentions that Marshall Witt is the Chief Financial Officer (CFO) and has held this position since April 2013. Therefore, the answer can be derived directly from the document contents without any ambiguity.', answer='Marshall Witt')}\n",
      "chain_of_thought='The context specifies that Marshall Witt is the Chief Financial Officer (CFO) of TD SYNNEX and has held this position since April 2013. This information is directly mentioned, so there is no uncertainty regarding the current CFO of TD SYNNEX.' answer='Marshall Witt'\n",
      "Did \"Eurocell PLC\" have a greater Return on Equity (ROE) than \"Strike Energy Limited\" in Q2 2022?\n",
      "\n",
      "# ASKING DELEGATION MANAGER: \n",
      "Delegations: \n",
      " chain_of_thought=\"To answer the question about the Return on Equity (ROE) comparison between Eurocell PLC and Strike Energy Limited in Q2 2022, I first identified the relevant companies from the provided list. Both 'Eurocell PLC' and 'Strike Energy Limited' are part of the specified company list, so I'm able to create the queries asking for their respective ROEs in the specified quarter. I formulated the questions accordingly to retrieve ROE data for both companies.\" companies=['Eurocell PLC', 'Strike Energy Limited'] queries=['What was the Return on Equity (ROE) for Eurocell PLC in Q2 2022?', 'What was the Return on Equity (ROE) for Strike Energy Limited in Q2 2022?']\n",
      "# ASKING COMPANY EXPERT\n",
      "# ASKING COMPANY EXPERT\n",
      "# ASKING EXECUTION MANAGER: \n",
      "Query: Did \"Eurocell PLC\" have a greater Return on Equity (ROE) than \"Strike Energy Limited\" in Q2 2022?\n",
      "Context: {'Eurocell PLC': AnswerEvent(chain_of_thought='The provided context does not include any information regarding the Return on Equity (ROE) for Eurocell PLC in Q2 2022. It mentions financial performance, sales, profit before tax, dividends, and other financial metrics, but there is no reference to ROE or specifics about quarterly financial ratios. Given this lack of specific data on ROE, I conclude that there is insufficient information to provide an answer.', answer='n/a'), 'Strike Energy Limited': AnswerEvent(chain_of_thought='Upon reviewing the provided data, it does not contain any specific information regarding the Return on Equity (ROE) for Strike Energy Limited in Q2 2022. Data such as net income and shareholder equity, which are necessary to calculate ROE, are also not present. Therefore, I conclude that there is insufficient information to answer this question accurately.', answer='n/a')}\n",
      "chain_of_thought='The available context does not provide any information regarding the Return on Equity (ROE) for either Eurocell PLC or Strike Energy Limited in Q2 2022. Therefore, I cannot determine if one had a greater ROE than the other because the necessary data to make that comparison is absent.' answer='n/a'\n",
      "How many stores did \"OTC_UNCIF\" have in the end of fiscal year 2023?\n",
      "\n",
      "# ASKING DELEGATION MANAGER: \n",
      "Delegations: \n",
      " chain_of_thought='The company \"OTC_UNCIF\" is not listed among the provided company names. Therefore, I noted this and marked the request accordingly.' companies=['SKIP'] queries=['SKIP']\n",
      "# ASKING EXECUTION MANAGER: \n",
      "Query: How many stores did \"OTC_UNCIF\" have in the end of fiscal year 2023?\n",
      "Context: {'SKIP': 'No data available'}\n",
      "chain_of_thought=\"The context states 'No data available' for any relevant information regarding the number of stores for 'OTC_UNCIF' in the end of fiscal year 2023. Since there is no data provided, I cannot determine the number of stores.\" answer='n/a'\n",
      "How much did \"EMT\" spend on customer acquisition in Q2 2023?\n",
      "\n",
      "# ASKING DELEGATION MANAGER: \n",
      "Delegations: \n",
      " chain_of_thought=\"The query is specifically about the company 'EMT' and its customer acquisition spending for a specific quarter in 2023. Since 'EMT' is one of the predefined companies, I can directly proceed to formulate the appropriate question for this query.\" companies=['EMT'] queries=[\"How much did 'EMT' spend on customer acquisition in Q2 2023 in dollars?\"]\n",
      "# ASKING COMPANY EXPERT\n",
      "# ASKING EXECUTION MANAGER: \n",
      "Query: How much did \"EMT\" spend on customer acquisition in Q2 2023?\n",
      "Context: {'EMT': AnswerEvent(chain_of_thought=\"The provided context does not contain any information regarding 'EMT' or its spending on customer acquisition in Q2 2023. There are no financial figures or details that specify this spending. Therefore, it is necessary to conclude that the information is insufficient to accurately answer the question.\", answer='n/a')}\n",
      "chain_of_thought=\"The provided context indicates that there is no information about 'EMT' or its spending on customer acquisition in Q2 2023. Therefore, it's clear that the data required to accurately answer the question is not available.\" answer='n/a'\n",
      "Who is the Board Chairman in the company \"Motus GI Holdings, Inc.\"?\n",
      "\n",
      "# ASKING DELEGATION MANAGER: \n",
      "Delegations: \n",
      " chain_of_thought='The question is specifically about the Board Chairman of \"Motus GI Holdings, Inc.\". Since this company is on the list provided, I will format the request accordingly without any further complications.' companies=['Motus GI Holdings, Inc.'] queries=[\"Who is the Board Chairman of 'Motus GI Holdings, Inc.'?\"]\n",
      "# ASKING COMPANY EXPERT\n",
      "# ASKING EXECUTION MANAGER: \n",
      "Query: Who is the Board Chairman in the company \"Motus GI Holdings, Inc.\"?\n",
      "Context: {'Motus GI Holdings, Inc.': AnswerEvent(chain_of_thought='The provided context does not explicitly mention who the Board Chairman of Motus GI Holdings, Inc. is, therefore I cannot determine that information.', answer='n/a')}\n",
      "chain_of_thought='The provided context does not explicitly mention who the Board Chairman of Motus GI Holdings, Inc. is, therefore I cannot determine that information.' answer='n/a'\n",
      "Did \"Calyxt, Inc.\" have a greater Operating Margin than \"Banque Cantonale Vaudoise\" in Q2 2023?\n",
      "\n",
      "# ASKING DELEGATION MANAGER: \n",
      "Delegations: \n",
      " chain_of_thought=\"The query asks about two companies: 'Calyxt, Inc.' and 'Banque Cantonale Vaudoise'. I can find data for 'Calyxt, Inc.' but 'Banque Cantonale Vaudoise' is not part of the provided list. Therefore, I will have to skip the request related to 'Banque Cantonale Vaudoise'.\" companies=['Calyxt, Inc.'] queries=[\"What was the Operating Margin of 'Calyxt, Inc.' in Q2 2023?\", 'SKIP']\n",
      "# ASKING COMPANY EXPERT\n",
      "# ASKING EXECUTION MANAGER: \n",
      "Query: Did \"Calyxt, Inc.\" have a greater Operating Margin than \"Banque Cantonale Vaudoise\" in Q2 2023?\n",
      "Context: {'Calyxt, Inc.': AnswerEvent(chain_of_thought='To find the Operating Margin in Q2 2023 for Calyxt, I searched for the relevant financial data in the provided context. However, the context only contains information about financial results for years ending December 31, 2022, 2021, and 2020, but does not provide any specific data for Q2 2023. Therefore, there is insufficient information to calculate or provide the Operating Margin for that specific quarter. As such, the result is n/a.', answer='n/a')}\n",
      "chain_of_thought='To determine if \"Calyxt, Inc.\" had a greater Operating Margin than \"Banque Cantonale Vaudoise\" in Q2 2023, I searched the provided context for the Operating Margin specifics for both companies in that particular quarter. However, the context only provides financial results for the years ending December 31 for 2022, 2021, and 2020, and does not include any data specific to Q2 2023. Therefore, there is insufficient information to compare the Operating Margins of the two companies in the specified period. Hence, the result is n/a.' answer='n/a'\n",
      "How many stores did \"EMT\" have in the end of fiscal year 2023?\n",
      "\n",
      "# ASKING DELEGATION MANAGER: \n",
      "Delegations: \n",
      " chain_of_thought=\"The question asks for information about the number of stores owned by 'EMT' at the end of fiscal year 2023. Since 'EMT' is listed among the valid companies, I will craft the appropriate query to request this specific information, focusing directly on the stores owned by the company in the specified year.\" companies=['EMT'] queries=[\"How many stores did 'EMT' have at the end of fiscal year 2023?\"]\n",
      "# ASKING COMPANY EXPERT\n",
      "# ASKING EXECUTION MANAGER: \n",
      "Query: How many stores did \"EMT\" have in the end of fiscal year 2023?\n",
      "Context: {'EMT': AnswerEvent(chain_of_thought=\"The provided context does not mention any information regarding the number of stores that 'EMT' had at the end of fiscal year 2023. Therefore, we do not have sufficient data to form an answer.\", answer='n/a')}\n",
      "chain_of_thought=\"The provided context does not mention any information regarding the number of stores that 'EMT' had at the end of fiscal year 2023. Therefore, we do not have sufficient data to form an answer.\" answer='n/a'\n",
      "How much did \"Ethernity Networks Ltd\" spend on customer acquisition in Q2 2023?\n",
      "\n",
      "# ASKING DELEGATION MANAGER: \n",
      "Delegations: \n",
      " chain_of_thought=\"The question is asking specifically about 'Ethernity Networks Ltd', which is the full name of the company. I included the full name in the companies list to match the query and to ensure accurate data retrieval. The query focuses on customer acquisition spending in Q2 2023, which is a specific metric related to the company's financial performance in that quarter.\" companies=['Ethernity Networks Ltd'] queries=[\"How much did 'Ethernity Networks Ltd' spend on customer acquisition in Q2 2023 in dollars?\"]\n",
      "# ASKING COMPANY EXPERT\n",
      "# ASKING EXECUTION MANAGER: \n",
      "Query: How much did \"Ethernity Networks Ltd\" spend on customer acquisition in Q2 2023?\n",
      "Context: {'Ethernity Networks Ltd': AnswerEvent(chain_of_thought=\"In the provided context, there is no specific information about 'Ethernity Networks Ltd' spending on customer acquisition for Q2 2023. The details included focus on revenue, gross margins, contracts, and operating losses, but do not mention explicit spending on customer acquisition, nor is there a breakdown of costs for Q2 2023. Therefore, it can be concluded that there is insufficient information to provide an answer to the question.\", answer='n/a')}\n",
      "chain_of_thought=\"In the provided context, there is no specific information about 'Ethernity Networks Ltd' spending on customer acquisition for Q2 2023. The details included focus on revenue, gross margins, contracts, and operating losses, but do not mention explicit spending on customer acquisition, nor is there a breakdown of costs for Q2 2023. Therefore, it can be concluded that there is insufficient information to provide an answer to the question.\" answer='n/a'\n",
      "Who is the CFO in the company \"Ethernity Networks Ltd\"?\n",
      "\n",
      "# ASKING DELEGATION MANAGER: \n",
      "Delegations: \n",
      " chain_of_thought=\"The query is asking for the CFO of a specific company, 'Ethernity Networks Ltd'. The company is indeed on the provided list, so I can formulate the appropriate request to find out who the CFO is. Since the question is about the CFO position, I'll create a query specifically about that role for Ethernity Networks.\" companies=['Ethernity Networks Ltd'] queries=[\"Who is the CFO of 'Ethernity Networks Ltd'?\"]\n",
      "# ASKING COMPANY EXPERT\n",
      "# ASKING EXECUTION MANAGER: \n",
      "Query: Who is the CFO in the company \"Ethernity Networks Ltd\"?\n",
      "Context: {'Ethernity Networks Ltd': AnswerEvent(chain_of_thought='In the provided context, there is no information regarding the Chief Financial Officer (CFO) of Ethernity Networks Ltd. The documents mention various members of the board and their roles, but do not specify a CFO. Therefore, I cannot provide the name or any details regarding this position.', answer='n/a')}\n",
      "chain_of_thought='In the provided context, there is no information regarding the Chief Financial Officer (CFO) of Ethernity Networks Ltd. The documents mention various members of the board and their roles, but do not specify a CFO. Therefore, I cannot provide the name or any details regarding this position.' answer='n/a'\n",
      "Did \"Canadian Banc Corp.\" have a greater Return on Assets (ROA) than \"VENUS METALS CORPORATION LIMITED\" in Q2 2021?\n",
      "\n",
      "# ASKING DELEGATION MANAGER: \n",
      "Delegations: \n",
      " chain_of_thought=\"The question compares the Return on Assets (ROA) of two specific companies in Q2 2021. Both companies are in the provided list, so I need to query the ROA for each for that specific quarter. I will structure the queries to retrieve the ROA for 'Canadian Banc Corp.' and 'VENUS METALS CORPORATION LIMITED' for the specified time frame.\" companies=['Canadian Banc Corp.', 'VENUS METALS CORPORATION LIMITED'] queries=[\"What was the Return on Assets (ROA) for 'Canadian Banc Corp.' in Q2 2021?\", \"What was the Return on Assets (ROA) for 'VENUS METALS CORPORATION LIMITED' in Q2 2021?\"]\n",
      "# ASKING COMPANY EXPERT\n",
      "# ASKING COMPANY EXPERT\n",
      "# ASKING EXECUTION MANAGER: \n",
      "Query: Did \"Canadian Banc Corp.\" have a greater Return on Assets (ROA) than \"VENUS METALS CORPORATION LIMITED\" in Q2 2021?\n",
      "Context: {'Canadian Banc Corp.': AnswerEvent(chain_of_thought='To find the Return on Assets (ROA) for Canadian Banc Corp. in Q2 2021, we would typically need the net income and total assets for that specific quarter. However, the provided data does not include Q2 2021 financials, nor does it provide the necessary details about net income or total assets specifically for that quarter. Without this data, I cannot compute the ROA.', answer='n/a'), 'VENUS METALS CORPORATION LIMITED': AnswerEvent(chain_of_thought=\"The provided context includes only the title 'VENUS METALS CORPORATION LIMITED | ANNUAL REPORT 2022', which implies that the document may only contain information pertaining to 2022. There is no mention or data available for the Return on Assets (ROA) for Q2 2021. Hence, I conclude that the required information is insufficient to provide an answer.\", answer='n/a')}\n",
      "chain_of_thought='To answer this question, I needed to compare the Return on Assets (ROA) of both Canadian Banc Corp. and VENUS METALS CORPORATION LIMITED for Q2 2021. However, the provided context indicates that there are no available financial details for either company regarding Q2 2021. Canadian Banc Corp. does not have the necessary net income or total assets figures for that quarter, and VENUS METALS CORPORATION LIMITED only contains information from the 2022 annual report, implying no data for 2021. Therefore, I cannot determine if Canadian Banc Corp. had a greater ROA than VENUS METALS CORPORATION LIMITED during that period due to the lack of data for both.' answer='n/a'\n",
      "How many stores did \"VENUS METALS CORPORATION LIMITED\" have in the end of fiscal year 2023?\n",
      "\n",
      "# ASKING DELEGATION MANAGER: \n",
      "Delegations: \n",
      " chain_of_thought='The question is specifically asking about the number of stores for the company \"VENUS METALS CORPORATION LIMITED\" at the end of the fiscal year 2023. I will proceed to query the relevant data focusing exclusively on this company since it\\'s the only one mentioned. As the company name matches exactly with the list provided, I\\'ll structure the request accordingly.' companies=['VENUS METALS CORPORATION LIMITED'] queries=[\"How many stores does 'VENUS METALS CORPORATION LIMITED' have at the end of fiscal year 2023?\"]\n",
      "# ASKING COMPANY EXPERT\n",
      "# ASKING EXECUTION MANAGER: \n",
      "Query: How many stores did \"VENUS METALS CORPORATION LIMITED\" have in the end of fiscal year 2023?\n",
      "Context: {'VENUS METALS CORPORATION LIMITED': AnswerEvent(chain_of_thought=\"I checked the context for any information related to the number of stores that 'VENUS METALS CORPORATION LIMITED' has. However, the provided context only includes references to an annual report for the year 2022 and does not specify details about the number of stores or any changes in the following fiscal year (2023). Since there is no data available in the context for the year 2023, I cannot provide an accurate number.\", answer='n/a')}\n",
      "chain_of_thought=\"I checked the context for any information related to the number of stores that 'VENUS METALS CORPORATION LIMITED' has. However, the context only includes references to an annual report for the year 2022 and does not provide details about the number of stores or any changes in the following fiscal year (2023). Since there is no data available in the context for the year 2023, I cannot provide an accurate number.\" answer='n/a'\n",
      "How much did \"Motus GI Holdings, Inc.\" spend on sustainability initiatives in Q2 2023?\n",
      "\n",
      "# ASKING DELEGATION MANAGER: \n",
      "Delegations: \n",
      " chain_of_thought=\"The query is specifically asking for data regarding 'Motus GI Holdings, Inc.' and their spending on sustainability initiatives for Q2 2023. I recognized that the company is correctly labeled in the list provided, so I can proceed to formulate the request based on this exact company name.\" companies=['Motus GI Holdings, Inc.'] queries=[\"How much did 'Motus GI Holdings, Inc.' spend on sustainability initiatives in Q2 2023 in dollars?\"]\n",
      "# ASKING COMPANY EXPERT\n",
      "# ASKING EXECUTION MANAGER: \n",
      "Query: How much did \"Motus GI Holdings, Inc.\" spend on sustainability initiatives in Q2 2023?\n",
      "Context: {'Motus GI Holdings, Inc.': AnswerEvent(chain_of_thought=\"The provided context does not include any details regarding the spending of 'Motus GI Holdings, Inc.' on sustainability initiatives in Q2 2023. There is no specific financial data or mention of sustainability expenses in the documents. Therefore, it is not possible to determine the amount spent.\", answer='n/a')}\n",
      "chain_of_thought=\"The provided context does not include any details regarding the spending of 'Motus GI Holdings, Inc.' on sustainability initiatives in Q2 2023. There is no specific financial data or mention of sustainability expenses in the documents. Therefore, it is not possible to determine the amount spent.\" answer='n/a'\n",
      "Who is the Board Chairman in the company \"Renishaw plc\"?\n",
      "\n",
      "# ASKING DELEGATION MANAGER: \n",
      "Delegations: \n",
      " chain_of_thought='The company \"Renishaw plc\" is not found in the provided list of companies. Therefore, I cannot create a valid request for this query about the Board Chairman.' companies=['SKIP'] queries=['SKIP']\n",
      "# ASKING EXECUTION MANAGER: \n",
      "Query: Who is the Board Chairman in the company \"Renishaw plc\"?\n",
      "Context: {'SKIP': 'No data available'}\n",
      "chain_of_thought=\"The provided context states 'No data available' which indicates that there is no information regarding the Board Chairman of Renishaw plc. Therefore, I cannot provide an answer based on the given data.\" answer='n/a'\n",
      "Did \"Canadian Banc Corp.\" have a greater Gross Profit Margin than \"Motus GI Holdings, Inc.\" in Q2 2022?\n",
      "\n",
      "# ASKING DELEGATION MANAGER: \n",
      "Delegations: \n",
      " chain_of_thought=\"I need to compare the Gross Profit Margin of 'Canadian Banc Corp.' and 'Motus GI Holdings, Inc.' for Q2 2022. Thus, I will prepare to query the respective gross profit margins for each company for that specific quarter.\" companies=['Canadian Banc Corp.', 'Motus GI Holdings, Inc.'] queries=[\"What was the Gross Profit Margin of 'Canadian Banc Corp.' in Q2 2022?\", \"What was the Gross Profit Margin of 'Motus GI Holdings' in Q2 2022?\"]\n",
      "# ASKING COMPANY EXPERT\n",
      "# ASKING COMPANY EXPERT\n",
      "# ASKING EXECUTION MANAGER: \n",
      "Query: Did \"Canadian Banc Corp.\" have a greater Gross Profit Margin than \"Motus GI Holdings, Inc.\" in Q2 2022?\n",
      "Context: {'Canadian Banc Corp.': AnswerEvent(chain_of_thought=\"To determine the Gross Profit Margin of 'Canadian Banc Corp.' in Q2 2022, I need to find revenue and gross profit figures specifically for that quarter. However, the context does not provide quarterly data; it includes financial information primarily for the years ending November 30, 2022, and 2021, with total income but not segmented by quarter. Because of this, I cannot calculate the Gross Profit Margin for Q2 2022 based on the given information.\", answer='n/a'), 'Motus GI Holdings, Inc.': AnswerEvent(chain_of_thought=\"To determine the Gross Profit Margin of 'Motus GI Holdings' in Q2 2022, I first need to calculate the gross profit for that period. Gross Profit Margin is calculated as (Revenue - Cost of Goods Sold) / Revenue. However, I only have data on total revenue (592,000) and total operating expenses for the year ending December 31, 2022, as well as costs related to sales from the previous year (2021). The information for Q2 2022 specifically regarding revenue and costs is not explicit or available in the provided data. Therefore, I can't derive the Gross Profit Margin accurately without that information. As such, the information is insufficient to provide an answer.\", answer='n/a')}\n",
      "chain_of_thought=\"To determine the Gross Profit Margin of 'Canadian Banc Corp.' in Q2 2022, the context indicates that there are no specific quarterly financial figures available, only annual totals. Similarly, for 'Motus GI Holdings, Inc.', the context provides total revenue and expenses yet does not breakdown finances by quarter. Without specific quarterly data for either company, it is impossible to calculate or compare their Gross Profit Margins for Q2 2022. Thus, the answer is n/a due to insufficient data for both companies.\" answer='n/a'\n",
      "How many stores did \"VENUS METALS CORPORATION LIMITED\" have in the end of fiscal year 2021?\n",
      "\n",
      "# ASKING DELEGATION MANAGER: \n",
      "Delegations: \n",
      " chain_of_thought=\"The query is specifically asking for data about 'VENUS METALS CORPORATION LIMITED', which is in the list of specified companies. Therefore, I will create the appropriate companies and queries list without any issues, focusing solely on the name provided.\" companies=['VENUS METALS CORPORATION LIMITED'] queries=[\"How many stores did 'VENUS METALS CORPORATION LIMITED' have at the end of fiscal year 2021?\"]\n",
      "# ASKING COMPANY EXPERT\n",
      "# ASKING EXECUTION MANAGER: \n",
      "Query: How many stores did \"VENUS METALS CORPORATION LIMITED\" have in the end of fiscal year 2021?\n",
      "Context: {'VENUS METALS CORPORATION LIMITED': AnswerEvent(chain_of_thought=\"The context does not contain specific data on the number of stores that 'VENUS METALS CORPORATION LIMITED' had at the end of fiscal year 2021. As there's no relevant information provided in the document, I conclude that the answer cannot be determined from the available data.\", answer='n/a')}\n",
      "chain_of_thought=\"The context does not contain specific data on the number of stores that 'VENUS METALS CORPORATION LIMITED' had at the end of fiscal year 2021. As there's no relevant information provided in the document, I conclude that the answer cannot be determined from the available data.\" answer='n/a'\n",
      "How much did \"Renishaw plc\" spend on risk management in Q2 2022?\n",
      "\n",
      "# ASKING DELEGATION MANAGER: \n",
      "Delegations: \n",
      " chain_of_thought=\"The company 'Renishaw plc' is not included in the provided list of companies, which contains specific names only. Therefore, I need to skip this request.\" companies=['SKIP'] queries=['SKIP']\n",
      "# ASKING EXECUTION MANAGER: \n",
      "Query: How much did \"Renishaw plc\" spend on risk management in Q2 2022?\n",
      "Context: {'SKIP': 'No data available'}\n",
      "chain_of_thought=\"The context explicitly states 'No data available' for spending on risk management for 'Renishaw plc' in Q2 2022. Therefore, I cannot provide any numerical value as there is no information on this topic.\" answer='n/a'\n",
      "Who is the Board Chairman in the company \"TD SYNNEX\"?\n",
      "\n",
      "# ASKING DELEGATION MANAGER: \n",
      "Delegations: \n",
      " chain_of_thought=\"The question specifically asks for the Board Chairman of a company that is included in the allowed list. Since 'TD SYNNEX' is present in that list, I will form a query to find out who the Board Chairman is.\" companies=['TD SYNNEX'] queries=[\"Who is the Board Chairman of 'TD SYNNEX'?\"]\n",
      "# ASKING COMPANY EXPERT\n",
      "# ASKING EXECUTION MANAGER: \n",
      "Query: Who is the Board Chairman in the company \"TD SYNNEX\"?\n",
      "Context: {'TD SYNNEX': AnswerEvent(chain_of_thought='I need to identify the current Board Chairman of TD SYNNEX. The data mentions Dennis Polk serving as Executive Chair of the Board since September 2021. There are no other names provided that might indicate a different person serving as Chairman. Therefore, it is reasonable to conclude that Dennis Polk is the Board Chairman.', answer='Dennis Polk')}\n",
      "chain_of_thought='I need to identify the current Board Chairman of TD SYNNEX. The data mentions Dennis Polk serving as Executive Chair of the Board since September 2021. There are no other names provided that might indicate a different person serving as Chairman. Therefore, it is reasonable to conclude that Dennis Polk is the Board Chairman.' answer='Dennis Polk'\n",
      "Did \"Banque Cantonale Vaudoise\" have a greater Operating Margin than \"Zegona Communications plc\" in Q2 2021?\n",
      "\n",
      "# ASKING DELEGATION MANAGER: \n",
      "Delegations: \n",
      " chain_of_thought=\"The company 'Banque Cantonale Vaudoise' is not included in the provided company list. Therefore, I cannot query for its operating margin in Q2 2021. Since 'Zegona Communications plc' is on the list, I can only refer to it and must indicate 'SKIP' for the other company.\" companies=['SKIP'] queries=[\"How much was the operating margin for 'Zegona Communications plc' in Q2 2021 in percentage?\"]\n",
      "# ASKING EXECUTION MANAGER: \n",
      "Query: Did \"Banque Cantonale Vaudoise\" have a greater Operating Margin than \"Zegona Communications plc\" in Q2 2021?\n",
      "Context: {'SKIP': 'No data available'}\n",
      "chain_of_thought='The context indicates that there is no data available regarding the operating margins of either \"Banque Cantonale Vaudoise\" or \"Zegona Communications plc\" in Q2 2021. As there is insufficient information to compare their operating margins, I cannot answer the question accurately.' answer='n/a'\n",
      "How many stores did \"Strike Energy Limited\" have in the end of fiscal year 2021?\n",
      "\n",
      "# ASKING DELEGATION MANAGER: \n",
      "Delegations: \n",
      " chain_of_thought=\"The question specifically asks for information regarding 'Strike Energy Limited', which is in the list of companies I have access to. I can proceed with crafting the query to retrieve the required data regarding the number of stores they had at the end of fiscal year 2021.\" companies=['Strike Energy Limited'] queries=[\"How many stores did 'Strike Energy Limited' have at the end of fiscal year 2021?\"]\n",
      "# ASKING COMPANY EXPERT\n",
      "# ASKING EXECUTION MANAGER: \n",
      "Query: How many stores did \"Strike Energy Limited\" have in the end of fiscal year 2021?\n",
      "Context: {'Strike Energy Limited': AnswerEvent(chain_of_thought=\"The provided data does not include any information about the number of stores operated by 'Strike Energy Limited' as of the end of fiscal year 2021. Therefore, it is impossible to determine that number based on the given information.\", answer='n/a')}\n",
      "chain_of_thought=\"The provided data does not include any information about the number of stores operated by 'Strike Energy Limited' as of the end of fiscal year 2021. Therefore, it is impossible to determine that number based on the given information.\" answer='n/a'\n",
      "How much did \"Ethernity Networks Ltd\" spend on customer acquisition in Q2 2023?\n",
      "\n",
      "# ASKING DELEGATION MANAGER: \n",
      "Delegations: \n",
      " chain_of_thought='The request is specifically about Ethernity Networks Ltd regarding their spending on customer acquisition in a specific quarter (Q2 2023). Since Ethernity Networks Ltd is on the provided company list, I will include it as a valid company and construct the necessary query regarding their customer acquisition expenditure in the specified timeframe.' companies=['Ethernity Networks Ltd'] queries=[\"How much did 'Ethernity Networks Ltd' spend on customer acquisition in Q2 2023 in dollars?\"]\n",
      "# ASKING COMPANY EXPERT\n",
      "# ASKING EXECUTION MANAGER: \n",
      "Query: How much did \"Ethernity Networks Ltd\" spend on customer acquisition in Q2 2023?\n",
      "Context: {'Ethernity Networks Ltd': AnswerEvent(chain_of_thought='I reviewed the provided context for any references to spending on customer acquisition for Ethernity Networks Ltd. However, no specific data on customer acquisition costs in Q2 2023 is available in the text. As there is no information regarding the specific dollar amount spent on customer acquisition in that quarter, I conclude that the information is insufficient to provide an answer.', answer='n/a')}\n",
      "chain_of_thought='I reviewed the provided context for any references to spending on customer acquisition for Ethernity Networks Ltd. However, no specific data on customer acquisition costs in Q2 2023 is available in the text. As there is no information regarding the specific dollar amount spent on customer acquisition in that quarter, I conclude that the information is insufficient to provide an answer.' answer='n/a'\n",
      "Who is the Chief Legal Officer in the company \"Nykredit\"?\n",
      "\n",
      "# ASKING DELEGATION MANAGER: \n",
      "Delegations: \n",
      " chain_of_thought=\"The query is looking for the Chief Legal Officer of Nykredit. Since Nykredit is listed among the specified companies, I'll proceed with the exact name in the companies list and format the query accordingly.\" companies=['Nykredit'] queries=[\"Who is the Chief Legal Officer in 'Nykredit'?\"]\n",
      "# ASKING COMPANY EXPERT\n",
      "# ASKING EXECUTION MANAGER: \n",
      "Query: Who is the Chief Legal Officer in the company \"Nykredit\"?\n",
      "Context: {'Nykredit': AnswerEvent(chain_of_thought='I searched the provided context for mentions of executive positions within Nykredit, specifically looking for the title of Chief Legal Officer. However, the data only lists individuals with roles such as Group Chief Executive, Managing Directors, and members of the Board of Directors, without any mention of a Chief Legal Officer. Given this lack of information on that specific role, I conclude that the information is insufficient to provide an answer.', answer='n/a')}\n",
      "chain_of_thought='I searched the provided context for mentions of executive positions within Nykredit, specifically looking for the title of Chief Legal Officer. However, the data only lists individuals with roles such as Group Chief Executive, Managing Directors, and members of the Board of Directors, without any mention of a Chief Legal Officer. Given this lack of information on that specific role, I conclude that the information is insufficient to provide an answer.' answer='n/a'\n",
      "Did \"Comet Holding AG\" have a greater Operating Margin than \"Calyxt, Inc.\" in Q2 2021?\n",
      "\n",
      "# ASKING DELEGATION MANAGER: \n",
      "Delegations: \n",
      " chain_of_thought='The company \"Comet Holding AG\" is not listed among the specified companies, so I need to mark it as \\'SKIP\\'. Since I cannot extract data on \"Comet Holding AG\", I will only create a query for \"Calyxt, Inc.\" regarding its operating margin for Q2 2021.' companies=['SKIP'] queries=[\"What was the operating margin of 'Calyxt' in Q2 2021 in percent?\"]\n",
      "# ASKING EXECUTION MANAGER: \n",
      "Query: Did \"Comet Holding AG\" have a greater Operating Margin than \"Calyxt, Inc.\" in Q2 2021?\n",
      "Context: {'SKIP': 'No data available'}\n",
      "chain_of_thought=\"The context provided states that there is 'No data available' for the question asked about the Operating Margins of 'Comet Holding AG' and 'Calyxt, Inc.' in Q2 2021. Since there is insufficient information to make a comparison, the answer must reflect that the information is not accessible.\" answer='n/a'\n",
      "How many stores did \"EMT\" have in the end of fiscal year 2022?\n",
      "\n",
      "# ASKING DELEGATION MANAGER: \n",
      "Delegations: \n",
      " chain_of_thought=\"I understood that the question was asking for specific information regarding the number of stores of the company 'EMT' at the end of fiscal year 2022. Since 'EMT' is in the provided list, I proceeded to find the query regarding the number of stores for that company in the specified time frame.\" companies=['EMT'] queries=[\"How many stores did 'EMT' have at the end of fiscal year 2022?\"]\n",
      "# ASKING COMPANY EXPERT\n",
      "# ASKING EXECUTION MANAGER: \n",
      "Query: How many stores did \"EMT\" have in the end of fiscal year 2022?\n",
      "Context: {'EMT': AnswerEvent(chain_of_thought='The provided data does not include any information related to the number of stores operated by eMetals Limited (EMT) at the end of fiscal year 2022. It primarily focuses on financial performance and director information, without any mention of store locations or counts.', answer='n/a')}\n",
      "chain_of_thought='The provided data does not include any information related to the number of stores operated by eMetals Limited (EMT) at the end of fiscal year 2022. It primarily focuses on financial performance and director information, without any mention of store locations or counts.' answer='n/a'\n"
     ]
    }
   ],
   "execution_count": 41
  },
  {
   "metadata": {
    "ExecuteTime": {
     "end_time": "2024-08-29T16:43:29.840591Z",
     "start_time": "2024-08-29T16:43:29.820278Z"
    }
   },
   "cell_type": "code",
   "source": "results",
   "id": "6807326cbe327128",
   "outputs": [
    {
     "data": {
      "text/plain": [
       "[{'question': 'How much did \"Accuray Incorporated\" spend on risk management in Q2 2022?',\n",
       "  'schema': 'number',\n",
       "  'answer': 'n/a'},\n",
       " {'question': 'Who is the CEO in the company \"Zegona Communications plc\"?',\n",
       "  'schema': 'name',\n",
       "  'answer': 'Eamonn O’Hare'},\n",
       " {'question': 'Did \"Global Medical REIT Inc.\" have a greater Debt-to-Equity ratio than \"Zegona Communications plc\" in Q2 2021?',\n",
       "  'schema': 'boolean',\n",
       "  'answer': 'n/a'},\n",
       " {'question': 'How many stores did \"Accuray Incorporated\" have in the end of fiscal year 2021?',\n",
       "  'schema': 'number',\n",
       "  'answer': 'n/a'},\n",
       " {'question': 'How much did \"Sandwell Aquatics Centre\" spend on R&D in Q2 2023?',\n",
       "  'schema': 'number',\n",
       "  'answer': 'n/a'},\n",
       " {'question': 'Who is the CFO in the company \"EMT\"?',\n",
       "  'schema': 'name',\n",
       "  'answer': 'n/a'},\n",
       " {'question': 'Did \"Calyxt, Inc.\" have a greater Return on Assets (ROA) than \"Global Medical REIT Inc.\" in Q2 2023?',\n",
       "  'schema': 'boolean',\n",
       "  'answer': 'n/a'},\n",
       " {'question': 'How many stores did \"OTC_UNCIF\" have in the end of fiscal year 2022?',\n",
       "  'schema': 'number',\n",
       "  'answer': 'n/a'},\n",
       " {'question': 'How much did \"Accuray Incorporated\" spend on customer acquisition in Q2 2021?',\n",
       "  'schema': 'number',\n",
       "  'answer': 'n/a'},\n",
       " {'question': 'Who is the CEO in the company \"Accuray Incorporated\"?',\n",
       "  'schema': 'name',\n",
       "  'answer': 'Joshua Levine'},\n",
       " {'question': 'Did \"Comet Holding AG\" have a greater Operating Margin than \"Ethernity Networks Ltd\" in Q2 2022?',\n",
       "  'schema': 'boolean',\n",
       "  'answer': 'n/a'},\n",
       " {'question': 'How many stores did \"VENUS METALS CORPORATION LIMITED\" have in the end of fiscal year 2022?',\n",
       "  'schema': 'number',\n",
       "  'answer': 'n/a'},\n",
       " {'question': 'How much did \"Ethernity Networks Ltd\" spend on R&D in Q2 2023?',\n",
       "  'schema': 'number',\n",
       "  'answer': 'n/a'},\n",
       " {'question': 'Who is the COO in the company \"Sandwell Aquatics Centre\"?',\n",
       "  'schema': 'name',\n",
       "  'answer': 'n/a'},\n",
       " {'question': 'Did \"Calyxt, Inc.\" have a greater market capitalization than \"NICE\" in Q2 2022?',\n",
       "  'schema': 'boolean',\n",
       "  'answer': 'n/a'},\n",
       " {'question': 'How many stores did \"Renishaw plc\" have in the end of fiscal year 2023?',\n",
       "  'schema': 'number',\n",
       "  'answer': 'n/a'},\n",
       " {'question': 'How much did \"TD SYNNEX\" spend on R&D in Q2 2022?',\n",
       "  'schema': 'number',\n",
       "  'answer': 'n/a'},\n",
       " {'question': 'Who is the CFO in the company \"TD SYNNEX\"?',\n",
       "  'schema': 'name',\n",
       "  'answer': 'Marshall Witt'},\n",
       " {'question': 'Did \"Eurocell PLC\" have a greater Return on Equity (ROE) than \"Strike Energy Limited\" in Q2 2022?',\n",
       "  'schema': 'boolean',\n",
       "  'answer': 'n/a'},\n",
       " {'question': 'How many stores did \"OTC_UNCIF\" have in the end of fiscal year 2023?',\n",
       "  'schema': 'number',\n",
       "  'answer': 'n/a'},\n",
       " {'question': 'How much did \"EMT\" spend on customer acquisition in Q2 2023?',\n",
       "  'schema': 'number',\n",
       "  'answer': 'n/a'},\n",
       " {'question': 'Who is the Board Chairman in the company \"Motus GI Holdings, Inc.\"?',\n",
       "  'schema': 'name',\n",
       "  'answer': 'n/a'},\n",
       " {'question': 'Did \"Calyxt, Inc.\" have a greater Operating Margin than \"Banque Cantonale Vaudoise\" in Q2 2023?',\n",
       "  'schema': 'boolean',\n",
       "  'answer': 'n/a'},\n",
       " {'question': 'How many stores did \"EMT\" have in the end of fiscal year 2023?',\n",
       "  'schema': 'number',\n",
       "  'answer': 'n/a'},\n",
       " {'question': 'How much did \"Ethernity Networks Ltd\" spend on customer acquisition in Q2 2023?',\n",
       "  'schema': 'number',\n",
       "  'answer': 'n/a'},\n",
       " {'question': 'Who is the CFO in the company \"Ethernity Networks Ltd\"?',\n",
       "  'schema': 'name',\n",
       "  'answer': 'n/a'},\n",
       " {'question': 'Did \"Canadian Banc Corp.\" have a greater Return on Assets (ROA) than \"VENUS METALS CORPORATION LIMITED\" in Q2 2021?',\n",
       "  'schema': 'boolean',\n",
       "  'answer': 'n/a'},\n",
       " {'question': 'How many stores did \"VENUS METALS CORPORATION LIMITED\" have in the end of fiscal year 2023?',\n",
       "  'schema': 'number',\n",
       "  'answer': 'n/a'},\n",
       " {'question': 'How much did \"Motus GI Holdings, Inc.\" spend on sustainability initiatives in Q2 2023?',\n",
       "  'schema': 'number',\n",
       "  'answer': 'n/a'},\n",
       " {'question': 'Who is the Board Chairman in the company \"Renishaw plc\"?',\n",
       "  'schema': 'name',\n",
       "  'answer': 'n/a'},\n",
       " {'question': 'Did \"Canadian Banc Corp.\" have a greater Gross Profit Margin than \"Motus GI Holdings, Inc.\" in Q2 2022?',\n",
       "  'schema': 'boolean',\n",
       "  'answer': 'n/a'},\n",
       " {'question': 'How many stores did \"VENUS METALS CORPORATION LIMITED\" have in the end of fiscal year 2021?',\n",
       "  'schema': 'number',\n",
       "  'answer': 'n/a'},\n",
       " {'question': 'How much did \"Renishaw plc\" spend on risk management in Q2 2022?',\n",
       "  'schema': 'number',\n",
       "  'answer': 'n/a'},\n",
       " {'question': 'Who is the Board Chairman in the company \"TD SYNNEX\"?',\n",
       "  'schema': 'name',\n",
       "  'answer': 'Dennis Polk'},\n",
       " {'question': 'Did \"Banque Cantonale Vaudoise\" have a greater Operating Margin than \"Zegona Communications plc\" in Q2 2021?',\n",
       "  'schema': 'boolean',\n",
       "  'answer': 'n/a'},\n",
       " {'question': 'How many stores did \"Strike Energy Limited\" have in the end of fiscal year 2021?',\n",
       "  'schema': 'number',\n",
       "  'answer': 'n/a'},\n",
       " {'question': 'How much did \"Ethernity Networks Ltd\" spend on customer acquisition in Q2 2023?',\n",
       "  'schema': 'number',\n",
       "  'answer': 'n/a'},\n",
       " {'question': 'Who is the Chief Legal Officer in the company \"Nykredit\"?',\n",
       "  'schema': 'name',\n",
       "  'answer': 'n/a'},\n",
       " {'question': 'Did \"Comet Holding AG\" have a greater Operating Margin than \"Calyxt, Inc.\" in Q2 2021?',\n",
       "  'schema': 'boolean',\n",
       "  'answer': 'n/a'},\n",
       " {'question': 'How many stores did \"EMT\" have in the end of fiscal year 2022?',\n",
       "  'schema': 'number',\n",
       "  'answer': 'n/a'}]"
      ]
     },
     "execution_count": 42,
     "metadata": {},
     "output_type": "execute_result"
    }
   ],
   "execution_count": 42
  },
  {
   "metadata": {},
   "cell_type": "markdown",
   "source": "## OLD Inference with chain OLD",
   "id": "a72c0743a280a392"
  },
  {
   "metadata": {},
   "cell_type": "code",
   "outputs": [],
   "execution_count": 7,
   "source": [
    "# Create vector store\n",
    "# https://python.langchain.com/v0.1/docs/modules/data_connection/retrievers/vectorstore/\n",
    "# Load documents from the specified folder\n",
    "documents = load_documents_from_folder(SAMPLES_PATH, df_sample.sha1.to_list())\n",
    "\n",
    "text_splitter = RecursiveCharacterTextSplitter(chunk_size=1000, chunk_overlap=100) # TODO more sophisticated\n",
    "texts = text_splitter.split_documents(documents)\n",
    "\n",
    "if len(texts) == 0:\n",
    "    raise ValueError(\"No text found in the specified folder\")"
   ],
   "id": "81ae7475c4724d33"
  },
  {
   "metadata": {},
   "cell_type": "code",
   "outputs": [],
   "execution_count": 8,
   "source": [
    "embeddings = OpenAIEmbeddings() # deprecated?\n",
    "db = FAISS.from_documents(texts, embeddings)\n",
    "retriever = db.as_retriever()"
   ],
   "id": "17ed60cef6f0728b"
  },
  {
   "metadata": {},
   "cell_type": "code",
   "outputs": [],
   "execution_count": 54,
   "source": [
    "# Store vector database\n",
    "# with open(\"data/first_sample_db_3\", \"wb\") as f:\n",
    "#     pickle.dump(db.serialize_to_bytes(), f)"
   ],
   "id": "679bcdd960449594"
  },
  {
   "metadata": {},
   "cell_type": "code",
   "outputs": [],
   "execution_count": 8,
   "source": [
    "# Load vector database\n",
    "# with open(\"data/vector_db_uni\", \"rb\") as f:\n",
    "#     db_bytes = pickle.load(f)\n",
    "#     db = FAISS.deserialize_from_bytes(db_bytes, OpenAIEmbeddings(),\n",
    "#                                       allow_dangerous_deserialization=True)\n",
    "#     retriever = db.as_retriever()"
   ],
   "id": "c253bf0a4f5bd84e"
  },
  {
   "metadata": {
    "ExecuteTime": {
     "end_time": "2024-08-29T12:18:15.355338Z",
     "start_time": "2024-08-29T12:18:15.330580Z"
    }
   },
   "cell_type": "code",
   "source": [
    "llm = ChatOpenAI(temperature=0)\n",
    "# llm = llm.bind(logprobs=True, top_logprobs=3)\n",
    "# could try local models as well\n",
    "\n",
    "system_prompt_2 = (\n",
    "    f\"You are an intelligent assistant tasked with answering questions based on specific company data provided in the context. \"\n",
    "    f\"Please provide a chain of thought on how you arrived at your final answer in 'chain_of_thought'. \\n\"\n",
    "    f\"Then give a final answer in 'answer' where you strictly adhere to the following guidelines: \\n {ANSWER_GUIDELINES} \\n \"\n",
    "    f\"Ensure that your answers are strictly compliant with these guidelines. Accuracy and adherence to the format are crucial. \\n\"\n",
    "    \n",
    "    # f\"Your primary task is to accurately identify and extract specific financial metrics, ratios, and counts, even when synonymous \"\n",
    "    # f\"or contextually similar terms are used. Here is some useful information about these: \\n {fin_info}\"\n",
    "    \n",
    "    \"Context: \\n {context}\"\n",
    ")\n",
    "\n",
    "prompt = ChatPromptTemplate.from_messages(\n",
    "    [\n",
    "        (\"system\", system_prompt_2),\n",
    "        (\"human\", \"{input}\"),\n",
    "    ]\n",
    ")\n",
    "\n",
    "question_answer_chain = create_stuff_documents_chain(llm, prompt)\n",
    "\n",
    "\n",
    "# Function to ask a question\n",
    "def ask_question(query):\n",
    "    # retriever = get_retriever(query)\n",
    "    \n",
    "    chain = create_retrieval_chain(retriever, question_answer_chain)\n",
    "    \n",
    "    response = chain.invoke({\"input\": query})\n",
    "    answer = response[\"answer\"]\n",
    "    print(f\"Question: {query}\\nAnswer: {answer}\")"
   ],
   "id": "a037ab4cbb4f07dc",
   "outputs": [],
   "execution_count": 31
  },
  {
   "metadata": {},
   "cell_type": "markdown",
   "source": [
    "```python\n",
    "    ('What was the {fin_metric} of \"{company}\" in {time_frame}?', \"number\"),\n",
    "    ('How much did \"{company}\" spend on {focus_area} in {time_frame}?', \"number\"),\n",
    "    ('What was the {ratio_or_metric} of \"{company}\" in {time_frame}?', \"number\"),\n",
    "    ('How many {count_metric} did \"{company}\" have in {time_frame}?', \"number\"),\n",
    "    ('Which company had a higher {fin_metric}: \"{company1}\", \"{company2}\" or \"{company3}\", in {time_frame}?', \"name\"),\n",
    "    ('Did \"{company1}\" have a greater {ratio_or_metric} than \"{company2}\" in {time_frame}?', \"boolean\"),\n",
    "    ('How much more did \"{company1}\" spend on {focus_area} compared to \"{company2}\" in {time_frame}?', \"number\"),\n",
    "    ('Who is the {role} in the company \"{company}\"?', \"name\"),\n",
    "```"
   ],
   "id": "9cf20ac7a4db1af4"
  },
  {
   "metadata": {},
   "cell_type": "code",
   "outputs": [],
   "execution_count": null,
   "source": [
    "# multiple agents\n",
    "# retriever per company\n",
    "# -> first check if we need several processes to answer the questions (e.g. check revenues of 3 companies, then use these values with a final agent)\n",
    "# chain of though: output json with chain of thought and final answer"
   ],
   "id": "70488b37bdd0937c"
  },
  {
   "metadata": {
    "ExecuteTime": {
     "end_time": "2024-08-29T12:17:04.097388Z",
     "start_time": "2024-08-29T12:17:02.236027Z"
    }
   },
   "cell_type": "code",
   "source": [
    "# Ask a question\n",
    "ask_question(\"How many assets does 'Accuray Incorporated' have in 2022 in dollars?\") # 472.849 "
   ],
   "id": "dd1680f262dfb880",
   "outputs": [
    {
     "name": "stdout",
     "output_type": "stream",
     "text": [
      "Question: How many assets does 'Accuray Incorporated' have in 2022 in dollars?\n",
      "Answer: chain_of_thought: \n",
      "1. Look for the Consolidated Balance Sheets section to find the total assets for Accuray Incorporated in 2022.\n",
      "2. Identify the value listed under \"Total current assets\" and any other asset categories to calculate the total assets for the company in 2022.\n",
      "\n",
      "answer: 352890\n"
     ]
    }
   ],
   "execution_count": 28
  },
  {
   "metadata": {
    "ExecuteTime": {
     "end_time": "2024-08-29T12:17:43.430829Z",
     "start_time": "2024-08-29T12:17:38.923914Z"
    }
   },
   "cell_type": "code",
   "source": "ask_question(\"How many assets does 'Accuray Incorporated' have in 2021 in dollars?\") # 480.098",
   "id": "218a06bbe2a85c3",
   "outputs": [
    {
     "name": "stdout",
     "output_type": "stream",
     "text": [
      "Question: How many assets does 'Accuray Incorporated' have in 2021 in dollars?\n",
      "Answer: Chain of Thought:\n",
      "1. Look for the Consolidated Balance Sheets section.\n",
      "2. Find the total assets value for 'Accuray Incorporated' for June 30, 2021.\n",
      "\n",
      "Answer:\n",
      "352773\n"
     ]
    }
   ],
   "execution_count": 29
  },
  {
   "metadata": {
    "ExecuteTime": {
     "end_time": "2024-08-29T12:18:24.209027Z",
     "start_time": "2024-08-29T12:18:19.411979Z"
    }
   },
   "cell_type": "code",
   "source": "ask_question(\"How many liabilities does 'Accuray Incorporated' have in 2021 in dollars?\") # 411.258",
   "id": "b4ebc4eb695669b2",
   "outputs": [
    {
     "name": "stdout",
     "output_type": "stream",
     "text": [
      "Question: How many liabilities does 'Accuray Incorporated' have in 2021 in dollars?\n",
      "Answer: Chain of Thought:\n",
      "1. Liabilities can be calculated by subtracting total assets from total equity, as liabilities = assets - equity.\n",
      "2. The total assets for 2021 are not provided directly but can be calculated by summing up the current assets and other assets like property, equipment, etc.\n",
      "3. The total equity for 2021 is not directly given but can be calculated by adding common stock, additional paid-in capital, accumulated other comprehensive income (loss), and accumulated deficit from the stockholders' equity statement.\n",
      "4. Once total assets and total equity are calculated, liabilities can be determined.\n",
      "\n",
      "Answer:\n",
      "$378,000\n",
      "\n",
      "Chain of Thought:\n",
      "- Total assets for 2021 are calculated as $350,890 (current assets) + $12,685 (property and equipment) + $13,879 (investment in joint venture) + $16,798 (operating lease right-of-use assets) + $57,840 (goodwill) + $250 (intangible assets) = $452,342.\n",
      "- Total equity for 2021 is calculated as $89 (common stock) + $535,332 (additional paid-in capital) - $10 (accumulated other comprehensive income (loss)) - $485,540 (accumulated deficit) = $49,871.\n",
      "- Liabilities = Total assets - Total equity = $452,342 - $49,871 = $402,471.\n"
     ]
    }
   ],
   "execution_count": 32
  },
  {
   "metadata": {
    "ExecuteTime": {
     "end_time": "2024-08-29T09:30:09.288924Z",
     "start_time": "2024-08-29T09:30:08.407126Z"
    }
   },
   "cell_type": "code",
   "source": "ask_question(\"How many stores did 'Strike Energy Limited' have in the end of fiscal year 2021?\") # n/a",
   "id": "e7203ba338fdfc8f",
   "outputs": [
    {
     "name": "stdout",
     "output_type": "stream",
     "text": [
      "Question: How many stores did 'Strike Energy Limited' have in the end of fiscal year 2021?\n",
      "Answer: n/a\n"
     ]
    }
   ],
   "execution_count": 78
  },
  {
   "metadata": {
    "ExecuteTime": {
     "end_time": "2024-08-29T09:32:07.925495Z",
     "start_time": "2024-08-29T09:32:05.912768Z"
    }
   },
   "cell_type": "code",
   "source": [
    "# Total R&D Expenses of Ethernity Networks\n",
    "ask_question(\"What are the total R&D expenses of 'Ethernity Networks' in 2021?\") # 5 550 912\n",
    "\n",
    "ask_question(\"What are the total R&D expenses of 'Ethernity Networks' in 2022?\") # 6 618 795"
   ],
   "id": "4f3d945ab69d9dc4",
   "outputs": [
    {
     "name": "stdout",
     "output_type": "stream",
     "text": [
      "Question: What are the total R&D expenses of 'Ethernity Networks' in 2021?\n",
      "Answer: 5550912\n",
      "Question: What are the total R&D expenses of 'Ethernity Networks' in 2022?\n",
      "Answer: 6618795\n"
     ]
    }
   ],
   "execution_count": 83
  }
 ],
 "metadata": {
  "kernelspec": {
   "display_name": "Python 3",
   "language": "python",
   "name": "python3"
  },
  "language_info": {
   "codemirror_mode": {
    "name": "ipython",
    "version": 2
   },
   "file_extension": ".py",
   "mimetype": "text/x-python",
   "name": "python",
   "nbconvert_exporter": "python",
   "pygments_lexer": "ipython2",
   "version": "2.7.6"
  }
 },
 "nbformat": 4,
 "nbformat_minor": 5
}
