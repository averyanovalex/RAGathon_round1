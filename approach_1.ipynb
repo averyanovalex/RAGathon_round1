{
 "cells": [
  {
   "cell_type": "code",
   "id": "initial_id",
   "metadata": {
    "collapsed": true,
    "ExecuteTime": {
     "end_time": "2024-08-29T08:09:46.958527Z",
     "start_time": "2024-08-29T08:09:45.077152Z"
    }
   },
   "source": [
    "import os\n",
    "import PyPDF2\n",
    "import markdown2\n",
    "import json\n",
    "import pickle\n",
    "\n",
    "from docx import Document as DocxDocument\n",
    "from pptx import Presentation\n",
    "\n",
    "from langchain_core.documents import Document\n",
    "from langchain.text_splitter import RecursiveCharacterTextSplitter\n",
    "from langchain_community.vectorstores import FAISS\n",
    "from langchain_openai.embeddings.base import OpenAIEmbeddings\n",
    "\n",
    "from langchain.chains import create_retrieval_chain\n",
    "from langchain.chains.combine_documents import create_stuff_documents_chain\n",
    "from langchain_core.prompts import ChatPromptTemplate\n",
    "from langchain_openai import ChatOpenAI\n",
    "\n",
    "# Rinats well documented sample project\n",
    "# https://github.com/trustbit/private-poc-fmw-content-generator/tree/main/backend-and-kb/src/fmw"
   ],
   "outputs": [],
   "execution_count": 1
  },
  {
   "cell_type": "code",
   "source": [
    "# folder_path = 'C:/Users/Felix/My Drive/UniVie/1st Semester/IML'\n",
    "folder_path = r\"G:\\My Drive\\UniVie\\1st Semester\\IML\"\n",
    "# folder_path = r\"C:\\Users\\felix.krause\\code\\trustbit\\llm_experiments\\data\"\n",
    "# folder_path = r\"C:\\Users\\felix.krause\\Zotero\\storage\"\n",
    "\n",
    "# embeddings_model_name = \"sentence-transformers/all-MiniLM-L6-v2\" # Hugging Face model\n",
    "\n",
    "# load key from json\n",
    "with open(\"secrets.json\") as f:\n",
    "    keys = json.load(f)\n",
    "    openai_key = keys[\"OPENAI_API_KEY\"]"
   ],
   "metadata": {
    "collapsed": false,
    "ExecuteTime": {
     "end_time": "2024-08-29T08:10:02.717047Z",
     "start_time": "2024-08-29T08:10:02.712540Z"
    }
   },
   "id": "c9d08ba3f7c82c24",
   "outputs": [],
   "execution_count": 3
  },
  {
   "cell_type": "code",
   "source": [
    "# Function to load text from different file types\n",
    "def load_text_from_file(file_path):\n",
    "    _, file_extension = os.path.splitext(file_path)\n",
    "    text = \"\"\n",
    "\n",
    "    if file_extension == \".md\":\n",
    "        with open(file_path, 'r') as f:\n",
    "            text = markdown2.markdown(f.read())\n",
    "    elif file_extension == \".docx\":\n",
    "        doc = DocxDocument(file_path)\n",
    "        for para in doc.paragraphs:\n",
    "            text += para.text + \"\\n\"\n",
    "    elif file_extension == \".pptx\":\n",
    "        presentation = Presentation(file_path)\n",
    "        for slide in presentation.slides:\n",
    "            for shape in slide.shapes:\n",
    "                if hasattr(shape, \"text\"):\n",
    "                    text += shape.text + \"\\n\"\n",
    "    elif file_extension == \".pdf\":\n",
    "        with open(file_path, 'rb') as f:\n",
    "            reader = PyPDF2.PdfReader(f, strict=False)\n",
    "            for page in reader.pages:\n",
    "                text += page.extract_text() + \"\\n\"\n",
    "    \n",
    "    return text\n",
    "\n",
    "# Function to load documents from a folder\n",
    "def load_documents_from_folder(folder_path):\n",
    "    documents = []\n",
    "    for root, _, files in os.walk(folder_path):\n",
    "        for file in files:\n",
    "            file_path = os.path.join(root, file)\n",
    "            text = load_text_from_file(file_path)\n",
    "            if text:\n",
    "                documents.append(Document(page_content=text, metadata={\"source\": file_path}))\n",
    "    return documents\n",
    "\n",
    "# Load documents from the specified folder\n",
    "documents = load_documents_from_folder(folder_path)\n",
    "\n",
    "# Create vector store\n",
    "# https://python.langchain.com/v0.1/docs/modules/data_connection/retrievers/vectorstore/\n",
    "text_splitter = RecursiveCharacterTextSplitter(chunk_size=1000, chunk_overlap=100)\n",
    "texts = text_splitter.split_documents(documents)\n",
    "\n",
    "if len(texts) == 0:\n",
    "    raise ValueError(\"No text found in the specified folder\")"
   ],
   "metadata": {
    "collapsed": false,
    "ExecuteTime": {
     "end_time": "2024-07-26T12:28:35.714565Z",
     "start_time": "2024-07-26T12:28:21.499040Z"
    }
   },
   "id": "a78b2e35a4794cc2",
   "outputs": [],
   "execution_count": 3
  },
  {
   "metadata": {
    "ExecuteTime": {
     "end_time": "2024-07-26T12:29:03.163363Z",
     "start_time": "2024-07-26T12:28:49.854993Z"
    }
   },
   "cell_type": "code",
   "source": [
    "embeddings = OpenAIEmbeddings(api_key=openai_key) # deprecated?\n",
    "db = FAISS.from_documents(texts, embeddings)\n",
    "retriever = db.as_retriever()"
   ],
   "id": "17ed60cef6f0728b",
   "outputs": [],
   "execution_count": 4
  },
  {
   "cell_type": "code",
   "source": [
    "# Store vector database\n",
    "# with open(\"data/vector_db_uni\", \"wb\") as f:\n",
    "#     pickle.dump(db.serialize_to_bytes(), f)"
   ],
   "metadata": {
    "collapsed": false,
    "ExecuteTime": {
     "end_time": "2024-07-19T14:16:19.687849Z",
     "start_time": "2024-07-19T14:16:19.666950Z"
    }
   },
   "id": "679bcdd960449594",
   "outputs": [],
   "execution_count": 14
  },
  {
   "metadata": {
    "ExecuteTime": {
     "end_time": "2024-08-29T08:10:33.073516Z",
     "start_time": "2024-08-29T08:10:33.037048Z"
    }
   },
   "cell_type": "code",
   "source": [
    "# Load vector database\n",
    "with open(\"data/vector_db_uni\", \"rb\") as f:\n",
    "    db_bytes = pickle.load(f)\n",
    "    db = FAISS.deserialize_from_bytes(db_bytes, OpenAIEmbeddings(api_key=openai_key),\n",
    "                                      allow_dangerous_deserialization=True)\n",
    "    retriever = db.as_retriever()"
   ],
   "id": "c253bf0a4f5bd84e",
   "outputs": [],
   "execution_count": 8
  },
  {
   "metadata": {},
   "cell_type": "markdown",
   "source": "## Define LLM",
   "id": "91ba734ade06ebfa"
  },
  {
   "metadata": {
    "ExecuteTime": {
     "end_time": "2024-08-29T08:10:36.747748Z",
     "start_time": "2024-08-29T08:10:36.723055Z"
    }
   },
   "cell_type": "code",
   "source": [
    "llm = ChatOpenAI(api_key=openai_key, temperature=0)\n",
    "llm = llm.bind(logprobs=True, top_logprobs=3)\n",
    "# could try local models as well"
   ],
   "id": "66c2136317cddb62",
   "outputs": [],
   "execution_count": 9
  },
  {
   "metadata": {},
   "cell_type": "markdown",
   "source": "## Inference with chain",
   "id": "a72c0743a280a392"
  },
  {
   "cell_type": "code",
   "source": [
    "system_prompt = (\n",
    "    \"Use the given context to answer the question. \"\n",
    "    # \"If you don't know the answer, say you don't know. \"\n",
    "    # \"Keep the answer concise. \"\n",
    "    \"Context: {context}\"\n",
    ")\n",
    "\n",
    "prompt = ChatPromptTemplate.from_messages(\n",
    "    [\n",
    "        (\"system\", system_prompt),\n",
    "        (\"human\", \"{input}\"),\n",
    "    ]\n",
    ")"
   ],
   "metadata": {
    "collapsed": false,
    "ExecuteTime": {
     "end_time": "2024-08-29T08:10:38.238559Z",
     "start_time": "2024-08-29T08:10:38.233768Z"
    }
   },
   "id": "5839c1c42cf2a1cd",
   "outputs": [],
   "execution_count": 10
  },
  {
   "metadata": {
    "ExecuteTime": {
     "end_time": "2024-08-29T08:10:38.698248Z",
     "start_time": "2024-08-29T08:10:38.691723Z"
    }
   },
   "cell_type": "code",
   "source": [
    "question_answer_chain = create_stuff_documents_chain(llm, prompt)\n",
    "chain = create_retrieval_chain(retriever, question_answer_chain)\n",
    "\n",
    "# Function to ask a question\n",
    "def ask_question(query):\n",
    "    response = chain.invoke({\"input\": query})\n",
    "    answer = response[\"answer\"]\n",
    "    print(f\"Question: {query}\\nAnswer: {answer}\")"
   ],
   "id": "a037ab4cbb4f07dc",
   "outputs": [],
   "execution_count": 11
  },
  {
   "metadata": {
    "ExecuteTime": {
     "end_time": "2024-07-26T12:32:44.222106Z",
     "start_time": "2024-07-26T12:32:38.468581Z"
    }
   },
   "cell_type": "code",
   "source": "ask_question(\"I am doing research for my thesis about predicting protein-to-mRNA ratios with Deep learning. The Paper 'Quantification and discovery of sequence determinants' of Eraslan et al 2019 is most similar to what I wanna do. Which papers are referenced in this paper and in other papers frequently and are most relevant?\")",
   "id": "bbc8fcde0fec0493",
   "outputs": [
    {
     "name": "stdout",
     "output_type": "stream",
     "text": [
      "Question: I am doing research for my thesis about predicting protein-to-mRNA ratios with Deep learning. The Paper 'Quantification and discovery of sequence determinants' of Eraslan et al 2019 is most similar to what I wanna do. Which papers are referenced in this paper and in other papers frequently and are most relevant?\n",
      "Answer: The paper \"Quantification and discovery of sequence determinants of protein-per-mRNA amount in 29 human tissues\" by Eraslan et al. (2019) is a valuable resource for your research on predicting protein-to-mRNA ratios with deep learning. In this paper, several references are mentioned that are frequently cited and relevant to the topic. Some of the key references in this paper include:\n",
      "\n",
      "1. Vogel et al. (2010) - This paper is referenced in the context of multivariate regression analysis to predict protein abundances from mRNA abundances and mRNA sequence features.\n",
      "\n",
      "2. Wilson et al. (2016) - Mentioned in relation to how amino acid identity affects translation.\n",
      "\n",
      "3. Hanson & Coller (2018) - Referenced for their work on how amino acid identity affects translation and protein half-life.\n",
      "\n",
      "4. Fang et al. (2014) - Cited for their research on how amino acid frequency and synonymous codon usage affect protein-to-mRNA ratios.\n",
      "\n",
      "These references are frequently cited in the field and are relevant to the study of protein-to-mRNA ratios, translation, and protein stability. You may find it beneficial to explore these papers further for your research on predicting protein-to-mRNA ratios using deep learning techniques.\n"
     ]
    }
   ],
   "execution_count": 11
  },
  {
   "metadata": {
    "ExecuteTime": {
     "end_time": "2024-07-26T12:36:31.616735Z",
     "start_time": "2024-07-26T12:36:29.974659Z"
    }
   },
   "cell_type": "code",
   "source": "ask_question(\"Check the references of the provided papers. Which papers are most frequently referenced?\")",
   "id": "e11ae4e3955d2e96",
   "outputs": [
    {
     "name": "stdout",
     "output_type": "stream",
     "text": [
      "Question: Check the references of the provided papers. Which papers are most frequently referenced?\n",
      "Answer: The provided context mentions references to two papers: Zolg et al, 2017 and Toprak et al, 2014. Among these two papers, the paper by Zolg et al, 2017 is referenced more frequently.\n"
     ]
    }
   ],
   "execution_count": 13
  },
  {
   "metadata": {},
   "cell_type": "markdown",
   "source": "### Questions about Uni lecture files",
   "id": "8fca816c142e15f1"
  },
  {
   "metadata": {
    "ExecuteTime": {
     "end_time": "2024-08-29T08:10:52.286445Z",
     "start_time": "2024-08-29T08:10:49.258400Z"
    }
   },
   "cell_type": "code",
   "source": "ask_question(\"How much cash does this company have in 2019?\")",
   "id": "5d707c1bf66d2d0d",
   "outputs": [
    {
     "name": "stdout",
     "output_type": "stream",
     "text": [
      "Question: How much cash does this company have in 2019?\n",
      "Answer: Based on the provided context, there is no specific information about the cash holdings of the company in 2019. The context mainly discusses datasets, model complexity, bias-variance tradeoff, and other technical aspects related to data analysis and machine learning. Therefore, it is not possible to determine the exact amount of cash the company had in 2019 from the given information.\n"
     ]
    }
   ],
   "execution_count": 12
  },
  {
   "cell_type": "code",
   "source": "ask_question(\"Which main topics did we cover in the IML course?\")",
   "metadata": {
    "collapsed": false,
    "ExecuteTime": {
     "end_time": "2024-08-29T08:11:02.107766Z",
     "start_time": "2024-08-29T08:10:58.786105Z"
    }
   },
   "id": "8369d46ad4c93f2c",
   "outputs": [
    {
     "name": "stdout",
     "output_type": "stream",
     "text": [
      "Question: Which main topics did we cover in the IML course?\n",
      "Answer: The main topics covered in the Introduction to Machine Learning (IML) course are:\n",
      "\n",
      "1. Linear regression\n",
      "2. Linear classification\n",
      "3. Kernels and the kernel trick\n",
      "4. Neural networks & Deep Learning\n",
      "5. Unsupervised learning\n",
      "6. The statistical perspective\n",
      "7. Statistical decision theory\n",
      "8. Discriminative vs. generative modeling\n",
      "9. Bayes’ classifiers\n",
      "10. Bayesian approaches to unsupervised learning\n",
      "\n",
      "Additionally, there are optional topics mentioned in parentheses, which are:\n",
      "- Generative modeling with neural networks\n",
      "- Reinforcement learning\n"
     ]
    }
   ],
   "execution_count": 13
  },
  {
   "cell_type": "code",
   "source": "ask_question(\"Did we cover the Representer Theorem? In which pdf can I find it?\")",
   "metadata": {
    "collapsed": false,
    "ExecuteTime": {
     "end_time": "2024-07-19T14:23:59.372235Z",
     "start_time": "2024-07-19T14:23:57.839667Z"
    }
   },
   "id": "d0e53e30e9f68151",
   "outputs": [
    {
     "name": "stdout",
     "output_type": "stream",
     "text": [
      "Question: Did we cover the Representer Theorem? In which pdf can I find it?\n",
      "Answer: Yes, we covered the Representer Theorem. You can find it in the PDF titled \"05-Kernels\" on page 19.\n"
     ]
    }
   ],
   "execution_count": 60
  },
  {
   "cell_type": "code",
   "source": "ask_question(\"Which topics were asked in the final exam 2022?\")",
   "metadata": {
    "collapsed": false,
    "ExecuteTime": {
     "end_time": "2024-07-19T14:24:01.065738Z",
     "start_time": "2024-07-19T14:23:59.372235Z"
    }
   },
   "id": "df1c13371d449f5b",
   "outputs": [
    {
     "name": "stdout",
     "output_type": "stream",
     "text": [
      "Question: Which topics were asked in the final exam 2022?\n",
      "Answer: The final exam in 2022 covered topics such as Basics, Kernels, Neural Networks, Unsupervised Learning (K-Means and PCA), and Decision Theory and Classifier Metrics.\n"
     ]
    }
   ],
   "execution_count": 61
  },
  {
   "cell_type": "code",
   "source": "ask_question(\"What information does the cheatsheet contain about the Representer Theorem?\")",
   "metadata": {
    "collapsed": false,
    "ExecuteTime": {
     "end_time": "2024-07-19T14:24:02.989759Z",
     "start_time": "2024-07-19T14:24:01.067250Z"
    }
   },
   "id": "69354af030e5d99c",
   "outputs": [
    {
     "name": "stdout",
     "output_type": "stream",
     "text": [
      "Question: What information does the cheatsheet contain about the Representer Theorem?\n",
      "Answer: The cheatsheet contains information about the Representer Theorem, which states that for a given optimization problem involving a mapping from a data space to a Hilbert space, there exist coefficients such that the optimal solution can be represented as a linear combination of the mapped data points.\n"
     ]
    }
   ],
   "execution_count": 62
  },
  {
   "metadata": {},
   "cell_type": "markdown",
   "source": "## Show uncertainty",
   "id": "68ba3164fb6b0740"
  },
  {
   "metadata": {
    "ExecuteTime": {
     "end_time": "2024-07-19T14:18:47.568333Z",
     "start_time": "2024-07-19T14:18:47.552269Z"
    }
   },
   "cell_type": "code",
   "source": "from response_certainty import display_uncertainty",
   "id": "d607053b69617d5c",
   "outputs": [],
   "execution_count": 32
  },
  {
   "metadata": {
    "ExecuteTime": {
     "end_time": "2024-07-19T14:39:58.551947Z",
     "start_time": "2024-07-19T14:39:58.546948Z"
    }
   },
   "cell_type": "code",
   "source": [
    "def ask_question_probs(query, skip_certain_thres=1):\n",
    "    context = str(retriever.invoke(query))\n",
    "    system_prompt = \"Use the given context to answer the question. Keep the answer concise. Context:\"\n",
    "    query = \"\\n User question: \" + query\n",
    "    final_query = system_prompt + context + query\n",
    "    \n",
    "    response = llm.invoke(final_query)\n",
    "    \n",
    "    display_uncertainty(response.response_metadata[\"logprobs\"],\n",
    "                        skip_certain_thres=skip_certain_thres, skip_symbols=True)"
   ],
   "id": "b04bc488d71c2b1c",
   "outputs": [],
   "execution_count": 106
  },
  {
   "metadata": {
    "ExecuteTime": {
     "end_time": "2024-07-19T14:40:00.402470Z",
     "start_time": "2024-07-19T14:39:58.703133Z"
    }
   },
   "cell_type": "code",
   "source": "ask_question_probs(\"How much cash does this company have in 2019?\", skip_certain_thres=1)",
   "id": "b00c1938601b008c",
   "outputs": [
    {
     "data": {
      "text/plain": [
       "<IPython.core.display.HTML object>"
      ],
      "text/html": [
       "<p style=\"font-size: 20px;\"><span style=\"background-color: rgb(142, 198, 0)\">The</span><span style=\"background-color: rgb(0, 128, 0)\"> company</span><span style=\"background-color: rgb(0, 128, 0)\"> had</span><span style=\"background-color: rgb(121, 188, 0)\"> a</span><span style=\"background-color: rgb(9, 132, 0)\"> cash</span><span style=\"background-color: rgb(4, 129, 0)\"> balance</span><span style=\"background-color: rgb(0, 128, 0)\"> of</span><span style=\"background-color: rgb(0, 128, 0)\"> </span><span style=\"background-color: rgb(0, 128, 0)\">82</span><span style=\"background-color: rgb(0, 128, 0)\">,</span><span style=\"background-color: rgb(0, 128, 0)\">456</span><span style=\"background-color: rgb(0, 128, 0)\"> million</span><span style=\"background-color: rgb(0, 128, 0)\"> euros</span><span style=\"background-color: rgb(4, 129, 0)\"> in</span><span style=\"background-color: rgb(0, 128, 0)\"> </span><span style=\"background-color: rgb(0, 128, 0)\">201</span><span style=\"background-color: rgb(0, 128, 0)\">9</span><span style=\"background-color: rgb(0, 128, 0)\">.</span></p><div style=\"font-size: 18px;\"><div><b>The</b>: <span style=\"background-color: rgb(142, 198, 0)\">The (71.97%)</span> <span style=\"background-color: rgb(255, 104, 0)\">As (20.64%)</span> <span style=\"background-color: rgb(255, 28, 0)\">In (5.66%)</span> </div><div><b> company</b>: <span style=\"background-color: rgb(0, 128, 0)\"> company (99.97%)</span> <span style=\"background-color: rgb(255, 0, 0)\"> cash (0.03%)</span> <span style=\"background-color: rgb(255, 0, 0)\"> Company (0.0%)</span> </div><div><b> had</b>: <span style=\"background-color: rgb(0, 128, 0)\"> had (99.91%)</span> <span style=\"background-color: rgb(255, 0, 0)\"> has (0.09%)</span> <span style=\"background-color: rgb(255, 0, 0)\"> reported (0.0%)</span> </div><div><b> a</b>: <span style=\"background-color: rgb(121, 188, 0)\"> a (76.15%)</span> <span style=\"background-color: rgb(255, 116, 0)\">  (23.03%)</span> <span style=\"background-color: rgb(255, 2, 0)\"> € (0.56%)</span> </div><div><b> cash</b>: <span style=\"background-color: rgb(9, 132, 0)\"> cash (97.95%)</span> <span style=\"background-color: rgb(255, 8, 0)\"> total (1.7%)</span> <span style=\"background-color: rgb(255, 0, 0)\"> period (0.34%)</span> </div><div><b> balance</b>: <span style=\"background-color: rgb(4, 129, 0)\"> balance (98.85%)</span> <span style=\"background-color: rgb(255, 4, 0)\"> surplus (1.09%)</span> <span style=\"background-color: rgb(255, 0, 0)\"> amount (0.04%)</span> </div><div><b> of</b>: <span style=\"background-color: rgb(0, 128, 0)\"> of (99.95%)</span> <span style=\"background-color: rgb(255, 0, 0)\"> totaling (0.05%)</span> <span style=\"background-color: rgb(255, 0, 0)\"> tot (0.0%)</span> </div><div><b>82</b>: <span style=\"background-color: rgb(0, 128, 0)\">82 (99.97%)</span> <span style=\"background-color: rgb(255, 0, 0)\">7 (0.03%)</span> <span style=\"background-color: rgb(255, 0, 0)\">  (0.0%)</span> </div><div><b>456</b>: <span style=\"background-color: rgb(0, 128, 0)\">456 (99.96%)</span> <span style=\"background-color: rgb(255, 0, 0)\">459 (0.03%)</span> <span style=\"background-color: rgb(255, 0, 0)\">  (0.0%)</span> </div><div><b> million</b>: <span style=\"background-color: rgb(0, 128, 0)\"> million (99.79%)</span> <span style=\"background-color: rgb(255, 0, 0)\"> EUR (0.16%)</span> <span style=\"background-color: rgb(255, 0, 0)\"> euros (0.04%)</span> </div><div><b> euros</b>: <span style=\"background-color: rgb(0, 128, 0)\"> euros (99.89%)</span> <span style=\"background-color: rgb(255, 0, 0)\"> Euros (0.11%)</span> <span style=\"background-color: rgb(255, 0, 0)\"> EUR (0.0%)</span> </div><div><b> in</b>: <span style=\"background-color: rgb(4, 129, 0)\"> in (98.9%)</span> <span style=\"background-color: rgb(255, 4, 0)\"> as (1.09%)</span> <span style=\"background-color: rgb(255, 0, 0)\"> at (0.01%)</span> </div><div><b>201</b>: <span style=\"background-color: rgb(0, 128, 0)\">201 (100.0%)</span> <span style=\"background-color: rgb(255, 0, 0)\">202 (0.0%)</span> <span style=\"background-color: rgb(255, 0, 0)\">  (0.0%)</span> </div><div><b>9</b>: <span style=\"background-color: rgb(0, 128, 0)\">9 (100.0%)</span> <span style=\"background-color: rgb(255, 0, 0)\">8 (0.0%)</span> <span style=\"background-color: rgb(255, 0, 0)\">7 (0.0%)</span> </div></div>"
      ]
     },
     "metadata": {},
     "output_type": "display_data"
    }
   ],
   "execution_count": 107
  },
  {
   "metadata": {
    "ExecuteTime": {
     "end_time": "2024-07-19T14:40:01.917877Z",
     "start_time": "2024-07-19T14:40:00.402470Z"
    }
   },
   "cell_type": "code",
   "source": "ask_question_probs(\"How much liquidity does this company have at hand?\", skip_certain_thres=0.9)",
   "id": "b6925b10464e0c36",
   "outputs": [
    {
     "data": {
      "text/plain": [
       "<IPython.core.display.HTML object>"
      ],
      "text/html": [
       "<p style=\"font-size: 20px;\"><span style=\"background-color: rgb(0, 128, 0)\">The</span><span style=\"background-color: rgb(0, 128, 0)\"> company</span><span style=\"background-color: rgb(0, 128, 0)\"> has</span><span style=\"background-color: rgb(6, 130, 0)\"> access</span><span style=\"background-color: rgb(0, 128, 0)\"> to</span><span style=\"background-color: rgb(4, 129, 0)\"> und</span><span style=\"background-color: rgb(0, 128, 0)\">rawn</span><span style=\"background-color: rgb(1, 128, 0)\"> confirmed</span><span style=\"background-color: rgb(0, 128, 0)\"> credit</span><span style=\"background-color: rgb(0, 128, 0)\"> lines</span><span style=\"background-color: rgb(0, 128, 0)\"> totaling</span><span style=\"background-color: rgb(0, 128, 0)\"> </span><span style=\"background-color: rgb(0, 128, 0)\">11</span><span style=\"background-color: rgb(0, 128, 0)\">.</span><span style=\"background-color: rgb(0, 128, 0)\">2</span><span style=\"background-color: rgb(0, 128, 0)\"> billion</span><span style=\"background-color: rgb(0, 128, 0)\"> euros</span><span style=\"background-color: rgb(16, 135, 0)\">,</span><span style=\"background-color: rgb(202, 228, 0)\"> indicating</span><span style=\"background-color: rgb(81, 168, 0)\"> its</span><span style=\"background-color: rgb(4, 129, 0)\"> liquidity</span><span style=\"background-color: rgb(252, 253, 0)\">.</span></p><div style=\"font-size: 18px;\"><div><b> indicating</b>: <span style=\"background-color: rgb(202, 228, 0)\"> indicating (60.33%)</span> <span style=\"background-color: rgb(255, 126, 0)\"> which (24.75%)</span> <span style=\"background-color: rgb(255, 42, 0)\"> contributing (8.54%)</span> </div><div><b> its</b>: <span style=\"background-color: rgb(81, 168, 0)\"> its (83.75%)</span> <span style=\"background-color: rgb(255, 52, 0)\"> a (10.41%)</span> <span style=\"background-color: rgb(255, 14, 0)\"> the (2.96%)</span> </div></div>"
      ]
     },
     "metadata": {},
     "output_type": "display_data"
    }
   ],
   "execution_count": 108
  }
 ],
 "metadata": {
  "kernelspec": {
   "display_name": "Python 3",
   "language": "python",
   "name": "python3"
  },
  "language_info": {
   "codemirror_mode": {
    "name": "ipython",
    "version": 2
   },
   "file_extension": ".py",
   "mimetype": "text/x-python",
   "name": "python",
   "nbconvert_exporter": "python",
   "pygments_lexer": "ipython2",
   "version": "2.7.6"
  }
 },
 "nbformat": 4,
 "nbformat_minor": 5
}
