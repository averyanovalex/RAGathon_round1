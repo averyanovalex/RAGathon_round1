{
 "cells": [
  {
   "cell_type": "code",
   "id": "initial_id",
   "metadata": {
    "collapsed": true,
    "ExecuteTime": {
     "end_time": "2024-08-29T15:11:10.704526Z",
     "start_time": "2024-08-29T15:11:10.691139Z"
    }
   },
   "source": [
    "import os\n",
    "import PyPDF2\n",
    "import markdown2\n",
    "import json\n",
    "import pickle\n",
    "import pandas as pd\n",
    "\n",
    "from docx import Document as DocxDocument\n",
    "from pptx import Presentation\n",
    "\n",
    "from langchain_core.documents import Document\n",
    "from langchain.text_splitter import RecursiveCharacterTextSplitter\n",
    "from langchain_community.vectorstores import FAISS\n",
    "from langchain_openai.embeddings.base import OpenAIEmbeddings\n",
    "\n",
    "from langchain.chains import create_retrieval_chain\n",
    "from langchain.chains.combine_documents import create_stuff_documents_chain\n",
    "from langchain_core.prompts import ChatPromptTemplate\n",
    "from langchain_openai import ChatOpenAI\n",
    "\n",
    "# Rinats well documented sample project\n",
    "# https://github.com/trustbit/private-poc-fmw-content-generator/tree/main/backend-and-kb/src/fmw\n",
    "\n",
    "from dotenv import load_dotenv\n",
    "\n",
    "load_dotenv()"
   ],
   "outputs": [
    {
     "data": {
      "text/plain": [
       "True"
      ]
     },
     "execution_count": 24,
     "metadata": {},
     "output_type": "execute_result"
    }
   ],
   "execution_count": 24
  },
  {
   "metadata": {},
   "cell_type": "markdown",
   "source": "## Get Companies",
   "id": "26b7a2f7be3b6375"
  },
  {
   "metadata": {
    "ExecuteTime": {
     "end_time": "2024-08-29T15:11:12.886901Z",
     "start_time": "2024-08-29T15:11:12.843303Z"
    }
   },
   "cell_type": "code",
   "source": [
    "df = pd.read_csv(\"data/dataset.csv\") \n",
    "df"
   ],
   "id": "187267224fd86013",
   "outputs": [
    {
     "data": {
      "text/plain": [
       "                                          sha1        date  \\\n",
       "0     ce9e5024041b2ece2bafa2a9d9516bb174ee8949  2022-10-31   \n",
       "1     f71415f9ca0cff70e5fa193616b6197f361130ed  2023-02-21   \n",
       "2     4a9d2b853e05970776121a810460f0962a18c5a1     2022-XX   \n",
       "3     f973dd219c534accb0d4e72d8e12f51284d48d10  2023-01-01   \n",
       "4     4e27f4c3402c657d548760cb3a164b036cefaabb  2022-12-31   \n",
       "...                                        ...         ...   \n",
       "7490  a2afcd8165a6dbd0058682680b65d3638a5800eb  2023-02-02   \n",
       "7491  215df84494756bd4feebc973657835ef7f14ee16  2022-12-31   \n",
       "7492  20fb970d8705289e835b408c575351295ac16f5f  2022-09-30   \n",
       "7493  c7f3a8c0a38c756438950ce3085076adb4241a32  2022-01-01   \n",
       "7494  e26bd02b24e45a09c4b860c4763b542deba6f14a  2022-12-31   \n",
       "\n",
       "                                     name      size  \n",
       "0                 Anixa Biosciences, Inc.   3996701  \n",
       "1     Maravai LifeSciences Holdings, Inc.   4033642  \n",
       "2                         KLA Corporation   1181894  \n",
       "3                          Ameresco, Inc.  10648267  \n",
       "4                Battery Minerals Limited   3650701  \n",
       "...                                   ...       ...  \n",
       "7490               Arrow Electronics, Inc    922750  \n",
       "7491                             Synertec  10474497  \n",
       "7492                      TE Connectivity   5753097  \n",
       "7493                            OTC_ADDDF  12603054  \n",
       "7494                    Taylor Wimpey plc   7845106  \n",
       "\n",
       "[7495 rows x 4 columns]"
      ],
      "text/html": [
       "<div>\n",
       "<style scoped>\n",
       "    .dataframe tbody tr th:only-of-type {\n",
       "        vertical-align: middle;\n",
       "    }\n",
       "\n",
       "    .dataframe tbody tr th {\n",
       "        vertical-align: top;\n",
       "    }\n",
       "\n",
       "    .dataframe thead th {\n",
       "        text-align: right;\n",
       "    }\n",
       "</style>\n",
       "<table border=\"1\" class=\"dataframe\">\n",
       "  <thead>\n",
       "    <tr style=\"text-align: right;\">\n",
       "      <th></th>\n",
       "      <th>sha1</th>\n",
       "      <th>date</th>\n",
       "      <th>name</th>\n",
       "      <th>size</th>\n",
       "    </tr>\n",
       "  </thead>\n",
       "  <tbody>\n",
       "    <tr>\n",
       "      <th>0</th>\n",
       "      <td>ce9e5024041b2ece2bafa2a9d9516bb174ee8949</td>\n",
       "      <td>2022-10-31</td>\n",
       "      <td>Anixa Biosciences, Inc.</td>\n",
       "      <td>3996701</td>\n",
       "    </tr>\n",
       "    <tr>\n",
       "      <th>1</th>\n",
       "      <td>f71415f9ca0cff70e5fa193616b6197f361130ed</td>\n",
       "      <td>2023-02-21</td>\n",
       "      <td>Maravai LifeSciences Holdings, Inc.</td>\n",
       "      <td>4033642</td>\n",
       "    </tr>\n",
       "    <tr>\n",
       "      <th>2</th>\n",
       "      <td>4a9d2b853e05970776121a810460f0962a18c5a1</td>\n",
       "      <td>2022-XX</td>\n",
       "      <td>KLA Corporation</td>\n",
       "      <td>1181894</td>\n",
       "    </tr>\n",
       "    <tr>\n",
       "      <th>3</th>\n",
       "      <td>f973dd219c534accb0d4e72d8e12f51284d48d10</td>\n",
       "      <td>2023-01-01</td>\n",
       "      <td>Ameresco, Inc.</td>\n",
       "      <td>10648267</td>\n",
       "    </tr>\n",
       "    <tr>\n",
       "      <th>4</th>\n",
       "      <td>4e27f4c3402c657d548760cb3a164b036cefaabb</td>\n",
       "      <td>2022-12-31</td>\n",
       "      <td>Battery Minerals Limited</td>\n",
       "      <td>3650701</td>\n",
       "    </tr>\n",
       "    <tr>\n",
       "      <th>...</th>\n",
       "      <td>...</td>\n",
       "      <td>...</td>\n",
       "      <td>...</td>\n",
       "      <td>...</td>\n",
       "    </tr>\n",
       "    <tr>\n",
       "      <th>7490</th>\n",
       "      <td>a2afcd8165a6dbd0058682680b65d3638a5800eb</td>\n",
       "      <td>2023-02-02</td>\n",
       "      <td>Arrow Electronics, Inc</td>\n",
       "      <td>922750</td>\n",
       "    </tr>\n",
       "    <tr>\n",
       "      <th>7491</th>\n",
       "      <td>215df84494756bd4feebc973657835ef7f14ee16</td>\n",
       "      <td>2022-12-31</td>\n",
       "      <td>Synertec</td>\n",
       "      <td>10474497</td>\n",
       "    </tr>\n",
       "    <tr>\n",
       "      <th>7492</th>\n",
       "      <td>20fb970d8705289e835b408c575351295ac16f5f</td>\n",
       "      <td>2022-09-30</td>\n",
       "      <td>TE Connectivity</td>\n",
       "      <td>5753097</td>\n",
       "    </tr>\n",
       "    <tr>\n",
       "      <th>7493</th>\n",
       "      <td>c7f3a8c0a38c756438950ce3085076adb4241a32</td>\n",
       "      <td>2022-01-01</td>\n",
       "      <td>OTC_ADDDF</td>\n",
       "      <td>12603054</td>\n",
       "    </tr>\n",
       "    <tr>\n",
       "      <th>7494</th>\n",
       "      <td>e26bd02b24e45a09c4b860c4763b542deba6f14a</td>\n",
       "      <td>2022-12-31</td>\n",
       "      <td>Taylor Wimpey plc</td>\n",
       "      <td>7845106</td>\n",
       "    </tr>\n",
       "  </tbody>\n",
       "</table>\n",
       "<p>7495 rows × 4 columns</p>\n",
       "</div>"
      ]
     },
     "execution_count": 25,
     "metadata": {},
     "output_type": "execute_result"
    }
   ],
   "execution_count": 25
  },
  {
   "metadata": {
    "ExecuteTime": {
     "end_time": "2024-08-29T15:11:14.101004Z",
     "start_time": "2024-08-29T15:11:14.093760Z"
    }
   },
   "cell_type": "code",
   "source": [
    "# Create sample for development\n",
    "COMPANIES = [\"Ethernity Networks Ltd\", \"Limbach Holdings, Inc.\", \"Accuray Incorporated\"]\n",
    "\n",
    "if COMPANIES:\n",
    "    df_sample = df[df.name.isin(COMPANIES)]\n",
    "else:\n",
    "    df_sample = df.copy()"
   ],
   "id": "8f6e3574239a7eba",
   "outputs": [],
   "execution_count": 26
  },
  {
   "metadata": {
    "ExecuteTime": {
     "end_time": "2024-08-29T15:11:14.330935Z",
     "start_time": "2024-08-29T15:11:14.318970Z"
    }
   },
   "cell_type": "code",
   "source": "df_sample",
   "id": "c5950769dc2ca5d1",
   "outputs": [
    {
     "data": {
      "text/plain": [
       "                                          sha1        date  \\\n",
       "1183  99be213e4e689294ebae809bfa6a1b5024076286  2022-01-01   \n",
       "5801  e51b7204b91cbe7709bd3218e7d2d0c2b8dbb438  2023-01-01   \n",
       "6859  dd78f748262b8ffa62de6484143ff55b38af24c7  2022-06-30   \n",
       "\n",
       "                        name     size  \n",
       "1183  Limbach Holdings, Inc.  2023552  \n",
       "5801  Ethernity Networks Ltd  1180978  \n",
       "6859    Accuray Incorporated  3317389  "
      ],
      "text/html": [
       "<div>\n",
       "<style scoped>\n",
       "    .dataframe tbody tr th:only-of-type {\n",
       "        vertical-align: middle;\n",
       "    }\n",
       "\n",
       "    .dataframe tbody tr th {\n",
       "        vertical-align: top;\n",
       "    }\n",
       "\n",
       "    .dataframe thead th {\n",
       "        text-align: right;\n",
       "    }\n",
       "</style>\n",
       "<table border=\"1\" class=\"dataframe\">\n",
       "  <thead>\n",
       "    <tr style=\"text-align: right;\">\n",
       "      <th></th>\n",
       "      <th>sha1</th>\n",
       "      <th>date</th>\n",
       "      <th>name</th>\n",
       "      <th>size</th>\n",
       "    </tr>\n",
       "  </thead>\n",
       "  <tbody>\n",
       "    <tr>\n",
       "      <th>1183</th>\n",
       "      <td>99be213e4e689294ebae809bfa6a1b5024076286</td>\n",
       "      <td>2022-01-01</td>\n",
       "      <td>Limbach Holdings, Inc.</td>\n",
       "      <td>2023552</td>\n",
       "    </tr>\n",
       "    <tr>\n",
       "      <th>5801</th>\n",
       "      <td>e51b7204b91cbe7709bd3218e7d2d0c2b8dbb438</td>\n",
       "      <td>2023-01-01</td>\n",
       "      <td>Ethernity Networks Ltd</td>\n",
       "      <td>1180978</td>\n",
       "    </tr>\n",
       "    <tr>\n",
       "      <th>6859</th>\n",
       "      <td>dd78f748262b8ffa62de6484143ff55b38af24c7</td>\n",
       "      <td>2022-06-30</td>\n",
       "      <td>Accuray Incorporated</td>\n",
       "      <td>3317389</td>\n",
       "    </tr>\n",
       "  </tbody>\n",
       "</table>\n",
       "</div>"
      ]
     },
     "execution_count": 27,
     "metadata": {},
     "output_type": "execute_result"
    }
   ],
   "execution_count": 27
  },
  {
   "metadata": {},
   "cell_type": "markdown",
   "source": [
    "## Get company name from user query\n",
    "\n",
    "TODO could be more sophisticated"
   ],
   "id": "ca2440fc5b817345"
  },
  {
   "metadata": {
    "ExecuteTime": {
     "end_time": "2024-08-29T15:11:16.179533Z",
     "start_time": "2024-08-29T15:11:16.169997Z"
    }
   },
   "cell_type": "code",
   "source": [
    "import re\n",
    "from fuzzywuzzy import fuzz\n",
    "\n",
    "def normalize_name(name):\n",
    "    # Normalize by removing extra spaces and converting to lowercase\n",
    "    return re.sub(r'\\s+', ' ', name.strip().lower())\n",
    "\n",
    "def fuzzy_match(companies, input_string, threshold=85):\n",
    "    matched_companies = []\n",
    "    norm_input = normalize_name(input_string)\n",
    "    \n",
    "    for company in companies:\n",
    "        norm_company = normalize_name(company)\n",
    "        prev_token = \"\"\n",
    "        \n",
    "        # Fuzzy match each token\n",
    "        for curr_token in norm_input.split():\n",
    "            token = prev_token + \" \" + curr_token\n",
    "            \n",
    "            match_score = fuzz.ratio(norm_company, token)\n",
    "            prev_token = curr_token\n",
    "            \n",
    "            if match_score >= threshold:\n",
    "                matched_companies.append(company)\n",
    "                break  # Stop once a match is found for this company\n",
    "            \n",
    "    return matched_companies\n",
    "\n",
    "\n",
    "def find_exact_matches(companies, input_string):\n",
    "    # normalized_input = normalize_name(input_string)\n",
    "    \n",
    "    matched_companies = []\n",
    "    \n",
    "    for company in companies:\n",
    "        if company in input_string:\n",
    "            matched_companies.append(company)\n",
    "    \n",
    "    return matched_companies\n",
    "\n",
    "\n",
    "def find_companies(input_string):\n",
    "    # Wrapper to use later and allow easy function change\n",
    "    return find_exact_matches(df.name, input_string)\n",
    "\n",
    "\n",
    "input_string = (\"limbach holding inc and ethernity networks buys the accuracy incorporated, ESEA, Five9, Inc.\")\n",
    "\n",
    "matches = find_exact_matches(df.name, input_string)\n",
    "print(matches)"
   ],
   "id": "99709072b0e51f37",
   "outputs": [
    {
     "name": "stdout",
     "output_type": "stream",
     "text": [
      "['EA', 'ESEA', 'Five9, Inc.']\n"
     ]
    }
   ],
   "execution_count": 28
  },
  {
   "metadata": {},
   "cell_type": "markdown",
   "source": "## Load LLM data",
   "id": "bf301d66795e2b42"
  },
  {
   "cell_type": "code",
   "source": [
    "FOLDER_PATH = r\"C:\\Users\\felix.krause\\code\\trustbit\\enterprise-rag-challenge\\samples\"\n",
    "\n",
    "# embeddings_model_name = \"sentence-transformers/all-MiniLM-L6-v2\" # Hugging Face model"
   ],
   "metadata": {
    "collapsed": false,
    "ExecuteTime": {
     "end_time": "2024-08-29T15:11:17.586540Z",
     "start_time": "2024-08-29T15:11:17.578129Z"
    }
   },
   "id": "c9d08ba3f7c82c24",
   "outputs": [],
   "execution_count": 29
  },
  {
   "cell_type": "code",
   "source": [
    "from llama_parse import LlamaParse\n",
    "\n",
    "parser = LlamaParse(\n",
    "    result_type=\"markdown\",  # \"markdown\" and \"text\" are available\n",
    "    verbose=True\n",
    ")\n",
    "\n",
    "# Function to load text from different file types\n",
    "def load_text_from_file(file_path):\n",
    "    _, file_extension = os.path.splitext(file_path)\n",
    "    text = \"\"\n",
    "    \n",
    "    if file_extension == \".pdf\":\n",
    "        # TODO https://www.reddit.com/r/LangChain/comments/18yxacm/extracting_data_from_pdf_containing_complex_tables/\n",
    "        with open(file_path, 'rb') as f:\n",
    "            reader = PyPDF2.PdfReader(f, strict=False)\n",
    "            for page in reader.pages:\n",
    "                text += page.extract_text() + \"\\n\"\n",
    "    else:\n",
    "        pass\n",
    "    \n",
    "    return text\n",
    "\n",
    "\n",
    "# Function to load documents from a folder\n",
    "def load_documents_from_folder(folder_path, companies=[]):\n",
    "    documents = []\n",
    "    for root, _, files in os.walk(folder_path):\n",
    "        for file in files:\n",
    "            if file[:-4] in companies: #or len(companies) == 0:\n",
    "                print(\"Loading\", file)\n",
    "                file_path = os.path.join(root, file)\n",
    "\n",
    "                text = load_text_from_file(file_path)\n",
    "                if text:\n",
    "                    documents.append(Document(page_content=text, metadata={\"source\": file_path}))\n",
    "    return documents"
   ],
   "metadata": {
    "collapsed": false,
    "ExecuteTime": {
     "end_time": "2024-08-29T15:11:22.691420Z",
     "start_time": "2024-08-29T15:11:17.890379Z"
    }
   },
   "id": "a78b2e35a4794cc2",
   "outputs": [],
   "execution_count": 30
  },
  {
   "metadata": {
    "ExecuteTime": {
     "end_time": "2024-08-29T15:18:48.539592Z",
     "start_time": "2024-08-29T15:18:48.535237Z"
    }
   },
   "cell_type": "code",
   "source": [
    "# Could try LLama approach\n",
    "# TODO https://medium.com/the-ai-forum/rag-on-complex-pdf-using-llamaparse-langchain-and-groq-5b132bd1f9f3\n",
    "# doc = parser.load_data(os.path.join(FOLDER_PATH, \"e51b7204b91cbe7709bd3218e7d2d0c2b8dbb438.pdf\"))\n",
    "# index = VectorStoreIndex.from_documents(doc)"
   ],
   "id": "9cb153b0cfd5cbee",
   "outputs": [],
   "execution_count": 40
  },
  {
   "metadata": {},
   "cell_type": "markdown",
   "source": "## Try to detect tables from pdf",
   "id": "f51ab4663aeeda70"
  },
  {
   "metadata": {
    "ExecuteTime": {
     "end_time": "2024-08-29T13:37:18.895314Z",
     "start_time": "2024-08-29T13:35:57.735226Z"
    }
   },
   "cell_type": "code",
   "source": [
    "\"\"\"\n",
    "import camelot\n",
    "\n",
    "# Extract tables from a PDF file\n",
    "tables = camelot.read_pdf(os.path.join(FOLDER_PATH, \"e51b7204b91cbe7709bd3218e7d2d0c2b8dbb438.pdf\"), pages=\"all\")\n",
    "\n",
    "# Convert the first table to a DataFrame\n",
    "df = tables[0].df\n",
    "\n",
    "# Save the DataFrame as a CSV file\n",
    "tables[0]\n",
    "\"\"\""
   ],
   "id": "f1456a9650d4528f",
   "outputs": [
    {
     "name": "stderr",
     "output_type": "stream",
     "text": [
      "C:\\Users\\felix.krause\\code\\trustbit\\llm_experiments\\venv\\lib\\site-packages\\camelot\\parsers\\lattice.py:397: UserWarning: No tables found on page-2\n",
      "  warnings.warn(\n",
      "C:\\Users\\felix.krause\\code\\trustbit\\llm_experiments\\venv\\lib\\site-packages\\camelot\\parsers\\lattice.py:397: UserWarning: No tables found on page-79\n",
      "  warnings.warn(\n"
     ]
    },
    {
     "data": {
      "text/plain": [
       "<Table shape=(1, 1)>"
      ]
     },
     "execution_count": 8,
     "metadata": {},
     "output_type": "execute_result"
    }
   ],
   "execution_count": 8
  },
  {
   "metadata": {
    "ExecuteTime": {
     "end_time": "2024-08-29T14:00:53.324190Z",
     "start_time": "2024-08-29T14:00:53.316417Z"
    }
   },
   "cell_type": "code",
   "source": "# tables[40].df",
   "id": "12bdfc9101258f90",
   "outputs": [
    {
     "data": {
      "text/plain": [
       "                                        0 1  \\\n",
       "0  STRATEGIC REPORT\\nCORPORATE GOVERNANCE     \n",
       "\n",
       "                                            2       3  \n",
       "0  FINANCIAL STATEMENTS\\nFINANCIAL STATEMENTS  73\\n73  "
      ],
      "text/html": [
       "<div>\n",
       "<style scoped>\n",
       "    .dataframe tbody tr th:only-of-type {\n",
       "        vertical-align: middle;\n",
       "    }\n",
       "\n",
       "    .dataframe tbody tr th {\n",
       "        vertical-align: top;\n",
       "    }\n",
       "\n",
       "    .dataframe thead th {\n",
       "        text-align: right;\n",
       "    }\n",
       "</style>\n",
       "<table border=\"1\" class=\"dataframe\">\n",
       "  <thead>\n",
       "    <tr style=\"text-align: right;\">\n",
       "      <th></th>\n",
       "      <th>0</th>\n",
       "      <th>1</th>\n",
       "      <th>2</th>\n",
       "      <th>3</th>\n",
       "    </tr>\n",
       "  </thead>\n",
       "  <tbody>\n",
       "    <tr>\n",
       "      <th>0</th>\n",
       "      <td>STRATEGIC REPORT\\nCORPORATE GOVERNANCE</td>\n",
       "      <td></td>\n",
       "      <td>FINANCIAL STATEMENTS\\nFINANCIAL STATEMENTS</td>\n",
       "      <td>73\\n73</td>\n",
       "    </tr>\n",
       "  </tbody>\n",
       "</table>\n",
       "</div>"
      ]
     },
     "execution_count": 47,
     "metadata": {},
     "output_type": "execute_result"
    }
   ],
   "execution_count": 47
  },
  {
   "metadata": {},
   "cell_type": "markdown",
   "source": "## Build retriever per company",
   "id": "695aebfba71c14c4"
  },
  {
   "metadata": {
    "ExecuteTime": {
     "end_time": "2024-08-29T15:11:32.391090Z",
     "start_time": "2024-08-29T15:11:32.382067Z"
    }
   },
   "cell_type": "code",
   "source": [
    "def get_store_name(string):\n",
    "    string = string.lower()\n",
    "    return string.replace(\" \", \"_\").replace(\",\", \"\").replace(\".\", \"\").replace(\"'\", \"\")"
   ],
   "id": "f52dd0fd4a43609b",
   "outputs": [],
   "execution_count": 31
  },
  {
   "metadata": {
    "ExecuteTime": {
     "end_time": "2024-08-29T12:53:25.008396Z",
     "start_time": "2024-08-29T12:52:35.569424Z"
    }
   },
   "cell_type": "code",
   "source": [
    "text_splitter = RecursiveCharacterTextSplitter(chunk_size=2000, chunk_overlap=200) # TODO more sophisticated\n",
    "sha1_dict = df_sample.set_index(\"name\").to_dict()[\"sha1\"]\n",
    "\n",
    "for company in df_sample.name.to_list():\n",
    "    company_docs = load_documents_from_folder(FOLDER_PATH, [sha1_dict[company]])\n",
    "    \n",
    "    if not company_docs:\n",
    "        raise ValueError(f\"No documents found for company: {company}\")\n",
    "    \n",
    "    texts = text_splitter.split_documents(company_docs)\n",
    "    embeddings = OpenAIEmbeddings()\n",
    "    db = FAISS.from_documents(texts, embeddings)\n",
    "    \n",
    "    with open(f\"dbs-llmx/{get_store_name(company)}.db\", \"wb\") as f:\n",
    "        pickle.dump(db.serialize_to_bytes(), f)"
   ],
   "id": "6e7385617622991b",
   "outputs": [
    {
     "name": "stderr",
     "output_type": "stream",
     "text": [
      "FloatObject (b'0.00-40') invalid; use 0.0 instead\n",
      "FloatObject (b'0.00-40') invalid; use 0.0 instead\n",
      "FloatObject (b'0.00-40') invalid; use 0.0 instead\n",
      "FloatObject (b'0.00-40') invalid; use 0.0 instead\n",
      "FloatObject (b'0.00-40') invalid; use 0.0 instead\n",
      "FloatObject (b'0.00-40') invalid; use 0.0 instead\n",
      "FloatObject (b'0.00-40') invalid; use 0.0 instead\n",
      "FloatObject (b'0.00-40') invalid; use 0.0 instead\n",
      "FloatObject (b'0.00-40') invalid; use 0.0 instead\n",
      "FloatObject (b'0.00-40') invalid; use 0.0 instead\n",
      "FloatObject (b'0.00-40') invalid; use 0.0 instead\n",
      "FloatObject (b'0.00-40') invalid; use 0.0 instead\n"
     ]
    },
    {
     "name": "stdout",
     "output_type": "stream",
     "text": [
      "Loading 99be213e4e689294ebae809bfa6a1b5024076286.pdf\n"
     ]
    },
    {
     "name": "stderr",
     "output_type": "stream",
     "text": [
      "FloatObject (b'0.00-40') invalid; use 0.0 instead\n",
      "FloatObject (b'0.00-40') invalid; use 0.0 instead\n",
      "FloatObject (b'0.00-40') invalid; use 0.0 instead\n",
      "FloatObject (b'0.00-40') invalid; use 0.0 instead\n",
      "FloatObject (b'0.00-40') invalid; use 0.0 instead\n",
      "FloatObject (b'0.00-40') invalid; use 0.0 instead\n",
      "FloatObject (b'0.00-40') invalid; use 0.0 instead\n",
      "FloatObject (b'0.00-40') invalid; use 0.0 instead\n"
     ]
    },
    {
     "name": "stdout",
     "output_type": "stream",
     "text": [
      "Loading e51b7204b91cbe7709bd3218e7d2d0c2b8dbb438.pdf\n",
      "Loading dd78f748262b8ffa62de6484143ff55b38af24c7.pdf\n"
     ]
    }
   ],
   "execution_count": 84
  },
  {
   "metadata": {
    "ExecuteTime": {
     "end_time": "2024-08-29T14:20:56.953323Z",
     "start_time": "2024-08-29T14:20:56.947294Z"
    }
   },
   "cell_type": "code",
   "source": [
    "def get_retriever_dict(companies):\n",
    "    retriever_dict = {}\n",
    "    \n",
    "    for company in companies:\n",
    "        with open(f\"dbs-llmx/{get_store_name(company)}.db\", \"rb\") as f:\n",
    "            db_bytes = pickle.load(f)\n",
    "        \n",
    "        db_temp = FAISS.deserialize_from_bytes(db_bytes, OpenAIEmbeddings(),\n",
    "                                      allow_dangerous_deserialization=True)\n",
    "        \n",
    "        retriever_dict[company] = db_temp.as_retriever()\n",
    "    \n",
    "    return retriever_dict"
   ],
   "id": "2eea77c787b966e6",
   "outputs": [],
   "execution_count": 15
  },
  {
   "metadata": {
    "ExecuteTime": {
     "end_time": "2024-08-29T14:20:57.638942Z",
     "start_time": "2024-08-29T14:20:57.516907Z"
    }
   },
   "cell_type": "code",
   "source": "retriever_dict = get_retriever_dict(df_sample.name.to_list())",
   "id": "4fcc78bbd52d9ac8",
   "outputs": [],
   "execution_count": 16
  },
  {
   "metadata": {
    "ExecuteTime": {
     "end_time": "2024-08-29T14:48:58.532797Z",
     "start_time": "2024-08-29T14:48:58.527959Z"
    }
   },
   "cell_type": "code",
   "source": [
    "def get_context(query, retriever_dict):\n",
    "    companies = find_companies(query)\n",
    "    \n",
    "    if not companies:\n",
    "        raise ValueError(\"No company found in the query\")\n",
    "    \n",
    "    context = {}\n",
    "    print(companies)\n",
    "    for company in companies:\n",
    "        context[company] = retriever_dict[company].get_relevant_documents(query)\n",
    "        # TODO add sophisticated retriever for tables?\n",
    "        \n",
    "    return context"
   ],
   "id": "c12759f74d642592",
   "outputs": [],
   "execution_count": 19
  },
  {
   "metadata": {},
   "cell_type": "markdown",
   "source": "## Structured inference",
   "id": "3d6da0d2a417ed12"
  },
  {
   "cell_type": "code",
   "source": [
    "MODEL = \"gpt-4o-mini-2024-07-18\"\n",
    "\n",
    "# load system prompt from .md\n",
    "with open(\"instructions/answer_guidelines.md\") as f:\n",
    "    ANSWER_GUIDELINES = f.read()\n",
    "    \n",
    "with open(\"instructions/fin_info.md\") as f:\n",
    "    FIN_INFO = f.read()\n",
    "\n",
    "\n",
    "\n",
    "system_prompt = (\n",
    "    f\"You are an intelligent assistant tasked with answering questions based on specific company data provided in the context. \"\n",
    "    \n",
    "    f\"Please provide a chain of thought on how you arrived at your final answer in 'chain_of_thought', providing intermediary results. \\n\"\n",
    "    f\"Then give a final answer in 'answer' where you strictly adhere to the following guidelines: \\n {ANSWER_GUIDELINES} \\n \"\n",
    "    f\"Ensure that your answers are strictly compliant with these guidelines. Accuracy and adherence to the format are crucial. \\n\"\n",
    "    \n",
    "    # f\"Your primary task is to accurately identify and extract specific financial metrics, ratios, and counts, even when synonymous \"\n",
    "    # f\"or contextually similar terms are used. Here is some useful information about these: \\n {FIN_INFO}\"\n",
    ")"
   ],
   "metadata": {
    "collapsed": false,
    "ExecuteTime": {
     "end_time": "2024-08-29T15:43:37.735581Z",
     "start_time": "2024-08-29T15:43:37.731549Z"
    }
   },
   "id": "5839c1c42cf2a1cd",
   "outputs": [],
   "execution_count": 50
  },
  {
   "metadata": {
    "ExecuteTime": {
     "end_time": "2024-08-29T15:55:38.213301Z",
     "start_time": "2024-08-29T15:55:38.191564Z"
    }
   },
   "cell_type": "code",
   "source": [
    "from pydantic import BaseModel\n",
    "from openai import OpenAI\n",
    "\n",
    "client = OpenAI()\n",
    "\n",
    "class AnswerEvent(BaseModel):\n",
    "    chain_of_thought: str\n",
    "    answer: int | str\n",
    "\n",
    "\n",
    "def ask_company_expert(query):\n",
    "    print(\"# ASKING COMPANY EXPERT\")\n",
    "    context = get_context(query, retriever_dict)\n",
    "    completion = client.beta.chat.completions.parse(\n",
    "        model=MODEL,\n",
    "        messages=[\n",
    "            {\"role\": \"system\", \"content\": system_prompt + f\"Context: \\n {context}\"},\n",
    "            {\"role\": \"user\", \"content\": query},\n",
    "        ],\n",
    "        response_format=AnswerEvent,\n",
    "    )\n",
    "    \n",
    "    return completion.choices[0].message.parsed"
   ],
   "id": "f37aecc08c73bdb1",
   "outputs": [],
   "execution_count": 72
  },
  {
   "metadata": {
    "ExecuteTime": {
     "end_time": "2024-08-29T15:19:46.823058Z",
     "start_time": "2024-08-29T15:19:43.735950Z"
    }
   },
   "cell_type": "code",
   "source": "ask_company_expert(\"How many assets does 'Accuray Incorporated' have in 2022 in dollars?\")",
   "id": "103c61fa8d8d5013",
   "outputs": [
    {
     "name": "stdout",
     "output_type": "stream",
     "text": [
      "['Accuray Incorporated']\n"
     ]
    },
    {
     "data": {
      "text/plain": [
       "AnswerEvent(chain_of_thought=\"The total assets for 'Accuray Incorporated' in 2022 are stated in the consolidated balance sheets provided. The relevant value for total assets in 2022 is given as $472,849 (in thousands). To convert this into dollars, we multiply this figure by 1,000. Thus, the total assets for 'Accuray Incorporated' in 2022 amount to 472849000 dollars.\", answer=472849000)"
      ]
     },
     "execution_count": 43,
     "metadata": {},
     "output_type": "execute_result"
    }
   ],
   "execution_count": 43
  },
  {
   "metadata": {
    "ExecuteTime": {
     "end_time": "2024-08-29T12:55:36.485954Z",
     "start_time": "2024-08-29T12:55:33.459475Z"
    }
   },
   "cell_type": "code",
   "source": "ask_company_expert(\"How many assets does 'Ethernity Networks Ltd' have in 2022 in dollars?\")",
   "id": "907a2e8870981b26",
   "outputs": [
    {
     "name": "stdout",
     "output_type": "stream",
     "text": [
      "['Ethernity Networks Ltd']\n"
     ]
    },
    {
     "data": {
      "text/plain": [
       "AnswerEvent(chain_of_thought='The provided context does not contain specific information regarding the total assets of Ethernity Networks Ltd for the year 2022. Therefore, I cannot provide an answer as the necessary data is absent.', answer='n/a')"
      ]
     },
     "execution_count": 96,
     "metadata": {},
     "output_type": "execute_result"
    }
   ],
   "execution_count": 96
  },
  {
   "metadata": {
    "ExecuteTime": {
     "end_time": "2024-08-29T12:41:53.893202Z",
     "start_time": "2024-08-29T12:41:51.334136Z"
    }
   },
   "cell_type": "code",
   "source": "ask_company_expert(\"What are the total R&D expenses of 'Ethernity Networks Ltd' in 2021?\")",
   "id": "537e14d8c3d459b6",
   "outputs": [
    {
     "name": "stdout",
     "output_type": "stream",
     "text": [
      "['Ethernity Networks Ltd']\n"
     ]
    },
    {
     "data": {
      "text/plain": [
       "AnswerEvent(chain_of_thought='In the provided context, it is mentioned that the total R&D expenses for Ethernity Networks Ltd in 2021 were 5,550,912.', answer=5550912)"
      ]
     },
     "execution_count": 69,
     "metadata": {},
     "output_type": "execute_result"
    }
   ],
   "execution_count": 69
  },
  {
   "metadata": {
    "ExecuteTime": {
     "end_time": "2024-08-29T12:44:42.887987Z",
     "start_time": "2024-08-29T12:44:39.162608Z"
    }
   },
   "cell_type": "code",
   "source": "ask_company_expert(\"Has 'Ethernity Networks Ltd' more assets than 'Accuray Incorporated' in 2022?\")",
   "id": "95a5db85bf6ce081",
   "outputs": [
    {
     "name": "stdout",
     "output_type": "stream",
     "text": [
      "['Ethernity Networks Ltd', 'Accuray Incorporated']\n"
     ]
    },
    {
     "data": {
      "text/plain": [
       "AnswerEvent(chain_of_thought=\"The provided context only contains detailed financial information about 'Ethernity Networks Ltd', including revenue and operating loss figures for 2022, but it lacks specific data regarding the total assets of both 'Ethernity Networks Ltd' and 'Accuray Incorporated'. Without these asset figures, it's not possible to compare the two companies' assets directly. Hence, I cannot determine whether 'Ethernity Networks Ltd' had more assets than 'Accuray Incorporated' in 2022.\", answer='n/a')"
      ]
     },
     "execution_count": 71,
     "metadata": {},
     "output_type": "execute_result"
    }
   ],
   "execution_count": 71
  },
  {
   "metadata": {},
   "cell_type": "markdown",
   "source": "## Multiple agents",
   "id": "f0ee597ead17d621"
  },
  {
   "metadata": {
    "ExecuteTime": {
     "end_time": "2024-08-29T15:55:40.234743Z",
     "start_time": "2024-08-29T15:55:40.220466Z"
    }
   },
   "cell_type": "code",
   "source": [
    "# DELEGATION MANAGER\n",
    "\n",
    "INVOLVED_COMPANIES = df_sample.name.to_list()\n",
    "\n",
    "system_prompt_delegation = (\n",
    "    f\"You will receive questions about data from one or more companies. \"\n",
    "    f\"You have access to specialised agents in providing data for each company. \"\n",
    "    f\"To access them, you need to provide the company name in a list of 'companies' and the respective query in a list of 'queries'. \\n\"\n",
    "    f\"For example, if the question is about if company X has more assets than company Y in 2022, you would provide the following: \\n\"\n",
    "    f\"companies: ['X', 'Y'], queries: ['How many assets does 'X' have in 2022 in dollars?', 'How many assets does 'Y' have in 2022 in dollars?'] \\n\"\n",
    "    f\"The company name has to be exactly one of these: {INVOLVED_COMPANIES}. \\n\"\n",
    "    f\"Also provide a chain of thought on how you arrived at your final answer in 'chain_of_thought'. \\n\"\n",
    ")\n",
    "\n",
    "\n",
    "class DelegationRequest(BaseModel):\n",
    "    chain_of_thought: str\n",
    "    companies: list[str]\n",
    "    queries: list[str]\n",
    "\n",
    "\n",
    "def ask_delegation_manager(query):    \n",
    "    print(\"# ASKING DELEGATION MANAGER: \")\n",
    "    completion = client.beta.chat.completions.parse(\n",
    "        model=MODEL,\n",
    "        messages=[\n",
    "            {\"role\": \"system\", \"content\": system_prompt_delegation},\n",
    "            {\"role\": \"user\", \"content\": query},\n",
    "        ],\n",
    "        response_format=DelegationRequest,\n",
    "    )\n",
    "    \n",
    "    return completion.choices[0].message.parsed"
   ],
   "id": "556851a9b2e0d530",
   "outputs": [],
   "execution_count": 73
  },
  {
   "metadata": {
    "ExecuteTime": {
     "end_time": "2024-08-29T15:32:26.021526Z",
     "start_time": "2024-08-29T15:32:22.348509Z"
    }
   },
   "cell_type": "code",
   "source": "ask_delegation_manager(\"Has 'Ethernity Networks Ltd' more liabilities than 'Accuray Incorporated' in 2022?\")",
   "id": "f0066ed0c2eead25",
   "outputs": [
    {
     "data": {
      "text/plain": [
       "ManagerRequest(chain_of_thought=\"To determine if 'Ethernity Networks Ltd' has more assets than 'Accuray Incorporated' in 2022, I need to compare their total assets for that year. Therefore, I will first query the total assets of 'Ethernity Networks Ltd' for 2022 and then do the same for 'Accuray Incorporated'. This will allow me to compare the two values directly.\", companies=['Ethernity Networks Ltd', 'Accuray Incorporated'], queries=[\"How many assets does 'Ethernity Networks Ltd' have in 2022 in dollars?\", \"How many assets does 'Accuray Incorporated' have in 2022 in dollars?\"])"
      ]
     },
     "execution_count": 46,
     "metadata": {},
     "output_type": "execute_result"
    }
   ],
   "execution_count": 46
  },
  {
   "metadata": {
    "ExecuteTime": {
     "end_time": "2024-08-29T15:31:31.612215Z",
     "start_time": "2024-08-29T15:31:24.128686Z"
    }
   },
   "cell_type": "code",
   "source": "ask_delegation_manager(\"How many assets does 'Ethernity Networks Ltd' have in 2022 in dollars?\")",
   "id": "450954825ad2cc7b",
   "outputs": [
    {
     "data": {
      "text/plain": [
       "ManagerRequest(chain_of_thought=\"To answer the question regarding the assets of 'Ethernity Networks Ltd' in 2022, I need to access the data provider concerning this specific company and ask for the relevant financial information. Herein, the query will be about the total assets it holds in 2022 in dollar value, which is a direct question about the company's financial stature in that year.\", companies=['Ethernity Networks Ltd'], queries=[\"How many assets does 'Ethernity Networks Ltd' have in 2022 in dollars?\"])"
      ]
     },
     "execution_count": 45,
     "metadata": {},
     "output_type": "execute_result"
    }
   ],
   "execution_count": 45
  },
  {
   "metadata": {
    "ExecuteTime": {
     "end_time": "2024-08-29T15:55:41.705628Z",
     "start_time": "2024-08-29T15:55:41.688011Z"
    }
   },
   "cell_type": "code",
   "source": [
    "# EXECUTION MANAGER\n",
    "\n",
    "system_prompt_execution = (\n",
    "    f\"You are an intelligent assistant tasked with answering questions based on specific company data provided in the context. \"\n",
    "    \"Also the chain of thought of the expert providing the data is given. \"\n",
    "    \"Your task is to provide a final answer to the USER_QUERY based on the data provided (CONTEXT). \\n\"\n",
    "    \n",
    "    f\"Please provide a chain of thought on how you arrived at your final answer in 'chain_of_thought', providing intermediary results. \\n\"\n",
    "    f\"Then give a final answer in 'answer' where you strictly adhere to the following guidelines: \\n {ANSWER_GUIDELINES} \\n \"\n",
    "    f\"Ensure that your answers are strictly compliant with these guidelines. Accuracy and adherence to the format are crucial. \\n\"\n",
    "    \n",
    "    \"USER_QUERY: {QUERY} \\n\"\n",
    "    \n",
    "    \"CONTEXT: {CONTEXT} \\n\"\n",
    ")\n",
    "\n",
    "class ExecutionRequest(BaseModel):\n",
    "    chain_of_thought: str\n",
    "    answer: int | str\n",
    "\n",
    "def ask_execution_manager(query, context):\n",
    "    system_prompt_execution_full = system_prompt_execution.replace(\"{QUERY}\", query).replace(\"{CONTEXT}\", context)\n",
    "    \n",
    "    print(\"# ASKING EXECUTION MANAGER: \")\n",
    "    print(\"Query:\", query)\n",
    "    print(\"Context:\", context)\n",
    "    \n",
    "    completion = client.beta.chat.completions.parse(\n",
    "        model=MODEL,\n",
    "        messages=[\n",
    "            {\"role\": \"system\", \"content\": system_prompt_execution_full},\n",
    "            {\"role\": \"user\", \"content\": query},\n",
    "        ],\n",
    "        response_format=ExecutionRequest,\n",
    "    )\n",
    "    \n",
    "    return completion.choices[0].message.parsed"
   ],
   "id": "ae5badfdd80719b5",
   "outputs": [],
   "execution_count": 74
  },
  {
   "metadata": {
    "ExecuteTime": {
     "end_time": "2024-08-29T15:55:43.532189Z",
     "start_time": "2024-08-29T15:55:43.517257Z"
    }
   },
   "cell_type": "code",
   "source": [
    "# FINAL PIPELINE\n",
    "\n",
    "def ask_question(query):\n",
    "    delegations = ask_delegation_manager(query)\n",
    "    print(\"Delegations: \\n\", delegations)\n",
    "    expert_context = {}\n",
    "    \n",
    "    for company, company_query in zip(delegations.companies, delegations.queries):\n",
    "        expert_context[company] = ask_company_expert(company + \": \" + company_query)\n",
    "    \n",
    "    final_answer = ask_execution_manager(query, str(expert_context))\n",
    "    \n",
    "    return final_answer"
   ],
   "id": "1c4c03aa88b9f80b",
   "outputs": [],
   "execution_count": 75
  },
  {
   "metadata": {
    "ExecuteTime": {
     "end_time": "2024-08-29T15:56:05.860049Z",
     "start_time": "2024-08-29T15:56:01.176173Z"
    }
   },
   "cell_type": "code",
   "source": "ask_question(\"Who is the CEO of Ethernity Networks?\") # David Levi",
   "id": "db938ef5d289790",
   "outputs": [
    {
     "name": "stdout",
     "output_type": "stream",
     "text": [
      "# ASKING DELEGATION MANAGER: \n",
      "Delegations: \n",
      " chain_of_thought='To answer the question about the CEO of Ethernity Networks, I need to access data specifically about Ethernity Networks Ltd. Thus, I will formulate a request that includes only this company. The query will focus on retrieving the current CEO of Ethernity Networks.' companies=['Ethernity Networks Ltd'] queries=['Who is the CEO of Ethernity Networks Ltd?']\n",
      "# ASKING COMPANY EXPERT\n",
      "['Ethernity Networks Ltd']\n",
      "# ASKING EXECUTION MANAGER: \n",
      "Query: Who is the CEO of Ethernity Networks?\n",
      "Context: {'Ethernity Networks Ltd': AnswerEvent(chain_of_thought='The context specifically lists the Directors of Ethernity Networks Ltd, and it clearly identifies David Levi as the Chief Executive Officer. This provides a direct answer to the question about who the CEO is.', answer='David Levi')}\n"
     ]
    },
    {
     "data": {
      "text/plain": [
       "ExecutionRequest(chain_of_thought='The context specifically lists the Directors of Ethernity Networks Ltd, and it clearly identifies David Levi as the Chief Executive Officer. This provides a direct answer to the question about who the CEO is.', answer='David Levi')"
      ]
     },
     "execution_count": 76,
     "metadata": {},
     "output_type": "execute_result"
    }
   ],
   "execution_count": 76
  },
  {
   "metadata": {
    "ExecuteTime": {
     "end_time": "2024-08-29T15:54:28.426966Z",
     "start_time": "2024-08-29T15:54:16.484185Z"
    }
   },
   "cell_type": "code",
   "source": "ask_question(\"Has 'Ethernity Networks Ltd' more liabilities than 'Accuray Incorporated' in 2022?\") # Accuray: 419,660,000$, Ethernity: 12,257,291$ -> no is correct answer",
   "id": "62f09a4e0ed9d6e3",
   "outputs": [
    {
     "name": "stdout",
     "output_type": "stream",
     "text": [
      "ASKING DELEGATION MANAGER: \n",
      "Delegations: \n",
      " chain_of_thought=\"To determine if 'Ethernity Networks Ltd' has more liabilities than 'Accuray Incorporated' in 2022, I need to gather specific financial data for both companies for that year. This involves two queries: one for the liabilities of 'Ethernity Networks Ltd' and another for 'Accuray Incorporated'. I will then compare the two values to analyze which company has higher liabilities.\" companies=['Ethernity Networks Ltd', 'Accuray Incorporated'] queries=[\"How many liabilities does 'Ethernity Networks Ltd' have in 2022 in dollars?\", \"How many liabilities does 'Accuray Incorporated' have in 2022 in dollars?\"]\n",
      "ASKING COMPANY EXPERT\n",
      "['Ethernity Networks Ltd']\n",
      "ASKING COMPANY EXPERT\n",
      "['Accuray Incorporated']\n",
      "ASKING EXECUTION MANAGER: \n",
      "Query: Has 'Ethernity Networks Ltd' more liabilities than 'Accuray Incorporated' in 2022?\n",
      "Context: {'Ethernity Networks Ltd': AnswerEvent(chain_of_thought='To find the total liabilities for Ethernity Networks Ltd in 2022, I referred to the financial statements provided for the year ended 31 December 2022. The notes indicate other current liabilities totaling 1,121,909 dollars. Since no additional liabilities were mentioned, I will assume that this comprises the total amount referenced.', answer=1121909), 'Accuray Incorporated': AnswerEvent(chain_of_thought='From the financial statements of Accuray Incorporated, the total liabilities for the year ended June 30, 2022, is provided as 419,660 (in thousands). To convert from thousands to dollars, multiply by 1,000. Thus, the total liabilities in dollars for 2022 is calculated as follows: 419660 * 1000 = 419660000.', answer=419660000)}\n"
     ]
    },
    {
     "data": {
      "text/plain": [
       "ExecutionRequest(chain_of_thought='I need to compare the total liabilities for both companies in 2022. From the data, Ethernity Networks Ltd has total liabilities of 1,121,909 dollars. For Accuray Incorporated, the total liabilities calculated from thousands is 419,660,000 dollars. Now, comparing the two figures: 1,121,909 is significantly less than 419,660,000. Therefore, Ethernity Networks Ltd does not have more liabilities than Accuray Incorporated.', answer='no')"
      ]
     },
     "execution_count": 71,
     "metadata": {},
     "output_type": "execute_result"
    }
   ],
   "execution_count": 71
  },
  {
   "metadata": {},
   "cell_type": "markdown",
   "source": "## Inference with chain (old)",
   "id": "a72c0743a280a392"
  },
  {
   "metadata": {},
   "cell_type": "code",
   "outputs": [],
   "execution_count": 7,
   "source": [
    "# Create vector store\n",
    "# https://python.langchain.com/v0.1/docs/modules/data_connection/retrievers/vectorstore/\n",
    "# Load documents from the specified folder\n",
    "documents = load_documents_from_folder(FOLDER_PATH, df_sample.sha1.to_list())\n",
    "\n",
    "text_splitter = RecursiveCharacterTextSplitter(chunk_size=1000, chunk_overlap=100) # TODO more sophisticated\n",
    "texts = text_splitter.split_documents(documents)\n",
    "\n",
    "if len(texts) == 0:\n",
    "    raise ValueError(\"No text found in the specified folder\")"
   ],
   "id": "81ae7475c4724d33"
  },
  {
   "metadata": {},
   "cell_type": "code",
   "outputs": [],
   "execution_count": 8,
   "source": [
    "embeddings = OpenAIEmbeddings() # deprecated?\n",
    "db = FAISS.from_documents(texts, embeddings)\n",
    "retriever = db.as_retriever()"
   ],
   "id": "17ed60cef6f0728b"
  },
  {
   "metadata": {},
   "cell_type": "code",
   "outputs": [],
   "execution_count": 54,
   "source": [
    "# Store vector database\n",
    "# with open(\"data/first_sample_db_3\", \"wb\") as f:\n",
    "#     pickle.dump(db.serialize_to_bytes(), f)"
   ],
   "id": "679bcdd960449594"
  },
  {
   "metadata": {},
   "cell_type": "code",
   "outputs": [],
   "execution_count": 8,
   "source": [
    "# Load vector database\n",
    "# with open(\"data/vector_db_uni\", \"rb\") as f:\n",
    "#     db_bytes = pickle.load(f)\n",
    "#     db = FAISS.deserialize_from_bytes(db_bytes, OpenAIEmbeddings(),\n",
    "#                                       allow_dangerous_deserialization=True)\n",
    "#     retriever = db.as_retriever()"
   ],
   "id": "c253bf0a4f5bd84e"
  },
  {
   "metadata": {
    "ExecuteTime": {
     "end_time": "2024-08-29T12:18:15.355338Z",
     "start_time": "2024-08-29T12:18:15.330580Z"
    }
   },
   "cell_type": "code",
   "source": [
    "llm = ChatOpenAI(temperature=0)\n",
    "# llm = llm.bind(logprobs=True, top_logprobs=3)\n",
    "# could try local models as well\n",
    "\n",
    "system_prompt_2 = (\n",
    "    f\"You are an intelligent assistant tasked with answering questions based on specific company data provided in the context. \"\n",
    "    f\"Please provide a chain of thought on how you arrived at your final answer in 'chain_of_thought'. \\n\"\n",
    "    f\"Then give a final answer in 'answer' where you strictly adhere to the following guidelines: \\n {ANSWER_GUIDELINES} \\n \"\n",
    "    f\"Ensure that your answers are strictly compliant with these guidelines. Accuracy and adherence to the format are crucial. \\n\"\n",
    "    \n",
    "    # f\"Your primary task is to accurately identify and extract specific financial metrics, ratios, and counts, even when synonymous \"\n",
    "    # f\"or contextually similar terms are used. Here is some useful information about these: \\n {fin_info}\"\n",
    "    \n",
    "    \"Context: \\n {context}\"\n",
    ")\n",
    "\n",
    "prompt = ChatPromptTemplate.from_messages(\n",
    "    [\n",
    "        (\"system\", system_prompt_2),\n",
    "        (\"human\", \"{input}\"),\n",
    "    ]\n",
    ")\n",
    "\n",
    "question_answer_chain = create_stuff_documents_chain(llm, prompt)\n",
    "\n",
    "\n",
    "# Function to ask a question\n",
    "def ask_question(query):\n",
    "    # retriever = get_retriever(query)\n",
    "    \n",
    "    chain = create_retrieval_chain(retriever, question_answer_chain)\n",
    "    \n",
    "    response = chain.invoke({\"input\": query})\n",
    "    answer = response[\"answer\"]\n",
    "    print(f\"Question: {query}\\nAnswer: {answer}\")"
   ],
   "id": "a037ab4cbb4f07dc",
   "outputs": [],
   "execution_count": 31
  },
  {
   "metadata": {},
   "cell_type": "markdown",
   "source": [
    "```python\n",
    "    ('What was the {fin_metric} of \"{company}\" in {time_frame}?', \"number\"),\n",
    "    ('How much did \"{company}\" spend on {focus_area} in {time_frame}?', \"number\"),\n",
    "    ('What was the {ratio_or_metric} of \"{company}\" in {time_frame}?', \"number\"),\n",
    "    ('How many {count_metric} did \"{company}\" have in {time_frame}?', \"number\"),\n",
    "    ('Which company had a higher {fin_metric}: \"{company1}\", \"{company2}\" or \"{company3}\", in {time_frame}?', \"name\"),\n",
    "    ('Did \"{company1}\" have a greater {ratio_or_metric} than \"{company2}\" in {time_frame}?', \"boolean\"),\n",
    "    ('How much more did \"{company1}\" spend on {focus_area} compared to \"{company2}\" in {time_frame}?', \"number\"),\n",
    "    ('Who is the {role} in the company \"{company}\"?', \"name\"),\n",
    "```"
   ],
   "id": "9cf20ac7a4db1af4"
  },
  {
   "metadata": {},
   "cell_type": "code",
   "outputs": [],
   "execution_count": null,
   "source": [
    "# multiple agents\n",
    "# retriever per company\n",
    "# -> first check if we need several processes to answer the questions (e.g. check revenues of 3 companies, then use these values with a final agent)\n",
    "# chain of though: output json with chain of thought and final answer"
   ],
   "id": "70488b37bdd0937c"
  },
  {
   "metadata": {
    "ExecuteTime": {
     "end_time": "2024-08-29T12:17:04.097388Z",
     "start_time": "2024-08-29T12:17:02.236027Z"
    }
   },
   "cell_type": "code",
   "source": [
    "# Ask a question\n",
    "ask_question(\"How many assets does 'Accuray Incorporated' have in 2022 in dollars?\") # 472.849 "
   ],
   "id": "dd1680f262dfb880",
   "outputs": [
    {
     "name": "stdout",
     "output_type": "stream",
     "text": [
      "Question: How many assets does 'Accuray Incorporated' have in 2022 in dollars?\n",
      "Answer: chain_of_thought: \n",
      "1. Look for the Consolidated Balance Sheets section to find the total assets for Accuray Incorporated in 2022.\n",
      "2. Identify the value listed under \"Total current assets\" and any other asset categories to calculate the total assets for the company in 2022.\n",
      "\n",
      "answer: 352890\n"
     ]
    }
   ],
   "execution_count": 28
  },
  {
   "metadata": {
    "ExecuteTime": {
     "end_time": "2024-08-29T12:17:43.430829Z",
     "start_time": "2024-08-29T12:17:38.923914Z"
    }
   },
   "cell_type": "code",
   "source": "ask_question(\"How many assets does 'Accuray Incorporated' have in 2021 in dollars?\") # 480.098",
   "id": "218a06bbe2a85c3",
   "outputs": [
    {
     "name": "stdout",
     "output_type": "stream",
     "text": [
      "Question: How many assets does 'Accuray Incorporated' have in 2021 in dollars?\n",
      "Answer: Chain of Thought:\n",
      "1. Look for the Consolidated Balance Sheets section.\n",
      "2. Find the total assets value for 'Accuray Incorporated' for June 30, 2021.\n",
      "\n",
      "Answer:\n",
      "352773\n"
     ]
    }
   ],
   "execution_count": 29
  },
  {
   "metadata": {
    "ExecuteTime": {
     "end_time": "2024-08-29T12:18:24.209027Z",
     "start_time": "2024-08-29T12:18:19.411979Z"
    }
   },
   "cell_type": "code",
   "source": "ask_question(\"How many liabilities does 'Accuray Incorporated' have in 2021 in dollars?\") # 411.258",
   "id": "b4ebc4eb695669b2",
   "outputs": [
    {
     "name": "stdout",
     "output_type": "stream",
     "text": [
      "Question: How many liabilities does 'Accuray Incorporated' have in 2021 in dollars?\n",
      "Answer: Chain of Thought:\n",
      "1. Liabilities can be calculated by subtracting total assets from total equity, as liabilities = assets - equity.\n",
      "2. The total assets for 2021 are not provided directly but can be calculated by summing up the current assets and other assets like property, equipment, etc.\n",
      "3. The total equity for 2021 is not directly given but can be calculated by adding common stock, additional paid-in capital, accumulated other comprehensive income (loss), and accumulated deficit from the stockholders' equity statement.\n",
      "4. Once total assets and total equity are calculated, liabilities can be determined.\n",
      "\n",
      "Answer:\n",
      "$378,000\n",
      "\n",
      "Chain of Thought:\n",
      "- Total assets for 2021 are calculated as $350,890 (current assets) + $12,685 (property and equipment) + $13,879 (investment in joint venture) + $16,798 (operating lease right-of-use assets) + $57,840 (goodwill) + $250 (intangible assets) = $452,342.\n",
      "- Total equity for 2021 is calculated as $89 (common stock) + $535,332 (additional paid-in capital) - $10 (accumulated other comprehensive income (loss)) - $485,540 (accumulated deficit) = $49,871.\n",
      "- Liabilities = Total assets - Total equity = $452,342 - $49,871 = $402,471.\n"
     ]
    }
   ],
   "execution_count": 32
  },
  {
   "metadata": {
    "ExecuteTime": {
     "end_time": "2024-08-29T09:30:09.288924Z",
     "start_time": "2024-08-29T09:30:08.407126Z"
    }
   },
   "cell_type": "code",
   "source": "ask_question(\"How many stores did 'Strike Energy Limited' have in the end of fiscal year 2021?\") # n/a",
   "id": "e7203ba338fdfc8f",
   "outputs": [
    {
     "name": "stdout",
     "output_type": "stream",
     "text": [
      "Question: How many stores did 'Strike Energy Limited' have in the end of fiscal year 2021?\n",
      "Answer: n/a\n"
     ]
    }
   ],
   "execution_count": 78
  },
  {
   "metadata": {
    "ExecuteTime": {
     "end_time": "2024-08-29T09:32:07.925495Z",
     "start_time": "2024-08-29T09:32:05.912768Z"
    }
   },
   "cell_type": "code",
   "source": [
    "# Total R&D Expenses of Ethernity Networks\n",
    "ask_question(\"What are the total R&D expenses of 'Ethernity Networks' in 2021?\") # 5 550 912\n",
    "\n",
    "ask_question(\"What are the total R&D expenses of 'Ethernity Networks' in 2022?\") # 6 618 795"
   ],
   "id": "4f3d945ab69d9dc4",
   "outputs": [
    {
     "name": "stdout",
     "output_type": "stream",
     "text": [
      "Question: What are the total R&D expenses of 'Ethernity Networks' in 2021?\n",
      "Answer: 5550912\n",
      "Question: What are the total R&D expenses of 'Ethernity Networks' in 2022?\n",
      "Answer: 6618795\n"
     ]
    }
   ],
   "execution_count": 83
  }
 ],
 "metadata": {
  "kernelspec": {
   "display_name": "Python 3",
   "language": "python",
   "name": "python3"
  },
  "language_info": {
   "codemirror_mode": {
    "name": "ipython",
    "version": 2
   },
   "file_extension": ".py",
   "mimetype": "text/x-python",
   "name": "python",
   "nbconvert_exporter": "python",
   "pygments_lexer": "ipython2",
   "version": "2.7.6"
  }
 },
 "nbformat": 4,
 "nbformat_minor": 5
}
